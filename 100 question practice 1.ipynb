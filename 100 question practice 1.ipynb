{
 "cells": [
  {
   "cell_type": "code",
   "execution_count": 83,
   "id": "5a2615bd",
   "metadata": {},
   "outputs": [],
   "source": [
    "A = [[2,3,4],[5,6,7]]"
   ]
  },
  {
   "cell_type": "code",
   "execution_count": 96,
   "id": "347eafcc",
   "metadata": {},
   "outputs": [],
   "source": [
    "\n",
    "a = list(zip(*A))\n",
    "        \n",
    "    "
   ]
  },
  {
   "cell_type": "code",
   "execution_count": 98,
   "id": "0ec052f1",
   "metadata": {},
   "outputs": [
    {
     "data": {
      "text/plain": [
       "[[2, 5], [3, 6], [4, 7]]"
      ]
     },
     "execution_count": 98,
     "metadata": {},
     "output_type": "execute_result"
    }
   ],
   "source": [
    "[list(x) for x in a]"
   ]
  },
  {
   "cell_type": "code",
   "execution_count": null,
   "id": "0dc05caa",
   "metadata": {},
   "outputs": [],
   "source": []
  },
  {
   "cell_type": "code",
   "execution_count": 85,
   "id": "b2969094",
   "metadata": {},
   "outputs": [],
   "source": [
    "import numpy as np"
   ]
  },
  {
   "cell_type": "code",
   "execution_count": 86,
   "id": "351e37cc",
   "metadata": {},
   "outputs": [
    {
     "data": {
      "text/plain": [
       "array([[2, 5],\n",
       "       [3, 6],\n",
       "       [4, 7]])"
      ]
     },
     "execution_count": 86,
     "metadata": {},
     "output_type": "execute_result"
    }
   ],
   "source": [
    "np.transpose(A)"
   ]
  },
  {
   "cell_type": "code",
   "execution_count": 57,
   "id": "3657844b",
   "metadata": {},
   "outputs": [
    {
     "data": {
      "text/plain": [
       "[2, 3, 4]"
      ]
     },
     "execution_count": 57,
     "metadata": {},
     "output_type": "execute_result"
    }
   ],
   "source": [
    "trans(A)"
   ]
  },
  {
   "cell_type": "code",
   "execution_count": 71,
   "id": "fed1a86d",
   "metadata": {},
   "outputs": [
    {
     "name": "stdout",
     "output_type": "stream",
     "text": [
      "enter any number:1\n"
     ]
    }
   ],
   "source": [
    "a = int(input(\"enter any number:\",))\n",
    "\n"
   ]
  },
  {
   "cell_type": "code",
   "execution_count": 75,
   "id": "60a9ad69",
   "metadata": {},
   "outputs": [],
   "source": [
    "def prime_check(n):\n",
    "    for i in range(2,n):\n",
    "        if n%i==0:\n",
    "            return True\n",
    "        else:\n",
    "            False\n",
    "            \n",
    "prime_check(a)"
   ]
  },
  {
   "cell_type": "code",
   "execution_count": 73,
   "id": "e10c29c7",
   "metadata": {},
   "outputs": [],
   "source": [
    "n = 5\n",
    "\n",
    "\n",
    "def prime_check(n):\n",
    "    is_prime = True\n",
    "    \n",
    "                "
   ]
  },
  {
   "cell_type": "code",
   "execution_count": 76,
   "id": "c2182b6b",
   "metadata": {},
   "outputs": [],
   "source": [
    "prime_check(n)"
   ]
  },
  {
   "cell_type": "code",
   "execution_count": 81,
   "id": "e80d8283",
   "metadata": {},
   "outputs": [],
   "source": [
    "n = 1\n",
    "def is_prime(n):\n",
    "  for i in range(2,n):\n",
    "    if (n%i) == 0:\n",
    "      return False\n",
    "  return True"
   ]
  },
  {
   "cell_type": "code",
   "execution_count": 82,
   "id": "78b82d08",
   "metadata": {},
   "outputs": [
    {
     "data": {
      "text/plain": [
       "True"
      ]
     },
     "execution_count": 82,
     "metadata": {},
     "output_type": "execute_result"
    }
   ],
   "source": [
    "is_prime(n)"
   ]
  },
  {
   "cell_type": "code",
   "execution_count": 99,
   "id": "c74b24a6",
   "metadata": {},
   "outputs": [],
   "source": [
    "A = [[2,3,4],[5,6,7]]"
   ]
  },
  {
   "cell_type": "code",
   "execution_count": 104,
   "id": "b94809a1",
   "metadata": {},
   "outputs": [
    {
     "data": {
      "text/plain": [
       "[(2, 5), (3, 6), (4, 7)]"
      ]
     },
     "execution_count": 104,
     "metadata": {},
     "output_type": "execute_result"
    }
   ],
   "source": [
    "list(zip(*A))"
   ]
  },
  {
   "cell_type": "code",
   "execution_count": 106,
   "id": "51ef9677",
   "metadata": {},
   "outputs": [
    {
     "data": {
      "text/plain": [
       "[[2, 5], [3, 6], [4, 7]]"
      ]
     },
     "execution_count": 106,
     "metadata": {},
     "output_type": "execute_result"
    }
   ],
   "source": [
    "[list(x) for x in zip(*A)]"
   ]
  },
  {
   "cell_type": "code",
   "execution_count": 117,
   "id": "3b031699",
   "metadata": {},
   "outputs": [],
   "source": [
    "n = 6\n",
    "\n",
    "\n",
    "def prim_check(n):\n",
    "    is_prime = True\n",
    "    if n>0:\n",
    "        for i in range(2,n):\n",
    "            if n%i==0:\n",
    "                break\n",
    "                is_prime = False\n",
    "    return is_prime\n"
   ]
  },
  {
   "cell_type": "code",
   "execution_count": 118,
   "id": "82839fc8",
   "metadata": {},
   "outputs": [
    {
     "data": {
      "text/plain": [
       "True"
      ]
     },
     "execution_count": 118,
     "metadata": {},
     "output_type": "execute_result"
    }
   ],
   "source": [
    "prim_check(n)"
   ]
  },
  {
   "cell_type": "code",
   "execution_count": null,
   "id": "4c094b22",
   "metadata": {},
   "outputs": [],
   "source": [
    "Question:\n",
    "Write a program which will find all such numbers which are divisible by 7 but are not a multiple of 5,\n",
    "between 2000 and 3200 (both included).\n",
    "The numbers obtained should be printed in a comma-separated sequence on a single line."
   ]
  },
  {
   "cell_type": "code",
   "execution_count": 11,
   "id": "5552cc1c",
   "metadata": {},
   "outputs": [
    {
     "name": "stdout",
     "output_type": "stream",
     "text": [
      "2002,2009,2016,2023,2037,2044,2051,2058,2072,2079,2086,2093,2107,2114,2121,2128,2142,2149,2156,2163,2177,2184,2191,2198,2212,2219,2226,2233,2247,2254,2261,2268,2282,2289,2296,2303,2317,2324,2331,2338,2352,2359,2366,2373,2387,2394,2401,2408,2422,2429,2436,2443,2457,2464,2471,2478,2492,2499,2506,2513,2527,2534,2541,2548,2562,2569,2576,2583,2597,2604,2611,2618,2632,2639,2646,2653,2667,2674,2681,2688,2702,2709,2716,2723,2737,2744,2751,2758,2772,2779,2786,2793,2807,2814,2821,2828,2842,2849,2856,2863,2877,2884,2891,2898,2912,2919,2926,2933,2947,2954,2961,2968,2982,2989,2996,3003,3017,3024,3031,3038,3052,3059,3066,3073,3087,3094,3101,3108,3122,3129,3136,3143,3157,3164,3171,3178,3192,3199\n"
     ]
    }
   ],
   "source": [
    "l = []\n",
    "for i in range(2000,3201):\n",
    "    if i%7==0 and i%5!=0:\n",
    "        l.append(str(i))\n",
    "print(\",\".join(l) )   "
   ]
  },
  {
   "cell_type": "code",
   "execution_count": 7,
   "id": "33d0a47f",
   "metadata": {},
   "outputs": [
    {
     "name": "stdout",
     "output_type": "stream",
     "text": [
      "2002,2009,2016,2023,2037,2044,2051,2058,2072,2079,2086,2093,2107,2114,2121,2128,2142,2149,2156,2163,2177,2184,2191,2198,2212,2219,2226,2233,2247,2254,2261,2268,2282,2289,2296,2303,2317,2324,2331,2338,2352,2359,2366,2373,2387,2394,2401,2408,2422,2429,2436,2443,2457,2464,2471,2478,2492,2499,2506,2513,2527,2534,2541,2548,2562,2569,2576,2583,2597,2604,2611,2618,2632,2639,2646,2653,2667,2674,2681,2688,2702,2709,2716,2723,2737,2744,2751,2758,2772,2779,2786,2793,2807,2814,2821,2828,2842,2849,2856,2863,2877,2884,2891,2898,2912,2919,2926,2933,2947,2954,2961,2968,2982,2989,2996,3003,3017,3024,3031,3038,3052,3059,3066,3073,3087,3094,3101,3108,3122,3129,3136,3143,3157,3164,3171,3178,3192,3199\n"
     ]
    }
   ],
   "source": [
    "l=[]\n",
    "for i in range(2000, 3201):\n",
    "    if (i%7==0) and (i%5!=0):\n",
    "        l.append(str(i))\n",
    "\n",
    "print(','.join(l))"
   ]
  },
  {
   "cell_type": "code",
   "execution_count": null,
   "id": "9c25b1ee",
   "metadata": {},
   "outputs": [],
   "source": [
    "Question 2\n",
    "Level 1\n",
    "\n",
    "Question:\n",
    "Write a program which can compute the factorial of a given numbers.\n",
    "The results should be printed in a comma-separated sequence on a single line.\n",
    "Suppose the following input is supplied to the program:\n",
    "8\n",
    "Then, the output should be:\n",
    "40320"
   ]
  },
  {
   "cell_type": "code",
   "execution_count": 12,
   "id": "b465c8f6",
   "metadata": {},
   "outputs": [
    {
     "data": {
      "text/plain": [
       "40320"
      ]
     },
     "execution_count": 12,
     "metadata": {},
     "output_type": "execute_result"
    }
   ],
   "source": [
    "8*7*6*5*4*3*2*1"
   ]
  },
  {
   "cell_type": "code",
   "execution_count": 26,
   "id": "dfd53cf6",
   "metadata": {},
   "outputs": [],
   "source": [
    "\n",
    "def fac(n):\n",
    "    product = 1\n",
    "    if n<0:\n",
    "        print(\"we can not commupte the factorial of a negative number\")\n",
    "    elif n==0:\n",
    "        print('the factorial of 0 is 1')\n",
    "    else:\n",
    "        for i in range(1,n+1):\n",
    "            product*=i\n",
    "        return product\n",
    "\n",
    "\n"
   ]
  },
  {
   "cell_type": "code",
   "execution_count": 27,
   "id": "05137ea4",
   "metadata": {},
   "outputs": [],
   "source": [
    "n = 8"
   ]
  },
  {
   "cell_type": "code",
   "execution_count": 31,
   "id": "cca7f29c",
   "metadata": {},
   "outputs": [
    {
     "name": "stdout",
     "output_type": "stream",
     "text": [
      "the factorial of 0 is 1\n"
     ]
    }
   ],
   "source": [
    "fac(0)"
   ]
  },
  {
   "cell_type": "code",
   "execution_count": 35,
   "id": "37d01889",
   "metadata": {},
   "outputs": [
    {
     "name": "stdout",
     "output_type": "stream",
     "text": [
      "5\n",
      "120\n"
     ]
    }
   ],
   "source": [
    "def fact(x):\n",
    "    if x == 0:\n",
    "        return 1\n",
    "    return x * fact(x - 1)\n",
    "\n",
    "x=int(input())\n",
    "print(fact(x))"
   ]
  },
  {
   "cell_type": "code",
   "execution_count": null,
   "id": "3da3c953",
   "metadata": {},
   "outputs": [],
   "source": [
    "Question:\n",
    "With a given integral number n, write a program to generate a dictionary that contains (i, i*i) such that is an integral number between 1 and n (both included). and then the program should print the dictionary.\n",
    "Suppose the following input is supplied to the program:\n",
    "8\n",
    "Then, the output should be:\n",
    "{1: 1, 2: 4, 3: 9, 4: 16, 5: 25, 6: 36, 7: 49, 8: 64}"
   ]
  },
  {
   "cell_type": "code",
   "execution_count": 55,
   "id": "27e44045",
   "metadata": {},
   "outputs": [
    {
     "name": "stdout",
     "output_type": "stream",
     "text": [
      "enter any number:8\n"
     ]
    }
   ],
   "source": [
    "num = int(input(\"enter any number:\"))"
   ]
  },
  {
   "cell_type": "code",
   "execution_count": 56,
   "id": "685f01cb",
   "metadata": {},
   "outputs": [],
   "source": [
    "mydict = {}\n",
    "def output(n):\n",
    "    if n>0:\n",
    "        for i in range(1,n+1):\n",
    "            if i not in mydict:\n",
    "                mydict[i] = i*i\n",
    "    else:\n",
    "        print('put some value')\n",
    "                \n",
    "    return mydict\n",
    "        \n",
    "    "
   ]
  },
  {
   "cell_type": "code",
   "execution_count": 57,
   "id": "b614e307",
   "metadata": {},
   "outputs": [
    {
     "data": {
      "text/plain": [
       "{1: 1, 2: 4, 3: 9, 4: 16, 5: 25, 6: 36, 7: 49, 8: 64}"
      ]
     },
     "execution_count": 57,
     "metadata": {},
     "output_type": "execute_result"
    }
   ],
   "source": [
    "output(num)"
   ]
  },
  {
   "cell_type": "code",
   "execution_count": null,
   "id": "5b79dd17",
   "metadata": {},
   "outputs": [],
   "source": [
    "Question:\n",
    "Write a program which accepts a sequence of comma-separated numbers from console and generate a list and a tuple which contains every number.\n",
    "Suppose the following input is supplied to the program:\n",
    "34,67,55,33,12,98\n",
    "Then, the output should be:\n",
    "['34', '67', '55', '33', '12', '98']\n",
    "('34', '67', '55', '33', '12', '98')"
   ]
  },
  {
   "cell_type": "code",
   "execution_count": null,
   "id": "15b9b82a",
   "metadata": {},
   "outputs": [],
   "source": [
    "34,67,55,33,12,98"
   ]
  },
  {
   "cell_type": "code",
   "execution_count": 60,
   "id": "58f8c799",
   "metadata": {},
   "outputs": [
    {
     "name": "stdout",
     "output_type": "stream",
     "text": [
      "enter seq of numbers:34,67,55,33,12,98\n"
     ]
    }
   ],
   "source": [
    "str1 = input(\"enter seq of numbers:\", )"
   ]
  },
  {
   "cell_type": "code",
   "execution_count": 78,
   "id": "064d04dd",
   "metadata": {},
   "outputs": [],
   "source": [
    "l1 = str1.split(\",\")"
   ]
  },
  {
   "cell_type": "code",
   "execution_count": 80,
   "id": "7c19fe16",
   "metadata": {},
   "outputs": [],
   "source": [
    "t1 = tuple(l1)"
   ]
  },
  {
   "cell_type": "code",
   "execution_count": 81,
   "id": "f86c49d0",
   "metadata": {},
   "outputs": [
    {
     "name": "stdout",
     "output_type": "stream",
     "text": [
      "['34', '67', '55', '33', '12', '98']\n"
     ]
    }
   ],
   "source": [
    "print(l1)"
   ]
  },
  {
   "cell_type": "code",
   "execution_count": 82,
   "id": "56d9165e",
   "metadata": {},
   "outputs": [
    {
     "name": "stdout",
     "output_type": "stream",
     "text": [
      "('34', '67', '55', '33', '12', '98')\n"
     ]
    }
   ],
   "source": [
    "print(t1)"
   ]
  },
  {
   "cell_type": "code",
   "execution_count": null,
   "id": "3d28ee7f",
   "metadata": {},
   "outputs": [],
   "source": [
    "Question 5\n",
    "Level 1\n",
    "\n",
    "Question:\n",
    "Define a class which has at least two methods:\n",
    "getString: to get a string from console input\n",
    "printString: to print the string in upper case.\n",
    "Also please include simple test function to test the class methods."
   ]
  },
  {
   "cell_type": "code",
   "execution_count": 91,
   "id": "0cfa3ba9",
   "metadata": {},
   "outputs": [],
   "source": [
    "class Bank:\n",
    "    def __init__(self):\n",
    "        self.s1 = ''\n",
    "\n",
    "    \n",
    "    def getString(self):\n",
    "        self.s1 = input(\"Enter any string:\", )\n",
    "        \n",
    "    def printString(self):\n",
    "        return self.s1.upper()\n",
    "        "
   ]
  },
  {
   "cell_type": "code",
   "execution_count": 92,
   "id": "9cbf57a8",
   "metadata": {},
   "outputs": [],
   "source": [
    "bob = Bank()"
   ]
  },
  {
   "cell_type": "code",
   "execution_count": 93,
   "id": "d4f13738",
   "metadata": {},
   "outputs": [
    {
     "name": "stdout",
     "output_type": "stream",
     "text": [
      "Enter any string:ertyuio sdfghjk cvbnm\n"
     ]
    }
   ],
   "source": [
    "bob.getString()"
   ]
  },
  {
   "cell_type": "code",
   "execution_count": 94,
   "id": "3ef3312a",
   "metadata": {},
   "outputs": [
    {
     "data": {
      "text/plain": [
       "'ERTYUIO SDFGHJK CVBNM'"
      ]
     },
     "execution_count": 94,
     "metadata": {},
     "output_type": "execute_result"
    }
   ],
   "source": [
    "bob.printString()"
   ]
  },
  {
   "cell_type": "code",
   "execution_count": 95,
   "id": "954d0cb7",
   "metadata": {},
   "outputs": [],
   "source": [
    "#6\n"
   ]
  },
  {
   "cell_type": "code",
   "execution_count": null,
   "id": "71a34ab4",
   "metadata": {},
   "outputs": [],
   "source": [
    "Write a program that calculates and prints the value according to the given formula:\n",
    "Q = Square root of [(2 * C * D)/H]\n",
    "Following are the fixed values of C and H:\n",
    "C is 50. H is 30.\n",
    "D is the variable whose values should be input to your program in a comma-separated sequence.\n",
    "Example\n",
    "Let us assume the following comma separated input sequence is given to the program:\n",
    "100,150,180\n",
    "The output of the program should be:\n",
    "18,22,24"
   ]
  },
  {
   "cell_type": "code",
   "execution_count": 66,
   "id": "86412952",
   "metadata": {},
   "outputs": [],
   "source": [
    "import math\n",
    "\n",
    "def programmee(c,d,items):\n",
    "    value = []\n",
    "    for d in items:\n",
    "        value.append(str(int(round(math.sqrt(2*c*float(d)/h)))))\n",
    "    return \" \".join(value)\n",
    "         \n",
    "         "
   ]
  },
  {
   "cell_type": "code",
   "execution_count": 68,
   "id": "d0675175",
   "metadata": {},
   "outputs": [
    {
     "name": "stdout",
     "output_type": "stream",
     "text": [
      "100,150,180\n"
     ]
    }
   ],
   "source": [
    "c = 50\n",
    "h = 30\n",
    "\n",
    "items=[x for x in input().split(',')]"
   ]
  },
  {
   "cell_type": "code",
   "execution_count": 69,
   "id": "f2cdf3c2",
   "metadata": {},
   "outputs": [
    {
     "data": {
      "text/plain": [
       "'18 22 24'"
      ]
     },
     "execution_count": 69,
     "metadata": {},
     "output_type": "execute_result"
    }
   ],
   "source": [
    "programmee(c,h,items)"
   ]
  },
  {
   "cell_type": "code",
   "execution_count": 71,
   "id": "b5bd318e",
   "metadata": {},
   "outputs": [
    {
     "name": "stdout",
     "output_type": "stream",
     "text": [
      "100,150,180\n"
     ]
    }
   ],
   "source": [
    "c = 50\n",
    "h = 30\n",
    "\n",
    "items = [i for i in input().split(\",\")]"
   ]
  },
  {
   "cell_type": "code",
   "execution_count": 80,
   "id": "081c623f",
   "metadata": {},
   "outputs": [],
   "source": [
    "def programmeeee(c,h,items):\n",
    "    newlst = []\n",
    "    for d in items:\n",
    "        newlst.append(str(round(math.sqrt((2 * c * float(d))/h))))\n",
    "    return \" \".join(newlst)"
   ]
  },
  {
   "cell_type": "code",
   "execution_count": 81,
   "id": "b9494da9",
   "metadata": {},
   "outputs": [
    {
     "data": {
      "text/plain": [
       "'18 22 24'"
      ]
     },
     "execution_count": 81,
     "metadata": {},
     "output_type": "execute_result"
    }
   ],
   "source": [
    "programmeeee(c,h,items)"
   ]
  },
  {
   "cell_type": "code",
   "execution_count": null,
   "id": "8be4ce89",
   "metadata": {},
   "outputs": [],
   "source": [
    "Question:\n",
    "Write a program which takes 2 digits, X,Y as input and generates a 2-dimensional array. The element value in the i-th row and j-th column of the array should be i*j.\n",
    "Note: i=0,1.., X-1; j=0,1,¡­Y-1.\n",
    "Example\n",
    "Suppose the following inputs are given to the program:\n",
    "3,5\n",
    "Then, the output of the program should be:\n",
    "[[0, 0, 0, 0, 0], [0, 1, 2, 3, 4], [0, 2, 4, 6, 8]] "
   ]
  },
  {
   "cell_type": "code",
   "execution_count": 84,
   "id": "dca69b14",
   "metadata": {},
   "outputs": [
    {
     "name": "stdout",
     "output_type": "stream",
     "text": [
      "3,5\n"
     ]
    }
   ],
   "source": [
    "dimenstions = [int(i) for i in input().split(\",\")]"
   ]
  },
  {
   "cell_type": "code",
   "execution_count": 90,
   "id": "ac25ac00",
   "metadata": {},
   "outputs": [],
   "source": [
    "rownum = dimenstions[0]"
   ]
  },
  {
   "cell_type": "code",
   "execution_count": 91,
   "id": "572d81a8",
   "metadata": {},
   "outputs": [],
   "source": [
    "colnum = dimenstions[1]"
   ]
  },
  {
   "cell_type": "code",
   "execution_count": 93,
   "id": "2b3126ca",
   "metadata": {},
   "outputs": [],
   "source": [
    "multilst = [[0 for j in range(colnum)] for i in range(rownum)]"
   ]
  },
  {
   "cell_type": "code",
   "execution_count": 94,
   "id": "3cf38fdf",
   "metadata": {},
   "outputs": [],
   "source": [
    "for i in range(rownum):\n",
    "    for j in range(colnum):\n",
    "        multilst[i][j] = i*j"
   ]
  },
  {
   "cell_type": "code",
   "execution_count": 96,
   "id": "bba32133",
   "metadata": {},
   "outputs": [
    {
     "name": "stdout",
     "output_type": "stream",
     "text": [
      "[[0, 0, 0, 0, 0], [0, 1, 2, 3, 4], [0, 2, 4, 6, 8]]\n"
     ]
    }
   ],
   "source": [
    "print(multilst)"
   ]
  },
  {
   "cell_type": "code",
   "execution_count": null,
   "id": "128de8c6",
   "metadata": {},
   "outputs": [],
   "source": [
    "Question:\n",
    "Write a program that accepts a comma separated sequence of words as input and prints the words in a comma-separated sequence after sorting them alphabetically.\n",
    "Suppose the following input is supplied to the program:\n",
    "without,hello,bag,world\n",
    "Then, the output should be:\n",
    "bag,hello,without,world"
   ]
  },
  {
   "cell_type": "code",
   "execution_count": 99,
   "id": "644d0a85",
   "metadata": {},
   "outputs": [
    {
     "name": "stdout",
     "output_type": "stream",
     "text": [
      "without,hello,bag,world\n"
     ]
    }
   ],
   "source": [
    "items = [i for i in input().split(\",\")]"
   ]
  },
  {
   "cell_type": "code",
   "execution_count": 101,
   "id": "f54f3540",
   "metadata": {},
   "outputs": [
    {
     "data": {
      "text/plain": [
       "'bag hello without world'"
      ]
     },
     "execution_count": 101,
     "metadata": {},
     "output_type": "execute_result"
    }
   ],
   "source": [
    "\" \".join(sorted(items))"
   ]
  },
  {
   "cell_type": "code",
   "execution_count": 103,
   "id": "bbfe1d06",
   "metadata": {},
   "outputs": [],
   "source": [
    "items.sort()"
   ]
  },
  {
   "cell_type": "code",
   "execution_count": 105,
   "id": "d32ea9cb",
   "metadata": {},
   "outputs": [
    {
     "data": {
      "text/plain": [
       "'bag hello without world'"
      ]
     },
     "execution_count": 105,
     "metadata": {},
     "output_type": "execute_result"
    }
   ],
   "source": [
    "\" \".join(items)"
   ]
  },
  {
   "cell_type": "code",
   "execution_count": null,
   "id": "441919cd",
   "metadata": {},
   "outputs": [],
   "source": [
    "Question 9\n",
    "Level 2\n",
    "\n",
    "Question£º\n",
    "Write a program that accepts sequence of lines as input and prints the lines after making all characters in the sentence capitalized.\n",
    "Suppose the following input is supplied to the program:\n",
    "Hello world\n",
    "Practice makes perfect\n",
    "Then, the output should be:\n",
    "HELLO WORLD\n",
    "PRACTICE MAKES PERFECT"
   ]
  },
  {
   "cell_type": "code",
   "execution_count": 106,
   "id": "41aaa78d",
   "metadata": {},
   "outputs": [],
   "source": [
    "a = \"lawrahK namA\""
   ]
  },
  {
   "cell_type": "code",
   "execution_count": 107,
   "id": "5cc72e23",
   "metadata": {},
   "outputs": [],
   "source": [
    "def reversestring(s1):\n",
    "    return s1[::-1]\n",
    "    "
   ]
  },
  {
   "cell_type": "code",
   "execution_count": 108,
   "id": "3c4a5110",
   "metadata": {},
   "outputs": [
    {
     "data": {
      "text/plain": [
       "'Aman Kharwal'"
      ]
     },
     "execution_count": 108,
     "metadata": {},
     "output_type": "execute_result"
    }
   ],
   "source": [
    "reversestring(a)"
   ]
  },
  {
   "cell_type": "code",
   "execution_count": 118,
   "id": "d7801602",
   "metadata": {},
   "outputs": [
    {
     "name": "stdout",
     "output_type": "stream",
     "text": [
      "program that accepts sequence of lines\n"
     ]
    }
   ],
   "source": [
    "str1 = input()"
   ]
  },
  {
   "cell_type": "code",
   "execution_count": 119,
   "id": "b0bbca70",
   "metadata": {},
   "outputs": [],
   "source": [
    "def capitalize(str1):\n",
    "    return str1.upper()"
   ]
  },
  {
   "cell_type": "code",
   "execution_count": 120,
   "id": "5e643cdb",
   "metadata": {},
   "outputs": [
    {
     "data": {
      "text/plain": [
       "'PROGRAM THAT ACCEPTS SEQUENCE OF LINES'"
      ]
     },
     "execution_count": 120,
     "metadata": {},
     "output_type": "execute_result"
    }
   ],
   "source": [
    "capitalize(str1)"
   ]
  },
  {
   "cell_type": "code",
   "execution_count": 128,
   "id": "fff24e90",
   "metadata": {},
   "outputs": [
    {
     "name": "stdout",
     "output_type": "stream",
     "text": [
      "HELLO WORLD, PRACTICE MAKES PERFECT\n",
      "\n"
     ]
    }
   ],
   "source": [
    "\n",
    "lines = []\n",
    "while True:\n",
    "    s = input()\n",
    "    if s:\n",
    "        lines.append(s.upper())\n",
    "    else:\n",
    "        break;\n",
    " \n",
    "            "
   ]
  },
  {
   "cell_type": "code",
   "execution_count": 129,
   "id": "22b30b5f",
   "metadata": {},
   "outputs": [
    {
     "name": "stdout",
     "output_type": "stream",
     "text": [
      "HELLO WORLD, PRACTICE MAKES PERFECT\n"
     ]
    }
   ],
   "source": [
    "for i in lines:\n",
    "    print(i)"
   ]
  },
  {
   "cell_type": "code",
   "execution_count": null,
   "id": "964314fd",
   "metadata": {},
   "outputs": [],
   "source": [
    "Question 10\n",
    "Level 2\n",
    "\n",
    "Question:\n",
    "Write a program that accepts a sequence of whitespace separated words as input and prints the words after removing all duplicate words and sorting them alphanumerically.\n",
    "Suppose the following input is supplied to the program:\n",
    "hello world and practice makes perfect and hello world again\n",
    "Then, the output should be:\n",
    "again and hello makes perfect practice world"
   ]
  },
  {
   "cell_type": "code",
   "execution_count": 137,
   "id": "672994da",
   "metadata": {},
   "outputs": [
    {
     "name": "stdout",
     "output_type": "stream",
     "text": [
      "hello world and practice makes perfect and hello world again\n"
     ]
    }
   ],
   "source": [
    "s1 = list(set(input().split(\" \")))"
   ]
  },
  {
   "cell_type": "code",
   "execution_count": 138,
   "id": "56acc28f",
   "metadata": {},
   "outputs": [],
   "source": [
    "def test1(s1):\n",
    "    s1.sort()\n",
    "    return \" \".join(s1)\n",
    "    "
   ]
  },
  {
   "cell_type": "code",
   "execution_count": 139,
   "id": "0f9fc5a1",
   "metadata": {},
   "outputs": [
    {
     "data": {
      "text/plain": [
       "'again and hello makes perfect practice world'"
      ]
     },
     "execution_count": 139,
     "metadata": {},
     "output_type": "execute_result"
    }
   ],
   "source": [
    "test1(s1)"
   ]
  },
  {
   "cell_type": "code",
   "execution_count": null,
   "id": "4a39c03a",
   "metadata": {},
   "outputs": [],
   "source": [
    "Question 11\n",
    "Level 2\n",
    "\n",
    "Question:\n",
    "Write a program which accepts a sequence of comma separated 4 digit binary numbers as its input and then check whether they are divisible by 5 or not. The numbers that are divisible by 5 are to be printed in a comma separated sequence.\n",
    "Example:\n",
    "0100,0011,1010,1001\n",
    "Then the output should be:\n",
    "1010"
   ]
  },
  {
   "cell_type": "code",
   "execution_count": 183,
   "id": "387b6ab5",
   "metadata": {},
   "outputs": [
    {
     "name": "stdout",
     "output_type": "stream",
     "text": [
      "0100,0011,1010,1001\n"
     ]
    }
   ],
   "source": [
    "items = [i for i in input().split(\",\")]"
   ]
  },
  {
   "cell_type": "code",
   "execution_count": 184,
   "id": "09d79d8e",
   "metadata": {},
   "outputs": [
    {
     "data": {
      "text/plain": [
       "['0100', '0011', '1010', '1001']"
      ]
     },
     "execution_count": 184,
     "metadata": {},
     "output_type": "execute_result"
    }
   ],
   "source": [
    "items\n",
    "        "
   ]
  },
  {
   "cell_type": "code",
   "execution_count": 189,
   "id": "6a0e5fb0",
   "metadata": {},
   "outputs": [
    {
     "data": {
      "text/plain": [
       "['1010']"
      ]
     },
     "execution_count": 189,
     "metadata": {},
     "output_type": "execute_result"
    }
   ],
   "source": [
    "newlst = []\n",
    "for i in items:\n",
    "    intnum = int(i,2)\n",
    "    if not intnum%5:\n",
    "        newlst.append(i)\n",
    "    else:\n",
    "        pass\n",
    "\n",
    "        \n",
    "newlst\n",
    "            "
   ]
  },
  {
   "cell_type": "code",
   "execution_count": 188,
   "id": "91c3a648",
   "metadata": {},
   "outputs": [],
   "source": [
    "for i in range(len(items)):\n",
    "    intnum = []\n",
    "    intnum.append(int(items[i],2))"
   ]
  },
  {
   "cell_type": "code",
   "execution_count": 170,
   "id": "155c94bb",
   "metadata": {},
   "outputs": [
    {
     "data": {
      "text/plain": [
       "[9]"
      ]
     },
     "execution_count": 170,
     "metadata": {},
     "output_type": "execute_result"
    }
   ],
   "source": [
    "intnum"
   ]
  },
  {
   "cell_type": "code",
   "execution_count": 173,
   "id": "bbfe2ae5",
   "metadata": {},
   "outputs": [
    {
     "name": "stdout",
     "output_type": "stream",
     "text": [
      "0100,0011,1010,1001\n",
      "1010\n"
     ]
    }
   ],
   "source": [
    "value = []\n",
    "items=[x for x in input().split(',')]\n",
    "for p in items:\n",
    "    intp = int(p, 2)\n",
    "    if not intp%5:\n",
    "        value.append(p)\n",
    "\n",
    "print(','.join(value))"
   ]
  },
  {
   "cell_type": "code",
   "execution_count": 174,
   "id": "81c840a7",
   "metadata": {},
   "outputs": [
    {
     "data": {
      "text/plain": [
       "9"
      ]
     },
     "execution_count": 174,
     "metadata": {},
     "output_type": "execute_result"
    }
   ],
   "source": [
    "intp"
   ]
  },
  {
   "cell_type": "code",
   "execution_count": 177,
   "id": "491325c4",
   "metadata": {},
   "outputs": [
    {
     "data": {
      "text/plain": [
       "10"
      ]
     },
     "execution_count": 177,
     "metadata": {},
     "output_type": "execute_result"
    }
   ],
   "source": [
    "int('1010',2)"
   ]
  },
  {
   "cell_type": "code",
   "execution_count": null,
   "id": "52e3647a",
   "metadata": {},
   "outputs": [],
   "source": []
  },
  {
   "cell_type": "code",
   "execution_count": 191,
   "id": "64805454",
   "metadata": {},
   "outputs": [
    {
     "name": "stdout",
     "output_type": "stream",
     "text": [
      "0100,0011,1010,1001\n"
     ]
    }
   ],
   "source": [
    "items = [i for i in input().split(\", \")]"
   ]
  },
  {
   "cell_type": "code",
   "execution_count": 192,
   "id": "0790f950",
   "metadata": {},
   "outputs": [
    {
     "data": {
      "text/plain": [
       "['0100,0011,1010,1001']"
      ]
     },
     "execution_count": 192,
     "metadata": {},
     "output_type": "execute_result"
    }
   ],
   "source": [
    "items"
   ]
  },
  {
   "cell_type": "code",
   "execution_count": 196,
   "id": "574e440a",
   "metadata": {},
   "outputs": [
    {
     "name": "stdout",
     "output_type": "stream",
     "text": [
      "0100,0011,1010,1001\n",
      "1010\n"
     ]
    }
   ],
   "source": [
    "value = []\n",
    "items=[x for x in input().split(',')]\n",
    "for p in items:\n",
    "    intp = int(p, 2)\n",
    "    if not intp%5:\n",
    "        value.append(p)\n",
    "\n",
    "print(','.join(value))"
   ]
  },
  {
   "cell_type": "code",
   "execution_count": 197,
   "id": "1cb7afd8",
   "metadata": {},
   "outputs": [
    {
     "ename": "SyntaxError",
     "evalue": "invalid syntax (2852446572.py, line 1)",
     "output_type": "error",
     "traceback": [
      "\u001b[1;36m  Input \u001b[1;32mIn [197]\u001b[1;36m\u001b[0m\n\u001b[1;33m    Question 12\u001b[0m\n\u001b[1;37m             ^\u001b[0m\n\u001b[1;31mSyntaxError\u001b[0m\u001b[1;31m:\u001b[0m invalid syntax\n"
     ]
    }
   ],
   "source": [
    "Question 12\n",
    "Level 2\n",
    "\n",
    "Question:\n",
    "Write a program, which will find all such numbers between 1000 and 3000 (both included) such that each digit of the number is an even number.\n",
    "The numbers obtained should be printed in a comma-separated sequence on a single line."
   ]
  },
  {
   "cell_type": "code",
   "execution_count": 204,
   "id": "7cc4be4d",
   "metadata": {},
   "outputs": [
    {
     "name": "stdout",
     "output_type": "stream",
     "text": [
      "2000 2002 2004 2006 2008 2020 2022 2024 2026 2028 2040 2042 2044 2046 2048 2060 2062 2064 2066 2068 2080 2082 2084 2086 2088 2200 2202 2204 2206 2208 2220 2222 2224 2226 2228 2240 2242 2244 2246 2248 2260 2262 2264 2266 2268 2280 2282 2284 2286 2288 2400 2402 2404 2406 2408 2420 2422 2424 2426 2428 2440 2442 2444 2446 2448 2460 2462 2464 2466 2468 2480 2482 2484 2486 2488 2600 2602 2604 2606 2608 2620 2622 2624 2626 2628 2640 2642 2644 2646 2648 2660 2662 2664 2666 2668 2680 2682 2684 2686 2688 2800 2802 2804 2806 2808 2820 2822 2824 2826 2828 2840 2842 2844 2846 2848 2860 2862 2864 2866 2868 2880 2882 2884 2886 2888\n"
     ]
    }
   ],
   "source": [
    "values = []\n",
    "for i in range(1000, 3001):\n",
    "    s = str(i)\n",
    "    if (int(s[0])%2==0) and (int(s[1])%2==0) and (int(s[2])%2==0) and (int(s[3])%2==0) :\n",
    "        values.append(s)\n",
    "        \n",
    "print(\" \".join(values))"
   ]
  },
  {
   "cell_type": "code",
   "execution_count": null,
   "id": "f49ef838",
   "metadata": {},
   "outputs": [],
   "source": [
    "Question 13\n",
    "Level 2\n",
    "\n",
    "Question:\n",
    "Write a program that accepts a sentence and calculate the number of letters and digits.\n",
    "Suppose the following input is supplied to the program:\n",
    "hello world! 123\n",
    "Then, the output should be:\n",
    "LETTERS 10\n",
    "DIGITS 3"
   ]
  },
  {
   "cell_type": "code",
   "execution_count": 211,
   "id": "fb0c9643",
   "metadata": {},
   "outputs": [
    {
     "name": "stdout",
     "output_type": "stream",
     "text": [
      "hello world! 123\n"
     ]
    }
   ],
   "source": [
    "s1 = input()"
   ]
  },
  {
   "cell_type": "code",
   "execution_count": 212,
   "id": "dd5357ea",
   "metadata": {},
   "outputs": [
    {
     "data": {
      "text/plain": [
       "'hello world! 123'"
      ]
     },
     "execution_count": 212,
     "metadata": {},
     "output_type": "execute_result"
    }
   ],
   "source": [
    "s1"
   ]
  },
  {
   "cell_type": "code",
   "execution_count": 213,
   "id": "e64d6306",
   "metadata": {},
   "outputs": [],
   "source": [
    "\n",
    "def func(s1):\n",
    "    LETTERS = 0\n",
    "    DIGITS  = 0\n",
    "    for i in s1:\n",
    "        if i.isnumeric():\n",
    "            DIGITS+=1\n",
    "        if i.isalpha():\n",
    "            LETTERS+=1\n",
    "\n",
    "    print(\"LETTERS\", LETTERS)\n",
    "    print(\"DIGITS\", DIGITS)\n"
   ]
  },
  {
   "cell_type": "code",
   "execution_count": 214,
   "id": "9e0b8e88",
   "metadata": {},
   "outputs": [
    {
     "name": "stdout",
     "output_type": "stream",
     "text": [
      "LETTERS 10\n",
      "DIGITS 3\n"
     ]
    }
   ],
   "source": [
    "func(s1)"
   ]
  },
  {
   "cell_type": "code",
   "execution_count": null,
   "id": "bb7ea40a",
   "metadata": {},
   "outputs": [],
   "source": [
    "Question 14\n",
    "Level 2\n",
    "\n",
    "Question:\n",
    "Write a program that accepts a sentence and calculate the number of upper case letters and lower case letters.\n",
    "Suppose the following input is supplied to the program:\n",
    "Hello world!\n",
    "Then, the output should be:\n",
    "UPPER CASE 1\n",
    "LOWER CASE 9"
   ]
  },
  {
   "cell_type": "code",
   "execution_count": 215,
   "id": "350854fc",
   "metadata": {},
   "outputs": [
    {
     "name": "stdout",
     "output_type": "stream",
     "text": [
      "Hello world!\n"
     ]
    }
   ],
   "source": [
    "s1 = input()"
   ]
  },
  {
   "cell_type": "code",
   "execution_count": 219,
   "id": "132caa77",
   "metadata": {},
   "outputs": [],
   "source": [
    "\n",
    "def func12(s1):\n",
    "    LOWER_CASE = 0\n",
    "    UPPER_CASE = 0\n",
    "    for i in s1:\n",
    "        if i.islower():\n",
    "            LOWER_CASE +=1\n",
    "        if i.isupper():\n",
    "            UPPER_CASE+=1\n",
    "            \n",
    "        else:\n",
    "            pass\n",
    "    print(\"UPPER CASE:\", UPPER_CASE)\n",
    "    print(\"LOWER CASE:\", LOWER_CASE)"
   ]
  },
  {
   "cell_type": "code",
   "execution_count": 220,
   "id": "c87a1d46",
   "metadata": {},
   "outputs": [
    {
     "name": "stdout",
     "output_type": "stream",
     "text": [
      "UPPER CASE: 1\n",
      "LOWER CASE: 9\n"
     ]
    }
   ],
   "source": [
    "func12(s1)"
   ]
  },
  {
   "cell_type": "code",
   "execution_count": 221,
   "id": "882bb906",
   "metadata": {},
   "outputs": [
    {
     "name": "stdout",
     "output_type": "stream",
     "text": [
      "Hello world!\n"
     ]
    }
   ],
   "source": [
    "s1 = input()"
   ]
  },
  {
   "cell_type": "code",
   "execution_count": 222,
   "id": "6921fc65",
   "metadata": {},
   "outputs": [],
   "source": [
    "d = {\"UPPER CASE\":0, \"LOWER CASE\":0}"
   ]
  },
  {
   "cell_type": "code",
   "execution_count": 223,
   "id": "e57613da",
   "metadata": {},
   "outputs": [
    {
     "name": "stdout",
     "output_type": "stream",
     "text": [
      "1\n",
      "9\n"
     ]
    }
   ],
   "source": [
    "for i in s1:\n",
    "    if i.isupper():\n",
    "        d[\"UPPER CASE\"] += 1\n",
    "    elif i.islower():\n",
    "        d[\"LOWER CASE\"] += 1\n",
    "    else:\n",
    "        pass\n",
    "    \n",
    "print(d[\"UPPER CASE\"])\n",
    "print( d[\"LOWER CASE\"])\n",
    "        "
   ]
  },
  {
   "cell_type": "code",
   "execution_count": null,
   "id": "438522cb",
   "metadata": {},
   "outputs": [],
   "source": [
    "Question 15\n",
    "Level 2\n",
    "\n",
    "Question:\n",
    "Write a program that computes the value of a+aa+aaa+aaaa with a given digit as the value of a.\n",
    "Suppose the following input is supplied to the program:\n",
    "9\n",
    "Then, the output should be:\n",
    "11106\n"
   ]
  },
  {
   "cell_type": "code",
   "execution_count": 224,
   "id": "73911d34",
   "metadata": {},
   "outputs": [],
   "source": [
    "def ssuccesivesum(n):\n",
    "    if n>0:\n",
    "        f1 = n\n",
    "        f2 = (f1*10)+f1\n",
    "        f3 = (f2*10)+f1\n",
    "        f4 = (f3*10)+f1\n",
    "        \n",
    "    print(f1+f2+f3+f4)\n",
    "        "
   ]
  },
  {
   "cell_type": "code",
   "execution_count": 225,
   "id": "f52cab43",
   "metadata": {},
   "outputs": [
    {
     "name": "stdout",
     "output_type": "stream",
     "text": [
      "11106\n"
     ]
    }
   ],
   "source": [
    "ssuccesivesum(9)"
   ]
  },
  {
   "cell_type": "code",
   "execution_count": 231,
   "id": "ec25823b",
   "metadata": {},
   "outputs": [
    {
     "name": "stdout",
     "output_type": "stream",
     "text": [
      "\n"
     ]
    }
   ],
   "source": [
    "n = input()\n",
    "def success(n):\n",
    "    n1 = int(\"%s\" % (a))\n",
    "    n2 = int(\"%s%s\" % (a,a))\n",
    "    n3 = int(\"%s%s%s\" % (a,a,a))\n",
    "    n4 = int(\"%s%s%s%s\" % (a,a,a,a))\n",
    "    print(n1+n2+n3+n4)"
   ]
  },
  {
   "cell_type": "code",
   "execution_count": 232,
   "id": "deb68d93",
   "metadata": {},
   "outputs": [
    {
     "ename": "ValueError",
     "evalue": "invalid literal for int() with base 10: 'lawrahK namA'",
     "output_type": "error",
     "traceback": [
      "\u001b[1;31m---------------------------------------------------------------------------\u001b[0m",
      "\u001b[1;31mValueError\u001b[0m                                Traceback (most recent call last)",
      "Input \u001b[1;32mIn [232]\u001b[0m, in \u001b[0;36m<cell line: 1>\u001b[1;34m()\u001b[0m\n\u001b[1;32m----> 1\u001b[0m \u001b[43msuccess\u001b[49m\u001b[43m(\u001b[49m\u001b[43mn\u001b[49m\u001b[43m)\u001b[49m\n",
      "Input \u001b[1;32mIn [231]\u001b[0m, in \u001b[0;36msuccess\u001b[1;34m(n)\u001b[0m\n\u001b[0;32m      2\u001b[0m \u001b[38;5;28;01mdef\u001b[39;00m \u001b[38;5;21msuccess\u001b[39m(n):\n\u001b[1;32m----> 3\u001b[0m     n1 \u001b[38;5;241m=\u001b[39m \u001b[38;5;28;43mint\u001b[39;49m\u001b[43m(\u001b[49m\u001b[38;5;124;43m\"\u001b[39;49m\u001b[38;5;132;43;01m%s\u001b[39;49;00m\u001b[38;5;124;43m\"\u001b[39;49m\u001b[43m \u001b[49m\u001b[38;5;241;43m%\u001b[39;49m\u001b[43m \u001b[49m\u001b[43m(\u001b[49m\u001b[43ma\u001b[49m\u001b[43m)\u001b[49m\u001b[43m)\u001b[49m\n\u001b[0;32m      4\u001b[0m     n2 \u001b[38;5;241m=\u001b[39m \u001b[38;5;28mint\u001b[39m(\u001b[38;5;124m\"\u001b[39m\u001b[38;5;132;01m%s\u001b[39;00m\u001b[38;5;132;01m%s\u001b[39;00m\u001b[38;5;124m\"\u001b[39m \u001b[38;5;241m%\u001b[39m (a,a))\n\u001b[0;32m      5\u001b[0m     n3 \u001b[38;5;241m=\u001b[39m \u001b[38;5;28mint\u001b[39m(\u001b[38;5;124m\"\u001b[39m\u001b[38;5;132;01m%s\u001b[39;00m\u001b[38;5;132;01m%s\u001b[39;00m\u001b[38;5;132;01m%s\u001b[39;00m\u001b[38;5;124m\"\u001b[39m \u001b[38;5;241m%\u001b[39m (a,a,a))\n",
      "\u001b[1;31mValueError\u001b[0m: invalid literal for int() with base 10: 'lawrahK namA'"
     ]
    }
   ],
   "source": [
    "success(n)"
   ]
  },
  {
   "cell_type": "code",
   "execution_count": 233,
   "id": "5295e3f9",
   "metadata": {},
   "outputs": [
    {
     "ename": "SyntaxError",
     "evalue": "invalid syntax (3630400648.py, line 1)",
     "output_type": "error",
     "traceback": [
      "\u001b[1;36m  Input \u001b[1;32mIn [233]\u001b[1;36m\u001b[0m\n\u001b[1;33m    Question 16\u001b[0m\n\u001b[1;37m             ^\u001b[0m\n\u001b[1;31mSyntaxError\u001b[0m\u001b[1;31m:\u001b[0m invalid syntax\n"
     ]
    }
   ],
   "source": [
    "Question 16\n",
    "Level 2\n",
    "\n",
    "Question:\n",
    "Use a list comprehension to square each odd number in a list. The list is input by a sequence of comma-separated numbers.\n",
    "Suppose the following input is supplied to the program:\n",
    "1,2,3,4,5,6,7,8,9\n",
    "Then, the output should be:\n",
    "1,3,5,7,9\n"
   ]
  },
  {
   "cell_type": "code",
   "execution_count": 234,
   "id": "7b563410",
   "metadata": {},
   "outputs": [
    {
     "name": "stdout",
     "output_type": "stream",
     "text": [
      "1,2,3,4,5,6,7,8,9\n"
     ]
    }
   ],
   "source": [
    "values = input().split(\",\")"
   ]
  },
  {
   "cell_type": "code",
   "execution_count": 237,
   "id": "900cb867",
   "metadata": {},
   "outputs": [
    {
     "data": {
      "text/plain": [
       "[1, 9, 25, 49, 81]"
      ]
     },
     "execution_count": 237,
     "metadata": {},
     "output_type": "execute_result"
    }
   ],
   "source": [
    "[int(i)**2 for i in values if int(i)%2!=0]"
   ]
  },
  {
   "cell_type": "code",
   "execution_count": 239,
   "id": "af77b30b",
   "metadata": {},
   "outputs": [],
   "source": [
    "numbers = [i for i in values if int(i)%2!=0]"
   ]
  },
  {
   "cell_type": "code",
   "execution_count": 240,
   "id": "805e8601",
   "metadata": {},
   "outputs": [
    {
     "data": {
      "text/plain": [
       "'1,3,5,7,9'"
      ]
     },
     "execution_count": 240,
     "metadata": {},
     "output_type": "execute_result"
    }
   ],
   "source": [
    "\",\".join(numbers)"
   ]
  },
  {
   "cell_type": "code",
   "execution_count": null,
   "id": "b5ce62fc",
   "metadata": {},
   "outputs": [],
   "source": [
    "Question 17\n",
    "Level 2\n",
    "\n",
    "Question:\n",
    "Write a program that computes the net amount of a bank account based a transaction log from console input. The transaction log format is shown as following:\n",
    "D 100\n",
    "W 200\n",
    "\n",
    "D means deposit while W means withdrawal.\n",
    "Suppose the following input is supplied to the program:\n",
    "D 300\n",
    "D 300\n",
    "W 200\n",
    "D 100\n",
    "Then, the output should be:\n",
    "500"
   ]
  },
  {
   "cell_type": "code",
   "execution_count": 8,
   "id": "f83fdca1",
   "metadata": {},
   "outputs": [
    {
     "name": "stdout",
     "output_type": "stream",
     "text": [
      "4\n",
      "D 200 W 100\n",
      "D 200 W 100\n"
     ]
    },
    {
     "ename": "KeyboardInterrupt",
     "evalue": "Interrupted by user",
     "output_type": "error",
     "traceback": [
      "\u001b[1;31m---------------------------------------------------------------------------\u001b[0m",
      "\u001b[1;31mKeyboardInterrupt\u001b[0m                         Traceback (most recent call last)",
      "Input \u001b[1;32mIn [8]\u001b[0m, in \u001b[0;36m<cell line: 4>\u001b[1;34m()\u001b[0m\n\u001b[0;32m      3\u001b[0m i \u001b[38;5;241m=\u001b[39m \u001b[38;5;241m0\u001b[39m\n\u001b[0;32m      4\u001b[0m \u001b[38;5;28;01mwhile\u001b[39;00m(i \u001b[38;5;241m<\u001b[39m n):\n\u001b[1;32m----> 5\u001b[0m     x \u001b[38;5;241m=\u001b[39m \u001b[38;5;28;43minput\u001b[39;49m\u001b[43m(\u001b[49m\u001b[43m)\u001b[49m\n\u001b[0;32m      6\u001b[0m     values \u001b[38;5;241m=\u001b[39m x\u001b[38;5;241m.\u001b[39msplit(\u001b[38;5;124m\"\u001b[39m\u001b[38;5;124m \u001b[39m\u001b[38;5;124m\"\u001b[39m)\n\u001b[0;32m      7\u001b[0m     operation \u001b[38;5;241m=\u001b[39m values[\u001b[38;5;241m0\u001b[39m]\n",
      "File \u001b[1;32m~\\anaconda3\\lib\\site-packages\\ipykernel\\kernelbase.py:1075\u001b[0m, in \u001b[0;36mKernel.raw_input\u001b[1;34m(self, prompt)\u001b[0m\n\u001b[0;32m   1071\u001b[0m \u001b[38;5;28;01mif\u001b[39;00m \u001b[38;5;129;01mnot\u001b[39;00m \u001b[38;5;28mself\u001b[39m\u001b[38;5;241m.\u001b[39m_allow_stdin:\n\u001b[0;32m   1072\u001b[0m     \u001b[38;5;28;01mraise\u001b[39;00m StdinNotImplementedError(\n\u001b[0;32m   1073\u001b[0m         \u001b[38;5;124m\"\u001b[39m\u001b[38;5;124mraw_input was called, but this frontend does not support input requests.\u001b[39m\u001b[38;5;124m\"\u001b[39m\n\u001b[0;32m   1074\u001b[0m     )\n\u001b[1;32m-> 1075\u001b[0m \u001b[38;5;28;01mreturn\u001b[39;00m \u001b[38;5;28;43mself\u001b[39;49m\u001b[38;5;241;43m.\u001b[39;49m\u001b[43m_input_request\u001b[49m\u001b[43m(\u001b[49m\n\u001b[0;32m   1076\u001b[0m \u001b[43m    \u001b[49m\u001b[38;5;28;43mstr\u001b[39;49m\u001b[43m(\u001b[49m\u001b[43mprompt\u001b[49m\u001b[43m)\u001b[49m\u001b[43m,\u001b[49m\n\u001b[0;32m   1077\u001b[0m \u001b[43m    \u001b[49m\u001b[38;5;28;43mself\u001b[39;49m\u001b[38;5;241;43m.\u001b[39;49m\u001b[43m_parent_ident\u001b[49m\u001b[43m[\u001b[49m\u001b[38;5;124;43m\"\u001b[39;49m\u001b[38;5;124;43mshell\u001b[39;49m\u001b[38;5;124;43m\"\u001b[39;49m\u001b[43m]\u001b[49m\u001b[43m,\u001b[49m\n\u001b[0;32m   1078\u001b[0m \u001b[43m    \u001b[49m\u001b[38;5;28;43mself\u001b[39;49m\u001b[38;5;241;43m.\u001b[39;49m\u001b[43mget_parent\u001b[49m\u001b[43m(\u001b[49m\u001b[38;5;124;43m\"\u001b[39;49m\u001b[38;5;124;43mshell\u001b[39;49m\u001b[38;5;124;43m\"\u001b[39;49m\u001b[43m)\u001b[49m\u001b[43m,\u001b[49m\n\u001b[0;32m   1079\u001b[0m \u001b[43m    \u001b[49m\u001b[43mpassword\u001b[49m\u001b[38;5;241;43m=\u001b[39;49m\u001b[38;5;28;43;01mFalse\u001b[39;49;00m\u001b[43m,\u001b[49m\n\u001b[0;32m   1080\u001b[0m \u001b[43m\u001b[49m\u001b[43m)\u001b[49m\n",
      "File \u001b[1;32m~\\anaconda3\\lib\\site-packages\\ipykernel\\kernelbase.py:1120\u001b[0m, in \u001b[0;36mKernel._input_request\u001b[1;34m(self, prompt, ident, parent, password)\u001b[0m\n\u001b[0;32m   1117\u001b[0m             \u001b[38;5;28;01mbreak\u001b[39;00m\n\u001b[0;32m   1118\u001b[0m \u001b[38;5;28;01mexcept\u001b[39;00m \u001b[38;5;167;01mKeyboardInterrupt\u001b[39;00m:\n\u001b[0;32m   1119\u001b[0m     \u001b[38;5;66;03m# re-raise KeyboardInterrupt, to truncate traceback\u001b[39;00m\n\u001b[1;32m-> 1120\u001b[0m     \u001b[38;5;28;01mraise\u001b[39;00m \u001b[38;5;167;01mKeyboardInterrupt\u001b[39;00m(\u001b[38;5;124m\"\u001b[39m\u001b[38;5;124mInterrupted by user\u001b[39m\u001b[38;5;124m\"\u001b[39m) \u001b[38;5;28;01mfrom\u001b[39;00m \u001b[38;5;28mNone\u001b[39m\n\u001b[0;32m   1121\u001b[0m \u001b[38;5;28;01mexcept\u001b[39;00m \u001b[38;5;167;01mException\u001b[39;00m:\n\u001b[0;32m   1122\u001b[0m     \u001b[38;5;28mself\u001b[39m\u001b[38;5;241m.\u001b[39mlog\u001b[38;5;241m.\u001b[39mwarning(\u001b[38;5;124m\"\u001b[39m\u001b[38;5;124mInvalid Message:\u001b[39m\u001b[38;5;124m\"\u001b[39m, exc_info\u001b[38;5;241m=\u001b[39m\u001b[38;5;28;01mTrue\u001b[39;00m)\n",
      "\u001b[1;31mKeyboardInterrupt\u001b[0m: Interrupted by user"
     ]
    }
   ],
   "source": [
    "tot = 0\n",
    "n = int(input())\n",
    "i = 0\n",
    "while(i < n):\n",
    "    x = input()\n",
    "    values = x.split(\" \")\n",
    "    operation = values[0]\n",
    "    amount = int(values[1])\n",
    "    if operation == \"D\":\n",
    "        tot += amount\n",
    "    elif operation == \"W\":\n",
    "        tot -= amount\n",
    "    else:\n",
    "        pass\n",
    "    i += 1\n",
    "print(\"total=\", tot)"
   ]
  },
  {
   "cell_type": "code",
   "execution_count": null,
   "id": "ece9fd47",
   "metadata": {},
   "outputs": [],
   "source": []
  },
  {
   "cell_type": "code",
   "execution_count": null,
   "id": "aa4dbf92",
   "metadata": {},
   "outputs": [],
   "source": [
    "netamount = 0\n",
    "\n",
    "while True:\n",
    "    s = input()\n",
    "    if s==0:\n",
    "        break\n",
    "    values = s.split(\" \")\n",
    "    for i in values:\n",
    "    ops = values[0]\n",
    "    amt = int(values[])\n",
    "    if ops in [\"W\", \"w\"]:\n",
    "        netamount+=amt\n",
    "        \n",
    "    elif ops in [\"W\", \"w\"]:\n",
    "        netamount-=amt\n",
    "        \n",
    "    else:\n",
    "        pass\n",
    "print(netamount)"
   ]
  },
  {
   "cell_type": "code",
   "execution_count": null,
   "id": "fe648712",
   "metadata": {},
   "outputs": [],
   "source": [
    "uestion 18\n",
    "Level 3\n",
    "\n",
    "Question:\n",
    "A website requires the users to input username and password to register. Write a program to check the validity of password input by users.\n",
    "Following are the criteria for checking the password:\n",
    "1. At least 1 letter between [a-z]\n",
    "2. At least 1 number between [0-9]\n",
    "1. At least 1 letter between [A-Z]\n",
    "3. At least 1 character from [$#@]\n",
    "4. Minimum length of transaction password: 6\n",
    "5. Maximum length of transaction password: 12\n",
    "Your program should accept a sequence of comma separated passwords and will check them according to the above criteria. Passwords that match the criteria are to be printed, each separated by a comma.\n",
    "Example\n",
    "If the following passwords are given as input to the program:\n",
    "ABd1234@1,a F1#,2w3E*,2We3345\n",
    "Then, the output of the program should be:\n",
    "ABd1234@1"
   ]
  },
  {
   "cell_type": "code",
   "execution_count": null,
   "id": "2d5121b9",
   "metadata": {},
   "outputs": [],
   "source": []
  },
  {
   "cell_type": "code",
   "execution_count": 1,
   "id": "c9d5c8d3",
   "metadata": {},
   "outputs": [],
   "source": [
    "DB = {\n",
    "    'mohit' : 'mohit@123',\n",
    "    'prateek': 'prateek@123'\n",
    "}"
   ]
  },
  {
   "cell_type": "code",
   "execution_count": 2,
   "id": "b4ea570f",
   "metadata": {},
   "outputs": [],
   "source": [
    "def login(func):\n",
    "    def wrapper(username, password, *args, **kwargs):\n",
    "        if username in DB and DB[username] == password:\n",
    "            func(*args, **kwargs)\n",
    "        else:\n",
    "            print('Authentication Failed')\n",
    "    return wrapper"
   ]
  },
  {
   "cell_type": "code",
   "execution_count": 5,
   "id": "b50a41a5",
   "metadata": {},
   "outputs": [],
   "source": [
    "@login\n",
    "def add(a,b):\n",
    "    print(a+b)"
   ]
  },
  {
   "cell_type": "code",
   "execution_count": 6,
   "id": "05ee5c83",
   "metadata": {},
   "outputs": [
    {
     "name": "stdout",
     "output_type": "stream",
     "text": [
      "Authentication Failed\n"
     ]
    }
   ],
   "source": [
    "add(5,6)"
   ]
  },
  {
   "cell_type": "code",
   "execution_count": 7,
   "id": "da357823",
   "metadata": {},
   "outputs": [
    {
     "name": "stdout",
     "output_type": "stream",
     "text": [
      "Authentication Failed\n"
     ]
    }
   ],
   "source": [
    "add(8,9)"
   ]
  },
  {
   "cell_type": "code",
   "execution_count": 8,
   "id": "8768f5fb",
   "metadata": {},
   "outputs": [
    {
     "name": "stdout",
     "output_type": "stream",
     "text": [
      "15\n"
     ]
    }
   ],
   "source": [
    "add(\"prateek\", \"prateek@123\", 5,10)"
   ]
  },
  {
   "cell_type": "code",
   "execution_count": 9,
   "id": "2c089430",
   "metadata": {},
   "outputs": [],
   "source": [
    "def main(message):\n",
    "    print(message)"
   ]
  },
  {
   "cell_type": "code",
   "execution_count": 11,
   "id": "f5b822f4",
   "metadata": {},
   "outputs": [
    {
     "name": "stdout",
     "output_type": "stream",
     "text": [
      "dfghjk\n"
     ]
    }
   ],
   "source": [
    "main(\"dfghjk\")"
   ]
  },
  {
   "cell_type": "code",
   "execution_count": 12,
   "id": "f23cc088",
   "metadata": {},
   "outputs": [],
   "source": [
    "def my_gen():\n",
    "    n = 1\n",
    "    print('first')\n",
    "    yield  n\n",
    "    \n",
    "    n+=1\n",
    "    print('secon')\n",
    "    yield n\n",
    "    \n",
    "    n+=1\n",
    "    print('third')\n",
    "    yield n\n",
    "    \n",
    "\n",
    "    "
   ]
  },
  {
   "cell_type": "code",
   "execution_count": 16,
   "id": "447c1066",
   "metadata": {},
   "outputs": [
    {
     "name": "stdout",
     "output_type": "stream",
     "text": [
      "first\n"
     ]
    },
    {
     "data": {
      "text/plain": [
       "1"
      ]
     },
     "execution_count": 16,
     "metadata": {},
     "output_type": "execute_result"
    }
   ],
   "source": [
    "next(my_gen())"
   ]
  },
  {
   "cell_type": "code",
   "execution_count": 17,
   "id": "261066fa",
   "metadata": {},
   "outputs": [
    {
     "name": "stdout",
     "output_type": "stream",
     "text": [
      "first\n"
     ]
    },
    {
     "data": {
      "text/plain": [
       "1"
      ]
     },
     "execution_count": 17,
     "metadata": {},
     "output_type": "execute_result"
    }
   ],
   "source": [
    "next(my_gen())"
   ]
  },
  {
   "cell_type": "code",
   "execution_count": 18,
   "id": "8b85ee3f",
   "metadata": {},
   "outputs": [
    {
     "name": "stdout",
     "output_type": "stream",
     "text": [
      "first\n"
     ]
    },
    {
     "data": {
      "text/plain": [
       "1"
      ]
     },
     "execution_count": 18,
     "metadata": {},
     "output_type": "execute_result"
    }
   ],
   "source": [
    "next(my_gen())"
   ]
  },
  {
   "cell_type": "code",
   "execution_count": 19,
   "id": "db7f3259",
   "metadata": {},
   "outputs": [
    {
     "ename": "TypeError",
     "evalue": "'function' object is not an iterator",
     "output_type": "error",
     "traceback": [
      "\u001b[1;31m---------------------------------------------------------------------------\u001b[0m",
      "\u001b[1;31mTypeError\u001b[0m                                 Traceback (most recent call last)",
      "Input \u001b[1;32mIn [19]\u001b[0m, in \u001b[0;36m<cell line: 1>\u001b[1;34m()\u001b[0m\n\u001b[1;32m----> 1\u001b[0m \u001b[38;5;28;43mnext\u001b[39;49m\u001b[43m(\u001b[49m\u001b[43mmy_gen\u001b[49m\u001b[43m)\u001b[49m\n",
      "\u001b[1;31mTypeError\u001b[0m: 'function' object is not an iterator"
     ]
    }
   ],
   "source": [
    "next(my_gen)"
   ]
  },
  {
   "cell_type": "code",
   "execution_count": 21,
   "id": "d3d6fa7c",
   "metadata": {},
   "outputs": [],
   "source": [
    "g = my_gen()"
   ]
  },
  {
   "cell_type": "code",
   "execution_count": 22,
   "id": "22cfa491",
   "metadata": {},
   "outputs": [
    {
     "name": "stdout",
     "output_type": "stream",
     "text": [
      "first\n"
     ]
    },
    {
     "data": {
      "text/plain": [
       "1"
      ]
     },
     "execution_count": 22,
     "metadata": {},
     "output_type": "execute_result"
    }
   ],
   "source": [
    "next(g)"
   ]
  },
  {
   "cell_type": "code",
   "execution_count": 23,
   "id": "76b9b4ec",
   "metadata": {},
   "outputs": [
    {
     "name": "stdout",
     "output_type": "stream",
     "text": [
      "secon\n"
     ]
    },
    {
     "data": {
      "text/plain": [
       "2"
      ]
     },
     "execution_count": 23,
     "metadata": {},
     "output_type": "execute_result"
    }
   ],
   "source": [
    "next(g)"
   ]
  },
  {
   "cell_type": "code",
   "execution_count": 24,
   "id": "f5bbb16c",
   "metadata": {},
   "outputs": [
    {
     "name": "stdout",
     "output_type": "stream",
     "text": [
      "third\n"
     ]
    },
    {
     "data": {
      "text/plain": [
       "3"
      ]
     },
     "execution_count": 24,
     "metadata": {},
     "output_type": "execute_result"
    }
   ],
   "source": [
    "next(g)"
   ]
  },
  {
   "cell_type": "code",
   "execution_count": 25,
   "id": "7ef7aea4",
   "metadata": {},
   "outputs": [
    {
     "ename": "StopIteration",
     "evalue": "",
     "output_type": "error",
     "traceback": [
      "\u001b[1;31m---------------------------------------------------------------------------\u001b[0m",
      "\u001b[1;31mStopIteration\u001b[0m                             Traceback (most recent call last)",
      "Input \u001b[1;32mIn [25]\u001b[0m, in \u001b[0;36m<cell line: 1>\u001b[1;34m()\u001b[0m\n\u001b[1;32m----> 1\u001b[0m \u001b[38;5;28;43mnext\u001b[39;49m\u001b[43m(\u001b[49m\u001b[43mg\u001b[49m\u001b[43m)\u001b[49m\n",
      "\u001b[1;31mStopIteration\u001b[0m: "
     ]
    }
   ],
   "source": [
    "next(g)"
   ]
  },
  {
   "cell_type": "code",
   "execution_count": 26,
   "id": "734579c8",
   "metadata": {},
   "outputs": [],
   "source": [
    "def counter_func(n):\n",
    "    i = 1\n",
    "    while (i <= n):\n",
    "        return i\n",
    "        i+=1"
   ]
  },
  {
   "cell_type": "code",
   "execution_count": 28,
   "id": "2ee748f2",
   "metadata": {},
   "outputs": [
    {
     "data": {
      "text/plain": [
       "1"
      ]
     },
     "execution_count": 28,
     "metadata": {},
     "output_type": "execute_result"
    }
   ],
   "source": [
    "counter_func(5)"
   ]
  },
  {
   "cell_type": "code",
   "execution_count": 29,
   "id": "6e5721eb",
   "metadata": {},
   "outputs": [],
   "source": [
    "def counter_gen(n):\n",
    "    i = 1\n",
    "    while (i <= n):\n",
    "        yield i\n",
    "        i+=1"
   ]
  },
  {
   "cell_type": "code",
   "execution_count": 34,
   "id": "5d9ade63",
   "metadata": {},
   "outputs": [],
   "source": [
    "gen = counter_gen(5)"
   ]
  },
  {
   "cell_type": "code",
   "execution_count": 40,
   "id": "ecd0afb6",
   "metadata": {},
   "outputs": [
    {
     "ename": "StopIteration",
     "evalue": "",
     "output_type": "error",
     "traceback": [
      "\u001b[1;31m---------------------------------------------------------------------------\u001b[0m",
      "\u001b[1;31mStopIteration\u001b[0m                             Traceback (most recent call last)",
      "Input \u001b[1;32mIn [40]\u001b[0m, in \u001b[0;36m<cell line: 1>\u001b[1;34m()\u001b[0m\n\u001b[1;32m----> 1\u001b[0m \u001b[38;5;28;43mnext\u001b[39;49m\u001b[43m(\u001b[49m\u001b[43mgen\u001b[49m\u001b[43m)\u001b[49m\n",
      "\u001b[1;31mStopIteration\u001b[0m: "
     ]
    }
   ],
   "source": [
    "next(gen)"
   ]
  },
  {
   "cell_type": "code",
   "execution_count": 41,
   "id": "6b6a5736",
   "metadata": {},
   "outputs": [],
   "source": [
    "squares_gen = (i**2 for i in range(1000000) if i%2==0)"
   ]
  },
  {
   "cell_type": "code",
   "execution_count": 42,
   "id": "fc02faab",
   "metadata": {},
   "outputs": [
    {
     "data": {
      "text/plain": [
       "<generator object <genexpr> at 0x000002888F6E1200>"
      ]
     },
     "execution_count": 42,
     "metadata": {},
     "output_type": "execute_result"
    }
   ],
   "source": [
    "squares_gen"
   ]
  },
  {
   "cell_type": "code",
   "execution_count": null,
   "id": "508b2a3f",
   "metadata": {},
   "outputs": [],
   "source": [
    "idx = 0\n",
    "\n",
    "for i in squares_gen:\n",
    "    if idx == 10:\n",
    "        break\n",
    "        \n",
    "    p"
   ]
  },
  {
   "cell_type": "code",
   "execution_count": 2,
   "id": "840bf479",
   "metadata": {},
   "outputs": [],
   "source": [
    "\n",
    "def math_operation_via_postman(operation, num1, num2):\n",
    "        if(operation=='add'):\n",
    "            r=num1+num2\n",
    "            result= 'the sum of '+str(num1)+' and '+str(num2) +' is '+str(r)\n",
    "        if (operation == 'subtract'):\n",
    "            r = num1 - num2\n",
    "            result = 'the difference of ' + str(num1) + ' and ' + str(num2) + ' is ' + str(r)\n",
    "        if (operation == 'multiply'):\n",
    "            r = num1 * num2\n",
    "            result = 'the product of ' + str(num1) + ' and ' + str(num2) + ' is ' + str(r)\n",
    "        if (operation == 'divide'):\n",
    "            r = num1 / num2\n",
    "            result = 'the quotient when ' + str(num1) + ' is divided by ' + str(num2) + ' is ' + str(r)\n",
    "        return result\n"
   ]
  },
  {
   "cell_type": "code",
   "execution_count": 5,
   "id": "d6fd0ec2",
   "metadata": {},
   "outputs": [
    {
     "data": {
      "text/plain": [
       "'the quotient when 5 is divided by 10 is 0.5'"
      ]
     },
     "execution_count": 5,
     "metadata": {},
     "output_type": "execute_result"
    }
   ],
   "source": [
    "math_operation_via_postman('divide', 5, 10)"
   ]
  },
  {
   "cell_type": "code",
   "execution_count": null,
   "id": "2444b6e6",
   "metadata": {},
   "outputs": [],
   "source": [
    "Question 18\n",
    "Level 3\n",
    "\n",
    "Question:\n",
    "A website requires the users to input username and password to register. Write a program to check the validity of password input by users.\n",
    "Following are the criteria for checking the password:\n",
    "1. At least 1 letter between [a-z]\n",
    "2. At least 1 number between [0-9]\n",
    "1. At least 1 letter between [A-Z]\n",
    "3. At least 1 character from [$#@]\n",
    "4. Minimum length of transaction password: 6\n",
    "5. Maximum length of transaction password: 12\n",
    "Your program should accept a sequence of comma separated passwords and will check them according to the above criteria. Passwords that match the criteria are to be printed, each separated by a comma.\n",
    "Example\n",
    "If the following passwords are given as input to the program:\n",
    "ABd1234@1,a F1#,2w3E*,2We3345\n",
    "Then, the output of the program should be:\n",
    "ABd1234@1"
   ]
  },
  {
   "cell_type": "code",
   "execution_count": 20,
   "id": "01dbcd37",
   "metadata": {},
   "outputs": [
    {
     "name": "stdout",
     "output_type": "stream",
     "text": [
      "ABd1234@1\n"
     ]
    }
   ],
   "source": [
    "s = input().split(',')"
   ]
  },
  {
   "cell_type": "code",
   "execution_count": 21,
   "id": "83a59079",
   "metadata": {},
   "outputs": [],
   "source": [
    "def check(x):\n",
    "    cnt = (6<=len(x) and len(x)<=12)\n",
    "    \n",
    "    for i in x:\n",
    "        if i.isupper():\n",
    "            cnt+=1\n",
    "            break\n",
    "            \n",
    "    for i in x:\n",
    "        if i.islower():\n",
    "            cnt+=1\n",
    "            break\n",
    "            \n",
    "    for i in x:\n",
    "        if i.isnumeric():\n",
    "            cnt+=1\n",
    "            break\n",
    "            \n",
    "    for i in x:\n",
    "        if i=='$' or i=='#' or i=='@':\n",
    "            cnt+=1\n",
    "            break\n",
    "            \n",
    "    return cnt ==5\n",
    "\n"
   ]
  },
  {
   "cell_type": "code",
   "execution_count": 22,
   "id": "50055375",
   "metadata": {},
   "outputs": [
    {
     "name": "stdout",
     "output_type": "stream",
     "text": [
      "ABd1234@1,a F1#,2w3E*,2We3345\n"
     ]
    }
   ],
   "source": [
    "s = input().split(',')"
   ]
  },
  {
   "cell_type": "code",
   "execution_count": 25,
   "id": "459be81d",
   "metadata": {},
   "outputs": [],
   "source": [
    "lst = filter(check, s)"
   ]
  },
  {
   "cell_type": "code",
   "execution_count": 23,
   "id": "dd49bb2b",
   "metadata": {},
   "outputs": [
    {
     "data": {
      "text/plain": [
       "['ABd1234@1', 'a F1#', '2w3E*', '2We3345']"
      ]
     },
     "execution_count": 23,
     "metadata": {},
     "output_type": "execute_result"
    }
   ],
   "source": [
    "s"
   ]
  },
  {
   "cell_type": "code",
   "execution_count": 26,
   "id": "b3ded6c1",
   "metadata": {},
   "outputs": [
    {
     "data": {
      "text/plain": [
       "'ABd1234@1'"
      ]
     },
     "execution_count": 26,
     "metadata": {},
     "output_type": "execute_result"
    }
   ],
   "source": [
    "\",\".join(lst)"
   ]
  },
  {
   "cell_type": "code",
   "execution_count": null,
   "id": "9dbfe529",
   "metadata": {},
   "outputs": [],
   "source": [
    "Question 19\n",
    "Question:\n",
    "You are required to write a program to sort the (name, age, score) tuples by ascending order where name is string, age and score are numbers. The tuples are input by console. The sort criteria is:\n",
    "\n",
    "1: Sort based on name\n",
    "2: Then sort based on age\n",
    "3: Then sort by score\n",
    "The priority is that name > age > score.\n",
    "\n",
    "If the following tuples are given as input to the program:\n",
    "Tom,19,80\n",
    "John,20,90\n",
    "Jony,17,91\n",
    "Jony,17,93\n",
    "Json,21,85\n",
    "\n",
    "Then, the output of the program should be:\n",
    "\n",
    "[('John', '20', '90'), ('Jony', '17', '91'), ('Jony', '17', '93'), ('Json', '21', '85'), ('Tom', '19', '80')]"
   ]
  },
  {
   "cell_type": "code",
   "execution_count": 30,
   "id": "565d4975",
   "metadata": {},
   "outputs": [
    {
     "name": "stdout",
     "output_type": "stream",
     "text": [
      "Tom,19,80\n"
     ]
    }
   ],
   "source": [
    "s = tuple(input().split(','))"
   ]
  },
  {
   "cell_type": "code",
   "execution_count": 54,
   "id": "ec67555d",
   "metadata": {},
   "outputs": [
    {
     "name": "stdout",
     "output_type": "stream",
     "text": [
      "('John', '20', '90'), ('Jony', '17', '91'), ('Jony', '17', '93'), ('Json', '21', '85'), ('Tom', '19', '80')\n"
     ]
    },
    {
     "ename": "ValueError",
     "evalue": "invalid literal for int() with base 10: \" '20'\"",
     "output_type": "error",
     "traceback": [
      "\u001b[1;31m---------------------------------------------------------------------------\u001b[0m",
      "\u001b[1;31mValueError\u001b[0m                                Traceback (most recent call last)",
      "Input \u001b[1;32mIn [54]\u001b[0m, in \u001b[0;36m<cell line: 10>\u001b[1;34m()\u001b[0m\n\u001b[0;32m      7\u001b[0m     lst\u001b[38;5;241m.\u001b[39mappend(s)\n\u001b[0;32m      8\u001b[0m     \u001b[38;5;28;01mbreak\u001b[39;00m\n\u001b[1;32m---> 10\u001b[0m \u001b[43mlst\u001b[49m\u001b[38;5;241;43m.\u001b[39;49m\u001b[43msort\u001b[49m\u001b[43m(\u001b[49m\u001b[43mkey\u001b[49m\u001b[38;5;241;43m=\u001b[39;49m\u001b[43m \u001b[49m\u001b[38;5;28;43;01mlambda\u001b[39;49;00m\u001b[43m \u001b[49m\u001b[43mx\u001b[49m\u001b[43m:\u001b[49m\u001b[43m(\u001b[49m\u001b[43mx\u001b[49m\u001b[43m[\u001b[49m\u001b[38;5;241;43m0\u001b[39;49m\u001b[43m]\u001b[49m\u001b[43m,\u001b[49m\u001b[43m \u001b[49m\u001b[38;5;28;43mint\u001b[39;49m\u001b[43m(\u001b[49m\u001b[43mx\u001b[49m\u001b[43m[\u001b[49m\u001b[38;5;241;43m1\u001b[39;49m\u001b[43m]\u001b[49m\u001b[43m)\u001b[49m\u001b[43m,\u001b[49m\u001b[43m \u001b[49m\u001b[38;5;28;43mint\u001b[39;49m\u001b[43m(\u001b[49m\u001b[43mx\u001b[49m\u001b[43m[\u001b[49m\u001b[38;5;241;43m2\u001b[39;49m\u001b[43m]\u001b[49m\u001b[43m)\u001b[49m\u001b[43m)\u001b[49m\u001b[43m)\u001b[49m\n",
      "Input \u001b[1;32mIn [54]\u001b[0m, in \u001b[0;36m<lambda>\u001b[1;34m(x)\u001b[0m\n\u001b[0;32m      7\u001b[0m     lst\u001b[38;5;241m.\u001b[39mappend(s)\n\u001b[0;32m      8\u001b[0m     \u001b[38;5;28;01mbreak\u001b[39;00m\n\u001b[1;32m---> 10\u001b[0m lst\u001b[38;5;241m.\u001b[39msort(key\u001b[38;5;241m=\u001b[39m \u001b[38;5;28;01mlambda\u001b[39;00m x:(x[\u001b[38;5;241m0\u001b[39m], \u001b[38;5;28;43mint\u001b[39;49m\u001b[43m(\u001b[49m\u001b[43mx\u001b[49m\u001b[43m[\u001b[49m\u001b[38;5;241;43m1\u001b[39;49m\u001b[43m]\u001b[49m\u001b[43m)\u001b[49m, \u001b[38;5;28mint\u001b[39m(x[\u001b[38;5;241m2\u001b[39m])))\n",
      "\u001b[1;31mValueError\u001b[0m: invalid literal for int() with base 10: \" '20'\""
     ]
    }
   ],
   "source": [
    "lst = []\n",
    "\n",
    "while True:\n",
    "    s = tuple(input().split(\",\"))\n",
    "    if s[0]==0:\n",
    "        break\n",
    "    lst.append(s)\n",
    "    break\n",
    "    \n",
    "lst.sort(key= lambda x:(x[0], int(x[1]), int(x[2])))"
   ]
  },
  {
   "cell_type": "code",
   "execution_count": null,
   "id": "96f4badf",
   "metadata": {},
   "outputs": [],
   "source": [
    "Define a class with a generator which can iterate the numbers, which are divisible by 7, between a given range 0 and n.\n",
    "\n",
    "Suppose the following input is supplied to the program:"
   ]
  },
  {
   "cell_type": "code",
   "execution_count": 79,
   "id": "f1a7fcd8",
   "metadata": {},
   "outputs": [],
   "source": [
    "class Divisible:\n",
    "    def my_gen_divi_by_seven(self,n):\n",
    "        for i in range(0,n+1):\n",
    "            if i%7==0:\n",
    "                yield i\n",
    "                \n",
    "                "
   ]
  },
  {
   "cell_type": "code",
   "execution_count": 80,
   "id": "4960e76b",
   "metadata": {},
   "outputs": [
    {
     "name": "stdout",
     "output_type": "stream",
     "text": [
      "enter any number:15\n"
     ]
    }
   ],
   "source": [
    "n = int(input(\"enter any number:\"))"
   ]
  },
  {
   "cell_type": "code",
   "execution_count": 81,
   "id": "87c05bf4",
   "metadata": {},
   "outputs": [],
   "source": [
    "gen = Divisible()"
   ]
  },
  {
   "cell_type": "code",
   "execution_count": 82,
   "id": "1564844c",
   "metadata": {},
   "outputs": [],
   "source": [
    "first_gen = gen.my_gen_divi_by_seven(n)"
   ]
  },
  {
   "cell_type": "code",
   "execution_count": 83,
   "id": "427ba9a7",
   "metadata": {},
   "outputs": [
    {
     "name": "stdout",
     "output_type": "stream",
     "text": [
      "0\n",
      "7\n",
      "14\n"
     ]
    }
   ],
   "source": [
    "for i in first_gen:\n",
    "    print(i)"
   ]
  },
  {
   "cell_type": "code",
   "execution_count": null,
   "id": "2bafff89",
   "metadata": {},
   "outputs": [],
   "source": []
  }
 ],
 "metadata": {
  "kernelspec": {
   "display_name": "Python 3 (ipykernel)",
   "language": "python",
   "name": "python3"
  },
  "language_info": {
   "codemirror_mode": {
    "name": "ipython",
    "version": 3
   },
   "file_extension": ".py",
   "mimetype": "text/x-python",
   "name": "python",
   "nbconvert_exporter": "python",
   "pygments_lexer": "ipython3",
   "version": "3.8.8"
  }
 },
 "nbformat": 4,
 "nbformat_minor": 5
}
