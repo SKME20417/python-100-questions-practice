{
 "cells": [
  {
   "cell_type": "code",
   "execution_count": 2,
   "id": "02f1e809",
   "metadata": {},
   "outputs": [
    {
     "data": {
      "text/plain": [
       "dict"
      ]
     },
     "execution_count": 2,
     "metadata": {},
     "output_type": "execute_result"
    }
   ],
   "source": [
    "type({})"
   ]
  },
  {
   "cell_type": "code",
   "execution_count": 3,
   "id": "d3fa9ca6",
   "metadata": {},
   "outputs": [
    {
     "data": {
      "text/plain": [
       "set()"
      ]
     },
     "execution_count": 3,
     "metadata": {},
     "output_type": "execute_result"
    }
   ],
   "source": [
    "set()"
   ]
  },
  {
   "cell_type": "code",
   "execution_count": 4,
   "id": "710ffbb9",
   "metadata": {},
   "outputs": [
    {
     "data": {
      "text/plain": [
       "{2}"
      ]
     },
     "execution_count": 4,
     "metadata": {},
     "output_type": "execute_result"
    }
   ],
   "source": [
    "{2}"
   ]
  },
  {
   "cell_type": "code",
   "execution_count": 5,
   "id": "2d443e5e",
   "metadata": {},
   "outputs": [],
   "source": [
    "d1 = {}"
   ]
  },
  {
   "cell_type": "code",
   "execution_count": 6,
   "id": "3a1501d3",
   "metadata": {},
   "outputs": [],
   "source": [
    "dic = dict()"
   ]
  },
  {
   "cell_type": "code",
   "execution_count": 7,
   "id": "626af080",
   "metadata": {},
   "outputs": [
    {
     "data": {
      "text/plain": [
       "dict"
      ]
     },
     "execution_count": 7,
     "metadata": {},
     "output_type": "execute_result"
    }
   ],
   "source": [
    "type(dic)"
   ]
  },
  {
   "cell_type": "code",
   "execution_count": 9,
   "id": "84a2655f",
   "metadata": {},
   "outputs": [],
   "source": [
    "my_dict = dict([(1,\"abc\"), (2,\"pqr\")])"
   ]
  },
  {
   "cell_type": "code",
   "execution_count": 10,
   "id": "99dbee65",
   "metadata": {},
   "outputs": [
    {
     "data": {
      "text/plain": [
       "{1: 'abc', 2: 'pqr'}"
      ]
     },
     "execution_count": 10,
     "metadata": {},
     "output_type": "execute_result"
    }
   ],
   "source": [
    "my_dict"
   ]
  },
  {
   "cell_type": "code",
   "execution_count": 12,
   "id": "859437b6",
   "metadata": {},
   "outputs": [],
   "source": [
    "user_info = {\n",
    "    'name':\"Sanjay Kumar\",\n",
    "    'age':30,\n",
    "    \"natinality\":\"Indian\"\n",
    "}"
   ]
  },
  {
   "cell_type": "code",
   "execution_count": 13,
   "id": "1e78f758",
   "metadata": {},
   "outputs": [
    {
     "data": {
      "text/plain": [
       "{'name': 'Sanjay Kumar', 'age': 30, 'natinality': 'Indian'}"
      ]
     },
     "execution_count": 13,
     "metadata": {},
     "output_type": "execute_result"
    }
   ],
   "source": [
    "user_info"
   ]
  },
  {
   "cell_type": "code",
   "execution_count": 14,
   "id": "d85eeca3",
   "metadata": {},
   "outputs": [
    {
     "data": {
      "text/plain": [
       "dict"
      ]
     },
     "execution_count": 14,
     "metadata": {},
     "output_type": "execute_result"
    }
   ],
   "source": [
    "type(user_info)"
   ]
  },
  {
   "cell_type": "code",
   "execution_count": 15,
   "id": "73f074a1",
   "metadata": {},
   "outputs": [
    {
     "data": {
      "text/plain": [
       "'Sanjay Kumar'"
      ]
     },
     "execution_count": 15,
     "metadata": {},
     "output_type": "execute_result"
    }
   ],
   "source": [
    "user_info['name']"
   ]
  },
  {
   "cell_type": "code",
   "execution_count": 16,
   "id": "657634e4",
   "metadata": {},
   "outputs": [
    {
     "data": {
      "text/plain": [
       "30"
      ]
     },
     "execution_count": 16,
     "metadata": {},
     "output_type": "execute_result"
    }
   ],
   "source": [
    "user_info['age']"
   ]
  },
  {
   "cell_type": "code",
   "execution_count": 17,
   "id": "dfefde19",
   "metadata": {},
   "outputs": [
    {
     "data": {
      "text/plain": [
       "'Indian'"
      ]
     },
     "execution_count": 17,
     "metadata": {},
     "output_type": "execute_result"
    }
   ],
   "source": [
    "user_info['natinality']"
   ]
  },
  {
   "cell_type": "code",
   "execution_count": 18,
   "id": "f40a2401",
   "metadata": {},
   "outputs": [
    {
     "ename": "KeyError",
     "evalue": "'hobby'",
     "output_type": "error",
     "traceback": [
      "\u001b[1;31m---------------------------------------------------------------------------\u001b[0m",
      "\u001b[1;31mKeyError\u001b[0m                                  Traceback (most recent call last)",
      "\u001b[1;32m<ipython-input-18-ec56ead5a4d9>\u001b[0m in \u001b[0;36m<module>\u001b[1;34m\u001b[0m\n\u001b[1;32m----> 1\u001b[1;33m \u001b[0muser_info\u001b[0m\u001b[1;33m[\u001b[0m\u001b[1;34m'hobby'\u001b[0m\u001b[1;33m]\u001b[0m\u001b[1;33m\u001b[0m\u001b[1;33m\u001b[0m\u001b[0m\n\u001b[0m",
      "\u001b[1;31mKeyError\u001b[0m: 'hobby'"
     ]
    }
   ],
   "source": [
    "user_info['hobby']"
   ]
  },
  {
   "cell_type": "code",
   "execution_count": 19,
   "id": "7073ff43",
   "metadata": {},
   "outputs": [],
   "source": [
    "user_info.get('hobby')"
   ]
  },
  {
   "cell_type": "code",
   "execution_count": 20,
   "id": "ada84b8b",
   "metadata": {},
   "outputs": [
    {
     "data": {
      "text/plain": [
       "'Sanjay Kumar'"
      ]
     },
     "execution_count": 20,
     "metadata": {},
     "output_type": "execute_result"
    }
   ],
   "source": [
    "user_info.get('name')"
   ]
  },
  {
   "cell_type": "code",
   "execution_count": 21,
   "id": "7c92a87b",
   "metadata": {},
   "outputs": [
    {
     "name": "stdout",
     "output_type": "stream",
     "text": [
      "{'name': 'Sanjay Kumar', 'age': 30, 'natinality': 'Indian'}\n"
     ]
    }
   ],
   "source": [
    "print(user_info)"
   ]
  },
  {
   "cell_type": "code",
   "execution_count": 23,
   "id": "3e70148e",
   "metadata": {},
   "outputs": [],
   "source": [
    "user_info['Hobby'] = ['Singing', 'Cricket', 'Coding']"
   ]
  },
  {
   "cell_type": "code",
   "execution_count": 24,
   "id": "f246aa2b",
   "metadata": {},
   "outputs": [
    {
     "data": {
      "text/plain": [
       "{'name': 'Sanjay Kumar',\n",
       " 'age': 30,\n",
       " 'natinality': 'Indian',\n",
       " 'Hobby': ['Singing', 'Cricket', 'Coding']}"
      ]
     },
     "execution_count": 24,
     "metadata": {},
     "output_type": "execute_result"
    }
   ],
   "source": [
    "user_info"
   ]
  },
  {
   "cell_type": "code",
   "execution_count": 25,
   "id": "e9536664",
   "metadata": {},
   "outputs": [
    {
     "data": {
      "text/plain": [
       "['Singing', 'Cricket', 'Coding']"
      ]
     },
     "execution_count": 25,
     "metadata": {},
     "output_type": "execute_result"
    }
   ],
   "source": [
    "user_info['Hobby']"
   ]
  },
  {
   "cell_type": "code",
   "execution_count": 27,
   "id": "465dac5b",
   "metadata": {},
   "outputs": [],
   "source": [
    "user_info['name'] = 'mohit kumar'"
   ]
  },
  {
   "cell_type": "code",
   "execution_count": 29,
   "id": "18a70a45",
   "metadata": {},
   "outputs": [
    {
     "name": "stdout",
     "output_type": "stream",
     "text": [
      "{'name': 'mohit kumar', 'age': 30, 'natinality': 'Indian', 'Hobby': ['Singing', 'Cricket', 'Coding']}\n"
     ]
    }
   ],
   "source": [
    "print(user_info)"
   ]
  },
  {
   "cell_type": "code",
   "execution_count": 30,
   "id": "33bc0cb5",
   "metadata": {},
   "outputs": [
    {
     "data": {
      "text/plain": [
       "dict_keys(['name', 'age', 'natinality', 'Hobby'])"
      ]
     },
     "execution_count": 30,
     "metadata": {},
     "output_type": "execute_result"
    }
   ],
   "source": [
    "user_info.keys()"
   ]
  },
  {
   "cell_type": "code",
   "execution_count": 31,
   "id": "61f7b4e7",
   "metadata": {},
   "outputs": [
    {
     "data": {
      "text/plain": [
       "dict_values(['mohit kumar', 30, 'Indian', ['Singing', 'Cricket', 'Coding']])"
      ]
     },
     "execution_count": 31,
     "metadata": {},
     "output_type": "execute_result"
    }
   ],
   "source": [
    "user_info.values()"
   ]
  },
  {
   "cell_type": "code",
   "execution_count": 32,
   "id": "9201b53d",
   "metadata": {},
   "outputs": [
    {
     "data": {
      "text/plain": [
       "dict_items([('name', 'mohit kumar'), ('age', 30), ('natinality', 'Indian'), ('Hobby', ['Singing', 'Cricket', 'Coding'])])"
      ]
     },
     "execution_count": 32,
     "metadata": {},
     "output_type": "execute_result"
    }
   ],
   "source": [
    "user_info.items()"
   ]
  },
  {
   "cell_type": "code",
   "execution_count": 38,
   "id": "749885a8",
   "metadata": {},
   "outputs": [
    {
     "name": "stdout",
     "output_type": "stream",
     "text": [
      "name : mohit kumar\n",
      "age : 30\n",
      "natinality : Indian\n",
      "Hobby : ['Singing', 'Cricket', 'Coding']\n"
     ]
    }
   ],
   "source": [
    "for k,v in user_info.items():\n",
    "    print(k,\":\",v)"
   ]
  },
  {
   "cell_type": "code",
   "execution_count": 44,
   "id": "94d90ed4",
   "metadata": {},
   "outputs": [
    {
     "name": "stdout",
     "output_type": "stream",
     "text": [
      "name : mohit kumar\n",
      "age : 30\n",
      "natinality : Indian\n",
      "Hobby : ['Singing', 'Cricket', 'Coding']\n"
     ]
    }
   ],
   "source": [
    "for k in user_info:\n",
    "    print(k, \":\", user_info[k])"
   ]
  },
  {
   "cell_type": "code",
   "execution_count": 45,
   "id": "b2d4acd4",
   "metadata": {},
   "outputs": [
    {
     "data": {
      "text/plain": [
       "566"
      ]
     },
     "execution_count": 45,
     "metadata": {},
     "output_type": "execute_result"
    }
   ],
   "source": [
    "hash(566)"
   ]
  },
  {
   "cell_type": "code",
   "execution_count": 46,
   "id": "26d35d6d",
   "metadata": {},
   "outputs": [
    {
     "data": {
      "text/plain": [
       "-8694205886898526964"
      ]
     },
     "execution_count": 46,
     "metadata": {},
     "output_type": "execute_result"
    }
   ],
   "source": [
    "hash('python')"
   ]
  },
  {
   "cell_type": "code",
   "execution_count": 48,
   "id": "567e5f8e",
   "metadata": {},
   "outputs": [
    {
     "data": {
      "text/plain": [
       "-1350146935415579984"
      ]
     },
     "execution_count": 48,
     "metadata": {},
     "output_type": "execute_result"
    }
   ],
   "source": [
    "hash((5,6,7))"
   ]
  },
  {
   "cell_type": "code",
   "execution_count": 49,
   "id": "c70829ca",
   "metadata": {},
   "outputs": [
    {
     "ename": "TypeError",
     "evalue": "unhashable type: 'list'",
     "output_type": "error",
     "traceback": [
      "\u001b[1;31m---------------------------------------------------------------------------\u001b[0m",
      "\u001b[1;31mTypeError\u001b[0m                                 Traceback (most recent call last)",
      "\u001b[1;32m<ipython-input-49-9797218c984a>\u001b[0m in \u001b[0;36m<module>\u001b[1;34m\u001b[0m\n\u001b[1;32m----> 1\u001b[1;33m \u001b[0mhash\u001b[0m\u001b[1;33m(\u001b[0m\u001b[1;33m[\u001b[0m\u001b[1;36m2\u001b[0m\u001b[1;33m,\u001b[0m\u001b[1;36m5\u001b[0m\u001b[1;33m,\u001b[0m\u001b[1;36m8\u001b[0m\u001b[1;33m]\u001b[0m\u001b[1;33m)\u001b[0m\u001b[1;33m\u001b[0m\u001b[1;33m\u001b[0m\u001b[0m\n\u001b[0m",
      "\u001b[1;31mTypeError\u001b[0m: unhashable type: 'list'"
     ]
    }
   ],
   "source": [
    "hash([2,5,8])"
   ]
  },
  {
   "cell_type": "code",
   "execution_count": 50,
   "id": "2db5ef1f",
   "metadata": {},
   "outputs": [
    {
     "data": {
      "text/plain": [
       "{'name': 'mohit kumar',\n",
       " 'age': 30,\n",
       " 'natinality': 'Indian',\n",
       " 'Hobby': ['Singing', 'Cricket', 'Coding']}"
      ]
     },
     "execution_count": 50,
     "metadata": {},
     "output_type": "execute_result"
    }
   ],
   "source": [
    "user_info"
   ]
  },
  {
   "cell_type": "code",
   "execution_count": 52,
   "id": "ea4dd665",
   "metadata": {},
   "outputs": [
    {
     "data": {
      "text/plain": [
       "30"
      ]
     },
     "execution_count": 52,
     "metadata": {},
     "output_type": "execute_result"
    }
   ],
   "source": [
    "user_info.pop('age')"
   ]
  },
  {
   "cell_type": "code",
   "execution_count": 53,
   "id": "7e476311",
   "metadata": {},
   "outputs": [
    {
     "data": {
      "text/plain": [
       "{'name': 'mohit kumar',\n",
       " 'natinality': 'Indian',\n",
       " 'Hobby': ['Singing', 'Cricket', 'Coding']}"
      ]
     },
     "execution_count": 53,
     "metadata": {},
     "output_type": "execute_result"
    }
   ],
   "source": [
    "user_info"
   ]
  },
  {
   "cell_type": "code",
   "execution_count": 54,
   "id": "d658be95",
   "metadata": {},
   "outputs": [
    {
     "ename": "KeyError",
     "evalue": "'age'",
     "output_type": "error",
     "traceback": [
      "\u001b[1;31m---------------------------------------------------------------------------\u001b[0m",
      "\u001b[1;31mKeyError\u001b[0m                                  Traceback (most recent call last)",
      "\u001b[1;32m<ipython-input-54-8a1ec0272046>\u001b[0m in \u001b[0;36m<module>\u001b[1;34m\u001b[0m\n\u001b[1;32m----> 1\u001b[1;33m \u001b[0muser_info\u001b[0m\u001b[1;33m.\u001b[0m\u001b[0mpop\u001b[0m\u001b[1;33m(\u001b[0m\u001b[1;34m'age'\u001b[0m\u001b[1;33m)\u001b[0m\u001b[1;33m\u001b[0m\u001b[1;33m\u001b[0m\u001b[0m\n\u001b[0m",
      "\u001b[1;31mKeyError\u001b[0m: 'age'"
     ]
    }
   ],
   "source": [
    "user_info.pop('age')"
   ]
  },
  {
   "cell_type": "code",
   "execution_count": 56,
   "id": "5236acc9",
   "metadata": {},
   "outputs": [],
   "source": [
    "del user_info['natinality']"
   ]
  },
  {
   "cell_type": "code",
   "execution_count": 57,
   "id": "fdebb9db",
   "metadata": {},
   "outputs": [
    {
     "data": {
      "text/plain": [
       "{'name': 'mohit kumar', 'Hobby': ['Singing', 'Cricket', 'Coding']}"
      ]
     },
     "execution_count": 57,
     "metadata": {},
     "output_type": "execute_result"
    }
   ],
   "source": [
    "user_info"
   ]
  },
  {
   "cell_type": "code",
   "execution_count": 58,
   "id": "d51cded8",
   "metadata": {},
   "outputs": [
    {
     "data": {
      "text/plain": [
       "{'name': 'mohit kumar', 'Hobby': ['Singing', 'Cricket', 'Coding']}"
      ]
     },
     "execution_count": 58,
     "metadata": {},
     "output_type": "execute_result"
    }
   ],
   "source": [
    "user_info"
   ]
  },
  {
   "cell_type": "code",
   "execution_count": 59,
   "id": "a54694a3",
   "metadata": {},
   "outputs": [],
   "source": [
    "del user_info"
   ]
  },
  {
   "cell_type": "code",
   "execution_count": 60,
   "id": "55bb000c",
   "metadata": {},
   "outputs": [],
   "source": [
    "canteen_menu = {\n",
    "    'samosa':50,\n",
    "    \"pizza\":500,\n",
    "    \"burger\":90,\n",
    "    \"fruits\":{\n",
    "        \"small\":30,\n",
    "        \"medium\":60,\n",
    "        \"large\":90\n",
    "    }\n",
    "}"
   ]
  },
  {
   "cell_type": "code",
   "execution_count": 61,
   "id": "cd9a5f60",
   "metadata": {},
   "outputs": [
    {
     "data": {
      "text/plain": [
       "{'samosa': 50,\n",
       " 'pizza': 500,\n",
       " 'burger': 90,\n",
       " 'fruits': {'small': 30, 'medium': 60, 'large': 90}}"
      ]
     },
     "execution_count": 61,
     "metadata": {},
     "output_type": "execute_result"
    }
   ],
   "source": [
    "canteen_menu"
   ]
  },
  {
   "cell_type": "code",
   "execution_count": 63,
   "id": "50564c99",
   "metadata": {},
   "outputs": [
    {
     "data": {
      "text/plain": [
       "60"
      ]
     },
     "execution_count": 63,
     "metadata": {},
     "output_type": "execute_result"
    }
   ],
   "source": [
    "canteen_menu.get('fruits')['medium']"
   ]
  },
  {
   "cell_type": "code",
   "execution_count": 66,
   "id": "fd80a1c2",
   "metadata": {},
   "outputs": [],
   "source": [
    "canteen_menu['fruits']['large'] = 81"
   ]
  },
  {
   "cell_type": "code",
   "execution_count": 67,
   "id": "8bd53c2f",
   "metadata": {},
   "outputs": [
    {
     "data": {
      "text/plain": [
       "{'samosa': 50,\n",
       " 'pizza': 500,\n",
       " 'burger': 90,\n",
       " 'fruits': {'small': 30, 'medium': 60, 'large': 81}}"
      ]
     },
     "execution_count": 67,
     "metadata": {},
     "output_type": "execute_result"
    }
   ],
   "source": [
    "canteen_menu"
   ]
  },
  {
   "cell_type": "code",
   "execution_count": 69,
   "id": "a5ec6ec0",
   "metadata": {},
   "outputs": [],
   "source": [
    "canteen_menu['juice'] = [25,36,46]"
   ]
  },
  {
   "cell_type": "code",
   "execution_count": 70,
   "id": "2cd6e5a6",
   "metadata": {},
   "outputs": [
    {
     "data": {
      "text/plain": [
       "{'samosa': 50,\n",
       " 'pizza': 500,\n",
       " 'burger': 90,\n",
       " 'fruits': {'small': 30, 'medium': 60, 'large': 81},\n",
       " 'juice': [25, 36, 46]}"
      ]
     },
     "execution_count": 70,
     "metadata": {},
     "output_type": "execute_result"
    }
   ],
   "source": [
    "canteen_menu"
   ]
  },
  {
   "cell_type": "code",
   "execution_count": 72,
   "id": "3f8cc0b2",
   "metadata": {},
   "outputs": [
    {
     "data": {
      "text/plain": [
       "46"
      ]
     },
     "execution_count": 72,
     "metadata": {},
     "output_type": "execute_result"
    }
   ],
   "source": [
    "canteen_menu['juice'][-1]"
   ]
  },
  {
   "cell_type": "code",
   "execution_count": 73,
   "id": "3f7c612f",
   "metadata": {},
   "outputs": [],
   "source": [
    "d = {1:'a', 2:\"b\", 3:'c'}"
   ]
  },
  {
   "cell_type": "code",
   "execution_count": 74,
   "id": "97d07460",
   "metadata": {},
   "outputs": [
    {
     "name": "stdout",
     "output_type": "stream",
     "text": [
      "{1: 'a', 2: 'b', 3: 'c'}\n"
     ]
    }
   ],
   "source": [
    "print(d)"
   ]
  },
  {
   "cell_type": "code",
   "execution_count": 76,
   "id": "8cc27a33",
   "metadata": {},
   "outputs": [
    {
     "name": "stdout",
     "output_type": "stream",
     "text": [
      "1 : a\n",
      "2 : b\n",
      "3 : c\n"
     ]
    }
   ],
   "source": [
    "for k,v in d.items():\n",
    "    print(k,\":\",v)\n",
    "    \n",
    "    "
   ]
  },
  {
   "cell_type": "code",
   "execution_count": 77,
   "id": "ae4460be",
   "metadata": {},
   "outputs": [
    {
     "data": {
      "text/plain": [
       "{1: 'a', 2: 'b', 3: 'c'}"
      ]
     },
     "execution_count": 77,
     "metadata": {},
     "output_type": "execute_result"
    }
   ],
   "source": [
    "{k:v for k,v in d.items()}"
   ]
  },
  {
   "cell_type": "code",
   "execution_count": 78,
   "id": "f218b967",
   "metadata": {},
   "outputs": [],
   "source": [
    "\n",
    "d = {'a' :1, 'b': 2, 'c': 3, 'd' : 4}"
   ]
  },
  {
   "cell_type": "code",
   "execution_count": 80,
   "id": "fc74ec9a",
   "metadata": {},
   "outputs": [],
   "source": [
    "n = {k:v for k,v in d.items() if v>=2}"
   ]
  },
  {
   "cell_type": "code",
   "execution_count": 81,
   "id": "4de2a03b",
   "metadata": {},
   "outputs": [
    {
     "name": "stdout",
     "output_type": "stream",
     "text": [
      "{'b': 2, 'c': 3, 'd': 4}\n"
     ]
    }
   ],
   "source": [
    "print(n)"
   ]
  },
  {
   "cell_type": "code",
   "execution_count": 85,
   "id": "2cbec2c5",
   "metadata": {},
   "outputs": [],
   "source": [
    "n = {k+\"z\":v**3 for k,v in d.items() if v>=2}"
   ]
  },
  {
   "cell_type": "code",
   "execution_count": 86,
   "id": "902a6e2e",
   "metadata": {},
   "outputs": [
    {
     "name": "stdout",
     "output_type": "stream",
     "text": [
      "{'bz': 8, 'cz': 27, 'dz': 64}\n"
     ]
    }
   ],
   "source": [
    "print(n)"
   ]
  },
  {
   "cell_type": "code",
   "execution_count": 87,
   "id": "a6653111",
   "metadata": {},
   "outputs": [
    {
     "data": {
      "text/plain": [
       "{'a': 1, 'b': 2, 'c': 3, 'd': 4}"
      ]
     },
     "execution_count": 87,
     "metadata": {},
     "output_type": "execute_result"
    }
   ],
   "source": [
    "d"
   ]
  },
  {
   "cell_type": "code",
   "execution_count": 88,
   "id": "322134e0",
   "metadata": {},
   "outputs": [
    {
     "data": {
      "text/plain": [
       "{1: 'a', 2: 'b', 3: 'c', 4: 'd'}"
      ]
     },
     "execution_count": 88,
     "metadata": {},
     "output_type": "execute_result"
    }
   ],
   "source": [
    "{v:k for k,v in d.items()}"
   ]
  },
  {
   "cell_type": "code",
   "execution_count": 89,
   "id": "420a01d4",
   "metadata": {},
   "outputs": [
    {
     "data": {
      "text/plain": [
       "{'a': 1, 'b': 2, 'c': 3, 'd': 4}"
      ]
     },
     "execution_count": 89,
     "metadata": {},
     "output_type": "execute_result"
    }
   ],
   "source": [
    "d"
   ]
  },
  {
   "cell_type": "code",
   "execution_count": 90,
   "id": "b3a43a62",
   "metadata": {},
   "outputs": [],
   "source": [
    "neew_dic = {}\n",
    "for k,v in d.items():\n",
    "    neew_dic[v] = k"
   ]
  },
  {
   "cell_type": "code",
   "execution_count": 91,
   "id": "b2c7f5b3",
   "metadata": {},
   "outputs": [
    {
     "data": {
      "text/plain": [
       "{1: 'a', 2: 'b', 3: 'c', 4: 'd'}"
      ]
     },
     "execution_count": 91,
     "metadata": {},
     "output_type": "execute_result"
    }
   ],
   "source": [
    "neew_dic"
   ]
  },
  {
   "cell_type": "code",
   "execution_count": 98,
   "id": "f39950c9",
   "metadata": {},
   "outputs": [],
   "source": [
    "def greetings(name):\n",
    "    \"\"\"It will greet you\"\"\"\n",
    "    print(\"Hello Good morning\", name)"
   ]
  },
  {
   "cell_type": "code",
   "execution_count": 93,
   "id": "1c4aa16c",
   "metadata": {},
   "outputs": [
    {
     "name": "stdout",
     "output_type": "stream",
     "text": [
      "Hello Good morning sanjay\n"
     ]
    }
   ],
   "source": [
    "greetings('sanjay')"
   ]
  },
  {
   "cell_type": "code",
   "execution_count": 94,
   "id": "e57f68f2",
   "metadata": {},
   "outputs": [
    {
     "name": "stdout",
     "output_type": "stream",
     "text": [
      "<function greetings at 0x000002A15EA16790>\n"
     ]
    }
   ],
   "source": [
    "print(greetings)"
   ]
  },
  {
   "cell_type": "code",
   "execution_count": 95,
   "id": "528b7e4a",
   "metadata": {},
   "outputs": [
    {
     "data": {
      "text/plain": [
       "function"
      ]
     },
     "execution_count": 95,
     "metadata": {},
     "output_type": "execute_result"
    }
   ],
   "source": [
    "type(greetings)"
   ]
  },
  {
   "cell_type": "code",
   "execution_count": 96,
   "id": "afb72115",
   "metadata": {},
   "outputs": [
    {
     "name": "stdout",
     "output_type": "stream",
     "text": [
      "Hello Good morning sachin\n"
     ]
    }
   ],
   "source": [
    "greetings('sachin')"
   ]
  },
  {
   "cell_type": "code",
   "execution_count": 97,
   "id": "9eba47b4",
   "metadata": {},
   "outputs": [
    {
     "data": {
      "text/plain": [
       "'It will greet you'"
      ]
     },
     "execution_count": 97,
     "metadata": {},
     "output_type": "execute_result"
    }
   ],
   "source": [
    "greetings.__doc__"
   ]
  },
  {
   "cell_type": "code",
   "execution_count": 99,
   "id": "c09b6ff5",
   "metadata": {},
   "outputs": [],
   "source": [
    "def add(a,b):\n",
    "    \"\"\"This will return sum of 2 numbers\"\"\"\n",
    "    c = a+b\n",
    "    return c"
   ]
  },
  {
   "cell_type": "code",
   "execution_count": 100,
   "id": "68295939",
   "metadata": {},
   "outputs": [
    {
     "data": {
      "text/plain": [
       "12"
      ]
     },
     "execution_count": 100,
     "metadata": {},
     "output_type": "execute_result"
    }
   ],
   "source": [
    "add(5,7)"
   ]
  },
  {
   "cell_type": "code",
   "execution_count": 101,
   "id": "b964281b",
   "metadata": {},
   "outputs": [
    {
     "data": {
      "text/plain": [
       "8"
      ]
     },
     "execution_count": 101,
     "metadata": {},
     "output_type": "execute_result"
    }
   ],
   "source": [
    "add(5,3)"
   ]
  },
  {
   "cell_type": "code",
   "execution_count": 103,
   "id": "7a2d345f",
   "metadata": {},
   "outputs": [],
   "source": [
    "my_sum = add(5,4)"
   ]
  },
  {
   "cell_type": "code",
   "execution_count": 104,
   "id": "4abbc0d6",
   "metadata": {},
   "outputs": [
    {
     "name": "stdout",
     "output_type": "stream",
     "text": [
      "9\n"
     ]
    }
   ],
   "source": [
    "print(my_sum)"
   ]
  },
  {
   "cell_type": "code",
   "execution_count": 105,
   "id": "d5364323",
   "metadata": {},
   "outputs": [],
   "source": [
    "def product(lst):\n",
    "    \"\"\"\n",
    "    lst : It is a list\n",
    "    \n",
    "    product: it is a multiplication of all elemnts\n",
    "    \n",
    "    \"\"\"\n",
    "    p = 1\n",
    "    for i in lst:\n",
    "        p*=i\n",
    "        \n",
    "    return p\n",
    "        "
   ]
  },
  {
   "cell_type": "code",
   "execution_count": null,
   "id": "b9de5a45",
   "metadata": {},
   "outputs": [],
   "source": [
    "product()"
   ]
  },
  {
   "cell_type": "code",
   "execution_count": 106,
   "id": "0cb18f35",
   "metadata": {},
   "outputs": [],
   "source": [
    "lst = [5, 3, 2, 4, 1]"
   ]
  },
  {
   "cell_type": "code",
   "execution_count": 108,
   "id": "86eff69d",
   "metadata": {},
   "outputs": [],
   "source": [
    "res = product(lst)"
   ]
  },
  {
   "cell_type": "code",
   "execution_count": 109,
   "id": "b2e0b446",
   "metadata": {},
   "outputs": [
    {
     "name": "stdout",
     "output_type": "stream",
     "text": [
      "120\n"
     ]
    }
   ],
   "source": [
    "print(res)"
   ]
  },
  {
   "cell_type": "code",
   "execution_count": 110,
   "id": "9f7581e5",
   "metadata": {},
   "outputs": [],
   "source": [
    "lst2 = [3,7,9,10,5]"
   ]
  },
  {
   "cell_type": "code",
   "execution_count": 112,
   "id": "ef9e9b55",
   "metadata": {},
   "outputs": [],
   "source": [
    "res2 = product(lst2)"
   ]
  },
  {
   "cell_type": "code",
   "execution_count": 113,
   "id": "a7d3949d",
   "metadata": {},
   "outputs": [
    {
     "name": "stdout",
     "output_type": "stream",
     "text": [
      "9450\n"
     ]
    }
   ],
   "source": [
    "print(res2)"
   ]
  },
  {
   "cell_type": "code",
   "execution_count": 114,
   "id": "9d7aefe8",
   "metadata": {},
   "outputs": [],
   "source": [
    "def calculator(a,b):\n",
    "    \"\"\"\n",
    "    it will perform basic arithmetic operations\n",
    "    \"\"\"\n",
    "    return a+b , a-b, a*b, a/b"
   ]
  },
  {
   "cell_type": "code",
   "execution_count": 117,
   "id": "b17f671d",
   "metadata": {},
   "outputs": [],
   "source": [
    "cal_res = calculator(6,3)"
   ]
  },
  {
   "cell_type": "code",
   "execution_count": 118,
   "id": "ae2b7897",
   "metadata": {},
   "outputs": [
    {
     "name": "stdout",
     "output_type": "stream",
     "text": [
      "(9, 3, 18, 2.0)\n"
     ]
    }
   ],
   "source": [
    "print(cal_res)"
   ]
  },
  {
   "cell_type": "code",
   "execution_count": 119,
   "id": "99a3d242",
   "metadata": {},
   "outputs": [],
   "source": [
    "age = 24"
   ]
  },
  {
   "cell_type": "code",
   "execution_count": 120,
   "id": "87fd744c",
   "metadata": {},
   "outputs": [
    {
     "name": "stdout",
     "output_type": "stream",
     "text": [
      "24\n"
     ]
    }
   ],
   "source": [
    "print(age)"
   ]
  },
  {
   "cell_type": "code",
   "execution_count": 128,
   "id": "4fe75701",
   "metadata": {},
   "outputs": [
    {
     "name": "stdout",
     "output_type": "stream",
     "text": [
      "24\n"
     ]
    }
   ],
   "source": [
    "print(globals()['age'])"
   ]
  },
  {
   "cell_type": "code",
   "execution_count": 130,
   "id": "cde425f9",
   "metadata": {},
   "outputs": [
    {
     "name": "stdout",
     "output_type": "stream",
     "text": [
      "24\n"
     ]
    }
   ],
   "source": [
    "print(age)"
   ]
  },
  {
   "cell_type": "code",
   "execution_count": 132,
   "id": "95413a73",
   "metadata": {},
   "outputs": [],
   "source": [
    "globals()['age'] = 30"
   ]
  },
  {
   "cell_type": "code",
   "execution_count": 133,
   "id": "467e8d6e",
   "metadata": {},
   "outputs": [
    {
     "data": {
      "text/plain": [
       "30"
      ]
     },
     "execution_count": 133,
     "metadata": {},
     "output_type": "execute_result"
    }
   ],
   "source": [
    "age"
   ]
  },
  {
   "cell_type": "code",
   "execution_count": 136,
   "id": "0fc9d44b",
   "metadata": {},
   "outputs": [
    {
     "name": "stdout",
     "output_type": "stream",
     "text": [
      "30\n"
     ]
    }
   ],
   "source": [
    "print(globals()['age'])"
   ]
  },
  {
   "cell_type": "code",
   "execution_count": 140,
   "id": "03afe763",
   "metadata": {},
   "outputs": [
    {
     "name": "stdout",
     "output_type": "stream",
     "text": [
      "100\n",
      "66\n",
      "100\n"
     ]
    },
    {
     "ename": "NameError",
     "evalue": "name 'local_var' is not defined",
     "output_type": "error",
     "traceback": [
      "\u001b[1;31m---------------------------------------------------------------------------\u001b[0m",
      "\u001b[1;31mNameError\u001b[0m                                 Traceback (most recent call last)",
      "\u001b[1;32m<ipython-input-140-f1f6165b1548>\u001b[0m in \u001b[0;36m<module>\u001b[1;34m\u001b[0m\n\u001b[0;32m      9\u001b[0m \u001b[0mtest\u001b[0m\u001b[1;33m(\u001b[0m\u001b[1;33m)\u001b[0m\u001b[1;33m\u001b[0m\u001b[1;33m\u001b[0m\u001b[0m\n\u001b[0;32m     10\u001b[0m \u001b[0mprint\u001b[0m\u001b[1;33m(\u001b[0m\u001b[0mglobal_var\u001b[0m\u001b[1;33m)\u001b[0m\u001b[1;33m\u001b[0m\u001b[1;33m\u001b[0m\u001b[0m\n\u001b[1;32m---> 11\u001b[1;33m \u001b[0mprint\u001b[0m\u001b[1;33m(\u001b[0m\u001b[0mlocal_var\u001b[0m\u001b[1;33m)\u001b[0m\u001b[1;33m\u001b[0m\u001b[1;33m\u001b[0m\u001b[0m\n\u001b[0m\u001b[0;32m     12\u001b[0m \u001b[1;33m\u001b[0m\u001b[0m\n\u001b[0;32m     13\u001b[0m \u001b[1;33m\u001b[0m\u001b[0m\n",
      "\u001b[1;31mNameError\u001b[0m: name 'local_var' is not defined"
     ]
    }
   ],
   "source": [
    "global_var = 100\n",
    "\n",
    "def test():\n",
    "    local_var = 66\n",
    "    \n",
    "    print(global_var)\n",
    "    print(local_var)\n",
    "    \n",
    "test()\n",
    "print(global_var)\n",
    "print(local_var)\n",
    "\n",
    "    "
   ]
  },
  {
   "cell_type": "code",
   "execution_count": 146,
   "id": "9b97be5b",
   "metadata": {},
   "outputs": [],
   "source": [
    "x = 45\n",
    "\n",
    "def test1():\n",
    "    global x\n",
    "    x = 95\n",
    "    print(x)\n"
   ]
  },
  {
   "cell_type": "code",
   "execution_count": 147,
   "id": "17e8cd8b",
   "metadata": {},
   "outputs": [
    {
     "name": "stdout",
     "output_type": "stream",
     "text": [
      "95\n"
     ]
    }
   ],
   "source": [
    "test1()"
   ]
  },
  {
   "cell_type": "code",
   "execution_count": 148,
   "id": "06144566",
   "metadata": {},
   "outputs": [
    {
     "name": "stdout",
     "output_type": "stream",
     "text": [
      "95\n"
     ]
    }
   ],
   "source": [
    "print(x)"
   ]
  },
  {
   "cell_type": "code",
   "execution_count": 144,
   "id": "da8173d4",
   "metadata": {},
   "outputs": [
    {
     "ename": "NameError",
     "evalue": "name 'y' is not defined",
     "output_type": "error",
     "traceback": [
      "\u001b[1;31m---------------------------------------------------------------------------\u001b[0m",
      "\u001b[1;31mNameError\u001b[0m                                 Traceback (most recent call last)",
      "\u001b[1;32m<ipython-input-144-d9183e048de3>\u001b[0m in \u001b[0;36m<module>\u001b[1;34m\u001b[0m\n\u001b[1;32m----> 1\u001b[1;33m \u001b[0mprint\u001b[0m\u001b[1;33m(\u001b[0m\u001b[0my\u001b[0m\u001b[1;33m)\u001b[0m\u001b[1;33m\u001b[0m\u001b[1;33m\u001b[0m\u001b[0m\n\u001b[0m",
      "\u001b[1;31mNameError\u001b[0m: name 'y' is not defined"
     ]
    }
   ],
   "source": [
    "print(y)"
   ]
  },
  {
   "cell_type": "code",
   "execution_count": 151,
   "id": "b8e14557",
   "metadata": {},
   "outputs": [],
   "source": [
    "add = (lambda a,b : a+b)"
   ]
  },
  {
   "cell_type": "code",
   "execution_count": 152,
   "id": "4de5719f",
   "metadata": {},
   "outputs": [
    {
     "data": {
      "text/plain": [
       "9"
      ]
     },
     "execution_count": 152,
     "metadata": {},
     "output_type": "execute_result"
    }
   ],
   "source": [
    "add(5,4)"
   ]
  },
  {
   "cell_type": "code",
   "execution_count": 156,
   "id": "20c8fc3a",
   "metadata": {},
   "outputs": [],
   "source": [
    "func = (lambda x,y : x+y if x+y>0 else 0)"
   ]
  },
  {
   "cell_type": "code",
   "execution_count": 157,
   "id": "e14bae59",
   "metadata": {},
   "outputs": [],
   "source": [
    "names = [('Prateek', 5), ('Mohit',2), ('Abhi', 6 )]"
   ]
  },
  {
   "cell_type": "code",
   "execution_count": 158,
   "id": "f94e8d0a",
   "metadata": {},
   "outputs": [],
   "source": [
    "names = [('Prateek', 5),(\"Mohit\", 2),(\"Abhi\", 6)]"
   ]
  },
  {
   "cell_type": "code",
   "execution_count": 159,
   "id": "7aa24e1b",
   "metadata": {},
   "outputs": [
    {
     "data": {
      "text/plain": [
       "[('Abhi', 6), ('Mohit', 2), ('Prateek', 5)]"
      ]
     },
     "execution_count": 159,
     "metadata": {},
     "output_type": "execute_result"
    }
   ],
   "source": [
    "sorted(names)"
   ]
  },
  {
   "cell_type": "code",
   "execution_count": 160,
   "id": "dd1a35a3",
   "metadata": {},
   "outputs": [
    {
     "data": {
      "text/plain": [
       "[('Mohit', 2), ('Prateek', 5), ('Abhi', 6)]"
      ]
     },
     "execution_count": 160,
     "metadata": {},
     "output_type": "execute_result"
    }
   ],
   "source": [
    "sorted(names, key=lambda x:x[1])"
   ]
  },
  {
   "cell_type": "code",
   "execution_count": 3,
   "id": "c71ff98f",
   "metadata": {},
   "outputs": [],
   "source": [
    "a = \"aabbbccccddddd\""
   ]
  },
  {
   "cell_type": "code",
   "execution_count": 4,
   "id": "44cf3b6d",
   "metadata": {},
   "outputs": [
    {
     "data": {
      "text/plain": [
       "{'a': 2, 'b': 3, 'c': 4, 'd': 5}"
      ]
     },
     "execution_count": 4,
     "metadata": {},
     "output_type": "execute_result"
    }
   ],
   "source": [
    "{i:a.count(i) for i in a }"
   ]
  },
  {
   "cell_type": "code",
   "execution_count": 5,
   "id": "62f8d43a",
   "metadata": {},
   "outputs": [],
   "source": [
    "dic = {}\n",
    "\n",
    "for i in a:\n",
    "    if i not in dic:\n",
    "        dic[i] = 1\n",
    "        \n",
    "    else:\n",
    "        dic[i]+=1"
   ]
  },
  {
   "cell_type": "code",
   "execution_count": 6,
   "id": "992c6ef2",
   "metadata": {},
   "outputs": [
    {
     "data": {
      "text/plain": [
       "{'a': 2, 'b': 3, 'c': 4, 'd': 5}"
      ]
     },
     "execution_count": 6,
     "metadata": {},
     "output_type": "execute_result"
    }
   ],
   "source": [
    "dic"
   ]
  },
  {
   "cell_type": "code",
   "execution_count": 7,
   "id": "ccee22a9",
   "metadata": {},
   "outputs": [],
   "source": [
    "def LCM(a,b):\n",
    "    \"\"\" Return LCM of a and b\n",
    "    \"\"\"\n",
    "    max_num = a if a>b else b\n",
    "    \n",
    "    while True:\n",
    "        if (max_num%a==0) and (max_num%b==0):\n",
    "            return max_num\n",
    "        else:\n",
    "            max_num+=1\n",
    "    \n",
    "    "
   ]
  },
  {
   "cell_type": "code",
   "execution_count": 8,
   "id": "e0fa573b",
   "metadata": {},
   "outputs": [
    {
     "data": {
      "text/plain": [
       "15"
      ]
     },
     "execution_count": 8,
     "metadata": {},
     "output_type": "execute_result"
    }
   ],
   "source": [
    "LCM(3,5)"
   ]
  },
  {
   "cell_type": "code",
   "execution_count": 9,
   "id": "c0f785a7",
   "metadata": {},
   "outputs": [
    {
     "data": {
      "text/plain": [
       "10"
      ]
     },
     "execution_count": 9,
     "metadata": {},
     "output_type": "execute_result"
    }
   ],
   "source": [
    "LCM(2,5)"
   ]
  },
  {
   "cell_type": "code",
   "execution_count": 11,
   "id": "ec4719b9",
   "metadata": {},
   "outputs": [],
   "source": [
    "res = LCM(4,18)"
   ]
  },
  {
   "cell_type": "code",
   "execution_count": 12,
   "id": "16d113c7",
   "metadata": {},
   "outputs": [
    {
     "name": "stdout",
     "output_type": "stream",
     "text": [
      "36\n"
     ]
    }
   ],
   "source": [
    "print(res)"
   ]
  },
  {
   "cell_type": "code",
   "execution_count": 13,
   "id": "b9bc8642",
   "metadata": {},
   "outputs": [],
   "source": [
    "#LCM"
   ]
  },
  {
   "cell_type": "code",
   "execution_count": 14,
   "id": "8e106005",
   "metadata": {},
   "outputs": [],
   "source": [
    "def LCM(a,b):\n",
    "    \"\"\"It will calculate LCM\"\"\"\n",
    "    \n",
    "    Max_num = a if a>b else b\n",
    "    \n",
    "    while True:\n",
    "        if (Max_num%a==0) and (Max_num%b==0):\n",
    "            return Max_num\n",
    "        \n",
    "        else:\n",
    "            Max_num+=1"
   ]
  },
  {
   "cell_type": "code",
   "execution_count": 15,
   "id": "eac48ee0",
   "metadata": {},
   "outputs": [
    {
     "data": {
      "text/plain": [
       "16"
      ]
     },
     "execution_count": 15,
     "metadata": {},
     "output_type": "execute_result"
    }
   ],
   "source": [
    "LCM(4,16)"
   ]
  },
  {
   "cell_type": "code",
   "execution_count": 17,
   "id": "9d00e099",
   "metadata": {},
   "outputs": [],
   "source": [
    "res = LCM(3,5)"
   ]
  },
  {
   "cell_type": "code",
   "execution_count": 18,
   "id": "03a5687c",
   "metadata": {},
   "outputs": [
    {
     "name": "stdout",
     "output_type": "stream",
     "text": [
      "15\n"
     ]
    }
   ],
   "source": [
    "print(res)"
   ]
  },
  {
   "cell_type": "code",
   "execution_count": 19,
   "id": "cad9ce8c",
   "metadata": {},
   "outputs": [],
   "source": [
    "def intro(name, nationality):\n",
    "    print(\"My name is \", name)\n",
    "    print(\"My nationality is\", nationality)"
   ]
  },
  {
   "cell_type": "code",
   "execution_count": 21,
   "id": "2d6c6e50",
   "metadata": {},
   "outputs": [
    {
     "name": "stdout",
     "output_type": "stream",
     "text": [
      "My name is  sanjay\n",
      "My nationality is Indian\n"
     ]
    }
   ],
   "source": [
    "intro('sanjay', 'Indian')"
   ]
  },
  {
   "cell_type": "code",
   "execution_count": 22,
   "id": "30c3209d",
   "metadata": {},
   "outputs": [
    {
     "name": "stdout",
     "output_type": "stream",
     "text": [
      "My name is  Mohit\n",
      "My nationality is Indian\n"
     ]
    }
   ],
   "source": [
    "intro('Mohit', 'Indian')"
   ]
  },
  {
   "cell_type": "code",
   "execution_count": 25,
   "id": "4364fc33",
   "metadata": {},
   "outputs": [
    {
     "name": "stdout",
     "output_type": "stream",
     "text": [
      "My name is  John\n",
      "My nationality is Ameriacan\n"
     ]
    }
   ],
   "source": [
    "intro('John', \"Ameriacan\")"
   ]
  },
  {
   "cell_type": "code",
   "execution_count": 26,
   "id": "af09cdb4",
   "metadata": {},
   "outputs": [
    {
     "name": "stdout",
     "output_type": "stream",
     "text": [
      "My name is  English\n",
      "My nationality is klark\n"
     ]
    }
   ],
   "source": [
    "intro('English', \"klark\")"
   ]
  },
  {
   "cell_type": "code",
   "execution_count": 28,
   "id": "1b0f6444",
   "metadata": {},
   "outputs": [],
   "source": [
    "def intro(name, nationality=\"Indian\"):\n",
    "    print(\"My name is \", name)\n",
    "    print(\"My nationality is\", nationality)"
   ]
  },
  {
   "cell_type": "code",
   "execution_count": 31,
   "id": "686a667c",
   "metadata": {},
   "outputs": [
    {
     "name": "stdout",
     "output_type": "stream",
     "text": [
      "My name is  sachin\n",
      "My nationality is American\n"
     ]
    }
   ],
   "source": [
    "intro('sachin', \"American\")"
   ]
  },
  {
   "cell_type": "code",
   "execution_count": 32,
   "id": "42f0ed66",
   "metadata": {},
   "outputs": [
    {
     "name": "stdout",
     "output_type": "stream",
     "text": [
      "My name is  Sachin\n",
      "My nationality is Indian\n"
     ]
    }
   ],
   "source": [
    "intro('Sachin')"
   ]
  },
  {
   "cell_type": "code",
   "execution_count": 34,
   "id": "d9f6e5f9",
   "metadata": {},
   "outputs": [],
   "source": [
    "def test(a,b,c=0):\n",
    "    pass"
   ]
  },
  {
   "cell_type": "code",
   "execution_count": 39,
   "id": "a6cef1e6",
   "metadata": {},
   "outputs": [],
   "source": [
    "def args_func(*args):\n",
    "    print(args)\n",
    "    print(type(args))\n",
    "    for i in args:\n",
    "        print(i)"
   ]
  },
  {
   "cell_type": "code",
   "execution_count": 40,
   "id": "4dd82964",
   "metadata": {},
   "outputs": [
    {
     "name": "stdout",
     "output_type": "stream",
     "text": [
      "(12, 23, 45.0, 56, 78, 89, 'Mohit', True)\n",
      "<class 'tuple'>\n",
      "12\n",
      "23\n",
      "45.0\n",
      "56\n",
      "78\n",
      "89\n",
      "Mohit\n",
      "True\n"
     ]
    }
   ],
   "source": [
    "args_func(12,23,45.0,56,78,89, \"Mohit\", True)"
   ]
  },
  {
   "cell_type": "code",
   "execution_count": 46,
   "id": "af53a1ed",
   "metadata": {},
   "outputs": [],
   "source": [
    "def kwargs_fun(**kwargs):\n",
    "    print(kwargs)\n",
    "    print(type(kwargs))\n",
    "    \n",
    "    for k,v in kwargs.items():\n",
    "        print(k,\":\", v)"
   ]
  },
  {
   "cell_type": "code",
   "execution_count": 47,
   "id": "bf5529ef",
   "metadata": {},
   "outputs": [
    {
     "name": "stdout",
     "output_type": "stream",
     "text": [
      "{'name': 'Mohit', 'age': 25, 'Natinality': 'Indian', 'Hobbies': ['singing', 'Reading', 'coding']}\n",
      "<class 'dict'>\n",
      "name : Mohit\n",
      "age : 25\n",
      "Natinality : Indian\n",
      "Hobbies : ['singing', 'Reading', 'coding']\n"
     ]
    }
   ],
   "source": [
    "kwargs_fun(name = \"Mohit\", age = 25, Natinality = \"Indian\", Hobbies=[\"singing\", \"Reading\", \"coding\"])"
   ]
  },
  {
   "cell_type": "code",
   "execution_count": 49,
   "id": "9abe51ed",
   "metadata": {},
   "outputs": [
    {
     "name": "stdout",
     "output_type": "stream",
     "text": [
      "{'name': 'Prateek', 'age': 30, 'Natinality': 'Indian', 'company': 'Google'}\n",
      "<class 'dict'>\n",
      "name : Prateek\n",
      "age : 30\n",
      "Natinality : Indian\n",
      "company : Google\n"
     ]
    }
   ],
   "source": [
    "kwargs_fun(name = \"Prateek\", age = 30, Natinality = \"Indian\", company = \"Google\")"
   ]
  },
  {
   "cell_type": "code",
   "execution_count": 50,
   "id": "8cb3c248",
   "metadata": {},
   "outputs": [],
   "source": [
    "def combination(a,b,c, age = 18, *args, **kwargs):\n",
    "    print(a,b,c,age)\n",
    "    print(args)\n",
    "    print(kwargs)"
   ]
  },
  {
   "cell_type": "code",
   "execution_count": 51,
   "id": "956147bf",
   "metadata": {},
   "outputs": [
    {
     "name": "stdout",
     "output_type": "stream",
     "text": [
      "100 200 300 400\n",
      "(500, 600)\n",
      "{'x': 'machine', 'y': 'learning', 'z': 'by python'}\n"
     ]
    }
   ],
   "source": [
    "combination(100,200,300,400,500,600,x = \"machine\", y = \"learning\", z= \"by python\")"
   ]
  },
  {
   "cell_type": "code",
   "execution_count": 53,
   "id": "69f38eb1",
   "metadata": {},
   "outputs": [
    {
     "data": {
      "text/plain": [
       "1.1"
      ]
     },
     "execution_count": 53,
     "metadata": {},
     "output_type": "execute_result"
    }
   ],
   "source": [
    "abs(-1.1)"
   ]
  },
  {
   "cell_type": "code",
   "execution_count": 57,
   "id": "cdd030ec",
   "metadata": {},
   "outputs": [
    {
     "data": {
      "text/plain": [
       "78.236599"
      ]
     },
     "execution_count": 57,
     "metadata": {},
     "output_type": "execute_result"
    }
   ],
   "source": [
    "round(78.23659852365, 6)"
   ]
  },
  {
   "cell_type": "code",
   "execution_count": 64,
   "id": "2cb8fd41",
   "metadata": {},
   "outputs": [],
   "source": [
    "lst = [1,2,3,4,0, False]"
   ]
  },
  {
   "cell_type": "code",
   "execution_count": 65,
   "id": "a612f7e0",
   "metadata": {},
   "outputs": [
    {
     "data": {
      "text/plain": [
       "False"
      ]
     },
     "execution_count": 65,
     "metadata": {},
     "output_type": "execute_result"
    }
   ],
   "source": [
    "all(lst)"
   ]
  },
  {
   "cell_type": "code",
   "execution_count": 66,
   "id": "61a0e73f",
   "metadata": {},
   "outputs": [
    {
     "data": {
      "text/plain": [
       "True"
      ]
     },
     "execution_count": 66,
     "metadata": {},
     "output_type": "execute_result"
    }
   ],
   "source": [
    "any(lst)"
   ]
  },
  {
   "cell_type": "code",
   "execution_count": 72,
   "id": "0f9b14d2",
   "metadata": {},
   "outputs": [],
   "source": [
    "tup = (2,3,4,0)"
   ]
  },
  {
   "cell_type": "code",
   "execution_count": 73,
   "id": "653e777b",
   "metadata": {},
   "outputs": [
    {
     "data": {
      "text/plain": [
       "False"
      ]
     },
     "execution_count": 73,
     "metadata": {},
     "output_type": "execute_result"
    }
   ],
   "source": [
    "all(tup)"
   ]
  },
  {
   "cell_type": "code",
   "execution_count": 74,
   "id": "8bbcc070",
   "metadata": {},
   "outputs": [
    {
     "data": {
      "text/plain": [
       "True"
      ]
     },
     "execution_count": 74,
     "metadata": {},
     "output_type": "execute_result"
    }
   ],
   "source": [
    "any(tup)"
   ]
  },
  {
   "cell_type": "code",
   "execution_count": 75,
   "id": "45a99ebb",
   "metadata": {},
   "outputs": [],
   "source": [
    "lst = []"
   ]
  },
  {
   "cell_type": "code",
   "execution_count": 76,
   "id": "dcb5a528",
   "metadata": {},
   "outputs": [
    {
     "data": {
      "text/plain": [
       "True"
      ]
     },
     "execution_count": 76,
     "metadata": {},
     "output_type": "execute_result"
    }
   ],
   "source": [
    "all(lst)"
   ]
  },
  {
   "cell_type": "code",
   "execution_count": 77,
   "id": "118abf97",
   "metadata": {},
   "outputs": [
    {
     "data": {
      "text/plain": [
       "False"
      ]
     },
     "execution_count": 77,
     "metadata": {},
     "output_type": "execute_result"
    }
   ],
   "source": [
    "any(lst)"
   ]
  },
  {
   "cell_type": "code",
   "execution_count": 78,
   "id": "a6c35d12",
   "metadata": {},
   "outputs": [],
   "source": [
    "lst=  [False , 0, -1]"
   ]
  },
  {
   "cell_type": "code",
   "execution_count": 79,
   "id": "9d8fa3a0",
   "metadata": {},
   "outputs": [
    {
     "data": {
      "text/plain": [
       "True"
      ]
     },
     "execution_count": 79,
     "metadata": {},
     "output_type": "execute_result"
    }
   ],
   "source": [
    "any(lst)"
   ]
  },
  {
   "cell_type": "code",
   "execution_count": 82,
   "id": "2666098d",
   "metadata": {},
   "outputs": [],
   "source": [
    "lst = [0]*5"
   ]
  },
  {
   "cell_type": "code",
   "execution_count": 83,
   "id": "cca35241",
   "metadata": {},
   "outputs": [
    {
     "data": {
      "text/plain": [
       "False"
      ]
     },
     "execution_count": 83,
     "metadata": {},
     "output_type": "execute_result"
    }
   ],
   "source": [
    "all(lst)"
   ]
  },
  {
   "cell_type": "code",
   "execution_count": 84,
   "id": "cdd0a562",
   "metadata": {},
   "outputs": [
    {
     "data": {
      "text/plain": [
       "False"
      ]
     },
     "execution_count": 84,
     "metadata": {},
     "output_type": "execute_result"
    }
   ],
   "source": [
    "any(lst)"
   ]
  },
  {
   "cell_type": "code",
   "execution_count": 85,
   "id": "93409add",
   "metadata": {},
   "outputs": [],
   "source": [
    "lst = [1,2,3,4]"
   ]
  },
  {
   "cell_type": "code",
   "execution_count": 87,
   "id": "69f582e3",
   "metadata": {},
   "outputs": [
    {
     "name": "stdout",
     "output_type": "stream",
     "text": [
      "['__add__', '__class__', '__contains__', '__delattr__', '__delitem__', '__dir__', '__doc__', '__eq__', '__format__', '__ge__', '__getattribute__', '__getitem__', '__gt__', '__hash__', '__iadd__', '__imul__', '__init__', '__init_subclass__', '__iter__', '__le__', '__len__', '__lt__', '__mul__', '__ne__', '__new__', '__reduce__', '__reduce_ex__', '__repr__', '__reversed__', '__rmul__', '__setattr__', '__setitem__', '__sizeof__', '__str__', '__subclasshook__', 'append', 'clear', 'copy', 'count', 'extend', 'index', 'insert', 'pop', 'remove', 'reverse', 'sort']\n"
     ]
    }
   ],
   "source": [
    "print(dir(lst))"
   ]
  },
  {
   "cell_type": "code",
   "execution_count": 88,
   "id": "ae5a6189",
   "metadata": {},
   "outputs": [],
   "source": [
    "fruits = ['apple', 'mango', 'banana', 'grapes']"
   ]
  },
  {
   "cell_type": "code",
   "execution_count": 93,
   "id": "65b6270f",
   "metadata": {},
   "outputs": [
    {
     "name": "stdout",
     "output_type": "stream",
     "text": [
      "15 apple\n",
      "16 mango\n",
      "17 banana\n",
      "18 grapes\n"
     ]
    }
   ],
   "source": [
    "for idx, i in enumerate(fruits, start=15):\n",
    "    print(idx, i)"
   ]
  },
  {
   "cell_type": "code",
   "execution_count": 94,
   "id": "29460aed",
   "metadata": {},
   "outputs": [],
   "source": [
    "lst = [3,6,8,2,5,1,0]"
   ]
  },
  {
   "cell_type": "code",
   "execution_count": 95,
   "id": "f341cd2f",
   "metadata": {},
   "outputs": [
    {
     "data": {
      "text/plain": [
       "8"
      ]
     },
     "execution_count": 95,
     "metadata": {},
     "output_type": "execute_result"
    }
   ],
   "source": [
    "max(lst)"
   ]
  },
  {
   "cell_type": "code",
   "execution_count": 96,
   "id": "4eb15822",
   "metadata": {},
   "outputs": [
    {
     "data": {
      "text/plain": [
       "0"
      ]
     },
     "execution_count": 96,
     "metadata": {},
     "output_type": "execute_result"
    }
   ],
   "source": [
    "min(lst)"
   ]
  },
  {
   "cell_type": "code",
   "execution_count": 97,
   "id": "598209fd",
   "metadata": {},
   "outputs": [
    {
     "data": {
      "text/plain": [
       "25"
      ]
     },
     "execution_count": 97,
     "metadata": {},
     "output_type": "execute_result"
    }
   ],
   "source": [
    "sum(lst)"
   ]
  },
  {
   "cell_type": "code",
   "execution_count": 101,
   "id": "66afe699",
   "metadata": {},
   "outputs": [
    {
     "data": {
      "text/plain": [
       "3.6"
      ]
     },
     "execution_count": 101,
     "metadata": {},
     "output_type": "execute_result"
    }
   ],
   "source": [
    "round(sum(lst)/len(lst),1)"
   ]
  },
  {
   "cell_type": "code",
   "execution_count": 103,
   "id": "77ff8270",
   "metadata": {},
   "outputs": [
    {
     "data": {
      "text/plain": [
       "[4, 7, 9, 3, 6, 2, 1]"
      ]
     },
     "execution_count": 103,
     "metadata": {},
     "output_type": "execute_result"
    }
   ],
   "source": [
    "list(map(lambda x:x+1, lst))"
   ]
  },
  {
   "cell_type": "code",
   "execution_count": 104,
   "id": "badcffba",
   "metadata": {},
   "outputs": [],
   "source": [
    "def add_one(x):\n",
    "    return x+1"
   ]
  },
  {
   "cell_type": "code",
   "execution_count": 105,
   "id": "dffd9448",
   "metadata": {},
   "outputs": [
    {
     "data": {
      "text/plain": [
       "101"
      ]
     },
     "execution_count": 105,
     "metadata": {},
     "output_type": "execute_result"
    }
   ],
   "source": [
    "add_one(100)"
   ]
  },
  {
   "cell_type": "code",
   "execution_count": 106,
   "id": "99a8b27a",
   "metadata": {},
   "outputs": [
    {
     "data": {
      "text/plain": [
       "[3, 6, 8, 2, 5, 1, 0]"
      ]
     },
     "execution_count": 106,
     "metadata": {},
     "output_type": "execute_result"
    }
   ],
   "source": [
    "lst"
   ]
  },
  {
   "cell_type": "code",
   "execution_count": 107,
   "id": "95ee6ac3",
   "metadata": {},
   "outputs": [],
   "source": [
    "new_lst = []\n",
    "\n",
    "for i in lst:\n",
    "    new_lst.append(i+1)"
   ]
  },
  {
   "cell_type": "code",
   "execution_count": 109,
   "id": "8354f823",
   "metadata": {},
   "outputs": [
    {
     "name": "stdout",
     "output_type": "stream",
     "text": [
      "[4, 7, 9, 3, 6, 2, 1]\n"
     ]
    }
   ],
   "source": [
    "print(new_lst)\n"
   ]
  },
  {
   "cell_type": "code",
   "execution_count": 112,
   "id": "15beb565",
   "metadata": {},
   "outputs": [],
   "source": [
    "map_ele = list(map(add_one,lst))"
   ]
  },
  {
   "cell_type": "code",
   "execution_count": 113,
   "id": "15a78262",
   "metadata": {},
   "outputs": [
    {
     "name": "stdout",
     "output_type": "stream",
     "text": [
      "[4, 7, 9, 3, 6, 2, 1]\n"
     ]
    }
   ],
   "source": [
    "print(map_ele)"
   ]
  },
  {
   "cell_type": "code",
   "execution_count": 114,
   "id": "5346081d",
   "metadata": {},
   "outputs": [
    {
     "data": {
      "text/plain": [
       "[3, 6, 8, 2, 5, 1, 0]"
      ]
     },
     "execution_count": 114,
     "metadata": {},
     "output_type": "execute_result"
    }
   ],
   "source": [
    "lst"
   ]
  },
  {
   "cell_type": "code",
   "execution_count": 115,
   "id": "4212dedd",
   "metadata": {},
   "outputs": [
    {
     "name": "stdout",
     "output_type": "stream",
     "text": [
      "[6, 8, 2, 0]\n"
     ]
    }
   ],
   "source": [
    "new_lst = []\n",
    "\n",
    "for i in lst:\n",
    "    if i%2==0:\n",
    "        new_lst.append(i)\n",
    "        \n",
    "print(new_lst)"
   ]
  },
  {
   "cell_type": "code",
   "execution_count": 116,
   "id": "80ad4c0d",
   "metadata": {},
   "outputs": [
    {
     "data": {
      "text/plain": [
       "[6, 8, 2, 0]"
      ]
     },
     "execution_count": 116,
     "metadata": {},
     "output_type": "execute_result"
    }
   ],
   "source": [
    "[i for i in lst if i%2==0]"
   ]
  },
  {
   "cell_type": "code",
   "execution_count": 120,
   "id": "4c19ed03",
   "metadata": {},
   "outputs": [],
   "source": [
    "def is_even(x):\n",
    "    return x%2==0"
   ]
  },
  {
   "cell_type": "code",
   "execution_count": 123,
   "id": "5e605480",
   "metadata": {},
   "outputs": [],
   "source": [
    "filter_ele = filter(is_even,lst)"
   ]
  },
  {
   "cell_type": "code",
   "execution_count": 124,
   "id": "46fafb13",
   "metadata": {},
   "outputs": [
    {
     "name": "stdout",
     "output_type": "stream",
     "text": [
      "<filter object at 0x000002219B7A84C0>\n"
     ]
    }
   ],
   "source": [
    "print(filter_ele)"
   ]
  },
  {
   "cell_type": "code",
   "execution_count": 125,
   "id": "9cbe524c",
   "metadata": {},
   "outputs": [
    {
     "data": {
      "text/plain": [
       "[6, 8, 2, 0]"
      ]
     },
     "execution_count": 125,
     "metadata": {},
     "output_type": "execute_result"
    }
   ],
   "source": [
    "list(filter_ele)"
   ]
  },
  {
   "cell_type": "code",
   "execution_count": 127,
   "id": "ed1a6ce4",
   "metadata": {},
   "outputs": [
    {
     "data": {
      "text/plain": [
       "[6, 8, 2, 0]"
      ]
     },
     "execution_count": 127,
     "metadata": {},
     "output_type": "execute_result"
    }
   ],
   "source": [
    "list(filter(lambda x:x%2==0, lst))"
   ]
  },
  {
   "cell_type": "code",
   "execution_count": 128,
   "id": "6aea4cce",
   "metadata": {},
   "outputs": [],
   "source": [
    "lst = [1,2,3,4,5]"
   ]
  },
  {
   "cell_type": "code",
   "execution_count": 129,
   "id": "6403c3f9",
   "metadata": {},
   "outputs": [
    {
     "name": "stdout",
     "output_type": "stream",
     "text": [
      "120\n"
     ]
    }
   ],
   "source": [
    "p = 1\n",
    "\n",
    "\n",
    "for i in lst:\n",
    "    p*=i\n",
    "    \n",
    "print(p)"
   ]
  },
  {
   "cell_type": "code",
   "execution_count": 130,
   "id": "81711397",
   "metadata": {},
   "outputs": [],
   "source": [
    "def product(x,y):\n",
    "    return x*y"
   ]
  },
  {
   "cell_type": "code",
   "execution_count": 131,
   "id": "6c2228e1",
   "metadata": {},
   "outputs": [],
   "source": [
    "from functools import reduce"
   ]
  },
  {
   "cell_type": "code",
   "execution_count": 132,
   "id": "a21ada8f",
   "metadata": {},
   "outputs": [
    {
     "data": {
      "text/plain": [
       "120"
      ]
     },
     "execution_count": 132,
     "metadata": {},
     "output_type": "execute_result"
    }
   ],
   "source": [
    "reduce(product, lst)"
   ]
  },
  {
   "cell_type": "code",
   "execution_count": 133,
   "id": "0fe4e8b0",
   "metadata": {},
   "outputs": [
    {
     "data": {
      "text/plain": [
       "120"
      ]
     },
     "execution_count": 133,
     "metadata": {},
     "output_type": "execute_result"
    }
   ],
   "source": [
    "reduce(lambda x,y:x*y, lst)"
   ]
  },
  {
   "cell_type": "code",
   "execution_count": 11,
   "id": "b11607fc",
   "metadata": {},
   "outputs": [],
   "source": [
    "import My_newcustom0311"
   ]
  },
  {
   "cell_type": "code",
   "execution_count": 12,
   "id": "8fb21986",
   "metadata": {},
   "outputs": [
    {
     "name": "stdout",
     "output_type": "stream",
     "text": [
      "Hello Good morning This is 3rd of November  Sanjay\n"
     ]
    }
   ],
   "source": [
    "res = My_newcustom0311.greetings(\"Sanjay\")"
   ]
  },
  {
   "cell_type": "code",
   "execution_count": 13,
   "id": "f762c072",
   "metadata": {},
   "outputs": [
    {
     "name": "stdout",
     "output_type": "stream",
     "text": [
      "None\n"
     ]
    }
   ],
   "source": [
    "print(res)"
   ]
  },
  {
   "cell_type": "code",
   "execution_count": 14,
   "id": "99a8fcd9",
   "metadata": {},
   "outputs": [
    {
     "name": "stdout",
     "output_type": "stream",
     "text": [
      "__main__\n"
     ]
    }
   ],
   "source": [
    "print(__name__)"
   ]
  },
  {
   "cell_type": "code",
   "execution_count": 15,
   "id": "77962ce4",
   "metadata": {},
   "outputs": [],
   "source": [
    "import math"
   ]
  },
  {
   "cell_type": "code",
   "execution_count": 17,
   "id": "410b819d",
   "metadata": {},
   "outputs": [
    {
     "name": "stdout",
     "output_type": "stream",
     "text": [
      "['__doc__', '__loader__', '__name__', '__package__', '__spec__', 'acos', 'acosh', 'asin', 'asinh', 'atan', 'atan2', 'atanh', 'ceil', 'comb', 'copysign', 'cos', 'cosh', 'degrees', 'dist', 'e', 'erf', 'erfc', 'exp', 'expm1', 'fabs', 'factorial', 'floor', 'fmod', 'frexp', 'fsum', 'gamma', 'gcd', 'hypot', 'inf', 'isclose', 'isfinite', 'isinf', 'isnan', 'isqrt', 'ldexp', 'lgamma', 'log', 'log10', 'log1p', 'log2', 'modf', 'nan', 'perm', 'pi', 'pow', 'prod', 'radians', 'remainder', 'sin', 'sinh', 'sqrt', 'tan', 'tanh', 'tau', 'trunc']\n"
     ]
    }
   ],
   "source": [
    "print(dir(math))"
   ]
  },
  {
   "cell_type": "code",
   "execution_count": 18,
   "id": "cbd04df2",
   "metadata": {},
   "outputs": [
    {
     "data": {
      "text/plain": [
       "3.141592653589793"
      ]
     },
     "execution_count": 18,
     "metadata": {},
     "output_type": "execute_result"
    }
   ],
   "source": [
    "math.pi"
   ]
  },
  {
   "cell_type": "code",
   "execution_count": 19,
   "id": "939cae21",
   "metadata": {},
   "outputs": [
    {
     "data": {
      "text/plain": [
       "81.0"
      ]
     },
     "execution_count": 19,
     "metadata": {},
     "output_type": "execute_result"
    }
   ],
   "source": [
    "math.pow(3,4)"
   ]
  },
  {
   "cell_type": "code",
   "execution_count": 20,
   "id": "de042b8b",
   "metadata": {},
   "outputs": [
    {
     "data": {
      "text/plain": [
       "120"
      ]
     },
     "execution_count": 20,
     "metadata": {},
     "output_type": "execute_result"
    }
   ],
   "source": [
    "math.factorial(5)"
   ]
  },
  {
   "cell_type": "code",
   "execution_count": 22,
   "id": "0a02e847",
   "metadata": {},
   "outputs": [
    {
     "data": {
      "text/plain": [
       "6"
      ]
     },
     "execution_count": 22,
     "metadata": {},
     "output_type": "execute_result"
    }
   ],
   "source": [
    "math.ceil(5.3)"
   ]
  },
  {
   "cell_type": "code",
   "execution_count": 23,
   "id": "ad4dc1c0",
   "metadata": {},
   "outputs": [],
   "source": [
    "import random"
   ]
  },
  {
   "cell_type": "code",
   "execution_count": 24,
   "id": "f7ee0620",
   "metadata": {},
   "outputs": [
    {
     "data": {
      "text/plain": [
       "14"
      ]
     },
     "execution_count": 24,
     "metadata": {},
     "output_type": "execute_result"
    }
   ],
   "source": [
    "random.randint(0,20)"
   ]
  },
  {
   "cell_type": "code",
   "execution_count": 32,
   "id": "8fa1faf5",
   "metadata": {},
   "outputs": [
    {
     "data": {
      "text/plain": [
       "58.59"
      ]
     },
     "execution_count": 32,
     "metadata": {},
     "output_type": "execute_result"
    }
   ],
   "source": [
    "round(random.random()*50 + 10, 2)"
   ]
  },
  {
   "cell_type": "code",
   "execution_count": 33,
   "id": "a7c66a0d",
   "metadata": {},
   "outputs": [],
   "source": [
    "import os"
   ]
  },
  {
   "cell_type": "code",
   "execution_count": 35,
   "id": "afe46979",
   "metadata": {},
   "outputs": [
    {
     "name": "stdout",
     "output_type": "stream",
     "text": [
      "['DirEntry', 'F_OK', 'MutableMapping', 'O_APPEND', 'O_BINARY', 'O_CREAT', 'O_EXCL', 'O_NOINHERIT', 'O_RANDOM', 'O_RDONLY', 'O_RDWR', 'O_SEQUENTIAL', 'O_SHORT_LIVED', 'O_TEMPORARY', 'O_TEXT', 'O_TRUNC', 'O_WRONLY', 'P_DETACH', 'P_NOWAIT', 'P_NOWAITO', 'P_OVERLAY', 'P_WAIT', 'PathLike', 'R_OK', 'SEEK_CUR', 'SEEK_END', 'SEEK_SET', 'TMP_MAX', 'W_OK', 'X_OK', '_AddedDllDirectory', '_Environ', '__all__', '__builtins__', '__cached__', '__doc__', '__file__', '__loader__', '__name__', '__package__', '__spec__', '_check_methods', '_execvpe', '_exists', '_exit', '_fspath', '_get_exports_list', '_putenv', '_unsetenv', '_wrap_close', 'abc', 'abort', 'access', 'add_dll_directory', 'altsep', 'chdir', 'chmod', 'close', 'closerange', 'cpu_count', 'curdir', 'defpath', 'device_encoding', 'devnull', 'dup', 'dup2', 'environ', 'error', 'execl', 'execle', 'execlp', 'execlpe', 'execv', 'execve', 'execvp', 'execvpe', 'extsep', 'fdopen', 'fsdecode', 'fsencode', 'fspath', 'fstat', 'fsync', 'ftruncate', 'get_exec_path', 'get_handle_inheritable', 'get_inheritable', 'get_terminal_size', 'getcwd', 'getcwdb', 'getenv', 'getlogin', 'getpid', 'getppid', 'isatty', 'kill', 'linesep', 'link', 'listdir', 'lseek', 'lstat', 'makedirs', 'mkdir', 'name', 'open', 'pardir', 'path', 'pathsep', 'pipe', 'popen', 'putenv', 'read', 'readlink', 'remove', 'removedirs', 'rename', 'renames', 'replace', 'rmdir', 'scandir', 'sep', 'set_handle_inheritable', 'set_inheritable', 'spawnl', 'spawnle', 'spawnv', 'spawnve', 'st', 'startfile', 'stat', 'stat_result', 'statvfs_result', 'strerror', 'supports_bytes_environ', 'supports_dir_fd', 'supports_effective_ids', 'supports_fd', 'supports_follow_symlinks', 'symlink', 'sys', 'system', 'terminal_size', 'times', 'times_result', 'truncate', 'umask', 'uname_result', 'unlink', 'urandom', 'utime', 'waitpid', 'walk', 'write']\n"
     ]
    }
   ],
   "source": [
    "print(dir(os))"
   ]
  },
  {
   "cell_type": "code",
   "execution_count": 37,
   "id": "49dad4d2",
   "metadata": {},
   "outputs": [
    {
     "data": {
      "text/plain": [
       "'C:\\\\Users\\\\skme2\\\\Downloads'"
      ]
     },
     "execution_count": 37,
     "metadata": {},
     "output_type": "execute_result"
    }
   ],
   "source": [
    "os.getcwd()"
   ]
  },
  {
   "cell_type": "code",
   "execution_count": 38,
   "id": "a6324cef",
   "metadata": {},
   "outputs": [],
   "source": [
    "os.mkdir(\"thisismyfolder03011\")"
   ]
  },
  {
   "cell_type": "code",
   "execution_count": 39,
   "id": "733fda81",
   "metadata": {},
   "outputs": [],
   "source": [
    "os.remove('november11.py')"
   ]
  },
  {
   "cell_type": "code",
   "execution_count": 40,
   "id": "9d620f0c",
   "metadata": {},
   "outputs": [],
   "source": [
    "os.removedirs('thisismyfolder03011/')"
   ]
  },
  {
   "cell_type": "code",
   "execution_count": 42,
   "id": "4ad3089c",
   "metadata": {},
   "outputs": [],
   "source": [
    "#os.rename()"
   ]
  },
  {
   "cell_type": "code",
   "execution_count": 43,
   "id": "b8468165",
   "metadata": {},
   "outputs": [],
   "source": [
    "import sys"
   ]
  },
  {
   "cell_type": "code",
   "execution_count": 47,
   "id": "1e38fc70",
   "metadata": {},
   "outputs": [
    {
     "data": {
      "text/plain": [
       "'3.8.8 (default, Apr 13 2021, 15:08:03) [MSC v.1916 64 bit (AMD64)]'"
      ]
     },
     "execution_count": 47,
     "metadata": {},
     "output_type": "execute_result"
    }
   ],
   "source": [
    "sys.version"
   ]
  },
  {
   "cell_type": "code",
   "execution_count": 45,
   "id": "50283892",
   "metadata": {},
   "outputs": [
    {
     "data": {
      "text/plain": [
       "sys.version_info(major=3, minor=8, micro=8, releaselevel='final', serial=0)"
      ]
     },
     "execution_count": 45,
     "metadata": {},
     "output_type": "execute_result"
    }
   ],
   "source": [
    "sys.version_info"
   ]
  },
  {
   "cell_type": "code",
   "execution_count": 48,
   "id": "39d463dd",
   "metadata": {},
   "outputs": [
    {
     "data": {
      "text/plain": [
       "['C:\\\\Users\\\\skme2\\\\Downloads',\n",
       " 'C:\\\\Users\\\\skme2\\\\anaconda3\\\\python38.zip',\n",
       " 'C:\\\\Users\\\\skme2\\\\anaconda3\\\\DLLs',\n",
       " 'C:\\\\Users\\\\skme2\\\\anaconda3\\\\lib',\n",
       " 'C:\\\\Users\\\\skme2\\\\anaconda3',\n",
       " '',\n",
       " 'C:\\\\Users\\\\skme2\\\\AppData\\\\Roaming\\\\Python\\\\Python38\\\\site-packages',\n",
       " 'C:\\\\Users\\\\skme2\\\\anaconda3\\\\lib\\\\site-packages',\n",
       " 'C:\\\\Users\\\\skme2\\\\Downloads\\\\p1\\\\FSDS_NOV_deepCNNClassifier\\\\src',\n",
       " 'C:\\\\Users\\\\skme2\\\\anaconda3\\\\lib\\\\site-packages\\\\locket-0.2.1-py3.8.egg',\n",
       " 'C:\\\\Users\\\\skme2\\\\anaconda3\\\\lib\\\\site-packages\\\\win32',\n",
       " 'C:\\\\Users\\\\skme2\\\\anaconda3\\\\lib\\\\site-packages\\\\win32\\\\lib',\n",
       " 'C:\\\\Users\\\\skme2\\\\anaconda3\\\\lib\\\\site-packages\\\\Pythonwin',\n",
       " 'C:\\\\Users\\\\skme2\\\\anaconda3\\\\lib\\\\site-packages\\\\IPython\\\\extensions',\n",
       " 'C:\\\\Users\\\\skme2\\\\.ipython']"
      ]
     },
     "execution_count": 48,
     "metadata": {},
     "output_type": "execute_result"
    }
   ],
   "source": [
    "sys.path"
   ]
  },
  {
   "cell_type": "code",
   "execution_count": 49,
   "id": "1dd1613f",
   "metadata": {},
   "outputs": [],
   "source": [
    "import datetime"
   ]
  },
  {
   "cell_type": "code",
   "execution_count": 50,
   "id": "e211b17e",
   "metadata": {},
   "outputs": [
    {
     "data": {
      "text/plain": [
       "datetime.datetime(2022, 11, 3, 12, 18, 5, 227522)"
      ]
     },
     "execution_count": 50,
     "metadata": {},
     "output_type": "execute_result"
    }
   ],
   "source": [
    "datetime.datetime.now()"
   ]
  },
  {
   "cell_type": "code",
   "execution_count": 51,
   "id": "92ca0a00",
   "metadata": {},
   "outputs": [],
   "source": [
    "import math"
   ]
  },
  {
   "cell_type": "code",
   "execution_count": 52,
   "id": "f3bc9749",
   "metadata": {},
   "outputs": [],
   "source": [
    "import math as m"
   ]
  },
  {
   "cell_type": "code",
   "execution_count": 53,
   "id": "3a6680a5",
   "metadata": {},
   "outputs": [
    {
     "data": {
      "text/plain": [
       "120"
      ]
     },
     "execution_count": 53,
     "metadata": {},
     "output_type": "execute_result"
    }
   ],
   "source": [
    "m.factorial(5)"
   ]
  },
  {
   "cell_type": "code",
   "execution_count": 54,
   "id": "388b3bbc",
   "metadata": {},
   "outputs": [],
   "source": [
    "from math import factorial"
   ]
  },
  {
   "cell_type": "code",
   "execution_count": 55,
   "id": "438cfc58",
   "metadata": {},
   "outputs": [
    {
     "data": {
      "text/plain": [
       "120"
      ]
     },
     "execution_count": 55,
     "metadata": {},
     "output_type": "execute_result"
    }
   ],
   "source": [
    "factorial(5)"
   ]
  },
  {
   "cell_type": "code",
   "execution_count": 56,
   "id": "27029bbd",
   "metadata": {},
   "outputs": [],
   "source": [
    "from math import *"
   ]
  },
  {
   "cell_type": "code",
   "execution_count": 58,
   "id": "5b04fff3",
   "metadata": {},
   "outputs": [],
   "source": [
    "f = open('Example.txt')"
   ]
  },
  {
   "cell_type": "code",
   "execution_count": 60,
   "id": "8c93378f",
   "metadata": {},
   "outputs": [
    {
     "data": {
      "text/plain": [
       "False"
      ]
     },
     "execution_count": 60,
     "metadata": {},
     "output_type": "execute_result"
    }
   ],
   "source": [
    "f.closed"
   ]
  },
  {
   "cell_type": "code",
   "execution_count": 64,
   "id": "0d5a8083",
   "metadata": {},
   "outputs": [],
   "source": [
    "f = open('Example.txt', \"rt\")"
   ]
  },
  {
   "cell_type": "code",
   "execution_count": 67,
   "id": "9bff4eed",
   "metadata": {},
   "outputs": [],
   "source": [
    "f = open('Test0211.txt', \"wt\")"
   ]
  },
  {
   "cell_type": "code",
   "execution_count": 69,
   "id": "bceeed0a",
   "metadata": {},
   "outputs": [
    {
     "data": {
      "text/plain": [
       "False"
      ]
     },
     "execution_count": 69,
     "metadata": {},
     "output_type": "execute_result"
    }
   ],
   "source": [
    "f.closed"
   ]
  },
  {
   "cell_type": "code",
   "execution_count": 71,
   "id": "2cf0b07e",
   "metadata": {},
   "outputs": [],
   "source": [
    "f = open('Example.txt')"
   ]
  },
  {
   "cell_type": "code",
   "execution_count": 72,
   "id": "f298919b",
   "metadata": {},
   "outputs": [
    {
     "name": "stdout",
     "output_type": "stream",
     "text": [
      "False\n"
     ]
    }
   ],
   "source": [
    "print(f.closed)"
   ]
  },
  {
   "cell_type": "code",
   "execution_count": 74,
   "id": "de9264ea",
   "metadata": {},
   "outputs": [],
   "source": [
    "f.close()"
   ]
  },
  {
   "cell_type": "code",
   "execution_count": 75,
   "id": "ea76e50a",
   "metadata": {},
   "outputs": [
    {
     "data": {
      "text/plain": [
       "True"
      ]
     },
     "execution_count": 75,
     "metadata": {},
     "output_type": "execute_result"
    }
   ],
   "source": [
    "f.closed"
   ]
  },
  {
   "cell_type": "code",
   "execution_count": 79,
   "id": "2db8a82e",
   "metadata": {},
   "outputs": [
    {
     "name": "stdout",
     "output_type": "stream",
     "text": [
      "Inside :  False\n",
      "Outside :  True\n"
     ]
    }
   ],
   "source": [
    "with open('Example.txt', \"rt\") as f:\n",
    "    print(\"Inside : \", f.closed)\n",
    "    \n",
    "print(\"Outside : \" , f.closed)"
   ]
  },
  {
   "cell_type": "code",
   "execution_count": 81,
   "id": "e02118db",
   "metadata": {},
   "outputs": [
    {
     "name": "stdout",
     "output_type": "stream",
     "text": [
      "40 26\n"
     ]
    }
   ],
   "source": [
    "with open('newfile.txt', \"wt\") as f:\n",
    "    w1 = f.write(\"This file has been generated by python.\\n\")\n",
    "    w2 = f.write(\"I love python programming.\")\n",
    "    print(w1, w2)"
   ]
  },
  {
   "cell_type": "code",
   "execution_count": 82,
   "id": "aecb7486",
   "metadata": {},
   "outputs": [
    {
     "name": "stdout",
     "output_type": "stream",
     "text": [
      "This file has been generated by python.\n",
      "I love python programming.\n"
     ]
    }
   ],
   "source": [
    "with open(\"newfile.txt\", \"rt\") as f:\n",
    "    data = f.read()\n",
    "    print(data)"
   ]
  },
  {
   "cell_type": "code",
   "execution_count": 86,
   "id": "8075f6fe",
   "metadata": {},
   "outputs": [
    {
     "name": "stdout",
     "output_type": "stream",
     "text": [
      "This\n",
      " file\n"
     ]
    }
   ],
   "source": [
    "with open('newfile.txt', \"rt\") as f:\n",
    "    data = f.read(4)\n",
    "    print(data)\n",
    "    \n",
    "    d1 = f.read(5)\n",
    "    print(d1)"
   ]
  },
  {
   "cell_type": "code",
   "execution_count": 94,
   "id": "10736ffe",
   "metadata": {},
   "outputs": [
    {
     "name": "stdout",
     "output_type": "stream",
     "text": [
      "0\n",
      "This\n",
      "4\n",
      " file\n",
      "9\n",
      "This\n"
     ]
    }
   ],
   "source": [
    "with open('newfile.txt', 'rt') as f:\n",
    "    print(f.tell())\n",
    "    \n",
    "    print(f.read(4))\n",
    "    \n",
    "    print(f.tell())\n",
    "    \n",
    "    print(f.read(5))\n",
    "    \n",
    "    print(f.tell())\n",
    "    \n",
    "    f.seek(0)\n",
    "    \n",
    "    print(f.read(4))"
   ]
  },
  {
   "cell_type": "code",
   "execution_count": 95,
   "id": "85134dee",
   "metadata": {},
   "outputs": [
    {
     "name": "stdout",
     "output_type": "stream",
     "text": [
      "This file has been generated by python.\n",
      "\n",
      "I love python programming.\n"
     ]
    }
   ],
   "source": [
    "with open('newfile.txt', \"rt\") as f:\n",
    "    for i in f:\n",
    "        print(i)"
   ]
  },
  {
   "cell_type": "code",
   "execution_count": 99,
   "id": "d20c56e8",
   "metadata": {},
   "outputs": [
    {
     "name": "stdout",
     "output_type": "stream",
     "text": [
      "This file has been generated by python.\n",
      "\n",
      "I love python programming.\n"
     ]
    }
   ],
   "source": [
    "with open('newfile.txt', 'rt') as f:\n",
    "    data = f.readlines()\n",
    "    \n",
    "    #print(data)\n",
    "    \n",
    "    for i in data:\n",
    "        print(i)"
   ]
  },
  {
   "cell_type": "code",
   "execution_count": 107,
   "id": "0eb769b1",
   "metadata": {},
   "outputs": [
    {
     "name": "stdout",
     "output_type": "stream",
     "text": [
      "This file has been generated by python.\n",
      "I love python programming.Alpha Beta GymmaAlpha Beta Gymma./nAlpha Beta Gymma.\n",
      "\n"
     ]
    }
   ],
   "source": [
    "with open('newfile.txt') as f:\n",
    "    print(f.read())"
   ]
  },
  {
   "cell_type": "code",
   "execution_count": 106,
   "id": "303cca82",
   "metadata": {},
   "outputs": [
    {
     "name": "stdout",
     "output_type": "stream",
     "text": [
      "18\n"
     ]
    }
   ],
   "source": [
    "with open('newfile.txt', \"at\") as f:\n",
    "    print(f.write(\"Alpha Beta Gymma.\\n\"))"
   ]
  },
  {
   "cell_type": "code",
   "execution_count": 108,
   "id": "b105180c",
   "metadata": {},
   "outputs": [
    {
     "name": "stdout",
     "output_type": "stream",
     "text": [
      "This file has been generated by python.\n",
      "I love python programming.Alpha Beta GymmaAlpha Beta Gymma./nAlpha Beta Gymma.\n",
      "\n"
     ]
    }
   ],
   "source": [
    "with open('newfile.txt', \"rt\") as f:\n",
    "    print(f.read())"
   ]
  },
  {
   "cell_type": "code",
   "execution_count": 109,
   "id": "e0939052",
   "metadata": {},
   "outputs": [],
   "source": [
    "import os"
   ]
  },
  {
   "cell_type": "code",
   "execution_count": 110,
   "id": "addeac08",
   "metadata": {},
   "outputs": [],
   "source": [
    "filename = \"newfile.txt\""
   ]
  },
  {
   "cell_type": "code",
   "execution_count": 111,
   "id": "eb4cddb2",
   "metadata": {},
   "outputs": [
    {
     "name": "stdout",
     "output_type": "stream",
     "text": [
      "['This file has been generated by python.\\n', 'I love python programming.Alpha Beta GymmaAlpha Beta Gymma./nAlpha Beta Gymma.\\n']\n"
     ]
    }
   ],
   "source": [
    "data = None\n",
    "\n",
    "with open(filename, \"rt\") as f:\n",
    "    data = f.readlines()\n",
    "    \n",
    "print(data)"
   ]
  },
  {
   "cell_type": "code",
   "execution_count": 113,
   "id": "0177bbf6",
   "metadata": {},
   "outputs": [],
   "source": [
    "data[-1] = \"Python is fun with machine learning \\n\""
   ]
  },
  {
   "cell_type": "code",
   "execution_count": 114,
   "id": "514c144c",
   "metadata": {},
   "outputs": [
    {
     "data": {
      "text/plain": [
       "['This file has been generated by python.\\n',\n",
       " 'Python is fun with machine learning \\n']"
      ]
     },
     "execution_count": 114,
     "metadata": {},
     "output_type": "execute_result"
    }
   ],
   "source": [
    "data"
   ]
  },
  {
   "cell_type": "code",
   "execution_count": 115,
   "id": "ff8fcb95",
   "metadata": {},
   "outputs": [],
   "source": [
    "data_to_write = \"\".join(data)"
   ]
  },
  {
   "cell_type": "code",
   "execution_count": 116,
   "id": "36982c75",
   "metadata": {},
   "outputs": [
    {
     "data": {
      "text/plain": [
       "'This file has been generated by python.\\nPython is fun with machine learning \\n'"
      ]
     },
     "execution_count": 116,
     "metadata": {},
     "output_type": "execute_result"
    }
   ],
   "source": [
    "data_to_write"
   ]
  },
  {
   "cell_type": "code",
   "execution_count": 117,
   "id": "e71b9f2b",
   "metadata": {},
   "outputs": [],
   "source": [
    "with open('temp02011.txt',\"wt\") as f:\n",
    "    f.write(data_to_write)"
   ]
  },
  {
   "cell_type": "code",
   "execution_count": 118,
   "id": "230ed670",
   "metadata": {},
   "outputs": [],
   "source": [
    "os.remove(filename)"
   ]
  },
  {
   "cell_type": "code",
   "execution_count": 119,
   "id": "4bebcb8b",
   "metadata": {},
   "outputs": [],
   "source": [
    "os.rename(\"temp02011.txt\", filename)"
   ]
  },
  {
   "cell_type": "code",
   "execution_count": null,
   "id": "a9939c86",
   "metadata": {},
   "outputs": [],
   "source": []
  }
 ],
 "metadata": {
  "kernelspec": {
   "display_name": "Python 3",
   "language": "python",
   "name": "python3"
  },
  "language_info": {
   "codemirror_mode": {
    "name": "ipython",
    "version": 3
   },
   "file_extension": ".py",
   "mimetype": "text/x-python",
   "name": "python",
   "nbconvert_exporter": "python",
   "pygments_lexer": "ipython3",
   "version": "3.8.8"
  }
 },
 "nbformat": 4,
 "nbformat_minor": 5
}
