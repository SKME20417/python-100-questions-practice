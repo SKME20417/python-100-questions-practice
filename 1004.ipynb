{
 "cells": [
  {
   "cell_type": "code",
   "execution_count": 24,
   "id": "ba7be54f",
   "metadata": {},
   "outputs": [],
   "source": [
    "def ebengenerator(n):\n",
    "    for i in range(0,n+1,2):\n",
    "        yield i"
   ]
  },
  {
   "cell_type": "code",
   "execution_count": 25,
   "id": "b8a42979",
   "metadata": {},
   "outputs": [],
   "source": [
    "mygen = ebengenerator(10)"
   ]
  },
  {
   "cell_type": "code",
   "execution_count": 26,
   "id": "6e61fdf0",
   "metadata": {},
   "outputs": [
    {
     "name": "stdout",
     "output_type": "stream",
     "text": [
      "0 2 4 6 8 10 "
     ]
    }
   ],
   "source": [
    "for i in mygen:\n",
    "    print(i, end=\" \")"
   ]
  },
  {
   "cell_type": "code",
   "execution_count": 33,
   "id": "34557b8f",
   "metadata": {},
   "outputs": [],
   "source": [
    "def Evengenerator(n):\n",
    "    i = 0\n",
    "    while i<=n:\n",
    "        if i%2==0:\n",
    "            yield i\n",
    "        i+=1"
   ]
  },
  {
   "cell_type": "code",
   "execution_count": 34,
   "id": "527cdf66",
   "metadata": {},
   "outputs": [],
   "source": [
    "mygen23 = Evengenerator(10)"
   ]
  },
  {
   "cell_type": "code",
   "execution_count": 35,
   "id": "a460706f",
   "metadata": {},
   "outputs": [
    {
     "name": "stdout",
     "output_type": "stream",
     "text": [
      "0\n",
      "2\n",
      "4\n",
      "6\n",
      "8\n",
      "10\n"
     ]
    }
   ],
   "source": [
    "for i in mygen23:\n",
    "    print(i)"
   ]
  },
  {
   "cell_type": "code",
   "execution_count": 46,
   "id": "5ad71ac5",
   "metadata": {},
   "outputs": [
    {
     "name": "stdout",
     "output_type": "stream",
     "text": [
      "enter any number:10\n"
     ]
    }
   ],
   "source": [
    "n = int(input('enter any number:', ))"
   ]
  },
  {
   "cell_type": "code",
   "execution_count": 47,
   "id": "840cee0e",
   "metadata": {},
   "outputs": [],
   "source": [
    "def Evengenerator(n):\n",
    "    i = 0\n",
    "    while i<=n:\n",
    "        if i%2==0:\n",
    "            yield i\n",
    "        i+=1"
   ]
  },
  {
   "cell_type": "code",
   "execution_count": 48,
   "id": "f1f8817e",
   "metadata": {},
   "outputs": [],
   "source": [
    "mygen = Evengenerator(n)"
   ]
  },
  {
   "cell_type": "code",
   "execution_count": 49,
   "id": "255c0363",
   "metadata": {},
   "outputs": [],
   "source": [
    "values = []\n",
    "for i in mygen:\n",
    "    values.append(str(i))\n",
    "    "
   ]
  },
  {
   "cell_type": "code",
   "execution_count": 50,
   "id": "f523ac24",
   "metadata": {},
   "outputs": [
    {
     "name": "stdout",
     "output_type": "stream",
     "text": [
      "['0', '2', '4', '6', '8', '10']\n"
     ]
    }
   ],
   "source": [
    "print(values)"
   ]
  },
  {
   "cell_type": "code",
   "execution_count": 51,
   "id": "5a38f043",
   "metadata": {},
   "outputs": [
    {
     "data": {
      "text/plain": [
       "'0 2 4 6 8 10'"
      ]
     },
     "execution_count": 51,
     "metadata": {},
     "output_type": "execute_result"
    }
   ],
   "source": [
    "\" \".join(values)"
   ]
  },
  {
   "cell_type": "code",
   "execution_count": 52,
   "id": "5d189ab6",
   "metadata": {},
   "outputs": [
    {
     "name": "stdout",
     "output_type": "stream",
     "text": [
      "Enter any number:100\n"
     ]
    }
   ],
   "source": [
    "n = int(input('Enter any number:',))"
   ]
  },
  {
   "cell_type": "code",
   "execution_count": 58,
   "id": "961f9f79",
   "metadata": {},
   "outputs": [],
   "source": [
    "def fivesevengenerator(n):\n",
    "    for i in range(0,n+1):\n",
    "        if (i%5==0) and (i%7==0):\n",
    "            yield i\n",
    "            "
   ]
  },
  {
   "cell_type": "code",
   "execution_count": 59,
   "id": "b7393aa3",
   "metadata": {},
   "outputs": [],
   "source": [
    "mygen = fivesevengenerator(n)"
   ]
  },
  {
   "cell_type": "code",
   "execution_count": 60,
   "id": "b13f3ea4",
   "metadata": {},
   "outputs": [],
   "source": [
    "v = []\n",
    "for i in mygen:\n",
    "    v.append(str(i))\n",
    "    "
   ]
  },
  {
   "cell_type": "code",
   "execution_count": 61,
   "id": "be9dc005",
   "metadata": {},
   "outputs": [
    {
     "name": "stdout",
     "output_type": "stream",
     "text": [
      "['0', '35', '70']\n"
     ]
    }
   ],
   "source": [
    "print(v)"
   ]
  },
  {
   "cell_type": "code",
   "execution_count": 63,
   "id": "b33dcbf0",
   "metadata": {},
   "outputs": [
    {
     "name": "stdout",
     "output_type": "stream",
     "text": [
      "0 35 70\n"
     ]
    }
   ],
   "source": [
    "print(\" \".join(v))"
   ]
  },
  {
   "cell_type": "code",
   "execution_count": 64,
   "id": "5f22d1b6",
   "metadata": {},
   "outputs": [],
   "source": [
    "#65"
   ]
  },
  {
   "cell_type": "code",
   "execution_count": 66,
   "id": "b94203d1",
   "metadata": {},
   "outputs": [],
   "source": [
    "li = [2,4,6,8,7,9,5]"
   ]
  },
  {
   "cell_type": "code",
   "execution_count": 69,
   "id": "d8e4fd39",
   "metadata": {},
   "outputs": [
    {
     "ename": "AssertionError",
     "evalue": "7 is not a evennnnnnnn number",
     "output_type": "error",
     "traceback": [
      "\u001b[1;31m---------------------------------------------------------------------------\u001b[0m",
      "\u001b[1;31mAssertionError\u001b[0m                            Traceback (most recent call last)",
      "Input \u001b[1;32mIn [69]\u001b[0m, in \u001b[0;36m<cell line: 1>\u001b[1;34m()\u001b[0m\n\u001b[0;32m      1\u001b[0m \u001b[38;5;28;01mfor\u001b[39;00m i \u001b[38;5;129;01min\u001b[39;00m li:\n\u001b[1;32m----> 2\u001b[0m     \u001b[38;5;28;01massert\u001b[39;00m i\u001b[38;5;241m%\u001b[39m\u001b[38;5;241m2\u001b[39m\u001b[38;5;241m==\u001b[39m\u001b[38;5;241m0\u001b[39m, \u001b[38;5;124m\"\u001b[39m\u001b[38;5;132;01m{}\u001b[39;00m\u001b[38;5;124m is not a evennnnnnnn number\u001b[39m\u001b[38;5;124m\"\u001b[39m\u001b[38;5;241m.\u001b[39mformat(i)\n",
      "\u001b[1;31mAssertionError\u001b[0m: 7 is not a evennnnnnnn number"
     ]
    }
   ],
   "source": [
    "for i in li:\n",
    "    assert i%2==0, \"{} is not a evennnnnnnn number\".format(i)"
   ]
  },
  {
   "cell_type": "code",
   "execution_count": 73,
   "id": "459e4533",
   "metadata": {},
   "outputs": [
    {
     "ename": "AssertionError",
     "evalue": "11 is not a even number",
     "output_type": "error",
     "traceback": [
      "\u001b[1;31m---------------------------------------------------------------------------\u001b[0m",
      "\u001b[1;31mAssertionError\u001b[0m                            Traceback (most recent call last)",
      "Input \u001b[1;32mIn [73]\u001b[0m, in \u001b[0;36m<cell line: 3>\u001b[1;34m()\u001b[0m\n\u001b[0;32m      1\u001b[0m list1 \u001b[38;5;241m=\u001b[39m  [\u001b[38;5;241m2\u001b[39m,\u001b[38;5;241m4\u001b[39m,\u001b[38;5;241m6\u001b[39m,\u001b[38;5;241m8\u001b[39m,\u001b[38;5;241m10\u001b[39m,\u001b[38;5;241m11\u001b[39m]\n\u001b[0;32m      3\u001b[0m \u001b[38;5;28;01mfor\u001b[39;00m i \u001b[38;5;129;01min\u001b[39;00m list1:\n\u001b[1;32m----> 4\u001b[0m     \u001b[38;5;28;01massert\u001b[39;00m i\u001b[38;5;241m%\u001b[39m\u001b[38;5;241m2\u001b[39m\u001b[38;5;241m==\u001b[39m\u001b[38;5;241m0\u001b[39m, \u001b[38;5;124m\"\u001b[39m\u001b[38;5;132;01m{}\u001b[39;00m\u001b[38;5;124m is not a even number\u001b[39m\u001b[38;5;124m\"\u001b[39m\u001b[38;5;241m.\u001b[39mformat(i)\n",
      "\u001b[1;31mAssertionError\u001b[0m: 11 is not a even number"
     ]
    }
   ],
   "source": [
    "list1 =  [2,4,6,8,10,11]\n",
    "\n",
    "for i in list1:\n",
    "    assert i%2==0, \"{} is not a even number\".format(i)"
   ]
  },
  {
   "cell_type": "code",
   "execution_count": 79,
   "id": "b427cb81",
   "metadata": {},
   "outputs": [
    {
     "name": "stdout",
     "output_type": "stream",
     "text": [
      "4*6\n"
     ]
    }
   ],
   "source": [
    "expression = input()"
   ]
  },
  {
   "cell_type": "code",
   "execution_count": 80,
   "id": "5e265241",
   "metadata": {},
   "outputs": [
    {
     "name": "stdout",
     "output_type": "stream",
     "text": [
      "24\n"
     ]
    }
   ],
   "source": [
    "ans = eval(expression)\n",
    "print(ans)"
   ]
  },
  {
   "cell_type": "code",
   "execution_count": 81,
   "id": "dd5d520a",
   "metadata": {},
   "outputs": [
    {
     "name": "stdout",
     "output_type": "stream",
     "text": [
      "None\n"
     ]
    }
   ],
   "source": [
    "def binary_search(lst, item):\n",
    "    low = 0\n",
    "    high = len(lst) - 1\n",
    "    \n",
    "    while low <= high:\n",
    "        mid = round((low + high) / 2)\n",
    "        \n",
    "        if lst[mid] == item:\n",
    "            return mid\n",
    "        elif lst[mid] > item:\n",
    "            high = mid - 1\n",
    "        else:\n",
    "            low = mid + 1\n",
    "    return None\n",
    "    \n",
    "lst = [1,3,5,7,]\n",
    "print(binary_search(lst, 9)) "
   ]
  },
  {
   "cell_type": "code",
   "execution_count": 82,
   "id": "31bbde2d",
   "metadata": {},
   "outputs": [],
   "source": [
    "def binary_search(lst,item):\n",
    "    low = 0\n",
    "    high = len(lst)-1\n",
    "    while low<=high:\n",
    "        mid = (low+high)//2\n",
    "        \n",
    "        value =  lst[mid]\n",
    "        \n",
    "        if value==item:\n",
    "            return mid\n",
    "        elif value>item:\n",
    "            high = mid-1\n",
    "            \n",
    "        else:\n",
    "            low = mid+1\n",
    "    return None"
   ]
  },
  {
   "cell_type": "code",
   "execution_count": 88,
   "id": "afffc45c",
   "metadata": {},
   "outputs": [],
   "source": [
    "lst = [1,3,5,7,9]"
   ]
  },
  {
   "cell_type": "code",
   "execution_count": 89,
   "id": "5f4d275f",
   "metadata": {},
   "outputs": [
    {
     "data": {
      "text/plain": [
       "4"
      ]
     },
     "execution_count": 89,
     "metadata": {},
     "output_type": "execute_result"
    }
   ],
   "source": [
    "binary_search(lst,9)"
   ]
  },
  {
   "cell_type": "code",
   "execution_count": 90,
   "id": "9c822dc8",
   "metadata": {},
   "outputs": [],
   "source": [
    "import random"
   ]
  },
  {
   "cell_type": "code",
   "execution_count": 91,
   "id": "6a052e03",
   "metadata": {},
   "outputs": [
    {
     "data": {
      "text/plain": [
       "75"
      ]
     },
     "execution_count": 91,
     "metadata": {},
     "output_type": "execute_result"
    }
   ],
   "source": [
    "random.randint(10,100)"
   ]
  },
  {
   "cell_type": "code",
   "execution_count": 106,
   "id": "a7187958",
   "metadata": {},
   "outputs": [
    {
     "data": {
      "text/plain": [
       "86"
      ]
     },
     "execution_count": 106,
     "metadata": {},
     "output_type": "execute_result"
    }
   ],
   "source": [
    "\n",
    "random.randrange(10,100)"
   ]
  },
  {
   "cell_type": "code",
   "execution_count": 111,
   "id": "1385a916",
   "metadata": {},
   "outputs": [
    {
     "data": {
      "text/plain": [
       "13.708759095701573"
      ]
     },
     "execution_count": 111,
     "metadata": {},
     "output_type": "execute_result"
    }
   ],
   "source": [
    "random.random()*100"
   ]
  },
  {
   "cell_type": "code",
   "execution_count": 120,
   "id": "6fec4302",
   "metadata": {},
   "outputs": [],
   "source": [
    "rand_num = random.uniform(10,100)"
   ]
  },
  {
   "cell_type": "code",
   "execution_count": 121,
   "id": "c170b764",
   "metadata": {},
   "outputs": [
    {
     "name": "stdout",
     "output_type": "stream",
     "text": [
      "76.04928032644126\n"
     ]
    }
   ],
   "source": [
    "print(rand_num)"
   ]
  },
  {
   "cell_type": "code",
   "execution_count": 122,
   "id": "4ad845a8",
   "metadata": {},
   "outputs": [],
   "source": [
    "import random"
   ]
  },
  {
   "cell_type": "code",
   "execution_count": 128,
   "id": "62a3418c",
   "metadata": {},
   "outputs": [],
   "source": [
    "rannum2 = random.uniform(5,95)"
   ]
  },
  {
   "cell_type": "code",
   "execution_count": 129,
   "id": "591ed813",
   "metadata": {},
   "outputs": [
    {
     "name": "stdout",
     "output_type": "stream",
     "text": [
      "13.645733213299355\n"
     ]
    }
   ],
   "source": [
    "print(rannum2)"
   ]
  },
  {
   "cell_type": "code",
   "execution_count": 130,
   "id": "4fab53b0",
   "metadata": {},
   "outputs": [],
   "source": [
    "#70"
   ]
  },
  {
   "cell_type": "code",
   "execution_count": 131,
   "id": "53ef24af",
   "metadata": {},
   "outputs": [],
   "source": [
    "import random"
   ]
  },
  {
   "cell_type": "code",
   "execution_count": 139,
   "id": "9d855b6e",
   "metadata": {},
   "outputs": [
    {
     "data": {
      "text/plain": [
       "4"
      ]
     },
     "execution_count": 139,
     "metadata": {},
     "output_type": "execute_result"
    }
   ],
   "source": [
    "random.choice([i for i in range(11) if i%2==0])"
   ]
  },
  {
   "cell_type": "code",
   "execution_count": 145,
   "id": "2d9b34a5",
   "metadata": {},
   "outputs": [
    {
     "data": {
      "text/plain": [
       "2"
      ]
     },
     "execution_count": 145,
     "metadata": {},
     "output_type": "execute_result"
    }
   ],
   "source": [
    "random.choice([i for i in range(0,11,2)])"
   ]
  },
  {
   "cell_type": "code",
   "execution_count": 147,
   "id": "af1419c8",
   "metadata": {},
   "outputs": [
    {
     "data": {
      "text/plain": [
       "105"
      ]
     },
     "execution_count": 147,
     "metadata": {},
     "output_type": "execute_result"
    }
   ],
   "source": [
    "random.choice([i for i in range(10,151) if i%35==0])"
   ]
  },
  {
   "cell_type": "code",
   "execution_count": 148,
   "id": "c60c3d78",
   "metadata": {},
   "outputs": [],
   "source": [
    "import random"
   ]
  },
  {
   "cell_type": "code",
   "execution_count": 154,
   "id": "41f286d8",
   "metadata": {},
   "outputs": [
    {
     "data": {
      "text/plain": [
       "[140, 152, 180, 130, 160]"
      ]
     },
     "execution_count": 154,
     "metadata": {},
     "output_type": "execute_result"
    }
   ],
   "source": [
    "random.sample([i for i in range(100,201)], 5)"
   ]
  },
  {
   "cell_type": "code",
   "execution_count": 155,
   "id": "c52a94e9",
   "metadata": {},
   "outputs": [
    {
     "data": {
      "text/plain": [
       "[120, 108, 183, 126, 157]"
      ]
     },
     "execution_count": 155,
     "metadata": {},
     "output_type": "execute_result"
    }
   ],
   "source": [
    "random.sample(range(100,201),5)"
   ]
  },
  {
   "cell_type": "code",
   "execution_count": 156,
   "id": "68b7994b",
   "metadata": {},
   "outputs": [],
   "source": [
    "#73"
   ]
  },
  {
   "cell_type": "code",
   "execution_count": 162,
   "id": "e10c3a78",
   "metadata": {},
   "outputs": [
    {
     "data": {
      "text/plain": [
       "[164, 192, 146, 118, 100]"
      ]
     },
     "execution_count": 162,
     "metadata": {},
     "output_type": "execute_result"
    }
   ],
   "source": [
    "random.sample(range(100,201,2),5)"
   ]
  },
  {
   "cell_type": "code",
   "execution_count": 164,
   "id": "d51dc760",
   "metadata": {},
   "outputs": [
    {
     "data": {
      "text/plain": [
       "[560, 350, 245, 980, 770]"
      ]
     },
     "execution_count": 164,
     "metadata": {},
     "output_type": "execute_result"
    }
   ],
   "source": [
    "random.sample([i for i in range(1,1001) if i%35==0],5)"
   ]
  },
  {
   "cell_type": "code",
   "execution_count": 165,
   "id": "e800dd9a",
   "metadata": {},
   "outputs": [],
   "source": [
    "#75"
   ]
  },
  {
   "cell_type": "code",
   "execution_count": 175,
   "id": "0a17b9d4",
   "metadata": {},
   "outputs": [
    {
     "data": {
      "text/plain": [
       "13"
      ]
     },
     "execution_count": 175,
     "metadata": {},
     "output_type": "execute_result"
    }
   ],
   "source": [
    "random.randrange(7,16)"
   ]
  },
  {
   "cell_type": "code",
   "execution_count": 178,
   "id": "868039b5",
   "metadata": {},
   "outputs": [
    {
     "data": {
      "text/plain": [
       "7"
      ]
     },
     "execution_count": 178,
     "metadata": {},
     "output_type": "execute_result"
    }
   ],
   "source": [
    "random.randint(7,15)"
   ]
  },
  {
   "cell_type": "code",
   "execution_count": 181,
   "id": "302eb531",
   "metadata": {},
   "outputs": [],
   "source": [
    "s = \"hello world!hello world!hello world!hello world!\""
   ]
  },
  {
   "cell_type": "code",
   "execution_count": 182,
   "id": "8b2eafa0",
   "metadata": {},
   "outputs": [],
   "source": [
    "import zlib"
   ]
  },
  {
   "cell_type": "code",
   "execution_count": 186,
   "id": "7ac4f3ba",
   "metadata": {},
   "outputs": [],
   "source": [
    "t = zlib.compress(bytes(s, encoding='utf8'))"
   ]
  },
  {
   "cell_type": "code",
   "execution_count": 187,
   "id": "e09b6c73",
   "metadata": {},
   "outputs": [
    {
     "name": "stdout",
     "output_type": "stream",
     "text": [
      "b'x\\x9c\\xcbH\\xcd\\xc9\\xc9W(\\xcf/\\xcaIQ\\xcc \\x82\\r\\x00\\xbd[\\x11\\xf5'\n"
     ]
    }
   ],
   "source": [
    "print(t)"
   ]
  },
  {
   "cell_type": "code",
   "execution_count": 189,
   "id": "97675a61",
   "metadata": {},
   "outputs": [
    {
     "name": "stdout",
     "output_type": "stream",
     "text": [
      "b'hello world!hello world!hello world!hello world!'\n"
     ]
    }
   ],
   "source": [
    "print(zlib.decompress(t))"
   ]
  },
  {
   "cell_type": "code",
   "execution_count": 190,
   "id": "248ee086",
   "metadata": {},
   "outputs": [],
   "source": [
    "import datetime"
   ]
  },
  {
   "cell_type": "code",
   "execution_count": 192,
   "id": "60d79d9f",
   "metadata": {},
   "outputs": [],
   "source": [
    "before = datetime.datetime.now()"
   ]
  },
  {
   "cell_type": "code",
   "execution_count": 193,
   "id": "e1aa6abf",
   "metadata": {},
   "outputs": [],
   "source": [
    "after = datetime.datetime.now()"
   ]
  },
  {
   "cell_type": "code",
   "execution_count": 194,
   "id": "5b3a31d7",
   "metadata": {},
   "outputs": [],
   "source": [
    "execution_time = after-before"
   ]
  },
  {
   "cell_type": "code",
   "execution_count": 196,
   "id": "4b329544",
   "metadata": {},
   "outputs": [
    {
     "data": {
      "text/plain": [
       "430333"
      ]
     },
     "execution_count": 196,
     "metadata": {},
     "output_type": "execute_result"
    }
   ],
   "source": [
    "\n",
    "execution_time.microseconds"
   ]
  },
  {
   "cell_type": "code",
   "execution_count": 197,
   "id": "d0c9d0a5",
   "metadata": {},
   "outputs": [],
   "source": [
    "import time"
   ]
  },
  {
   "cell_type": "code",
   "execution_count": 202,
   "id": "309cbf5e",
   "metadata": {},
   "outputs": [],
   "source": [
    "before = time.time()\n",
    "for i in range(100):\n",
    "    x = 1+1"
   ]
  },
  {
   "cell_type": "code",
   "execution_count": 199,
   "id": "2dd33b4b",
   "metadata": {},
   "outputs": [],
   "source": [
    "after = time.time()"
   ]
  },
  {
   "cell_type": "code",
   "execution_count": 200,
   "id": "18227454",
   "metadata": {},
   "outputs": [],
   "source": [
    "execution_time2222 = after-before"
   ]
  },
  {
   "cell_type": "code",
   "execution_count": 201,
   "id": "5f26df4a",
   "metadata": {},
   "outputs": [
    {
     "data": {
      "text/plain": [
       "8.173088788986206"
      ]
     },
     "execution_count": 201,
     "metadata": {},
     "output_type": "execute_result"
    }
   ],
   "source": [
    "execution_time2222"
   ]
  },
  {
   "cell_type": "code",
   "execution_count": 207,
   "id": "dcc490f1",
   "metadata": {},
   "outputs": [],
   "source": [
    "lst1 = [3,6,7,8]"
   ]
  },
  {
   "cell_type": "code",
   "execution_count": 204,
   "id": "bdb4164b",
   "metadata": {},
   "outputs": [],
   "source": [
    "import random\n"
   ]
  },
  {
   "cell_type": "code",
   "execution_count": 205,
   "id": "44d840f1",
   "metadata": {},
   "outputs": [],
   "source": [
    "random.shuffle(lst1)"
   ]
  },
  {
   "cell_type": "code",
   "execution_count": 206,
   "id": "355852e1",
   "metadata": {},
   "outputs": [
    {
     "name": "stdout",
     "output_type": "stream",
     "text": [
      "[7, 6, 8, 3]\n"
     ]
    }
   ],
   "source": [
    "print(lst1)"
   ]
  },
  {
   "cell_type": "code",
   "execution_count": 208,
   "id": "11ab2a7b",
   "metadata": {},
   "outputs": [],
   "source": [
    "random.Random(7).shuffle(lst1)"
   ]
  },
  {
   "cell_type": "code",
   "execution_count": 209,
   "id": "1a91fd48",
   "metadata": {},
   "outputs": [
    {
     "data": {
      "text/plain": [
       "[8, 6, 3, 7]"
      ]
     },
     "execution_count": 209,
     "metadata": {},
     "output_type": "execute_result"
    }
   ],
   "source": [
    "lst1"
   ]
  },
  {
   "cell_type": "code",
   "execution_count": 210,
   "id": "3173534c",
   "metadata": {},
   "outputs": [],
   "source": [
    "sub = [\"I\", \"You\"]\n",
    "ver = [\"Play\", \"Love\"]\n",
    "obj = [\"Hockey\",\"Football\"]"
   ]
  },
  {
   "cell_type": "code",
   "execution_count": 213,
   "id": "3a01c733",
   "metadata": {},
   "outputs": [
    {
     "name": "stdout",
     "output_type": "stream",
     "text": [
      "I Play Hockey\n",
      "I Play Football\n",
      "I Love Hockey\n",
      "I Love Football\n",
      "You Play Hockey\n",
      "You Play Football\n",
      "You Love Hockey\n",
      "You Love Football\n"
     ]
    }
   ],
   "source": [
    "for i in sub:\n",
    "    for j in ver:\n",
    "        for y in obj:\n",
    "            #print(i + j + y)\n",
    "            print(\"{} {} {}\".format(i,j,y))"
   ]
  },
  {
   "cell_type": "code",
   "execution_count": 214,
   "id": "c330ab62",
   "metadata": {},
   "outputs": [],
   "source": [
    "#80"
   ]
  },
  {
   "cell_type": "code",
   "execution_count": 221,
   "id": "96c6a3e5",
   "metadata": {},
   "outputs": [],
   "source": [
    "l1 = [5,6,77,45,22,12,24]"
   ]
  },
  {
   "cell_type": "code",
   "execution_count": 217,
   "id": "ab8de4f4",
   "metadata": {},
   "outputs": [
    {
     "data": {
      "text/plain": [
       "[5, 77, 45]"
      ]
     },
     "execution_count": 217,
     "metadata": {},
     "output_type": "execute_result"
    }
   ],
   "source": [
    "[i for i in l1 if i%2!=0]"
   ]
  },
  {
   "cell_type": "code",
   "execution_count": 222,
   "id": "4b08a396",
   "metadata": {},
   "outputs": [
    {
     "data": {
      "text/plain": [
       "[5, 77, 45]"
      ]
     },
     "execution_count": 222,
     "metadata": {},
     "output_type": "execute_result"
    }
   ],
   "source": [
    "list(filter(lambda x:x%2!=0, l1))"
   ]
  },
  {
   "cell_type": "code",
   "execution_count": 223,
   "id": "d65ae902",
   "metadata": {},
   "outputs": [],
   "source": [
    "def even(n):\n",
    "    return n%2!=0"
   ]
  },
  {
   "cell_type": "code",
   "execution_count": 225,
   "id": "478ad61b",
   "metadata": {},
   "outputs": [
    {
     "data": {
      "text/plain": [
       "[5, 77, 45]"
      ]
     },
     "execution_count": 225,
     "metadata": {},
     "output_type": "execute_result"
    }
   ],
   "source": [
    "list(filter(even,l1))"
   ]
  },
  {
   "cell_type": "code",
   "execution_count": 237,
   "id": "20d6a8bd",
   "metadata": {},
   "outputs": [],
   "source": [
    "l2 = [12,24,35,70,88,120,155]"
   ]
  },
  {
   "cell_type": "code",
   "execution_count": 238,
   "id": "2252c1cb",
   "metadata": {},
   "outputs": [],
   "source": [
    "li = [i for i in l2 if i%35!=0]"
   ]
  },
  {
   "cell_type": "code",
   "execution_count": 239,
   "id": "3bef9726",
   "metadata": {},
   "outputs": [
    {
     "name": "stdout",
     "output_type": "stream",
     "text": [
      "[12, 24, 88, 120, 155]\n"
     ]
    }
   ],
   "source": [
    "print(li)"
   ]
  },
  {
   "cell_type": "code",
   "execution_count": 240,
   "id": "53318f8c",
   "metadata": {},
   "outputs": [
    {
     "data": {
      "text/plain": [
       "[12, 24, 88]"
      ]
     },
     "execution_count": 240,
     "metadata": {},
     "output_type": "execute_result"
    }
   ],
   "source": [
    "[i for i in l2 if i%5!=0 and i%7!=0]"
   ]
  },
  {
   "cell_type": "code",
   "execution_count": 241,
   "id": "0ffdc6a6",
   "metadata": {},
   "outputs": [
    {
     "name": "stdout",
     "output_type": "stream",
     "text": [
      "[12, 24, 88, 120, 155]\n"
     ]
    }
   ],
   "source": [
    "li = [12,24,35,70,88,120,155]\n",
    "li = [x for x in li if x % 35!=0]\n",
    "print(li)"
   ]
  },
  {
   "cell_type": "code",
   "execution_count": 244,
   "id": "d499cceb",
   "metadata": {},
   "outputs": [
    {
     "name": "stdout",
     "output_type": "stream",
     "text": [
      "[12, 24, 88, 120, 155]\n"
     ]
    }
   ],
   "source": [
    "li = [12,24,35,70,88,120,155]\n",
    "li = [x for x in li if x%5!=0 or x%7!=0]\n",
    "print(li)"
   ]
  },
  {
   "cell_type": "code",
   "execution_count": 245,
   "id": "ba682aff",
   "metadata": {},
   "outputs": [],
   "source": [
    "l3 = [12,24,35,70,88,120,155]"
   ]
  },
  {
   "cell_type": "code",
   "execution_count": 247,
   "id": "bf4dba3c",
   "metadata": {},
   "outputs": [
    {
     "data": {
      "text/plain": [
       "[24, 70, 120]"
      ]
     },
     "execution_count": 247,
     "metadata": {},
     "output_type": "execute_result"
    }
   ],
   "source": [
    "[l3[i] for i in range(1,len(l3),2)]"
   ]
  },
  {
   "cell_type": "code",
   "execution_count": 248,
   "id": "658af862",
   "metadata": {},
   "outputs": [
    {
     "name": "stdout",
     "output_type": "stream",
     "text": [
      "[24, 70, 120]\n"
     ]
    }
   ],
   "source": [
    "li = [12,24,35,70,88,120,155]\n",
    "li = [li[i] for i in range(len(li)) if i%2 != 0 and i <= 6]\n",
    "print(li)"
   ]
  },
  {
   "cell_type": "code",
   "execution_count": 250,
   "id": "55cdfb09",
   "metadata": {},
   "outputs": [
    {
     "data": {
      "text/plain": [
       "[24, 70, 120]"
      ]
     },
     "execution_count": 250,
     "metadata": {},
     "output_type": "execute_result"
    }
   ],
   "source": [
    "[l3[i] for i in range(len(l3)) if i%2!=0 and i<=6]"
   ]
  },
  {
   "cell_type": "code",
   "execution_count": 251,
   "id": "c3d50a57",
   "metadata": {},
   "outputs": [],
   "source": [
    "#83"
   ]
  },
  {
   "cell_type": "code",
   "execution_count": 1,
   "id": "3e8ebf58",
   "metadata": {},
   "outputs": [],
   "source": [
    "l3 = [12,24,35,70,88,120,155]"
   ]
  },
  {
   "cell_type": "code",
   "execution_count": 8,
   "id": "837c9270",
   "metadata": {},
   "outputs": [
    {
     "data": {
      "text/plain": [
       "[0, 1, 3, 5, 6]"
      ]
     },
     "execution_count": 8,
     "metadata": {},
     "output_type": "execute_result"
    }
   ],
   "source": [
    "[i for i in range(len(l3)) if i!=2 and i!=4 ]"
   ]
  },
  {
   "cell_type": "code",
   "execution_count": 9,
   "id": "7a2917f2",
   "metadata": {},
   "outputs": [
    {
     "data": {
      "text/plain": [
       "[12, 24, 70, 120, 155]"
      ]
     },
     "execution_count": 9,
     "metadata": {},
     "output_type": "execute_result"
    }
   ],
   "source": [
    "[l3[i] for i in range(len(l3)) if i!=2 and i!=4]"
   ]
  },
  {
   "cell_type": "code",
   "execution_count": 10,
   "id": "8c7df8e4",
   "metadata": {},
   "outputs": [
    {
     "name": "stdout",
     "output_type": "stream",
     "text": [
      "[12, 88, 120, 155]\n"
     ]
    }
   ],
   "source": [
    "orig_list = [12,24,35,70,88,120,155]\n",
    "new_list = [i for (j, i) in enumerate(orig_list) if j not in range(1,4)]\n",
    "print(new_list)"
   ]
  },
  {
   "cell_type": "code",
   "execution_count": 11,
   "id": "7c2a3e31",
   "metadata": {},
   "outputs": [
    {
     "name": "stdout",
     "output_type": "stream",
     "text": [
      "[12, 24, 120, 155]\n"
     ]
    }
   ],
   "source": [
    "lst = [12,24,35,70,88,120,155]\n",
    "print([i for i in lst if lst.index(i) not in range(2,5)])"
   ]
  },
  {
   "cell_type": "code",
   "execution_count": 12,
   "id": "455f33b1",
   "metadata": {},
   "outputs": [
    {
     "name": "stdout",
     "output_type": "stream",
     "text": [
      "[12, 24, 35, 120, 155]\n"
     ]
    }
   ],
   "source": [
    "li = [12,24,35,70,88,120,155]\n",
    "li = [li[i] for i in range(len(li)) if i < 3 or i > 4]\n",
    "print(li)"
   ]
  },
  {
   "cell_type": "code",
   "execution_count": 15,
   "id": "a7b8ada9",
   "metadata": {},
   "outputs": [
    {
     "data": {
      "text/plain": [
       "[[[0, 0, 0, 0, 0, 0, 0, 0],\n",
       "  [0, 0, 0, 0, 0, 0, 0, 0],\n",
       "  [0, 0, 0, 0, 0, 0, 0, 0],\n",
       "  [0, 0, 0, 0, 0, 0, 0, 0],\n",
       "  [0, 0, 0, 0, 0, 0, 0, 0]],\n",
       " [[0, 0, 0, 0, 0, 0, 0, 0],\n",
       "  [0, 0, 0, 0, 0, 0, 0, 0],\n",
       "  [0, 0, 0, 0, 0, 0, 0, 0],\n",
       "  [0, 0, 0, 0, 0, 0, 0, 0],\n",
       "  [0, 0, 0, 0, 0, 0, 0, 0]],\n",
       " [[0, 0, 0, 0, 0, 0, 0, 0],\n",
       "  [0, 0, 0, 0, 0, 0, 0, 0],\n",
       "  [0, 0, 0, 0, 0, 0, 0, 0],\n",
       "  [0, 0, 0, 0, 0, 0, 0, 0],\n",
       "  [0, 0, 0, 0, 0, 0, 0, 0]]]"
      ]
     },
     "execution_count": 15,
     "metadata": {},
     "output_type": "execute_result"
    }
   ],
   "source": [
    "[[[0 for i in range(8)] for j in range(5)] for col in range(3)]"
   ]
  },
  {
   "cell_type": "code",
   "execution_count": 16,
   "id": "5fef3810",
   "metadata": {},
   "outputs": [],
   "source": [
    "#85"
   ]
  },
  {
   "cell_type": "code",
   "execution_count": 18,
   "id": "7c7c0ab0",
   "metadata": {},
   "outputs": [],
   "source": [
    "l = [12,24,35,70,88,120,155]"
   ]
  },
  {
   "cell_type": "code",
   "execution_count": 19,
   "id": "53b6a302",
   "metadata": {},
   "outputs": [
    {
     "data": {
      "text/plain": [
       "[24, 35, 70, 155]"
      ]
     },
     "execution_count": 19,
     "metadata": {},
     "output_type": "execute_result"
    }
   ],
   "source": [
    "[i for idx,i in enumerate(l) if idx not in [0,4,5] ]"
   ]
  },
  {
   "cell_type": "code",
   "execution_count": 21,
   "id": "b43e9a5d",
   "metadata": {},
   "outputs": [],
   "source": [
    "l  = [12,24,35,24,88,120,155]"
   ]
  },
  {
   "cell_type": "code",
   "execution_count": 22,
   "id": "c67c2f45",
   "metadata": {},
   "outputs": [
    {
     "data": {
      "text/plain": [
       "[12, 35, 88, 120, 155]"
      ]
     },
     "execution_count": 22,
     "metadata": {},
     "output_type": "execute_result"
    }
   ],
   "source": [
    "[i for i in l if i!=24]"
   ]
  },
  {
   "cell_type": "code",
   "execution_count": 23,
   "id": "e22f4aa4",
   "metadata": {},
   "outputs": [],
   "source": [
    "l1 = [1,3,6,78,35,55]"
   ]
  },
  {
   "cell_type": "code",
   "execution_count": 24,
   "id": "0af7244c",
   "metadata": {},
   "outputs": [],
   "source": [
    "l2 = [12,24,35,24,88,120,155]"
   ]
  },
  {
   "cell_type": "code",
   "execution_count": 25,
   "id": "31f3945e",
   "metadata": {},
   "outputs": [],
   "source": [
    "def interfunction(l1,l2):\n",
    "    s3 = set(l1).intersection(set(l2))\n",
    "    return list(s3)"
   ]
  },
  {
   "cell_type": "code",
   "execution_count": 26,
   "id": "8d739357",
   "metadata": {},
   "outputs": [
    {
     "data": {
      "text/plain": [
       "[35]"
      ]
     },
     "execution_count": 26,
     "metadata": {},
     "output_type": "execute_result"
    }
   ],
   "source": [
    "interfunction(l1,l2)"
   ]
  },
  {
   "cell_type": "code",
   "execution_count": 27,
   "id": "57c7e986",
   "metadata": {},
   "outputs": [
    {
     "name": "stdout",
     "output_type": "stream",
     "text": [
      "{35}\n"
     ]
    }
   ],
   "source": [
    "list1 = [1,3,6,78,35,55]\n",
    "list2 = [12,24,35,24,88,120,155]\n",
    "set1= set(list1)\n",
    "set2= set(list2)\n",
    "intersection = set.intersection(set1,set2)\n",
    "print(intersection)"
   ]
  },
  {
   "cell_type": "code",
   "execution_count": 29,
   "id": "1ebbe9e3",
   "metadata": {},
   "outputs": [
    {
     "data": {
      "text/plain": [
       "[35, 12, 155, 24, 88, 120]"
      ]
     },
     "execution_count": 29,
     "metadata": {},
     "output_type": "execute_result"
    }
   ],
   "source": [
    "list(set([12,24,35,24,88,120,155,88,120,155]))"
   ]
  },
  {
   "cell_type": "code",
   "execution_count": 64,
   "id": "9c60cd71",
   "metadata": {},
   "outputs": [],
   "source": [
    "l = [12,24,35,24,88,120,155,88,120,155]"
   ]
  },
  {
   "cell_type": "code",
   "execution_count": 31,
   "id": "214762a6",
   "metadata": {},
   "outputs": [
    {
     "name": "stdout",
     "output_type": "stream",
     "text": [
      "[12, 35, 24, 88, 120, 155]\n"
     ]
    }
   ],
   "source": [
    "for i in l:\n",
    "    if l.count(i)>1:\n",
    "        l.remove(i)\n",
    "        \n",
    "print(l)"
   ]
  },
  {
   "cell_type": "code",
   "execution_count": 59,
   "id": "0c65ac4b",
   "metadata": {},
   "outputs": [],
   "source": [
    "def removeduplicate(lst1):\n",
    "    newlst = []\n",
    "    seen = set()\n",
    "    for i in lst1:\n",
    "        if i not in seen:\n",
    "            seen.add(i)\n",
    "            newlst.append(i)\n",
    "        else:\n",
    "            pass\n",
    "    return newlst\n",
    "    "
   ]
  },
  {
   "cell_type": "code",
   "execution_count": 60,
   "id": "6dba51ab",
   "metadata": {},
   "outputs": [
    {
     "data": {
      "text/plain": [
       "[12, 24, 35, 88, 120, 155]"
      ]
     },
     "execution_count": 60,
     "metadata": {},
     "output_type": "execute_result"
    }
   ],
   "source": [
    "removeduplicate(l)"
   ]
  },
  {
   "cell_type": "code",
   "execution_count": 65,
   "id": "4b5c0805",
   "metadata": {},
   "outputs": [],
   "source": [
    "def remove(lst1):\n",
    "    d = {}\n",
    "    for i in lst1:\n",
    "        if i not in d:\n",
    "            d[i] = True\n",
    "            yield i \n",
    "        else:\n",
    "            pass\n"
   ]
  },
  {
   "cell_type": "code",
   "execution_count": 66,
   "id": "60a09187",
   "metadata": {},
   "outputs": [],
   "source": [
    "mygen = remove(l)"
   ]
  },
  {
   "cell_type": "code",
   "execution_count": 67,
   "id": "bb5ee35a",
   "metadata": {},
   "outputs": [
    {
     "data": {
      "text/plain": [
       "[12, 24, 35, 88, 120, 155]"
      ]
     },
     "execution_count": 67,
     "metadata": {},
     "output_type": "execute_result"
    }
   ],
   "source": [
    "list(mygen)"
   ]
  },
  {
   "cell_type": "code",
   "execution_count": 76,
   "id": "3d90c20e",
   "metadata": {},
   "outputs": [],
   "source": [
    "class Person:\n",
    "    \n",
    "    def getgender(self):\n",
    "        print('I belong to a gender of person ')\n",
    "    "
   ]
  },
  {
   "cell_type": "code",
   "execution_count": 77,
   "id": "7c25b54e",
   "metadata": {},
   "outputs": [],
   "source": [
    "class Male(Person):\n",
    "    def getgender(self):\n",
    "        print('my gender is male')"
   ]
  },
  {
   "cell_type": "code",
   "execution_count": 78,
   "id": "37f27a87",
   "metadata": {},
   "outputs": [],
   "source": [
    "class Female(Person):\n",
    "    def getgender(self):\n",
    "        print('my gender is female')"
   ]
  },
  {
   "cell_type": "code",
   "execution_count": 79,
   "id": "d5838427",
   "metadata": {},
   "outputs": [],
   "source": [
    "amale = Male()"
   ]
  },
  {
   "cell_type": "code",
   "execution_count": 80,
   "id": "63f2424f",
   "metadata": {},
   "outputs": [],
   "source": [
    "afemale = Female()"
   ]
  },
  {
   "cell_type": "code",
   "execution_count": 81,
   "id": "e3f92392",
   "metadata": {},
   "outputs": [
    {
     "name": "stdout",
     "output_type": "stream",
     "text": [
      "my gender is female\n"
     ]
    }
   ],
   "source": [
    "afemale.getgender()"
   ]
  },
  {
   "cell_type": "code",
   "execution_count": 82,
   "id": "5b1ec7b8",
   "metadata": {},
   "outputs": [
    {
     "name": "stdout",
     "output_type": "stream",
     "text": [
      "my gender is male\n"
     ]
    }
   ],
   "source": [
    "amale.getgender()"
   ]
  },
  {
   "cell_type": "code",
   "execution_count": 85,
   "id": "5e22cbf8",
   "metadata": {},
   "outputs": [],
   "source": [
    "class Person:\n",
    "    def __init__(self):\n",
    "        self.gender = 'UNknown'\n",
    "        \n",
    "class Male(Person):\n",
    "    def __init__(self):\n",
    "        self.gender = 'Male'\n",
    "        \n",
    "class Female(Person):\n",
    "    def __init__(self):\n",
    "        self.gender = 'Female'\n",
    "    \n"
   ]
  },
  {
   "cell_type": "code",
   "execution_count": 86,
   "id": "f35fa964",
   "metadata": {},
   "outputs": [],
   "source": [
    "m1 = Male()"
   ]
  },
  {
   "cell_type": "code",
   "execution_count": 87,
   "id": "95bed3ca",
   "metadata": {},
   "outputs": [],
   "source": [
    "f1 = Female()"
   ]
  },
  {
   "cell_type": "code",
   "execution_count": 88,
   "id": "2400d24a",
   "metadata": {},
   "outputs": [
    {
     "data": {
      "text/plain": [
       "'Male'"
      ]
     },
     "execution_count": 88,
     "metadata": {},
     "output_type": "execute_result"
    }
   ],
   "source": [
    "m1.gender"
   ]
  },
  {
   "cell_type": "code",
   "execution_count": 89,
   "id": "eb7380d2",
   "metadata": {},
   "outputs": [
    {
     "data": {
      "text/plain": [
       "'Female'"
      ]
     },
     "execution_count": 89,
     "metadata": {},
     "output_type": "execute_result"
    }
   ],
   "source": [
    "f1.gender"
   ]
  },
  {
   "cell_type": "code",
   "execution_count": 90,
   "id": "90573dee",
   "metadata": {},
   "outputs": [],
   "source": [
    "#90"
   ]
  },
  {
   "cell_type": "code",
   "execution_count": 91,
   "id": "8e559abb",
   "metadata": {},
   "outputs": [
    {
     "name": "stdout",
     "output_type": "stream",
     "text": [
      "python is very easy\n"
     ]
    }
   ],
   "source": [
    "str1 = input()"
   ]
  },
  {
   "cell_type": "code",
   "execution_count": 101,
   "id": "379e91b3",
   "metadata": {},
   "outputs": [],
   "source": [
    "def countingcharaters(strg):\n",
    "    d = {}\n",
    "    for i in strg:\n",
    "        if i not in d:\n",
    "            d[i] = 1\n",
    "        else:\n",
    "            d[i] += 1\n",
    "    return d"
   ]
  },
  {
   "cell_type": "code",
   "execution_count": 99,
   "id": "a5a506f9",
   "metadata": {},
   "outputs": [],
   "source": [
    "d1 = countingcharaters(str1)"
   ]
  },
  {
   "cell_type": "code",
   "execution_count": 102,
   "id": "8c0e7dd7",
   "metadata": {},
   "outputs": [],
   "source": [
    "def dictviewer(d):\n",
    "    for k,v in d.items():\n",
    "        print(\"{},{}\".format(k,v))"
   ]
  },
  {
   "cell_type": "code",
   "execution_count": 100,
   "id": "7e694fbe",
   "metadata": {},
   "outputs": [
    {
     "name": "stdout",
     "output_type": "stream",
     "text": [
      "p,1\n",
      "y,3\n",
      "t,1\n",
      "h,1\n",
      "o,1\n",
      "n,1\n",
      " ,3\n",
      "i,1\n",
      "s,2\n",
      "v,1\n",
      "e,2\n",
      "r,1\n",
      "a,1\n"
     ]
    }
   ],
   "source": [
    "dictviewer(d1)"
   ]
  },
  {
   "cell_type": "code",
   "execution_count": 103,
   "id": "57b76eb3",
   "metadata": {},
   "outputs": [
    {
     "name": "stdout",
     "output_type": "stream",
     "text": [
      "p,1\n",
      "y,3\n",
      "t,1\n",
      "h,1\n",
      "o,1\n",
      "n,1\n",
      " ,3\n",
      "i,1\n",
      "s,2\n",
      "v,1\n",
      "e,2\n",
      "r,1\n",
      "a,1\n"
     ]
    }
   ],
   "source": [
    "dictviewer(countingcharaters(str1))"
   ]
  },
  {
   "cell_type": "code",
   "execution_count": 104,
   "id": "5d977ece",
   "metadata": {},
   "outputs": [],
   "source": [
    "#91"
   ]
  },
  {
   "cell_type": "code",
   "execution_count": 108,
   "id": "c7218dba",
   "metadata": {},
   "outputs": [
    {
     "name": "stdout",
     "output_type": "stream",
     "text": [
      "python is very excitenig language\n"
     ]
    }
   ],
   "source": [
    "s = input()"
   ]
  },
  {
   "cell_type": "code",
   "execution_count": 116,
   "id": "8c7086b4",
   "metadata": {},
   "outputs": [],
   "source": [
    "def reversestring(s):\n",
    "    return s[::-1]"
   ]
  },
  {
   "cell_type": "code",
   "execution_count": 117,
   "id": "30b05d3b",
   "metadata": {},
   "outputs": [
    {
     "data": {
      "text/plain": [
       "'egaugnal gineticxe yrev si nohtyp'"
      ]
     },
     "execution_count": 117,
     "metadata": {},
     "output_type": "execute_result"
    }
   ],
   "source": [
    "reversestring(s)"
   ]
  },
  {
   "cell_type": "code",
   "execution_count": 118,
   "id": "ffa3d4b7",
   "metadata": {},
   "outputs": [],
   "source": [
    "r = reversed(s)"
   ]
  },
  {
   "cell_type": "code",
   "execution_count": 119,
   "id": "5f3ae51e",
   "metadata": {},
   "outputs": [
    {
     "name": "stdout",
     "output_type": "stream",
     "text": [
      "<reversed object at 0x000001B94C438B80>\n"
     ]
    }
   ],
   "source": [
    "print(r)"
   ]
  },
  {
   "cell_type": "code",
   "execution_count": 120,
   "id": "e3a80b85",
   "metadata": {},
   "outputs": [
    {
     "data": {
      "text/plain": [
       "'egaugnal gineticxe yrev si nohtyp'"
      ]
     },
     "execution_count": 120,
     "metadata": {},
     "output_type": "execute_result"
    }
   ],
   "source": [
    "\"\".join(r)"
   ]
  },
  {
   "cell_type": "code",
   "execution_count": 121,
   "id": "b26ff227",
   "metadata": {},
   "outputs": [
    {
     "name": "stdout",
     "output_type": "stream",
     "text": [
      "H1e2l3l4o5w6o7r8l9d\n"
     ]
    }
   ],
   "source": [
    "s = input()"
   ]
  },
  {
   "cell_type": "code",
   "execution_count": 126,
   "id": "31352a1d",
   "metadata": {},
   "outputs": [],
   "source": [
    "def evencounting(s):\n",
    "    for i in range(0,len(s),2):\n",
    "        print(s[i], end=\"\")\n",
    "        "
   ]
  },
  {
   "cell_type": "code",
   "execution_count": 127,
   "id": "fc35cfc1",
   "metadata": {},
   "outputs": [
    {
     "name": "stdout",
     "output_type": "stream",
     "text": [
      "Helloworld"
     ]
    }
   ],
   "source": [
    "evencounting(s)"
   ]
  },
  {
   "cell_type": "code",
   "execution_count": 128,
   "id": "193fb87a",
   "metadata": {},
   "outputs": [
    {
     "data": {
      "text/plain": [
       "'H1e2l3l4o5w6o7r8l9d'"
      ]
     },
     "execution_count": 128,
     "metadata": {},
     "output_type": "execute_result"
    }
   ],
   "source": [
    "s"
   ]
  },
  {
   "cell_type": "code",
   "execution_count": 130,
   "id": "15844d18",
   "metadata": {},
   "outputs": [
    {
     "data": {
      "text/plain": [
       "'Helloworld'"
      ]
     },
     "execution_count": 130,
     "metadata": {},
     "output_type": "execute_result"
    }
   ],
   "source": [
    "s[::2]"
   ]
  },
  {
   "cell_type": "code",
   "execution_count": 131,
   "id": "56481ba3",
   "metadata": {},
   "outputs": [
    {
     "name": "stdout",
     "output_type": "stream",
     "text": [
      "Helloworld\n"
     ]
    }
   ],
   "source": [
    "nr = \"\"\n",
    "for i in range(len(s)):\n",
    "    if i%2==0:\n",
    "        nr += s[i]\n",
    "print(nr)\n",
    "        "
   ]
  },
  {
   "cell_type": "code",
   "execution_count": 132,
   "id": "9544e946",
   "metadata": {},
   "outputs": [],
   "source": [
    "l = [1,2,3]"
   ]
  },
  {
   "cell_type": "code",
   "execution_count": 133,
   "id": "0a592b5c",
   "metadata": {},
   "outputs": [],
   "source": [
    "import itertools"
   ]
  },
  {
   "cell_type": "code",
   "execution_count": 135,
   "id": "05e705a2",
   "metadata": {},
   "outputs": [],
   "source": [
    "permu = itertools.permutations(l)"
   ]
  },
  {
   "cell_type": "code",
   "execution_count": 136,
   "id": "fb3d3683",
   "metadata": {},
   "outputs": [
    {
     "data": {
      "text/plain": [
       "[(1, 2, 3), (1, 3, 2), (2, 1, 3), (2, 3, 1), (3, 1, 2), (3, 2, 1)]"
      ]
     },
     "execution_count": 136,
     "metadata": {},
     "output_type": "execute_result"
    }
   ],
   "source": [
    "list(permu)"
   ]
  },
  {
   "cell_type": "code",
   "execution_count": 139,
   "id": "f94dc24d",
   "metadata": {},
   "outputs": [],
   "source": [
    "def permutaiongenerator(iterrrr):\n",
    "    p = itertools.permutations(iterrrr)\n",
    "    for i in p:\n",
    "        print(i)"
   ]
  },
  {
   "cell_type": "code",
   "execution_count": 140,
   "id": "a0884f60",
   "metadata": {},
   "outputs": [
    {
     "name": "stdout",
     "output_type": "stream",
     "text": [
      "(1, 2, 3)\n",
      "(1, 3, 2)\n",
      "(2, 1, 3)\n",
      "(2, 3, 1)\n",
      "(3, 1, 2)\n",
      "(3, 2, 1)\n"
     ]
    }
   ],
   "source": [
    "permutaiongenerator(l)"
   ]
  },
  {
   "cell_type": "code",
   "execution_count": 141,
   "id": "794a7ba6",
   "metadata": {},
   "outputs": [],
   "source": [
    "#94"
   ]
  },
  {
   "cell_type": "code",
   "execution_count": 142,
   "id": "3584ef39",
   "metadata": {},
   "outputs": [
    {
     "name": "stdout",
     "output_type": "stream",
     "text": [
      "Object `have` not found.\n"
     ]
    }
   ],
   "source": [
    "Write a program to solve a classic ancient Chinese puzzle: We count 35 heads and 94 legs among the chickens and rabbits in a farm. How many rabbits and how many chickens do we have?"
   ]
  },
  {
   "cell_type": "code",
   "execution_count": 151,
   "id": "53551476",
   "metadata": {},
   "outputs": [],
   "source": [
    "headsnums = 35\n",
    "legsnums = 94\n",
    "\n",
    "\n",
    "def solve(headsnums, legsnums):\n",
    "    ns = \"\"\n",
    "    for i in range(headsnums+1):\n",
    "        j = headsnums-i\n",
    "        if 2*i+4*j==legsnums:\n",
    "            return i,j\n",
    "    return ns,ns\n",
    "        \n"
   ]
  },
  {
   "cell_type": "code",
   "execution_count": 152,
   "id": "89bd35dc",
   "metadata": {},
   "outputs": [
    {
     "data": {
      "text/plain": [
       "(23, 12)"
      ]
     },
     "execution_count": 152,
     "metadata": {},
     "output_type": "execute_result"
    }
   ],
   "source": [
    "solve(headsnums,legsnums)"
   ]
  },
  {
   "cell_type": "code",
   "execution_count": 153,
   "id": "3862ab01",
   "metadata": {},
   "outputs": [],
   "source": [
    "#95"
   ]
  },
  {
   "cell_type": "code",
   "execution_count": null,
   "id": "946dd9ba",
   "metadata": {},
   "outputs": [],
   "source": [
    "'''\n",
    "num = int(input())\n",
    "scores = list(map(int, input().split(' ')))\n",
    "winner = max(scores)\n",
    "lst = []\n",
    "\n",
    "if len(scores) != num:\n",
    "    print('length of score is greater than input given')\n",
    "else:\n",
    "    for score in scores:\n",
    "\tif winner > score:\n",
    "\t    lst.append(score)\n",
    "\n",
    "runnerup = max(lst)\n",
    "print(runnerup)"
   ]
  },
  {
   "cell_type": "code",
   "execution_count": 154,
   "id": "fe601b05",
   "metadata": {},
   "outputs": [
    {
     "name": "stdout",
     "output_type": "stream",
     "text": [
      "15\n"
     ]
    }
   ],
   "source": [
    "num = int(input())"
   ]
  },
  {
   "cell_type": "code",
   "execution_count": 157,
   "id": "faacd405",
   "metadata": {},
   "outputs": [
    {
     "name": "stdout",
     "output_type": "stream",
     "text": [
      "5\n"
     ]
    }
   ],
   "source": [
    "scores = list(map(int,input().split(\" \")))"
   ]
  },
  {
   "cell_type": "code",
   "execution_count": 158,
   "id": "5e083219",
   "metadata": {},
   "outputs": [],
   "source": [
    "winner = max(scores)"
   ]
  },
  {
   "cell_type": "code",
   "execution_count": 159,
   "id": "47737c0e",
   "metadata": {},
   "outputs": [
    {
     "name": "stdout",
     "output_type": "stream",
     "text": [
      "length of score is greater than input given\n"
     ]
    }
   ],
   "source": [
    "lst = []\n",
    "\n",
    "if len(scores)!=num:\n",
    "    print('length of score is greater than input given')\n",
    "else:\n",
    "    for s in scores:\n",
    "        if winner>s:\n",
    "            lst.append(s)\n",
    "    "
   ]
  },
  {
   "cell_type": "code",
   "execution_count": 161,
   "id": "3f5f3b3e",
   "metadata": {},
   "outputs": [
    {
     "ename": "ValueError",
     "evalue": "max() arg is an empty sequence",
     "output_type": "error",
     "traceback": [
      "\u001b[1;31m---------------------------------------------------------------------------\u001b[0m",
      "\u001b[1;31mValueError\u001b[0m                                Traceback (most recent call last)",
      "Input \u001b[1;32mIn [161]\u001b[0m, in \u001b[0;36m<cell line: 1>\u001b[1;34m()\u001b[0m\n\u001b[1;32m----> 1\u001b[0m runnerup \u001b[38;5;241m=\u001b[39m \u001b[38;5;28;43mmax\u001b[39;49m\u001b[43m(\u001b[49m\u001b[43mlst\u001b[49m\u001b[43m)\u001b[49m\n",
      "\u001b[1;31mValueError\u001b[0m: max() arg is an empty sequence"
     ]
    }
   ],
   "source": [
    "runnerup = max(lst)"
   ]
  },
  {
   "cell_type": "code",
   "execution_count": 163,
   "id": "ea3743e9",
   "metadata": {},
   "outputs": [
    {
     "ename": "NameError",
     "evalue": "name 'runnerup' is not defined",
     "output_type": "error",
     "traceback": [
      "\u001b[1;31m---------------------------------------------------------------------------\u001b[0m",
      "\u001b[1;31mNameError\u001b[0m                                 Traceback (most recent call last)",
      "Input \u001b[1;32mIn [163]\u001b[0m, in \u001b[0;36m<cell line: 1>\u001b[1;34m()\u001b[0m\n\u001b[1;32m----> 1\u001b[0m \u001b[38;5;28mprint\u001b[39m(\u001b[43mrunnerup\u001b[49m)\n",
      "\u001b[1;31mNameError\u001b[0m: name 'runnerup' is not defined"
     ]
    }
   ],
   "source": [
    "print(runnerup)"
   ]
  },
  {
   "cell_type": "code",
   "execution_count": 165,
   "id": "dc0e48dc",
   "metadata": {},
   "outputs": [],
   "source": [
    "l = [5,6,9,12,36,25,78,10,45,99]"
   ]
  },
  {
   "cell_type": "code",
   "execution_count": 166,
   "id": "de1d79a1",
   "metadata": {},
   "outputs": [],
   "source": [
    "def secondlargest(l):\n",
    "    l1 = [i for i in l if i<max(l)]\n",
    "    return max(l1)"
   ]
  },
  {
   "cell_type": "code",
   "execution_count": 167,
   "id": "e61d22d9",
   "metadata": {},
   "outputs": [
    {
     "data": {
      "text/plain": [
       "78"
      ]
     },
     "execution_count": 167,
     "metadata": {},
     "output_type": "execute_result"
    }
   ],
   "source": [
    "secondlargest(l)"
   ]
  },
  {
   "cell_type": "code",
   "execution_count": 168,
   "id": "ce41717d",
   "metadata": {},
   "outputs": [],
   "source": [
    "import textwrap"
   ]
  },
  {
   "cell_type": "code",
   "execution_count": 169,
   "id": "fde49467",
   "metadata": {},
   "outputs": [
    {
     "name": "stdout",
     "output_type": "stream",
     "text": [
      "ABCDEFGHIJKLIMNOQRSTUVWXYZ\n"
     ]
    }
   ],
   "source": [
    "str1 = input()"
   ]
  },
  {
   "cell_type": "code",
   "execution_count": 170,
   "id": "e508751a",
   "metadata": {},
   "outputs": [
    {
     "name": "stdout",
     "output_type": "stream",
     "text": [
      "4\n"
     ]
    }
   ],
   "source": [
    "width = int(input())"
   ]
  },
  {
   "cell_type": "code",
   "execution_count": 172,
   "id": "f900ff5b",
   "metadata": {},
   "outputs": [
    {
     "name": "stdout",
     "output_type": "stream",
     "text": [
      "ABCD\n",
      "EFGH\n",
      "IJKL\n",
      "IMNO\n",
      "QRST\n",
      "UVWX\n",
      "YZ\n"
     ]
    }
   ],
   "source": [
    "print(textwrap.fill(str1,width=width))"
   ]
  },
  {
   "cell_type": "code",
   "execution_count": 174,
   "id": "3032c4ee",
   "metadata": {},
   "outputs": [
    {
     "name": "stdout",
     "output_type": "stream",
     "text": [
      "ABCD\n",
      "EFGH\n",
      "IJKL\n",
      "IMNO\n",
      "QRST\n",
      "UVWX\n",
      "YZ\n"
     ]
    }
   ],
   "source": [
    "for i in textwrap.wrap(str1,width):\n",
    "    print(i)"
   ]
  },
  {
   "cell_type": "code",
   "execution_count": 175,
   "id": "5ddff13a",
   "metadata": {},
   "outputs": [
    {
     "ename": "SyntaxError",
     "evalue": "leading zeros in decimal integer literals are not permitted; use an 0o prefix for octal integers (3002638675.py, line 1)",
     "output_type": "error",
     "traceback": [
      "\u001b[1;36m  Input \u001b[1;32mIn [175]\u001b[1;36m\u001b[0m\n\u001b[1;33m    08 05 2015\u001b[0m\n\u001b[1;37m     ^\u001b[0m\n\u001b[1;31mSyntaxError\u001b[0m\u001b[1;31m:\u001b[0m leading zeros in decimal integer literals are not permitted; use an 0o prefix for octal integers\n"
     ]
    }
   ],
   "source": [
    "#08 05 2015"
   ]
  },
  {
   "cell_type": "code",
   "execution_count": 176,
   "id": "fbf6086e",
   "metadata": {},
   "outputs": [],
   "source": [
    "import datetime"
   ]
  },
  {
   "cell_type": "code",
   "execution_count": 177,
   "id": "6a8a8cef",
   "metadata": {},
   "outputs": [],
   "source": [
    "import calendar"
   ]
  },
  {
   "cell_type": "code",
   "execution_count": 179,
   "id": "999350ff",
   "metadata": {},
   "outputs": [
    {
     "name": "stdout",
     "output_type": "stream",
     "text": [
      "08 05 2015\n"
     ]
    }
   ],
   "source": [
    "month, day, year = map(int, input().split(\" \"))"
   ]
  },
  {
   "cell_type": "code",
   "execution_count": 181,
   "id": "d45a18b9",
   "metadata": {},
   "outputs": [],
   "source": [
    "dayId = calendar.weekday(year,month,day)"
   ]
  },
  {
   "cell_type": "code",
   "execution_count": 184,
   "id": "d5a01de2",
   "metadata": {},
   "outputs": [
    {
     "name": "stdout",
     "output_type": "stream",
     "text": [
      "WEDNESDAY\n"
     ]
    }
   ],
   "source": [
    "print(calendar.day_name[dayId].upper())"
   ]
  },
  {
   "cell_type": "code",
   "execution_count": null,
   "id": "0f6f6b17",
   "metadata": {},
   "outputs": [],
   "source": [
    "4\n",
    "2 4 5 9\n",
    "4\n",
    "2 4 11 12"
   ]
  },
  {
   "cell_type": "code",
   "execution_count": 185,
   "id": "04570c60",
   "metadata": {},
   "outputs": [
    {
     "name": "stdout",
     "output_type": "stream",
     "text": [
      "4\n",
      "2 4 5 9\n",
      "4\n",
      "2 4 11 12\n",
      "5\n",
      "9\n",
      "11\n",
      "12\n"
     ]
    }
   ],
   "source": [
    "if __name__ == \"__main__\":\n",
    "    n = int(input())\n",
    "    s1 = set(map(int, input().split(\" \")))\n",
    "    \n",
    "    m = int(input())\n",
    "    s2 = set(map(int, input().split(\" \")))\n",
    "    \n",
    "    lst = list(s1.symmetric_difference(s2))\n",
    "    \n",
    "    lst1 = sorted(lst)\n",
    "    \n",
    "    for i in lst1:\n",
    "        print(i)\n",
    "    "
   ]
  },
  {
   "cell_type": "code",
   "execution_count": 186,
   "id": "4ebceef4",
   "metadata": {},
   "outputs": [],
   "source": [
    "#100"
   ]
  },
  {
   "cell_type": "code",
   "execution_count": null,
   "id": "a5f3aa2b",
   "metadata": {},
   "outputs": [],
   "source": [
    "n = int(input())\n",
    "\n",
    "word_list = []\n",
    "word_dict = {}\n",
    "\n",
    "for i in range(n):\n",
    "    word = input()\n",
    "    if word not in word_dict:\n",
    "        word_list.append(word)\n",
    "    word_dict[word] = word_dict.get(word, 0) + 1\n",
    "\n",
    "print(len(word_list))\n",
    "for word in word_list:\n",
    "    print(word_dict[word], end=' ')"
   ]
  },
  {
   "cell_type": "code",
   "execution_count": 2,
   "id": "756e1ebf",
   "metadata": {},
   "outputs": [
    {
     "name": "stdout",
     "output_type": "stream",
     "text": [
      "4\n"
     ]
    }
   ],
   "source": [
    "n = int(input())"
   ]
  },
  {
   "cell_type": "code",
   "execution_count": 3,
   "id": "a33b73c4",
   "metadata": {},
   "outputs": [
    {
     "name": "stdout",
     "output_type": "stream",
     "text": [
      "bcdef\n",
      "abcdefg\n",
      "bcde\n",
      "bcdef\n",
      "3\n",
      "2 1 1 "
     ]
    }
   ],
   "source": [
    "word_list = []\n",
    "word_dict = {}\n",
    "\n",
    "for i in range(n):\n",
    "    word = input()\n",
    "    if word not in word_dict:\n",
    "        word_list.append(word)\n",
    "    word_dict[word] = word_dict.get(word,0) + 1\n",
    "    \n",
    "print(len(word_list))\n",
    "for word in word_list:\n",
    "    print(word_dict[word], end= \" \")"
   ]
  },
  {
   "cell_type": "code",
   "execution_count": null,
   "id": "9425e9bf",
   "metadata": {},
   "outputs": [],
   "source": []
  },
  {
   "cell_type": "code",
   "execution_count": null,
   "id": "181bfafe",
   "metadata": {},
   "outputs": [],
   "source": [
    "4\n",
    "bcdef\n",
    "abcdefg\n",
    "bcde\n",
    "bcdef"
   ]
  },
  {
   "cell_type": "code",
   "execution_count": 4,
   "id": "9d05c7aa",
   "metadata": {},
   "outputs": [
    {
     "data": {
      "text/plain": [
       "{'bcdef': 2, 'abcdefg': 1, 'bcde': 1}"
      ]
     },
     "execution_count": 4,
     "metadata": {},
     "output_type": "execute_result"
    }
   ],
   "source": [
    "word_dict"
   ]
  },
  {
   "cell_type": "code",
   "execution_count": 5,
   "id": "cb86ceb0",
   "metadata": {},
   "outputs": [
    {
     "name": "stdout",
     "output_type": "stream",
     "text": [
      "4\n"
     ]
    }
   ],
   "source": [
    "n = int(input())"
   ]
  },
  {
   "cell_type": "code",
   "execution_count": 6,
   "id": "c1d4b32f",
   "metadata": {},
   "outputs": [
    {
     "name": "stdout",
     "output_type": "stream",
     "text": [
      "bcdef\n",
      "abcdefg\n",
      "bcde\n",
      "bcdef\n"
     ]
    }
   ],
   "source": [
    "word_list = []\n",
    "word_dict = {}\n",
    "\n",
    "for i in range(n):\n",
    "    word = input()\n",
    "    if word not in word_dict:\n",
    "        word_list.append(word)\n",
    "    word_dict[word] = word_dict.get(word, 0) + 1\n",
    "    "
   ]
  },
  {
   "cell_type": "code",
   "execution_count": 7,
   "id": "f7de071f",
   "metadata": {},
   "outputs": [
    {
     "data": {
      "text/plain": [
       "3"
      ]
     },
     "execution_count": 7,
     "metadata": {},
     "output_type": "execute_result"
    }
   ],
   "source": [
    "len(word_list)"
   ]
  },
  {
   "cell_type": "code",
   "execution_count": 8,
   "id": "bb2698fc",
   "metadata": {},
   "outputs": [
    {
     "data": {
      "text/plain": [
       "{'bcdef': 2, 'abcdefg': 1, 'bcde': 1}"
      ]
     },
     "execution_count": 8,
     "metadata": {},
     "output_type": "execute_result"
    }
   ],
   "source": [
    "word_dict"
   ]
  },
  {
   "cell_type": "code",
   "execution_count": 11,
   "id": "451a456e",
   "metadata": {},
   "outputs": [
    {
     "name": "stdout",
     "output_type": "stream",
     "text": [
      "2 1 1 "
     ]
    }
   ],
   "source": [
    "for i in word_dict:\n",
    "    print(word_dict[i], end=\" \")"
   ]
  },
  {
   "cell_type": "code",
   "execution_count": 14,
   "id": "024bbbfc",
   "metadata": {},
   "outputs": [
    {
     "data": {
      "text/plain": [
       "2"
      ]
     },
     "execution_count": 14,
     "metadata": {},
     "output_type": "execute_result"
    }
   ],
   "source": [
    "word_dict.get('bcdef')"
   ]
  },
  {
   "cell_type": "code",
   "execution_count": 21,
   "id": "9f4b511d",
   "metadata": {},
   "outputs": [],
   "source": [
    "s = 'aabbbccde'"
   ]
  },
  {
   "cell_type": "code",
   "execution_count": 22,
   "id": "d035a0ba",
   "metadata": {},
   "outputs": [],
   "source": [
    "d = {}\n",
    "\n",
    "for i in s:\n",
    "    if i not in d:\n",
    "        d[i] = 1\n",
    "    else:\n",
    "        d[i] +=1\n",
    "        \n",
    "        "
   ]
  },
  {
   "cell_type": "code",
   "execution_count": 23,
   "id": "bc96f72d",
   "metadata": {},
   "outputs": [
    {
     "data": {
      "text/plain": [
       "{'a': 2, 'b': 3, 'c': 2, 'd': 1, 'e': 1}"
      ]
     },
     "execution_count": 23,
     "metadata": {},
     "output_type": "execute_result"
    }
   ],
   "source": [
    "d"
   ]
  },
  {
   "cell_type": "code",
   "execution_count": 25,
   "id": "dba04c88",
   "metadata": {},
   "outputs": [],
   "source": [
    "d = {}\n",
    "\n",
    "for i in s:\n",
    "    d[i] = d.get(i,0)+ 1"
   ]
  },
  {
   "cell_type": "code",
   "execution_count": 26,
   "id": "c750a966",
   "metadata": {},
   "outputs": [
    {
     "data": {
      "text/plain": [
       "{'a': 2, 'b': 3, 'c': 2, 'd': 1, 'e': 1}"
      ]
     },
     "execution_count": 26,
     "metadata": {},
     "output_type": "execute_result"
    }
   ],
   "source": [
    "d"
   ]
  },
  {
   "cell_type": "code",
   "execution_count": 30,
   "id": "57ffb241",
   "metadata": {},
   "outputs": [],
   "source": [
    "tem = sorted(d.items(),key= lambda x:x[1] , reverse= True)"
   ]
  },
  {
   "cell_type": "code",
   "execution_count": 35,
   "id": "8e2f4dca",
   "metadata": {},
   "outputs": [
    {
     "name": "stdout",
     "output_type": "stream",
     "text": [
      "b 3\n",
      "a 2\n",
      "c 2\n",
      "d 1\n",
      "e 1\n"
     ]
    }
   ],
   "source": [
    "for i in tem:\n",
    "    print(i[0], i[1])"
   ]
  },
  {
   "cell_type": "code",
   "execution_count": 36,
   "id": "e5e818c3",
   "metadata": {},
   "outputs": [],
   "source": [
    "s = 'aabbbccde'"
   ]
  },
  {
   "cell_type": "code",
   "execution_count": 37,
   "id": "367d0708",
   "metadata": {},
   "outputs": [],
   "source": [
    "d = {}\n",
    "for i in s:\n",
    "    d[i] = d.get(i,0) + 1\n",
    "    "
   ]
  },
  {
   "cell_type": "code",
   "execution_count": 38,
   "id": "c09cf132",
   "metadata": {},
   "outputs": [
    {
     "data": {
      "text/plain": [
       "{'a': 2, 'b': 3, 'c': 2, 'd': 1, 'e': 1}"
      ]
     },
     "execution_count": 38,
     "metadata": {},
     "output_type": "execute_result"
    }
   ],
   "source": [
    "d"
   ]
  },
  {
   "cell_type": "code",
   "execution_count": 39,
   "id": "c71ea2dc",
   "metadata": {},
   "outputs": [],
   "source": [
    "temp1 = sorted(d.items(), key= lambda x:x[1], reverse= True)"
   ]
  },
  {
   "cell_type": "code",
   "execution_count": 41,
   "id": "bf1077bc",
   "metadata": {},
   "outputs": [
    {
     "name": "stdout",
     "output_type": "stream",
     "text": [
      "b 3\n",
      "a 2\n",
      "c 2\n",
      "d 1\n",
      "e 1\n"
     ]
    }
   ],
   "source": [
    "for i in temp1:\n",
    "    print(i[0], i[1])"
   ]
  },
  {
   "cell_type": "code",
   "execution_count": 42,
   "id": "2ba719f4",
   "metadata": {},
   "outputs": [
    {
     "name": "stdout",
     "output_type": "stream",
     "text": [
      "aabbbccde\n"
     ]
    }
   ],
   "source": [
    "n = list(input())"
   ]
  },
  {
   "cell_type": "code",
   "execution_count": 46,
   "id": "c2ea67fb",
   "metadata": {},
   "outputs": [],
   "source": [
    "mydict = {i:n.count(i) for i in n}"
   ]
  },
  {
   "cell_type": "code",
   "execution_count": 48,
   "id": "4af072a6",
   "metadata": {},
   "outputs": [],
   "source": [
    "t = sorted(mydict.items(), key=lambda x:x[1], reverse= True)"
   ]
  },
  {
   "cell_type": "code",
   "execution_count": 50,
   "id": "ca3f409c",
   "metadata": {},
   "outputs": [
    {
     "name": "stdout",
     "output_type": "stream",
     "text": [
      "b 3\n",
      "a 2\n",
      "c 2\n",
      "d 1\n",
      "e 1\n"
     ]
    }
   ],
   "source": [
    "for i in t:\n",
    "    print(i[0], i[1])"
   ]
  },
  {
   "cell_type": "code",
   "execution_count": 51,
   "id": "083c06f2",
   "metadata": {},
   "outputs": [],
   "source": [
    "#102"
   ]
  },
  {
   "cell_type": "code",
   "execution_count": 52,
   "id": "9a6f90e2",
   "metadata": {},
   "outputs": [
    {
     "ename": "NameError",
     "evalue": "name 'Hello321Bye360' is not defined",
     "output_type": "error",
     "traceback": [
      "\u001b[1;31m---------------------------------------------------------------------------\u001b[0m",
      "\u001b[1;31mNameError\u001b[0m                                 Traceback (most recent call last)",
      "Input \u001b[1;32mIn [52]\u001b[0m, in \u001b[0;36m<cell line: 1>\u001b[1;34m()\u001b[0m\n\u001b[1;32m----> 1\u001b[0m \u001b[43mHello321Bye360\u001b[49m\n",
      "\u001b[1;31mNameError\u001b[0m: name 'Hello321Bye360' is not defined"
     ]
    }
   ],
   "source": [
    "Hello321Bye360"
   ]
  },
  {
   "cell_type": "code",
   "execution_count": 53,
   "id": "052be714",
   "metadata": {},
   "outputs": [
    {
     "name": "stdout",
     "output_type": "stream",
     "text": [
      "Hello321Bye360\n"
     ]
    }
   ],
   "source": [
    "n = list(input())"
   ]
  },
  {
   "cell_type": "code",
   "execution_count": 57,
   "id": "3c292c26",
   "metadata": {},
   "outputs": [
    {
     "data": {
      "text/plain": [
       "['H', 'e', 'l', 'l', 'o', '3', '2', '1', 'B', 'y', 'e', '3', '6', '0']"
      ]
     },
     "execution_count": 57,
     "metadata": {},
     "output_type": "execute_result"
    }
   ],
   "source": [
    "n"
   ]
  },
  {
   "cell_type": "code",
   "execution_count": 66,
   "id": "e069959e",
   "metadata": {},
   "outputs": [
    {
     "name": "stdout",
     "output_type": "stream",
     "text": [
      "Digits: 6\n",
      "letters: 8\n"
     ]
    }
   ],
   "source": [
    "digits_count = 0\n",
    "letter_count = 0\n",
    "for i in n:\n",
    "    if i.isalpha():\n",
    "        letter_count += 1\n",
    "    else:\n",
    "        digits_count+=1\n",
    "        \n",
    "print('Digits:', digits_count)\n",
    "print('letters:', letter_count)\n",
    "        \n",
    "    "
   ]
  },
  {
   "cell_type": "code",
   "execution_count": 64,
   "id": "f3d67d58",
   "metadata": {},
   "outputs": [
    {
     "data": {
      "text/plain": [
       "6"
      ]
     },
     "execution_count": 64,
     "metadata": {},
     "output_type": "execute_result"
    }
   ],
   "source": [
    "digits_count"
   ]
  },
  {
   "cell_type": "code",
   "execution_count": 65,
   "id": "39c947ee",
   "metadata": {},
   "outputs": [
    {
     "data": {
      "text/plain": [
       "8"
      ]
     },
     "execution_count": 65,
     "metadata": {},
     "output_type": "execute_result"
    }
   ],
   "source": [
    "letter_count"
   ]
  },
  {
   "cell_type": "code",
   "execution_count": 69,
   "id": "c815fb95",
   "metadata": {},
   "outputs": [],
   "source": [
    "\n",
    "def fistnumberssum(n):\n",
    "    if n==0:\n",
    "        return n\n",
    "    else:\n",
    "        return n+fistnumberssum(n-1)\n",
    "    "
   ]
  },
  {
   "cell_type": "code",
   "execution_count": 70,
   "id": "b52a33a5",
   "metadata": {},
   "outputs": [
    {
     "data": {
      "text/plain": [
       "15"
      ]
     },
     "execution_count": 70,
     "metadata": {},
     "output_type": "execute_result"
    }
   ],
   "source": [
    "fistnumberssum(5)"
   ]
  },
  {
   "cell_type": "code",
   "execution_count": 71,
   "id": "aca3fb7b",
   "metadata": {},
   "outputs": [
    {
     "data": {
      "text/plain": [
       "78"
      ]
     },
     "execution_count": 71,
     "metadata": {},
     "output_type": "execute_result"
    }
   ],
   "source": [
    "fistnumberssum(12)"
   ]
  },
  {
   "cell_type": "code",
   "execution_count": 72,
   "id": "580d36fb",
   "metadata": {},
   "outputs": [
    {
     "data": {
      "text/plain": [
       "55"
      ]
     },
     "execution_count": 72,
     "metadata": {},
     "output_type": "execute_result"
    }
   ],
   "source": [
    "fistnumberssum(10)"
   ]
  },
  {
   "cell_type": "code",
   "execution_count": 73,
   "id": "c402d60d",
   "metadata": {},
   "outputs": [
    {
     "data": {
      "text/plain": [
       "0"
      ]
     },
     "execution_count": 73,
     "metadata": {},
     "output_type": "execute_result"
    }
   ],
   "source": [
    "fistnumberssum(0)"
   ]
  },
  {
   "cell_type": "code",
   "execution_count": null,
   "id": "a55e3aca",
   "metadata": {},
   "outputs": [],
   "source": []
  }
 ],
 "metadata": {
  "kernelspec": {
   "display_name": "Python 3 (ipykernel)",
   "language": "python",
   "name": "python3"
  },
  "language_info": {
   "codemirror_mode": {
    "name": "ipython",
    "version": 3
   },
   "file_extension": ".py",
   "mimetype": "text/x-python",
   "name": "python",
   "nbconvert_exporter": "python",
   "pygments_lexer": "ipython3",
   "version": "3.8.8"
  }
 },
 "nbformat": 4,
 "nbformat_minor": 5
}
