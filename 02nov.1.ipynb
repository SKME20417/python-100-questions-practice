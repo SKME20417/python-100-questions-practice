{
 "cells": [
  {
   "cell_type": "code",
   "execution_count": 37,
   "id": "8f20d3aa",
   "metadata": {},
   "outputs": [
    {
     "name": "stdout",
     "output_type": "stream",
     "text": [
      "6\n"
     ]
    }
   ],
   "source": [
    "number = int(input())\n"
   ]
  },
  {
   "cell_type": "code",
   "execution_count": 13,
   "id": "b4a798c3",
   "metadata": {},
   "outputs": [
    {
     "name": "stdout",
     "output_type": "stream",
     "text": [
      "The given number is prime number\n"
     ]
    }
   ],
   "source": [
    "is_prime = True\n",
    "\n",
    "for i in range(2,number):\n",
    "    \n",
    "    if number%i==0:\n",
    "        is_prime=False\n",
    "        \n",
    "        \n",
    "if is_prime:\n",
    "    print('The given number is prime number')\n",
    "else:\n",
    "    print('Not a prime number')\n",
    "    "
   ]
  },
  {
   "cell_type": "code",
   "execution_count": 18,
   "id": "6bd8a7ee",
   "metadata": {},
   "outputs": [
    {
     "name": "stdout",
     "output_type": "stream",
     "text": [
      "Number 1 is prime\n"
     ]
    }
   ],
   "source": [
    "n = 1\n",
    "\n",
    "is_prime = True\n",
    "\n",
    "for i in range(2, n):\n",
    "    if(n%i==0):\n",
    "        # number will not be a prime\n",
    "        is_prime = False\n",
    "        \n",
    "if(is_prime):\n",
    "    print(\"Number {} is prime\".format(n))\n",
    "else:\n",
    "    print(\"Number {} is not a prime\".format(n))"
   ]
  },
  {
   "cell_type": "code",
   "execution_count": 38,
   "id": "d9086822",
   "metadata": {},
   "outputs": [],
   "source": [
    "def is_prime(x):\n",
    "    is_prime_number = True\n",
    "    if x>1:\n",
    "        for i in range(2,x):\n",
    "            if x%i==0:\n",
    "                is_prime_number=False\n",
    "    if x==1:\n",
    "        return 1\n",
    "    \n",
    "    return is_prime_number\n",
    "        "
   ]
  },
  {
   "cell_type": "code",
   "execution_count": 39,
   "id": "7bdce649",
   "metadata": {},
   "outputs": [
    {
     "data": {
      "text/plain": [
       "False"
      ]
     },
     "execution_count": 39,
     "metadata": {},
     "output_type": "execute_result"
    }
   ],
   "source": [
    "is_prime(number)"
   ]
  },
  {
   "cell_type": "code",
   "execution_count": 57,
   "id": "ef59f0dd",
   "metadata": {},
   "outputs": [
    {
     "name": "stdout",
     "output_type": "stream",
     "text": [
      "12\n"
     ]
    }
   ],
   "source": [
    "number = int(input())"
   ]
  },
  {
   "cell_type": "code",
   "execution_count": 59,
   "id": "93637717",
   "metadata": {},
   "outputs": [
    {
     "name": "stdout",
     "output_type": "stream",
     "text": [
      "the given number is not a prime number\n"
     ]
    }
   ],
   "source": [
    "if number>1:\n",
    "    for j in range(2,number):\n",
    "        if number%j==0:\n",
    "            print(\"the given number is not a prime number\")\n",
    "            break\n",
    "    else:\n",
    "        print('number is a prime number')\n",
    "else:\n",
    "    print('not a prime number')"
   ]
  },
  {
   "cell_type": "code",
   "execution_count": 74,
   "id": "eb218184",
   "metadata": {},
   "outputs": [],
   "source": [
    "def is_prime(x):\n",
    "    is_primee = True\n",
    "    if x>1:\n",
    "        for j in range(2,x):\n",
    "            if x%j==0:\n",
    "                print('the number is not a prime number')\n",
    "                is_primee = False\n",
    "                break\n",
    "    if x<=1:\n",
    "        print('Not a prime number')\n",
    "        \n",
    "    return is_primee\n",
    "    "
   ]
  },
  {
   "cell_type": "code",
   "execution_count": 75,
   "id": "457f7695",
   "metadata": {},
   "outputs": [
    {
     "name": "stdout",
     "output_type": "stream",
     "text": [
      "Not a prime number\n"
     ]
    },
    {
     "data": {
      "text/plain": [
       "True"
      ]
     },
     "execution_count": 75,
     "metadata": {},
     "output_type": "execute_result"
    }
   ],
   "source": [
    "is_prime(1)"
   ]
  },
  {
   "cell_type": "code",
   "execution_count": 76,
   "id": "27c41459",
   "metadata": {},
   "outputs": [],
   "source": [
    "def is_prime(n):\n",
    "  for i in range(2,n):\n",
    "    if (n%i) == 0:\n",
    "      return False\n",
    "    \n",
    "  return True"
   ]
  },
  {
   "cell_type": "code",
   "execution_count": 77,
   "id": "d19299fa",
   "metadata": {},
   "outputs": [
    {
     "data": {
      "text/plain": [
       "True"
      ]
     },
     "execution_count": 77,
     "metadata": {},
     "output_type": "execute_result"
    }
   ],
   "source": [
    "is_prime(1)"
   ]
  },
  {
   "cell_type": "code",
   "execution_count": 88,
   "id": "27a49fac",
   "metadata": {},
   "outputs": [
    {
     "name": "stdout",
     "output_type": "stream",
     "text": [
      "not a prime number\n"
     ]
    }
   ],
   "source": [
    "x = 4\n",
    "\n",
    "if x>1:\n",
    "    for j in range(2,x):\n",
    "        if x%j==0:\n",
    "            print('not a prime number')\n",
    "            break\n",
    "    else:\n",
    "        print('number is prime number')\n",
    "else:\n",
    "    print('The given number is not a prime number')"
   ]
  },
  {
   "cell_type": "code",
   "execution_count": 103,
   "id": "2c980028",
   "metadata": {},
   "outputs": [],
   "source": [
    "def is_prime(x):\n",
    "    is_prime_number = True\n",
    "    if x==1:\n",
    "        return 1\n",
    "    if x>1:\n",
    "        for j in range(2,x):\n",
    "            if x%j==0:\n",
    "                print('not a prime number')\n",
    "                break\n",
    "                is_prime_number = False\n",
    "    return is_prime_number\n",
    "\n",
    "        \n",
    "    "
   ]
  },
  {
   "cell_type": "code",
   "execution_count": 104,
   "id": "1571d962",
   "metadata": {},
   "outputs": [
    {
     "name": "stdout",
     "output_type": "stream",
     "text": [
      "not a prime number\n"
     ]
    },
    {
     "data": {
      "text/plain": [
       "True"
      ]
     },
     "execution_count": 104,
     "metadata": {},
     "output_type": "execute_result"
    }
   ],
   "source": [
    "is_prime(6)"
   ]
  },
  {
   "cell_type": "code",
   "execution_count": 105,
   "id": "1a0866ec",
   "metadata": {},
   "outputs": [],
   "source": [
    "def is_prime(x):\n",
    "    is_prime_number = True\n",
    "    if x>1:\n",
    "        for i in range(2,x):\n",
    "            if x%i==0:\n",
    "                is_prime_number=False\n",
    "    if x==1:\n",
    "        return 1\n",
    "    \n",
    "    return is_prime_number"
   ]
  },
  {
   "cell_type": "code",
   "execution_count": 111,
   "id": "80ddc509",
   "metadata": {},
   "outputs": [
    {
     "data": {
      "text/plain": [
       "True"
      ]
     },
     "execution_count": 111,
     "metadata": {},
     "output_type": "execute_result"
    }
   ],
   "source": [
    "is_prime(11)"
   ]
  },
  {
   "cell_type": "code",
   "execution_count": 112,
   "id": "60e42378",
   "metadata": {},
   "outputs": [],
   "source": [
    "def is_prime_number_my(x):\n",
    "    is_pri = True\n",
    "    if x>1:\n",
    "        for j in range(2,x):\n",
    "            if x%j==0:\n",
    "                is_pri  = False\n",
    "    if x==1:\n",
    "        return 1\n",
    "    \n",
    "    return is_pri\n",
    "                "
   ]
  },
  {
   "cell_type": "code",
   "execution_count": 116,
   "id": "e44f9b37",
   "metadata": {},
   "outputs": [
    {
     "data": {
      "text/plain": [
       "False"
      ]
     },
     "execution_count": 116,
     "metadata": {},
     "output_type": "execute_result"
    }
   ],
   "source": [
    "is_prime_number_my(6)"
   ]
  },
  {
   "cell_type": "code",
   "execution_count": 118,
   "id": "6c675716",
   "metadata": {},
   "outputs": [],
   "source": [
    "for i in range(1,10):\n",
    "    pass"
   ]
  },
  {
   "cell_type": "code",
   "execution_count": 122,
   "id": "50a7c8d4",
   "metadata": {},
   "outputs": [
    {
     "name": "stdout",
     "output_type": "stream",
     "text": [
      "1\n",
      "2\n",
      "3\n",
      "4\n",
      "6\n",
      "7\n",
      "8\n",
      "9\n",
      "it is abreak statment example\n"
     ]
    }
   ],
   "source": [
    "for i in range(1,10):\n",
    "    if i==5:\n",
    "        continue\n",
    "    print(i)\n",
    "else:\n",
    "    print('it is abreak statment example')"
   ]
  },
  {
   "cell_type": "code",
   "execution_count": 123,
   "id": "de6b327d",
   "metadata": {},
   "outputs": [],
   "source": [
    "n = 8\n",
    "\n",
    "\n",
    "def is_prime(x):\n",
    "    prime_number = True\n",
    "    if x>1:\n",
    "        for j in range(2,x):\n",
    "            if x%j==0:\n",
    "                prime_number = False\n",
    "    if x==1:\n",
    "        return 1\n",
    "    \n",
    "    return prime_number\n",
    "                "
   ]
  },
  {
   "cell_type": "code",
   "execution_count": 128,
   "id": "80d6acda",
   "metadata": {},
   "outputs": [
    {
     "data": {
      "text/plain": [
       "False"
      ]
     },
     "execution_count": 128,
     "metadata": {},
     "output_type": "execute_result"
    }
   ],
   "source": [
    "is_prime(6)"
   ]
  },
  {
   "cell_type": "code",
   "execution_count": 135,
   "id": "ce8446c9",
   "metadata": {},
   "outputs": [
    {
     "name": "stdout",
     "output_type": "stream",
     "text": [
      "not a prime number\n"
     ]
    }
   ],
   "source": [
    "number = 1\n",
    "if number>1:\n",
    "    for j in range(2,number):\n",
    "        if number%j==0:\n",
    "            print('this is not a prime number')\n",
    "            break\n",
    "    else:\n",
    "        print('the given {} number is prime number'.format(number))\n",
    "else:\n",
    "    print('not a prime number')"
   ]
  },
  {
   "cell_type": "code",
   "execution_count": 136,
   "id": "35a26b29",
   "metadata": {},
   "outputs": [],
   "source": [
    "my_str= \"Welcome to The Machine lerning\""
   ]
  },
  {
   "cell_type": "code",
   "execution_count": 137,
   "id": "27fa9f6d",
   "metadata": {},
   "outputs": [
    {
     "name": "stdout",
     "output_type": "stream",
     "text": [
      "Welcome to The Machine lerning\n"
     ]
    }
   ],
   "source": [
    "print(my_str)"
   ]
  },
  {
   "cell_type": "code",
   "execution_count": 138,
   "id": "21ce3623",
   "metadata": {},
   "outputs": [
    {
     "data": {
      "text/plain": [
       "str"
      ]
     },
     "execution_count": 138,
     "metadata": {},
     "output_type": "execute_result"
    }
   ],
   "source": [
    "type(my_str)"
   ]
  },
  {
   "cell_type": "code",
   "execution_count": 139,
   "id": "498185dc",
   "metadata": {},
   "outputs": [
    {
     "data": {
      "text/plain": [
       "'W'"
      ]
     },
     "execution_count": 139,
     "metadata": {},
     "output_type": "execute_result"
    }
   ],
   "source": [
    "my_str[0]"
   ]
  },
  {
   "cell_type": "code",
   "execution_count": 140,
   "id": "ff2d3c83",
   "metadata": {},
   "outputs": [
    {
     "data": {
      "text/plain": [
       "'e'"
      ]
     },
     "execution_count": 140,
     "metadata": {},
     "output_type": "execute_result"
    }
   ],
   "source": [
    "my_str[1]"
   ]
  },
  {
   "cell_type": "code",
   "execution_count": 141,
   "id": "0b365b0c",
   "metadata": {},
   "outputs": [
    {
     "data": {
      "text/plain": [
       "30"
      ]
     },
     "execution_count": 141,
     "metadata": {},
     "output_type": "execute_result"
    }
   ],
   "source": [
    "len(my_str)"
   ]
  },
  {
   "cell_type": "code",
   "execution_count": 142,
   "id": "4818a8e9",
   "metadata": {},
   "outputs": [
    {
     "data": {
      "text/plain": [
       "'n'"
      ]
     },
     "execution_count": 142,
     "metadata": {},
     "output_type": "execute_result"
    }
   ],
   "source": [
    "my_str[20]"
   ]
  },
  {
   "cell_type": "code",
   "execution_count": 145,
   "id": "ebffafaa",
   "metadata": {},
   "outputs": [
    {
     "data": {
      "text/plain": [
       "'g'"
      ]
     },
     "execution_count": 145,
     "metadata": {},
     "output_type": "execute_result"
    }
   ],
   "source": [
    "my_str[len(my_str)-1]"
   ]
  },
  {
   "cell_type": "code",
   "execution_count": 146,
   "id": "41579cfc",
   "metadata": {},
   "outputs": [
    {
     "data": {
      "text/plain": [
       "'g'"
      ]
     },
     "execution_count": 146,
     "metadata": {},
     "output_type": "execute_result"
    }
   ],
   "source": [
    "my_str[-1]"
   ]
  },
  {
   "cell_type": "code",
   "execution_count": 147,
   "id": "f3b9e0fa",
   "metadata": {},
   "outputs": [
    {
     "data": {
      "text/plain": [
       "'r'"
      ]
     },
     "execution_count": 147,
     "metadata": {},
     "output_type": "execute_result"
    }
   ],
   "source": [
    "my_str[-5]"
   ]
  },
  {
   "cell_type": "code",
   "execution_count": 148,
   "id": "229efa3a",
   "metadata": {},
   "outputs": [
    {
     "name": "stdout",
     "output_type": "stream",
     "text": [
      "Welcome to The Machine lerning\n"
     ]
    }
   ],
   "source": [
    "print(my_str)"
   ]
  },
  {
   "cell_type": "code",
   "execution_count": 149,
   "id": "a4af474e",
   "metadata": {},
   "outputs": [
    {
     "data": {
      "text/plain": [
       "'Welcome'"
      ]
     },
     "execution_count": 149,
     "metadata": {},
     "output_type": "execute_result"
    }
   ],
   "source": [
    "my_str[0:7]"
   ]
  },
  {
   "cell_type": "code",
   "execution_count": 150,
   "id": "ef4727d5",
   "metadata": {},
   "outputs": [
    {
     "data": {
      "text/plain": [
       "'ome to The '"
      ]
     },
     "execution_count": 150,
     "metadata": {},
     "output_type": "execute_result"
    }
   ],
   "source": [
    "my_str[4:15]"
   ]
  },
  {
   "cell_type": "code",
   "execution_count": 153,
   "id": "8b0abacc",
   "metadata": {},
   "outputs": [
    {
     "data": {
      "text/plain": [
       "'Welcome to The Machine lernin'"
      ]
     },
     "execution_count": 153,
     "metadata": {},
     "output_type": "execute_result"
    }
   ],
   "source": [
    "my_str[0:-1]"
   ]
  },
  {
   "cell_type": "code",
   "execution_count": 154,
   "id": "29b3cb88",
   "metadata": {},
   "outputs": [
    {
     "data": {
      "text/plain": [
       "'Welcome to The Machine lerning'"
      ]
     },
     "execution_count": 154,
     "metadata": {},
     "output_type": "execute_result"
    }
   ],
   "source": [
    "my_str[:]"
   ]
  },
  {
   "cell_type": "code",
   "execution_count": 155,
   "id": "9795a439",
   "metadata": {},
   "outputs": [
    {
     "data": {
      "text/plain": [
       "'gninrel enihcaM ehT ot emocleW'"
      ]
     },
     "execution_count": 155,
     "metadata": {},
     "output_type": "execute_result"
    }
   ],
   "source": [
    "my_str[::-1]"
   ]
  },
  {
   "cell_type": "code",
   "execution_count": 156,
   "id": "19aeec7c",
   "metadata": {},
   "outputs": [
    {
     "data": {
      "text/plain": [
       "'loet h'"
      ]
     },
     "execution_count": 156,
     "metadata": {},
     "output_type": "execute_result"
    }
   ],
   "source": [
    "my_str[2:14:2]"
   ]
  },
  {
   "cell_type": "code",
   "execution_count": 159,
   "id": "76292b6e",
   "metadata": {},
   "outputs": [
    {
     "data": {
      "text/plain": [
       "'nha h te'"
      ]
     },
     "execution_count": 159,
     "metadata": {},
     "output_type": "execute_result"
    }
   ],
   "source": [
    "my_str[20:5:-2]"
   ]
  },
  {
   "cell_type": "code",
   "execution_count": 160,
   "id": "739d2420",
   "metadata": {},
   "outputs": [
    {
     "data": {
      "text/plain": [
       "'Welcome to the machine lerning'"
      ]
     },
     "execution_count": 160,
     "metadata": {},
     "output_type": "execute_result"
    }
   ],
   "source": [
    "my_str.capitalize()"
   ]
  },
  {
   "cell_type": "code",
   "execution_count": 161,
   "id": "9c3e837a",
   "metadata": {},
   "outputs": [
    {
     "data": {
      "text/plain": [
       "'WELCOME TO THE MACHINE LERNING'"
      ]
     },
     "execution_count": 161,
     "metadata": {},
     "output_type": "execute_result"
    }
   ],
   "source": [
    "my_str.upper()"
   ]
  },
  {
   "cell_type": "code",
   "execution_count": 162,
   "id": "ae81d4b0",
   "metadata": {},
   "outputs": [
    {
     "data": {
      "text/plain": [
       "'welcome to the machine lerning'"
      ]
     },
     "execution_count": 162,
     "metadata": {},
     "output_type": "execute_result"
    }
   ],
   "source": [
    "my_str.lower()"
   ]
  },
  {
   "cell_type": "code",
   "execution_count": 163,
   "id": "0a28b79f",
   "metadata": {},
   "outputs": [
    {
     "data": {
      "text/plain": [
       "'Welcome To The Machine Lerning'"
      ]
     },
     "execution_count": 163,
     "metadata": {},
     "output_type": "execute_result"
    }
   ],
   "source": [
    "my_str.title()"
   ]
  },
  {
   "cell_type": "code",
   "execution_count": 164,
   "id": "e51aced3",
   "metadata": {},
   "outputs": [
    {
     "data": {
      "text/plain": [
       "3"
      ]
     },
     "execution_count": 164,
     "metadata": {},
     "output_type": "execute_result"
    }
   ],
   "source": [
    "my_str.find('come')"
   ]
  },
  {
   "cell_type": "code",
   "execution_count": 165,
   "id": "1e4fbe3c",
   "metadata": {},
   "outputs": [
    {
     "data": {
      "text/plain": [
       "-1"
      ]
     },
     "execution_count": 165,
     "metadata": {},
     "output_type": "execute_result"
    }
   ],
   "source": [
    "my_str.find('bad')"
   ]
  },
  {
   "cell_type": "code",
   "execution_count": 168,
   "id": "d4c16a5f",
   "metadata": {},
   "outputs": [
    {
     "data": {
      "text/plain": [
       "['Welc', 'me t', ' The Machine lerning']"
      ]
     },
     "execution_count": 168,
     "metadata": {},
     "output_type": "execute_result"
    }
   ],
   "source": [
    "my_str.split(\"o\" )"
   ]
  },
  {
   "cell_type": "code",
   "execution_count": 169,
   "id": "7ffee76a",
   "metadata": {},
   "outputs": [
    {
     "data": {
      "text/plain": [
       "2"
      ]
     },
     "execution_count": 169,
     "metadata": {},
     "output_type": "execute_result"
    }
   ],
   "source": [
    "my_str.count('o')"
   ]
  },
  {
   "cell_type": "code",
   "execution_count": 170,
   "id": "58409c98",
   "metadata": {},
   "outputs": [
    {
     "data": {
      "text/plain": [
       "'Welcome to The computer lerning'"
      ]
     },
     "execution_count": 170,
     "metadata": {},
     "output_type": "execute_result"
    }
   ],
   "source": [
    "my_str.replace(\"Machine\", \"computer\")"
   ]
  },
  {
   "cell_type": "code",
   "execution_count": 171,
   "id": "0459040b",
   "metadata": {},
   "outputs": [
    {
     "data": {
      "text/plain": [
       "'Welcome to The Machine lerning'"
      ]
     },
     "execution_count": 171,
     "metadata": {},
     "output_type": "execute_result"
    }
   ],
   "source": [
    "my_str"
   ]
  },
  {
   "cell_type": "code",
   "execution_count": 172,
   "id": "cee2284c",
   "metadata": {},
   "outputs": [
    {
     "name": "stdout",
     "output_type": "stream",
     "text": [
      "Enter your name :             sanjay      kumar          \n"
     ]
    }
   ],
   "source": [
    "name = input(\"Enter your name : \")"
   ]
  },
  {
   "cell_type": "code",
   "execution_count": 173,
   "id": "fa8d526e",
   "metadata": {},
   "outputs": [
    {
     "data": {
      "text/plain": [
       "'            sanjay      kumar          '"
      ]
     },
     "execution_count": 173,
     "metadata": {},
     "output_type": "execute_result"
    }
   ],
   "source": [
    "name"
   ]
  },
  {
   "cell_type": "code",
   "execution_count": 174,
   "id": "3997239f",
   "metadata": {},
   "outputs": [
    {
     "data": {
      "text/plain": [
       "39"
      ]
     },
     "execution_count": 174,
     "metadata": {},
     "output_type": "execute_result"
    }
   ],
   "source": [
    "len(name)"
   ]
  },
  {
   "cell_type": "code",
   "execution_count": 175,
   "id": "c799e757",
   "metadata": {},
   "outputs": [
    {
     "data": {
      "text/plain": [
       "'sanjay      kumar          '"
      ]
     },
     "execution_count": 175,
     "metadata": {},
     "output_type": "execute_result"
    }
   ],
   "source": [
    "name.lstrip()"
   ]
  },
  {
   "cell_type": "code",
   "execution_count": 177,
   "id": "f3ab846a",
   "metadata": {},
   "outputs": [
    {
     "data": {
      "text/plain": [
       "'            sanjay      kumar'"
      ]
     },
     "execution_count": 177,
     "metadata": {},
     "output_type": "execute_result"
    }
   ],
   "source": [
    "name.rstrip()\n"
   ]
  },
  {
   "cell_type": "code",
   "execution_count": 178,
   "id": "425de69d",
   "metadata": {},
   "outputs": [
    {
     "data": {
      "text/plain": [
       "'sanjay      kumar'"
      ]
     },
     "execution_count": 178,
     "metadata": {},
     "output_type": "execute_result"
    }
   ],
   "source": [
    "name.strip()"
   ]
  },
  {
   "cell_type": "code",
   "execution_count": 179,
   "id": "b454bd88",
   "metadata": {},
   "outputs": [
    {
     "data": {
      "text/plain": [
       "'abcpqr'"
      ]
     },
     "execution_count": 179,
     "metadata": {},
     "output_type": "execute_result"
    }
   ],
   "source": [
    "\"abc\" + \"pqr\""
   ]
  },
  {
   "cell_type": "code",
   "execution_count": 181,
   "id": "7db56c59",
   "metadata": {},
   "outputs": [
    {
     "data": {
      "text/plain": [
       "'abc25'"
      ]
     },
     "execution_count": 181,
     "metadata": {},
     "output_type": "execute_result"
    }
   ],
   "source": [
    "\"abc\" + str(25)"
   ]
  },
  {
   "cell_type": "code",
   "execution_count": 184,
   "id": "9b461368",
   "metadata": {},
   "outputs": [
    {
     "data": {
      "text/plain": [
       "'hellohellohellohellohellohellohellohellohellohellohellohellohellohellohellohellohellohellohellohellohellohellohellohellohello'"
      ]
     },
     "execution_count": 184,
     "metadata": {},
     "output_type": "execute_result"
    }
   ],
   "source": [
    "\"hello\"*25"
   ]
  },
  {
   "cell_type": "code",
   "execution_count": 189,
   "id": "f8d4fc5c",
   "metadata": {},
   "outputs": [],
   "source": [
    "inp_str = \"This is an Input string to count vowels and machine learning is very fun.\""
   ]
  },
  {
   "cell_type": "code",
   "execution_count": 190,
   "id": "33286413",
   "metadata": {},
   "outputs": [],
   "source": [
    "def volwwel_count(str):\n",
    "    vol_count = 0\n",
    "    for i in inp_str:\n",
    "        if i in \"aeiouAEIOU\":\n",
    "            vol_count+=1\n",
    "    return vol_count\n"
   ]
  },
  {
   "cell_type": "code",
   "execution_count": 191,
   "id": "80eb817a",
   "metadata": {},
   "outputs": [
    {
     "data": {
      "text/plain": [
       "21"
      ]
     },
     "execution_count": 191,
     "metadata": {},
     "output_type": "execute_result"
    }
   ],
   "source": [
    "volwwel_count(inp_str)"
   ]
  },
  {
   "cell_type": "code",
   "execution_count": 192,
   "id": "ef4bc6ca",
   "metadata": {},
   "outputs": [],
   "source": [
    "inp_str = \"madam\""
   ]
  },
  {
   "cell_type": "code",
   "execution_count": 193,
   "id": "9f9e410d",
   "metadata": {},
   "outputs": [],
   "source": [
    "def check_palindrome(str):\n",
    "    is_palindrome = True\n",
    "    reverse_str = str[::-1]\n",
    "    if str!=reverse_str:\n",
    "        is_palindrome = False\n",
    "    return is_palindrome"
   ]
  },
  {
   "cell_type": "code",
   "execution_count": 195,
   "id": "e79f983f",
   "metadata": {},
   "outputs": [
    {
     "data": {
      "text/plain": [
       "False"
      ]
     },
     "execution_count": 195,
     "metadata": {},
     "output_type": "execute_result"
    }
   ],
   "source": [
    "check_palindrome('coding')"
   ]
  },
  {
   "cell_type": "code",
   "execution_count": 199,
   "id": "06211495",
   "metadata": {},
   "outputs": [
    {
     "name": "stdout",
     "output_type": "stream",
     "text": [
      "the givemn string is palindrome\n"
     ]
    }
   ],
   "source": [
    "inp_str = \"level\"\n",
    "\n",
    "start = 0\n",
    "end = len(inp_str)-1\n",
    "\n",
    "is_palindrome = True\n",
    "\n",
    "while (start<=end):\n",
    "    if inp_str[start] != inp_str[end]:\n",
    "        is_palindrome = False\n",
    "        break\n",
    "        \n",
    "    start+=1\n",
    "    end-=1\n",
    "    \n",
    "if is_palindrome:\n",
    "    print(\"the givemn string is palindrome\".format(inp_str))\n",
    "else:\n",
    "    print('The string is not palindrome')\n",
    "\n"
   ]
  },
  {
   "cell_type": "code",
   "execution_count": 200,
   "id": "00893a98",
   "metadata": {},
   "outputs": [],
   "source": [
    "lst = []"
   ]
  },
  {
   "cell_type": "code",
   "execution_count": 201,
   "id": "c3ab9215",
   "metadata": {},
   "outputs": [
    {
     "data": {
      "text/plain": [
       "list"
      ]
     },
     "execution_count": 201,
     "metadata": {},
     "output_type": "execute_result"
    }
   ],
   "source": [
    "type(lst)"
   ]
  },
  {
   "cell_type": "code",
   "execution_count": 202,
   "id": "2830882c",
   "metadata": {},
   "outputs": [],
   "source": [
    "lst1 = list()"
   ]
  },
  {
   "cell_type": "code",
   "execution_count": 203,
   "id": "517ba741",
   "metadata": {},
   "outputs": [
    {
     "data": {
      "text/plain": [
       "list"
      ]
     },
     "execution_count": 203,
     "metadata": {},
     "output_type": "execute_result"
    }
   ],
   "source": [
    "type(lst1)"
   ]
  },
  {
   "cell_type": "code",
   "execution_count": 204,
   "id": "5e3686bf",
   "metadata": {},
   "outputs": [],
   "source": [
    "my_list = [6,3,8,2,4]"
   ]
  },
  {
   "cell_type": "code",
   "execution_count": 205,
   "id": "b82ef044",
   "metadata": {},
   "outputs": [
    {
     "name": "stdout",
     "output_type": "stream",
     "text": [
      "[6, 3, 8, 2, 4]\n"
     ]
    }
   ],
   "source": [
    "print(my_list)"
   ]
  },
  {
   "cell_type": "code",
   "execution_count": 206,
   "id": "9b261309",
   "metadata": {},
   "outputs": [
    {
     "data": {
      "text/plain": [
       "list"
      ]
     },
     "execution_count": 206,
     "metadata": {},
     "output_type": "execute_result"
    }
   ],
   "source": [
    "type(my_list)"
   ]
  },
  {
   "cell_type": "code",
   "execution_count": 207,
   "id": "26e14bf6",
   "metadata": {},
   "outputs": [
    {
     "data": {
      "text/plain": [
       "6"
      ]
     },
     "execution_count": 207,
     "metadata": {},
     "output_type": "execute_result"
    }
   ],
   "source": [
    "my_list[0]"
   ]
  },
  {
   "cell_type": "code",
   "execution_count": 208,
   "id": "32afadfd",
   "metadata": {},
   "outputs": [
    {
     "data": {
      "text/plain": [
       "4"
      ]
     },
     "execution_count": 208,
     "metadata": {},
     "output_type": "execute_result"
    }
   ],
   "source": [
    "my_list[-1]"
   ]
  },
  {
   "cell_type": "code",
   "execution_count": 209,
   "id": "97954bd9",
   "metadata": {},
   "outputs": [
    {
     "data": {
      "text/plain": [
       "5"
      ]
     },
     "execution_count": 209,
     "metadata": {},
     "output_type": "execute_result"
    }
   ],
   "source": [
    "len(my_list)"
   ]
  },
  {
   "cell_type": "code",
   "execution_count": 211,
   "id": "5a79478c",
   "metadata": {},
   "outputs": [
    {
     "data": {
      "text/plain": [
       "[3, 8, 2]"
      ]
     },
     "execution_count": 211,
     "metadata": {},
     "output_type": "execute_result"
    }
   ],
   "source": [
    "my_list[1:-1]"
   ]
  },
  {
   "cell_type": "code",
   "execution_count": 212,
   "id": "623ecf88",
   "metadata": {},
   "outputs": [
    {
     "data": {
      "text/plain": [
       "[6, 3, 8, 2, 4]"
      ]
     },
     "execution_count": 212,
     "metadata": {},
     "output_type": "execute_result"
    }
   ],
   "source": [
    "my_list"
   ]
  },
  {
   "cell_type": "code",
   "execution_count": 213,
   "id": "2db202bb",
   "metadata": {},
   "outputs": [
    {
     "data": {
      "text/plain": [
       "[4, 2, 8, 3, 6]"
      ]
     },
     "execution_count": 213,
     "metadata": {},
     "output_type": "execute_result"
    }
   ],
   "source": [
    "\n",
    "my_list[::-1]"
   ]
  },
  {
   "cell_type": "code",
   "execution_count": 215,
   "id": "1e39fe7c",
   "metadata": {},
   "outputs": [],
   "source": [
    "my_list[2]=800"
   ]
  },
  {
   "cell_type": "code",
   "execution_count": 216,
   "id": "ce1b374d",
   "metadata": {},
   "outputs": [
    {
     "data": {
      "text/plain": [
       "[6, 3, 800, 2, 4]"
      ]
     },
     "execution_count": 216,
     "metadata": {},
     "output_type": "execute_result"
    }
   ],
   "source": [
    "my_list"
   ]
  },
  {
   "cell_type": "code",
   "execution_count": 217,
   "id": "8e079703",
   "metadata": {},
   "outputs": [
    {
     "name": "stdout",
     "output_type": "stream",
     "text": [
      "[6, 3, 800, 2, 4]\n"
     ]
    }
   ],
   "source": [
    "print(my_list)"
   ]
  },
  {
   "cell_type": "code",
   "execution_count": 218,
   "id": "e4589202",
   "metadata": {},
   "outputs": [],
   "source": [
    "my_list.append(100)"
   ]
  },
  {
   "cell_type": "code",
   "execution_count": 219,
   "id": "2861c219",
   "metadata": {},
   "outputs": [
    {
     "data": {
      "text/plain": [
       "[6, 3, 800, 2, 4, 100]"
      ]
     },
     "execution_count": 219,
     "metadata": {},
     "output_type": "execute_result"
    }
   ],
   "source": [
    "my_list"
   ]
  },
  {
   "cell_type": "code",
   "execution_count": 221,
   "id": "f399d191",
   "metadata": {},
   "outputs": [],
   "source": [
    "my_list.insert(2,500)\n"
   ]
  },
  {
   "cell_type": "code",
   "execution_count": 222,
   "id": "23096183",
   "metadata": {},
   "outputs": [
    {
     "data": {
      "text/plain": [
       "[6, 3, 500, 800, 2, 4, 100]"
      ]
     },
     "execution_count": 222,
     "metadata": {},
     "output_type": "execute_result"
    }
   ],
   "source": [
    "my_list"
   ]
  },
  {
   "cell_type": "code",
   "execution_count": 224,
   "id": "d723e2ec",
   "metadata": {},
   "outputs": [
    {
     "data": {
      "text/plain": [
       "100"
      ]
     },
     "execution_count": 224,
     "metadata": {},
     "output_type": "execute_result"
    }
   ],
   "source": [
    "my_list.pop()"
   ]
  },
  {
   "cell_type": "code",
   "execution_count": 225,
   "id": "cb056297",
   "metadata": {},
   "outputs": [
    {
     "data": {
      "text/plain": [
       "[6, 3, 500, 800, 2, 4]"
      ]
     },
     "execution_count": 225,
     "metadata": {},
     "output_type": "execute_result"
    }
   ],
   "source": [
    "my_list"
   ]
  },
  {
   "cell_type": "code",
   "execution_count": 226,
   "id": "39663a27",
   "metadata": {},
   "outputs": [
    {
     "data": {
      "text/plain": [
       "3"
      ]
     },
     "execution_count": 226,
     "metadata": {},
     "output_type": "execute_result"
    }
   ],
   "source": [
    "my_list.pop(1)"
   ]
  },
  {
   "cell_type": "code",
   "execution_count": 227,
   "id": "601094f2",
   "metadata": {},
   "outputs": [
    {
     "data": {
      "text/plain": [
       "[6, 500, 800, 2, 4]"
      ]
     },
     "execution_count": 227,
     "metadata": {},
     "output_type": "execute_result"
    }
   ],
   "source": [
    "my_list"
   ]
  },
  {
   "cell_type": "code",
   "execution_count": 228,
   "id": "e1eb186c",
   "metadata": {},
   "outputs": [],
   "source": [
    "my_list.remove(800)"
   ]
  },
  {
   "cell_type": "code",
   "execution_count": 229,
   "id": "f2f52295",
   "metadata": {},
   "outputs": [
    {
     "data": {
      "text/plain": [
       "[6, 500, 2, 4]"
      ]
     },
     "execution_count": 229,
     "metadata": {},
     "output_type": "execute_result"
    }
   ],
   "source": [
    "my_list"
   ]
  },
  {
   "cell_type": "code",
   "execution_count": 230,
   "id": "93d9702c",
   "metadata": {},
   "outputs": [
    {
     "ename": "ValueError",
     "evalue": "list.remove(x): x not in list",
     "output_type": "error",
     "traceback": [
      "\u001b[1;31m---------------------------------------------------------------------------\u001b[0m",
      "\u001b[1;31mValueError\u001b[0m                                Traceback (most recent call last)",
      "\u001b[1;32m<ipython-input-230-2c39c68d9d3b>\u001b[0m in \u001b[0;36m<module>\u001b[1;34m\u001b[0m\n\u001b[1;32m----> 1\u001b[1;33m \u001b[0mmy_list\u001b[0m\u001b[1;33m.\u001b[0m\u001b[0mremove\u001b[0m\u001b[1;33m(\u001b[0m\u001b[1;36m1000\u001b[0m\u001b[1;33m)\u001b[0m\u001b[1;33m\u001b[0m\u001b[1;33m\u001b[0m\u001b[0m\n\u001b[0m",
      "\u001b[1;31mValueError\u001b[0m: list.remove(x): x not in list"
     ]
    }
   ],
   "source": [
    "my_list.remove(1000)"
   ]
  },
  {
   "cell_type": "code",
   "execution_count": 231,
   "id": "4860a4d3",
   "metadata": {},
   "outputs": [
    {
     "data": {
      "text/plain": [
       "[6, 500, 2, 4]"
      ]
     },
     "execution_count": 231,
     "metadata": {},
     "output_type": "execute_result"
    }
   ],
   "source": [
    "my_list"
   ]
  },
  {
   "cell_type": "code",
   "execution_count": 232,
   "id": "c25e212a",
   "metadata": {},
   "outputs": [],
   "source": [
    "\n",
    "my_list.reverse()"
   ]
  },
  {
   "cell_type": "code",
   "execution_count": 233,
   "id": "a92a50a4",
   "metadata": {},
   "outputs": [
    {
     "data": {
      "text/plain": [
       "[4, 2, 500, 6]"
      ]
     },
     "execution_count": 233,
     "metadata": {},
     "output_type": "execute_result"
    }
   ],
   "source": [
    "my_list"
   ]
  },
  {
   "cell_type": "code",
   "execution_count": 235,
   "id": "3e279971",
   "metadata": {},
   "outputs": [
    {
     "data": {
      "text/plain": [
       "[4, 2, 500, 6]"
      ]
     },
     "execution_count": 235,
     "metadata": {},
     "output_type": "execute_result"
    }
   ],
   "source": [
    "my_list"
   ]
  },
  {
   "cell_type": "code",
   "execution_count": 238,
   "id": "d0b7d741",
   "metadata": {},
   "outputs": [],
   "source": [
    "my_list.sort(reverse=True)"
   ]
  },
  {
   "cell_type": "code",
   "execution_count": 239,
   "id": "bb40b7b3",
   "metadata": {},
   "outputs": [
    {
     "data": {
      "text/plain": [
       "[500, 6, 4, 2]"
      ]
     },
     "execution_count": 239,
     "metadata": {},
     "output_type": "execute_result"
    }
   ],
   "source": [
    "my_list"
   ]
  },
  {
   "cell_type": "code",
   "execution_count": 240,
   "id": "b9403952",
   "metadata": {},
   "outputs": [
    {
     "data": {
      "text/plain": [
       "[500, 6, 4, 2]"
      ]
     },
     "execution_count": 240,
     "metadata": {},
     "output_type": "execute_result"
    }
   ],
   "source": [
    "my_list"
   ]
  },
  {
   "cell_type": "code",
   "execution_count": 241,
   "id": "c9029ab9",
   "metadata": {},
   "outputs": [
    {
     "data": {
      "text/plain": [
       "False"
      ]
     },
     "execution_count": 241,
     "metadata": {},
     "output_type": "execute_result"
    }
   ],
   "source": [
    "8 in my_list"
   ]
  },
  {
   "cell_type": "code",
   "execution_count": 242,
   "id": "23864f5d",
   "metadata": {},
   "outputs": [
    {
     "data": {
      "text/plain": [
       "True"
      ]
     },
     "execution_count": 242,
     "metadata": {},
     "output_type": "execute_result"
    }
   ],
   "source": [
    "6 in my_list"
   ]
  },
  {
   "cell_type": "code",
   "execution_count": 243,
   "id": "f449590a",
   "metadata": {},
   "outputs": [
    {
     "data": {
      "text/plain": [
       "[500, 6, 4, 2]"
      ]
     },
     "execution_count": 243,
     "metadata": {},
     "output_type": "execute_result"
    }
   ],
   "source": [
    "my_list"
   ]
  },
  {
   "cell_type": "code",
   "execution_count": 244,
   "id": "c511eb41",
   "metadata": {},
   "outputs": [],
   "source": [
    "my_list.append([10,20,30])"
   ]
  },
  {
   "cell_type": "code",
   "execution_count": 245,
   "id": "e56f66a6",
   "metadata": {},
   "outputs": [
    {
     "data": {
      "text/plain": [
       "[500, 6, 4, 2, [10, 20, 30]]"
      ]
     },
     "execution_count": 245,
     "metadata": {},
     "output_type": "execute_result"
    }
   ],
   "source": [
    "my_list"
   ]
  },
  {
   "cell_type": "code",
   "execution_count": 246,
   "id": "7becf1bc",
   "metadata": {},
   "outputs": [],
   "source": [
    "my_list.extend([15,18,19])"
   ]
  },
  {
   "cell_type": "code",
   "execution_count": 247,
   "id": "c647571c",
   "metadata": {},
   "outputs": [
    {
     "data": {
      "text/plain": [
       "[500, 6, 4, 2, [10, 20, 30], 15, 18, 19]"
      ]
     },
     "execution_count": 247,
     "metadata": {},
     "output_type": "execute_result"
    }
   ],
   "source": [
    "my_list"
   ]
  },
  {
   "cell_type": "code",
   "execution_count": 248,
   "id": "1b05bbf8",
   "metadata": {},
   "outputs": [
    {
     "data": {
      "text/plain": [
       "[500, 6, 4, 2, [10, 20, 30], 15, 18, 19, 12, 25, 36]"
      ]
     },
     "execution_count": 248,
     "metadata": {},
     "output_type": "execute_result"
    }
   ],
   "source": [
    "my_list + [12,25,36]"
   ]
  },
  {
   "cell_type": "code",
   "execution_count": 249,
   "id": "6f9d0f86",
   "metadata": {},
   "outputs": [],
   "source": [
    "my_list = [10,20,23.36,25.39,3+6j,None, True, \"pytghon\", [15,18,19], (14,15,18), {4,8,9}, {5:25,6:96}]"
   ]
  },
  {
   "cell_type": "code",
   "execution_count": 250,
   "id": "4cdeabac",
   "metadata": {},
   "outputs": [
    {
     "data": {
      "text/plain": [
       "[10,\n",
       " 20,\n",
       " 23.36,\n",
       " 25.39,\n",
       " (3+6j),\n",
       " None,\n",
       " True,\n",
       " 'pytghon',\n",
       " [15, 18, 19],\n",
       " (14, 15, 18),\n",
       " {4, 8, 9},\n",
       " {5: 25, 6: 96}]"
      ]
     },
     "execution_count": 250,
     "metadata": {},
     "output_type": "execute_result"
    }
   ],
   "source": [
    "my_list"
   ]
  },
  {
   "cell_type": "code",
   "execution_count": 251,
   "id": "456bc43a",
   "metadata": {},
   "outputs": [
    {
     "data": {
      "text/plain": [
       "list"
      ]
     },
     "execution_count": 251,
     "metadata": {},
     "output_type": "execute_result"
    }
   ],
   "source": [
    "type(my_list)"
   ]
  },
  {
   "cell_type": "code",
   "execution_count": 252,
   "id": "d8ff6e67",
   "metadata": {},
   "outputs": [
    {
     "data": {
      "text/plain": [
       "12"
      ]
     },
     "execution_count": 252,
     "metadata": {},
     "output_type": "execute_result"
    }
   ],
   "source": [
    "len(my_list)"
   ]
  },
  {
   "cell_type": "code",
   "execution_count": 253,
   "id": "36632611",
   "metadata": {},
   "outputs": [
    {
     "ename": "TypeError",
     "evalue": "'<' not supported between instances of 'complex' and 'float'",
     "output_type": "error",
     "traceback": [
      "\u001b[1;31m---------------------------------------------------------------------------\u001b[0m",
      "\u001b[1;31mTypeError\u001b[0m                                 Traceback (most recent call last)",
      "\u001b[1;32m<ipython-input-253-cbf3d7920d40>\u001b[0m in \u001b[0;36m<module>\u001b[1;34m\u001b[0m\n\u001b[1;32m----> 1\u001b[1;33m \u001b[0mmy_list\u001b[0m\u001b[1;33m.\u001b[0m\u001b[0msort\u001b[0m\u001b[1;33m(\u001b[0m\u001b[1;33m)\u001b[0m\u001b[1;33m\u001b[0m\u001b[1;33m\u001b[0m\u001b[0m\n\u001b[0m",
      "\u001b[1;31mTypeError\u001b[0m: '<' not supported between instances of 'complex' and 'float'"
     ]
    }
   ],
   "source": [
    "my_list.sort()"
   ]
  },
  {
   "cell_type": "code",
   "execution_count": 255,
   "id": "66d3983b",
   "metadata": {},
   "outputs": [],
   "source": [
    "my_list.reverse()"
   ]
  },
  {
   "cell_type": "code",
   "execution_count": 256,
   "id": "d411a7ac",
   "metadata": {},
   "outputs": [
    {
     "data": {
      "text/plain": [
       "[{5: 25, 6: 96},\n",
       " {4, 8, 9},\n",
       " (14, 15, 18),\n",
       " [15, 18, 19],\n",
       " 'pytghon',\n",
       " True,\n",
       " None,\n",
       " (3+6j),\n",
       " 25.39,\n",
       " 23.36,\n",
       " 20,\n",
       " 10]"
      ]
     },
     "execution_count": 256,
     "metadata": {},
     "output_type": "execute_result"
    }
   ],
   "source": [
    "my_list"
   ]
  },
  {
   "cell_type": "code",
   "execution_count": 257,
   "id": "c097e525",
   "metadata": {},
   "outputs": [],
   "source": [
    "s = \"This course belongs to Coding Minutes.\""
   ]
  },
  {
   "cell_type": "code",
   "execution_count": 259,
   "id": "7384aad7",
   "metadata": {},
   "outputs": [],
   "source": [
    "str_lst  = s.split()"
   ]
  },
  {
   "cell_type": "code",
   "execution_count": 260,
   "id": "3e33f559",
   "metadata": {},
   "outputs": [
    {
     "data": {
      "text/plain": [
       "['This', 'course', 'belongs', 'to', 'Coding', 'Minutes.']"
      ]
     },
     "execution_count": 260,
     "metadata": {},
     "output_type": "execute_result"
    }
   ],
   "source": [
    "str_lst"
   ]
  },
  {
   "cell_type": "code",
   "execution_count": 262,
   "id": "f741d510",
   "metadata": {},
   "outputs": [
    {
     "data": {
      "text/plain": [
       "'This + course + belongs + to + Coding + Minutes.'"
      ]
     },
     "execution_count": 262,
     "metadata": {},
     "output_type": "execute_result"
    }
   ],
   "source": [
    "\" + \".join(str_lst)"
   ]
  },
  {
   "cell_type": "code",
   "execution_count": 265,
   "id": "2191d271",
   "metadata": {},
   "outputs": [
    {
     "name": "stdout",
     "output_type": "stream",
     "text": [
      "{5: 25, 6: 96}\n",
      "{8, 9, 4}\n",
      "(14, 15, 18)\n",
      "[15, 18, 19]\n",
      "pytghon\n",
      "True\n",
      "None\n",
      "(3+6j)\n",
      "25.39\n",
      "23.36\n",
      "20\n",
      "10\n"
     ]
    }
   ],
   "source": [
    "for i in my_list:\n",
    "    print(i)"
   ]
  },
  {
   "cell_type": "code",
   "execution_count": 268,
   "id": "bf2e0c85",
   "metadata": {},
   "outputs": [],
   "source": [
    "my_list = list(range(1,11))"
   ]
  },
  {
   "cell_type": "code",
   "execution_count": 269,
   "id": "cca8d861",
   "metadata": {},
   "outputs": [
    {
     "name": "stdout",
     "output_type": "stream",
     "text": [
      "[1, 2, 3, 4, 5, 6, 7, 8, 9, 10]\n"
     ]
    }
   ],
   "source": [
    "print(my_list)"
   ]
  },
  {
   "cell_type": "code",
   "execution_count": 272,
   "id": "d014910e",
   "metadata": {},
   "outputs": [
    {
     "data": {
      "text/plain": [
       "[1, 4, 27, 16, 125, 36, 343, 64, 729, 100]"
      ]
     },
     "execution_count": 272,
     "metadata": {},
     "output_type": "execute_result"
    }
   ],
   "source": [
    "l1 = []\n",
    "for i in range(1,11):\n",
    "    if i%2==0:\n",
    "        l1.append(i**2)\n",
    "    else:\n",
    "        l1.append(i**3)\n",
    "        \n",
    "        \n",
    "        \n",
    "l1\n",
    "        "
   ]
  },
  {
   "cell_type": "code",
   "execution_count": 279,
   "id": "c4b78038",
   "metadata": {},
   "outputs": [],
   "source": [
    "l2 = [i**2 if i%2==0 else i**3 for i in range(1,11) ]"
   ]
  },
  {
   "cell_type": "code",
   "execution_count": 280,
   "id": "03cd550c",
   "metadata": {},
   "outputs": [
    {
     "name": "stdout",
     "output_type": "stream",
     "text": [
      "[1, 4, 27, 16, 125, 36, 343, 64, 729, 100]\n"
     ]
    }
   ],
   "source": [
    "print(l2)"
   ]
  },
  {
   "cell_type": "code",
   "execution_count": 282,
   "id": "1b1f708c",
   "metadata": {},
   "outputs": [],
   "source": [
    "lst_2d = [[1,2,3],[4,5,6],[7,8,9],[10,11,12]]"
   ]
  },
  {
   "cell_type": "code",
   "execution_count": 283,
   "id": "6ad8aec7",
   "metadata": {},
   "outputs": [
    {
     "name": "stdout",
     "output_type": "stream",
     "text": [
      "[[1, 2, 3], [4, 5, 6], [7, 8, 9], [10, 11, 12]]\n"
     ]
    }
   ],
   "source": [
    "print(lst_2d)"
   ]
  },
  {
   "cell_type": "code",
   "execution_count": 284,
   "id": "dae5ce36",
   "metadata": {},
   "outputs": [
    {
     "data": {
      "text/plain": [
       "list"
      ]
     },
     "execution_count": 284,
     "metadata": {},
     "output_type": "execute_result"
    }
   ],
   "source": [
    "type(lst_2d)"
   ]
  },
  {
   "cell_type": "code",
   "execution_count": 286,
   "id": "f99c0b51",
   "metadata": {},
   "outputs": [
    {
     "data": {
      "text/plain": [
       "4"
      ]
     },
     "execution_count": 286,
     "metadata": {},
     "output_type": "execute_result"
    }
   ],
   "source": [
    "lst_2d[1][0]"
   ]
  },
  {
   "cell_type": "code",
   "execution_count": 288,
   "id": "a95109c8",
   "metadata": {},
   "outputs": [
    {
     "data": {
      "text/plain": [
       "9"
      ]
     },
     "execution_count": 288,
     "metadata": {},
     "output_type": "execute_result"
    }
   ],
   "source": [
    "lst_2d[2][2]"
   ]
  },
  {
   "cell_type": "code",
   "execution_count": 290,
   "id": "5c5144ed",
   "metadata": {},
   "outputs": [
    {
     "data": {
      "text/plain": [
       "9"
      ]
     },
     "execution_count": 290,
     "metadata": {},
     "output_type": "execute_result"
    }
   ],
   "source": [
    "lst_2d[-2][-1]"
   ]
  },
  {
   "cell_type": "code",
   "execution_count": 291,
   "id": "1f6e2676",
   "metadata": {},
   "outputs": [],
   "source": [
    "A = [[1,2],\n",
    "    [3,4]]"
   ]
  },
  {
   "cell_type": "code",
   "execution_count": 292,
   "id": "c30f49c4",
   "metadata": {},
   "outputs": [],
   "source": [
    "B = [[5,6],[7,8]]"
   ]
  },
  {
   "cell_type": "code",
   "execution_count": 293,
   "id": "f3c403da",
   "metadata": {},
   "outputs": [],
   "source": [
    "C = [[None, None], [None, None]]"
   ]
  },
  {
   "cell_type": "code",
   "execution_count": 294,
   "id": "cc8b51f8",
   "metadata": {},
   "outputs": [],
   "source": [
    "for i in range(2):\n",
    "    for j in range(2):\n",
    "        C[i][j] =  A[i][j]+B[i][j]"
   ]
  },
  {
   "cell_type": "code",
   "execution_count": 295,
   "id": "04a94c29",
   "metadata": {},
   "outputs": [
    {
     "data": {
      "text/plain": [
       "[[6, 8], [10, 12]]"
      ]
     },
     "execution_count": 295,
     "metadata": {},
     "output_type": "execute_result"
    }
   ],
   "source": [
    "C"
   ]
  },
  {
   "cell_type": "code",
   "execution_count": 296,
   "id": "716f55df",
   "metadata": {},
   "outputs": [
    {
     "name": "stdout",
     "output_type": "stream",
     "text": [
      "[[6, 8], [10, 12]]\n"
     ]
    }
   ],
   "source": [
    "print(C)"
   ]
  },
  {
   "cell_type": "code",
   "execution_count": 299,
   "id": "21cb3ea5",
   "metadata": {},
   "outputs": [
    {
     "data": {
      "text/plain": [
       "[[None, None, None, None, None, None, None, None, None, None],\n",
       " [None, None, None, None, None, None, None, None, None, None],\n",
       " [None, None, None, None, None, None, None, None, None, None],\n",
       " [None, None, None, None, None, None, None, None, None, None],\n",
       " [None, None, None, None, None, None, None, None, None, None],\n",
       " [None, None, None, None, None, None, None, None, None, None],\n",
       " [None, None, None, None, None, None, None, None, None, None],\n",
       " [None, None, None, None, None, None, None, None, None, None],\n",
       " [None, None, None, None, None, None, None, None, None, None],\n",
       " [None, None, None, None, None, None, None, None, None, None]]"
      ]
     },
     "execution_count": 299,
     "metadata": {},
     "output_type": "execute_result"
    }
   ],
   "source": [
    "[[None]*10]*10"
   ]
  },
  {
   "cell_type": "code",
   "execution_count": 300,
   "id": "6ce2ffb7",
   "metadata": {},
   "outputs": [
    {
     "data": {
      "text/plain": [
       "[5, 5, 5, 5, 5, 5, 5, 5, 5, 5, 5, 5]"
      ]
     },
     "execution_count": 300,
     "metadata": {},
     "output_type": "execute_result"
    }
   ],
   "source": [
    "[5]*12"
   ]
  },
  {
   "cell_type": "code",
   "execution_count": 301,
   "id": "6e11565f",
   "metadata": {},
   "outputs": [],
   "source": [
    "lst = [1,2,3,4,5]"
   ]
  },
  {
   "cell_type": "code",
   "execution_count": 302,
   "id": "cae1d8a1",
   "metadata": {},
   "outputs": [],
   "source": [
    "abc = lst.copy()"
   ]
  },
  {
   "cell_type": "code",
   "execution_count": 303,
   "id": "c2c741ea",
   "metadata": {},
   "outputs": [],
   "source": [
    "abc.append(6)"
   ]
  },
  {
   "cell_type": "code",
   "execution_count": 304,
   "id": "8d3b5341",
   "metadata": {},
   "outputs": [
    {
     "data": {
      "text/plain": [
       "[1, 2, 3, 4, 5, 6]"
      ]
     },
     "execution_count": 304,
     "metadata": {},
     "output_type": "execute_result"
    }
   ],
   "source": [
    "abc"
   ]
  },
  {
   "cell_type": "code",
   "execution_count": 305,
   "id": "0a14348c",
   "metadata": {},
   "outputs": [
    {
     "data": {
      "text/plain": [
       "[1, 2, 3, 4, 5]"
      ]
     },
     "execution_count": 305,
     "metadata": {},
     "output_type": "execute_result"
    }
   ],
   "source": [
    "lst"
   ]
  },
  {
   "cell_type": "code",
   "execution_count": 306,
   "id": "f47bb53c",
   "metadata": {},
   "outputs": [],
   "source": [
    "pqr = lst"
   ]
  },
  {
   "cell_type": "code",
   "execution_count": 308,
   "id": "9005d349",
   "metadata": {},
   "outputs": [
    {
     "data": {
      "text/plain": [
       "[1, 2, 3, 4, 5, 150]"
      ]
     },
     "execution_count": 308,
     "metadata": {},
     "output_type": "execute_result"
    }
   ],
   "source": [
    "pqr + [150]"
   ]
  },
  {
   "cell_type": "code",
   "execution_count": 310,
   "id": "a7d209dc",
   "metadata": {},
   "outputs": [],
   "source": [
    "pqr.append(200)"
   ]
  },
  {
   "cell_type": "code",
   "execution_count": 311,
   "id": "66db23fe",
   "metadata": {},
   "outputs": [
    {
     "data": {
      "text/plain": [
       "[1, 2, 3, 4, 5, 200]"
      ]
     },
     "execution_count": 311,
     "metadata": {},
     "output_type": "execute_result"
    }
   ],
   "source": [
    "pqr"
   ]
  },
  {
   "cell_type": "code",
   "execution_count": 312,
   "id": "05b44657",
   "metadata": {},
   "outputs": [
    {
     "data": {
      "text/plain": [
       "[1, 2, 3, 4, 5, 200]"
      ]
     },
     "execution_count": 312,
     "metadata": {},
     "output_type": "execute_result"
    }
   ],
   "source": [
    "lst"
   ]
  },
  {
   "cell_type": "code",
   "execution_count": 331,
   "id": "95b5a373",
   "metadata": {},
   "outputs": [],
   "source": [
    "lst = [3,5,2,7,8,9]\n",
    "steps = 3"
   ]
  },
  {
   "cell_type": "code",
   "execution_count": 332,
   "id": "c3182ecb",
   "metadata": {},
   "outputs": [],
   "source": [
    "n = len(lst)\n",
    "for _ in range(steps):\n",
    "    key = lst[-1]\n",
    "    for i in range(n-1,0,-1):\n",
    "        lst[i] = lst[i-1]\n",
    "        \n",
    "    lst[0] = key\n",
    "\n",
    "    "
   ]
  },
  {
   "cell_type": "code",
   "execution_count": 333,
   "id": "397e0269",
   "metadata": {},
   "outputs": [
    {
     "data": {
      "text/plain": [
       "[7, 8, 9, 3, 5, 2]"
      ]
     },
     "execution_count": 333,
     "metadata": {},
     "output_type": "execute_result"
    }
   ],
   "source": [
    "lst"
   ]
  },
  {
   "cell_type": "code",
   "execution_count": 344,
   "id": "5f201f7c",
   "metadata": {},
   "outputs": [],
   "source": [
    "lst = [3,5,2,7,8,9]\n",
    "n =  len(lst)\n",
    "steps = 6"
   ]
  },
  {
   "cell_type": "code",
   "execution_count": 345,
   "id": "26833817",
   "metadata": {},
   "outputs": [],
   "source": [
    "for j in range(steps):\n",
    "    key = lst[-1]\n",
    "    for i in range(n-1,0,-1):\n",
    "        lst[i] = lst[i-1]\n",
    "    lst[0] = key"
   ]
  },
  {
   "cell_type": "code",
   "execution_count": 346,
   "id": "a8086434",
   "metadata": {},
   "outputs": [
    {
     "data": {
      "text/plain": [
       "[3, 5, 2, 7, 8, 9]"
      ]
     },
     "execution_count": 346,
     "metadata": {},
     "output_type": "execute_result"
    }
   ],
   "source": [
    "lst"
   ]
  },
  {
   "cell_type": "code",
   "execution_count": 347,
   "id": "d7fb2919",
   "metadata": {},
   "outputs": [],
   "source": [
    "t = ()"
   ]
  },
  {
   "cell_type": "code",
   "execution_count": 348,
   "id": "a72c741d",
   "metadata": {},
   "outputs": [
    {
     "data": {
      "text/plain": [
       "tuple"
      ]
     },
     "execution_count": 348,
     "metadata": {},
     "output_type": "execute_result"
    }
   ],
   "source": [
    "type(t)"
   ]
  },
  {
   "cell_type": "code",
   "execution_count": 349,
   "id": "9a50a2e0",
   "metadata": {},
   "outputs": [],
   "source": [
    "t1 = tuple()"
   ]
  },
  {
   "cell_type": "code",
   "execution_count": 350,
   "id": "76d2ad53",
   "metadata": {},
   "outputs": [
    {
     "data": {
      "text/plain": [
       "tuple"
      ]
     },
     "execution_count": 350,
     "metadata": {},
     "output_type": "execute_result"
    }
   ],
   "source": [
    "type(t1)"
   ]
  },
  {
   "cell_type": "code",
   "execution_count": 351,
   "id": "a7af5f5f",
   "metadata": {},
   "outputs": [],
   "source": [
    "t2 = (12,20,25.36,78.23,3+5j,None, False,  \"string\", [1,5,9], (9,6,3), {4:5,6:7})"
   ]
  },
  {
   "cell_type": "code",
   "execution_count": 352,
   "id": "941d204c",
   "metadata": {},
   "outputs": [
    {
     "data": {
      "text/plain": [
       "tuple"
      ]
     },
     "execution_count": 352,
     "metadata": {},
     "output_type": "execute_result"
    }
   ],
   "source": [
    "type(t2)"
   ]
  },
  {
   "cell_type": "code",
   "execution_count": 355,
   "id": "e6c9226e",
   "metadata": {},
   "outputs": [],
   "source": [
    "t3 = ('sanjay',)"
   ]
  },
  {
   "cell_type": "code",
   "execution_count": 356,
   "id": "efaa4026",
   "metadata": {},
   "outputs": [
    {
     "data": {
      "text/plain": [
       "tuple"
      ]
     },
     "execution_count": 356,
     "metadata": {},
     "output_type": "execute_result"
    }
   ],
   "source": [
    "type(t3)"
   ]
  },
  {
   "cell_type": "code",
   "execution_count": 359,
   "id": "0dfebefd",
   "metadata": {},
   "outputs": [],
   "source": [
    "t4 = \"machine\","
   ]
  },
  {
   "cell_type": "code",
   "execution_count": 360,
   "id": "73e7a4b5",
   "metadata": {},
   "outputs": [
    {
     "data": {
      "text/plain": [
       "tuple"
      ]
     },
     "execution_count": 360,
     "metadata": {},
     "output_type": "execute_result"
    }
   ],
   "source": [
    "type(t4)"
   ]
  },
  {
   "cell_type": "code",
   "execution_count": 361,
   "id": "8b41df22",
   "metadata": {},
   "outputs": [
    {
     "data": {
      "text/plain": [
       "(12,\n",
       " 20,\n",
       " 25.36,\n",
       " 78.23,\n",
       " (3+5j),\n",
       " None,\n",
       " False,\n",
       " 'string',\n",
       " [1, 5, 9],\n",
       " (9, 6, 3),\n",
       " {4: 5, 6: 7})"
      ]
     },
     "execution_count": 361,
     "metadata": {},
     "output_type": "execute_result"
    }
   ],
   "source": [
    "t2"
   ]
  },
  {
   "cell_type": "code",
   "execution_count": 362,
   "id": "215074bb",
   "metadata": {},
   "outputs": [
    {
     "data": {
      "text/plain": [
       "25.36"
      ]
     },
     "execution_count": 362,
     "metadata": {},
     "output_type": "execute_result"
    }
   ],
   "source": [
    "t2[2]"
   ]
  },
  {
   "cell_type": "code",
   "execution_count": 363,
   "id": "622315dc",
   "metadata": {},
   "outputs": [
    {
     "data": {
      "text/plain": [
       "{4: 5, 6: 7}"
      ]
     },
     "execution_count": 363,
     "metadata": {},
     "output_type": "execute_result"
    }
   ],
   "source": [
    "t2[-1]"
   ]
  },
  {
   "cell_type": "code",
   "execution_count": 364,
   "id": "c58ce47f",
   "metadata": {},
   "outputs": [
    {
     "data": {
      "text/plain": [
       "12"
      ]
     },
     "execution_count": 364,
     "metadata": {},
     "output_type": "execute_result"
    }
   ],
   "source": [
    "t2[0]"
   ]
  },
  {
   "cell_type": "code",
   "execution_count": 365,
   "id": "c67b2eb7",
   "metadata": {},
   "outputs": [
    {
     "data": {
      "text/plain": [
       "{4: 5, 6: 7}"
      ]
     },
     "execution_count": 365,
     "metadata": {},
     "output_type": "execute_result"
    }
   ],
   "source": [
    "t2[-1]"
   ]
  },
  {
   "cell_type": "code",
   "execution_count": 367,
   "id": "3da6279b",
   "metadata": {},
   "outputs": [
    {
     "data": {
      "text/plain": [
       "(12, 20, 25.36, 78.23, (3+5j), None, False, 'string', [1, 5, 9], (9, 6, 3))"
      ]
     },
     "execution_count": 367,
     "metadata": {},
     "output_type": "execute_result"
    }
   ],
   "source": [
    "t2[:-1]"
   ]
  },
  {
   "cell_type": "code",
   "execution_count": 368,
   "id": "d8e55fdc",
   "metadata": {},
   "outputs": [
    {
     "data": {
      "text/plain": [
       "({4: 5, 6: 7},\n",
       " (9, 6, 3),\n",
       " [1, 5, 9],\n",
       " 'string',\n",
       " False,\n",
       " None,\n",
       " (3+5j),\n",
       " 78.23,\n",
       " 25.36,\n",
       " 20,\n",
       " 12)"
      ]
     },
     "execution_count": 368,
     "metadata": {},
     "output_type": "execute_result"
    }
   ],
   "source": [
    "t2[::-1]"
   ]
  },
  {
   "cell_type": "code",
   "execution_count": 370,
   "id": "fbc9ed9a",
   "metadata": {},
   "outputs": [
    {
     "ename": "TypeError",
     "evalue": "'tuple' object does not support item assignment",
     "output_type": "error",
     "traceback": [
      "\u001b[1;31m---------------------------------------------------------------------------\u001b[0m",
      "\u001b[1;31mTypeError\u001b[0m                                 Traceback (most recent call last)",
      "\u001b[1;32m<ipython-input-370-ba9e0292e69f>\u001b[0m in \u001b[0;36m<module>\u001b[1;34m\u001b[0m\n\u001b[1;32m----> 1\u001b[1;33m \u001b[0mt2\u001b[0m\u001b[1;33m[\u001b[0m\u001b[1;36m2\u001b[0m\u001b[1;33m]\u001b[0m \u001b[1;33m=\u001b[0m \u001b[1;36m150\u001b[0m\u001b[1;33m\u001b[0m\u001b[1;33m\u001b[0m\u001b[0m\n\u001b[0m",
      "\u001b[1;31mTypeError\u001b[0m: 'tuple' object does not support item assignment"
     ]
    }
   ],
   "source": [
    "t2[2] = 150"
   ]
  },
  {
   "cell_type": "code",
   "execution_count": 371,
   "id": "b68b173c",
   "metadata": {},
   "outputs": [],
   "source": [
    "lst = ['mohit', 'prateek', 'rohit']"
   ]
  },
  {
   "cell_type": "code",
   "execution_count": 372,
   "id": "32a8c2b1",
   "metadata": {},
   "outputs": [],
   "source": [
    "tup = (20, 30, lst, (1, 2, 3), 104.0)"
   ]
  },
  {
   "cell_type": "code",
   "execution_count": 375,
   "id": "a5e93cea",
   "metadata": {},
   "outputs": [],
   "source": [
    "tup[2][0] = \"computer vision\""
   ]
  },
  {
   "cell_type": "code",
   "execution_count": 376,
   "id": "14cfac9b",
   "metadata": {},
   "outputs": [
    {
     "data": {
      "text/plain": [
       "(20, 30, ['computer vision', 'prateek', 'rohit'], (1, 2, 3), 104.0)"
      ]
     },
     "execution_count": 376,
     "metadata": {},
     "output_type": "execute_result"
    }
   ],
   "source": [
    "tup"
   ]
  },
  {
   "cell_type": "code",
   "execution_count": 377,
   "id": "30ccdf1d",
   "metadata": {},
   "outputs": [
    {
     "data": {
      "text/plain": [
       "(12,\n",
       " 20,\n",
       " 25.36,\n",
       " 78.23,\n",
       " (3+5j),\n",
       " None,\n",
       " False,\n",
       " 'string',\n",
       " [1, 5, 9],\n",
       " (9, 6, 3),\n",
       " {4: 5, 6: 7})"
      ]
     },
     "execution_count": 377,
     "metadata": {},
     "output_type": "execute_result"
    }
   ],
   "source": [
    "t2"
   ]
  },
  {
   "cell_type": "code",
   "execution_count": 378,
   "id": "fea4809b",
   "metadata": {},
   "outputs": [
    {
     "name": "stdout",
     "output_type": "stream",
     "text": [
      "12\n",
      "20\n",
      "25.36\n",
      "78.23\n",
      "(3+5j)\n",
      "None\n",
      "False\n",
      "string\n",
      "[1, 5, 9]\n",
      "(9, 6, 3)\n",
      "{4: 5, 6: 7}\n"
     ]
    }
   ],
   "source": [
    "for i in t2:\n",
    "    print(i)"
   ]
  },
  {
   "cell_type": "code",
   "execution_count": 379,
   "id": "64f48035",
   "metadata": {},
   "outputs": [
    {
     "name": "stdout",
     "output_type": "stream",
     "text": [
      "40\n",
      "60\n",
      "['computer vision', 'prateek', 'rohit', 'computer vision', 'prateek', 'rohit']\n",
      "(1, 2, 3, 1, 2, 3)\n",
      "208.0\n"
     ]
    }
   ],
   "source": [
    "for i in tup:\n",
    "    print(i*2)"
   ]
  },
  {
   "cell_type": "code",
   "execution_count": 381,
   "id": "a32b263f",
   "metadata": {},
   "outputs": [],
   "source": [
    "A = (1,2,3)\n",
    "B =  (4,5,6 )"
   ]
  },
  {
   "cell_type": "code",
   "execution_count": 382,
   "id": "fa7e9578",
   "metadata": {},
   "outputs": [
    {
     "data": {
      "text/plain": [
       "(1, 2, 3, 4, 5, 6)"
      ]
     },
     "execution_count": 382,
     "metadata": {},
     "output_type": "execute_result"
    }
   ],
   "source": [
    "A+B"
   ]
  },
  {
   "cell_type": "code",
   "execution_count": 383,
   "id": "0d52939d",
   "metadata": {},
   "outputs": [
    {
     "data": {
      "text/plain": [
       "(1, 2, 3)"
      ]
     },
     "execution_count": 383,
     "metadata": {},
     "output_type": "execute_result"
    }
   ],
   "source": [
    "A"
   ]
  },
  {
   "cell_type": "code",
   "execution_count": 384,
   "id": "4b097789",
   "metadata": {},
   "outputs": [
    {
     "data": {
      "text/plain": [
       "(4, 5, 6)"
      ]
     },
     "execution_count": 384,
     "metadata": {},
     "output_type": "execute_result"
    }
   ],
   "source": [
    "B"
   ]
  },
  {
   "cell_type": "code",
   "execution_count": 386,
   "id": "0cf1cc1f",
   "metadata": {},
   "outputs": [
    {
     "data": {
      "text/plain": [
       "(0, 0, 0, 0, 0, 0, 0, 0, 0, 0)"
      ]
     },
     "execution_count": 386,
     "metadata": {},
     "output_type": "execute_result"
    }
   ],
   "source": [
    "(0,)*10"
   ]
  },
  {
   "cell_type": "code",
   "execution_count": 387,
   "id": "fcff1385",
   "metadata": {},
   "outputs": [
    {
     "data": {
      "text/plain": [
       "(20, 30, ['computer vision', 'prateek', 'rohit'], (1, 2, 3), 104.0)"
      ]
     },
     "execution_count": 387,
     "metadata": {},
     "output_type": "execute_result"
    }
   ],
   "source": [
    "tup"
   ]
  },
  {
   "cell_type": "code",
   "execution_count": 390,
   "id": "c844afa1",
   "metadata": {},
   "outputs": [],
   "source": [
    "del tup"
   ]
  },
  {
   "cell_type": "code",
   "execution_count": 391,
   "id": "2021e725",
   "metadata": {},
   "outputs": [
    {
     "ename": "NameError",
     "evalue": "name 'tup' is not defined",
     "output_type": "error",
     "traceback": [
      "\u001b[1;31m---------------------------------------------------------------------------\u001b[0m",
      "\u001b[1;31mNameError\u001b[0m                                 Traceback (most recent call last)",
      "\u001b[1;32m<ipython-input-391-95b80b2375ef>\u001b[0m in \u001b[0;36m<module>\u001b[1;34m\u001b[0m\n\u001b[1;32m----> 1\u001b[1;33m \u001b[0mtup\u001b[0m\u001b[1;33m\u001b[0m\u001b[1;33m\u001b[0m\u001b[0m\n\u001b[0m",
      "\u001b[1;31mNameError\u001b[0m: name 'tup' is not defined"
     ]
    }
   ],
   "source": [
    "tup"
   ]
  },
  {
   "cell_type": "code",
   "execution_count": 393,
   "id": "ec9ba2d7",
   "metadata": {},
   "outputs": [
    {
     "data": {
      "text/plain": [
       "0"
      ]
     },
     "execution_count": 393,
     "metadata": {},
     "output_type": "execute_result"
    }
   ],
   "source": [
    "t2.index(12)"
   ]
  },
  {
   "cell_type": "code",
   "execution_count": 396,
   "id": "8d66a5ae",
   "metadata": {},
   "outputs": [
    {
     "data": {
      "text/plain": [
       "6"
      ]
     },
     "execution_count": 396,
     "metadata": {},
     "output_type": "execute_result"
    }
   ],
   "source": [
    "t2.index(False)"
   ]
  },
  {
   "cell_type": "code",
   "execution_count": 398,
   "id": "b3c5a230",
   "metadata": {},
   "outputs": [
    {
     "data": {
      "text/plain": [
       "1"
      ]
     },
     "execution_count": 398,
     "metadata": {},
     "output_type": "execute_result"
    }
   ],
   "source": [
    "t2.count(20)"
   ]
  },
  {
   "cell_type": "code",
   "execution_count": 399,
   "id": "84c377bc",
   "metadata": {},
   "outputs": [],
   "source": [
    "t = (1,2,3,1,3,3,4,1)"
   ]
  },
  {
   "cell_type": "code",
   "execution_count": 401,
   "id": "3d84eca7",
   "metadata": {},
   "outputs": [
    {
     "data": {
      "text/plain": [
       "2"
      ]
     },
     "execution_count": 401,
     "metadata": {},
     "output_type": "execute_result"
    }
   ],
   "source": [
    "t.index(3)"
   ]
  },
  {
   "cell_type": "code",
   "execution_count": 402,
   "id": "aade6a8e",
   "metadata": {},
   "outputs": [
    {
     "data": {
      "text/plain": [
       "3"
      ]
     },
     "execution_count": 402,
     "metadata": {},
     "output_type": "execute_result"
    }
   ],
   "source": [
    "t.count(3)"
   ]
  },
  {
   "cell_type": "code",
   "execution_count": 403,
   "id": "95e85dae",
   "metadata": {},
   "outputs": [
    {
     "data": {
      "text/plain": [
       "False"
      ]
     },
     "execution_count": 403,
     "metadata": {},
     "output_type": "execute_result"
    }
   ],
   "source": [
    "9 in t"
   ]
  },
  {
   "cell_type": "code",
   "execution_count": 404,
   "id": "934a2923",
   "metadata": {},
   "outputs": [
    {
     "data": {
      "text/plain": [
       "True"
      ]
     },
     "execution_count": 404,
     "metadata": {},
     "output_type": "execute_result"
    }
   ],
   "source": [
    "3 in t"
   ]
  },
  {
   "cell_type": "code",
   "execution_count": 405,
   "id": "77e7678f",
   "metadata": {},
   "outputs": [],
   "source": [
    "t = (4,2,1)"
   ]
  },
  {
   "cell_type": "code",
   "execution_count": 406,
   "id": "52c201c4",
   "metadata": {},
   "outputs": [],
   "source": [
    "a,b,c = t"
   ]
  },
  {
   "cell_type": "code",
   "execution_count": 407,
   "id": "af99241b",
   "metadata": {},
   "outputs": [
    {
     "data": {
      "text/plain": [
       "4"
      ]
     },
     "execution_count": 407,
     "metadata": {},
     "output_type": "execute_result"
    }
   ],
   "source": [
    "a"
   ]
  },
  {
   "cell_type": "code",
   "execution_count": 408,
   "id": "ad079a02",
   "metadata": {},
   "outputs": [
    {
     "data": {
      "text/plain": [
       "2"
      ]
     },
     "execution_count": 408,
     "metadata": {},
     "output_type": "execute_result"
    }
   ],
   "source": [
    "b"
   ]
  },
  {
   "cell_type": "code",
   "execution_count": 409,
   "id": "a34d8a4a",
   "metadata": {},
   "outputs": [
    {
     "data": {
      "text/plain": [
       "1"
      ]
     },
     "execution_count": 409,
     "metadata": {},
     "output_type": "execute_result"
    }
   ],
   "source": [
    "c"
   ]
  },
  {
   "cell_type": "code",
   "execution_count": 410,
   "id": "8b4209ff",
   "metadata": {},
   "outputs": [
    {
     "name": "stdout",
     "output_type": "stream",
     "text": [
      "4 2 1\n"
     ]
    }
   ],
   "source": [
    "print(*t)"
   ]
  },
  {
   "cell_type": "code",
   "execution_count": 418,
   "id": "67636e67",
   "metadata": {},
   "outputs": [],
   "source": [
    "t = (5,6,[7,8,10,15])"
   ]
  },
  {
   "cell_type": "code",
   "execution_count": 419,
   "id": "5fcf588e",
   "metadata": {},
   "outputs": [],
   "source": [
    "a,b,c = t"
   ]
  },
  {
   "cell_type": "code",
   "execution_count": 420,
   "id": "64c39a29",
   "metadata": {},
   "outputs": [
    {
     "data": {
      "text/plain": [
       "5"
      ]
     },
     "execution_count": 420,
     "metadata": {},
     "output_type": "execute_result"
    }
   ],
   "source": [
    "a"
   ]
  },
  {
   "cell_type": "code",
   "execution_count": 421,
   "id": "1d6d17d1",
   "metadata": {},
   "outputs": [
    {
     "data": {
      "text/plain": [
       "6"
      ]
     },
     "execution_count": 421,
     "metadata": {},
     "output_type": "execute_result"
    }
   ],
   "source": [
    "b"
   ]
  },
  {
   "cell_type": "code",
   "execution_count": 422,
   "id": "c94acf88",
   "metadata": {},
   "outputs": [
    {
     "data": {
      "text/plain": [
       "[7, 8, 10, 15]"
      ]
     },
     "execution_count": 422,
     "metadata": {},
     "output_type": "execute_result"
    }
   ],
   "source": [
    "c"
   ]
  },
  {
   "cell_type": "code",
   "execution_count": 423,
   "id": "7ceef92b",
   "metadata": {},
   "outputs": [],
   "source": [
    "a = \"sanjay\""
   ]
  },
  {
   "cell_type": "code",
   "execution_count": 424,
   "id": "9906b653",
   "metadata": {},
   "outputs": [],
   "source": [
    "def reverse_string(x):\n",
    "    return x[::-1]"
   ]
  },
  {
   "cell_type": "code",
   "execution_count": 425,
   "id": "fe7b00ac",
   "metadata": {},
   "outputs": [
    {
     "data": {
      "text/plain": [
       "'yajnas'"
      ]
     },
     "execution_count": 425,
     "metadata": {},
     "output_type": "execute_result"
    }
   ],
   "source": [
    "reverse_string(a)"
   ]
  },
  {
   "cell_type": "code",
   "execution_count": 426,
   "id": "1a16ee5c",
   "metadata": {},
   "outputs": [],
   "source": [
    "a = \"aabbbcccc\""
   ]
  },
  {
   "cell_type": "code",
   "execution_count": 427,
   "id": "aba54e50",
   "metadata": {},
   "outputs": [],
   "source": [
    "dic = {}\n",
    "\n",
    "for i in a:\n",
    "    if i not in dic:\n",
    "        dic[i] = 1\n",
    "        \n",
    "    else:\n",
    "        dic[i]+=1"
   ]
  },
  {
   "cell_type": "code",
   "execution_count": 428,
   "id": "879b80f6",
   "metadata": {},
   "outputs": [
    {
     "data": {
      "text/plain": [
       "{'a': 2, 'b': 3, 'c': 4}"
      ]
     },
     "execution_count": 428,
     "metadata": {},
     "output_type": "execute_result"
    }
   ],
   "source": [
    "dic"
   ]
  },
  {
   "cell_type": "code",
   "execution_count": 430,
   "id": "9ab650c6",
   "metadata": {},
   "outputs": [],
   "source": [
    "s = set()"
   ]
  },
  {
   "cell_type": "code",
   "execution_count": 431,
   "id": "f6cbb26e",
   "metadata": {},
   "outputs": [
    {
     "data": {
      "text/plain": [
       "set"
      ]
     },
     "execution_count": 431,
     "metadata": {},
     "output_type": "execute_result"
    }
   ],
   "source": [
    "type(s)"
   ]
  },
  {
   "cell_type": "code",
   "execution_count": 432,
   "id": "371b477e",
   "metadata": {},
   "outputs": [],
   "source": [
    "my_set = {9,7,7,1,8,9,7,5,1,7,9,8,5,1}"
   ]
  },
  {
   "cell_type": "code",
   "execution_count": 433,
   "id": "debe85ee",
   "metadata": {},
   "outputs": [
    {
     "data": {
      "text/plain": [
       "{1, 5, 7, 8, 9}"
      ]
     },
     "execution_count": 433,
     "metadata": {},
     "output_type": "execute_result"
    }
   ],
   "source": [
    "my_set"
   ]
  },
  {
   "cell_type": "code",
   "execution_count": 434,
   "id": "7afb7227",
   "metadata": {},
   "outputs": [
    {
     "name": "stdout",
     "output_type": "stream",
     "text": [
      "{1, 5, 7, 8, 9}\n"
     ]
    }
   ],
   "source": [
    "print(my_set)"
   ]
  },
  {
   "cell_type": "code",
   "execution_count": 435,
   "id": "4bc235c0",
   "metadata": {},
   "outputs": [
    {
     "data": {
      "text/plain": [
       "set"
      ]
     },
     "execution_count": 435,
     "metadata": {},
     "output_type": "execute_result"
    }
   ],
   "source": [
    "type(my_set)"
   ]
  },
  {
   "cell_type": "code",
   "execution_count": 436,
   "id": "8a94f13e",
   "metadata": {},
   "outputs": [],
   "source": [
    "my_set.add(8)"
   ]
  },
  {
   "cell_type": "code",
   "execution_count": 437,
   "id": "f4bd4218",
   "metadata": {},
   "outputs": [
    {
     "data": {
      "text/plain": [
       "{1, 5, 7, 8, 9}"
      ]
     },
     "execution_count": 437,
     "metadata": {},
     "output_type": "execute_result"
    }
   ],
   "source": [
    "my_set"
   ]
  },
  {
   "cell_type": "code",
   "execution_count": 438,
   "id": "e60d7a0e",
   "metadata": {},
   "outputs": [],
   "source": [
    "my_set.add(12)"
   ]
  },
  {
   "cell_type": "code",
   "execution_count": 439,
   "id": "7140303b",
   "metadata": {},
   "outputs": [
    {
     "data": {
      "text/plain": [
       "{1, 5, 7, 8, 9, 12}"
      ]
     },
     "execution_count": 439,
     "metadata": {},
     "output_type": "execute_result"
    }
   ],
   "source": [
    "my_set"
   ]
  },
  {
   "cell_type": "code",
   "execution_count": 440,
   "id": "54261a1c",
   "metadata": {},
   "outputs": [],
   "source": [
    "my_set.remove(12)"
   ]
  },
  {
   "cell_type": "code",
   "execution_count": 441,
   "id": "1f34de60",
   "metadata": {},
   "outputs": [
    {
     "data": {
      "text/plain": [
       "{1, 5, 7, 8, 9}"
      ]
     },
     "execution_count": 441,
     "metadata": {},
     "output_type": "execute_result"
    }
   ],
   "source": [
    "my_set"
   ]
  },
  {
   "cell_type": "code",
   "execution_count": 442,
   "id": "1c735c6f",
   "metadata": {},
   "outputs": [],
   "source": [
    "my_set.remove(7)"
   ]
  },
  {
   "cell_type": "code",
   "execution_count": 443,
   "id": "f4509914",
   "metadata": {},
   "outputs": [
    {
     "data": {
      "text/plain": [
       "{1, 5, 8, 9}"
      ]
     },
     "execution_count": 443,
     "metadata": {},
     "output_type": "execute_result"
    }
   ],
   "source": [
    "my_set"
   ]
  },
  {
   "cell_type": "code",
   "execution_count": 444,
   "id": "8fb172dd",
   "metadata": {},
   "outputs": [
    {
     "ename": "KeyError",
     "evalue": "123",
     "output_type": "error",
     "traceback": [
      "\u001b[1;31m---------------------------------------------------------------------------\u001b[0m",
      "\u001b[1;31mKeyError\u001b[0m                                  Traceback (most recent call last)",
      "\u001b[1;32m<ipython-input-444-d96122d85c1c>\u001b[0m in \u001b[0;36m<module>\u001b[1;34m\u001b[0m\n\u001b[1;32m----> 1\u001b[1;33m \u001b[0mmy_set\u001b[0m\u001b[1;33m.\u001b[0m\u001b[0mremove\u001b[0m\u001b[1;33m(\u001b[0m\u001b[1;36m123\u001b[0m\u001b[1;33m)\u001b[0m\u001b[1;33m\u001b[0m\u001b[1;33m\u001b[0m\u001b[0m\n\u001b[0m",
      "\u001b[1;31mKeyError\u001b[0m: 123"
     ]
    }
   ],
   "source": [
    "my_set.remove(123)"
   ]
  },
  {
   "cell_type": "code",
   "execution_count": 445,
   "id": "55c3bfa1",
   "metadata": {},
   "outputs": [],
   "source": [
    "my_set.discard(5)"
   ]
  },
  {
   "cell_type": "code",
   "execution_count": 446,
   "id": "d24cd73a",
   "metadata": {},
   "outputs": [
    {
     "data": {
      "text/plain": [
       "{1, 8, 9}"
      ]
     },
     "execution_count": 446,
     "metadata": {},
     "output_type": "execute_result"
    }
   ],
   "source": [
    "my_set"
   ]
  },
  {
   "cell_type": "code",
   "execution_count": 449,
   "id": "61578292",
   "metadata": {},
   "outputs": [],
   "source": [
    "my_set.discard(51236)"
   ]
  },
  {
   "cell_type": "code",
   "execution_count": 450,
   "id": "661293a0",
   "metadata": {},
   "outputs": [
    {
     "data": {
      "text/plain": [
       "{1, 8, 9}"
      ]
     },
     "execution_count": 450,
     "metadata": {},
     "output_type": "execute_result"
    }
   ],
   "source": [
    "my_set"
   ]
  },
  {
   "cell_type": "code",
   "execution_count": 451,
   "id": "f1ddc14f",
   "metadata": {},
   "outputs": [
    {
     "ename": "TypeError",
     "evalue": "'set' object is not subscriptable",
     "output_type": "error",
     "traceback": [
      "\u001b[1;31m---------------------------------------------------------------------------\u001b[0m",
      "\u001b[1;31mTypeError\u001b[0m                                 Traceback (most recent call last)",
      "\u001b[1;32m<ipython-input-451-158c424478a1>\u001b[0m in \u001b[0;36m<module>\u001b[1;34m\u001b[0m\n\u001b[1;32m----> 1\u001b[1;33m \u001b[0mmy_set\u001b[0m\u001b[1;33m[\u001b[0m\u001b[1;36m0\u001b[0m\u001b[1;33m]\u001b[0m\u001b[1;33m\u001b[0m\u001b[1;33m\u001b[0m\u001b[0m\n\u001b[0m",
      "\u001b[1;31mTypeError\u001b[0m: 'set' object is not subscriptable"
     ]
    }
   ],
   "source": [
    "my_set[0]"
   ]
  },
  {
   "cell_type": "code",
   "execution_count": 452,
   "id": "f091b111",
   "metadata": {},
   "outputs": [],
   "source": [
    "my_set.update([12,15,18])"
   ]
  },
  {
   "cell_type": "code",
   "execution_count": 453,
   "id": "aca52d99",
   "metadata": {},
   "outputs": [
    {
     "data": {
      "text/plain": [
       "{1, 8, 9, 12, 15, 18}"
      ]
     },
     "execution_count": 453,
     "metadata": {},
     "output_type": "execute_result"
    }
   ],
   "source": [
    "my_set"
   ]
  },
  {
   "cell_type": "code",
   "execution_count": 454,
   "id": "2f8ba883",
   "metadata": {},
   "outputs": [
    {
     "name": "stdout",
     "output_type": "stream",
     "text": [
      "{1, 8, 9, 12, 15, 18}\n"
     ]
    }
   ],
   "source": [
    "print(my_set)"
   ]
  },
  {
   "cell_type": "code",
   "execution_count": 456,
   "id": "22eace34",
   "metadata": {},
   "outputs": [],
   "source": [
    "s1 = {1, 3, 4, 5, 8}\n",
    "s2 = {4, 5, 6, 7, 1, 9}"
   ]
  },
  {
   "cell_type": "code",
   "execution_count": 457,
   "id": "1233a35d",
   "metadata": {},
   "outputs": [
    {
     "data": {
      "text/plain": [
       "{1, 3, 4, 5, 6, 7, 8, 9}"
      ]
     },
     "execution_count": 457,
     "metadata": {},
     "output_type": "execute_result"
    }
   ],
   "source": [
    "s1.union(s2)"
   ]
  },
  {
   "cell_type": "code",
   "execution_count": 458,
   "id": "8a718045",
   "metadata": {},
   "outputs": [
    {
     "data": {
      "text/plain": [
       "{1, 4, 5}"
      ]
     },
     "execution_count": 458,
     "metadata": {},
     "output_type": "execute_result"
    }
   ],
   "source": [
    "s1.intersection(s2)"
   ]
  },
  {
   "cell_type": "code",
   "execution_count": 459,
   "id": "cead1256",
   "metadata": {},
   "outputs": [
    {
     "data": {
      "text/plain": [
       "{1, 3, 4, 5, 6, 7, 8, 9}"
      ]
     },
     "execution_count": 459,
     "metadata": {},
     "output_type": "execute_result"
    }
   ],
   "source": [
    "s1|s2"
   ]
  },
  {
   "cell_type": "code",
   "execution_count": 460,
   "id": "90b8bacc",
   "metadata": {},
   "outputs": [
    {
     "data": {
      "text/plain": [
       "{1, 4, 5}"
      ]
     },
     "execution_count": 460,
     "metadata": {},
     "output_type": "execute_result"
    }
   ],
   "source": [
    "s1&s2"
   ]
  },
  {
   "cell_type": "code",
   "execution_count": 461,
   "id": "bef137c9",
   "metadata": {},
   "outputs": [
    {
     "data": {
      "text/plain": [
       "{3, 8}"
      ]
     },
     "execution_count": 461,
     "metadata": {},
     "output_type": "execute_result"
    }
   ],
   "source": [
    "s1-s2"
   ]
  },
  {
   "cell_type": "code",
   "execution_count": 462,
   "id": "617fbde4",
   "metadata": {},
   "outputs": [
    {
     "data": {
      "text/plain": [
       "{3, 8}"
      ]
     },
     "execution_count": 462,
     "metadata": {},
     "output_type": "execute_result"
    }
   ],
   "source": [
    "s1.difference(s2)"
   ]
  },
  {
   "cell_type": "code",
   "execution_count": 463,
   "id": "efa99385",
   "metadata": {},
   "outputs": [
    {
     "data": {
      "text/plain": [
       "{3, 6, 7, 8, 9}"
      ]
     },
     "execution_count": 463,
     "metadata": {},
     "output_type": "execute_result"
    }
   ],
   "source": [
    "s1.symmetric_difference(s2)"
   ]
  },
  {
   "cell_type": "code",
   "execution_count": 465,
   "id": "1b9a7d63",
   "metadata": {},
   "outputs": [
    {
     "data": {
      "text/plain": [
       "{3, 6, 7, 8, 9}"
      ]
     },
     "execution_count": 465,
     "metadata": {},
     "output_type": "execute_result"
    }
   ],
   "source": [
    "(s1|s2) - (s1&s2)"
   ]
  },
  {
   "cell_type": "code",
   "execution_count": 466,
   "id": "95daad4f",
   "metadata": {},
   "outputs": [],
   "source": [
    "some_list = [6,3,7,6,4,1,0,9,2,1,0,8,6,4,7]"
   ]
  },
  {
   "cell_type": "code",
   "execution_count": 467,
   "id": "2b067fef",
   "metadata": {},
   "outputs": [],
   "source": [
    "some_set = set(some_list)"
   ]
  },
  {
   "cell_type": "code",
   "execution_count": 469,
   "id": "3360aa1e",
   "metadata": {},
   "outputs": [],
   "source": [
    "some_list = list(some_set)"
   ]
  },
  {
   "cell_type": "code",
   "execution_count": 470,
   "id": "2300f2b5",
   "metadata": {},
   "outputs": [
    {
     "data": {
      "text/plain": [
       "[0, 1, 2, 3, 4, 6, 7, 8, 9]"
      ]
     },
     "execution_count": 470,
     "metadata": {},
     "output_type": "execute_result"
    }
   ],
   "source": [
    "some_list"
   ]
  },
  {
   "cell_type": "code",
   "execution_count": 471,
   "id": "ca01ac4f",
   "metadata": {},
   "outputs": [
    {
     "data": {
      "text/plain": [
       "{1, 2, 3, 4, 5, 6, 7, 10}"
      ]
     },
     "execution_count": 471,
     "metadata": {},
     "output_type": "execute_result"
    }
   ],
   "source": [
    "{2,4,5,7,1,6,3,10}"
   ]
  },
  {
   "cell_type": "code",
   "execution_count": 472,
   "id": "cb6eb39f",
   "metadata": {},
   "outputs": [
    {
     "data": {
      "text/plain": [
       "True"
      ]
     },
     "execution_count": 472,
     "metadata": {},
     "output_type": "execute_result"
    }
   ],
   "source": [
    "7 in {2,4,5,7,1,6,3,10}"
   ]
  },
  {
   "cell_type": "code",
   "execution_count": 473,
   "id": "f88c1786",
   "metadata": {},
   "outputs": [
    {
     "data": {
      "text/plain": [
       "False"
      ]
     },
     "execution_count": 473,
     "metadata": {},
     "output_type": "execute_result"
    }
   ],
   "source": [
    "1000 in {2,4,5,7,1,6,3,10}"
   ]
  },
  {
   "cell_type": "code",
   "execution_count": 474,
   "id": "cdaa5899",
   "metadata": {},
   "outputs": [
    {
     "data": {
      "text/plain": [
       "True"
      ]
     },
     "execution_count": 474,
     "metadata": {},
     "output_type": "execute_result"
    }
   ],
   "source": [
    "2000 not in {2,4,5,7,1,6,3,10}"
   ]
  },
  {
   "cell_type": "code",
   "execution_count": 476,
   "id": "06fda913",
   "metadata": {},
   "outputs": [
    {
     "name": "stdout",
     "output_type": "stream",
     "text": [
      "2\n",
      "4\n",
      "6\n",
      "8\n",
      "10\n",
      "12\n",
      "14\n",
      "20\n"
     ]
    }
   ],
   "source": [
    "for i in {2,4,5,7,1,6,3,10}:\n",
    "    print(i*2)"
   ]
  },
  {
   "cell_type": "code",
   "execution_count": null,
   "id": "1e87ebc9",
   "metadata": {},
   "outputs": [],
   "source": []
  }
 ],
 "metadata": {
  "kernelspec": {
   "display_name": "Python 3",
   "language": "python",
   "name": "python3"
  },
  "language_info": {
   "codemirror_mode": {
    "name": "ipython",
    "version": 3
   },
   "file_extension": ".py",
   "mimetype": "text/x-python",
   "name": "python",
   "nbconvert_exporter": "python",
   "pygments_lexer": "ipython3",
   "version": "3.8.8"
  }
 },
 "nbformat": 4,
 "nbformat_minor": 5
}
