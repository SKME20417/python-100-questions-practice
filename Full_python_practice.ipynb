{
 "cells": [
  {
   "cell_type": "markdown",
   "id": "68ab896a",
   "metadata": {},
   "source": [
    "# Python Fundamentals"
   ]
  },
  {
   "cell_type": "code",
   "execution_count": 2,
   "id": "3f12cad4",
   "metadata": {},
   "outputs": [],
   "source": [
    "# Python Basics"
   ]
  },
  {
   "cell_type": "code",
   "execution_count": 5,
   "id": "23782957",
   "metadata": {},
   "outputs": [],
   "source": [
    "# This is a comment\n",
    "# This line will not be executed"
   ]
  },
  {
   "cell_type": "code",
   "execution_count": 6,
   "id": "14826779",
   "metadata": {},
   "outputs": [
    {
     "name": "stdout",
     "output_type": "stream",
     "text": [
      "Hello Students\n"
     ]
    }
   ],
   "source": [
    "print(\"Hello Students\")"
   ]
  },
  {
   "cell_type": "code",
   "execution_count": 7,
   "id": "5e325c71",
   "metadata": {},
   "outputs": [
    {
     "name": "stdout",
     "output_type": "stream",
     "text": [
      "Data Scienece\n"
     ]
    }
   ],
   "source": [
    "print('Data Scienece')"
   ]
  },
  {
   "cell_type": "code",
   "execution_count": 8,
   "id": "f0c97d77",
   "metadata": {},
   "outputs": [
    {
     "name": "stdout",
     "output_type": "stream",
     "text": [
      "Python Datasecience 100\n"
     ]
    }
   ],
   "source": [
    "print('Python', 'Datasecience', 100)"
   ]
  },
  {
   "cell_type": "code",
   "execution_count": 9,
   "id": "214dc7c9",
   "metadata": {},
   "outputs": [],
   "source": [
    "# Creating a variable"
   ]
  },
  {
   "cell_type": "code",
   "execution_count": 10,
   "id": "7fbd87c5",
   "metadata": {},
   "outputs": [],
   "source": [
    "i = 80"
   ]
  },
  {
   "cell_type": "code",
   "execution_count": 11,
   "id": "3e7d7874",
   "metadata": {},
   "outputs": [
    {
     "name": "stdout",
     "output_type": "stream",
     "text": [
      "80\n"
     ]
    }
   ],
   "source": [
    "print(i)"
   ]
  },
  {
   "cell_type": "code",
   "execution_count": 12,
   "id": "4129be7d",
   "metadata": {},
   "outputs": [],
   "source": [
    "abc1 = 89"
   ]
  },
  {
   "cell_type": "code",
   "execution_count": 13,
   "id": "da23c8ec",
   "metadata": {},
   "outputs": [
    {
     "ename": "SyntaxError",
     "evalue": "invalid syntax (<ipython-input-13-222f59a23354>, line 1)",
     "output_type": "error",
     "traceback": [
      "\u001b[1;36m  File \u001b[1;32m\"<ipython-input-13-222f59a23354>\"\u001b[1;36m, line \u001b[1;32m1\u001b[0m\n\u001b[1;33m    1abc= 89\u001b[0m\n\u001b[1;37m     ^\u001b[0m\n\u001b[1;31mSyntaxError\u001b[0m\u001b[1;31m:\u001b[0m invalid syntax\n"
     ]
    }
   ],
   "source": [
    "1abc= 89"
   ]
  },
  {
   "cell_type": "code",
   "execution_count": 14,
   "id": "38817375",
   "metadata": {},
   "outputs": [
    {
     "name": "stdout",
     "output_type": "stream",
     "text": [
      "89\n"
     ]
    }
   ],
   "source": [
    "print(abc1)"
   ]
  },
  {
   "cell_type": "code",
   "execution_count": 15,
   "id": "854d3e59",
   "metadata": {},
   "outputs": [
    {
     "data": {
      "text/plain": [
       "int"
      ]
     },
     "execution_count": 15,
     "metadata": {},
     "output_type": "execute_result"
    }
   ],
   "source": [
    "type(abc1)"
   ]
  },
  {
   "cell_type": "code",
   "execution_count": 16,
   "id": "a88bb6ba",
   "metadata": {},
   "outputs": [
    {
     "data": {
      "text/plain": [
       "int"
      ]
     },
     "execution_count": 16,
     "metadata": {},
     "output_type": "execute_result"
    }
   ],
   "source": [
    "type(i)"
   ]
  },
  {
   "cell_type": "code",
   "execution_count": 17,
   "id": "b1bf7d2b",
   "metadata": {},
   "outputs": [
    {
     "data": {
      "text/plain": [
       "140713818992912"
      ]
     },
     "execution_count": 17,
     "metadata": {},
     "output_type": "execute_result"
    }
   ],
   "source": [
    "id(i)"
   ]
  },
  {
   "cell_type": "code",
   "execution_count": 18,
   "id": "27ac31be",
   "metadata": {},
   "outputs": [
    {
     "data": {
      "text/plain": [
       "140713818993200"
      ]
     },
     "execution_count": 18,
     "metadata": {},
     "output_type": "execute_result"
    }
   ],
   "source": [
    "id(abc1)"
   ]
  },
  {
   "cell_type": "code",
   "execution_count": 30,
   "id": "6803c1ea",
   "metadata": {},
   "outputs": [],
   "source": [
    "i = 89"
   ]
  },
  {
   "cell_type": "code",
   "execution_count": 31,
   "id": "4feb716b",
   "metadata": {},
   "outputs": [
    {
     "data": {
      "text/plain": [
       "140713818993200"
      ]
     },
     "execution_count": 31,
     "metadata": {},
     "output_type": "execute_result"
    }
   ],
   "source": [
    "id(i)"
   ]
  },
  {
   "cell_type": "code",
   "execution_count": 32,
   "id": "006d24d0",
   "metadata": {},
   "outputs": [
    {
     "name": "stdout",
     "output_type": "stream",
     "text": [
      "89\n"
     ]
    }
   ],
   "source": [
    "print(i)"
   ]
  },
  {
   "cell_type": "code",
   "execution_count": 33,
   "id": "55916c2e",
   "metadata": {},
   "outputs": [
    {
     "data": {
      "text/plain": [
       "int"
      ]
     },
     "execution_count": 33,
     "metadata": {},
     "output_type": "execute_result"
    }
   ],
   "source": [
    "type(i)"
   ]
  },
  {
   "cell_type": "code",
   "execution_count": 34,
   "id": "22c26dd5",
   "metadata": {},
   "outputs": [],
   "source": [
    "i = \"Data sciene\""
   ]
  },
  {
   "cell_type": "code",
   "execution_count": 35,
   "id": "44d397a1",
   "metadata": {},
   "outputs": [
    {
     "name": "stdout",
     "output_type": "stream",
     "text": [
      "Data sciene\n"
     ]
    }
   ],
   "source": [
    "print(i)"
   ]
  },
  {
   "cell_type": "code",
   "execution_count": 36,
   "id": "4df707fc",
   "metadata": {},
   "outputs": [
    {
     "data": {
      "text/plain": [
       "str"
      ]
     },
     "execution_count": 36,
     "metadata": {},
     "output_type": "execute_result"
    }
   ],
   "source": [
    "type(i)"
   ]
  },
  {
   "cell_type": "code",
   "execution_count": 37,
   "id": "4784e336",
   "metadata": {},
   "outputs": [
    {
     "name": "stdout",
     "output_type": "stream",
     "text": [
      "Data sciene\n"
     ]
    }
   ],
   "source": [
    "print(i)"
   ]
  },
  {
   "cell_type": "code",
   "execution_count": 38,
   "id": "78fb35c0",
   "metadata": {},
   "outputs": [
    {
     "data": {
      "text/plain": [
       "1766202947760"
      ]
     },
     "execution_count": 38,
     "metadata": {},
     "output_type": "execute_result"
    }
   ],
   "source": [
    "id(i)"
   ]
  },
  {
   "cell_type": "code",
   "execution_count": 40,
   "id": "aab5743c",
   "metadata": {},
   "outputs": [],
   "source": [
    "my_num = 55"
   ]
  },
  {
   "cell_type": "code",
   "execution_count": 41,
   "id": "3bf68286",
   "metadata": {},
   "outputs": [
    {
     "name": "stdout",
     "output_type": "stream",
     "text": [
      "55\n"
     ]
    }
   ],
   "source": [
    "print(my_num)"
   ]
  },
  {
   "cell_type": "code",
   "execution_count": 44,
   "id": "00815f14",
   "metadata": {},
   "outputs": [
    {
     "name": "stdout",
     "output_type": "stream",
     "text": [
      "<class 'int'>\n"
     ]
    }
   ],
   "source": [
    "print(type(my_num))"
   ]
  },
  {
   "cell_type": "code",
   "execution_count": 43,
   "id": "14d22a05",
   "metadata": {},
   "outputs": [
    {
     "data": {
      "text/plain": [
       "140713818992112"
      ]
     },
     "execution_count": 43,
     "metadata": {},
     "output_type": "execute_result"
    }
   ],
   "source": [
    "id(my_num)"
   ]
  },
  {
   "cell_type": "code",
   "execution_count": 45,
   "id": "e376174c",
   "metadata": {},
   "outputs": [],
   "source": [
    "my_f = 98.71"
   ]
  },
  {
   "cell_type": "code",
   "execution_count": 48,
   "id": "d101ba4e",
   "metadata": {},
   "outputs": [
    {
     "name": "stdout",
     "output_type": "stream",
     "text": [
      "<class 'float'>\n"
     ]
    }
   ],
   "source": [
    "print(type(my_f))"
   ]
  },
  {
   "cell_type": "code",
   "execution_count": 47,
   "id": "a62c13a8",
   "metadata": {},
   "outputs": [
    {
     "name": "stdout",
     "output_type": "stream",
     "text": [
      "98.71\n"
     ]
    }
   ],
   "source": [
    "print(my_f)"
   ]
  },
  {
   "cell_type": "code",
   "execution_count": 49,
   "id": "1c0719d5",
   "metadata": {},
   "outputs": [],
   "source": [
    "my_c = 5+6j"
   ]
  },
  {
   "cell_type": "code",
   "execution_count": 51,
   "id": "8fd2aa9d",
   "metadata": {},
   "outputs": [
    {
     "data": {
      "text/plain": [
       "(5-6j)"
      ]
     },
     "execution_count": 51,
     "metadata": {},
     "output_type": "execute_result"
    }
   ],
   "source": [
    "my_c.conjugate()"
   ]
  },
  {
   "cell_type": "code",
   "execution_count": 52,
   "id": "c164d716",
   "metadata": {},
   "outputs": [
    {
     "data": {
      "text/plain": [
       "6.0"
      ]
     },
     "execution_count": 52,
     "metadata": {},
     "output_type": "execute_result"
    }
   ],
   "source": [
    "my_c.imag"
   ]
  },
  {
   "cell_type": "code",
   "execution_count": 53,
   "id": "d44f4ebe",
   "metadata": {},
   "outputs": [
    {
     "data": {
      "text/plain": [
       "5.0"
      ]
     },
     "execution_count": 53,
     "metadata": {},
     "output_type": "execute_result"
    }
   ],
   "source": [
    "my_c.real"
   ]
  },
  {
   "cell_type": "code",
   "execution_count": 54,
   "id": "55a7125d",
   "metadata": {},
   "outputs": [
    {
     "name": "stdout",
     "output_type": "stream",
     "text": [
      "(5+6j)\n"
     ]
    }
   ],
   "source": [
    "print(my_c)"
   ]
  },
  {
   "cell_type": "code",
   "execution_count": 55,
   "id": "3ce40bc8",
   "metadata": {},
   "outputs": [
    {
     "name": "stdout",
     "output_type": "stream",
     "text": [
      "<class 'complex'>\n"
     ]
    }
   ],
   "source": [
    "print(type(my_c))"
   ]
  },
  {
   "cell_type": "code",
   "execution_count": 56,
   "id": "34bec42d",
   "metadata": {},
   "outputs": [
    {
     "data": {
      "text/plain": [
       "1766184276336"
      ]
     },
     "execution_count": 56,
     "metadata": {},
     "output_type": "execute_result"
    }
   ],
   "source": [
    "id(my_c)"
   ]
  },
  {
   "cell_type": "code",
   "execution_count": 57,
   "id": "a3a75166",
   "metadata": {},
   "outputs": [],
   "source": [
    "my_str = \"Python is fun\""
   ]
  },
  {
   "cell_type": "code",
   "execution_count": 58,
   "id": "94ce8a7a",
   "metadata": {},
   "outputs": [
    {
     "name": "stdout",
     "output_type": "stream",
     "text": [
      "Python is fun\n"
     ]
    }
   ],
   "source": [
    "print(my_str)"
   ]
  },
  {
   "cell_type": "code",
   "execution_count": 60,
   "id": "c79636a5",
   "metadata": {},
   "outputs": [
    {
     "name": "stdout",
     "output_type": "stream",
     "text": [
      "<class 'str'>\n"
     ]
    }
   ],
   "source": [
    "print(type(my_str))"
   ]
  },
  {
   "cell_type": "code",
   "execution_count": 61,
   "id": "ef3eb9a0",
   "metadata": {},
   "outputs": [
    {
     "data": {
      "text/plain": [
       "1766200431344"
      ]
     },
     "execution_count": 61,
     "metadata": {},
     "output_type": "execute_result"
    }
   ],
   "source": [
    "id(my_str)"
   ]
  },
  {
   "cell_type": "code",
   "execution_count": 63,
   "id": "93550cda",
   "metadata": {},
   "outputs": [],
   "source": [
    "my_bool = False  # True"
   ]
  },
  {
   "cell_type": "code",
   "execution_count": 65,
   "id": "f92e3995",
   "metadata": {},
   "outputs": [
    {
     "name": "stdout",
     "output_type": "stream",
     "text": [
      "False\n"
     ]
    }
   ],
   "source": [
    "print(my_bool)"
   ]
  },
  {
   "cell_type": "code",
   "execution_count": 67,
   "id": "2b10f4a3",
   "metadata": {},
   "outputs": [
    {
     "name": "stdout",
     "output_type": "stream",
     "text": [
      "<class 'bool'>\n"
     ]
    }
   ],
   "source": [
    "print(type(my_bool))"
   ]
  },
  {
   "cell_type": "code",
   "execution_count": 68,
   "id": "be8acb2c",
   "metadata": {},
   "outputs": [],
   "source": [
    "my_none = None"
   ]
  },
  {
   "cell_type": "code",
   "execution_count": 71,
   "id": "0cdedf9b",
   "metadata": {},
   "outputs": [
    {
     "name": "stdout",
     "output_type": "stream",
     "text": [
      "<class 'NoneType'>\n"
     ]
    }
   ],
   "source": [
    "print(type(my_none))"
   ]
  },
  {
   "cell_type": "code",
   "execution_count": 70,
   "id": "bf1906d5",
   "metadata": {},
   "outputs": [
    {
     "name": "stdout",
     "output_type": "stream",
     "text": [
      "None\n"
     ]
    }
   ],
   "source": [
    "print(my_none)"
   ]
  },
  {
   "cell_type": "code",
   "execution_count": 72,
   "id": "fa0c8d43",
   "metadata": {},
   "outputs": [
    {
     "data": {
      "text/plain": [
       "140713818757248"
      ]
     },
     "execution_count": 72,
     "metadata": {},
     "output_type": "execute_result"
    }
   ],
   "source": [
    "id(my_none)"
   ]
  },
  {
   "cell_type": "code",
   "execution_count": 76,
   "id": "81fb3715",
   "metadata": {},
   "outputs": [
    {
     "name": "stdout",
     "output_type": "stream",
     "text": [
      "Please enter your name : Sanjay Kumar\n"
     ]
    }
   ],
   "source": [
    "name = input(\"Please enter your name : \")"
   ]
  },
  {
   "cell_type": "code",
   "execution_count": 77,
   "id": "7ec188dc",
   "metadata": {},
   "outputs": [
    {
     "name": "stdout",
     "output_type": "stream",
     "text": [
      "Sanjay Kumar\n"
     ]
    }
   ],
   "source": [
    "print(name)"
   ]
  },
  {
   "cell_type": "code",
   "execution_count": 79,
   "id": "0c852a3e",
   "metadata": {},
   "outputs": [
    {
     "name": "stdout",
     "output_type": "stream",
     "text": [
      "<class 'str'>\n"
     ]
    }
   ],
   "source": [
    "print(type(name))"
   ]
  },
  {
   "cell_type": "code",
   "execution_count": 80,
   "id": "26d2218f",
   "metadata": {},
   "outputs": [],
   "source": [
    "num = '8'"
   ]
  },
  {
   "cell_type": "code",
   "execution_count": 81,
   "id": "c121b1cf",
   "metadata": {},
   "outputs": [
    {
     "name": "stdout",
     "output_type": "stream",
     "text": [
      "8\n"
     ]
    }
   ],
   "source": [
    "print(num)"
   ]
  },
  {
   "cell_type": "code",
   "execution_count": 83,
   "id": "41317979",
   "metadata": {},
   "outputs": [
    {
     "name": "stdout",
     "output_type": "stream",
     "text": [
      "<class 'str'>\n"
     ]
    }
   ],
   "source": [
    "print(type(num))"
   ]
  },
  {
   "cell_type": "code",
   "execution_count": 84,
   "id": "314e18f9",
   "metadata": {},
   "outputs": [
    {
     "data": {
      "text/plain": [
       "1766114674992"
      ]
     },
     "execution_count": 84,
     "metadata": {},
     "output_type": "execute_result"
    }
   ],
   "source": [
    "id(num)"
   ]
  },
  {
   "cell_type": "code",
   "execution_count": 86,
   "id": "11d08afb",
   "metadata": {},
   "outputs": [],
   "source": [
    "num = int(num)"
   ]
  },
  {
   "cell_type": "code",
   "execution_count": 87,
   "id": "ec89d434",
   "metadata": {},
   "outputs": [
    {
     "name": "stdout",
     "output_type": "stream",
     "text": [
      "8\n"
     ]
    }
   ],
   "source": [
    "print(num)"
   ]
  },
  {
   "cell_type": "code",
   "execution_count": 89,
   "id": "e85e1d13",
   "metadata": {},
   "outputs": [
    {
     "name": "stdout",
     "output_type": "stream",
     "text": [
      "<class 'int'>\n"
     ]
    }
   ],
   "source": [
    "print(type(num))"
   ]
  },
  {
   "cell_type": "code",
   "execution_count": 90,
   "id": "1adcd9a2",
   "metadata": {},
   "outputs": [
    {
     "data": {
      "text/plain": [
       "140713818990608"
      ]
     },
     "execution_count": 90,
     "metadata": {},
     "output_type": "execute_result"
    }
   ],
   "source": [
    "id(num)"
   ]
  },
  {
   "cell_type": "code",
   "execution_count": 91,
   "id": "74b4f1ff",
   "metadata": {},
   "outputs": [
    {
     "data": {
      "text/plain": [
       "8.0"
      ]
     },
     "execution_count": 91,
     "metadata": {},
     "output_type": "execute_result"
    }
   ],
   "source": [
    "float(num)"
   ]
  },
  {
   "cell_type": "code",
   "execution_count": 92,
   "id": "c480bbee",
   "metadata": {},
   "outputs": [
    {
     "data": {
      "text/plain": [
       "(8+0j)"
      ]
     },
     "execution_count": 92,
     "metadata": {},
     "output_type": "execute_result"
    }
   ],
   "source": [
    "complex(num)"
   ]
  },
  {
   "cell_type": "code",
   "execution_count": 93,
   "id": "dda55e92",
   "metadata": {},
   "outputs": [
    {
     "data": {
      "text/plain": [
       "'8'"
      ]
     },
     "execution_count": 93,
     "metadata": {},
     "output_type": "execute_result"
    }
   ],
   "source": [
    "str(num)"
   ]
  },
  {
   "cell_type": "code",
   "execution_count": 97,
   "id": "bac1762c",
   "metadata": {},
   "outputs": [
    {
     "name": "stdout",
     "output_type": "stream",
     "text": [
      "Enter your age : 29\n"
     ]
    }
   ],
   "source": [
    "age = int(input('Enter your age : ', ))"
   ]
  },
  {
   "cell_type": "code",
   "execution_count": 99,
   "id": "d0fdd059",
   "metadata": {},
   "outputs": [
    {
     "name": "stdout",
     "output_type": "stream",
     "text": [
      "<class 'int'>\n"
     ]
    }
   ],
   "source": [
    "print(type(age))"
   ]
  },
  {
   "cell_type": "code",
   "execution_count": 100,
   "id": "91460b1f",
   "metadata": {},
   "outputs": [
    {
     "name": "stdout",
     "output_type": "stream",
     "text": [
      "29\n"
     ]
    }
   ],
   "source": [
    "print(age)"
   ]
  },
  {
   "cell_type": "code",
   "execution_count": 102,
   "id": "9ae507d6",
   "metadata": {},
   "outputs": [],
   "source": [
    "num = 5 # single line statment"
   ]
  },
  {
   "cell_type": "code",
   "execution_count": 103,
   "id": "4890f09a",
   "metadata": {},
   "outputs": [],
   "source": [
    "a = 1 + 2 +3+ \\\n",
    "    4 + 5 + 6 + \\\n",
    "    7+ 8 + 9 "
   ]
  },
  {
   "cell_type": "code",
   "execution_count": 104,
   "id": "e69ba392",
   "metadata": {},
   "outputs": [
    {
     "data": {
      "text/plain": [
       "45"
      ]
     },
     "execution_count": 104,
     "metadata": {},
     "output_type": "execute_result"
    }
   ],
   "source": [
    "a"
   ]
  },
  {
   "cell_type": "code",
   "execution_count": 105,
   "id": "ed8c5c2d",
   "metadata": {},
   "outputs": [],
   "source": [
    "a = (1 + 2 + 3+\n",
    "    4+ 5 + 6 + \n",
    "    7 + 8+ 9)"
   ]
  },
  {
   "cell_type": "code",
   "execution_count": 107,
   "id": "c9ce0f6a",
   "metadata": {},
   "outputs": [
    {
     "name": "stdout",
     "output_type": "stream",
     "text": [
      "45\n"
     ]
    }
   ],
   "source": [
    "print(a)"
   ]
  },
  {
   "cell_type": "code",
   "execution_count": 110,
   "id": "0ccd4a94",
   "metadata": {},
   "outputs": [
    {
     "name": "stdout",
     "output_type": "stream",
     "text": [
      "The value of a is 20 and b is 10\n"
     ]
    }
   ],
   "source": [
    "a = 10\n",
    "b = 20\n",
    "\n",
    "\n",
    "print('The value of a is {1} and b is {0}'.format(a,b))"
   ]
  },
  {
   "cell_type": "code",
   "execution_count": 112,
   "id": "cd23e044",
   "metadata": {},
   "outputs": [],
   "source": [
    "name = 'Sanjay Kumar'\n",
    "greetings = 'Good Morning'"
   ]
  },
  {
   "cell_type": "code",
   "execution_count": 116,
   "id": "4d28b75a",
   "metadata": {},
   "outputs": [
    {
     "name": "stdout",
     "output_type": "stream",
     "text": [
      "Hi Sanjay Kumar and very very Good Morning\n"
     ]
    }
   ],
   "source": [
    "print(\"Hi {n} and very very {g}\".format(n = name, g = greetings))"
   ]
  },
  {
   "cell_type": "code",
   "execution_count": 117,
   "id": "2aba9eef",
   "metadata": {},
   "outputs": [],
   "source": [
    "# Operators and Expressions"
   ]
  },
  {
   "cell_type": "code",
   "execution_count": 135,
   "id": "bb9ab189",
   "metadata": {},
   "outputs": [],
   "source": [
    "no1 = 12\n",
    "no2 = 3"
   ]
  },
  {
   "cell_type": "code",
   "execution_count": 119,
   "id": "86eb7758",
   "metadata": {},
   "outputs": [
    {
     "data": {
      "text/plain": [
       "15"
      ]
     },
     "execution_count": 119,
     "metadata": {},
     "output_type": "execute_result"
    }
   ],
   "source": [
    "12+3"
   ]
  },
  {
   "cell_type": "code",
   "execution_count": 120,
   "id": "e33ee2de",
   "metadata": {},
   "outputs": [
    {
     "data": {
      "text/plain": [
       "9"
      ]
     },
     "execution_count": 120,
     "metadata": {},
     "output_type": "execute_result"
    }
   ],
   "source": [
    "12-3"
   ]
  },
  {
   "cell_type": "code",
   "execution_count": 121,
   "id": "84eecfc1",
   "metadata": {},
   "outputs": [
    {
     "data": {
      "text/plain": [
       "36"
      ]
     },
     "execution_count": 121,
     "metadata": {},
     "output_type": "execute_result"
    }
   ],
   "source": [
    "12*3"
   ]
  },
  {
   "cell_type": "code",
   "execution_count": 122,
   "id": "39145f51",
   "metadata": {},
   "outputs": [
    {
     "data": {
      "text/plain": [
       "4.0"
      ]
     },
     "execution_count": 122,
     "metadata": {},
     "output_type": "execute_result"
    }
   ],
   "source": [
    "12/3"
   ]
  },
  {
   "cell_type": "code",
   "execution_count": 124,
   "id": "9e5c6358",
   "metadata": {},
   "outputs": [
    {
     "data": {
      "text/plain": [
       "4"
      ]
     },
     "execution_count": 124,
     "metadata": {},
     "output_type": "execute_result"
    }
   ],
   "source": [
    "12//3"
   ]
  },
  {
   "cell_type": "code",
   "execution_count": 125,
   "id": "4817ca2e",
   "metadata": {},
   "outputs": [
    {
     "data": {
      "text/plain": [
       "1728"
      ]
     },
     "execution_count": 125,
     "metadata": {},
     "output_type": "execute_result"
    }
   ],
   "source": [
    "12**3"
   ]
  },
  {
   "cell_type": "code",
   "execution_count": 126,
   "id": "9a6f4dfc",
   "metadata": {},
   "outputs": [
    {
     "data": {
      "text/plain": [
       "0"
      ]
     },
     "execution_count": 126,
     "metadata": {},
     "output_type": "execute_result"
    }
   ],
   "source": [
    "12%3"
   ]
  },
  {
   "cell_type": "code",
   "execution_count": 136,
   "id": "4952685e",
   "metadata": {},
   "outputs": [],
   "source": [
    "add = no1+no2\n",
    "sub = no1-no2\n",
    "mul = no1*no2\n",
    "div = no1/no2\n",
    "f_div = no1//no2\n",
    "mod = no1%no2\n",
    "exp = no1**no2"
   ]
  },
  {
   "cell_type": "code",
   "execution_count": 139,
   "id": "f223f107",
   "metadata": {},
   "outputs": [
    {
     "name": "stdout",
     "output_type": "stream",
     "text": [
      "a+b = 15\n",
      "a-b = 9\n",
      "a*b = 36\n",
      "a/b = 4.0\n",
      "a//b = 4\n",
      "a**b = 1728\n",
      "a%b = 0\n"
     ]
    }
   ],
   "source": [
    "print(\"a+b = {}\".format(add))\n",
    "print(\"a-b = {}\".format(sub))\n",
    "print(\"a*b = {}\".format(mul))\n",
    "print(\"a/b = {}\".format(div))\n",
    "print(\"a//b = {}\".format(f_div))\n",
    "print(\"a**b = {}\".format(exp))\n",
    "print(\"a%b = {}\".format(mod))"
   ]
  },
  {
   "cell_type": "code",
   "execution_count": 140,
   "id": "9f5de1a7",
   "metadata": {},
   "outputs": [
    {
     "name": "stdout",
     "output_type": "stream",
     "text": [
      "12 3\n"
     ]
    }
   ],
   "source": [
    "print(no1, no2)"
   ]
  },
  {
   "cell_type": "code",
   "execution_count": 142,
   "id": "016ce4c5",
   "metadata": {},
   "outputs": [
    {
     "name": "stdout",
     "output_type": "stream",
     "text": [
      "True\n"
     ]
    }
   ],
   "source": [
    "print(no1>no2)"
   ]
  },
  {
   "cell_type": "code",
   "execution_count": 143,
   "id": "d5750abc",
   "metadata": {},
   "outputs": [
    {
     "data": {
      "text/plain": [
       "True"
      ]
     },
     "execution_count": 143,
     "metadata": {},
     "output_type": "execute_result"
    }
   ],
   "source": [
    "no1>=no2"
   ]
  },
  {
   "cell_type": "code",
   "execution_count": 144,
   "id": "7ae4b5f6",
   "metadata": {},
   "outputs": [
    {
     "data": {
      "text/plain": [
       "False"
      ]
     },
     "execution_count": 144,
     "metadata": {},
     "output_type": "execute_result"
    }
   ],
   "source": [
    "no1<no2"
   ]
  },
  {
   "cell_type": "code",
   "execution_count": 145,
   "id": "10517cb8",
   "metadata": {},
   "outputs": [
    {
     "data": {
      "text/plain": [
       "False"
      ]
     },
     "execution_count": 145,
     "metadata": {},
     "output_type": "execute_result"
    }
   ],
   "source": [
    "no1<=no2"
   ]
  },
  {
   "cell_type": "code",
   "execution_count": 146,
   "id": "3552f6e2",
   "metadata": {},
   "outputs": [
    {
     "data": {
      "text/plain": [
       "False"
      ]
     },
     "execution_count": 146,
     "metadata": {},
     "output_type": "execute_result"
    }
   ],
   "source": [
    "no1==no2"
   ]
  },
  {
   "cell_type": "code",
   "execution_count": 147,
   "id": "1dfe1236",
   "metadata": {},
   "outputs": [
    {
     "data": {
      "text/plain": [
       "True"
      ]
     },
     "execution_count": 147,
     "metadata": {},
     "output_type": "execute_result"
    }
   ],
   "source": [
    "no1!=no2"
   ]
  },
  {
   "cell_type": "code",
   "execution_count": 155,
   "id": "1453e91b",
   "metadata": {},
   "outputs": [
    {
     "data": {
      "text/plain": [
       "False"
      ]
     },
     "execution_count": 155,
     "metadata": {},
     "output_type": "execute_result"
    }
   ],
   "source": [
    "not((10>5) and (20!=3))"
   ]
  },
  {
   "cell_type": "code",
   "execution_count": 156,
   "id": "a802bde9",
   "metadata": {},
   "outputs": [
    {
     "data": {
      "text/plain": [
       "False"
      ]
     },
     "execution_count": 156,
     "metadata": {},
     "output_type": "execute_result"
    }
   ],
   "source": [
    "not((10<5) or (10>6))"
   ]
  },
  {
   "cell_type": "code",
   "execution_count": 154,
   "id": "c5518492",
   "metadata": {},
   "outputs": [
    {
     "data": {
      "text/plain": [
       "False"
      ]
     },
     "execution_count": 154,
     "metadata": {},
     "output_type": "execute_result"
    }
   ],
   "source": [
    "not True"
   ]
  },
  {
   "cell_type": "code",
   "execution_count": 157,
   "id": "829ad95c",
   "metadata": {},
   "outputs": [
    {
     "data": {
      "text/plain": [
       "'0b1010'"
      ]
     },
     "execution_count": 157,
     "metadata": {},
     "output_type": "execute_result"
    }
   ],
   "source": [
    "bin(10)"
   ]
  },
  {
   "cell_type": "code",
   "execution_count": 158,
   "id": "061b183c",
   "metadata": {},
   "outputs": [
    {
     "data": {
      "text/plain": [
       "'0b100'"
      ]
     },
     "execution_count": 158,
     "metadata": {},
     "output_type": "execute_result"
    }
   ],
   "source": [
    "bin(4)"
   ]
  },
  {
   "cell_type": "code",
   "execution_count": 159,
   "id": "9e226604",
   "metadata": {},
   "outputs": [
    {
     "data": {
      "text/plain": [
       "0"
      ]
     },
     "execution_count": 159,
     "metadata": {},
     "output_type": "execute_result"
    }
   ],
   "source": [
    "10&4"
   ]
  },
  {
   "cell_type": "code",
   "execution_count": 160,
   "id": "f200aef5",
   "metadata": {},
   "outputs": [
    {
     "data": {
      "text/plain": [
       "14"
      ]
     },
     "execution_count": 160,
     "metadata": {},
     "output_type": "execute_result"
    }
   ],
   "source": [
    "10|4"
   ]
  },
  {
   "cell_type": "code",
   "execution_count": 161,
   "id": "afba21b8",
   "metadata": {},
   "outputs": [
    {
     "data": {
      "text/plain": [
       "14"
      ]
     },
     "execution_count": 161,
     "metadata": {},
     "output_type": "execute_result"
    }
   ],
   "source": [
    "10^4"
   ]
  },
  {
   "cell_type": "code",
   "execution_count": 162,
   "id": "5bbde431",
   "metadata": {},
   "outputs": [
    {
     "data": {
      "text/plain": [
       "0"
      ]
     },
     "execution_count": 162,
     "metadata": {},
     "output_type": "execute_result"
    }
   ],
   "source": [
    "4^4"
   ]
  },
  {
   "cell_type": "code",
   "execution_count": 163,
   "id": "487c552a",
   "metadata": {},
   "outputs": [],
   "source": [
    "a = 5"
   ]
  },
  {
   "cell_type": "code",
   "execution_count": 164,
   "id": "c062b5c8",
   "metadata": {},
   "outputs": [],
   "source": [
    "a = a+1"
   ]
  },
  {
   "cell_type": "code",
   "execution_count": 165,
   "id": "dcc63922",
   "metadata": {},
   "outputs": [
    {
     "data": {
      "text/plain": [
       "6"
      ]
     },
     "execution_count": 165,
     "metadata": {},
     "output_type": "execute_result"
    }
   ],
   "source": [
    "a"
   ]
  },
  {
   "cell_type": "code",
   "execution_count": 166,
   "id": "9ac4bb77",
   "metadata": {},
   "outputs": [],
   "source": [
    "a+=1"
   ]
  },
  {
   "cell_type": "code",
   "execution_count": 167,
   "id": "e72727e9",
   "metadata": {},
   "outputs": [
    {
     "data": {
      "text/plain": [
       "7"
      ]
     },
     "execution_count": 167,
     "metadata": {},
     "output_type": "execute_result"
    }
   ],
   "source": [
    "a\n"
   ]
  },
  {
   "cell_type": "code",
   "execution_count": 168,
   "id": "a567b93b",
   "metadata": {},
   "outputs": [],
   "source": [
    "a+=5"
   ]
  },
  {
   "cell_type": "code",
   "execution_count": 169,
   "id": "8efa89dc",
   "metadata": {},
   "outputs": [
    {
     "data": {
      "text/plain": [
       "12"
      ]
     },
     "execution_count": 169,
     "metadata": {},
     "output_type": "execute_result"
    }
   ],
   "source": [
    "a"
   ]
  },
  {
   "cell_type": "code",
   "execution_count": 170,
   "id": "02996dde",
   "metadata": {},
   "outputs": [
    {
     "data": {
      "text/plain": [
       "6"
      ]
     },
     "execution_count": 170,
     "metadata": {},
     "output_type": "execute_result"
    }
   ],
   "source": [
    "a-6"
   ]
  },
  {
   "cell_type": "code",
   "execution_count": 171,
   "id": "0040e1ec",
   "metadata": {},
   "outputs": [
    {
     "data": {
      "text/plain": [
       "12"
      ]
     },
     "execution_count": 171,
     "metadata": {},
     "output_type": "execute_result"
    }
   ],
   "source": [
    "a"
   ]
  },
  {
   "cell_type": "code",
   "execution_count": 172,
   "id": "ece8cb12",
   "metadata": {},
   "outputs": [],
   "source": [
    "a-=6"
   ]
  },
  {
   "cell_type": "code",
   "execution_count": 173,
   "id": "9ff9b3cc",
   "metadata": {},
   "outputs": [
    {
     "data": {
      "text/plain": [
       "6"
      ]
     },
     "execution_count": 173,
     "metadata": {},
     "output_type": "execute_result"
    }
   ],
   "source": [
    "a"
   ]
  },
  {
   "cell_type": "code",
   "execution_count": 174,
   "id": "171dc908",
   "metadata": {},
   "outputs": [],
   "source": [
    "a*=2"
   ]
  },
  {
   "cell_type": "code",
   "execution_count": 175,
   "id": "7fa38150",
   "metadata": {},
   "outputs": [
    {
     "data": {
      "text/plain": [
       "12"
      ]
     },
     "execution_count": 175,
     "metadata": {},
     "output_type": "execute_result"
    }
   ],
   "source": [
    "a"
   ]
  },
  {
   "cell_type": "code",
   "execution_count": 176,
   "id": "b2f38676",
   "metadata": {},
   "outputs": [],
   "source": [
    "a/=3"
   ]
  },
  {
   "cell_type": "code",
   "execution_count": 177,
   "id": "bf5026fe",
   "metadata": {},
   "outputs": [
    {
     "data": {
      "text/plain": [
       "4.0"
      ]
     },
     "execution_count": 177,
     "metadata": {},
     "output_type": "execute_result"
    }
   ],
   "source": [
    "a"
   ]
  },
  {
   "cell_type": "code",
   "execution_count": 178,
   "id": "b41df18d",
   "metadata": {},
   "outputs": [],
   "source": [
    "a//=2"
   ]
  },
  {
   "cell_type": "code",
   "execution_count": 179,
   "id": "3fb903b7",
   "metadata": {},
   "outputs": [
    {
     "data": {
      "text/plain": [
       "2.0"
      ]
     },
     "execution_count": 179,
     "metadata": {},
     "output_type": "execute_result"
    }
   ],
   "source": [
    "a"
   ]
  },
  {
   "cell_type": "code",
   "execution_count": 180,
   "id": "85110f96",
   "metadata": {},
   "outputs": [],
   "source": [
    "a%=2"
   ]
  },
  {
   "cell_type": "code",
   "execution_count": 181,
   "id": "0a923ecb",
   "metadata": {},
   "outputs": [
    {
     "data": {
      "text/plain": [
       "0.0"
      ]
     },
     "execution_count": 181,
     "metadata": {},
     "output_type": "execute_result"
    }
   ],
   "source": [
    "a"
   ]
  },
  {
   "cell_type": "code",
   "execution_count": 182,
   "id": "cc6ca144",
   "metadata": {},
   "outputs": [],
   "source": [
    "a, b, c = 'ML', 34, 0.6"
   ]
  },
  {
   "cell_type": "code",
   "execution_count": 183,
   "id": "c4f6bfb2",
   "metadata": {},
   "outputs": [
    {
     "data": {
      "text/plain": [
       "'ML'"
      ]
     },
     "execution_count": 183,
     "metadata": {},
     "output_type": "execute_result"
    }
   ],
   "source": [
    "a"
   ]
  },
  {
   "cell_type": "code",
   "execution_count": 184,
   "id": "55523460",
   "metadata": {},
   "outputs": [
    {
     "data": {
      "text/plain": [
       "34"
      ]
     },
     "execution_count": 184,
     "metadata": {},
     "output_type": "execute_result"
    }
   ],
   "source": [
    "b"
   ]
  },
  {
   "cell_type": "code",
   "execution_count": 185,
   "id": "5aaf402e",
   "metadata": {},
   "outputs": [
    {
     "data": {
      "text/plain": [
       "0.6"
      ]
     },
     "execution_count": 185,
     "metadata": {},
     "output_type": "execute_result"
    }
   ],
   "source": [
    "c"
   ]
  },
  {
   "cell_type": "code",
   "execution_count": 186,
   "id": "123e3e42",
   "metadata": {},
   "outputs": [
    {
     "name": "stdout",
     "output_type": "stream",
     "text": [
      "ML 34 0.6\n"
     ]
    }
   ],
   "source": [
    "print(a,b,c)"
   ]
  },
  {
   "cell_type": "code",
   "execution_count": 187,
   "id": "6e72cf2a",
   "metadata": {},
   "outputs": [],
   "source": [
    "a = b = c = 0.8"
   ]
  },
  {
   "cell_type": "code",
   "execution_count": 188,
   "id": "2d32f83b",
   "metadata": {},
   "outputs": [
    {
     "name": "stdout",
     "output_type": "stream",
     "text": [
      "0.8 0.8 0.8\n"
     ]
    }
   ],
   "source": [
    "print(a, b,c )"
   ]
  },
  {
   "cell_type": "code",
   "execution_count": 189,
   "id": "ef4dc32d",
   "metadata": {},
   "outputs": [
    {
     "data": {
      "text/plain": [
       "0.8"
      ]
     },
     "execution_count": 189,
     "metadata": {},
     "output_type": "execute_result"
    }
   ],
   "source": [
    "a"
   ]
  },
  {
   "cell_type": "code",
   "execution_count": 190,
   "id": "b728ab30",
   "metadata": {},
   "outputs": [
    {
     "data": {
      "text/plain": [
       "0.8"
      ]
     },
     "execution_count": 190,
     "metadata": {},
     "output_type": "execute_result"
    }
   ],
   "source": [
    "b"
   ]
  },
  {
   "cell_type": "code",
   "execution_count": 191,
   "id": "386543a0",
   "metadata": {},
   "outputs": [
    {
     "data": {
      "text/plain": [
       "0.8"
      ]
     },
     "execution_count": 191,
     "metadata": {},
     "output_type": "execute_result"
    }
   ],
   "source": [
    "c"
   ]
  },
  {
   "cell_type": "code",
   "execution_count": 192,
   "id": "f9c6e754",
   "metadata": {},
   "outputs": [],
   "source": [
    "my_str = 'Good Morning'"
   ]
  },
  {
   "cell_type": "code",
   "execution_count": 194,
   "id": "958d89fe",
   "metadata": {},
   "outputs": [
    {
     "data": {
      "text/plain": [
       "True"
      ]
     },
     "execution_count": 194,
     "metadata": {},
     "output_type": "execute_result"
    }
   ],
   "source": [
    "\"Good\" in my_str"
   ]
  },
  {
   "cell_type": "code",
   "execution_count": 195,
   "id": "f599761b",
   "metadata": {},
   "outputs": [
    {
     "data": {
      "text/plain": [
       "True"
      ]
     },
     "execution_count": 195,
     "metadata": {},
     "output_type": "execute_result"
    }
   ],
   "source": [
    "'bad' not in my_str"
   ]
  },
  {
   "cell_type": "code",
   "execution_count": 197,
   "id": "c430f611",
   "metadata": {},
   "outputs": [
    {
     "data": {
      "text/plain": [
       "False"
      ]
     },
     "execution_count": 197,
     "metadata": {},
     "output_type": "execute_result"
    }
   ],
   "source": [
    "'z'  in my_str"
   ]
  },
  {
   "cell_type": "code",
   "execution_count": 198,
   "id": "e3182d5b",
   "metadata": {},
   "outputs": [
    {
     "data": {
      "text/plain": [
       "True"
      ]
     },
     "execution_count": 198,
     "metadata": {},
     "output_type": "execute_result"
    }
   ],
   "source": [
    "'o' in my_str"
   ]
  },
  {
   "cell_type": "code",
   "execution_count": 199,
   "id": "f9d78ace",
   "metadata": {},
   "outputs": [],
   "source": [
    "n1 = 1000\n",
    "n2 = 1000"
   ]
  },
  {
   "cell_type": "code",
   "execution_count": 200,
   "id": "e195b4e7",
   "metadata": {},
   "outputs": [
    {
     "data": {
      "text/plain": [
       "True"
      ]
     },
     "execution_count": 200,
     "metadata": {},
     "output_type": "execute_result"
    }
   ],
   "source": [
    "n1==n2"
   ]
  },
  {
   "cell_type": "code",
   "execution_count": 201,
   "id": "49be77a0",
   "metadata": {},
   "outputs": [
    {
     "data": {
      "text/plain": [
       "False"
      ]
     },
     "execution_count": 201,
     "metadata": {},
     "output_type": "execute_result"
    }
   ],
   "source": [
    "n1 is n2"
   ]
  },
  {
   "cell_type": "code",
   "execution_count": 202,
   "id": "21cfe7f7",
   "metadata": {},
   "outputs": [
    {
     "data": {
      "text/plain": [
       "True"
      ]
     },
     "execution_count": 202,
     "metadata": {},
     "output_type": "execute_result"
    }
   ],
   "source": [
    "n1 is not n2"
   ]
  },
  {
   "cell_type": "code",
   "execution_count": 203,
   "id": "2619b91d",
   "metadata": {},
   "outputs": [
    {
     "data": {
      "text/plain": [
       "1766206319056"
      ]
     },
     "execution_count": 203,
     "metadata": {},
     "output_type": "execute_result"
    }
   ],
   "source": [
    "id(n1)"
   ]
  },
  {
   "cell_type": "code",
   "execution_count": 204,
   "id": "1300f84e",
   "metadata": {},
   "outputs": [
    {
     "data": {
      "text/plain": [
       "1766206318192"
      ]
     },
     "execution_count": 204,
     "metadata": {},
     "output_type": "execute_result"
    }
   ],
   "source": [
    "id(n2)"
   ]
  },
  {
   "cell_type": "code",
   "execution_count": 207,
   "id": "900d4ea2",
   "metadata": {},
   "outputs": [
    {
     "name": "stdout",
     "output_type": "stream",
     "text": [
      "Grow up kid\n"
     ]
    }
   ],
   "source": [
    "age = 15\n",
    "\n",
    "if age>=18:\n",
    "    print('You are eligible to vote')\n",
    "else:\n",
    "    print('Grow up kid')"
   ]
  },
  {
   "cell_type": "code",
   "execution_count": 210,
   "id": "8c28b2d9",
   "metadata": {},
   "outputs": [
    {
     "name": "stdout",
     "output_type": "stream",
     "text": [
      "Enter your age : 15\n"
     ]
    }
   ],
   "source": [
    "age = int(input('Enter your age : '))"
   ]
  },
  {
   "cell_type": "code",
   "execution_count": 211,
   "id": "160e08e8",
   "metadata": {},
   "outputs": [
    {
     "name": "stdout",
     "output_type": "stream",
     "text": [
      "Go home kid\n",
      "I am inside Elsse\n"
     ]
    }
   ],
   "source": [
    "if age>=18:\n",
    "    print('You can vote')\n",
    "    print(\"I am inside if block\")\n",
    "else:\n",
    "    print('Go home kid')\n",
    "    print('I am inside Elsse')"
   ]
  },
  {
   "cell_type": "code",
   "execution_count": 216,
   "id": "8e1a4ffe",
   "metadata": {},
   "outputs": [
    {
     "name": "stdout",
     "output_type": "stream",
     "text": [
      "Enter any number : -6\n"
     ]
    }
   ],
   "source": [
    "num = int(input('Enter any number : '))"
   ]
  },
  {
   "cell_type": "code",
   "execution_count": 217,
   "id": "baa0627b",
   "metadata": {},
   "outputs": [
    {
     "name": "stdout",
     "output_type": "stream",
     "text": [
      "Negative number\n"
     ]
    }
   ],
   "source": [
    "if num>0:\n",
    "    print('Positive number')\n",
    "elif num == 0:\n",
    "    print('Zero number')\n",
    "else:\n",
    "    print('Negative number')"
   ]
  },
  {
   "cell_type": "code",
   "execution_count": 224,
   "id": "3914cfc4",
   "metadata": {},
   "outputs": [
    {
     "name": "stdout",
     "output_type": "stream",
     "text": [
      "Enter any number : -9\n"
     ]
    }
   ],
   "source": [
    "num2 = int(input('Enter any number : '))"
   ]
  },
  {
   "cell_type": "code",
   "execution_count": 225,
   "id": "c0042a1d",
   "metadata": {},
   "outputs": [
    {
     "name": "stdout",
     "output_type": "stream",
     "text": [
      "Negative number\n"
     ]
    }
   ],
   "source": [
    "if num2>=0:\n",
    "    if num2==0:\n",
    "        print('Zero number')\n",
    "    else:\n",
    "        print('Positive number')\n",
    "        \n",
    "else:\n",
    "    print('Negative number')"
   ]
  },
  {
   "cell_type": "code",
   "execution_count": 226,
   "id": "6fc92c51",
   "metadata": {},
   "outputs": [],
   "source": [
    "num1 = 50\n",
    "num2 = 60\n",
    "num3 = 400"
   ]
  },
  {
   "cell_type": "code",
   "execution_count": 6,
   "id": "a70b3d50",
   "metadata": {},
   "outputs": [
    {
     "name": "stdout",
     "output_type": "stream",
     "text": [
      "10\n"
     ]
    }
   ],
   "source": [
    "num1 = int(input())"
   ]
  },
  {
   "cell_type": "code",
   "execution_count": 7,
   "id": "22c74a50",
   "metadata": {},
   "outputs": [
    {
     "name": "stdout",
     "output_type": "stream",
     "text": [
      "25\n"
     ]
    }
   ],
   "source": [
    "num2 = int(input())"
   ]
  },
  {
   "cell_type": "code",
   "execution_count": 8,
   "id": "be8d0408",
   "metadata": {},
   "outputs": [
    {
     "name": "stdout",
     "output_type": "stream",
     "text": [
      "150\n"
     ]
    }
   ],
   "source": [
    "num3 = int(input())"
   ]
  },
  {
   "cell_type": "code",
   "execution_count": 9,
   "id": "97420dd3",
   "metadata": {},
   "outputs": [],
   "source": [
    "if (num1>num2) and (num1>num3):\n",
    "    largest_number = num1\n",
    "elif (num2>num3) and (num2>num1):\n",
    "    largest_number = num2\n",
    "else:\n",
    "    largest_number = num3"
   ]
  },
  {
   "cell_type": "code",
   "execution_count": 10,
   "id": "608881e1",
   "metadata": {},
   "outputs": [
    {
     "name": "stdout",
     "output_type": "stream",
     "text": [
      "The largest number among three is 150\n"
     ]
    }
   ],
   "source": [
    "print(f'The largest number among three is {largest_number}')"
   ]
  },
  {
   "cell_type": "code",
   "execution_count": 16,
   "id": "1b203bbd",
   "metadata": {},
   "outputs": [
    {
     "name": "stdout",
     "output_type": "stream",
     "text": [
      "2 , 4 , 6 , 8 , 10 , 12 , 14 , 16 , 18 , 20 , "
     ]
    }
   ],
   "source": [
    "i = 1\n",
    "while i<=20:\n",
    "    if i%2==0:\n",
    "        print(i, end=\" , \")\n",
    "    \n",
    "    i+=1"
   ]
  },
  {
   "cell_type": "code",
   "execution_count": 19,
   "id": "60b6b855",
   "metadata": {},
   "outputs": [
    {
     "data": {
      "text/plain": [
       "[1, 2, 3, 4, 5, 6, 7, 8, 9, 10, 11, 12, 13, 14, 15, 16, 17, 18, 19, 20]"
      ]
     },
     "execution_count": 19,
     "metadata": {},
     "output_type": "execute_result"
    }
   ],
   "source": [
    "list(range(1,21))"
   ]
  },
  {
   "cell_type": "code",
   "execution_count": 23,
   "id": "9f7bb84b",
   "metadata": {},
   "outputs": [
    {
     "name": "stdout",
     "output_type": "stream",
     "text": [
      "2 4 6 8 10 12 14 16 18 20 "
     ]
    }
   ],
   "source": [
    "for i in range(1,21):\n",
    "    if i%2==0:\n",
    "        print(i, end=\" \")"
   ]
  },
  {
   "cell_type": "code",
   "execution_count": 25,
   "id": "ae38f3a6",
   "metadata": {},
   "outputs": [
    {
     "name": "stdout",
     "output_type": "stream",
     "text": [
      "2 4 6 8 10 12 14 16 18 20 "
     ]
    }
   ],
   "source": [
    "for i in range(2,21,2):\n",
    "    print(i, end=\" \")\n"
   ]
  },
  {
   "cell_type": "code",
   "execution_count": 28,
   "id": "81ecbffb",
   "metadata": {},
   "outputs": [
    {
     "name": "stdout",
     "output_type": "stream",
     "text": [
      "1, 3, 5, 7, 9, 11, 13, 15, 17, 19, \n",
      "no elements left\n"
     ]
    }
   ],
   "source": [
    "for i in range(1,21,2):\n",
    "    print(i, end=\", \")\n",
    "else:\n",
    "    print()\n",
    "    print('no elements left')"
   ]
  },
  {
   "cell_type": "code",
   "execution_count": 29,
   "id": "39be9005",
   "metadata": {},
   "outputs": [],
   "source": [
    "n = 7 "
   ]
  },
  {
   "cell_type": "code",
   "execution_count": 32,
   "id": "84e035d7",
   "metadata": {},
   "outputs": [
    {
     "name": "stdout",
     "output_type": "stream",
     "text": [
      "7 x 1 = 7\n",
      "7 x 2 = 14\n",
      "7 x 3 = 21\n",
      "7 x 4 = 28\n",
      "7 x 5 = 35\n",
      "7 x 6 = 42\n",
      "7 x 7 = 49\n",
      "7 x 8 = 56\n",
      "7 x 9 = 63\n",
      "7 x 10 = 70\n",
      "No elements left\n",
      "All done\n"
     ]
    }
   ],
   "source": [
    "for i in range(1,11):\n",
    "    print(\"{} x {} = {}\".format(n, i,n*i))\n",
    "else:\n",
    "    print('No elements left')\n",
    "    print('All done')"
   ]
  },
  {
   "cell_type": "code",
   "execution_count": 36,
   "id": "41a283b4",
   "metadata": {},
   "outputs": [],
   "source": [
    "n = 5\n",
    "# *\n",
    "# **\n",
    "# ***\n",
    "# ****\n",
    "# *****"
   ]
  },
  {
   "cell_type": "code",
   "execution_count": 42,
   "id": "677c5c3e",
   "metadata": {},
   "outputs": [
    {
     "name": "stdout",
     "output_type": "stream",
     "text": [
      "* \n",
      "* * \n",
      "* * * \n",
      "* * * * \n",
      "* * * * * \n"
     ]
    }
   ],
   "source": [
    "for i in range(1,n+1):\n",
    "    for j in range(1,i+1):\n",
    "        print('*', end=\" \")\n",
    "    print(end='\\n')\n",
    "        "
   ]
  },
  {
   "cell_type": "code",
   "execution_count": 43,
   "id": "af41a5b5",
   "metadata": {},
   "outputs": [
    {
     "data": {
      "text/plain": [
       "'HelloHelloHello'"
      ]
     },
     "execution_count": 43,
     "metadata": {},
     "output_type": "execute_result"
    }
   ],
   "source": [
    "\"Hello\"*3"
   ]
  },
  {
   "cell_type": "code",
   "execution_count": 54,
   "id": "4624af1e",
   "metadata": {},
   "outputs": [
    {
     "name": "stdout",
     "output_type": "stream",
     "text": [
      "* \n",
      "* * \n",
      "* * * \n",
      "* * * * \n",
      "* * * * * \n"
     ]
    }
   ],
   "source": [
    "for i in range(1,n+1):\n",
    "    print(('* ') * i)\n"
   ]
  },
  {
   "cell_type": "code",
   "execution_count": 60,
   "id": "6b970d55",
   "metadata": {},
   "outputs": [],
   "source": [
    "n = 5\n",
    "# *****\n",
    "# ****\n",
    "# ***\n",
    "# **\n",
    "# *"
   ]
  },
  {
   "cell_type": "code",
   "execution_count": 63,
   "id": "31988fb2",
   "metadata": {},
   "outputs": [
    {
     "name": "stdout",
     "output_type": "stream",
     "text": [
      "*****\n",
      "****\n",
      "***\n",
      "**\n",
      "*\n"
     ]
    }
   ],
   "source": [
    "for i in range(n,0,-1):\n",
    "    print(('*')*i)"
   ]
  },
  {
   "cell_type": "code",
   "execution_count": 69,
   "id": "a4fff1de",
   "metadata": {},
   "outputs": [
    {
     "name": "stdout",
     "output_type": "stream",
     "text": [
      "enter n :10\n"
     ]
    }
   ],
   "source": [
    "number = int(input('enter n :', ))"
   ]
  },
  {
   "cell_type": "code",
   "execution_count": 70,
   "id": "60e13a53",
   "metadata": {},
   "outputs": [
    {
     "data": {
      "text/plain": [
       "10"
      ]
     },
     "execution_count": 70,
     "metadata": {},
     "output_type": "execute_result"
    }
   ],
   "source": [
    "number"
   ]
  },
  {
   "cell_type": "code",
   "execution_count": 71,
   "id": "f9ec8fb9",
   "metadata": {},
   "outputs": [
    {
     "name": "stdout",
     "output_type": "stream",
     "text": [
      "The sum of first 10 numbers are 55\n"
     ]
    }
   ],
   "source": [
    "s = 0\n",
    "for i in range(1,number+1):\n",
    "    s+=i\n",
    "    \n",
    "print(\"The sum of first {} numbers are {}\".format(number, s))"
   ]
  },
  {
   "cell_type": "code",
   "execution_count": 118,
   "id": "fb6c4da1",
   "metadata": {},
   "outputs": [
    {
     "name": "stdout",
     "output_type": "stream",
     "text": [
      "Enter any number :6\n"
     ]
    }
   ],
   "source": [
    "numb = int(input('Enter any number :', ))"
   ]
  },
  {
   "cell_type": "code",
   "execution_count": 119,
   "id": "0a79f378",
   "metadata": {},
   "outputs": [],
   "source": [
    "is_prime = True\n",
    "\n",
    "for i in range(2,numb):\n",
    "    if numb%i==0:\n",
    "        is_prime = False"
   ]
  },
  {
   "cell_type": "code",
   "execution_count": 120,
   "id": "e44d1ebb",
   "metadata": {},
   "outputs": [
    {
     "name": "stdout",
     "output_type": "stream",
     "text": [
      "The given number is not prime\n"
     ]
    }
   ],
   "source": [
    "if (is_prime):\n",
    "    print(\"Number is prime\".format(numb))\n",
    "else:\n",
    "    print(\"The given number is not prime\".format(numb))"
   ]
  },
  {
   "cell_type": "code",
   "execution_count": 125,
   "id": "c5951332",
   "metadata": {},
   "outputs": [
    {
     "name": "stdout",
     "output_type": "stream",
     "text": [
      "1\n",
      "2\n",
      "3\n",
      "4\n",
      "6\n",
      "7\n",
      "8\n",
      "9\n",
      "This is a break statment and no element left\n"
     ]
    }
   ],
   "source": [
    "for i in range(1,10):\n",
    "    if i==5:\n",
    "        continue\n",
    "    print(i)\n",
    "else:\n",
    "    print('This is a break statment and no element left')"
   ]
  },
  {
   "cell_type": "code",
   "execution_count": 127,
   "id": "5bbf4e44",
   "metadata": {},
   "outputs": [],
   "source": [
    "if (4>6):\n",
    "    pass"
   ]
  },
  {
   "cell_type": "code",
   "execution_count": 129,
   "id": "1dbc83c2",
   "metadata": {},
   "outputs": [],
   "source": [
    "for i in range(1,10):\n",
    "    pass"
   ]
  },
  {
   "cell_type": "code",
   "execution_count": 130,
   "id": "55d5deb9",
   "metadata": {},
   "outputs": [],
   "source": [
    "# Inbuilt data stractures"
   ]
  },
  {
   "cell_type": "code",
   "execution_count": 1,
   "id": "d65f4a6d",
   "metadata": {},
   "outputs": [],
   "source": [
    "my_str = \"Welcome to the course\""
   ]
  },
  {
   "cell_type": "code",
   "execution_count": 2,
   "id": "4c5ea424",
   "metadata": {},
   "outputs": [
    {
     "name": "stdout",
     "output_type": "stream",
     "text": [
      "Welcome to the course\n"
     ]
    }
   ],
   "source": [
    "print(my_str)"
   ]
  },
  {
   "cell_type": "code",
   "execution_count": 3,
   "id": "4a7d65b3",
   "metadata": {},
   "outputs": [
    {
     "data": {
      "text/plain": [
       "str"
      ]
     },
     "execution_count": 3,
     "metadata": {},
     "output_type": "execute_result"
    }
   ],
   "source": [
    "type(my_str)"
   ]
  },
  {
   "cell_type": "code",
   "execution_count": 4,
   "id": "e85e662f",
   "metadata": {},
   "outputs": [
    {
     "name": "stdout",
     "output_type": "stream",
     "text": [
      "<class 'str'>\n"
     ]
    }
   ],
   "source": [
    "print(type(my_str))"
   ]
  },
  {
   "cell_type": "code",
   "execution_count": 7,
   "id": "0d27d75c",
   "metadata": {},
   "outputs": [
    {
     "name": "stdout",
     "output_type": "stream",
     "text": [
      "W\n"
     ]
    }
   ],
   "source": [
    "print(my_str[0])"
   ]
  },
  {
   "cell_type": "code",
   "execution_count": 8,
   "id": "11eb446e",
   "metadata": {},
   "outputs": [
    {
     "name": "stdout",
     "output_type": "stream",
     "text": [
      "e\n"
     ]
    }
   ],
   "source": [
    "print(my_str[1])"
   ]
  },
  {
   "cell_type": "code",
   "execution_count": 10,
   "id": "4f17f900",
   "metadata": {},
   "outputs": [
    {
     "data": {
      "text/plain": [
       "21"
      ]
     },
     "execution_count": 10,
     "metadata": {},
     "output_type": "execute_result"
    }
   ],
   "source": [
    "len(my_str)"
   ]
  },
  {
   "cell_type": "code",
   "execution_count": 11,
   "id": "78754b2a",
   "metadata": {},
   "outputs": [
    {
     "data": {
      "text/plain": [
       "'e'"
      ]
     },
     "execution_count": 11,
     "metadata": {},
     "output_type": "execute_result"
    }
   ],
   "source": [
    "my_str[20]"
   ]
  },
  {
   "cell_type": "code",
   "execution_count": 14,
   "id": "fc15ddf2",
   "metadata": {},
   "outputs": [
    {
     "data": {
      "text/plain": [
       "'e'"
      ]
     },
     "execution_count": 14,
     "metadata": {},
     "output_type": "execute_result"
    }
   ],
   "source": [
    "my_str[len(my_str)-1]"
   ]
  },
  {
   "cell_type": "code",
   "execution_count": 15,
   "id": "f1d16ee3",
   "metadata": {},
   "outputs": [
    {
     "data": {
      "text/plain": [
       "'e'"
      ]
     },
     "execution_count": 15,
     "metadata": {},
     "output_type": "execute_result"
    }
   ],
   "source": [
    "my_str[-1]"
   ]
  },
  {
   "cell_type": "code",
   "execution_count": 16,
   "id": "598389db",
   "metadata": {},
   "outputs": [
    {
     "data": {
      "text/plain": [
       "'o'"
      ]
     },
     "execution_count": 16,
     "metadata": {},
     "output_type": "execute_result"
    }
   ],
   "source": [
    "my_str[-5]"
   ]
  },
  {
   "cell_type": "code",
   "execution_count": 17,
   "id": "aa727937",
   "metadata": {},
   "outputs": [
    {
     "name": "stdout",
     "output_type": "stream",
     "text": [
      "Welcome to the course\n"
     ]
    }
   ],
   "source": [
    "print(my_str)"
   ]
  },
  {
   "cell_type": "code",
   "execution_count": 19,
   "id": "1d91c76f",
   "metadata": {},
   "outputs": [
    {
     "name": "stdout",
     "output_type": "stream",
     "text": [
      "Welcome\n"
     ]
    }
   ],
   "source": [
    "print(my_str[0:7])"
   ]
  },
  {
   "cell_type": "code",
   "execution_count": 21,
   "id": "f9232a4c",
   "metadata": {},
   "outputs": [
    {
     "name": "stdout",
     "output_type": "stream",
     "text": [
      "ome to the \n"
     ]
    }
   ],
   "source": [
    "print(my_str[4:15])"
   ]
  },
  {
   "cell_type": "code",
   "execution_count": 23,
   "id": "f0aa4c45",
   "metadata": {},
   "outputs": [
    {
     "name": "stdout",
     "output_type": "stream",
     "text": [
      "Welcome to the cours\n"
     ]
    }
   ],
   "source": [
    "print(my_str[:-1])"
   ]
  },
  {
   "cell_type": "code",
   "execution_count": 24,
   "id": "eed95077",
   "metadata": {},
   "outputs": [
    {
     "data": {
      "text/plain": [
       "'Welcome to the course'"
      ]
     },
     "execution_count": 24,
     "metadata": {},
     "output_type": "execute_result"
    }
   ],
   "source": [
    "my_str[:]"
   ]
  },
  {
   "cell_type": "code",
   "execution_count": 25,
   "id": "f9ea1b4b",
   "metadata": {},
   "outputs": [
    {
     "data": {
      "text/plain": [
       "'loet h'"
      ]
     },
     "execution_count": 25,
     "metadata": {},
     "output_type": "execute_result"
    }
   ],
   "source": [
    "my_str[2:14:2]"
   ]
  },
  {
   "cell_type": "code",
   "execution_count": 29,
   "id": "5d35008c",
   "metadata": {},
   "outputs": [
    {
     "data": {
      "text/plain": [
       "'eu tt'"
      ]
     },
     "execution_count": 29,
     "metadata": {},
     "output_type": "execute_result"
    }
   ],
   "source": [
    "my_str[20:5:-3]"
   ]
  },
  {
   "cell_type": "code",
   "execution_count": 30,
   "id": "35d69e5f",
   "metadata": {},
   "outputs": [
    {
     "data": {
      "text/plain": [
       "'Welcome to the course'"
      ]
     },
     "execution_count": 30,
     "metadata": {},
     "output_type": "execute_result"
    }
   ],
   "source": [
    "my_str"
   ]
  },
  {
   "cell_type": "code",
   "execution_count": 31,
   "id": "c015e225",
   "metadata": {},
   "outputs": [
    {
     "data": {
      "text/plain": [
       "'esruoc eht ot emocleW'"
      ]
     },
     "execution_count": 31,
     "metadata": {},
     "output_type": "execute_result"
    }
   ],
   "source": [
    "my_str[::-1]"
   ]
  },
  {
   "cell_type": "code",
   "execution_count": 32,
   "id": "b15f3556",
   "metadata": {},
   "outputs": [
    {
     "name": "stdout",
     "output_type": "stream",
     "text": [
      "Welcome to the course\n"
     ]
    }
   ],
   "source": [
    "print(my_str)"
   ]
  },
  {
   "cell_type": "code",
   "execution_count": 33,
   "id": "34430d6f",
   "metadata": {},
   "outputs": [
    {
     "data": {
      "text/plain": [
       "'WELCOME TO THE COURSE'"
      ]
     },
     "execution_count": 33,
     "metadata": {},
     "output_type": "execute_result"
    }
   ],
   "source": [
    "my_str.upper()"
   ]
  },
  {
   "cell_type": "code",
   "execution_count": 34,
   "id": "1b9a639e",
   "metadata": {},
   "outputs": [
    {
     "data": {
      "text/plain": [
       "'welcome to the course'"
      ]
     },
     "execution_count": 34,
     "metadata": {},
     "output_type": "execute_result"
    }
   ],
   "source": [
    "my_str.lower()"
   ]
  },
  {
   "cell_type": "code",
   "execution_count": 35,
   "id": "e42b3720",
   "metadata": {},
   "outputs": [
    {
     "data": {
      "text/plain": [
       "'Welcome To The Course'"
      ]
     },
     "execution_count": 35,
     "metadata": {},
     "output_type": "execute_result"
    }
   ],
   "source": [
    "my_str.title()"
   ]
  },
  {
   "cell_type": "code",
   "execution_count": 36,
   "id": "8b49a184",
   "metadata": {},
   "outputs": [
    {
     "data": {
      "text/plain": [
       "'Welcome to the course'"
      ]
     },
     "execution_count": 36,
     "metadata": {},
     "output_type": "execute_result"
    }
   ],
   "source": [
    "my_str.capitalize()"
   ]
  },
  {
   "cell_type": "code",
   "execution_count": 37,
   "id": "be57396a",
   "metadata": {},
   "outputs": [
    {
     "data": {
      "text/plain": [
       "3"
      ]
     },
     "execution_count": 37,
     "metadata": {},
     "output_type": "execute_result"
    }
   ],
   "source": [
    "my_str.find('come')"
   ]
  },
  {
   "cell_type": "code",
   "execution_count": 38,
   "id": "5717c95d",
   "metadata": {},
   "outputs": [
    {
     "data": {
      "text/plain": [
       "-1"
      ]
     },
     "execution_count": 38,
     "metadata": {},
     "output_type": "execute_result"
    }
   ],
   "source": [
    "my_str.find('machine')"
   ]
  },
  {
   "cell_type": "code",
   "execution_count": 44,
   "id": "3a88b360",
   "metadata": {},
   "outputs": [
    {
     "data": {
      "text/plain": [
       "['Welcome', 'to', 'the', 'course']"
      ]
     },
     "execution_count": 44,
     "metadata": {},
     "output_type": "execute_result"
    }
   ],
   "source": [
    "my_str.split()"
   ]
  },
  {
   "cell_type": "code",
   "execution_count": 47,
   "id": "01fbfd8e",
   "metadata": {},
   "outputs": [
    {
     "data": {
      "text/plain": [
       "1"
      ]
     },
     "execution_count": 47,
     "metadata": {},
     "output_type": "execute_result"
    }
   ],
   "source": [
    "my_str.count('u')"
   ]
  },
  {
   "cell_type": "code",
   "execution_count": 49,
   "id": "6ff4cd2b",
   "metadata": {},
   "outputs": [
    {
     "data": {
      "text/plain": [
       "'Welcome to the programme'"
      ]
     },
     "execution_count": 49,
     "metadata": {},
     "output_type": "execute_result"
    }
   ],
   "source": [
    "my_str.replace('course', 'programme')"
   ]
  },
  {
   "cell_type": "code",
   "execution_count": 50,
   "id": "c62291bf",
   "metadata": {},
   "outputs": [
    {
     "data": {
      "text/plain": [
       "'Welcome to the course'"
      ]
     },
     "execution_count": 50,
     "metadata": {},
     "output_type": "execute_result"
    }
   ],
   "source": [
    "my_str"
   ]
  },
  {
   "cell_type": "code",
   "execution_count": 52,
   "id": "26f11e8f",
   "metadata": {},
   "outputs": [
    {
     "data": {
      "text/plain": [
       "'go to the course'"
      ]
     },
     "execution_count": 52,
     "metadata": {},
     "output_type": "execute_result"
    }
   ],
   "source": [
    "my_str.replace('Welcome', 'go')"
   ]
  },
  {
   "cell_type": "code",
   "execution_count": 53,
   "id": "82fe1de6",
   "metadata": {},
   "outputs": [
    {
     "name": "stdout",
     "output_type": "stream",
     "text": [
      "Enter your string :         my name is python    \n"
     ]
    }
   ],
   "source": [
    "name = input('Enter your string : '  )"
   ]
  },
  {
   "cell_type": "code",
   "execution_count": 55,
   "id": "18493cd2",
   "metadata": {},
   "outputs": [
    {
     "data": {
      "text/plain": [
       "29"
      ]
     },
     "execution_count": 55,
     "metadata": {},
     "output_type": "execute_result"
    }
   ],
   "source": [
    "len(name)"
   ]
  },
  {
   "cell_type": "code",
   "execution_count": 57,
   "id": "0687e7a7",
   "metadata": {},
   "outputs": [
    {
     "data": {
      "text/plain": [
       "'my name is python'"
      ]
     },
     "execution_count": 57,
     "metadata": {},
     "output_type": "execute_result"
    }
   ],
   "source": [
    "name.strip()"
   ]
  },
  {
   "cell_type": "code",
   "execution_count": 59,
   "id": "277a0a63",
   "metadata": {},
   "outputs": [
    {
     "data": {
      "text/plain": [
       "'my name is python    '"
      ]
     },
     "execution_count": 59,
     "metadata": {},
     "output_type": "execute_result"
    }
   ],
   "source": [
    "name.lstrip()"
   ]
  },
  {
   "cell_type": "code",
   "execution_count": 60,
   "id": "1b64fdf1",
   "metadata": {},
   "outputs": [
    {
     "data": {
      "text/plain": [
       "'        my name is python'"
      ]
     },
     "execution_count": 60,
     "metadata": {},
     "output_type": "execute_result"
    }
   ],
   "source": [
    "name.rstrip()"
   ]
  },
  {
   "cell_type": "code",
   "execution_count": 63,
   "id": "f96f0975",
   "metadata": {},
   "outputs": [],
   "source": [
    "s1 = \"abc\"\n",
    "s2 = 'pqr'"
   ]
  },
  {
   "cell_type": "code",
   "execution_count": 65,
   "id": "881bda9d",
   "metadata": {},
   "outputs": [
    {
     "name": "stdout",
     "output_type": "stream",
     "text": [
      "abcpqr\n"
     ]
    }
   ],
   "source": [
    "print(s1+s2)"
   ]
  },
  {
   "cell_type": "code",
   "execution_count": 67,
   "id": "f6affa8b",
   "metadata": {},
   "outputs": [
    {
     "data": {
      "text/plain": [
       "'abc3'"
      ]
     },
     "execution_count": 67,
     "metadata": {},
     "output_type": "execute_result"
    }
   ],
   "source": [
    "s1 + str(3)"
   ]
  },
  {
   "cell_type": "code",
   "execution_count": 68,
   "id": "3efe79d5",
   "metadata": {},
   "outputs": [
    {
     "data": {
      "text/plain": [
       "'hellohellohellohellohellohello'"
      ]
     },
     "execution_count": 68,
     "metadata": {},
     "output_type": "execute_result"
    }
   ],
   "source": [
    "\"hello\"*6"
   ]
  },
  {
   "cell_type": "code",
   "execution_count": 69,
   "id": "20014f06",
   "metadata": {},
   "outputs": [],
   "source": [
    "inp_str = \"This is an Input string to count vowels.\""
   ]
  },
  {
   "cell_type": "code",
   "execution_count": 70,
   "id": "001bc559",
   "metadata": {},
   "outputs": [
    {
     "name": "stdout",
     "output_type": "stream",
     "text": [
      "The number of vowels in the string are 11\n"
     ]
    }
   ],
   "source": [
    "cnt = 0\n",
    "\n",
    "for i in inp_str:\n",
    "    if i in 'aeiouAEIOU':\n",
    "        cnt+=1\n",
    "        \n",
    "print('The number of vowels in the string are {}'.format(cnt))"
   ]
  },
  {
   "cell_type": "code",
   "execution_count": 87,
   "id": "58a88934",
   "metadata": {},
   "outputs": [],
   "source": [
    "inp_str = \"coding\"\n"
   ]
  },
  {
   "cell_type": "code",
   "execution_count": 88,
   "id": "271f773c",
   "metadata": {},
   "outputs": [],
   "source": [
    "rev_str = inp_str[::-1]"
   ]
  },
  {
   "cell_type": "code",
   "execution_count": 89,
   "id": "da17b24f",
   "metadata": {},
   "outputs": [
    {
     "name": "stdout",
     "output_type": "stream",
     "text": [
      "The given string is not  palindrome: coding\n"
     ]
    }
   ],
   "source": [
    "if inp_str==rev_str:\n",
    "    print(\"The given string is palindrome {}\".format(inp_str))\n",
    "    \n",
    "else:\n",
    "    print('The given string is not  palindrome: {}'.format(inp_str))"
   ]
  },
  {
   "cell_type": "code",
   "execution_count": 98,
   "id": "c94395b2",
   "metadata": {},
   "outputs": [
    {
     "name": "stdout",
     "output_type": "stream",
     "text": [
      "The given string is palindrome : madam\n"
     ]
    }
   ],
   "source": [
    "inp_str = \"madam\"\n",
    "is_plindrome = True\n",
    "start = 0\n",
    "end = len(inp_str)-1\n",
    "\n",
    "while (start<=end):\n",
    "    if (inp_str[start] != inp_str[end]):\n",
    "        is_plindrome = False\n",
    "        break\n",
    "        \n",
    "    start+=1\n",
    "    end-=1\n",
    "    \n",
    "    \n",
    "        \n",
    "\n",
    "if is_plindrome:\n",
    "    print('The given string is palindrome : {}'.format(inp_str))\n",
    "else:\n",
    "    print('The given string is not palindrome: {}'.format(inp_str))"
   ]
  },
  {
   "cell_type": "code",
   "execution_count": 101,
   "id": "25dcd22f",
   "metadata": {},
   "outputs": [],
   "source": [
    "lst1 = list()"
   ]
  },
  {
   "cell_type": "code",
   "execution_count": 102,
   "id": "7205666a",
   "metadata": {},
   "outputs": [],
   "source": [
    "lst2 = []"
   ]
  },
  {
   "cell_type": "code",
   "execution_count": 103,
   "id": "30cd4633",
   "metadata": {},
   "outputs": [
    {
     "data": {
      "text/plain": [
       "list"
      ]
     },
     "execution_count": 103,
     "metadata": {},
     "output_type": "execute_result"
    }
   ],
   "source": [
    "type(lst1)"
   ]
  },
  {
   "cell_type": "code",
   "execution_count": 104,
   "id": "3c0f7d30",
   "metadata": {},
   "outputs": [
    {
     "data": {
      "text/plain": [
       "list"
      ]
     },
     "execution_count": 104,
     "metadata": {},
     "output_type": "execute_result"
    }
   ],
   "source": [
    "type(lst2)"
   ]
  },
  {
   "cell_type": "code",
   "execution_count": 105,
   "id": "45e8fa95",
   "metadata": {},
   "outputs": [],
   "source": [
    "my_lst = [6,3,2,8,4]"
   ]
  },
  {
   "cell_type": "code",
   "execution_count": 106,
   "id": "a6390084",
   "metadata": {},
   "outputs": [
    {
     "name": "stdout",
     "output_type": "stream",
     "text": [
      "[6, 3, 2, 8, 4]\n"
     ]
    }
   ],
   "source": [
    "print(my_lst)"
   ]
  },
  {
   "cell_type": "code",
   "execution_count": 154,
   "id": "9464fe41",
   "metadata": {},
   "outputs": [],
   "source": [
    "my_lst = [78,98,36,25]"
   ]
  },
  {
   "cell_type": "code",
   "execution_count": 108,
   "id": "d54d30a3",
   "metadata": {},
   "outputs": [
    {
     "data": {
      "text/plain": [
       "list"
      ]
     },
     "execution_count": 108,
     "metadata": {},
     "output_type": "execute_result"
    }
   ],
   "source": [
    "type(my_lst)"
   ]
  },
  {
   "cell_type": "code",
   "execution_count": 109,
   "id": "3c883711",
   "metadata": {},
   "outputs": [
    {
     "name": "stdout",
     "output_type": "stream",
     "text": [
      "[78, 98, 36, 25]\n"
     ]
    }
   ],
   "source": [
    "print(my_lst)"
   ]
  },
  {
   "cell_type": "code",
   "execution_count": 112,
   "id": "bb25e2ac",
   "metadata": {},
   "outputs": [
    {
     "name": "stdout",
     "output_type": "stream",
     "text": [
      "78\n"
     ]
    }
   ],
   "source": [
    "print(my_lst[0])"
   ]
  },
  {
   "cell_type": "code",
   "execution_count": 113,
   "id": "a6db73d6",
   "metadata": {},
   "outputs": [
    {
     "name": "stdout",
     "output_type": "stream",
     "text": [
      "25\n"
     ]
    }
   ],
   "source": [
    "print(my_lst[-1])"
   ]
  },
  {
   "cell_type": "code",
   "execution_count": 114,
   "id": "73f9f01b",
   "metadata": {},
   "outputs": [
    {
     "data": {
      "text/plain": [
       "4"
      ]
     },
     "execution_count": 114,
     "metadata": {},
     "output_type": "execute_result"
    }
   ],
   "source": [
    "len(my_lst)"
   ]
  },
  {
   "cell_type": "code",
   "execution_count": 118,
   "id": "b5af4ea8",
   "metadata": {},
   "outputs": [
    {
     "name": "stdout",
     "output_type": "stream",
     "text": [
      "[98, 36]\n"
     ]
    }
   ],
   "source": [
    "print(my_lst[1:-1])"
   ]
  },
  {
   "cell_type": "code",
   "execution_count": 119,
   "id": "58f300d8",
   "metadata": {},
   "outputs": [
    {
     "data": {
      "text/plain": [
       "[25, 36, 98, 78]"
      ]
     },
     "execution_count": 119,
     "metadata": {},
     "output_type": "execute_result"
    }
   ],
   "source": [
    "my_lst[::-1]"
   ]
  },
  {
   "cell_type": "code",
   "execution_count": 120,
   "id": "a5d08cb5",
   "metadata": {},
   "outputs": [
    {
     "name": "stdout",
     "output_type": "stream",
     "text": [
      "[78, 98, 36, 25]\n"
     ]
    }
   ],
   "source": [
    "print(my_lst)"
   ]
  },
  {
   "cell_type": "code",
   "execution_count": 122,
   "id": "c9cb9679",
   "metadata": {},
   "outputs": [],
   "source": [
    "my_lst[0]=7800"
   ]
  },
  {
   "cell_type": "code",
   "execution_count": 123,
   "id": "d8148996",
   "metadata": {},
   "outputs": [
    {
     "data": {
      "text/plain": [
       "[7800, 98, 36, 25]"
      ]
     },
     "execution_count": 123,
     "metadata": {},
     "output_type": "execute_result"
    }
   ],
   "source": [
    "my_lst"
   ]
  },
  {
   "cell_type": "code",
   "execution_count": 125,
   "id": "c3a39a5b",
   "metadata": {},
   "outputs": [],
   "source": [
    "my_lst[-1] = 1500"
   ]
  },
  {
   "cell_type": "code",
   "execution_count": 126,
   "id": "095ccf1a",
   "metadata": {},
   "outputs": [
    {
     "data": {
      "text/plain": [
       "[7800, 98, 36, 1500]"
      ]
     },
     "execution_count": 126,
     "metadata": {},
     "output_type": "execute_result"
    }
   ],
   "source": [
    "my_lst\n",
    "\n"
   ]
  },
  {
   "cell_type": "code",
   "execution_count": 128,
   "id": "b039d6fe",
   "metadata": {},
   "outputs": [
    {
     "name": "stdout",
     "output_type": "stream",
     "text": [
      "[7800, 98, 36, 1500]\n"
     ]
    }
   ],
   "source": [
    "print(my_lst)"
   ]
  },
  {
   "cell_type": "code",
   "execution_count": 155,
   "id": "d71de34e",
   "metadata": {},
   "outputs": [],
   "source": [
    "my_lst.append(100)"
   ]
  },
  {
   "cell_type": "code",
   "execution_count": 130,
   "id": "faf7c902",
   "metadata": {},
   "outputs": [
    {
     "data": {
      "text/plain": [
       "[7800, 98, 36, 1500, 100]"
      ]
     },
     "execution_count": 130,
     "metadata": {},
     "output_type": "execute_result"
    }
   ],
   "source": [
    "my_lst"
   ]
  },
  {
   "cell_type": "code",
   "execution_count": 156,
   "id": "98af882e",
   "metadata": {},
   "outputs": [],
   "source": [
    "my_lst.insert(3,800)"
   ]
  },
  {
   "cell_type": "code",
   "execution_count": 132,
   "id": "b1c5f6ca",
   "metadata": {},
   "outputs": [
    {
     "data": {
      "text/plain": [
       "[7800, 98, 36, 800, 1500, 100]"
      ]
     },
     "execution_count": 132,
     "metadata": {},
     "output_type": "execute_result"
    }
   ],
   "source": [
    "\n",
    "my_lst"
   ]
  },
  {
   "cell_type": "code",
   "execution_count": 139,
   "id": "f61dc4bf",
   "metadata": {},
   "outputs": [
    {
     "name": "stdout",
     "output_type": "stream",
     "text": [
      "Deleted element is :  36\n"
     ]
    }
   ],
   "source": [
    "ele = my_lst.pop()\n",
    "print('Deleted element is : ', ele)"
   ]
  },
  {
   "cell_type": "code",
   "execution_count": 140,
   "id": "3e234720",
   "metadata": {},
   "outputs": [
    {
     "data": {
      "text/plain": [
       "[7800, 98]"
      ]
     },
     "execution_count": 140,
     "metadata": {},
     "output_type": "execute_result"
    }
   ],
   "source": [
    "my_lst"
   ]
  },
  {
   "cell_type": "code",
   "execution_count": 145,
   "id": "e0c3cfbf",
   "metadata": {},
   "outputs": [
    {
     "data": {
      "text/plain": [
       "[78, 98, 36, 800, 25, 100]"
      ]
     },
     "execution_count": 145,
     "metadata": {},
     "output_type": "execute_result"
    }
   ],
   "source": [
    "my_lst"
   ]
  },
  {
   "cell_type": "code",
   "execution_count": 148,
   "id": "77bd7c00",
   "metadata": {},
   "outputs": [
    {
     "name": "stdout",
     "output_type": "stream",
     "text": [
      "deleted element is :  36\n"
     ]
    }
   ],
   "source": [
    "ele1 = my_lst.pop(2)\n",
    "print('deleted element is : ', ele)"
   ]
  },
  {
   "cell_type": "code",
   "execution_count": 150,
   "id": "81c549f3",
   "metadata": {},
   "outputs": [
    {
     "name": "stdout",
     "output_type": "stream",
     "text": [
      "[78, 98, 25, 100]\n"
     ]
    }
   ],
   "source": [
    "print(my_lst)"
   ]
  },
  {
   "cell_type": "code",
   "execution_count": 152,
   "id": "1bb85b1c",
   "metadata": {},
   "outputs": [],
   "source": [
    "my_lst.remove(25)"
   ]
  },
  {
   "cell_type": "code",
   "execution_count": 153,
   "id": "74ba825b",
   "metadata": {},
   "outputs": [
    {
     "data": {
      "text/plain": [
       "[78, 98, 100]"
      ]
     },
     "execution_count": 153,
     "metadata": {},
     "output_type": "execute_result"
    }
   ],
   "source": [
    "my_lst"
   ]
  },
  {
   "cell_type": "code",
   "execution_count": 157,
   "id": "100f7b8c",
   "metadata": {},
   "outputs": [
    {
     "data": {
      "text/plain": [
       "[78, 98, 36, 800, 25, 100]"
      ]
     },
     "execution_count": 157,
     "metadata": {},
     "output_type": "execute_result"
    }
   ],
   "source": [
    "my_lst"
   ]
  },
  {
   "cell_type": "code",
   "execution_count": 158,
   "id": "a34d28dd",
   "metadata": {},
   "outputs": [],
   "source": [
    "my_lst.reverse()"
   ]
  },
  {
   "cell_type": "code",
   "execution_count": 159,
   "id": "f0944fea",
   "metadata": {},
   "outputs": [
    {
     "data": {
      "text/plain": [
       "[100, 25, 800, 36, 98, 78]"
      ]
     },
     "execution_count": 159,
     "metadata": {},
     "output_type": "execute_result"
    }
   ],
   "source": [
    "my_lst"
   ]
  },
  {
   "cell_type": "code",
   "execution_count": 162,
   "id": "16b603a2",
   "metadata": {},
   "outputs": [],
   "source": [
    "my_lst.sort(reverse=True)"
   ]
  },
  {
   "cell_type": "code",
   "execution_count": 163,
   "id": "d5ee2e75",
   "metadata": {},
   "outputs": [
    {
     "data": {
      "text/plain": [
       "[800, 100, 98, 78, 36, 25]"
      ]
     },
     "execution_count": 163,
     "metadata": {},
     "output_type": "execute_result"
    }
   ],
   "source": [
    "my_lst"
   ]
  },
  {
   "cell_type": "code",
   "execution_count": 164,
   "id": "f89423ac",
   "metadata": {},
   "outputs": [
    {
     "data": {
      "text/plain": [
       "[800, 100, 98, 78, 36, 25]"
      ]
     },
     "execution_count": 164,
     "metadata": {},
     "output_type": "execute_result"
    }
   ],
   "source": [
    "my_lst"
   ]
  },
  {
   "cell_type": "code",
   "execution_count": 165,
   "id": "e63ddd7f",
   "metadata": {},
   "outputs": [
    {
     "data": {
      "text/plain": [
       "True"
      ]
     },
     "execution_count": 165,
     "metadata": {},
     "output_type": "execute_result"
    }
   ],
   "source": [
    "100 in my_lst"
   ]
  },
  {
   "cell_type": "code",
   "execution_count": 166,
   "id": "00ba9b2d",
   "metadata": {},
   "outputs": [
    {
     "data": {
      "text/plain": [
       "False"
      ]
     },
     "execution_count": 166,
     "metadata": {},
     "output_type": "execute_result"
    }
   ],
   "source": [
    "98 not in my_lst"
   ]
  },
  {
   "cell_type": "code",
   "execution_count": 167,
   "id": "969e3ebe",
   "metadata": {},
   "outputs": [
    {
     "name": "stdout",
     "output_type": "stream",
     "text": [
      "[800, 100, 98, 78, 36, 25]\n"
     ]
    }
   ],
   "source": [
    "print(my_lst)"
   ]
  },
  {
   "cell_type": "code",
   "execution_count": 168,
   "id": "29f92f38",
   "metadata": {},
   "outputs": [],
   "source": [
    "my_lst.append(1200)"
   ]
  },
  {
   "cell_type": "code",
   "execution_count": 169,
   "id": "a0959236",
   "metadata": {},
   "outputs": [
    {
     "data": {
      "text/plain": [
       "[800, 100, 98, 78, 36, 25, 1200]"
      ]
     },
     "execution_count": 169,
     "metadata": {},
     "output_type": "execute_result"
    }
   ],
   "source": [
    "my_lst"
   ]
  },
  {
   "cell_type": "code",
   "execution_count": 170,
   "id": "890ebb6d",
   "metadata": {},
   "outputs": [],
   "source": [
    "my_lst.append([12,25,36])"
   ]
  },
  {
   "cell_type": "code",
   "execution_count": 171,
   "id": "2beb0547",
   "metadata": {},
   "outputs": [
    {
     "data": {
      "text/plain": [
       "[800, 100, 98, 78, 36, 25, 1200, [12, 25, 36]]"
      ]
     },
     "execution_count": 171,
     "metadata": {},
     "output_type": "execute_result"
    }
   ],
   "source": [
    "my_lst"
   ]
  },
  {
   "cell_type": "code",
   "execution_count": 172,
   "id": "3498d516",
   "metadata": {},
   "outputs": [],
   "source": [
    "my_lst.extend([25,98,78])"
   ]
  },
  {
   "cell_type": "code",
   "execution_count": 173,
   "id": "6ed10ea4",
   "metadata": {},
   "outputs": [
    {
     "data": {
      "text/plain": [
       "[800, 100, 98, 78, 36, 25, 1200, [12, 25, 36], 25, 98, 78]"
      ]
     },
     "execution_count": 173,
     "metadata": {},
     "output_type": "execute_result"
    }
   ],
   "source": [
    "my_lst"
   ]
  },
  {
   "cell_type": "code",
   "execution_count": 174,
   "id": "5a361253",
   "metadata": {},
   "outputs": [
    {
     "data": {
      "text/plain": [
       "[800, 100, 98, 78, 36, 25, 1200, [12, 25, 36], 25, 98, 78, 26, 36, 45]"
      ]
     },
     "execution_count": 174,
     "metadata": {},
     "output_type": "execute_result"
    }
   ],
   "source": [
    "my_lst + [26,36,45]"
   ]
  },
  {
   "cell_type": "code",
   "execution_count": 177,
   "id": "33faaf91",
   "metadata": {},
   "outputs": [],
   "source": [
    "my_lst2 = [12,36,45,23.36,2.8,True, False, 6+9j,[9,8,7],'Python', \n",
    "           'machine learning' , (4,8,9), {\"name\":'sanjay', 'age':30}]"
   ]
  },
  {
   "cell_type": "code",
   "execution_count": 178,
   "id": "a212f674",
   "metadata": {},
   "outputs": [
    {
     "data": {
      "text/plain": [
       "list"
      ]
     },
     "execution_count": 178,
     "metadata": {},
     "output_type": "execute_result"
    }
   ],
   "source": [
    "type(my_lst2)"
   ]
  },
  {
   "cell_type": "code",
   "execution_count": 179,
   "id": "7fce24b4",
   "metadata": {},
   "outputs": [
    {
     "data": {
      "text/plain": [
       "13"
      ]
     },
     "execution_count": 179,
     "metadata": {},
     "output_type": "execute_result"
    }
   ],
   "source": [
    "len(my_lst2)"
   ]
  },
  {
   "cell_type": "code",
   "execution_count": 180,
   "id": "27a89bc7",
   "metadata": {},
   "outputs": [
    {
     "ename": "TypeError",
     "evalue": "'<' not supported between instances of 'complex' and 'int'",
     "output_type": "error",
     "traceback": [
      "\u001b[1;31m---------------------------------------------------------------------------\u001b[0m",
      "\u001b[1;31mTypeError\u001b[0m                                 Traceback (most recent call last)",
      "\u001b[1;32m<ipython-input-180-8393f60a35d8>\u001b[0m in \u001b[0;36m<module>\u001b[1;34m\u001b[0m\n\u001b[1;32m----> 1\u001b[1;33m \u001b[0mmy_lst2\u001b[0m\u001b[1;33m.\u001b[0m\u001b[0msort\u001b[0m\u001b[1;33m(\u001b[0m\u001b[1;33m)\u001b[0m\u001b[1;33m\u001b[0m\u001b[1;33m\u001b[0m\u001b[0m\n\u001b[0m",
      "\u001b[1;31mTypeError\u001b[0m: '<' not supported between instances of 'complex' and 'int'"
     ]
    }
   ],
   "source": [
    "my_lst2.sort()"
   ]
  },
  {
   "cell_type": "code",
   "execution_count": 181,
   "id": "0fda8d9c",
   "metadata": {},
   "outputs": [],
   "source": [
    "my_lst2.reverse()"
   ]
  },
  {
   "cell_type": "code",
   "execution_count": 182,
   "id": "45d75fef",
   "metadata": {},
   "outputs": [
    {
     "data": {
      "text/plain": [
       "[{'name': 'sanjay', 'age': 30},\n",
       " (4, 8, 9),\n",
       " 'machine learning',\n",
       " 'Python',\n",
       " [9, 8, 7],\n",
       " (6+9j),\n",
       " 45,\n",
       " 36,\n",
       " 23.36,\n",
       " 12,\n",
       " 2.8,\n",
       " True,\n",
       " False]"
      ]
     },
     "execution_count": 182,
     "metadata": {},
     "output_type": "execute_result"
    }
   ],
   "source": [
    "my_lst2"
   ]
  },
  {
   "cell_type": "code",
   "execution_count": 183,
   "id": "f87200ab",
   "metadata": {},
   "outputs": [],
   "source": [
    "s = \"This is python practice with machine learning\""
   ]
  },
  {
   "cell_type": "code",
   "execution_count": 185,
   "id": "1d44cd5a",
   "metadata": {},
   "outputs": [],
   "source": [
    "str_lst = s.split()"
   ]
  },
  {
   "cell_type": "code",
   "execution_count": 186,
   "id": "ee740c69",
   "metadata": {},
   "outputs": [
    {
     "name": "stdout",
     "output_type": "stream",
     "text": [
      "['This', 'is', 'python', 'practice', 'with', 'machine', 'learning']\n"
     ]
    }
   ],
   "source": [
    "print(str_lst)"
   ]
  },
  {
   "cell_type": "code",
   "execution_count": 188,
   "id": "c6f639e7",
   "metadata": {},
   "outputs": [],
   "source": [
    "s = \" \".join(str_lst)"
   ]
  },
  {
   "cell_type": "code",
   "execution_count": 189,
   "id": "8a447dc2",
   "metadata": {},
   "outputs": [
    {
     "data": {
      "text/plain": [
       "'This is python practice with machine learning'"
      ]
     },
     "execution_count": 189,
     "metadata": {},
     "output_type": "execute_result"
    }
   ],
   "source": [
    "s"
   ]
  },
  {
   "cell_type": "code",
   "execution_count": 193,
   "id": "e3b9e3a7",
   "metadata": {},
   "outputs": [
    {
     "name": "stdout",
     "output_type": "stream",
     "text": [
      "{'name': 'sanjay', 'age': 30}\n",
      "(4, 8, 9)\n",
      "machine learning\n",
      "Python\n",
      "[9, 8, 7]\n",
      "(6+9j)\n",
      "45\n",
      "36\n",
      "23.36\n",
      "12\n",
      "2.8\n",
      "True\n",
      "False\n"
     ]
    }
   ],
   "source": [
    "for i in my_lst2:\n",
    "    print(i)"
   ]
  },
  {
   "cell_type": "code",
   "execution_count": 196,
   "id": "4899c4c9",
   "metadata": {},
   "outputs": [],
   "source": [
    "my_lst = list(range(1,11))"
   ]
  },
  {
   "cell_type": "code",
   "execution_count": 197,
   "id": "4769b5b8",
   "metadata": {},
   "outputs": [
    {
     "name": "stdout",
     "output_type": "stream",
     "text": [
      "[1, 2, 3, 4, 5, 6, 7, 8, 9, 10]\n"
     ]
    }
   ],
   "source": [
    "print(my_lst)"
   ]
  },
  {
   "cell_type": "code",
   "execution_count": 208,
   "id": "b53e2912",
   "metadata": {},
   "outputs": [],
   "source": [
    "l = []\n",
    "for i in my_lst:\n",
    "    if i%2==0:\n",
    "        l.append(i**2)\n",
    "    else:\n",
    "        l.append(i**3)"
   ]
  },
  {
   "cell_type": "code",
   "execution_count": 209,
   "id": "052eef8a",
   "metadata": {},
   "outputs": [
    {
     "data": {
      "text/plain": [
       "[1, 4, 27, 16, 125, 36, 343, 64, 729, 100]"
      ]
     },
     "execution_count": 209,
     "metadata": {},
     "output_type": "execute_result"
    }
   ],
   "source": [
    "l"
   ]
  },
  {
   "cell_type": "code",
   "execution_count": 215,
   "id": "0bb6f8a7",
   "metadata": {},
   "outputs": [
    {
     "data": {
      "text/plain": [
       "[1, 4, 27, 16, 125, 36, 343, 64, 729, 100]"
      ]
     },
     "execution_count": 215,
     "metadata": {},
     "output_type": "execute_result"
    }
   ],
   "source": [
    "[i**2 if i%2==0 else i**3 for i in my_lst]"
   ]
  },
  {
   "cell_type": "code",
   "execution_count": 216,
   "id": "35aa8fe9",
   "metadata": {},
   "outputs": [],
   "source": [
    "lst_2d = [[1,2,3],[4,5,6],[7,8,9],[10,11,12]]"
   ]
  },
  {
   "cell_type": "code",
   "execution_count": 217,
   "id": "0ebd8379",
   "metadata": {},
   "outputs": [
    {
     "name": "stdout",
     "output_type": "stream",
     "text": [
      "[[1, 2, 3], [4, 5, 6], [7, 8, 9], [10, 11, 12]]\n"
     ]
    }
   ],
   "source": [
    "print(lst_2d)"
   ]
  },
  {
   "cell_type": "code",
   "execution_count": 219,
   "id": "8143fb9f",
   "metadata": {},
   "outputs": [
    {
     "data": {
      "text/plain": [
       "9"
      ]
     },
     "execution_count": 219,
     "metadata": {},
     "output_type": "execute_result"
    }
   ],
   "source": [
    "lst_2d[2][2]"
   ]
  },
  {
   "cell_type": "code",
   "execution_count": 221,
   "id": "a7323f9e",
   "metadata": {},
   "outputs": [
    {
     "data": {
      "text/plain": [
       "9"
      ]
     },
     "execution_count": 221,
     "metadata": {},
     "output_type": "execute_result"
    }
   ],
   "source": [
    "lst_2d[-2][-1]"
   ]
  },
  {
   "cell_type": "code",
   "execution_count": 222,
   "id": "7d1094e3",
   "metadata": {},
   "outputs": [],
   "source": [
    "A = [[1,2],\n",
    "    [3,4]]"
   ]
  },
  {
   "cell_type": "code",
   "execution_count": 223,
   "id": "fe43a7ef",
   "metadata": {},
   "outputs": [],
   "source": [
    "B = [[5,6],\n",
    "    [7,8]]"
   ]
  },
  {
   "cell_type": "code",
   "execution_count": 224,
   "id": "7256df87",
   "metadata": {},
   "outputs": [
    {
     "name": "stdout",
     "output_type": "stream",
     "text": [
      "[[1, 2], [3, 4]]\n"
     ]
    }
   ],
   "source": [
    "print(A)"
   ]
  },
  {
   "cell_type": "code",
   "execution_count": 225,
   "id": "4fb5ec4f",
   "metadata": {},
   "outputs": [
    {
     "name": "stdout",
     "output_type": "stream",
     "text": [
      "[[5, 6], [7, 8]]\n"
     ]
    }
   ],
   "source": [
    "print(B)"
   ]
  },
  {
   "cell_type": "code",
   "execution_count": 226,
   "id": "76b00164",
   "metadata": {},
   "outputs": [],
   "source": [
    "C = [[None, None], [None, None]]"
   ]
  },
  {
   "cell_type": "code",
   "execution_count": 230,
   "id": "2aab7978",
   "metadata": {},
   "outputs": [],
   "source": [
    "for i in range(2):\n",
    "    for j in range(2):\n",
    "        C[i][j] = A[i][j] + B[i][j]"
   ]
  },
  {
   "cell_type": "code",
   "execution_count": 231,
   "id": "78aea212",
   "metadata": {},
   "outputs": [
    {
     "data": {
      "text/plain": [
       "[[6, 8], [10, 12]]"
      ]
     },
     "execution_count": 231,
     "metadata": {},
     "output_type": "execute_result"
    }
   ],
   "source": [
    "C"
   ]
  },
  {
   "cell_type": "code",
   "execution_count": 232,
   "id": "1837434f",
   "metadata": {},
   "outputs": [],
   "source": [
    "c = [[None, None], [None, None]]"
   ]
  },
  {
   "cell_type": "code",
   "execution_count": 233,
   "id": "c93ae7a9",
   "metadata": {},
   "outputs": [
    {
     "data": {
      "text/plain": [
       "[[None, None], [None, None]]"
      ]
     },
     "execution_count": 233,
     "metadata": {},
     "output_type": "execute_result"
    }
   ],
   "source": [
    "c"
   ]
  },
  {
   "cell_type": "code",
   "execution_count": 235,
   "id": "a1c49346",
   "metadata": {},
   "outputs": [
    {
     "data": {
      "text/plain": [
       "[[None, None, None, None, None, None, None, None, None, None],\n",
       " [None, None, None, None, None, None, None, None, None, None],\n",
       " [None, None, None, None, None, None, None, None, None, None],\n",
       " [None, None, None, None, None, None, None, None, None, None],\n",
       " [None, None, None, None, None, None, None, None, None, None],\n",
       " [None, None, None, None, None, None, None, None, None, None],\n",
       " [None, None, None, None, None, None, None, None, None, None],\n",
       " [None, None, None, None, None, None, None, None, None, None],\n",
       " [None, None, None, None, None, None, None, None, None, None],\n",
       " [None, None, None, None, None, None, None, None, None, None]]"
      ]
     },
     "execution_count": 235,
     "metadata": {},
     "output_type": "execute_result"
    }
   ],
   "source": [
    "[[None]*10]*10"
   ]
  },
  {
   "cell_type": "code",
   "execution_count": 237,
   "id": "4bcb2592",
   "metadata": {},
   "outputs": [
    {
     "data": {
      "text/plain": [
       "[1, 1, 1, 1, 1, 1, 1, 1, 1, 1]"
      ]
     },
     "execution_count": 237,
     "metadata": {},
     "output_type": "execute_result"
    }
   ],
   "source": [
    "[1]*10"
   ]
  },
  {
   "cell_type": "code",
   "execution_count": 239,
   "id": "f50003c4",
   "metadata": {},
   "outputs": [
    {
     "name": "stdout",
     "output_type": "stream",
     "text": [
      "New list abc: [1, 3, 5, 7, 9, 8]\n",
      "Old list abc: [1, 3, 5, 7, 9]\n"
     ]
    }
   ],
   "source": [
    "lst = [1,3,5,7,9]\n",
    "\n",
    "abc = lst.copy()\n",
    "\n",
    "abc.append(8)\n",
    "\n",
    "print('New list abc:', abc)\n",
    "\n",
    "print('Old list abc:', lst)\n"
   ]
  },
  {
   "cell_type": "code",
   "execution_count": 240,
   "id": "a540b612",
   "metadata": {},
   "outputs": [
    {
     "name": "stdout",
     "output_type": "stream",
     "text": [
      "New list abc: [1, 3, 5, 7, 9, 8]\n",
      "Old list abc: [1, 3, 5, 7, 9, 8]\n"
     ]
    }
   ],
   "source": [
    "lst = [1,3,5,7,9]\n",
    "\n",
    "abc = lst\n",
    "\n",
    "abc.append(8)\n",
    "\n",
    "print('New list abc:', abc)\n",
    "\n",
    "print('Old list abc:', lst)\n",
    "\n"
   ]
  },
  {
   "cell_type": "code",
   "execution_count": null,
   "id": "b0253273",
   "metadata": {},
   "outputs": [],
   "source": []
  },
  {
   "cell_type": "code",
   "execution_count": 9,
   "id": "b98861c8",
   "metadata": {},
   "outputs": [],
   "source": [
    "lst = [3,5,2,7,8,9]\n",
    "steps = 3"
   ]
  },
  {
   "cell_type": "code",
   "execution_count": 10,
   "id": "45f3ff12",
   "metadata": {},
   "outputs": [],
   "source": [
    "for i in range(steps):\n",
    "    key = lst[-1]\n",
    "    for j in range(len(lst)-1, 0, -1):\n",
    "        lst[j] = lst[j-1]\n",
    "    lst[0] = key"
   ]
  },
  {
   "cell_type": "code",
   "execution_count": 11,
   "id": "a1518e5b",
   "metadata": {},
   "outputs": [
    {
     "data": {
      "text/plain": [
       "[7, 8, 9, 3, 5, 2]"
      ]
     },
     "execution_count": 11,
     "metadata": {},
     "output_type": "execute_result"
    }
   ],
   "source": [
    "lst"
   ]
  },
  {
   "cell_type": "code",
   "execution_count": 13,
   "id": "65cdce3d",
   "metadata": {},
   "outputs": [
    {
     "data": {
      "text/plain": [
       "5"
      ]
     },
     "execution_count": 13,
     "metadata": {},
     "output_type": "execute_result"
    }
   ],
   "source": [
    "len(lst)-1"
   ]
  },
  {
   "cell_type": "code",
   "execution_count": 29,
   "id": "ca589d86",
   "metadata": {},
   "outputs": [],
   "source": [
    "lst = [3,5,2,7,8,9]\n",
    "steps = 4"
   ]
  },
  {
   "cell_type": "code",
   "execution_count": 30,
   "id": "e31bb72e",
   "metadata": {},
   "outputs": [],
   "source": [
    "\n",
    "\n",
    "for i in range(steps):\n",
    "    key = lst[-1]\n",
    "    for j in range(len(lst)-1, 0, -1):\n",
    "        lst[j] = lst[j-1]\n",
    "        \n",
    "    lst[0] = key"
   ]
  },
  {
   "cell_type": "code",
   "execution_count": 31,
   "id": "e6f21b5f",
   "metadata": {},
   "outputs": [
    {
     "data": {
      "text/plain": [
       "[2, 7, 8, 9, 3, 5]"
      ]
     },
     "execution_count": 31,
     "metadata": {},
     "output_type": "execute_result"
    }
   ],
   "source": [
    "lst"
   ]
  },
  {
   "cell_type": "code",
   "execution_count": 40,
   "id": "3fcdeffd",
   "metadata": {},
   "outputs": [],
   "source": [
    "lst = [3,5,2,7,8,9]\n",
    "steps = 3"
   ]
  },
  {
   "cell_type": "code",
   "execution_count": 41,
   "id": "eab10f56",
   "metadata": {},
   "outputs": [],
   "source": [
    "for i in range(steps):\n",
    "    key = lst[-1]\n",
    "    for j in range(len(lst)-1,0,-1):\n",
    "        lst[j] = lst[j-1]\n",
    "        \n",
    "    lst[0] =  key"
   ]
  },
  {
   "cell_type": "code",
   "execution_count": 42,
   "id": "e7265935",
   "metadata": {},
   "outputs": [
    {
     "data": {
      "text/plain": [
       "[7, 8, 9, 3, 5, 2]"
      ]
     },
     "execution_count": 42,
     "metadata": {},
     "output_type": "execute_result"
    }
   ],
   "source": [
    "lst"
   ]
  },
  {
   "cell_type": "code",
   "execution_count": 46,
   "id": "0e4a7026",
   "metadata": {},
   "outputs": [],
   "source": [
    "lst = [5,6,7,8,9,8,10,45]\n",
    "steps = 2"
   ]
  },
  {
   "cell_type": "code",
   "execution_count": 47,
   "id": "9da815dc",
   "metadata": {},
   "outputs": [],
   "source": [
    "for i in range(steps):\n",
    "    key = lst[-1]\n",
    "    \n",
    "    for j in range(len(lst)-1, 0, -1 ):\n",
    "        lst[j] = lst[j-1]\n",
    "        \n",
    "    lst[0] = key"
   ]
  },
  {
   "cell_type": "code",
   "execution_count": 48,
   "id": "03c2f7a3",
   "metadata": {},
   "outputs": [
    {
     "data": {
      "text/plain": [
       "[10, 45, 5, 6, 7, 8, 9, 8]"
      ]
     },
     "execution_count": 48,
     "metadata": {},
     "output_type": "execute_result"
    }
   ],
   "source": [
    "lst"
   ]
  },
  {
   "cell_type": "code",
   "execution_count": 6,
   "id": "688728d6",
   "metadata": {},
   "outputs": [],
   "source": [
    "lst = [5,8,9,7,2,6]"
   ]
  },
  {
   "cell_type": "code",
   "execution_count": 7,
   "id": "c0def85d",
   "metadata": {},
   "outputs": [],
   "source": [
    "steps = 5\n",
    "for i in range(steps):\n",
    "    key = lst[-1]\n",
    "    for j in range(len(lst)-1,0,-1):\n",
    "        lst[j] = lst[j-1]\n",
    "        \n",
    "    lst[0] = key\n",
    "    \n",
    "        "
   ]
  },
  {
   "cell_type": "code",
   "execution_count": 8,
   "id": "a5e4596a",
   "metadata": {},
   "outputs": [
    {
     "data": {
      "text/plain": [
       "[8, 9, 7, 2, 6, 5]"
      ]
     },
     "execution_count": 8,
     "metadata": {},
     "output_type": "execute_result"
    }
   ],
   "source": [
    "lst"
   ]
  },
  {
   "cell_type": "code",
   "execution_count": 9,
   "id": "9102c112",
   "metadata": {},
   "outputs": [],
   "source": [
    "t = ()"
   ]
  },
  {
   "cell_type": "code",
   "execution_count": 10,
   "id": "e0334830",
   "metadata": {},
   "outputs": [
    {
     "name": "stdout",
     "output_type": "stream",
     "text": [
      "()\n"
     ]
    }
   ],
   "source": [
    "print(t)"
   ]
  },
  {
   "cell_type": "code",
   "execution_count": 11,
   "id": "55dfb248",
   "metadata": {},
   "outputs": [
    {
     "data": {
      "text/plain": [
       "tuple"
      ]
     },
     "execution_count": 11,
     "metadata": {},
     "output_type": "execute_result"
    }
   ],
   "source": [
    "type(t)"
   ]
  },
  {
   "cell_type": "code",
   "execution_count": 12,
   "id": "c7c601be",
   "metadata": {},
   "outputs": [],
   "source": [
    "t1 = tuple()"
   ]
  },
  {
   "cell_type": "code",
   "execution_count": 13,
   "id": "29859cc5",
   "metadata": {},
   "outputs": [
    {
     "data": {
      "text/plain": [
       "tuple"
      ]
     },
     "execution_count": 13,
     "metadata": {},
     "output_type": "execute_result"
    }
   ],
   "source": [
    "type(t1)"
   ]
  },
  {
   "cell_type": "code",
   "execution_count": 25,
   "id": "366b6602",
   "metadata": {},
   "outputs": [],
   "source": [
    "t = (12,23,45,0.36,25.98,True, False, [1,2,3], (7,8,9), {\"tech\":'ML',\"lang\":\"python\"})"
   ]
  },
  {
   "cell_type": "code",
   "execution_count": 15,
   "id": "9ad714fe",
   "metadata": {},
   "outputs": [
    {
     "name": "stdout",
     "output_type": "stream",
     "text": [
      "(12, 23, 45, 0.36, 25.98, True, False, [1, 2, 3], (7, 8, 9), {'tech': 'ML', 'lang': 'python'})\n"
     ]
    }
   ],
   "source": [
    "print(t)"
   ]
  },
  {
   "cell_type": "code",
   "execution_count": 16,
   "id": "d4328fcf",
   "metadata": {},
   "outputs": [
    {
     "data": {
      "text/plain": [
       "tuple"
      ]
     },
     "execution_count": 16,
     "metadata": {},
     "output_type": "execute_result"
    }
   ],
   "source": [
    "type(t)"
   ]
  },
  {
   "cell_type": "code",
   "execution_count": 21,
   "id": "c7c74bb7",
   "metadata": {},
   "outputs": [],
   "source": [
    "t = 'computer vision',"
   ]
  },
  {
   "cell_type": "code",
   "execution_count": 22,
   "id": "678ad16b",
   "metadata": {},
   "outputs": [
    {
     "data": {
      "text/plain": [
       "tuple"
      ]
     },
     "execution_count": 22,
     "metadata": {},
     "output_type": "execute_result"
    }
   ],
   "source": [
    "type(t)"
   ]
  },
  {
   "cell_type": "code",
   "execution_count": 23,
   "id": "883b7b3e",
   "metadata": {},
   "outputs": [
    {
     "name": "stdout",
     "output_type": "stream",
     "text": [
      "('computer vision',)\n"
     ]
    }
   ],
   "source": [
    "print(t)"
   ]
  },
  {
   "cell_type": "code",
   "execution_count": 24,
   "id": "fc86df68",
   "metadata": {},
   "outputs": [
    {
     "data": {
      "text/plain": [
       "('computer vision',)"
      ]
     },
     "execution_count": 24,
     "metadata": {},
     "output_type": "execute_result"
    }
   ],
   "source": [
    "t"
   ]
  },
  {
   "cell_type": "code",
   "execution_count": 26,
   "id": "5c25559f",
   "metadata": {},
   "outputs": [
    {
     "data": {
      "text/plain": [
       "(12,\n",
       " 23,\n",
       " 45,\n",
       " 0.36,\n",
       " 25.98,\n",
       " True,\n",
       " False,\n",
       " [1, 2, 3],\n",
       " (7, 8, 9),\n",
       " {'tech': 'ML', 'lang': 'python'})"
      ]
     },
     "execution_count": 26,
     "metadata": {},
     "output_type": "execute_result"
    }
   ],
   "source": [
    "t"
   ]
  },
  {
   "cell_type": "code",
   "execution_count": 27,
   "id": "a7348dc2",
   "metadata": {},
   "outputs": [
    {
     "data": {
      "text/plain": [
       "12"
      ]
     },
     "execution_count": 27,
     "metadata": {},
     "output_type": "execute_result"
    }
   ],
   "source": [
    "t[0]"
   ]
  },
  {
   "cell_type": "code",
   "execution_count": 28,
   "id": "78959876",
   "metadata": {},
   "outputs": [
    {
     "data": {
      "text/plain": [
       "{'tech': 'ML', 'lang': 'python'}"
      ]
     },
     "execution_count": 28,
     "metadata": {},
     "output_type": "execute_result"
    }
   ],
   "source": [
    "t[-1]"
   ]
  },
  {
   "cell_type": "code",
   "execution_count": 29,
   "id": "0f4995b4",
   "metadata": {},
   "outputs": [
    {
     "data": {
      "text/plain": [
       "(12, 23, 45, 0.36, 25.98, True, False, [1, 2, 3], (7, 8, 9))"
      ]
     },
     "execution_count": 29,
     "metadata": {},
     "output_type": "execute_result"
    }
   ],
   "source": [
    "t[:-1]"
   ]
  },
  {
   "cell_type": "code",
   "execution_count": 30,
   "id": "54fbcf6a",
   "metadata": {},
   "outputs": [
    {
     "data": {
      "text/plain": [
       "(12,\n",
       " 23,\n",
       " 45,\n",
       " 0.36,\n",
       " 25.98,\n",
       " True,\n",
       " False,\n",
       " [1, 2, 3],\n",
       " (7, 8, 9),\n",
       " {'tech': 'ML', 'lang': 'python'})"
      ]
     },
     "execution_count": 30,
     "metadata": {},
     "output_type": "execute_result"
    }
   ],
   "source": [
    "t[:]"
   ]
  },
  {
   "cell_type": "code",
   "execution_count": 31,
   "id": "13497978",
   "metadata": {},
   "outputs": [
    {
     "ename": "TypeError",
     "evalue": "'tuple' object does not support item assignment",
     "output_type": "error",
     "traceback": [
      "\u001b[1;31m---------------------------------------------------------------------------\u001b[0m",
      "\u001b[1;31mTypeError\u001b[0m                                 Traceback (most recent call last)",
      "\u001b[1;32m<ipython-input-31-4ae8bdc3ffb6>\u001b[0m in \u001b[0;36m<module>\u001b[1;34m\u001b[0m\n\u001b[1;32m----> 1\u001b[1;33m \u001b[0mt\u001b[0m\u001b[1;33m[\u001b[0m\u001b[1;36m0\u001b[0m\u001b[1;33m]\u001b[0m \u001b[1;33m=\u001b[0m \u001b[1;36m155\u001b[0m\u001b[1;33m\u001b[0m\u001b[1;33m\u001b[0m\u001b[0m\n\u001b[0m",
      "\u001b[1;31mTypeError\u001b[0m: 'tuple' object does not support item assignment"
     ]
    }
   ],
   "source": [
    "t[0] = 155"
   ]
  },
  {
   "cell_type": "code",
   "execution_count": 32,
   "id": "436eb779",
   "metadata": {},
   "outputs": [],
   "source": [
    "lst = ['Machine learning', 'computer vision', 'nlp']"
   ]
  },
  {
   "cell_type": "code",
   "execution_count": 33,
   "id": "40217124",
   "metadata": {},
   "outputs": [],
   "source": [
    "tup = (12,25,36,'Python', 'sklearn', 'coding', lst, 'bigdata')"
   ]
  },
  {
   "cell_type": "code",
   "execution_count": 34,
   "id": "3206aade",
   "metadata": {},
   "outputs": [
    {
     "data": {
      "text/plain": [
       "(12,\n",
       " 25,\n",
       " 36,\n",
       " 'Python',\n",
       " 'sklearn',\n",
       " 'coding',\n",
       " ['Machine learning', 'computer vision', 'nlp'],\n",
       " 'bigdata')"
      ]
     },
     "execution_count": 34,
     "metadata": {},
     "output_type": "execute_result"
    }
   ],
   "source": [
    "tup"
   ]
  },
  {
   "cell_type": "code",
   "execution_count": 35,
   "id": "e8233230",
   "metadata": {},
   "outputs": [
    {
     "data": {
      "text/plain": [
       "['Machine learning', 'computer vision', 'nlp']"
      ]
     },
     "execution_count": 35,
     "metadata": {},
     "output_type": "execute_result"
    }
   ],
   "source": [
    "lst"
   ]
  },
  {
   "cell_type": "code",
   "execution_count": 39,
   "id": "4c1ddfd4",
   "metadata": {},
   "outputs": [],
   "source": [
    "tup[6][0] = 'Deep learning'"
   ]
  },
  {
   "cell_type": "code",
   "execution_count": 40,
   "id": "98663994",
   "metadata": {},
   "outputs": [
    {
     "data": {
      "text/plain": [
       "(12,\n",
       " 25,\n",
       " 36,\n",
       " 'Python',\n",
       " 'sklearn',\n",
       " 'coding',\n",
       " ['Deep learning', 'computer vision', 'nlp'],\n",
       " 'bigdata')"
      ]
     },
     "execution_count": 40,
     "metadata": {},
     "output_type": "execute_result"
    }
   ],
   "source": [
    "tup"
   ]
  },
  {
   "cell_type": "code",
   "execution_count": 41,
   "id": "5c74540e",
   "metadata": {},
   "outputs": [
    {
     "name": "stdout",
     "output_type": "stream",
     "text": [
      "12\n",
      "25\n",
      "36\n",
      "Python\n",
      "sklearn\n",
      "coding\n",
      "['Deep learning', 'computer vision', 'nlp']\n",
      "bigdata\n"
     ]
    }
   ],
   "source": [
    "for i in tup:\n",
    "    print(i)"
   ]
  },
  {
   "cell_type": "code",
   "execution_count": 43,
   "id": "53ed9179",
   "metadata": {},
   "outputs": [],
   "source": [
    "t5 = (1,2,3) + (4,5,6)"
   ]
  },
  {
   "cell_type": "code",
   "execution_count": 45,
   "id": "b93473f1",
   "metadata": {},
   "outputs": [
    {
     "name": "stdout",
     "output_type": "stream",
     "text": [
      "(1, 2, 3, 4, 5, 6)\n"
     ]
    }
   ],
   "source": [
    "print(t5)"
   ]
  },
  {
   "cell_type": "code",
   "execution_count": 47,
   "id": "293413c0",
   "metadata": {},
   "outputs": [
    {
     "data": {
      "text/plain": [
       "(0, 0, 0, 0, 0, 0, 0, 0, 0, 0, 0, 0, 0, 0, 0)"
      ]
     },
     "execution_count": 47,
     "metadata": {},
     "output_type": "execute_result"
    }
   ],
   "source": [
    "(0,)*15"
   ]
  },
  {
   "cell_type": "code",
   "execution_count": 48,
   "id": "96976f5a",
   "metadata": {},
   "outputs": [],
   "source": [
    "t = (1,2,3,4,5,6)"
   ]
  },
  {
   "cell_type": "code",
   "execution_count": 49,
   "id": "5d83a634",
   "metadata": {},
   "outputs": [
    {
     "data": {
      "text/plain": [
       "(1, 2, 3, 4, 5, 6)"
      ]
     },
     "execution_count": 49,
     "metadata": {},
     "output_type": "execute_result"
    }
   ],
   "source": [
    "t"
   ]
  },
  {
   "cell_type": "code",
   "execution_count": 50,
   "id": "75885837",
   "metadata": {},
   "outputs": [],
   "source": [
    "del t"
   ]
  },
  {
   "cell_type": "code",
   "execution_count": 51,
   "id": "583660bc",
   "metadata": {},
   "outputs": [
    {
     "ename": "NameError",
     "evalue": "name 't' is not defined",
     "output_type": "error",
     "traceback": [
      "\u001b[1;31m---------------------------------------------------------------------------\u001b[0m",
      "\u001b[1;31mNameError\u001b[0m                                 Traceback (most recent call last)",
      "\u001b[1;32m<ipython-input-51-34fc7a11cb38>\u001b[0m in \u001b[0;36m<module>\u001b[1;34m\u001b[0m\n\u001b[1;32m----> 1\u001b[1;33m \u001b[0mt\u001b[0m\u001b[1;33m\u001b[0m\u001b[1;33m\u001b[0m\u001b[0m\n\u001b[0m",
      "\u001b[1;31mNameError\u001b[0m: name 't' is not defined"
     ]
    }
   ],
   "source": [
    "t"
   ]
  },
  {
   "cell_type": "code",
   "execution_count": 52,
   "id": "0de6ada0",
   "metadata": {},
   "outputs": [
    {
     "ename": "NameError",
     "evalue": "name 't' is not defined",
     "output_type": "error",
     "traceback": [
      "\u001b[1;31m---------------------------------------------------------------------------\u001b[0m",
      "\u001b[1;31mNameError\u001b[0m                                 Traceback (most recent call last)",
      "\u001b[1;32m<ipython-input-52-febd3e668534>\u001b[0m in \u001b[0;36m<module>\u001b[1;34m\u001b[0m\n\u001b[1;32m----> 1\u001b[1;33m \u001b[0mprint\u001b[0m\u001b[1;33m(\u001b[0m\u001b[0mt\u001b[0m\u001b[1;33m)\u001b[0m\u001b[1;33m\u001b[0m\u001b[1;33m\u001b[0m\u001b[0m\n\u001b[0m",
      "\u001b[1;31mNameError\u001b[0m: name 't' is not defined"
     ]
    }
   ],
   "source": [
    "print(t)"
   ]
  },
  {
   "cell_type": "code",
   "execution_count": 54,
   "id": "8f0acf7a",
   "metadata": {},
   "outputs": [
    {
     "name": "stdout",
     "output_type": "stream",
     "text": [
      "(1, 2, 3, 4, 5, 6, 7, 8, 9)\n"
     ]
    }
   ],
   "source": [
    "t = (1,2,3,4,5,6,7,8,9)\n",
    "print(t)"
   ]
  },
  {
   "cell_type": "code",
   "execution_count": 55,
   "id": "765f8ee2",
   "metadata": {},
   "outputs": [
    {
     "data": {
      "text/plain": [
       "2"
      ]
     },
     "execution_count": 55,
     "metadata": {},
     "output_type": "execute_result"
    }
   ],
   "source": [
    "t.index(3)"
   ]
  },
  {
   "cell_type": "code",
   "execution_count": 56,
   "id": "64bc5c2b",
   "metadata": {},
   "outputs": [
    {
     "data": {
      "text/plain": [
       "6"
      ]
     },
     "execution_count": 56,
     "metadata": {},
     "output_type": "execute_result"
    }
   ],
   "source": [
    "t.index(7)"
   ]
  },
  {
   "cell_type": "code",
   "execution_count": 57,
   "id": "7e142134",
   "metadata": {},
   "outputs": [
    {
     "data": {
      "text/plain": [
       "1"
      ]
     },
     "execution_count": 57,
     "metadata": {},
     "output_type": "execute_result"
    }
   ],
   "source": [
    "t.count(6)"
   ]
  },
  {
   "cell_type": "code",
   "execution_count": 58,
   "id": "22db22e3",
   "metadata": {},
   "outputs": [
    {
     "data": {
      "text/plain": [
       "1"
      ]
     },
     "execution_count": 58,
     "metadata": {},
     "output_type": "execute_result"
    }
   ],
   "source": [
    "t.count(9)"
   ]
  },
  {
   "cell_type": "code",
   "execution_count": 59,
   "id": "8685f7a3",
   "metadata": {},
   "outputs": [
    {
     "data": {
      "text/plain": [
       "(1, 2, 3, 4, 5, 6, 7, 8, 9)"
      ]
     },
     "execution_count": 59,
     "metadata": {},
     "output_type": "execute_result"
    }
   ],
   "source": [
    "t"
   ]
  },
  {
   "cell_type": "code",
   "execution_count": 60,
   "id": "9559f0ff",
   "metadata": {},
   "outputs": [
    {
     "data": {
      "text/plain": [
       "True"
      ]
     },
     "execution_count": 60,
     "metadata": {},
     "output_type": "execute_result"
    }
   ],
   "source": [
    "9 in t"
   ]
  },
  {
   "cell_type": "code",
   "execution_count": 61,
   "id": "ffc81beb",
   "metadata": {},
   "outputs": [
    {
     "data": {
      "text/plain": [
       "False"
      ]
     },
     "execution_count": 61,
     "metadata": {},
     "output_type": "execute_result"
    }
   ],
   "source": [
    "10 in t"
   ]
  },
  {
   "cell_type": "code",
   "execution_count": 62,
   "id": "41836661",
   "metadata": {},
   "outputs": [],
   "source": [
    "t = (4,2,1)"
   ]
  },
  {
   "cell_type": "code",
   "execution_count": 63,
   "id": "811e215b",
   "metadata": {},
   "outputs": [],
   "source": [
    "a,b,c =t"
   ]
  },
  {
   "cell_type": "code",
   "execution_count": 64,
   "id": "ce2ff9d0",
   "metadata": {},
   "outputs": [
    {
     "data": {
      "text/plain": [
       "4"
      ]
     },
     "execution_count": 64,
     "metadata": {},
     "output_type": "execute_result"
    }
   ],
   "source": [
    "a"
   ]
  },
  {
   "cell_type": "code",
   "execution_count": 65,
   "id": "f8cbc872",
   "metadata": {},
   "outputs": [
    {
     "data": {
      "text/plain": [
       "2"
      ]
     },
     "execution_count": 65,
     "metadata": {},
     "output_type": "execute_result"
    }
   ],
   "source": [
    "b"
   ]
  },
  {
   "cell_type": "code",
   "execution_count": 66,
   "id": "0cb54f3e",
   "metadata": {},
   "outputs": [
    {
     "data": {
      "text/plain": [
       "1"
      ]
     },
     "execution_count": 66,
     "metadata": {},
     "output_type": "execute_result"
    }
   ],
   "source": [
    "c"
   ]
  },
  {
   "cell_type": "code",
   "execution_count": 67,
   "id": "764f47dc",
   "metadata": {},
   "outputs": [
    {
     "name": "stdout",
     "output_type": "stream",
     "text": [
      "4 2 1\n"
     ]
    }
   ],
   "source": [
    "print(a,b,c)"
   ]
  },
  {
   "cell_type": "code",
   "execution_count": 68,
   "id": "73272a21",
   "metadata": {},
   "outputs": [],
   "source": [
    "t = (5,6,9,8)"
   ]
  },
  {
   "cell_type": "code",
   "execution_count": 69,
   "id": "2f2b8a2f",
   "metadata": {},
   "outputs": [
    {
     "name": "stdout",
     "output_type": "stream",
     "text": [
      "5 6 9 8\n"
     ]
    }
   ],
   "source": [
    "print(*t)"
   ]
  },
  {
   "cell_type": "code",
   "execution_count": 70,
   "id": "b8de976b",
   "metadata": {},
   "outputs": [],
   "source": [
    "s = set()"
   ]
  },
  {
   "cell_type": "code",
   "execution_count": 71,
   "id": "e394f3dc",
   "metadata": {},
   "outputs": [
    {
     "data": {
      "text/plain": [
       "set"
      ]
     },
     "execution_count": 71,
     "metadata": {},
     "output_type": "execute_result"
    }
   ],
   "source": [
    "type(s)"
   ]
  },
  {
   "cell_type": "code",
   "execution_count": 75,
   "id": "3918c990",
   "metadata": {},
   "outputs": [],
   "source": [
    "my_set = {1,2,3,8,9,45,69,69,69,69,45,45,9,9,8,8,3,2,1,1,2,3}"
   ]
  },
  {
   "cell_type": "code",
   "execution_count": 76,
   "id": "77f807c1",
   "metadata": {},
   "outputs": [
    {
     "data": {
      "text/plain": [
       "{1, 2, 3, 8, 9, 45, 69}"
      ]
     },
     "execution_count": 76,
     "metadata": {},
     "output_type": "execute_result"
    }
   ],
   "source": [
    "my_set"
   ]
  },
  {
   "cell_type": "code",
   "execution_count": 77,
   "id": "d69d3c34",
   "metadata": {},
   "outputs": [
    {
     "data": {
      "text/plain": [
       "set"
      ]
     },
     "execution_count": 77,
     "metadata": {},
     "output_type": "execute_result"
    }
   ],
   "source": [
    "type(my_set)"
   ]
  },
  {
   "cell_type": "code",
   "execution_count": 78,
   "id": "7b5a58c4",
   "metadata": {},
   "outputs": [],
   "source": [
    "my_set.add(100)"
   ]
  },
  {
   "cell_type": "code",
   "execution_count": 79,
   "id": "1672ff1c",
   "metadata": {},
   "outputs": [
    {
     "data": {
      "text/plain": [
       "{1, 2, 3, 8, 9, 45, 69, 100}"
      ]
     },
     "execution_count": 79,
     "metadata": {},
     "output_type": "execute_result"
    }
   ],
   "source": [
    "my_set"
   ]
  },
  {
   "cell_type": "code",
   "execution_count": 80,
   "id": "a3774b29",
   "metadata": {},
   "outputs": [],
   "source": [
    "my_set.add(100)"
   ]
  },
  {
   "cell_type": "code",
   "execution_count": 81,
   "id": "2d637541",
   "metadata": {},
   "outputs": [
    {
     "data": {
      "text/plain": [
       "{1, 2, 3, 8, 9, 45, 69, 100}"
      ]
     },
     "execution_count": 81,
     "metadata": {},
     "output_type": "execute_result"
    }
   ],
   "source": [
    "my_set"
   ]
  },
  {
   "cell_type": "code",
   "execution_count": 82,
   "id": "b4479b4d",
   "metadata": {},
   "outputs": [],
   "source": [
    "my_set.remove(45)"
   ]
  },
  {
   "cell_type": "code",
   "execution_count": 83,
   "id": "cd9d82e6",
   "metadata": {},
   "outputs": [
    {
     "data": {
      "text/plain": [
       "{1, 2, 3, 8, 9, 69, 100}"
      ]
     },
     "execution_count": 83,
     "metadata": {},
     "output_type": "execute_result"
    }
   ],
   "source": [
    "my_set"
   ]
  },
  {
   "cell_type": "code",
   "execution_count": 85,
   "id": "9cfab496",
   "metadata": {},
   "outputs": [
    {
     "ename": "KeyError",
     "evalue": "45",
     "output_type": "error",
     "traceback": [
      "\u001b[1;31m---------------------------------------------------------------------------\u001b[0m",
      "\u001b[1;31mKeyError\u001b[0m                                  Traceback (most recent call last)",
      "\u001b[1;32m<ipython-input-85-a7f6d71a36ac>\u001b[0m in \u001b[0;36m<module>\u001b[1;34m\u001b[0m\n\u001b[1;32m----> 1\u001b[1;33m \u001b[0mmy_set\u001b[0m\u001b[1;33m.\u001b[0m\u001b[0mremove\u001b[0m\u001b[1;33m(\u001b[0m\u001b[1;36m45\u001b[0m\u001b[1;33m)\u001b[0m\u001b[1;33m\u001b[0m\u001b[1;33m\u001b[0m\u001b[0m\n\u001b[0m",
      "\u001b[1;31mKeyError\u001b[0m: 45"
     ]
    }
   ],
   "source": [
    "my_set.remove(45)"
   ]
  },
  {
   "cell_type": "code",
   "execution_count": 86,
   "id": "bea67030",
   "metadata": {},
   "outputs": [],
   "source": [
    "my_set.discard(45)"
   ]
  },
  {
   "cell_type": "code",
   "execution_count": 87,
   "id": "9f2a446f",
   "metadata": {},
   "outputs": [
    {
     "name": "stdout",
     "output_type": "stream",
     "text": [
      "{1, 2, 3, 100, 69, 8, 9}\n"
     ]
    }
   ],
   "source": [
    "print(my_set)"
   ]
  },
  {
   "cell_type": "code",
   "execution_count": 88,
   "id": "6b8cb7df",
   "metadata": {},
   "outputs": [
    {
     "ename": "TypeError",
     "evalue": "'set' object is not subscriptable",
     "output_type": "error",
     "traceback": [
      "\u001b[1;31m---------------------------------------------------------------------------\u001b[0m",
      "\u001b[1;31mTypeError\u001b[0m                                 Traceback (most recent call last)",
      "\u001b[1;32m<ipython-input-88-427d30336cbe>\u001b[0m in \u001b[0;36m<module>\u001b[1;34m\u001b[0m\n\u001b[1;32m----> 1\u001b[1;33m \u001b[0mmy_set\u001b[0m\u001b[1;33m[\u001b[0m\u001b[1;36m5\u001b[0m\u001b[1;33m]\u001b[0m\u001b[1;33m\u001b[0m\u001b[1;33m\u001b[0m\u001b[0m\n\u001b[0m",
      "\u001b[1;31mTypeError\u001b[0m: 'set' object is not subscriptable"
     ]
    }
   ],
   "source": [
    "my_set[5]"
   ]
  },
  {
   "cell_type": "code",
   "execution_count": 89,
   "id": "57196c99",
   "metadata": {},
   "outputs": [],
   "source": [
    "my_set.update([12,25,36])"
   ]
  },
  {
   "cell_type": "code",
   "execution_count": 90,
   "id": "a9e8b8fe",
   "metadata": {},
   "outputs": [
    {
     "data": {
      "text/plain": [
       "{1, 2, 3, 8, 9, 12, 25, 36, 69, 100}"
      ]
     },
     "execution_count": 90,
     "metadata": {},
     "output_type": "execute_result"
    }
   ],
   "source": [
    "my_set"
   ]
  },
  {
   "cell_type": "code",
   "execution_count": 91,
   "id": "7b06c1a7",
   "metadata": {},
   "outputs": [
    {
     "name": "stdout",
     "output_type": "stream",
     "text": [
      "{1, 2, 3, 100, 69, 36, 8, 9, 12, 25}\n"
     ]
    }
   ],
   "source": [
    "print(my_set)"
   ]
  },
  {
   "cell_type": "code",
   "execution_count": 92,
   "id": "6c859fdc",
   "metadata": {},
   "outputs": [],
   "source": [
    "s1 = {1, 3, 4, 5, 8}\n",
    "s2 = {4, 5, 6, 7, 1, 9}"
   ]
  },
  {
   "cell_type": "code",
   "execution_count": 93,
   "id": "00e3de93",
   "metadata": {},
   "outputs": [
    {
     "data": {
      "text/plain": [
       "{1, 3, 4, 5, 6, 7, 8, 9}"
      ]
     },
     "execution_count": 93,
     "metadata": {},
     "output_type": "execute_result"
    }
   ],
   "source": [
    "s1.union(s2)"
   ]
  },
  {
   "cell_type": "code",
   "execution_count": 94,
   "id": "a40a37a7",
   "metadata": {},
   "outputs": [
    {
     "data": {
      "text/plain": [
       "{1, 4, 5}"
      ]
     },
     "execution_count": 94,
     "metadata": {},
     "output_type": "execute_result"
    }
   ],
   "source": [
    "s1.intersection(s2)"
   ]
  },
  {
   "cell_type": "code",
   "execution_count": 95,
   "id": "1b7fe884",
   "metadata": {},
   "outputs": [
    {
     "data": {
      "text/plain": [
       "{1, 3, 4, 5, 6, 7, 8, 9}"
      ]
     },
     "execution_count": 95,
     "metadata": {},
     "output_type": "execute_result"
    }
   ],
   "source": [
    "s1|s2"
   ]
  },
  {
   "cell_type": "code",
   "execution_count": 96,
   "id": "ed0c1392",
   "metadata": {},
   "outputs": [
    {
     "data": {
      "text/plain": [
       "{1, 4, 5}"
      ]
     },
     "execution_count": 96,
     "metadata": {},
     "output_type": "execute_result"
    }
   ],
   "source": [
    "s1&s2"
   ]
  },
  {
   "cell_type": "code",
   "execution_count": 97,
   "id": "2e7ce7a6",
   "metadata": {},
   "outputs": [
    {
     "data": {
      "text/plain": [
       "{3, 8}"
      ]
     },
     "execution_count": 97,
     "metadata": {},
     "output_type": "execute_result"
    }
   ],
   "source": [
    "s1-s2"
   ]
  },
  {
   "cell_type": "code",
   "execution_count": 98,
   "id": "38102d70",
   "metadata": {},
   "outputs": [
    {
     "data": {
      "text/plain": [
       "{3, 8}"
      ]
     },
     "execution_count": 98,
     "metadata": {},
     "output_type": "execute_result"
    }
   ],
   "source": [
    "s1.difference(s2)"
   ]
  },
  {
   "cell_type": "code",
   "execution_count": 99,
   "id": "4166dd35",
   "metadata": {},
   "outputs": [
    {
     "data": {
      "text/plain": [
       "{3, 6, 7, 8, 9}"
      ]
     },
     "execution_count": 99,
     "metadata": {},
     "output_type": "execute_result"
    }
   ],
   "source": [
    "s1.symmetric_difference(s2)"
   ]
  },
  {
   "cell_type": "code",
   "execution_count": 100,
   "id": "7a50260b",
   "metadata": {},
   "outputs": [
    {
     "data": {
      "text/plain": [
       "{3, 6, 7, 8, 9}"
      ]
     },
     "execution_count": 100,
     "metadata": {},
     "output_type": "execute_result"
    }
   ],
   "source": [
    "(s1|s2) - (s1&s2)"
   ]
  },
  {
   "cell_type": "code",
   "execution_count": 101,
   "id": "b37fa503",
   "metadata": {},
   "outputs": [],
   "source": [
    "some_list = [6,3,7,6,4,1,0,9,2,1,0,8,6,4,7]"
   ]
  },
  {
   "cell_type": "code",
   "execution_count": 102,
   "id": "97d53c51",
   "metadata": {},
   "outputs": [
    {
     "data": {
      "text/plain": [
       "(6, 3, 7, 6, 4, 1, 0, 9, 2, 1, 0, 8, 6, 4, 7)"
      ]
     },
     "execution_count": 102,
     "metadata": {},
     "output_type": "execute_result"
    }
   ],
   "source": [
    "tuple(some_list)"
   ]
  },
  {
   "cell_type": "code",
   "execution_count": 103,
   "id": "0d67be37",
   "metadata": {},
   "outputs": [],
   "source": [
    "some_set = set(some_list)"
   ]
  },
  {
   "cell_type": "code",
   "execution_count": 104,
   "id": "487b85d6",
   "metadata": {},
   "outputs": [
    {
     "data": {
      "text/plain": [
       "{0, 1, 2, 3, 4, 6, 7, 8, 9}"
      ]
     },
     "execution_count": 104,
     "metadata": {},
     "output_type": "execute_result"
    }
   ],
   "source": [
    "some_set"
   ]
  },
  {
   "cell_type": "code",
   "execution_count": 105,
   "id": "c235eaaa",
   "metadata": {},
   "outputs": [],
   "source": [
    "some_list = list(some_set)"
   ]
  },
  {
   "cell_type": "code",
   "execution_count": 106,
   "id": "517a9340",
   "metadata": {},
   "outputs": [
    {
     "data": {
      "text/plain": [
       "[0, 1, 2, 3, 4, 6, 7, 8, 9]"
      ]
     },
     "execution_count": 106,
     "metadata": {},
     "output_type": "execute_result"
    }
   ],
   "source": [
    "some_list"
   ]
  },
  {
   "cell_type": "code",
   "execution_count": 109,
   "id": "ab0ffaf8",
   "metadata": {},
   "outputs": [
    {
     "data": {
      "text/plain": [
       "True"
      ]
     },
     "execution_count": 109,
     "metadata": {},
     "output_type": "execute_result"
    }
   ],
   "source": [
    "5 in {2,4,5,7,1,6,3,10}"
   ]
  },
  {
   "cell_type": "code",
   "execution_count": 111,
   "id": "46fc579c",
   "metadata": {},
   "outputs": [],
   "source": [
    "dic = {}"
   ]
  },
  {
   "cell_type": "code",
   "execution_count": 112,
   "id": "6caa0d62",
   "metadata": {},
   "outputs": [
    {
     "data": {
      "text/plain": [
       "dict"
      ]
     },
     "execution_count": 112,
     "metadata": {},
     "output_type": "execute_result"
    }
   ],
   "source": [
    "type(dic)"
   ]
  },
  {
   "cell_type": "code",
   "execution_count": 113,
   "id": "a875e48a",
   "metadata": {},
   "outputs": [],
   "source": [
    "di = dict()"
   ]
  },
  {
   "cell_type": "code",
   "execution_count": 114,
   "id": "81e53b86",
   "metadata": {},
   "outputs": [
    {
     "data": {
      "text/plain": [
       "dict"
      ]
     },
     "execution_count": 114,
     "metadata": {},
     "output_type": "execute_result"
    }
   ],
   "source": [
    "type(di)"
   ]
  },
  {
   "cell_type": "code",
   "execution_count": 115,
   "id": "b5e63fc9",
   "metadata": {},
   "outputs": [
    {
     "data": {
      "text/plain": [
       "{1: 'abc', 2: 'pqr'}"
      ]
     },
     "execution_count": 115,
     "metadata": {},
     "output_type": "execute_result"
    }
   ],
   "source": [
    "dict([(1,\"abc\"),(2,\"pqr\")])"
   ]
  },
  {
   "cell_type": "code",
   "execution_count": 161,
   "id": "3ce07976",
   "metadata": {},
   "outputs": [],
   "source": [
    "user_info = {\n",
    "    'name':\"Sanjay\",\n",
    "    'Age':30,\n",
    "    'Nationality':\"Indian\"\n",
    "}"
   ]
  },
  {
   "cell_type": "code",
   "execution_count": 118,
   "id": "263db44e",
   "metadata": {},
   "outputs": [
    {
     "data": {
      "text/plain": [
       "dict"
      ]
     },
     "execution_count": 118,
     "metadata": {},
     "output_type": "execute_result"
    }
   ],
   "source": [
    "type(user_info)"
   ]
  },
  {
   "cell_type": "code",
   "execution_count": 119,
   "id": "33efb90d",
   "metadata": {},
   "outputs": [
    {
     "data": {
      "text/plain": [
       "{'name': 'Sanjay', 'Age': 30, 'Nationality': 'Indian'}"
      ]
     },
     "execution_count": 119,
     "metadata": {},
     "output_type": "execute_result"
    }
   ],
   "source": [
    "user_info"
   ]
  },
  {
   "cell_type": "code",
   "execution_count": 120,
   "id": "a71e8efe",
   "metadata": {},
   "outputs": [
    {
     "data": {
      "text/plain": [
       "30"
      ]
     },
     "execution_count": 120,
     "metadata": {},
     "output_type": "execute_result"
    }
   ],
   "source": [
    "user_info['Age']"
   ]
  },
  {
   "cell_type": "code",
   "execution_count": 121,
   "id": "ef539674",
   "metadata": {},
   "outputs": [
    {
     "data": {
      "text/plain": [
       "'Sanjay'"
      ]
     },
     "execution_count": 121,
     "metadata": {},
     "output_type": "execute_result"
    }
   ],
   "source": [
    "user_info['name']"
   ]
  },
  {
   "cell_type": "code",
   "execution_count": 122,
   "id": "9634483c",
   "metadata": {},
   "outputs": [
    {
     "data": {
      "text/plain": [
       "'Indian'"
      ]
     },
     "execution_count": 122,
     "metadata": {},
     "output_type": "execute_result"
    }
   ],
   "source": [
    "user_info['Nationality']"
   ]
  },
  {
   "cell_type": "code",
   "execution_count": 123,
   "id": "e066be40",
   "metadata": {},
   "outputs": [
    {
     "ename": "KeyError",
     "evalue": "'hobby'",
     "output_type": "error",
     "traceback": [
      "\u001b[1;31m---------------------------------------------------------------------------\u001b[0m",
      "\u001b[1;31mKeyError\u001b[0m                                  Traceback (most recent call last)",
      "\u001b[1;32m<ipython-input-123-ec56ead5a4d9>\u001b[0m in \u001b[0;36m<module>\u001b[1;34m\u001b[0m\n\u001b[1;32m----> 1\u001b[1;33m \u001b[0muser_info\u001b[0m\u001b[1;33m[\u001b[0m\u001b[1;34m'hobby'\u001b[0m\u001b[1;33m]\u001b[0m\u001b[1;33m\u001b[0m\u001b[1;33m\u001b[0m\u001b[0m\n\u001b[0m",
      "\u001b[1;31mKeyError\u001b[0m: 'hobby'"
     ]
    }
   ],
   "source": [
    "user_info['hobby']"
   ]
  },
  {
   "cell_type": "code",
   "execution_count": 124,
   "id": "69ce05ea",
   "metadata": {},
   "outputs": [],
   "source": [
    "user_info.get('hobby')"
   ]
  },
  {
   "cell_type": "code",
   "execution_count": 125,
   "id": "7df2a644",
   "metadata": {},
   "outputs": [
    {
     "data": {
      "text/plain": [
       "{'name': 'Sanjay', 'Age': 30, 'Nationality': 'Indian'}"
      ]
     },
     "execution_count": 125,
     "metadata": {},
     "output_type": "execute_result"
    }
   ],
   "source": [
    "user_info"
   ]
  },
  {
   "cell_type": "code",
   "execution_count": 127,
   "id": "48c1d401",
   "metadata": {},
   "outputs": [],
   "source": [
    "user_info['hobby'] = ['coding', 'singing', 'dancing', 'cocking']"
   ]
  },
  {
   "cell_type": "code",
   "execution_count": 129,
   "id": "0aed3f6d",
   "metadata": {},
   "outputs": [
    {
     "data": {
      "text/plain": [
       "{'name': 'Sanjay',\n",
       " 'Age': 30,\n",
       " 'Nationality': 'Indian',\n",
       " 'hobby': ['coding', 'singing', 'dancing', 'cocking']}"
      ]
     },
     "execution_count": 129,
     "metadata": {},
     "output_type": "execute_result"
    }
   ],
   "source": [
    "user_info"
   ]
  },
  {
   "cell_type": "code",
   "execution_count": 130,
   "id": "c48f2564",
   "metadata": {},
   "outputs": [
    {
     "data": {
      "text/plain": [
       "['coding', 'singing', 'dancing', 'cocking']"
      ]
     },
     "execution_count": 130,
     "metadata": {},
     "output_type": "execute_result"
    }
   ],
   "source": [
    "user_info['hobby']"
   ]
  },
  {
   "cell_type": "code",
   "execution_count": 131,
   "id": "8f646dce",
   "metadata": {},
   "outputs": [],
   "source": [
    "user_info['name'] = 'Chetan'"
   ]
  },
  {
   "cell_type": "code",
   "execution_count": 132,
   "id": "91d69a3a",
   "metadata": {},
   "outputs": [
    {
     "data": {
      "text/plain": [
       "{'name': 'Chetan',\n",
       " 'Age': 30,\n",
       " 'Nationality': 'Indian',\n",
       " 'hobby': ['coding', 'singing', 'dancing', 'cocking']}"
      ]
     },
     "execution_count": 132,
     "metadata": {},
     "output_type": "execute_result"
    }
   ],
   "source": [
    "user_info"
   ]
  },
  {
   "cell_type": "code",
   "execution_count": 133,
   "id": "9d3db485",
   "metadata": {},
   "outputs": [
    {
     "data": {
      "text/plain": [
       "{'name': 'Chetan',\n",
       " 'Age': 30,\n",
       " 'Nationality': 'Indian',\n",
       " 'hobby': ['coding', 'singing', 'dancing', 'cocking']}"
      ]
     },
     "execution_count": 133,
     "metadata": {},
     "output_type": "execute_result"
    }
   ],
   "source": [
    "user_info"
   ]
  },
  {
   "cell_type": "code",
   "execution_count": 134,
   "id": "7ad9b703",
   "metadata": {},
   "outputs": [
    {
     "data": {
      "text/plain": [
       "dict_keys(['name', 'Age', 'Nationality', 'hobby'])"
      ]
     },
     "execution_count": 134,
     "metadata": {},
     "output_type": "execute_result"
    }
   ],
   "source": [
    "user_info.keys()"
   ]
  },
  {
   "cell_type": "code",
   "execution_count": 135,
   "id": "005f77c9",
   "metadata": {},
   "outputs": [
    {
     "data": {
      "text/plain": [
       "dict_values(['Chetan', 30, 'Indian', ['coding', 'singing', 'dancing', 'cocking']])"
      ]
     },
     "execution_count": 135,
     "metadata": {},
     "output_type": "execute_result"
    }
   ],
   "source": [
    "user_info.values()"
   ]
  },
  {
   "cell_type": "code",
   "execution_count": 137,
   "id": "41fbdb6b",
   "metadata": {},
   "outputs": [
    {
     "data": {
      "text/plain": [
       "[('name', 'Chetan'),\n",
       " ('Age', 30),\n",
       " ('Nationality', 'Indian'),\n",
       " ('hobby', ['coding', 'singing', 'dancing', 'cocking'])]"
      ]
     },
     "execution_count": 137,
     "metadata": {},
     "output_type": "execute_result"
    }
   ],
   "source": [
    "list(user_info.items())"
   ]
  },
  {
   "cell_type": "code",
   "execution_count": 145,
   "id": "ba283558",
   "metadata": {},
   "outputs": [
    {
     "name": "stdout",
     "output_type": "stream",
     "text": [
      "name : Chetan\n",
      "Age : 30\n",
      "Nationality : Indian\n",
      "hobby : ['coding', 'singing', 'dancing', 'cocking']\n"
     ]
    }
   ],
   "source": [
    "for k,v in user_info.items():\n",
    "    print(k, ':' , v)"
   ]
  },
  {
   "cell_type": "code",
   "execution_count": 148,
   "id": "b8c085fd",
   "metadata": {},
   "outputs": [
    {
     "name": "stdout",
     "output_type": "stream",
     "text": [
      "name : Chetan\n",
      "Age : 30\n",
      "Nationality : Indian\n",
      "hobby : ['coding', 'singing', 'dancing', 'cocking']\n"
     ]
    }
   ],
   "source": [
    "for k in user_info:\n",
    "    print(k, ':' , user_info[k])"
   ]
  },
  {
   "cell_type": "code",
   "execution_count": 149,
   "id": "088ae9bd",
   "metadata": {},
   "outputs": [
    {
     "data": {
      "text/plain": [
       "566"
      ]
     },
     "execution_count": 149,
     "metadata": {},
     "output_type": "execute_result"
    }
   ],
   "source": [
    "hash(566)"
   ]
  },
  {
   "cell_type": "code",
   "execution_count": 150,
   "id": "3b7c7662",
   "metadata": {},
   "outputs": [
    {
     "data": {
      "text/plain": [
       "-5237631244644969734"
      ]
     },
     "execution_count": 150,
     "metadata": {},
     "output_type": "execute_result"
    }
   ],
   "source": [
    "hash('python')"
   ]
  },
  {
   "cell_type": "code",
   "execution_count": 151,
   "id": "bb776553",
   "metadata": {},
   "outputs": [
    {
     "ename": "TypeError",
     "evalue": "unhashable type: 'list'",
     "output_type": "error",
     "traceback": [
      "\u001b[1;31m---------------------------------------------------------------------------\u001b[0m",
      "\u001b[1;31mTypeError\u001b[0m                                 Traceback (most recent call last)",
      "\u001b[1;32m<ipython-input-151-35e31e935e9e>\u001b[0m in \u001b[0;36m<module>\u001b[1;34m\u001b[0m\n\u001b[1;32m----> 1\u001b[1;33m \u001b[0mhash\u001b[0m\u001b[1;33m(\u001b[0m\u001b[1;33m[\u001b[0m\u001b[1;36m1\u001b[0m\u001b[1;33m,\u001b[0m\u001b[1;36m2\u001b[0m\u001b[1;33m,\u001b[0m\u001b[1;36m3\u001b[0m\u001b[1;33m]\u001b[0m\u001b[1;33m)\u001b[0m\u001b[1;33m\u001b[0m\u001b[1;33m\u001b[0m\u001b[0m\n\u001b[0m",
      "\u001b[1;31mTypeError\u001b[0m: unhashable type: 'list'"
     ]
    }
   ],
   "source": [
    "hash([1,2,3])"
   ]
  },
  {
   "cell_type": "code",
   "execution_count": 152,
   "id": "ba19fd38",
   "metadata": {},
   "outputs": [
    {
     "data": {
      "text/plain": [
       "5978594976881860246"
      ]
     },
     "execution_count": 152,
     "metadata": {},
     "output_type": "execute_result"
    }
   ],
   "source": [
    "hash((4,5,6))"
   ]
  },
  {
   "cell_type": "code",
   "execution_count": 153,
   "id": "4eff67cf",
   "metadata": {},
   "outputs": [
    {
     "data": {
      "text/plain": [
       "{'name': 'Chetan',\n",
       " 'Age': 30,\n",
       " 'Nationality': 'Indian',\n",
       " 'hobby': ['coding', 'singing', 'dancing', 'cocking']}"
      ]
     },
     "execution_count": 153,
     "metadata": {},
     "output_type": "execute_result"
    }
   ],
   "source": [
    "user_info"
   ]
  },
  {
   "cell_type": "code",
   "execution_count": 157,
   "id": "a01b34ca",
   "metadata": {},
   "outputs": [
    {
     "data": {
      "text/plain": [
       "30"
      ]
     },
     "execution_count": 157,
     "metadata": {},
     "output_type": "execute_result"
    }
   ],
   "source": [
    "user_info.pop('Age')"
   ]
  },
  {
   "cell_type": "code",
   "execution_count": 158,
   "id": "237b01d5",
   "metadata": {},
   "outputs": [
    {
     "data": {
      "text/plain": [
       "{'name': 'Chetan',\n",
       " 'Nationality': 'Indian',\n",
       " 'hobby': ['coding', 'singing', 'dancing', 'cocking']}"
      ]
     },
     "execution_count": 158,
     "metadata": {},
     "output_type": "execute_result"
    }
   ],
   "source": [
    "user_info"
   ]
  },
  {
   "cell_type": "code",
   "execution_count": 159,
   "id": "d2c4c043",
   "metadata": {},
   "outputs": [
    {
     "ename": "KeyError",
     "evalue": "'Age'",
     "output_type": "error",
     "traceback": [
      "\u001b[1;31m---------------------------------------------------------------------------\u001b[0m",
      "\u001b[1;31mKeyError\u001b[0m                                  Traceback (most recent call last)",
      "\u001b[1;32m<ipython-input-159-b69fe18fd44f>\u001b[0m in \u001b[0;36m<module>\u001b[1;34m\u001b[0m\n\u001b[1;32m----> 1\u001b[1;33m \u001b[0muser_info\u001b[0m\u001b[1;33m.\u001b[0m\u001b[0mpop\u001b[0m\u001b[1;33m(\u001b[0m\u001b[1;34m'Age'\u001b[0m\u001b[1;33m)\u001b[0m\u001b[1;33m\u001b[0m\u001b[1;33m\u001b[0m\u001b[0m\n\u001b[0m",
      "\u001b[1;31mKeyError\u001b[0m: 'Age'"
     ]
    }
   ],
   "source": [
    "user_info.pop('Age')"
   ]
  },
  {
   "cell_type": "code",
   "execution_count": 160,
   "id": "a47888a6",
   "metadata": {},
   "outputs": [],
   "source": [
    "del user_info"
   ]
  },
  {
   "cell_type": "code",
   "execution_count": 163,
   "id": "764b6c92",
   "metadata": {},
   "outputs": [],
   "source": [
    "del user_info['Age']"
   ]
  },
  {
   "cell_type": "code",
   "execution_count": 164,
   "id": "38563e7f",
   "metadata": {},
   "outputs": [
    {
     "data": {
      "text/plain": [
       "{'name': 'Sanjay', 'Nationality': 'Indian'}"
      ]
     },
     "execution_count": 164,
     "metadata": {},
     "output_type": "execute_result"
    }
   ],
   "source": [
    "user_info"
   ]
  },
  {
   "cell_type": "code",
   "execution_count": 165,
   "id": "57baab94",
   "metadata": {},
   "outputs": [],
   "source": [
    "canteen_menu = {\n",
    "    'samosa':10,\n",
    "    'pizza':100,\n",
    "    'burger':50,\n",
    "    'fruits':{\n",
    "        'apple':25,\n",
    "        'mango':35,\n",
    "        'grapes':30\n",
    "    }\n",
    "    \n",
    "}"
   ]
  },
  {
   "cell_type": "code",
   "execution_count": 166,
   "id": "7b006184",
   "metadata": {},
   "outputs": [
    {
     "name": "stdout",
     "output_type": "stream",
     "text": [
      "{'samosa': 10, 'pizza': 100, 'burger': 50, 'fruits': {'apple': 25, 'mango': 35, 'grapes': 30}}\n"
     ]
    }
   ],
   "source": [
    "print(canteen_menu)"
   ]
  },
  {
   "cell_type": "code",
   "execution_count": 167,
   "id": "1e797ff6",
   "metadata": {},
   "outputs": [
    {
     "data": {
      "text/plain": [
       "{'apple': 25, 'mango': 35, 'grapes': 30}"
      ]
     },
     "execution_count": 167,
     "metadata": {},
     "output_type": "execute_result"
    }
   ],
   "source": [
    "canteen_menu['fruits']"
   ]
  },
  {
   "cell_type": "code",
   "execution_count": 169,
   "id": "1176da5c",
   "metadata": {},
   "outputs": [
    {
     "data": {
      "text/plain": [
       "25"
      ]
     },
     "execution_count": 169,
     "metadata": {},
     "output_type": "execute_result"
    }
   ],
   "source": [
    "canteen_menu['fruits']['apple']"
   ]
  },
  {
   "cell_type": "code",
   "execution_count": 171,
   "id": "3ef3a207",
   "metadata": {},
   "outputs": [],
   "source": [
    "canteen_menu['juice'] = ['samll', 'medium', 'large']"
   ]
  },
  {
   "cell_type": "code",
   "execution_count": 172,
   "id": "0c8ed18b",
   "metadata": {},
   "outputs": [
    {
     "data": {
      "text/plain": [
       "{'samosa': 10,\n",
       " 'pizza': 100,\n",
       " 'burger': 50,\n",
       " 'fruits': {'apple': 25, 'mango': 35, 'grapes': 30},\n",
       " 'juice': ['samll', 'medium', 'large']}"
      ]
     },
     "execution_count": 172,
     "metadata": {},
     "output_type": "execute_result"
    }
   ],
   "source": [
    "canteen_menu"
   ]
  },
  {
   "cell_type": "code",
   "execution_count": 174,
   "id": "ab9b2778",
   "metadata": {},
   "outputs": [
    {
     "data": {
      "text/plain": [
       "'large'"
      ]
     },
     "execution_count": 174,
     "metadata": {},
     "output_type": "execute_result"
    }
   ],
   "source": [
    "canteen_menu['juice'][-1]"
   ]
  },
  {
   "cell_type": "code",
   "execution_count": 175,
   "id": "13930380",
   "metadata": {},
   "outputs": [],
   "source": [
    "d = {'a':1, 'b':2, 'C':3}"
   ]
  },
  {
   "cell_type": "code",
   "execution_count": 176,
   "id": "1a0a58bb",
   "metadata": {},
   "outputs": [
    {
     "name": "stdout",
     "output_type": "stream",
     "text": [
      "{'a': 1, 'b': 2, 'C': 3}\n"
     ]
    }
   ],
   "source": [
    "print(d)"
   ]
  },
  {
   "cell_type": "code",
   "execution_count": 178,
   "id": "0bce8b0e",
   "metadata": {},
   "outputs": [
    {
     "name": "stdout",
     "output_type": "stream",
     "text": [
      "a : 1\n",
      "b : 2\n",
      "C : 3\n"
     ]
    }
   ],
   "source": [
    "for k, v in d.items():\n",
    "    print(k, \":\" ,v)"
   ]
  },
  {
   "cell_type": "code",
   "execution_count": 179,
   "id": "ec16e946",
   "metadata": {},
   "outputs": [],
   "source": [
    "d = {'a':1, 'b':2, 'C':3, 'd':4, 'e':5}"
   ]
  },
  {
   "cell_type": "code",
   "execution_count": 182,
   "id": "3bf7a36b",
   "metadata": {},
   "outputs": [],
   "source": [
    "n = {k:v for k, v in d.items() if v>=2}"
   ]
  },
  {
   "cell_type": "code",
   "execution_count": 183,
   "id": "939e5e20",
   "metadata": {},
   "outputs": [
    {
     "name": "stdout",
     "output_type": "stream",
     "text": [
      "{'b': 2, 'C': 3, 'd': 4, 'e': 5}\n"
     ]
    }
   ],
   "source": [
    "print(n)"
   ]
  },
  {
   "cell_type": "code",
   "execution_count": 188,
   "id": "6b8cf6d3",
   "metadata": {},
   "outputs": [
    {
     "data": {
      "text/plain": [
       "{'bz': 8, 'Cz': 27, 'dz': 64, 'ez': 125}"
      ]
     },
     "execution_count": 188,
     "metadata": {},
     "output_type": "execute_result"
    }
   ],
   "source": [
    "{k+'z':v**3 for k,v in d.items() if v>=2}"
   ]
  },
  {
   "cell_type": "code",
   "execution_count": 189,
   "id": "373ed255",
   "metadata": {},
   "outputs": [
    {
     "data": {
      "text/plain": [
       "{'a': 1, 'b': 2, 'C': 3, 'd': 4, 'e': 5}"
      ]
     },
     "execution_count": 189,
     "metadata": {},
     "output_type": "execute_result"
    }
   ],
   "source": [
    "d"
   ]
  },
  {
   "cell_type": "code",
   "execution_count": 190,
   "id": "5e24162a",
   "metadata": {},
   "outputs": [],
   "source": [
    "d1 = {}\n",
    "for k,v in d.items():\n",
    "    d1[v] = k"
   ]
  },
  {
   "cell_type": "code",
   "execution_count": 191,
   "id": "bd7c81c6",
   "metadata": {},
   "outputs": [
    {
     "data": {
      "text/plain": [
       "{1: 'a', 2: 'b', 3: 'C', 4: 'd', 5: 'e'}"
      ]
     },
     "execution_count": 191,
     "metadata": {},
     "output_type": "execute_result"
    }
   ],
   "source": [
    "d1"
   ]
  },
  {
   "cell_type": "code",
   "execution_count": 192,
   "id": "23f70e75",
   "metadata": {},
   "outputs": [
    {
     "data": {
      "text/plain": [
       "{1: 'a', 2: 'b', 3: 'C', 4: 'd', 5: 'e'}"
      ]
     },
     "execution_count": 192,
     "metadata": {},
     "output_type": "execute_result"
    }
   ],
   "source": [
    "{v:k for k,v in d.items()}"
   ]
  },
  {
   "cell_type": "code",
   "execution_count": null,
   "id": "0327637e",
   "metadata": {},
   "outputs": [],
   "source": []
  },
  {
   "cell_type": "markdown",
   "id": "ee486705",
   "metadata": {},
   "source": [
    "# Functions and Moduls"
   ]
  },
  {
   "cell_type": "code",
   "execution_count": 2,
   "id": "417e5714",
   "metadata": {},
   "outputs": [],
   "source": [
    "def gtreetings(name):\n",
    "    \"\"\"This Function will greet you.\"\"\"\n",
    "    print(\"Good Morning \", name)"
   ]
  },
  {
   "cell_type": "code",
   "execution_count": 4,
   "id": "db90aedc",
   "metadata": {},
   "outputs": [
    {
     "name": "stdout",
     "output_type": "stream",
     "text": [
      "<function gtreetings at 0x00000235AB31A1F0>\n"
     ]
    }
   ],
   "source": [
    "print(gtreetings)"
   ]
  },
  {
   "cell_type": "code",
   "execution_count": 5,
   "id": "93ce0893",
   "metadata": {},
   "outputs": [
    {
     "data": {
      "text/plain": [
       "function"
      ]
     },
     "execution_count": 5,
     "metadata": {},
     "output_type": "execute_result"
    }
   ],
   "source": [
    "type(gtreetings)"
   ]
  },
  {
   "cell_type": "code",
   "execution_count": 7,
   "id": "6224a278",
   "metadata": {},
   "outputs": [
    {
     "name": "stdout",
     "output_type": "stream",
     "text": [
      "Good Morning  Sanjay\n"
     ]
    }
   ],
   "source": [
    "gtreetings('Sanjay')"
   ]
  },
  {
   "cell_type": "code",
   "execution_count": 8,
   "id": "809a4929",
   "metadata": {},
   "outputs": [
    {
     "name": "stdout",
     "output_type": "stream",
     "text": [
      "Good Morning  prateek\n"
     ]
    }
   ],
   "source": [
    "gtreetings('prateek')"
   ]
  },
  {
   "cell_type": "code",
   "execution_count": 9,
   "id": "660aec0c",
   "metadata": {},
   "outputs": [
    {
     "data": {
      "text/plain": [
       "'This Function will greet you.'"
      ]
     },
     "execution_count": 9,
     "metadata": {},
     "output_type": "execute_result"
    }
   ],
   "source": [
    "gtreetings.__doc__"
   ]
  },
  {
   "cell_type": "code",
   "execution_count": 11,
   "id": "c19c3cd3",
   "metadata": {},
   "outputs": [],
   "source": [
    "def add1(a,b):\n",
    "    \"\"\"This function will add 2 numbers\"\"\"\n",
    "    \n",
    "    c = a+b\n",
    "    return c"
   ]
  },
  {
   "cell_type": "code",
   "execution_count": 16,
   "id": "78182a93",
   "metadata": {},
   "outputs": [],
   "source": [
    "my_sum = add1(5,9)"
   ]
  },
  {
   "cell_type": "code",
   "execution_count": 17,
   "id": "f65e255f",
   "metadata": {},
   "outputs": [
    {
     "name": "stdout",
     "output_type": "stream",
     "text": [
      "14\n"
     ]
    }
   ],
   "source": [
    "print(my_sum)"
   ]
  },
  {
   "cell_type": "code",
   "execution_count": 18,
   "id": "74dd1478",
   "metadata": {},
   "outputs": [],
   "source": [
    "def product_list(lst):\n",
    "    \"\"\"\n",
    "    Parameters : It will be a list\n",
    "    \n",
    "    REsult: It will product all the numbers of the list\n",
    "    \n",
    "    \"\"\"\n",
    "    \n",
    "    p = 1\n",
    "    \n",
    "    for i in lst:\n",
    "        p*=i\n",
    "        \n",
    "    return p"
   ]
  },
  {
   "cell_type": "code",
   "execution_count": 19,
   "id": "702c604f",
   "metadata": {},
   "outputs": [],
   "source": [
    "lst = [5,3,2,4,1]"
   ]
  },
  {
   "cell_type": "code",
   "execution_count": 21,
   "id": "075d78a9",
   "metadata": {},
   "outputs": [],
   "source": [
    "res = product_list(lst)"
   ]
  },
  {
   "cell_type": "code",
   "execution_count": 22,
   "id": "9f828861",
   "metadata": {},
   "outputs": [
    {
     "name": "stdout",
     "output_type": "stream",
     "text": [
      "120\n"
     ]
    }
   ],
   "source": [
    "print(res)"
   ]
  },
  {
   "cell_type": "code",
   "execution_count": 23,
   "id": "4eaf9c3f",
   "metadata": {},
   "outputs": [],
   "source": [
    "lst2 = [3,7,9,10,5]"
   ]
  },
  {
   "cell_type": "code",
   "execution_count": 25,
   "id": "62a4a7b0",
   "metadata": {},
   "outputs": [],
   "source": [
    "res2 = product_list(lst2)"
   ]
  },
  {
   "cell_type": "code",
   "execution_count": 26,
   "id": "88ced1ee",
   "metadata": {},
   "outputs": [
    {
     "name": "stdout",
     "output_type": "stream",
     "text": [
      "9450\n"
     ]
    }
   ],
   "source": [
    "print(res2)"
   ]
  },
  {
   "cell_type": "code",
   "execution_count": 31,
   "id": "de6110f9",
   "metadata": {},
   "outputs": [],
   "source": [
    "def calculator(a,b):\n",
    "    \"\"\"This will perform 4 basic arithmatic operations\"\"\"\n",
    "    \n",
    "    return [a+b, a-b, a*b, a/b, a//b, a%b]"
   ]
  },
  {
   "cell_type": "code",
   "execution_count": 32,
   "id": "09b939a9",
   "metadata": {},
   "outputs": [],
   "source": [
    "cal_res = calculator(6,3)"
   ]
  },
  {
   "cell_type": "code",
   "execution_count": 33,
   "id": "d7e23775",
   "metadata": {},
   "outputs": [
    {
     "name": "stdout",
     "output_type": "stream",
     "text": [
      "[9, 3, 18, 2.0, 2, 0]\n"
     ]
    }
   ],
   "source": [
    "print(cal_res)"
   ]
  },
  {
   "cell_type": "code",
   "execution_count": 34,
   "id": "8736cf74",
   "metadata": {},
   "outputs": [],
   "source": [
    "age = 25"
   ]
  },
  {
   "cell_type": "code",
   "execution_count": 35,
   "id": "c0a8a007",
   "metadata": {},
   "outputs": [
    {
     "name": "stdout",
     "output_type": "stream",
     "text": [
      "25\n"
     ]
    }
   ],
   "source": [
    "print(age)"
   ]
  },
  {
   "cell_type": "code",
   "execution_count": 38,
   "id": "29c7968f",
   "metadata": {},
   "outputs": [
    {
     "name": "stdout",
     "output_type": "stream",
     "text": [
      "25\n"
     ]
    }
   ],
   "source": [
    "print(globals()['age'])"
   ]
  },
  {
   "cell_type": "code",
   "execution_count": 41,
   "id": "90aafc2d",
   "metadata": {},
   "outputs": [],
   "source": [
    "globals()['age'] = 125"
   ]
  },
  {
   "cell_type": "code",
   "execution_count": 44,
   "id": "539a3ca9",
   "metadata": {},
   "outputs": [
    {
     "name": "stdout",
     "output_type": "stream",
     "text": [
      "125\n"
     ]
    }
   ],
   "source": [
    "print(globals()['age'])"
   ]
  },
  {
   "cell_type": "code",
   "execution_count": 46,
   "id": "6dd2f606",
   "metadata": {},
   "outputs": [
    {
     "name": "stdout",
     "output_type": "stream",
     "text": [
      "125\n"
     ]
    }
   ],
   "source": [
    "print(age)"
   ]
  },
  {
   "cell_type": "code",
   "execution_count": 47,
   "id": "b2c84ea2",
   "metadata": {},
   "outputs": [],
   "source": [
    "global_variable = 100\n",
    "\n",
    "def test_func():\n",
    "    local_var = 66\n",
    "    print(global_variable)\n",
    "    print(local_var)\n",
    "    "
   ]
  },
  {
   "cell_type": "code",
   "execution_count": 48,
   "id": "958666c6",
   "metadata": {},
   "outputs": [
    {
     "name": "stdout",
     "output_type": "stream",
     "text": [
      "100\n",
      "100\n",
      "66\n"
     ]
    },
    {
     "ename": "NameError",
     "evalue": "name 'local_var' is not defined",
     "output_type": "error",
     "traceback": [
      "\u001b[1;31m---------------------------------------------------------------------------\u001b[0m",
      "\u001b[1;31mNameError\u001b[0m                                 Traceback (most recent call last)",
      "\u001b[1;32m<ipython-input-48-31a34ed8a03f>\u001b[0m in \u001b[0;36m<module>\u001b[1;34m\u001b[0m\n\u001b[0;32m      1\u001b[0m \u001b[0mprint\u001b[0m\u001b[1;33m(\u001b[0m\u001b[0mglobal_variable\u001b[0m\u001b[1;33m)\u001b[0m\u001b[1;33m\u001b[0m\u001b[1;33m\u001b[0m\u001b[0m\n\u001b[0;32m      2\u001b[0m \u001b[0mtest_func\u001b[0m\u001b[1;33m(\u001b[0m\u001b[1;33m)\u001b[0m\u001b[1;33m\u001b[0m\u001b[1;33m\u001b[0m\u001b[0m\n\u001b[1;32m----> 3\u001b[1;33m \u001b[0mprint\u001b[0m\u001b[1;33m(\u001b[0m\u001b[0mlocal_var\u001b[0m\u001b[1;33m)\u001b[0m\u001b[1;33m\u001b[0m\u001b[1;33m\u001b[0m\u001b[0m\n\u001b[0m",
      "\u001b[1;31mNameError\u001b[0m: name 'local_var' is not defined"
     ]
    }
   ],
   "source": [
    "print(global_variable)\n",
    "test_func()\n",
    "print(local_var)"
   ]
  },
  {
   "cell_type": "code",
   "execution_count": 51,
   "id": "239b4af4",
   "metadata": {},
   "outputs": [],
   "source": [
    "x = 45\n",
    "\n",
    "def new_func():\n",
    "    global x\n",
    "    x = 22\n",
    "    print(x)\n",
    "    \n"
   ]
  },
  {
   "cell_type": "code",
   "execution_count": 52,
   "id": "fc3a2c78",
   "metadata": {},
   "outputs": [
    {
     "name": "stdout",
     "output_type": "stream",
     "text": [
      "22\n",
      "22\n"
     ]
    }
   ],
   "source": [
    "new_func()\n",
    "print(x)"
   ]
  },
  {
   "cell_type": "code",
   "execution_count": 55,
   "id": "f05d574f",
   "metadata": {},
   "outputs": [],
   "source": [
    "add = (lambda a,b :a+b)"
   ]
  },
  {
   "cell_type": "code",
   "execution_count": 56,
   "id": "d12ee825",
   "metadata": {},
   "outputs": [
    {
     "data": {
      "text/plain": [
       "9"
      ]
     },
     "execution_count": 56,
     "metadata": {},
     "output_type": "execute_result"
    }
   ],
   "source": [
    "add(5,4)"
   ]
  },
  {
   "cell_type": "code",
   "execution_count": 59,
   "id": "007d3c0d",
   "metadata": {},
   "outputs": [],
   "source": [
    "func = (lambda x,y : x+y if x+y>0 else 0)"
   ]
  },
  {
   "cell_type": "code",
   "execution_count": 60,
   "id": "5ca983ab",
   "metadata": {},
   "outputs": [
    {
     "data": {
      "text/plain": [
       "0"
      ]
     },
     "execution_count": 60,
     "metadata": {},
     "output_type": "execute_result"
    }
   ],
   "source": [
    "func(5,-40)"
   ]
  },
  {
   "cell_type": "code",
   "execution_count": 61,
   "id": "464d6e77",
   "metadata": {},
   "outputs": [],
   "source": [
    "names = [('Prateek', 5),('Mohit', 2),('Abhi', 6)]"
   ]
  },
  {
   "cell_type": "code",
   "execution_count": 62,
   "id": "4b361c3b",
   "metadata": {},
   "outputs": [
    {
     "data": {
      "text/plain": [
       "[('Abhi', 6), ('Mohit', 2), ('Prateek', 5)]"
      ]
     },
     "execution_count": 62,
     "metadata": {},
     "output_type": "execute_result"
    }
   ],
   "source": [
    "sorted(names)"
   ]
  },
  {
   "cell_type": "code",
   "execution_count": 63,
   "id": "a553f588",
   "metadata": {},
   "outputs": [
    {
     "data": {
      "text/plain": [
       "[('Mohit', 2), ('Prateek', 5), ('Abhi', 6)]"
      ]
     },
     "execution_count": 63,
     "metadata": {},
     "output_type": "execute_result"
    }
   ],
   "source": [
    "sorted(names, key= lambda x : x[1])"
   ]
  },
  {
   "cell_type": "code",
   "execution_count": null,
   "id": "b468c9a6",
   "metadata": {},
   "outputs": [],
   "source": []
  },
  {
   "cell_type": "code",
   "execution_count": 66,
   "id": "4fa9930e",
   "metadata": {},
   "outputs": [],
   "source": [
    "def LCM_nomber(a,b):\n",
    "    max_num = (a if a>b else b)\n",
    "    \n",
    "    while True:\n",
    "        if (max_num%a==0) and (max_num%b==0):\n",
    "            return max_num\n",
    "        else:\n",
    "            max_num+=1"
   ]
  },
  {
   "cell_type": "code",
   "execution_count": 68,
   "id": "c2366e5b",
   "metadata": {},
   "outputs": [],
   "source": [
    "res = LCM_nomber(4,18)"
   ]
  },
  {
   "cell_type": "code",
   "execution_count": 69,
   "id": "cc92fe78",
   "metadata": {},
   "outputs": [
    {
     "name": "stdout",
     "output_type": "stream",
     "text": [
      "36\n"
     ]
    }
   ],
   "source": [
    "print(res)"
   ]
  },
  {
   "cell_type": "code",
   "execution_count": 71,
   "id": "f2fd8f49",
   "metadata": {},
   "outputs": [],
   "source": [
    "res = LCM_nomber(4,16)"
   ]
  },
  {
   "cell_type": "code",
   "execution_count": 72,
   "id": "142e4f63",
   "metadata": {},
   "outputs": [
    {
     "name": "stdout",
     "output_type": "stream",
     "text": [
      "16\n"
     ]
    }
   ],
   "source": [
    "print(res)"
   ]
  },
  {
   "cell_type": "code",
   "execution_count": 73,
   "id": "ba17cf2c",
   "metadata": {},
   "outputs": [
    {
     "data": {
      "text/plain": [
       "15"
      ]
     },
     "execution_count": 73,
     "metadata": {},
     "output_type": "execute_result"
    }
   ],
   "source": [
    "LCM_nomber(3,5)"
   ]
  },
  {
   "cell_type": "code",
   "execution_count": 74,
   "id": "1c6492fa",
   "metadata": {},
   "outputs": [],
   "source": [
    "def intro(name, natinality):\n",
    "    print(\"My name is\", name)\n",
    "    print(\"I am \", natinality)"
   ]
  },
  {
   "cell_type": "code",
   "execution_count": 75,
   "id": "9267955b",
   "metadata": {},
   "outputs": [
    {
     "name": "stdout",
     "output_type": "stream",
     "text": [
      "My name is Mohit\n",
      "I am  Indian\n"
     ]
    }
   ],
   "source": [
    "intro('Mohit', \"Indian\")"
   ]
  },
  {
   "cell_type": "code",
   "execution_count": 76,
   "id": "a667b021",
   "metadata": {},
   "outputs": [
    {
     "name": "stdout",
     "output_type": "stream",
     "text": [
      "My name is John\n",
      "I am  American\n"
     ]
    }
   ],
   "source": [
    "intro('John', 'American')"
   ]
  },
  {
   "cell_type": "code",
   "execution_count": 79,
   "id": "e1b200b4",
   "metadata": {},
   "outputs": [
    {
     "name": "stdout",
     "output_type": "stream",
     "text": [
      "My name is Indian\n",
      "I am   Sanjay\n"
     ]
    }
   ],
   "source": [
    "intro('Indian', \" Sanjay\")"
   ]
  },
  {
   "cell_type": "code",
   "execution_count": 80,
   "id": "14c144ea",
   "metadata": {},
   "outputs": [],
   "source": [
    "def introduction(name, nationality = 'Indian'):\n",
    "    print(\"My name is\", name)\n",
    "    print(\"I am \", nationality)"
   ]
  },
  {
   "cell_type": "code",
   "execution_count": 82,
   "id": "0fbeb436",
   "metadata": {},
   "outputs": [
    {
     "name": "stdout",
     "output_type": "stream",
     "text": [
      "My name is Mohit\n",
      "I am  Chinese\n"
     ]
    }
   ],
   "source": [
    "introduction('Mohit', 'Chinese')"
   ]
  },
  {
   "cell_type": "code",
   "execution_count": 84,
   "id": "8edf7e6a",
   "metadata": {},
   "outputs": [],
   "source": [
    "def test(a,b,c, d = 0):\n",
    "    pass"
   ]
  },
  {
   "cell_type": "code",
   "execution_count": 86,
   "id": "0450a555",
   "metadata": {},
   "outputs": [],
   "source": [
    "def args_fuc(*args):\n",
    "    print(args)\n",
    "    print(type(args))\n",
    "    \n",
    "    for i in args:\n",
    "        print(i*2)"
   ]
  },
  {
   "cell_type": "code",
   "execution_count": 87,
   "id": "1dbefb83",
   "metadata": {},
   "outputs": [
    {
     "name": "stdout",
     "output_type": "stream",
     "text": [
      "(4, 8, 6, 'Mohit', True)\n",
      "<class 'tuple'>\n",
      "8\n",
      "16\n",
      "12\n",
      "MohitMohit\n",
      "2\n"
     ]
    }
   ],
   "source": [
    "args_fuc(4,8,6,\"Mohit\", True)"
   ]
  },
  {
   "cell_type": "code",
   "execution_count": 88,
   "id": "769bd42e",
   "metadata": {},
   "outputs": [],
   "source": [
    "def introductio2(**kwargs):\n",
    "    print(kwargs)\n",
    "    print(type(kwargs))\n",
    "    \n",
    "    for k,v in kwargs.items():\n",
    "        print(k, \":\", v)"
   ]
  },
  {
   "cell_type": "code",
   "execution_count": 89,
   "id": "a4f0befa",
   "metadata": {},
   "outputs": [
    {
     "name": "stdout",
     "output_type": "stream",
     "text": [
      "{'name': 'Mohit', 'age': 30, 'hobby': ['Coding', 'singing', 'cooking'], 'nationality': 'Indian'}\n",
      "<class 'dict'>\n",
      "name : Mohit\n",
      "age : 30\n",
      "hobby : ['Coding', 'singing', 'cooking']\n",
      "nationality : Indian\n"
     ]
    }
   ],
   "source": [
    "introductio2(name = 'Mohit', age = 30, hobby = ['Coding', 'singing', 'cooking'], nationality = 'Indian')"
   ]
  },
  {
   "cell_type": "code",
   "execution_count": 91,
   "id": "7b43f34f",
   "metadata": {},
   "outputs": [
    {
     "name": "stdout",
     "output_type": "stream",
     "text": [
      "{'name': 'Prateek', 'age': 25, 'company': 'Google'}\n",
      "<class 'dict'>\n",
      "name : Prateek\n",
      "age : 25\n",
      "company : Google\n"
     ]
    }
   ],
   "source": [
    "introductio2(name = 'Prateek', age = 25, company = 'Google')"
   ]
  },
  {
   "cell_type": "code",
   "execution_count": 92,
   "id": "e3667093",
   "metadata": {},
   "outputs": [],
   "source": [
    "def combination(a,b,c, age = 18, *args, **kwargs):\n",
    "    print(a,b,c, age)\n",
    "    print(args)\n",
    "    print(kwargs)"
   ]
  },
  {
   "cell_type": "code",
   "execution_count": 93,
   "id": "91ec5b80",
   "metadata": {},
   "outputs": [
    {
     "name": "stdout",
     "output_type": "stream",
     "text": [
      "100 200 300 400\n",
      "(500, 600)\n",
      "{'x': 78, 'y': 99, 'z': 0.0}\n"
     ]
    }
   ],
   "source": [
    "combination(100,200,300,400,500,600,x = 78,y = 99,z = 0.0)"
   ]
  },
  {
   "cell_type": "code",
   "execution_count": 95,
   "id": "10be234d",
   "metadata": {},
   "outputs": [
    {
     "data": {
      "text/plain": [
       "1.1"
      ]
     },
     "execution_count": 95,
     "metadata": {},
     "output_type": "execute_result"
    }
   ],
   "source": [
    "abs(-1.1)"
   ]
  },
  {
   "cell_type": "code",
   "execution_count": 98,
   "id": "b78015c8",
   "metadata": {},
   "outputs": [
    {
     "data": {
      "text/plain": [
       "78.977"
      ]
     },
     "execution_count": 98,
     "metadata": {},
     "output_type": "execute_result"
    }
   ],
   "source": [
    "round(78.97678565, 3)"
   ]
  },
  {
   "cell_type": "code",
   "execution_count": 104,
   "id": "3ce2b624",
   "metadata": {},
   "outputs": [],
   "source": [
    "lst = [1,2,3,4, False]"
   ]
  },
  {
   "cell_type": "code",
   "execution_count": 105,
   "id": "d0de39e5",
   "metadata": {},
   "outputs": [
    {
     "data": {
      "text/plain": [
       "False"
      ]
     },
     "execution_count": 105,
     "metadata": {},
     "output_type": "execute_result"
    }
   ],
   "source": [
    "all(lst)"
   ]
  },
  {
   "cell_type": "code",
   "execution_count": 106,
   "id": "6882920d",
   "metadata": {},
   "outputs": [
    {
     "data": {
      "text/plain": [
       "True"
      ]
     },
     "execution_count": 106,
     "metadata": {},
     "output_type": "execute_result"
    }
   ],
   "source": [
    "lst10 = []\n",
    "\n",
    "all(lst10)"
   ]
  },
  {
   "cell_type": "code",
   "execution_count": 116,
   "id": "f51f8202",
   "metadata": {},
   "outputs": [],
   "source": [
    "lst = [False,0,-1]"
   ]
  },
  {
   "cell_type": "code",
   "execution_count": 117,
   "id": "4276d2f7",
   "metadata": {},
   "outputs": [
    {
     "data": {
      "text/plain": [
       "True"
      ]
     },
     "execution_count": 117,
     "metadata": {},
     "output_type": "execute_result"
    }
   ],
   "source": [
    "any(lst)"
   ]
  },
  {
   "cell_type": "code",
   "execution_count": 118,
   "id": "deacb9dd",
   "metadata": {},
   "outputs": [
    {
     "data": {
      "text/plain": [
       "False"
      ]
     },
     "execution_count": 118,
     "metadata": {},
     "output_type": "execute_result"
    }
   ],
   "source": [
    "lst = []\n",
    "any(lst)"
   ]
  },
  {
   "cell_type": "code",
   "execution_count": 121,
   "id": "25ea675d",
   "metadata": {},
   "outputs": [],
   "source": [
    "lst = [0]*5"
   ]
  },
  {
   "cell_type": "code",
   "execution_count": 122,
   "id": "001d41df",
   "metadata": {},
   "outputs": [
    {
     "data": {
      "text/plain": [
       "False"
      ]
     },
     "execution_count": 122,
     "metadata": {},
     "output_type": "execute_result"
    }
   ],
   "source": [
    "any(lst)"
   ]
  },
  {
   "cell_type": "code",
   "execution_count": 123,
   "id": "baacfd98",
   "metadata": {},
   "outputs": [],
   "source": [
    "lst = [1,2,3,4]"
   ]
  },
  {
   "cell_type": "code",
   "execution_count": 125,
   "id": "0c43a218",
   "metadata": {},
   "outputs": [
    {
     "name": "stdout",
     "output_type": "stream",
     "text": [
      "['__add__', '__class__', '__contains__', '__delattr__', '__delitem__', '__dir__', '__doc__', '__eq__', '__format__', '__ge__', '__getattribute__', '__getitem__', '__gt__', '__hash__', '__iadd__', '__imul__', '__init__', '__init_subclass__', '__iter__', '__le__', '__len__', '__lt__', '__mul__', '__ne__', '__new__', '__reduce__', '__reduce_ex__', '__repr__', '__reversed__', '__rmul__', '__setattr__', '__setitem__', '__sizeof__', '__str__', '__subclasshook__', 'append', 'clear', 'copy', 'count', 'extend', 'index', 'insert', 'pop', 'remove', 'reverse', 'sort']\n"
     ]
    }
   ],
   "source": [
    "print(dir(lst))"
   ]
  },
  {
   "cell_type": "code",
   "execution_count": 127,
   "id": "cc702991",
   "metadata": {},
   "outputs": [],
   "source": [
    "fruits = ['apple', 'mango', 'banana', 'grapes']"
   ]
  },
  {
   "cell_type": "code",
   "execution_count": 131,
   "id": "3e3a6bd6",
   "metadata": {},
   "outputs": [
    {
     "name": "stdout",
     "output_type": "stream",
     "text": [
      "50 apple\n",
      "51 mango\n",
      "52 banana\n",
      "53 grapes\n"
     ]
    }
   ],
   "source": [
    "for idx,i in enumerate(fruits, 50):\n",
    "    print(idx, i)"
   ]
  },
  {
   "cell_type": "code",
   "execution_count": 132,
   "id": "dd16ce4b",
   "metadata": {},
   "outputs": [],
   "source": [
    "lst = [3,6,8,2,5,1,0]"
   ]
  },
  {
   "cell_type": "code",
   "execution_count": 133,
   "id": "748ea81b",
   "metadata": {},
   "outputs": [
    {
     "data": {
      "text/plain": [
       "25"
      ]
     },
     "execution_count": 133,
     "metadata": {},
     "output_type": "execute_result"
    }
   ],
   "source": [
    "sum(lst)"
   ]
  },
  {
   "cell_type": "code",
   "execution_count": 134,
   "id": "a78a2215",
   "metadata": {},
   "outputs": [
    {
     "data": {
      "text/plain": [
       "8"
      ]
     },
     "execution_count": 134,
     "metadata": {},
     "output_type": "execute_result"
    }
   ],
   "source": [
    "max(lst)"
   ]
  },
  {
   "cell_type": "code",
   "execution_count": 135,
   "id": "48ec4502",
   "metadata": {},
   "outputs": [
    {
     "data": {
      "text/plain": [
       "0"
      ]
     },
     "execution_count": 135,
     "metadata": {},
     "output_type": "execute_result"
    }
   ],
   "source": [
    "min(lst)"
   ]
  },
  {
   "cell_type": "code",
   "execution_count": 140,
   "id": "94ae4c01",
   "metadata": {},
   "outputs": [
    {
     "data": {
      "text/plain": [
       "3.6"
      ]
     },
     "execution_count": 140,
     "metadata": {},
     "output_type": "execute_result"
    }
   ],
   "source": [
    "round(sum(lst)/len(lst), 1)"
   ]
  },
  {
   "cell_type": "code",
   "execution_count": 141,
   "id": "35cd89fb",
   "metadata": {},
   "outputs": [],
   "source": [
    "def add_one(x):\n",
    "    return x+1"
   ]
  },
  {
   "cell_type": "code",
   "execution_count": 142,
   "id": "22a83594",
   "metadata": {},
   "outputs": [
    {
     "data": {
      "text/plain": [
       "101"
      ]
     },
     "execution_count": 142,
     "metadata": {},
     "output_type": "execute_result"
    }
   ],
   "source": [
    "add_one(100)"
   ]
  },
  {
   "cell_type": "code",
   "execution_count": 143,
   "id": "88a6bdac",
   "metadata": {},
   "outputs": [
    {
     "data": {
      "text/plain": [
       "[3, 6, 8, 2, 5, 1, 0]"
      ]
     },
     "execution_count": 143,
     "metadata": {},
     "output_type": "execute_result"
    }
   ],
   "source": [
    "lst"
   ]
  },
  {
   "cell_type": "code",
   "execution_count": 146,
   "id": "7c104d29",
   "metadata": {},
   "outputs": [],
   "source": [
    "new_lst10 = []\n",
    "for i in lst:\n",
    "    new_lst10.append(i+1)\n",
    "    "
   ]
  },
  {
   "cell_type": "code",
   "execution_count": 147,
   "id": "e8ffa53b",
   "metadata": {},
   "outputs": [
    {
     "data": {
      "text/plain": [
       "[4, 7, 9, 3, 6, 2, 1]"
      ]
     },
     "execution_count": 147,
     "metadata": {},
     "output_type": "execute_result"
    }
   ],
   "source": [
    "new_lst10"
   ]
  },
  {
   "cell_type": "code",
   "execution_count": 149,
   "id": "3620ea15",
   "metadata": {},
   "outputs": [
    {
     "data": {
      "text/plain": [
       "[4, 7, 9, 3, 6, 2, 1]"
      ]
     },
     "execution_count": 149,
     "metadata": {},
     "output_type": "execute_result"
    }
   ],
   "source": [
    "list(map(add_one, lst))"
   ]
  },
  {
   "cell_type": "code",
   "execution_count": 151,
   "id": "6ca35a9b",
   "metadata": {},
   "outputs": [
    {
     "data": {
      "text/plain": [
       "[4, 7, 9, 3, 6, 2, 1]"
      ]
     },
     "execution_count": 151,
     "metadata": {},
     "output_type": "execute_result"
    }
   ],
   "source": [
    "list(map(lambda x:x+1, lst))"
   ]
  },
  {
   "cell_type": "code",
   "execution_count": 152,
   "id": "e3f5eeb6",
   "metadata": {},
   "outputs": [
    {
     "name": "stdout",
     "output_type": "stream",
     "text": [
      "[3, 6, 8, 2, 5, 1, 0]\n"
     ]
    }
   ],
   "source": [
    "print(lst)"
   ]
  },
  {
   "cell_type": "code",
   "execution_count": 155,
   "id": "e045d3ef",
   "metadata": {},
   "outputs": [],
   "source": [
    "new_st = []\n",
    "for i in lst:\n",
    "    if i%2==0:\n",
    "        new_st.append(i)"
   ]
  },
  {
   "cell_type": "code",
   "execution_count": 156,
   "id": "bc07a2c4",
   "metadata": {},
   "outputs": [
    {
     "data": {
      "text/plain": [
       "[6, 8, 2, 0]"
      ]
     },
     "execution_count": 156,
     "metadata": {},
     "output_type": "execute_result"
    }
   ],
   "source": [
    "new_st"
   ]
  },
  {
   "cell_type": "code",
   "execution_count": 157,
   "id": "aeaffa2b",
   "metadata": {},
   "outputs": [],
   "source": [
    "def even_check(x):\n",
    "    return x%2==0"
   ]
  },
  {
   "cell_type": "code",
   "execution_count": 159,
   "id": "3197be00",
   "metadata": {},
   "outputs": [
    {
     "data": {
      "text/plain": [
       "True"
      ]
     },
     "execution_count": 159,
     "metadata": {},
     "output_type": "execute_result"
    }
   ],
   "source": [
    "even_check(10)"
   ]
  },
  {
   "cell_type": "code",
   "execution_count": 162,
   "id": "2a457e34",
   "metadata": {},
   "outputs": [],
   "source": [
    "fiter_ele = list(filter(even_check, lst))"
   ]
  },
  {
   "cell_type": "code",
   "execution_count": 163,
   "id": "d5fabc40",
   "metadata": {},
   "outputs": [
    {
     "name": "stdout",
     "output_type": "stream",
     "text": [
      "[6, 8, 2, 0]\n"
     ]
    }
   ],
   "source": [
    "print(fiter_ele)"
   ]
  },
  {
   "cell_type": "code",
   "execution_count": 165,
   "id": "ebf9c125",
   "metadata": {},
   "outputs": [
    {
     "data": {
      "text/plain": [
       "[6, 8, 2, 0]"
      ]
     },
     "execution_count": 165,
     "metadata": {},
     "output_type": "execute_result"
    }
   ],
   "source": [
    "list(filter(lambda x:x%2==0, lst))"
   ]
  },
  {
   "cell_type": "code",
   "execution_count": 166,
   "id": "28c3cec7",
   "metadata": {},
   "outputs": [],
   "source": [
    "lst = [1,2,3,4,5]"
   ]
  },
  {
   "cell_type": "code",
   "execution_count": 167,
   "id": "783da6cb",
   "metadata": {},
   "outputs": [],
   "source": [
    "p = 1\n",
    "for i in lst:\n",
    "    p*=i\n",
    "    \n"
   ]
  },
  {
   "cell_type": "code",
   "execution_count": 168,
   "id": "a8632d46",
   "metadata": {},
   "outputs": [
    {
     "name": "stdout",
     "output_type": "stream",
     "text": [
      "120\n"
     ]
    }
   ],
   "source": [
    "print(p)"
   ]
  },
  {
   "cell_type": "code",
   "execution_count": 169,
   "id": "08443abe",
   "metadata": {},
   "outputs": [],
   "source": [
    "from functools import reduce"
   ]
  },
  {
   "cell_type": "code",
   "execution_count": 170,
   "id": "ed8465bb",
   "metadata": {},
   "outputs": [],
   "source": [
    "def multiply(x,y):\n",
    "    return x*y"
   ]
  },
  {
   "cell_type": "code",
   "execution_count": 171,
   "id": "900bfb2a",
   "metadata": {},
   "outputs": [
    {
     "data": {
      "text/plain": [
       "20"
      ]
     },
     "execution_count": 171,
     "metadata": {},
     "output_type": "execute_result"
    }
   ],
   "source": [
    "multiply(5,4)"
   ]
  },
  {
   "cell_type": "code",
   "execution_count": 172,
   "id": "90aa2761",
   "metadata": {},
   "outputs": [
    {
     "data": {
      "text/plain": [
       "120"
      ]
     },
     "execution_count": 172,
     "metadata": {},
     "output_type": "execute_result"
    }
   ],
   "source": [
    "reduce(multiply, lst)"
   ]
  },
  {
   "cell_type": "code",
   "execution_count": 173,
   "id": "97d8ec91",
   "metadata": {},
   "outputs": [
    {
     "data": {
      "text/plain": [
       "120"
      ]
     },
     "execution_count": 173,
     "metadata": {},
     "output_type": "execute_result"
    }
   ],
   "source": [
    "reduce(lambda x,y : x*y, lst)"
   ]
  },
  {
   "cell_type": "code",
   "execution_count": 174,
   "id": "8ad03dda",
   "metadata": {},
   "outputs": [],
   "source": [
    "\n",
    "import os\n",
    "import datetime\n",
    "import random\n",
    "import sys\n",
    "import math"
   ]
  },
  {
   "cell_type": "code",
   "execution_count": 175,
   "id": "843dfd0e",
   "metadata": {},
   "outputs": [
    {
     "data": {
      "text/plain": [
       "['__doc__',\n",
       " '__loader__',\n",
       " '__name__',\n",
       " '__package__',\n",
       " '__spec__',\n",
       " 'acos',\n",
       " 'acosh',\n",
       " 'asin',\n",
       " 'asinh',\n",
       " 'atan',\n",
       " 'atan2',\n",
       " 'atanh',\n",
       " 'ceil',\n",
       " 'comb',\n",
       " 'copysign',\n",
       " 'cos',\n",
       " 'cosh',\n",
       " 'degrees',\n",
       " 'dist',\n",
       " 'e',\n",
       " 'erf',\n",
       " 'erfc',\n",
       " 'exp',\n",
       " 'expm1',\n",
       " 'fabs',\n",
       " 'factorial',\n",
       " 'floor',\n",
       " 'fmod',\n",
       " 'frexp',\n",
       " 'fsum',\n",
       " 'gamma',\n",
       " 'gcd',\n",
       " 'hypot',\n",
       " 'inf',\n",
       " 'isclose',\n",
       " 'isfinite',\n",
       " 'isinf',\n",
       " 'isnan',\n",
       " 'isqrt',\n",
       " 'ldexp',\n",
       " 'lgamma',\n",
       " 'log',\n",
       " 'log10',\n",
       " 'log1p',\n",
       " 'log2',\n",
       " 'modf',\n",
       " 'nan',\n",
       " 'perm',\n",
       " 'pi',\n",
       " 'pow',\n",
       " 'prod',\n",
       " 'radians',\n",
       " 'remainder',\n",
       " 'sin',\n",
       " 'sinh',\n",
       " 'sqrt',\n",
       " 'tan',\n",
       " 'tanh',\n",
       " 'tau',\n",
       " 'trunc']"
      ]
     },
     "execution_count": 175,
     "metadata": {},
     "output_type": "execute_result"
    }
   ],
   "source": [
    "dir(math)"
   ]
  },
  {
   "cell_type": "code",
   "execution_count": 176,
   "id": "2b3c0ab2",
   "metadata": {},
   "outputs": [
    {
     "data": {
      "text/plain": [
       "3.141592653589793"
      ]
     },
     "execution_count": 176,
     "metadata": {},
     "output_type": "execute_result"
    }
   ],
   "source": [
    "math.pi"
   ]
  },
  {
   "cell_type": "code",
   "execution_count": 179,
   "id": "f24b3221",
   "metadata": {},
   "outputs": [
    {
     "data": {
      "text/plain": [
       "9.0"
      ]
     },
     "execution_count": 179,
     "metadata": {},
     "output_type": "execute_result"
    }
   ],
   "source": [
    "math.pow(3,2)"
   ]
  },
  {
   "cell_type": "code",
   "execution_count": 180,
   "id": "27ab568f",
   "metadata": {},
   "outputs": [
    {
     "data": {
      "text/plain": [
       "120"
      ]
     },
     "execution_count": 180,
     "metadata": {},
     "output_type": "execute_result"
    }
   ],
   "source": [
    "math.factorial(5)"
   ]
  },
  {
   "cell_type": "code",
   "execution_count": 181,
   "id": "bf1f3b7d",
   "metadata": {},
   "outputs": [
    {
     "data": {
      "text/plain": [
       "8"
      ]
     },
     "execution_count": 181,
     "metadata": {},
     "output_type": "execute_result"
    }
   ],
   "source": [
    "math.ceil(7.8)"
   ]
  },
  {
   "cell_type": "code",
   "execution_count": 182,
   "id": "2e2e2f7b",
   "metadata": {},
   "outputs": [
    {
     "data": {
      "text/plain": [
       "1.0"
      ]
     },
     "execution_count": 182,
     "metadata": {},
     "output_type": "execute_result"
    }
   ],
   "source": [
    "math.remainder(5,2)"
   ]
  },
  {
   "cell_type": "code",
   "execution_count": 183,
   "id": "b845a056",
   "metadata": {},
   "outputs": [],
   "source": [
    "import random"
   ]
  },
  {
   "cell_type": "code",
   "execution_count": 187,
   "id": "fccac119",
   "metadata": {},
   "outputs": [
    {
     "data": {
      "text/plain": [
       "3"
      ]
     },
     "execution_count": 187,
     "metadata": {},
     "output_type": "execute_result"
    }
   ],
   "source": [
    "random.randint(0,20)"
   ]
  },
  {
   "cell_type": "code",
   "execution_count": 201,
   "id": "ab469fc4",
   "metadata": {},
   "outputs": [
    {
     "data": {
      "text/plain": [
       "34"
      ]
     },
     "execution_count": 201,
     "metadata": {},
     "output_type": "execute_result"
    }
   ],
   "source": [
    "round(random.random()*50) + 10"
   ]
  },
  {
   "cell_type": "code",
   "execution_count": 202,
   "id": "36cf553d",
   "metadata": {},
   "outputs": [],
   "source": [
    "import os"
   ]
  },
  {
   "cell_type": "code",
   "execution_count": 204,
   "id": "949cb38c",
   "metadata": {},
   "outputs": [
    {
     "name": "stdout",
     "output_type": "stream",
     "text": [
      "['DirEntry', 'F_OK', 'MutableMapping', 'O_APPEND', 'O_BINARY', 'O_CREAT', 'O_EXCL', 'O_NOINHERIT', 'O_RANDOM', 'O_RDONLY', 'O_RDWR', 'O_SEQUENTIAL', 'O_SHORT_LIVED', 'O_TEMPORARY', 'O_TEXT', 'O_TRUNC', 'O_WRONLY', 'P_DETACH', 'P_NOWAIT', 'P_NOWAITO', 'P_OVERLAY', 'P_WAIT', 'PathLike', 'R_OK', 'SEEK_CUR', 'SEEK_END', 'SEEK_SET', 'TMP_MAX', 'W_OK', 'X_OK', '_AddedDllDirectory', '_Environ', '__all__', '__builtins__', '__cached__', '__doc__', '__file__', '__loader__', '__name__', '__package__', '__spec__', '_check_methods', '_execvpe', '_exists', '_exit', '_fspath', '_get_exports_list', '_putenv', '_unsetenv', '_wrap_close', 'abc', 'abort', 'access', 'add_dll_directory', 'altsep', 'chdir', 'chmod', 'close', 'closerange', 'cpu_count', 'curdir', 'defpath', 'device_encoding', 'devnull', 'dup', 'dup2', 'environ', 'error', 'execl', 'execle', 'execlp', 'execlpe', 'execv', 'execve', 'execvp', 'execvpe', 'extsep', 'fdopen', 'fsdecode', 'fsencode', 'fspath', 'fstat', 'fsync', 'ftruncate', 'get_exec_path', 'get_handle_inheritable', 'get_inheritable', 'get_terminal_size', 'getcwd', 'getcwdb', 'getenv', 'getlogin', 'getpid', 'getppid', 'isatty', 'kill', 'linesep', 'link', 'listdir', 'lseek', 'lstat', 'makedirs', 'mkdir', 'name', 'open', 'pardir', 'path', 'pathsep', 'pipe', 'popen', 'putenv', 'read', 'readlink', 'remove', 'removedirs', 'rename', 'renames', 'replace', 'rmdir', 'scandir', 'sep', 'set_handle_inheritable', 'set_inheritable', 'spawnl', 'spawnle', 'spawnv', 'spawnve', 'st', 'startfile', 'stat', 'stat_result', 'statvfs_result', 'strerror', 'supports_bytes_environ', 'supports_dir_fd', 'supports_effective_ids', 'supports_fd', 'supports_follow_symlinks', 'symlink', 'sys', 'system', 'terminal_size', 'times', 'times_result', 'truncate', 'umask', 'uname_result', 'unlink', 'urandom', 'utime', 'waitpid', 'walk', 'write']\n"
     ]
    }
   ],
   "source": [
    "print(dir(os))"
   ]
  },
  {
   "cell_type": "code",
   "execution_count": 205,
   "id": "49abf4ae",
   "metadata": {},
   "outputs": [
    {
     "data": {
      "text/plain": [
       "'C:\\\\Users\\\\skme2\\\\Downloads'"
      ]
     },
     "execution_count": 205,
     "metadata": {},
     "output_type": "execute_result"
    }
   ],
   "source": [
    "os.getcwd()"
   ]
  },
  {
   "cell_type": "code",
   "execution_count": 209,
   "id": "080ce8f4",
   "metadata": {},
   "outputs": [],
   "source": [
    "os.mkdir('Python_revision105')"
   ]
  },
  {
   "cell_type": "code",
   "execution_count": 207,
   "id": "a356e570",
   "metadata": {},
   "outputs": [],
   "source": [
    "os.remove('testing.ipynb')"
   ]
  },
  {
   "cell_type": "code",
   "execution_count": 208,
   "id": "9ad9ed91",
   "metadata": {},
   "outputs": [],
   "source": [
    "os.removedirs('Python_revision/')"
   ]
  },
  {
   "cell_type": "code",
   "execution_count": 210,
   "id": "11b3d195",
   "metadata": {},
   "outputs": [],
   "source": [
    "os.rename('Python_revision105/', 'my_dir')"
   ]
  },
  {
   "cell_type": "code",
   "execution_count": 212,
   "id": "a8a68024",
   "metadata": {},
   "outputs": [],
   "source": [
    "os.removedirs('my_dir/')"
   ]
  },
  {
   "cell_type": "code",
   "execution_count": 213,
   "id": "9f256193",
   "metadata": {},
   "outputs": [],
   "source": [
    "import sys"
   ]
  },
  {
   "cell_type": "code",
   "execution_count": 214,
   "id": "9764e0ea",
   "metadata": {},
   "outputs": [
    {
     "data": {
      "text/plain": [
       "'3.8.8 (default, Apr 13 2021, 15:08:03) [MSC v.1916 64 bit (AMD64)]'"
      ]
     },
     "execution_count": 214,
     "metadata": {},
     "output_type": "execute_result"
    }
   ],
   "source": [
    "sys.version"
   ]
  },
  {
   "cell_type": "code",
   "execution_count": 215,
   "id": "b9ebe8a0",
   "metadata": {},
   "outputs": [
    {
     "data": {
      "text/plain": [
       "['C:\\\\Users\\\\skme2\\\\Downloads',\n",
       " 'C:\\\\Users\\\\skme2\\\\anaconda3\\\\python38.zip',\n",
       " 'C:\\\\Users\\\\skme2\\\\anaconda3\\\\DLLs',\n",
       " 'C:\\\\Users\\\\skme2\\\\anaconda3\\\\lib',\n",
       " 'C:\\\\Users\\\\skme2\\\\anaconda3',\n",
       " '',\n",
       " 'C:\\\\Users\\\\skme2\\\\AppData\\\\Roaming\\\\Python\\\\Python38\\\\site-packages',\n",
       " 'C:\\\\Users\\\\skme2\\\\anaconda3\\\\lib\\\\site-packages',\n",
       " 'C:\\\\Users\\\\skme2\\\\Downloads\\\\p1\\\\FSDS_NOV_deepCNNClassifier\\\\src',\n",
       " 'C:\\\\Users\\\\skme2\\\\anaconda3\\\\lib\\\\site-packages\\\\locket-0.2.1-py3.8.egg',\n",
       " 'C:\\\\Users\\\\skme2\\\\anaconda3\\\\lib\\\\site-packages\\\\win32',\n",
       " 'C:\\\\Users\\\\skme2\\\\anaconda3\\\\lib\\\\site-packages\\\\win32\\\\lib',\n",
       " 'C:\\\\Users\\\\skme2\\\\anaconda3\\\\lib\\\\site-packages\\\\Pythonwin',\n",
       " 'C:\\\\Users\\\\skme2\\\\anaconda3\\\\lib\\\\site-packages\\\\IPython\\\\extensions',\n",
       " 'C:\\\\Users\\\\skme2\\\\.ipython']"
      ]
     },
     "execution_count": 215,
     "metadata": {},
     "output_type": "execute_result"
    }
   ],
   "source": [
    "sys.path"
   ]
  },
  {
   "cell_type": "code",
   "execution_count": 217,
   "id": "74b067de",
   "metadata": {},
   "outputs": [
    {
     "name": "stdout",
     "output_type": "stream",
     "text": [
      "['__breakpointhook__', '__displayhook__', '__doc__', '__excepthook__', '__interactivehook__', '__loader__', '__name__', '__package__', '__spec__', '__stderr__', '__stdin__', '__stdout__', '__unraisablehook__', '_base_executable', '_clear_type_cache', '_current_frames', '_debugmallocstats', '_enablelegacywindowsfsencoding', '_framework', '_getframe', '_git', '_home', '_xoptions', 'addaudithook', 'api_version', 'argv', 'audit', 'base_exec_prefix', 'base_prefix', 'breakpointhook', 'builtin_module_names', 'byteorder', 'call_tracing', 'callstats', 'copyright', 'displayhook', 'dllhandle', 'dont_write_bytecode', 'exc_info', 'excepthook', 'exec_prefix', 'executable', 'exit', 'flags', 'float_info', 'float_repr_style', 'get_asyncgen_hooks', 'get_coroutine_origin_tracking_depth', 'getallocatedblocks', 'getcheckinterval', 'getdefaultencoding', 'getfilesystemencodeerrors', 'getfilesystemencoding', 'getprofile', 'getrecursionlimit', 'getrefcount', 'getsizeof', 'getswitchinterval', 'gettrace', 'getwindowsversion', 'hash_info', 'hexversion', 'implementation', 'int_info', 'intern', 'is_finalizing', 'last_traceback', 'last_type', 'last_value', 'maxsize', 'maxunicode', 'meta_path', 'modules', 'path', 'path_hooks', 'path_importer_cache', 'platform', 'prefix', 'ps1', 'ps2', 'ps3', 'pycache_prefix', 'set_asyncgen_hooks', 'set_coroutine_origin_tracking_depth', 'setcheckinterval', 'setprofile', 'setrecursionlimit', 'setswitchinterval', 'settrace', 'stderr', 'stdin', 'stdout', 'thread_info', 'unraisablehook', 'version', 'version_info', 'warnoptions', 'winver']\n"
     ]
    }
   ],
   "source": [
    "print(dir(sys))"
   ]
  },
  {
   "cell_type": "code",
   "execution_count": 218,
   "id": "d13c1559",
   "metadata": {},
   "outputs": [
    {
     "data": {
      "text/plain": [
       "sys.version_info(major=3, minor=8, micro=8, releaselevel='final', serial=0)"
      ]
     },
     "execution_count": 218,
     "metadata": {},
     "output_type": "execute_result"
    }
   ],
   "source": [
    "sys.version_info"
   ]
  },
  {
   "cell_type": "code",
   "execution_count": 219,
   "id": "52e7402b",
   "metadata": {},
   "outputs": [],
   "source": [
    "import datetime"
   ]
  },
  {
   "cell_type": "code",
   "execution_count": 221,
   "id": "ddcf930a",
   "metadata": {},
   "outputs": [
    {
     "data": {
      "text/plain": [
       "datetime.datetime(2023, 1, 11, 21, 27, 28, 928306)"
      ]
     },
     "execution_count": 221,
     "metadata": {},
     "output_type": "execute_result"
    }
   ],
   "source": [
    "datetime.datetime.now()"
   ]
  },
  {
   "cell_type": "code",
   "execution_count": 222,
   "id": "2cc64901",
   "metadata": {},
   "outputs": [],
   "source": [
    "import math"
   ]
  },
  {
   "cell_type": "code",
   "execution_count": 223,
   "id": "e1ff3487",
   "metadata": {},
   "outputs": [],
   "source": [
    "import math as m"
   ]
  },
  {
   "cell_type": "code",
   "execution_count": 224,
   "id": "b761bb7c",
   "metadata": {},
   "outputs": [
    {
     "data": {
      "text/plain": [
       "120"
      ]
     },
     "execution_count": 224,
     "metadata": {},
     "output_type": "execute_result"
    }
   ],
   "source": [
    "m.factorial(5)"
   ]
  },
  {
   "cell_type": "code",
   "execution_count": 225,
   "id": "87969736",
   "metadata": {},
   "outputs": [],
   "source": [
    "from math import factorial"
   ]
  },
  {
   "cell_type": "code",
   "execution_count": 226,
   "id": "8c5947e8",
   "metadata": {},
   "outputs": [
    {
     "data": {
      "text/plain": [
       "120"
      ]
     },
     "execution_count": 226,
     "metadata": {},
     "output_type": "execute_result"
    }
   ],
   "source": [
    "factorial(5)"
   ]
  },
  {
   "cell_type": "code",
   "execution_count": 227,
   "id": "a99a6bef",
   "metadata": {},
   "outputs": [],
   "source": [
    "from math import *"
   ]
  },
  {
   "cell_type": "code",
   "execution_count": 1,
   "id": "ca994855",
   "metadata": {},
   "outputs": [
    {
     "name": "stdout",
     "output_type": "stream",
     "text": [
      "I will be having some functionality in this module\n",
      "Custom Module Name: newyearmy_custom\n"
     ]
    }
   ],
   "source": [
    "import newyearmy_custom"
   ]
  },
  {
   "cell_type": "code",
   "execution_count": 4,
   "id": "3bcbb4cd",
   "metadata": {},
   "outputs": [],
   "source": [
    "res = newyearmy_custom.greetings('Sanjay')"
   ]
  },
  {
   "cell_type": "code",
   "execution_count": 5,
   "id": "cab60703",
   "metadata": {},
   "outputs": [
    {
     "name": "stdout",
     "output_type": "stream",
     "text": [
      "Hello Sanjay\n"
     ]
    }
   ],
   "source": [
    "print(res)"
   ]
  },
  {
   "cell_type": "code",
   "execution_count": 6,
   "id": "818eadca",
   "metadata": {},
   "outputs": [
    {
     "name": "stdout",
     "output_type": "stream",
     "text": [
      "__main__\n"
     ]
    }
   ],
   "source": [
    "print(__name__)"
   ]
  },
  {
   "cell_type": "code",
   "execution_count": 8,
   "id": "cf27884e",
   "metadata": {},
   "outputs": [],
   "source": [
    "#import Game.Image.open"
   ]
  },
  {
   "cell_type": "code",
   "execution_count": 9,
   "id": "d1bbd48d",
   "metadata": {},
   "outputs": [
    {
     "ename": "ModuleNotFoundError",
     "evalue": "No module named 'Game'",
     "output_type": "error",
     "traceback": [
      "\u001b[1;31m---------------------------------------------------------------------------\u001b[0m",
      "\u001b[1;31mModuleNotFoundError\u001b[0m                       Traceback (most recent call last)",
      "\u001b[1;32m<ipython-input-9-9dd2d204b281>\u001b[0m in \u001b[0;36m<module>\u001b[1;34m\u001b[0m\n\u001b[1;32m----> 1\u001b[1;33m \u001b[1;32mimport\u001b[0m \u001b[0mGame\u001b[0m\u001b[1;33m\u001b[0m\u001b[1;33m\u001b[0m\u001b[0m\n\u001b[0m",
      "\u001b[1;31mModuleNotFoundError\u001b[0m: No module named 'Game'"
     ]
    }
   ],
   "source": [
    "#import Game"
   ]
  },
  {
   "cell_type": "code",
   "execution_count": 10,
   "id": "2fe93b65",
   "metadata": {},
   "outputs": [],
   "source": [
    "# import Game.Image"
   ]
  },
  {
   "cell_type": "code",
   "execution_count": 13,
   "id": "0b0505d5",
   "metadata": {},
   "outputs": [],
   "source": [
    "# from Game.Image import open"
   ]
  },
  {
   "cell_type": "code",
   "execution_count": 2,
   "id": "4c6643b5",
   "metadata": {},
   "outputs": [],
   "source": [
    "f = open('happynewyear2023.txt')"
   ]
  },
  {
   "cell_type": "code",
   "execution_count": 4,
   "id": "6441c13d",
   "metadata": {},
   "outputs": [
    {
     "data": {
      "text/plain": [
       "False"
      ]
     },
     "execution_count": 4,
     "metadata": {},
     "output_type": "execute_result"
    }
   ],
   "source": [
    "f.closed"
   ]
  },
  {
   "cell_type": "code",
   "execution_count": 6,
   "id": "979552ef",
   "metadata": {},
   "outputs": [],
   "source": [
    "f = open('happynewyear2023.txt', 'r' )"
   ]
  },
  {
   "cell_type": "code",
   "execution_count": 8,
   "id": "7ec3704f",
   "metadata": {},
   "outputs": [],
   "source": [
    "f = open('making_new_file', 'w')"
   ]
  },
  {
   "cell_type": "code",
   "execution_count": 9,
   "id": "179cd196",
   "metadata": {},
   "outputs": [
    {
     "data": {
      "text/plain": [
       "False"
      ]
     },
     "execution_count": 9,
     "metadata": {},
     "output_type": "execute_result"
    }
   ],
   "source": [
    "f.closed"
   ]
  },
  {
   "cell_type": "code",
   "execution_count": 10,
   "id": "6f2701ce",
   "metadata": {},
   "outputs": [],
   "source": [
    "f.close()"
   ]
  },
  {
   "cell_type": "code",
   "execution_count": 11,
   "id": "09dcbbec",
   "metadata": {},
   "outputs": [
    {
     "data": {
      "text/plain": [
       "True"
      ]
     },
     "execution_count": 11,
     "metadata": {},
     "output_type": "execute_result"
    }
   ],
   "source": [
    "f.closed"
   ]
  },
  {
   "cell_type": "code",
   "execution_count": 13,
   "id": "6f1b7a40",
   "metadata": {},
   "outputs": [],
   "source": [
    "f = open('happynewyear2023.txt', 'r')"
   ]
  },
  {
   "cell_type": "code",
   "execution_count": 15,
   "id": "a2fe68c2",
   "metadata": {},
   "outputs": [
    {
     "name": "stdout",
     "output_type": "stream",
     "text": [
      "False\n"
     ]
    }
   ],
   "source": [
    "print(f.closed)"
   ]
  },
  {
   "cell_type": "code",
   "execution_count": 16,
   "id": "e19e591a",
   "metadata": {},
   "outputs": [],
   "source": [
    "f.close()"
   ]
  },
  {
   "cell_type": "code",
   "execution_count": 17,
   "id": "d69156ca",
   "metadata": {},
   "outputs": [
    {
     "data": {
      "text/plain": [
       "True"
      ]
     },
     "execution_count": 17,
     "metadata": {},
     "output_type": "execute_result"
    }
   ],
   "source": [
    "f.closed"
   ]
  },
  {
   "cell_type": "code",
   "execution_count": 18,
   "id": "a5d8561a",
   "metadata": {},
   "outputs": [
    {
     "name": "stdout",
     "output_type": "stream",
     "text": [
      "Inside :  False\n",
      "Outside : True\n"
     ]
    }
   ],
   "source": [
    "with open('happynewyear2023.txt', 'r') as f:\n",
    "    print(\"Inside : \", f.closed)\n",
    "    \n",
    "print(\"Outside :\", f.closed)"
   ]
  },
  {
   "cell_type": "code",
   "execution_count": 19,
   "id": "24d797e5",
   "metadata": {},
   "outputs": [
    {
     "name": "stdout",
     "output_type": "stream",
     "text": [
      "40 27\n"
     ]
    }
   ],
   "source": [
    "with open('testfile2023.txt', 'w') as f:\n",
    "    r1 = f.write(\"This file has been generated by python.\\n\")\n",
    "    r2 = f.write(\"I love python programming.\\n\")\n",
    "    \n",
    "    print(r1,r2)"
   ]
  },
  {
   "cell_type": "code",
   "execution_count": 22,
   "id": "b44682ec",
   "metadata": {},
   "outputs": [
    {
     "name": "stdout",
     "output_type": "stream",
     "text": [
      "This file has been generated by python.\n",
      "I love python programming.\n",
      "\n"
     ]
    }
   ],
   "source": [
    "with open('testfile2023.txt', 'r') as f:\n",
    "    data = f.read()\n",
    "    print(data)"
   ]
  },
  {
   "cell_type": "code",
   "execution_count": 24,
   "id": "0a332d72",
   "metadata": {},
   "outputs": [
    {
     "name": "stdout",
     "output_type": "stream",
     "text": [
      "This\n",
      " file\n"
     ]
    }
   ],
   "source": [
    "with open('testfile2023.txt', 'r') as f:\n",
    "    data4 = f.read(4)\n",
    "    print(data4)\n",
    "    \n",
    "    data5 = f.read(5)\n",
    "    print(data5)"
   ]
  },
  {
   "cell_type": "code",
   "execution_count": 31,
   "id": "ac3b4459",
   "metadata": {},
   "outputs": [
    {
     "name": "stdout",
     "output_type": "stream",
     "text": [
      "0\n",
      "This\n",
      "4\n",
      " file\n",
      "9\n",
      "This file has been generated by python.\n",
      "I love python programming.\n",
      "\n"
     ]
    }
   ],
   "source": [
    "with open('testfile2023.txt', 'r') as f:\n",
    "    print(f.tell())\n",
    "    \n",
    "    \n",
    "    print(f.read(4))\n",
    "    \n",
    "    \n",
    "    print(f.tell())\n",
    "    \n",
    "    print(f.read(5))\n",
    "    \n",
    "    \n",
    "    print(f.tell())\n",
    "    \n",
    "    f.seek(0)\n",
    "    \n",
    "    \n",
    "    print(f.read())"
   ]
  },
  {
   "cell_type": "code",
   "execution_count": 32,
   "id": "6cc74c57",
   "metadata": {},
   "outputs": [
    {
     "name": "stdout",
     "output_type": "stream",
     "text": [
      "This file has been generated by python.\n",
      "\n",
      "I love python programming.\n",
      "\n"
     ]
    }
   ],
   "source": [
    "with open('testfile2023.txt', 'r') as f:\n",
    "    for i in f:\n",
    "        print(i)"
   ]
  },
  {
   "cell_type": "code",
   "execution_count": 37,
   "id": "d7ec588d",
   "metadata": {},
   "outputs": [
    {
     "name": "stdout",
     "output_type": "stream",
     "text": [
      "['This file has been generated by python.\\n', 'I love python programming.\\n']\n",
      "This file has been generated by python.\n",
      "\n",
      "I love python programming.\n",
      "\n"
     ]
    }
   ],
   "source": [
    "with open('testfile2023.txt', 'r') as f:\n",
    "    data = f.readlines()\n",
    "    \n",
    "    print(data)\n",
    "    \n",
    "\n",
    "    for i in data:\n",
    "        print(i)"
   ]
  },
  {
   "cell_type": "code",
   "execution_count": 38,
   "id": "3af1127d",
   "metadata": {},
   "outputs": [
    {
     "name": "stdout",
     "output_type": "stream",
     "text": [
      "This file has been generated by python.\n",
      "I love python programming.\n",
      "\n"
     ]
    }
   ],
   "source": [
    "with open('testfile2023.txt') as f:\n",
    "    print(f.read())"
   ]
  },
  {
   "cell_type": "code",
   "execution_count": 39,
   "id": "7252bc3b",
   "metadata": {},
   "outputs": [
    {
     "name": "stdout",
     "output_type": "stream",
     "text": [
      "45\n"
     ]
    }
   ],
   "source": [
    "with open('testfile2023.txt' , 'a') as f:\n",
    "    d = f.write('Alpha beta gyamma this is practice for python')\n",
    "    print(d)"
   ]
  },
  {
   "cell_type": "code",
   "execution_count": 40,
   "id": "5efe7535",
   "metadata": {},
   "outputs": [
    {
     "name": "stdout",
     "output_type": "stream",
     "text": [
      "This file has been generated by python.\n",
      "I love python programming.\n",
      "Alpha beta gyamma this is practice for python\n"
     ]
    }
   ],
   "source": [
    "with open('testfile2023.txt') as f:\n",
    "    print(f.read())"
   ]
  },
  {
   "cell_type": "code",
   "execution_count": 41,
   "id": "4d53ecc8",
   "metadata": {},
   "outputs": [],
   "source": [
    "import os"
   ]
  },
  {
   "cell_type": "code",
   "execution_count": 46,
   "id": "66737245",
   "metadata": {},
   "outputs": [],
   "source": [
    "filename = \"testfile2023.txt\"\n",
    "data = None\n",
    "\n",
    "\n",
    "with open(filename, 'r') as f:\n",
    "    data = f.readlines()"
   ]
  },
  {
   "cell_type": "code",
   "execution_count": 47,
   "id": "79de205c",
   "metadata": {},
   "outputs": [
    {
     "name": "stdout",
     "output_type": "stream",
     "text": [
      "['This file has been generated by python.\\n', 'I love python programming.\\n', 'Alpha beta gyamma this is practice for python']\n"
     ]
    }
   ],
   "source": [
    "print(data)"
   ]
  },
  {
   "cell_type": "code",
   "execution_count": 49,
   "id": "7ea39bf8",
   "metadata": {},
   "outputs": [],
   "source": [
    "data[-1] = 'Tomorow i would start machine learning.\\n'"
   ]
  },
  {
   "cell_type": "code",
   "execution_count": 50,
   "id": "92237998",
   "metadata": {},
   "outputs": [
    {
     "data": {
      "text/plain": [
       "['This file has been generated by python.\\n',\n",
       " 'I love python programming.\\n',\n",
       " 'Tomorow i would start machine learning.\\n']"
      ]
     },
     "execution_count": 50,
     "metadata": {},
     "output_type": "execute_result"
    }
   ],
   "source": [
    "data"
   ]
  },
  {
   "cell_type": "code",
   "execution_count": 54,
   "id": "14842f53",
   "metadata": {},
   "outputs": [],
   "source": [
    "data_write = \" \".join(data)"
   ]
  },
  {
   "cell_type": "code",
   "execution_count": 55,
   "id": "ec06bf21",
   "metadata": {},
   "outputs": [],
   "source": [
    "with open('temp2025.txt', 'w') as f:\n",
    "    f.write(data_write)"
   ]
  },
  {
   "cell_type": "code",
   "execution_count": 56,
   "id": "f45538a6",
   "metadata": {},
   "outputs": [],
   "source": [
    "os.remove(filename)"
   ]
  },
  {
   "cell_type": "code",
   "execution_count": 57,
   "id": "69f72d10",
   "metadata": {},
   "outputs": [],
   "source": [
    "os.rename('temp2025.txt', filename)"
   ]
  },
  {
   "cell_type": "code",
   "execution_count": 58,
   "id": "f613ae75",
   "metadata": {},
   "outputs": [],
   "source": [
    "import pandas as pd"
   ]
  },
  {
   "cell_type": "code",
   "execution_count": 59,
   "id": "95d48e06",
   "metadata": {},
   "outputs": [
    {
     "data": {
      "text/plain": [
       "[  .mw-parser-output .navbar{display:inline;font-size:88%;font-weight:normal}.mw-parser-output .navbar-collapse{float:left;text-align:left}.mw-parser-output .navbar-boxtext{word-spacing:0}.mw-parser-output .navbar ul{display:inline-block;white-space:nowrap;line-height:inherit}.mw-parser-output .navbar-brackets::before{margin-right:-0.125em;content:\"[ \"}.mw-parser-output .navbar-brackets::after{margin-left:-0.125em;content:\" ]\"}.mw-parser-output .navbar li{word-spacing:-0.125em}.mw-parser-output .navbar a>span,.mw-parser-output .navbar a>abbr{text-decoration:inherit}.mw-parser-output .navbar-mini abbr{font-variant:small-caps;border-bottom:none;text-decoration:none;cursor:inherit}.mw-parser-output .navbar-ct-full{font-size:114%;margin:0 7em}.mw-parser-output .navbar-ct-mini{font-size:114%;margin:0 4em}vteList of sovereign states and dependent territories by continent  \\\n",
       " 0                                         Continents                                                                                                                                                                                                                                                                                                                                                                                                                                                                                                                                                                                                                                                                                                                                                                                                                                                           \n",
       " 1                             Continental landmasses                                                                                                                                                                                                                                                                                                                                                                                                                                                                                                                                                                                                                                                                                                                                                                                                                                                           \n",
       " 2                                            Islands                                                                                                                                                                                                                                                                                                                                                                                                                                                                                                                                                                                                                                                                                                                                                                                                                                                           \n",
       " \n",
       "   .mw-parser-output .navbar{display:inline;font-size:88%;font-weight:normal}.mw-parser-output .navbar-collapse{float:left;text-align:left}.mw-parser-output .navbar-boxtext{word-spacing:0}.mw-parser-output .navbar ul{display:inline-block;white-space:nowrap;line-height:inherit}.mw-parser-output .navbar-brackets::before{margin-right:-0.125em;content:\"[ \"}.mw-parser-output .navbar-brackets::after{margin-left:-0.125em;content:\" ]\"}.mw-parser-output .navbar li{word-spacing:-0.125em}.mw-parser-output .navbar a>span,.mw-parser-output .navbar a>abbr{text-decoration:inherit}.mw-parser-output .navbar-mini abbr{font-variant:small-caps;border-bottom:none;text-decoration:none;cursor:inherit}.mw-parser-output .navbar-ct-full{font-size:114%;margin:0 7em}.mw-parser-output .navbar-ct-mini{font-size:114%;margin:0 4em}vteList of sovereign states and dependent territories by continent.1  \n",
       " 0  Africa Antarctica Asia Europe North America Oc...                                                                                                                                                                                                                                                                                                                                                                                                                                                                                                                                                                                                                                                                                                                                                                                                                                                            \n",
       " 1                                   Americas Eurasia                                                                                                                                                                                                                                                                                                                                                                                                                                                                                                                                                                                                                                                                                                                                                                                                                                                            \n",
       " 2                           List of island countries                                                                                                                                                                                                                                                                                                                                                                                                                                                                                                                                                                                                                                                                                                                                                                                                                                                            ,\n",
       "                                        0        1\n",
       " 0  Authority control: National libraries  Germany]"
      ]
     },
     "execution_count": 59,
     "metadata": {},
     "output_type": "execute_result"
    }
   ],
   "source": [
    "pd.read_html('https://en.wikipedia.org/wiki/Country')"
   ]
  },
  {
   "cell_type": "code",
   "execution_count": 60,
   "id": "08277738",
   "metadata": {},
   "outputs": [
    {
     "ename": "NameError",
     "evalue": "name 'a' is not defined",
     "output_type": "error",
     "traceback": [
      "\u001b[1;31m---------------------------------------------------------------------------\u001b[0m",
      "\u001b[1;31mNameError\u001b[0m                                 Traceback (most recent call last)",
      "\u001b[1;32m<ipython-input-60-bca0e2660b9f>\u001b[0m in \u001b[0;36m<module>\u001b[1;34m\u001b[0m\n\u001b[1;32m----> 1\u001b[1;33m \u001b[0mprint\u001b[0m\u001b[1;33m(\u001b[0m\u001b[0ma\u001b[0m\u001b[1;33m)\u001b[0m\u001b[1;33m\u001b[0m\u001b[1;33m\u001b[0m\u001b[0m\n\u001b[0m",
      "\u001b[1;31mNameError\u001b[0m: name 'a' is not defined"
     ]
    }
   ],
   "source": [
    "print(a)"
   ]
  },
  {
   "cell_type": "code",
   "execution_count": 61,
   "id": "e91a1961",
   "metadata": {},
   "outputs": [
    {
     "ename": "SyntaxError",
     "evalue": "unexpected EOF while parsing (<ipython-input-61-2c3c3da165b0>, line 1)",
     "output_type": "error",
     "traceback": [
      "\u001b[1;36m  File \u001b[1;32m\"<ipython-input-61-2c3c3da165b0>\"\u001b[1;36m, line \u001b[1;32m1\u001b[0m\n\u001b[1;33m    if (5>3):\u001b[0m\n\u001b[1;37m             ^\u001b[0m\n\u001b[1;31mSyntaxError\u001b[0m\u001b[1;31m:\u001b[0m unexpected EOF while parsing\n"
     ]
    }
   ],
   "source": [
    "if (5>3):"
   ]
  },
  {
   "cell_type": "code",
   "execution_count": 63,
   "id": "265e55a8",
   "metadata": {},
   "outputs": [
    {
     "ename": "ModuleNotFoundError",
     "evalue": "No module named 'donntknow'",
     "output_type": "error",
     "traceback": [
      "\u001b[1;31m---------------------------------------------------------------------------\u001b[0m",
      "\u001b[1;31mModuleNotFoundError\u001b[0m                       Traceback (most recent call last)",
      "\u001b[1;32m<ipython-input-63-25970bbf9e91>\u001b[0m in \u001b[0;36m<module>\u001b[1;34m\u001b[0m\n\u001b[1;32m----> 1\u001b[1;33m \u001b[1;32mimport\u001b[0m \u001b[0mdonntknow\u001b[0m\u001b[1;33m\u001b[0m\u001b[1;33m\u001b[0m\u001b[0m\n\u001b[0m",
      "\u001b[1;31mModuleNotFoundError\u001b[0m: No module named 'donntknow'"
     ]
    }
   ],
   "source": [
    "import donntknow"
   ]
  },
  {
   "cell_type": "code",
   "execution_count": 64,
   "id": "fbc72bdb",
   "metadata": {},
   "outputs": [
    {
     "ename": "AttributeError",
     "evalue": "'str' object has no attribute 'sort'",
     "output_type": "error",
     "traceback": [
      "\u001b[1;31m---------------------------------------------------------------------------\u001b[0m",
      "\u001b[1;31mAttributeError\u001b[0m                            Traceback (most recent call last)",
      "\u001b[1;32m<ipython-input-64-b0d407f049b0>\u001b[0m in \u001b[0;36m<module>\u001b[1;34m\u001b[0m\n\u001b[1;32m----> 1\u001b[1;33m \u001b[1;34m\"Machine learning\"\u001b[0m\u001b[1;33m.\u001b[0m\u001b[0msort\u001b[0m\u001b[1;33m(\u001b[0m\u001b[1;33m)\u001b[0m\u001b[1;33m\u001b[0m\u001b[1;33m\u001b[0m\u001b[0m\n\u001b[0m",
      "\u001b[1;31mAttributeError\u001b[0m: 'str' object has no attribute 'sort'"
     ]
    }
   ],
   "source": [
    "\"Machine learning\".sort()"
   ]
  },
  {
   "cell_type": "code",
   "execution_count": 65,
   "id": "edfde3e9",
   "metadata": {},
   "outputs": [
    {
     "ename": "TypeError",
     "evalue": "can only concatenate str (not \"int\") to str",
     "output_type": "error",
     "traceback": [
      "\u001b[1;31m---------------------------------------------------------------------------\u001b[0m",
      "\u001b[1;31mTypeError\u001b[0m                                 Traceback (most recent call last)",
      "\u001b[1;32m<ipython-input-65-505223d18915>\u001b[0m in \u001b[0;36m<module>\u001b[1;34m\u001b[0m\n\u001b[1;32m----> 1\u001b[1;33m \u001b[1;34m\"Hello\"\u001b[0m \u001b[1;33m+\u001b[0m \u001b[1;36m20\u001b[0m\u001b[1;33m\u001b[0m\u001b[1;33m\u001b[0m\u001b[0m\n\u001b[0m",
      "\u001b[1;31mTypeError\u001b[0m: can only concatenate str (not \"int\") to str"
     ]
    }
   ],
   "source": [
    "\"Hello\" + 20"
   ]
  },
  {
   "cell_type": "code",
   "execution_count": 67,
   "id": "ab956d04",
   "metadata": {},
   "outputs": [
    {
     "data": {
      "text/plain": [
       "['__cause__',\n",
       " '__class__',\n",
       " '__context__',\n",
       " '__delattr__',\n",
       " '__dict__',\n",
       " '__dir__',\n",
       " '__doc__',\n",
       " '__eq__',\n",
       " '__format__',\n",
       " '__ge__',\n",
       " '__getattribute__',\n",
       " '__gt__',\n",
       " '__hash__',\n",
       " '__init__',\n",
       " '__init_subclass__',\n",
       " '__le__',\n",
       " '__lt__',\n",
       " '__ne__',\n",
       " '__new__',\n",
       " '__reduce__',\n",
       " '__reduce_ex__',\n",
       " '__repr__',\n",
       " '__setattr__',\n",
       " '__setstate__',\n",
       " '__sizeof__',\n",
       " '__str__',\n",
       " '__subclasshook__',\n",
       " '__suppress_context__',\n",
       " '__traceback__',\n",
       " 'args',\n",
       " 'with_traceback']"
      ]
     },
     "execution_count": 67,
     "metadata": {},
     "output_type": "execute_result"
    }
   ],
   "source": [
    "dir(Exception)"
   ]
  },
  {
   "cell_type": "code",
   "execution_count": 70,
   "id": "bee46302",
   "metadata": {},
   "outputs": [
    {
     "name": "stdout",
     "output_type": "stream",
     "text": [
      "['ArithmeticError', 'AssertionError', 'AttributeError', 'BaseException', 'BlockingIOError', 'BrokenPipeError', 'BufferError', 'BytesWarning', 'ChildProcessError', 'ConnectionAbortedError', 'ConnectionError', 'ConnectionRefusedError', 'ConnectionResetError', 'DeprecationWarning', 'EOFError', 'Ellipsis', 'EnvironmentError', 'Exception', 'False', 'FileExistsError', 'FileNotFoundError', 'FloatingPointError', 'FutureWarning', 'GeneratorExit', 'IOError', 'ImportError', 'ImportWarning', 'IndentationError', 'IndexError', 'InterruptedError', 'IsADirectoryError', 'KeyError', 'KeyboardInterrupt', 'LookupError', 'MemoryError', 'ModuleNotFoundError', 'NameError', 'None', 'NotADirectoryError', 'NotImplemented', 'NotImplementedError', 'OSError', 'OverflowError', 'PendingDeprecationWarning', 'PermissionError', 'ProcessLookupError', 'RecursionError', 'ReferenceError', 'ResourceWarning', 'RuntimeError', 'RuntimeWarning', 'StopAsyncIteration', 'StopIteration', 'SyntaxError', 'SyntaxWarning', 'SystemError', 'SystemExit', 'TabError', 'TimeoutError', 'True', 'TypeError', 'UnboundLocalError', 'UnicodeDecodeError', 'UnicodeEncodeError', 'UnicodeError', 'UnicodeTranslateError', 'UnicodeWarning', 'UserWarning', 'ValueError', 'Warning', 'WindowsError', 'ZeroDivisionError', '__IPYTHON__', '__build_class__', '__debug__', '__doc__', '__import__', '__loader__', '__name__', '__package__', '__spec__', 'abs', 'all', 'any', 'ascii', 'bin', 'bool', 'breakpoint', 'bytearray', 'bytes', 'callable', 'chr', 'classmethod', 'compile', 'complex', 'copyright', 'credits', 'delattr', 'dict', 'dir', 'display', 'divmod', 'enumerate', 'eval', 'exec', 'filter', 'float', 'format', 'frozenset', 'get_ipython', 'getattr', 'globals', 'hasattr', 'hash', 'help', 'hex', 'id', 'input', 'int', 'isinstance', 'issubclass', 'iter', 'len', 'license', 'list', 'locals', 'map', 'max', 'memoryview', 'min', 'next', 'object', 'oct', 'open', 'ord', 'pow', 'print', 'property', 'range', 'repr', 'reversed', 'round', 'set', 'setattr', 'slice', 'sorted', 'staticmethod', 'str', 'sum', 'super', 'tuple', 'type', 'vars', 'zip']\n"
     ]
    }
   ],
   "source": [
    "print(dir(__builtins__))"
   ]
  },
  {
   "cell_type": "code",
   "execution_count": 82,
   "id": "160a7db3",
   "metadata": {},
   "outputs": [
    {
     "name": "stdout",
     "output_type": "stream",
     "text": [
      "Current Element :  2\n",
      "Result :  2.5\n",
      "--------------------------------------------------\n",
      "Current Element :  0\n",
      "Do not divide by zero : division by zero\n",
      "--------------------------------------------------\n",
      "Current Element :  Hello\n",
      "Value error occured : invalid literal for int() with base 10: 'Hello'\n",
      "--------------------------------------------------\n",
      "Current Element :  None\n",
      "Error Caused :  int() argument must be a string, a bytes-like object or a number, not 'NoneType'\n",
      "<class 'TypeError'>\n",
      "--------------------------------------------------\n",
      "\n",
      " 500 lines of code\n"
     ]
    }
   ],
   "source": [
    "lst = [2,0,'Hello', None]\n",
    "import sys\n",
    "for i in lst:\n",
    "    try:\n",
    "        print(\"Current Element : \", i)\n",
    "        res = 5/int(i)\n",
    "        print(\"Result : \", res)\n",
    "    except ValueError as ve:\n",
    "        print(\"Value error occured :\", ve)\n",
    "        \n",
    "    except ZeroDivisionError as ze:\n",
    "        print('Do not divide by zero :', ze)\n",
    "    except Exception as e:\n",
    "        print(\"Error Caused : \", e)\n",
    "        print(sys.exc_info()[0])\n",
    "        \n",
    "    print('-'*50)\n",
    "    \n",
    "print(\"\\n 500 lines of code\")"
   ]
  },
  {
   "cell_type": "code",
   "execution_count": 88,
   "id": "c7d27275",
   "metadata": {},
   "outputs": [
    {
     "name": "stdout",
     "output_type": "stream",
     "text": [
      "2.5\n",
      "I will alwyas be executed\n"
     ]
    }
   ],
   "source": [
    "try:\n",
    "    ans = 5/2\n",
    "    print(ans)\n",
    "except ZeroDivisionError as ze:\n",
    "    print('error occured :',ze)\n",
    "    \n",
    "finally:\n",
    "    #f.close()\n",
    "    # f.db_connection()\n",
    "    print('I will alwyas be executed')"
   ]
  },
  {
   "cell_type": "code",
   "execution_count": 90,
   "id": "f9320bc8",
   "metadata": {},
   "outputs": [
    {
     "ename": "Exception",
     "evalue": "myerror",
     "output_type": "error",
     "traceback": [
      "\u001b[1;31m---------------------------------------------------------------------------\u001b[0m",
      "\u001b[1;31mException\u001b[0m                                 Traceback (most recent call last)",
      "\u001b[1;32m<ipython-input-90-58250441e98e>\u001b[0m in \u001b[0;36m<module>\u001b[1;34m\u001b[0m\n\u001b[1;32m----> 1\u001b[1;33m \u001b[1;32mraise\u001b[0m \u001b[0mException\u001b[0m\u001b[1;33m(\u001b[0m\u001b[1;34m'myerror'\u001b[0m\u001b[1;33m)\u001b[0m\u001b[1;33m\u001b[0m\u001b[1;33m\u001b[0m\u001b[0m\n\u001b[0m\u001b[0;32m      2\u001b[0m \u001b[1;33m\u001b[0m\u001b[0m\n\u001b[0;32m      3\u001b[0m \u001b[0mprint\u001b[0m\u001b[1;33m(\u001b[0m\u001b[1;34m\"100 lines of code\"\u001b[0m\u001b[1;33m)\u001b[0m\u001b[1;33m\u001b[0m\u001b[1;33m\u001b[0m\u001b[0m\n",
      "\u001b[1;31mException\u001b[0m: myerror"
     ]
    }
   ],
   "source": [
    "raise Exception('myerror')\n",
    "\n",
    "print(\"100 lines of code\")"
   ]
  },
  {
   "cell_type": "code",
   "execution_count": 98,
   "id": "9b065698",
   "metadata": {},
   "outputs": [
    {
     "name": "stdout",
     "output_type": "stream",
     "text": [
      "Enter your name : abc\n",
      "Error caused :  Name can not be less than 4 characters\n",
      "<class 'ValueError'>\n",
      "100 lines of code\n"
     ]
    }
   ],
   "source": [
    "try:\n",
    "    name = input('Enter your name : ', )\n",
    "    if len(name)<4:\n",
    "        raise ValueError('Name can not be less than 4 characters')\n",
    "    print(\"Hello\" , name)\n",
    "except Exception as e:\n",
    "    print('Error caused : ', e)\n",
    "    print(sys.exc_info()[0])\n",
    "    \n",
    "finally:\n",
    "    print('100 lines of code')\n"
   ]
  },
  {
   "cell_type": "code",
   "execution_count": 1,
   "id": "d7b26d2c",
   "metadata": {},
   "outputs": [],
   "source": [
    "class Human:\n",
    "    pass"
   ]
  },
  {
   "cell_type": "code",
   "execution_count": 2,
   "id": "a8a24d1f",
   "metadata": {},
   "outputs": [],
   "source": [
    "mohit = Human()"
   ]
  },
  {
   "cell_type": "code",
   "execution_count": 3,
   "id": "7fa4b88a",
   "metadata": {},
   "outputs": [
    {
     "data": {
      "text/plain": [
       "str"
      ]
     },
     "execution_count": 3,
     "metadata": {},
     "output_type": "execute_result"
    }
   ],
   "source": [
    "type('hello')"
   ]
  },
  {
   "cell_type": "code",
   "execution_count": 5,
   "id": "ed8b3223",
   "metadata": {},
   "outputs": [
    {
     "data": {
      "text/plain": [
       "__main__.Human"
      ]
     },
     "execution_count": 5,
     "metadata": {},
     "output_type": "execute_result"
    }
   ],
   "source": [
    "type(mohit)"
   ]
  },
  {
   "cell_type": "code",
   "execution_count": 7,
   "id": "0e655595",
   "metadata": {},
   "outputs": [],
   "source": [
    "class Human:\n",
    "    def __init__(self,name,age):\n",
    "        print(\"Creating new objects\")\n",
    "        self.name = name\n",
    "        self.age = age"
   ]
  },
  {
   "cell_type": "code",
   "execution_count": 9,
   "id": "c06aceed",
   "metadata": {},
   "outputs": [
    {
     "name": "stdout",
     "output_type": "stream",
     "text": [
      "Creating new objects\n"
     ]
    }
   ],
   "source": [
    "h1 = Human(\"Mohit\", 23)"
   ]
  },
  {
   "cell_type": "code",
   "execution_count": 10,
   "id": "6c14da31",
   "metadata": {},
   "outputs": [
    {
     "name": "stdout",
     "output_type": "stream",
     "text": [
      "<__main__.Human object at 0x00000251B5BE8EB0>\n"
     ]
    }
   ],
   "source": [
    "print(h1)"
   ]
  },
  {
   "cell_type": "code",
   "execution_count": 13,
   "id": "2c133899",
   "metadata": {},
   "outputs": [
    {
     "name": "stdout",
     "output_type": "stream",
     "text": [
      "23\n"
     ]
    }
   ],
   "source": [
    "print(h1.age)"
   ]
  },
  {
   "cell_type": "code",
   "execution_count": 14,
   "id": "bc735d33",
   "metadata": {},
   "outputs": [
    {
     "name": "stdout",
     "output_type": "stream",
     "text": [
      "Mohit\n"
     ]
    }
   ],
   "source": [
    "print(h1.name)"
   ]
  },
  {
   "cell_type": "code",
   "execution_count": 15,
   "id": "c84ae631",
   "metadata": {},
   "outputs": [
    {
     "name": "stdout",
     "output_type": "stream",
     "text": [
      "Creating new objects\n"
     ]
    }
   ],
   "source": [
    "h2 = Human('prateek', 27)"
   ]
  },
  {
   "cell_type": "code",
   "execution_count": 16,
   "id": "d5ec20d8",
   "metadata": {},
   "outputs": [
    {
     "data": {
      "text/plain": [
       "27"
      ]
     },
     "execution_count": 16,
     "metadata": {},
     "output_type": "execute_result"
    }
   ],
   "source": [
    "h2.age"
   ]
  },
  {
   "cell_type": "code",
   "execution_count": 17,
   "id": "2a4718e6",
   "metadata": {},
   "outputs": [
    {
     "data": {
      "text/plain": [
       "'prateek'"
      ]
     },
     "execution_count": 17,
     "metadata": {},
     "output_type": "execute_result"
    }
   ],
   "source": [
    "h2.name"
   ]
  },
  {
   "cell_type": "code",
   "execution_count": 18,
   "id": "f99a5ffb",
   "metadata": {},
   "outputs": [
    {
     "name": "stdout",
     "output_type": "stream",
     "text": [
      "<__main__.Human object at 0x00000251B5E07C10>\n"
     ]
    }
   ],
   "source": [
    "print(h2)"
   ]
  },
  {
   "cell_type": "code",
   "execution_count": 19,
   "id": "09f8b5e4",
   "metadata": {},
   "outputs": [
    {
     "data": {
      "text/plain": [
       "__main__.Human"
      ]
     },
     "execution_count": 19,
     "metadata": {},
     "output_type": "execute_result"
    }
   ],
   "source": [
    "type(h2)"
   ]
  },
  {
   "cell_type": "code",
   "execution_count": 20,
   "id": "d2c3b726",
   "metadata": {},
   "outputs": [],
   "source": [
    "class Human:\n",
    "    def __init__(self,name,age):\n",
    "        print(\"Creating new objects\")\n",
    "        self.name = name\n",
    "        self.age = age\n",
    "        \n",
    "    def introduction(self):\n",
    "        print(\"Hi my name is {} and i am {} years old\".format(self.name, self.age))"
   ]
  },
  {
   "cell_type": "code",
   "execution_count": 21,
   "id": "61a4826e",
   "metadata": {},
   "outputs": [
    {
     "name": "stdout",
     "output_type": "stream",
     "text": [
      "Creating new objects\n",
      "Creating new objects\n"
     ]
    }
   ],
   "source": [
    "h1 = Human('Mohit', 23)\n",
    "h2 = Human(\"Prateek\", 27)"
   ]
  },
  {
   "cell_type": "code",
   "execution_count": 22,
   "id": "c3a534af",
   "metadata": {},
   "outputs": [
    {
     "name": "stdout",
     "output_type": "stream",
     "text": [
      "Hi my name is Mohit and i am 23 years old\n"
     ]
    }
   ],
   "source": [
    "h1.introduction()"
   ]
  },
  {
   "cell_type": "code",
   "execution_count": 23,
   "id": "8dcdf844",
   "metadata": {},
   "outputs": [
    {
     "name": "stdout",
     "output_type": "stream",
     "text": [
      "Hi my name is Prateek and i am 27 years old\n"
     ]
    }
   ],
   "source": [
    "h2.introduction()"
   ]
  },
  {
   "cell_type": "code",
   "execution_count": 25,
   "id": "e0f9be04",
   "metadata": {},
   "outputs": [],
   "source": [
    "h2.name = 'Nafis'"
   ]
  },
  {
   "cell_type": "code",
   "execution_count": 26,
   "id": "70677454",
   "metadata": {},
   "outputs": [
    {
     "data": {
      "text/plain": [
       "'Nafis'"
      ]
     },
     "execution_count": 26,
     "metadata": {},
     "output_type": "execute_result"
    }
   ],
   "source": [
    "h2.name"
   ]
  },
  {
   "cell_type": "code",
   "execution_count": 27,
   "id": "3d0d3d96",
   "metadata": {},
   "outputs": [
    {
     "name": "stdout",
     "output_type": "stream",
     "text": [
      "Hi my name is Nafis and i am 27 years old\n"
     ]
    }
   ],
   "source": [
    "h2.introduction()"
   ]
  },
  {
   "cell_type": "code",
   "execution_count": 29,
   "id": "46685521",
   "metadata": {},
   "outputs": [],
   "source": [
    "class Human:\n",
    "    database = []\n",
    "    population = 0\n",
    "    id_seq = 101\n",
    "    \n",
    "    def __init__(self,name,age):\n",
    "        print(\"Creating new objects\")\n",
    "        self.name = name\n",
    "        self.age = age\n",
    "        \n",
    "        self.id = Human.id_seq\n",
    "        Human.id_seq+=1\n",
    "        Human.population+=1\n",
    "        \n",
    "        Human.database.append(self)\n",
    "        \n",
    "        \n",
    "    def introduction(self):\n",
    "        print(\"Hi my name is {} and i am {} years old\".format(self.name, self.age))"
   ]
  },
  {
   "cell_type": "code",
   "execution_count": 30,
   "id": "41f5ea73",
   "metadata": {},
   "outputs": [
    {
     "name": "stdout",
     "output_type": "stream",
     "text": [
      "Creating new objects\n"
     ]
    }
   ],
   "source": [
    "h1 = Human('Mohit', 23)"
   ]
  },
  {
   "cell_type": "code",
   "execution_count": 31,
   "id": "e2130292",
   "metadata": {},
   "outputs": [
    {
     "name": "stdout",
     "output_type": "stream",
     "text": [
      "<__main__.Human object at 0x00000251B5DBE340>\n"
     ]
    }
   ],
   "source": [
    "print(h1)"
   ]
  },
  {
   "cell_type": "code",
   "execution_count": 32,
   "id": "a8c352af",
   "metadata": {},
   "outputs": [
    {
     "data": {
      "text/plain": [
       "101"
      ]
     },
     "execution_count": 32,
     "metadata": {},
     "output_type": "execute_result"
    }
   ],
   "source": [
    "h1.id"
   ]
  },
  {
   "cell_type": "code",
   "execution_count": 33,
   "id": "63975885",
   "metadata": {},
   "outputs": [
    {
     "data": {
      "text/plain": [
       "[<__main__.Human at 0x251b5dbe340>]"
      ]
     },
     "execution_count": 33,
     "metadata": {},
     "output_type": "execute_result"
    }
   ],
   "source": [
    "Human.database"
   ]
  },
  {
   "cell_type": "code",
   "execution_count": 34,
   "id": "d93e8600",
   "metadata": {},
   "outputs": [
    {
     "data": {
      "text/plain": [
       "1"
      ]
     },
     "execution_count": 34,
     "metadata": {},
     "output_type": "execute_result"
    }
   ],
   "source": [
    "Human.population"
   ]
  },
  {
   "cell_type": "code",
   "execution_count": 35,
   "id": "e8f585e2",
   "metadata": {},
   "outputs": [
    {
     "name": "stdout",
     "output_type": "stream",
     "text": [
      "Creating new objects\n"
     ]
    }
   ],
   "source": [
    "h2 = Human('Prateek', 27)"
   ]
  },
  {
   "cell_type": "code",
   "execution_count": 37,
   "id": "271396cd",
   "metadata": {},
   "outputs": [
    {
     "name": "stdout",
     "output_type": "stream",
     "text": [
      "102\n"
     ]
    }
   ],
   "source": [
    "print(h2.id)"
   ]
  },
  {
   "cell_type": "code",
   "execution_count": 38,
   "id": "190a668f",
   "metadata": {},
   "outputs": [
    {
     "data": {
      "text/plain": [
       "[<__main__.Human at 0x251b5dbe340>, <__main__.Human at 0x251b67a4b80>]"
      ]
     },
     "execution_count": 38,
     "metadata": {},
     "output_type": "execute_result"
    }
   ],
   "source": [
    "Human.database"
   ]
  },
  {
   "cell_type": "code",
   "execution_count": 39,
   "id": "f47c9f43",
   "metadata": {},
   "outputs": [
    {
     "data": {
      "text/plain": [
       "2"
      ]
     },
     "execution_count": 39,
     "metadata": {},
     "output_type": "execute_result"
    }
   ],
   "source": [
    "Human.population"
   ]
  },
  {
   "cell_type": "code",
   "execution_count": 67,
   "id": "c9214af1",
   "metadata": {},
   "outputs": [],
   "source": [
    "class Human:\n",
    "    database = []\n",
    "    population = 0\n",
    "    id_seq = 101\n",
    "    \n",
    "    def __init__(self,name,age, is_alive = True):\n",
    "        print(\"Creating new objects\")\n",
    "        self.name = name\n",
    "        self.age = age\n",
    "        self.is_alive = is_alive\n",
    "        \n",
    "        self.id = Human.id_seq\n",
    "        Human.id_seq+=1\n",
    "        Human.population+=1\n",
    "        \n",
    "        Human.database.append(self)\n",
    "        \n",
    "        \n",
    "    def introduction(self):\n",
    "        print(\"Hi my name is {} and i am {} years old\".format(self.name, self.age))\n",
    "        \n",
    "        \n",
    "    def die(self):\n",
    "        if self.is_alive:\n",
    "            print(self.name, \"is dying.....\")\n",
    "            self.is_alive = False\n",
    "            Human.population-=1\n",
    "        else:\n",
    "            print(self.name, \"is already dead\")"
   ]
  },
  {
   "cell_type": "code",
   "execution_count": 68,
   "id": "95121ee6",
   "metadata": {},
   "outputs": [
    {
     "name": "stdout",
     "output_type": "stream",
     "text": [
      "Creating new objects\n",
      "Creating new objects\n"
     ]
    }
   ],
   "source": [
    "h1 = Human(\"Mohit\", 23)\n",
    "h2 = Human(\"Prateeek\", 27)"
   ]
  },
  {
   "cell_type": "code",
   "execution_count": 69,
   "id": "de9d07ed",
   "metadata": {},
   "outputs": [
    {
     "data": {
      "text/plain": [
       "2"
      ]
     },
     "execution_count": 69,
     "metadata": {},
     "output_type": "execute_result"
    }
   ],
   "source": [
    "Human.population"
   ]
  },
  {
   "cell_type": "code",
   "execution_count": 70,
   "id": "08c41f97",
   "metadata": {},
   "outputs": [
    {
     "data": {
      "text/plain": [
       "[<__main__.Human at 0x251b61f2b80>, <__main__.Human at 0x251b61f2940>]"
      ]
     },
     "execution_count": 70,
     "metadata": {},
     "output_type": "execute_result"
    }
   ],
   "source": [
    "Human.database"
   ]
  },
  {
   "cell_type": "code",
   "execution_count": 71,
   "id": "27328eee",
   "metadata": {},
   "outputs": [
    {
     "data": {
      "text/plain": [
       "True"
      ]
     },
     "execution_count": 71,
     "metadata": {},
     "output_type": "execute_result"
    }
   ],
   "source": [
    "h1.is_alive"
   ]
  },
  {
   "cell_type": "code",
   "execution_count": 78,
   "id": "3eee88d5",
   "metadata": {},
   "outputs": [
    {
     "name": "stdout",
     "output_type": "stream",
     "text": [
      "Mohit is already dead\n"
     ]
    }
   ],
   "source": [
    "h1.die()"
   ]
  },
  {
   "cell_type": "code",
   "execution_count": 79,
   "id": "3050cba2",
   "metadata": {},
   "outputs": [
    {
     "data": {
      "text/plain": [
       "False"
      ]
     },
     "execution_count": 79,
     "metadata": {},
     "output_type": "execute_result"
    }
   ],
   "source": [
    "h1.is_alive"
   ]
  },
  {
   "cell_type": "code",
   "execution_count": 80,
   "id": "fdd1c4f0",
   "metadata": {},
   "outputs": [
    {
     "data": {
      "text/plain": [
       "1"
      ]
     },
     "execution_count": 80,
     "metadata": {},
     "output_type": "execute_result"
    }
   ],
   "source": [
    "Human.population"
   ]
  },
  {
   "cell_type": "code",
   "execution_count": 81,
   "id": "733e575f",
   "metadata": {},
   "outputs": [
    {
     "data": {
      "text/plain": [
       "[<__main__.Human at 0x251b61f2b80>, <__main__.Human at 0x251b61f2940>]"
      ]
     },
     "execution_count": 81,
     "metadata": {},
     "output_type": "execute_result"
    }
   ],
   "source": [
    "Human.database"
   ]
  },
  {
   "cell_type": "code",
   "execution_count": 82,
   "id": "d4a61a05",
   "metadata": {},
   "outputs": [
    {
     "name": "stdout",
     "output_type": "stream",
     "text": [
      "Mohit is already dead\n"
     ]
    }
   ],
   "source": [
    "h1.die()"
   ]
  },
  {
   "cell_type": "code",
   "execution_count": 83,
   "id": "a5a86ee9",
   "metadata": {},
   "outputs": [
    {
     "data": {
      "text/plain": [
       "1"
      ]
     },
     "execution_count": 83,
     "metadata": {},
     "output_type": "execute_result"
    }
   ],
   "source": [
    "Human.population"
   ]
  },
  {
   "cell_type": "code",
   "execution_count": 84,
   "id": "d7ef5a65",
   "metadata": {},
   "outputs": [
    {
     "name": "stdout",
     "output_type": "stream",
     "text": [
      "<__main__.Human object at 0x00000251B61F2B80>\n"
     ]
    }
   ],
   "source": [
    "print(h1)"
   ]
  },
  {
   "cell_type": "code",
   "execution_count": 85,
   "id": "4923ff3f",
   "metadata": {},
   "outputs": [
    {
     "name": "stdout",
     "output_type": "stream",
     "text": [
      "<__main__.Human object at 0x00000251B61F2940>\n"
     ]
    }
   ],
   "source": [
    "print(h2)"
   ]
  },
  {
   "cell_type": "code",
   "execution_count": 86,
   "id": "576ef94c",
   "metadata": {},
   "outputs": [],
   "source": [
    "lst = [1,2,3,4,5]"
   ]
  },
  {
   "cell_type": "code",
   "execution_count": 87,
   "id": "a474b6de",
   "metadata": {},
   "outputs": [
    {
     "name": "stdout",
     "output_type": "stream",
     "text": [
      "[1, 2, 3, 4, 5]\n"
     ]
    }
   ],
   "source": [
    "print(lst)"
   ]
  },
  {
   "cell_type": "code",
   "execution_count": 104,
   "id": "0612457c",
   "metadata": {},
   "outputs": [],
   "source": [
    "class Human:\n",
    "    database = []\n",
    "    population = 0\n",
    "    id_seq = 101\n",
    "    \n",
    "    def __init__(self,name,age, is_alive = True):\n",
    "        print(\"Creating new objects\")\n",
    "        self.name = name\n",
    "        self.age = age\n",
    "        self.is_alive = is_alive\n",
    "        \n",
    "        self.id = Human.id_seq\n",
    "        Human.id_seq+=1\n",
    "        Human.population+=1\n",
    "        \n",
    "        Human.database.append(self)\n",
    "        \n",
    "        \n",
    "    def introduction(self):\n",
    "        print(\"Hi my name is {} and i am {} years old\".format(self.name, self.age))\n",
    "        \n",
    "        \n",
    "    def die(self):\n",
    "        if self.is_alive:\n",
    "            print(self.name, \"is dying.....\")\n",
    "            self.is_alive = False\n",
    "            Human.population-=1\n",
    "        else:\n",
    "            print(self.name, \"is already dead\")\n",
    "            \n",
    "            \n",
    "    def __repr__(self):\n",
    "        \"\"\"This method needs to return a string\"\"\"\n",
    "        return ('[{} , {} , {} , {}]'.format(self.id, self.name, self.age, self.is_alive))"
   ]
  },
  {
   "cell_type": "code",
   "execution_count": 105,
   "id": "96f3dd6a",
   "metadata": {},
   "outputs": [
    {
     "name": "stdout",
     "output_type": "stream",
     "text": [
      "Creating new objects\n"
     ]
    }
   ],
   "source": [
    "h1 = Human('Mohit', 23)"
   ]
  },
  {
   "cell_type": "code",
   "execution_count": 106,
   "id": "9208e3b0",
   "metadata": {},
   "outputs": [
    {
     "name": "stdout",
     "output_type": "stream",
     "text": [
      "Creating new objects\n"
     ]
    }
   ],
   "source": [
    "h2 = Human('Prateek', 27)"
   ]
  },
  {
   "cell_type": "code",
   "execution_count": 107,
   "id": "49935579",
   "metadata": {},
   "outputs": [
    {
     "name": "stdout",
     "output_type": "stream",
     "text": [
      "[101 , Mohit , 23 , True]\n"
     ]
    }
   ],
   "source": [
    "print(h1)"
   ]
  },
  {
   "cell_type": "code",
   "execution_count": 108,
   "id": "4fef1b7c",
   "metadata": {},
   "outputs": [
    {
     "name": "stdout",
     "output_type": "stream",
     "text": [
      "[102 , Prateek , 27 , True]\n"
     ]
    }
   ],
   "source": [
    "print(h2)"
   ]
  },
  {
   "cell_type": "code",
   "execution_count": 109,
   "id": "1b942786",
   "metadata": {},
   "outputs": [
    {
     "data": {
      "text/plain": [
       "[[101 , Mohit , 23 , True], [102 , Prateek , 27 , True]]"
      ]
     },
     "execution_count": 109,
     "metadata": {},
     "output_type": "execute_result"
    }
   ],
   "source": [
    "Human.database"
   ]
  },
  {
   "cell_type": "code",
   "execution_count": 127,
   "id": "dda5cc24",
   "metadata": {},
   "outputs": [],
   "source": [
    "class Human:\n",
    "    database = []\n",
    "    population = 0\n",
    "    id_seq = 101\n",
    "    \n",
    "    def __init__(self,name,age, is_alive = True):\n",
    "        print(\"Creating new objects\")\n",
    "        self.name = name\n",
    "        self.age = age\n",
    "        self.is_alive = is_alive\n",
    "        \n",
    "        self.id = Human.id_seq\n",
    "        Human.id_seq+=1\n",
    "        Human.population+=1\n",
    "        \n",
    "        Human.database.append(self)\n",
    "        \n",
    "        \n",
    "    def introduction(self):\n",
    "        print(\"Hi my name is {} and i am {} years old\".format(self.name, self.age))\n",
    "        \n",
    "        \n",
    "    def die(self):\n",
    "        if self.is_alive:\n",
    "            print(self.name, \"is dying.....\")\n",
    "            self.is_alive = False\n",
    "            Human.population-=1\n",
    "        else:\n",
    "            print(self.name, \"is already dead\")\n",
    "            \n",
    "            \n",
    "    def __repr__(self):\n",
    "        \"\"\"This method needs to return a string\"\"\"\n",
    "        return ('[{} , {} , {} , {}]'.format(self.id, self.name, self.age, self.is_alive))"
   ]
  },
  {
   "cell_type": "code",
   "execution_count": 128,
   "id": "9b642474",
   "metadata": {},
   "outputs": [],
   "source": [
    "class Hitman(Human):\n",
    "    def __init__(self,name,age):\n",
    "        super().__init__(name, age)\n",
    "        \n",
    "        self.kills = 0\n",
    "        self.kill_lst = []\n",
    "        \n",
    "        \n",
    "    "
   ]
  },
  {
   "cell_type": "code",
   "execution_count": 129,
   "id": "52acef21",
   "metadata": {},
   "outputs": [
    {
     "name": "stdout",
     "output_type": "stream",
     "text": [
      "Creating new objects\n",
      "Creating new objects\n",
      "Creating new objects\n"
     ]
    }
   ],
   "source": [
    "h1 = Human('Mohit', 23)\n",
    "h2 = Human('Prateek', 27)\n",
    "h3 = Human('Jatin', 28)"
   ]
  },
  {
   "cell_type": "code",
   "execution_count": 130,
   "id": "a350fb21",
   "metadata": {},
   "outputs": [
    {
     "data": {
      "text/plain": [
       "3"
      ]
     },
     "execution_count": 130,
     "metadata": {},
     "output_type": "execute_result"
    }
   ],
   "source": [
    "Human.population"
   ]
  },
  {
   "cell_type": "code",
   "execution_count": 131,
   "id": "2e034158",
   "metadata": {},
   "outputs": [
    {
     "data": {
      "text/plain": [
       "[[101 , Mohit , 23 , True],\n",
       " [102 , Prateek , 27 , True],\n",
       " [103 , Jatin , 28 , True]]"
      ]
     },
     "execution_count": 131,
     "metadata": {},
     "output_type": "execute_result"
    }
   ],
   "source": [
    "Human.database"
   ]
  },
  {
   "cell_type": "code",
   "execution_count": 132,
   "id": "17c40e39",
   "metadata": {},
   "outputs": [
    {
     "name": "stdout",
     "output_type": "stream",
     "text": [
      "Creating new objects\n"
     ]
    }
   ],
   "source": [
    "bond = Hitman('James', 30)"
   ]
  },
  {
   "cell_type": "code",
   "execution_count": 133,
   "id": "8542bb7f",
   "metadata": {},
   "outputs": [
    {
     "data": {
      "text/plain": [
       "4"
      ]
     },
     "execution_count": 133,
     "metadata": {},
     "output_type": "execute_result"
    }
   ],
   "source": [
    "Human.population"
   ]
  },
  {
   "cell_type": "code",
   "execution_count": 134,
   "id": "3e0c61f4",
   "metadata": {},
   "outputs": [
    {
     "data": {
      "text/plain": [
       "[[101 , Mohit , 23 , True],\n",
       " [102 , Prateek , 27 , True],\n",
       " [103 , Jatin , 28 , True],\n",
       " [104 , James , 30 , True]]"
      ]
     },
     "execution_count": 134,
     "metadata": {},
     "output_type": "execute_result"
    }
   ],
   "source": [
    "Human.database"
   ]
  },
  {
   "cell_type": "code",
   "execution_count": 135,
   "id": "87730c0a",
   "metadata": {},
   "outputs": [
    {
     "name": "stdout",
     "output_type": "stream",
     "text": [
      "[104 , James , 30 , True]\n"
     ]
    }
   ],
   "source": [
    "print(bond)"
   ]
  },
  {
   "cell_type": "code",
   "execution_count": 136,
   "id": "28cb0361",
   "metadata": {},
   "outputs": [
    {
     "name": "stdout",
     "output_type": "stream",
     "text": [
      "Hi my name is James and i am 30 years old\n"
     ]
    }
   ],
   "source": [
    "bond.introduction()"
   ]
  },
  {
   "cell_type": "code",
   "execution_count": 162,
   "id": "1d01029c",
   "metadata": {},
   "outputs": [],
   "source": [
    "class Human:\n",
    "    database = []\n",
    "    population = 0\n",
    "    id_seq = 101\n",
    "    \n",
    "    def __init__(self,name,age, is_alive = True):\n",
    "        print(\"Creating new objects\")\n",
    "        self.name = name\n",
    "        self.age = age\n",
    "        self.is_alive = is_alive\n",
    "        \n",
    "        self.id = Human.id_seq\n",
    "        Human.id_seq+=1\n",
    "        Human.population+=1\n",
    "        \n",
    "        Human.database.append(self)\n",
    "        \n",
    "        \n",
    "    def introduction(self):\n",
    "        print(\"Hi my name is {} and i am {} years old\".format(self.name, self.age))\n",
    "        \n",
    "        \n",
    "    def die(self):\n",
    "        if self.is_alive:\n",
    "            print(self.name, \"is dying.....\")\n",
    "            self.is_alive = False\n",
    "            Human.population-=1\n",
    "        else:\n",
    "            print(self.name, \"is already dead\")\n",
    "            \n",
    "            \n",
    "    def __repr__(self):\n",
    "        \"\"\"This method needs to return a string\"\"\"\n",
    "        return ('[{} , {} , {} , {}]'.format(self.id, self.name, self.age, self.is_alive))"
   ]
  },
  {
   "cell_type": "code",
   "execution_count": 163,
   "id": "4a0a30fc",
   "metadata": {},
   "outputs": [],
   "source": [
    "class Hitman(Human):\n",
    "    def __init__(self,name,age):\n",
    "        super().__init__(name, age)\n",
    "        \n",
    "        self.kills = 0\n",
    "        self.kill_lst = []\n",
    "        \n",
    "    def kill(self, person):\n",
    "        \"\"\"Person will be an object of Humnan\"\"\"\n",
    "        if person.is_alive:\n",
    "            print(\"{} is killing {}\".format(self.name, person.name))\n",
    "            person.die()\n",
    "            self.kills+=1\n",
    "            self.kill_lst.append(person)\n",
    "        else:\n",
    "            print(\"{} is alreadyy dead\".format(person.name))\n",
    "        "
   ]
  },
  {
   "cell_type": "code",
   "execution_count": 164,
   "id": "2bc474cd",
   "metadata": {},
   "outputs": [
    {
     "name": "stdout",
     "output_type": "stream",
     "text": [
      "Creating new objects\n",
      "Creating new objects\n",
      "Creating new objects\n"
     ]
    }
   ],
   "source": [
    "h1 = Human(\"Mohit\", 23)\n",
    "h2 = Human(\"Prateek\", 27)\n",
    "h3 = Human(\"Jatin\", 26)"
   ]
  },
  {
   "cell_type": "code",
   "execution_count": 165,
   "id": "fa700a79",
   "metadata": {},
   "outputs": [
    {
     "data": {
      "text/plain": [
       "3"
      ]
     },
     "execution_count": 165,
     "metadata": {},
     "output_type": "execute_result"
    }
   ],
   "source": [
    "Human.population"
   ]
  },
  {
   "cell_type": "code",
   "execution_count": 166,
   "id": "7cc339a2",
   "metadata": {},
   "outputs": [
    {
     "data": {
      "text/plain": [
       "[[101 , Mohit , 23 , True],\n",
       " [102 , Prateek , 27 , True],\n",
       " [103 , Jatin , 26 , True]]"
      ]
     },
     "execution_count": 166,
     "metadata": {},
     "output_type": "execute_result"
    }
   ],
   "source": [
    "Human.database"
   ]
  },
  {
   "cell_type": "code",
   "execution_count": 167,
   "id": "71bda6cd",
   "metadata": {},
   "outputs": [
    {
     "name": "stdout",
     "output_type": "stream",
     "text": [
      "Creating new objects\n"
     ]
    }
   ],
   "source": [
    "bond = Hitman(\"James\", 30)"
   ]
  },
  {
   "cell_type": "code",
   "execution_count": 174,
   "id": "1ce11e07",
   "metadata": {},
   "outputs": [
    {
     "name": "stdout",
     "output_type": "stream",
     "text": [
      "Jatin is alreadyy dead\n"
     ]
    }
   ],
   "source": [
    "bond.kill(h3)"
   ]
  },
  {
   "cell_type": "code",
   "execution_count": 175,
   "id": "f90f8803",
   "metadata": {},
   "outputs": [
    {
     "data": {
      "text/plain": [
       "1"
      ]
     },
     "execution_count": 175,
     "metadata": {},
     "output_type": "execute_result"
    }
   ],
   "source": [
    "bond.kills"
   ]
  },
  {
   "cell_type": "code",
   "execution_count": 176,
   "id": "3054d007",
   "metadata": {},
   "outputs": [
    {
     "data": {
      "text/plain": [
       "[[103 , Jatin , 26 , False]]"
      ]
     },
     "execution_count": 176,
     "metadata": {},
     "output_type": "execute_result"
    }
   ],
   "source": [
    "bond.kill_lst"
   ]
  },
  {
   "cell_type": "code",
   "execution_count": 177,
   "id": "c8554246",
   "metadata": {},
   "outputs": [
    {
     "data": {
      "text/plain": [
       "3"
      ]
     },
     "execution_count": 177,
     "metadata": {},
     "output_type": "execute_result"
    }
   ],
   "source": [
    "Human.population"
   ]
  },
  {
   "cell_type": "code",
   "execution_count": 178,
   "id": "83d8f718",
   "metadata": {},
   "outputs": [
    {
     "data": {
      "text/plain": [
       "[[101 , Mohit , 23 , True],\n",
       " [102 , Prateek , 27 , True],\n",
       " [103 , Jatin , 26 , False],\n",
       " [104 , James , 30 , True]]"
      ]
     },
     "execution_count": 178,
     "metadata": {},
     "output_type": "execute_result"
    }
   ],
   "source": [
    "Human.database"
   ]
  },
  {
   "cell_type": "code",
   "execution_count": 179,
   "id": "1a287b24",
   "metadata": {},
   "outputs": [
    {
     "name": "stdout",
     "output_type": "stream",
     "text": [
      "Jatin is alreadyy dead\n"
     ]
    }
   ],
   "source": [
    "bond.kill(h3)"
   ]
  },
  {
   "cell_type": "code",
   "execution_count": 180,
   "id": "a552c97e",
   "metadata": {},
   "outputs": [],
   "source": [
    "class Human:\n",
    "    database = []\n",
    "    population = 0\n",
    "    id_seq = 101\n",
    "    \n",
    "    def __init__(self,name,age, is_alive = True):\n",
    "        print(\"Creating new objects\")\n",
    "        self.name = name\n",
    "        self.age = age\n",
    "        self.is_alive = is_alive\n",
    "        \n",
    "        self.id = Human.id_seq\n",
    "        Human.id_seq+=1\n",
    "        Human.population+=1\n",
    "        \n",
    "        Human.database.append(self)\n",
    "        \n",
    "        \n",
    "    def introduction(self):\n",
    "        print(\"Hi my name is {} and i am {} years old\".format(self.name, self.age))\n",
    "        \n",
    "        \n",
    "    def die(self):\n",
    "        if self.is_alive:\n",
    "            print(self.name, \"is dying.....\")\n",
    "            self.is_alive = False\n",
    "            Human.population-=1\n",
    "        else:\n",
    "            print(self.name, \"is already dead\")\n",
    "            \n",
    "            \n",
    "    def __repr__(self):\n",
    "        \"\"\"This method needs to return a string\"\"\"\n",
    "        return ('[{} , {} , {} , {}]'.format(self.id, self.name, self.age, self.is_alive))"
   ]
  },
  {
   "cell_type": "code",
   "execution_count": 181,
   "id": "52cf5da8",
   "metadata": {},
   "outputs": [],
   "source": [
    "class Hitman(Human):\n",
    "    def __init__(self,name,age):\n",
    "        super().__init__(name, age)\n",
    "        \n",
    "        self.kills = 0\n",
    "        self.kill_lst = []\n",
    "        \n",
    "    def kill(self, person):\n",
    "        \"\"\"Person will be an object of Humnan\"\"\"\n",
    "        if person.is_alive:\n",
    "            print(\"{} is killing {}\".format(self.name, person.name))\n",
    "            person.die()\n",
    "            self.kills+=1\n",
    "            self.kill_lst.append(person)\n",
    "        else:\n",
    "            print(\"{} is alreadyy dead\".format(person.name))\n",
    "            \n",
    "    def introduction(self):\n",
    "        print(\"HI my name is {} and i have killed {} no of persons\".format(self.name, self.kills))\n",
    "        "
   ]
  },
  {
   "cell_type": "code",
   "execution_count": 182,
   "id": "8c33cccb",
   "metadata": {},
   "outputs": [
    {
     "name": "stdout",
     "output_type": "stream",
     "text": [
      "Creating new objects\n",
      "Creating new objects\n",
      "Creating new objects\n"
     ]
    }
   ],
   "source": [
    "h1 = Human(\"Mohit\", 23)\n",
    "h2 = Human(\"Prateek\", 27)\n",
    "h3 = Human(\"Jatin\", 26)"
   ]
  },
  {
   "cell_type": "code",
   "execution_count": 183,
   "id": "e6471646",
   "metadata": {},
   "outputs": [
    {
     "name": "stdout",
     "output_type": "stream",
     "text": [
      "Creating new objects\n"
     ]
    }
   ],
   "source": [
    "bond = Hitman(\"James\", 30)"
   ]
  },
  {
   "cell_type": "code",
   "execution_count": 184,
   "id": "111384ef",
   "metadata": {},
   "outputs": [
    {
     "name": "stdout",
     "output_type": "stream",
     "text": [
      "James is killing Jatin\n",
      "Jatin is dying.....\n"
     ]
    }
   ],
   "source": [
    "bond.kill(h3)"
   ]
  },
  {
   "cell_type": "code",
   "execution_count": 185,
   "id": "b576af42",
   "metadata": {},
   "outputs": [
    {
     "name": "stdout",
     "output_type": "stream",
     "text": [
      "Hi my name is Mohit and i am 23 years old\n"
     ]
    }
   ],
   "source": [
    "h1.introduction()"
   ]
  },
  {
   "cell_type": "code",
   "execution_count": 186,
   "id": "a7366698",
   "metadata": {},
   "outputs": [
    {
     "name": "stdout",
     "output_type": "stream",
     "text": [
      "HI my name is James and i have killed 1 no of persons\n"
     ]
    }
   ],
   "source": [
    "bond.introduction()"
   ]
  },
  {
   "cell_type": "code",
   "execution_count": 187,
   "id": "8d4d0178",
   "metadata": {},
   "outputs": [
    {
     "name": "stdout",
     "output_type": "stream",
     "text": [
      "James is killing Mohit\n",
      "Mohit is dying.....\n"
     ]
    }
   ],
   "source": [
    "bond.kill(h1)"
   ]
  },
  {
   "cell_type": "code",
   "execution_count": 188,
   "id": "fb15ee7f",
   "metadata": {},
   "outputs": [
    {
     "name": "stdout",
     "output_type": "stream",
     "text": [
      "HI my name is James and i have killed 2 no of persons\n"
     ]
    }
   ],
   "source": [
    "bond.introduction()"
   ]
  },
  {
   "cell_type": "code",
   "execution_count": 189,
   "id": "61218d22",
   "metadata": {},
   "outputs": [
    {
     "name": "stdout",
     "output_type": "stream",
     "text": [
      "Hi my name is Prateek and i am 27 years old\n"
     ]
    }
   ],
   "source": [
    "h2.introduction()"
   ]
  },
  {
   "cell_type": "code",
   "execution_count": null,
   "id": "2c5c946a",
   "metadata": {},
   "outputs": [],
   "source": []
  },
  {
   "cell_type": "code",
   "execution_count": 191,
   "id": "f9408e0b",
   "metadata": {},
   "outputs": [],
   "source": [
    "class A:\n",
    "    def m(self):\n",
    "        print(\"I am inside block A\")\n",
    "\n",
    "class B(A):\n",
    "    def m1(self):\n",
    "        print(\"I am inside block B\")\n",
    "\n",
    "class C(B):\n",
    "    def m1(self):\n",
    "        print(\"I am inside block C\")\n",
    "        \n",
    "    def m2(self):\n",
    "        print(\"This is function m2\")"
   ]
  },
  {
   "cell_type": "code",
   "execution_count": 192,
   "id": "5c9c28cf",
   "metadata": {},
   "outputs": [],
   "source": [
    "obj1 = A()\n",
    "obj2 = B()\n",
    "obj3 = C()"
   ]
  },
  {
   "cell_type": "code",
   "execution_count": 193,
   "id": "55b453c7",
   "metadata": {},
   "outputs": [
    {
     "name": "stdout",
     "output_type": "stream",
     "text": [
      "I am inside block A\n"
     ]
    }
   ],
   "source": [
    "obj1.m()"
   ]
  },
  {
   "cell_type": "code",
   "execution_count": 194,
   "id": "ad5d3b7b",
   "metadata": {},
   "outputs": [
    {
     "name": "stdout",
     "output_type": "stream",
     "text": [
      "I am inside block A\n"
     ]
    }
   ],
   "source": [
    "obj2.m()"
   ]
  },
  {
   "cell_type": "code",
   "execution_count": 195,
   "id": "fcd7d6d8",
   "metadata": {},
   "outputs": [
    {
     "name": "stdout",
     "output_type": "stream",
     "text": [
      "I am inside block B\n"
     ]
    }
   ],
   "source": [
    "obj2.m1()"
   ]
  },
  {
   "cell_type": "code",
   "execution_count": 196,
   "id": "02f9c877",
   "metadata": {},
   "outputs": [
    {
     "name": "stdout",
     "output_type": "stream",
     "text": [
      "I am inside block A\n"
     ]
    }
   ],
   "source": [
    "obj3.m()"
   ]
  },
  {
   "cell_type": "code",
   "execution_count": 197,
   "id": "0b794752",
   "metadata": {},
   "outputs": [
    {
     "name": "stdout",
     "output_type": "stream",
     "text": [
      "I am inside block C\n"
     ]
    }
   ],
   "source": [
    "obj3.m1()"
   ]
  },
  {
   "cell_type": "code",
   "execution_count": 198,
   "id": "8309ec24",
   "metadata": {},
   "outputs": [
    {
     "name": "stdout",
     "output_type": "stream",
     "text": [
      "This is function m2\n"
     ]
    }
   ],
   "source": [
    "obj3.m2()"
   ]
  },
  {
   "cell_type": "code",
   "execution_count": 209,
   "id": "33429c71",
   "metadata": {},
   "outputs": [],
   "source": [
    "class A:\n",
    "    def find(self):\n",
    "        print('This is find-A function')\n",
    "    \n",
    "class B:\n",
    "    def explore(self):\n",
    "        print(\"This is elpore - B function\")\n",
    "        \n",
    "    def discover(self):\n",
    "        print('This is discover-  B function')\n",
    "    \n",
    "class C(B,A):\n",
    "    def explore(self):\n",
    "        print(\"This is being executed from block C\")\n",
    "    \n",
    "    "
   ]
  },
  {
   "cell_type": "code",
   "execution_count": 210,
   "id": "b669f00c",
   "metadata": {},
   "outputs": [],
   "source": [
    "obj1 = A()\n",
    "obj2 = B()\n",
    "obj3 = C()"
   ]
  },
  {
   "cell_type": "code",
   "execution_count": 211,
   "id": "ba2623b5",
   "metadata": {},
   "outputs": [
    {
     "name": "stdout",
     "output_type": "stream",
     "text": [
      "This is find-A function\n"
     ]
    }
   ],
   "source": [
    "obj1.find()"
   ]
  },
  {
   "cell_type": "code",
   "execution_count": 212,
   "id": "d867ae00",
   "metadata": {},
   "outputs": [
    {
     "name": "stdout",
     "output_type": "stream",
     "text": [
      "This is discover-  B function\n"
     ]
    }
   ],
   "source": [
    "obj2.discover()"
   ]
  },
  {
   "cell_type": "code",
   "execution_count": 213,
   "id": "74ed5630",
   "metadata": {},
   "outputs": [
    {
     "name": "stdout",
     "output_type": "stream",
     "text": [
      "This is elpore - B function\n"
     ]
    }
   ],
   "source": [
    "obj2.explore()"
   ]
  },
  {
   "cell_type": "code",
   "execution_count": 214,
   "id": "ec0b50dd",
   "metadata": {},
   "outputs": [
    {
     "name": "stdout",
     "output_type": "stream",
     "text": [
      "This is being executed from block C\n"
     ]
    }
   ],
   "source": [
    "obj3.explore()"
   ]
  },
  {
   "cell_type": "code",
   "execution_count": 215,
   "id": "6185eccd",
   "metadata": {},
   "outputs": [
    {
     "name": "stdout",
     "output_type": "stream",
     "text": [
      "This is find-A function\n"
     ]
    }
   ],
   "source": [
    "obj3.find()"
   ]
  },
  {
   "cell_type": "code",
   "execution_count": 216,
   "id": "125aa2d9",
   "metadata": {},
   "outputs": [
    {
     "name": "stdout",
     "output_type": "stream",
     "text": [
      "This is discover-  B function\n"
     ]
    }
   ],
   "source": [
    "obj3.discover()"
   ]
  },
  {
   "cell_type": "code",
   "execution_count": 217,
   "id": "419474c9",
   "metadata": {},
   "outputs": [],
   "source": [
    "class random(object):\n",
    "    pass"
   ]
  },
  {
   "cell_type": "code",
   "execution_count": 219,
   "id": "ab03efee",
   "metadata": {},
   "outputs": [
    {
     "data": {
      "text/plain": [
       "[__main__.C, __main__.B, __main__.A, object]"
      ]
     },
     "execution_count": 219,
     "metadata": {},
     "output_type": "execute_result"
    }
   ],
   "source": [
    "C.mro()"
   ]
  },
  {
   "cell_type": "code",
   "execution_count": 220,
   "id": "9709f2ea",
   "metadata": {},
   "outputs": [
    {
     "data": {
      "text/plain": [
       "[1, 2, 3, 4, 5, 6]"
      ]
     },
     "execution_count": 220,
     "metadata": {},
     "output_type": "execute_result"
    }
   ],
   "source": [
    "[1,2,3] + [4,5,6]"
   ]
  },
  {
   "cell_type": "code",
   "execution_count": 221,
   "id": "27fc771f",
   "metadata": {},
   "outputs": [
    {
     "data": {
      "text/plain": [
       "11"
      ]
     },
     "execution_count": 221,
     "metadata": {},
     "output_type": "execute_result"
    }
   ],
   "source": [
    "5+6"
   ]
  },
  {
   "cell_type": "code",
   "execution_count": 223,
   "id": "f81e7155",
   "metadata": {},
   "outputs": [
    {
     "data": {
      "text/plain": [
       "'Sanjay Kumar'"
      ]
     },
     "execution_count": 223,
     "metadata": {},
     "output_type": "execute_result"
    }
   ],
   "source": [
    "\"Sanjay\" +  \" Kumar\""
   ]
  },
  {
   "cell_type": "code",
   "execution_count": 224,
   "id": "36cc5c62",
   "metadata": {},
   "outputs": [],
   "source": [
    "l1 = [1,2,3,4,5,6,7,8,9]"
   ]
  },
  {
   "cell_type": "code",
   "execution_count": 225,
   "id": "f4e2d7d9",
   "metadata": {},
   "outputs": [
    {
     "data": {
      "text/plain": [
       "9"
      ]
     },
     "execution_count": 225,
     "metadata": {},
     "output_type": "execute_result"
    }
   ],
   "source": [
    "len(l1)"
   ]
  },
  {
   "cell_type": "code",
   "execution_count": 226,
   "id": "30831e37",
   "metadata": {},
   "outputs": [],
   "source": [
    "c = \"Machinbe learning\""
   ]
  },
  {
   "cell_type": "code",
   "execution_count": 227,
   "id": "8ca0f0b3",
   "metadata": {},
   "outputs": [
    {
     "data": {
      "text/plain": [
       "17"
      ]
     },
     "execution_count": 227,
     "metadata": {},
     "output_type": "execute_result"
    }
   ],
   "source": [
    "len(c)"
   ]
  },
  {
   "cell_type": "code",
   "execution_count": 228,
   "id": "c387a830",
   "metadata": {},
   "outputs": [],
   "source": [
    "d = {1,1,1,1,1}"
   ]
  },
  {
   "cell_type": "code",
   "execution_count": 229,
   "id": "69a887f4",
   "metadata": {},
   "outputs": [
    {
     "data": {
      "text/plain": [
       "1"
      ]
     },
     "execution_count": 229,
     "metadata": {},
     "output_type": "execute_result"
    }
   ],
   "source": [
    "len(d)"
   ]
  },
  {
   "cell_type": "code",
   "execution_count": 230,
   "id": "92db233f",
   "metadata": {},
   "outputs": [],
   "source": [
    "def my_args(*args):\n",
    "    return sum(args)"
   ]
  },
  {
   "cell_type": "code",
   "execution_count": 231,
   "id": "77180c4c",
   "metadata": {},
   "outputs": [
    {
     "data": {
      "text/plain": [
       "27"
      ]
     },
     "execution_count": 231,
     "metadata": {},
     "output_type": "execute_result"
    }
   ],
   "source": [
    "my_args(5,6,7,9)"
   ]
  },
  {
   "cell_type": "code",
   "execution_count": 234,
   "id": "fb310362",
   "metadata": {},
   "outputs": [],
   "source": [
    "class Animal:\n",
    "    def speak(self):\n",
    "        print('I will speak')\n",
    "\n",
    "class Dog:\n",
    "    def speak(self):\n",
    "        print(\"bark....\")\n",
    "\n",
    "class Cat:\n",
    "    def speak(self):\n",
    "        print(\"Meawooooooo....\")\n",
    "\n",
    "class Duck:\n",
    "    def speak(self):\n",
    "        print(\"Quackkkk...\")"
   ]
  },
  {
   "cell_type": "code",
   "execution_count": 235,
   "id": "60f32641",
   "metadata": {},
   "outputs": [],
   "source": [
    "dog = Dog()\n",
    "cat = Cat()\n",
    "duck = Duck()"
   ]
  },
  {
   "cell_type": "code",
   "execution_count": 237,
   "id": "1fc1dbac",
   "metadata": {},
   "outputs": [
    {
     "name": "stdout",
     "output_type": "stream",
     "text": [
      "bark....\n",
      "Meawooooooo....\n",
      "Quackkkk...\n"
     ]
    }
   ],
   "source": [
    "for i in [dog, cat, duck]:\n",
    "    i.speak()"
   ]
  },
  {
   "cell_type": "code",
   "execution_count": 239,
   "id": "308632a5",
   "metadata": {},
   "outputs": [],
   "source": [
    "# Imtermidiate Python"
   ]
  },
  {
   "cell_type": "code",
   "execution_count": 240,
   "id": "ebbc661e",
   "metadata": {},
   "outputs": [],
   "source": [
    "# python Iterators"
   ]
  },
  {
   "cell_type": "code",
   "execution_count": 2,
   "id": "eb0ebe01",
   "metadata": {},
   "outputs": [],
   "source": [
    "my_lst = [2,5,15,10]"
   ]
  },
  {
   "cell_type": "code",
   "execution_count": 3,
   "id": "cd316760",
   "metadata": {},
   "outputs": [],
   "source": [
    "my_iter = iter(my_lst)"
   ]
  },
  {
   "cell_type": "code",
   "execution_count": 4,
   "id": "77d3682d",
   "metadata": {},
   "outputs": [
    {
     "data": {
      "text/plain": [
       "<list_iterator at 0x236a09f3160>"
      ]
     },
     "execution_count": 4,
     "metadata": {},
     "output_type": "execute_result"
    }
   ],
   "source": [
    "my_iter"
   ]
  },
  {
   "cell_type": "code",
   "execution_count": 5,
   "id": "ae4d0aed",
   "metadata": {},
   "outputs": [
    {
     "data": {
      "text/plain": [
       "2"
      ]
     },
     "execution_count": 5,
     "metadata": {},
     "output_type": "execute_result"
    }
   ],
   "source": [
    "next(my_iter)"
   ]
  },
  {
   "cell_type": "code",
   "execution_count": 6,
   "id": "8bb38b02",
   "metadata": {},
   "outputs": [
    {
     "data": {
      "text/plain": [
       "5"
      ]
     },
     "execution_count": 6,
     "metadata": {},
     "output_type": "execute_result"
    }
   ],
   "source": [
    "next(my_iter)"
   ]
  },
  {
   "cell_type": "code",
   "execution_count": 7,
   "id": "d3d6c38c",
   "metadata": {},
   "outputs": [
    {
     "data": {
      "text/plain": [
       "15"
      ]
     },
     "execution_count": 7,
     "metadata": {},
     "output_type": "execute_result"
    }
   ],
   "source": [
    "next(my_iter)"
   ]
  },
  {
   "cell_type": "code",
   "execution_count": 8,
   "id": "38605be3",
   "metadata": {},
   "outputs": [
    {
     "data": {
      "text/plain": [
       "10"
      ]
     },
     "execution_count": 8,
     "metadata": {},
     "output_type": "execute_result"
    }
   ],
   "source": [
    "next(my_iter)"
   ]
  },
  {
   "cell_type": "code",
   "execution_count": 9,
   "id": "03b51bb1",
   "metadata": {},
   "outputs": [
    {
     "ename": "StopIteration",
     "evalue": "",
     "output_type": "error",
     "traceback": [
      "\u001b[1;31m---------------------------------------------------------------------------\u001b[0m",
      "\u001b[1;31mStopIteration\u001b[0m                             Traceback (most recent call last)",
      "\u001b[1;32m<ipython-input-9-94a4229f6542>\u001b[0m in \u001b[0;36m<module>\u001b[1;34m\u001b[0m\n\u001b[1;32m----> 1\u001b[1;33m \u001b[0mnext\u001b[0m\u001b[1;33m(\u001b[0m\u001b[0mmy_iter\u001b[0m\u001b[1;33m)\u001b[0m\u001b[1;33m\u001b[0m\u001b[1;33m\u001b[0m\u001b[0m\n\u001b[0m",
      "\u001b[1;31mStopIteration\u001b[0m: "
     ]
    }
   ],
   "source": [
    "next(my_iter)"
   ]
  },
  {
   "cell_type": "code",
   "execution_count": 10,
   "id": "320d187b",
   "metadata": {},
   "outputs": [
    {
     "data": {
      "text/plain": [
       "[2, 5, 15, 10]"
      ]
     },
     "execution_count": 10,
     "metadata": {},
     "output_type": "execute_result"
    }
   ],
   "source": [
    "my_lst"
   ]
  },
  {
   "cell_type": "code",
   "execution_count": 11,
   "id": "34635fa4",
   "metadata": {},
   "outputs": [
    {
     "name": "stdout",
     "output_type": "stream",
     "text": [
      "2\n",
      "5\n",
      "15\n",
      "10\n"
     ]
    }
   ],
   "source": [
    "for i in my_lst:\n",
    "    print(i)"
   ]
  },
  {
   "cell_type": "code",
   "execution_count": 14,
   "id": "d43b6afb",
   "metadata": {},
   "outputs": [
    {
     "name": "stdout",
     "output_type": "stream",
     "text": [
      "2\n",
      "5\n",
      "15\n",
      "10\n"
     ]
    }
   ],
   "source": [
    "my_iter = iter(my_lst)\n",
    "\n",
    "while True:\n",
    "    try:\n",
    "        ele = next(my_iter)\n",
    "        print(ele)\n",
    "    except StopIteration:\n",
    "        break"
   ]
  },
  {
   "cell_type": "code",
   "execution_count": null,
   "id": "127a003f",
   "metadata": {},
   "outputs": [],
   "source": [
    "class Cubenumber:\n",
    "    def __init__(self, number = 0):\n",
    "        self.number = number\n",
    "        \n",
    "    def __iter__(self):\n",
    "        self.ele = 0\n",
    "        return self\n",
    "    \n",
    "    def __next__(self):\n",
    "        if self.ele<=self.number:\n",
    "            result = self.ele**3\n",
    "            self.ele+=1\n",
    "            return result\n",
    "        else:\n",
    "            raise StopIteration"
   ]
  },
  {
   "cell_type": "code",
   "execution_count": 32,
   "id": "90ab9344",
   "metadata": {},
   "outputs": [],
   "source": [
    "class Cubenumber:\n",
    "    def __init__(self, number = 0):\n",
    "        self.number = number\n",
    "        \n",
    "    def __iter__(self):\n",
    "        self.ele = 0\n",
    "        return self\n",
    "        \n",
    "    def __next__(self):\n",
    "        if self.ele<=self.number:\n",
    "            result = self.ele**3\n",
    "            self.ele+=1\n",
    "            return result\n",
    "        \n",
    "        else:\n",
    "            raise StopIteration\n",
    "        "
   ]
  },
  {
   "cell_type": "code",
   "execution_count": 33,
   "id": "165692b2",
   "metadata": {},
   "outputs": [],
   "source": [
    "cn = Cubenumber(5)"
   ]
  },
  {
   "cell_type": "code",
   "execution_count": 34,
   "id": "386c76fd",
   "metadata": {},
   "outputs": [],
   "source": [
    "my_iter = cn.__iter__()"
   ]
  },
  {
   "cell_type": "code",
   "execution_count": 35,
   "id": "7429cf1f",
   "metadata": {},
   "outputs": [
    {
     "data": {
      "text/plain": [
       "0"
      ]
     },
     "execution_count": 35,
     "metadata": {},
     "output_type": "execute_result"
    }
   ],
   "source": [
    "my_iter.__next__()"
   ]
  },
  {
   "cell_type": "code",
   "execution_count": 36,
   "id": "90dd923d",
   "metadata": {},
   "outputs": [
    {
     "data": {
      "text/plain": [
       "1"
      ]
     },
     "execution_count": 36,
     "metadata": {},
     "output_type": "execute_result"
    }
   ],
   "source": [
    "my_iter.__next__()"
   ]
  },
  {
   "cell_type": "code",
   "execution_count": 37,
   "id": "48f8ebeb",
   "metadata": {},
   "outputs": [
    {
     "data": {
      "text/plain": [
       "8"
      ]
     },
     "execution_count": 37,
     "metadata": {},
     "output_type": "execute_result"
    }
   ],
   "source": [
    "my_iter.__next__()"
   ]
  },
  {
   "cell_type": "code",
   "execution_count": 38,
   "id": "84946d92",
   "metadata": {},
   "outputs": [
    {
     "data": {
      "text/plain": [
       "27"
      ]
     },
     "execution_count": 38,
     "metadata": {},
     "output_type": "execute_result"
    }
   ],
   "source": [
    "my_iter.__next__()"
   ]
  },
  {
   "cell_type": "code",
   "execution_count": 39,
   "id": "77df6721",
   "metadata": {},
   "outputs": [
    {
     "data": {
      "text/plain": [
       "64"
      ]
     },
     "execution_count": 39,
     "metadata": {},
     "output_type": "execute_result"
    }
   ],
   "source": [
    "my_iter.__next__()"
   ]
  },
  {
   "cell_type": "code",
   "execution_count": 40,
   "id": "d835e968",
   "metadata": {},
   "outputs": [
    {
     "data": {
      "text/plain": [
       "125"
      ]
     },
     "execution_count": 40,
     "metadata": {},
     "output_type": "execute_result"
    }
   ],
   "source": [
    "my_iter.__next__()"
   ]
  },
  {
   "cell_type": "code",
   "execution_count": 41,
   "id": "dde822a0",
   "metadata": {},
   "outputs": [
    {
     "ename": "StopIteration",
     "evalue": "",
     "output_type": "error",
     "traceback": [
      "\u001b[1;31m---------------------------------------------------------------------------\u001b[0m",
      "\u001b[1;31mStopIteration\u001b[0m                             Traceback (most recent call last)",
      "\u001b[1;32m<ipython-input-41-56d779eb7d74>\u001b[0m in \u001b[0;36m<module>\u001b[1;34m\u001b[0m\n\u001b[1;32m----> 1\u001b[1;33m \u001b[0mmy_iter\u001b[0m\u001b[1;33m.\u001b[0m\u001b[0m__next__\u001b[0m\u001b[1;33m(\u001b[0m\u001b[1;33m)\u001b[0m\u001b[1;33m\u001b[0m\u001b[1;33m\u001b[0m\u001b[0m\n\u001b[0m",
      "\u001b[1;32m<ipython-input-32-1ee33dbd1c2f>\u001b[0m in \u001b[0;36m__next__\u001b[1;34m(self)\u001b[0m\n\u001b[0;32m     14\u001b[0m \u001b[1;33m\u001b[0m\u001b[0m\n\u001b[0;32m     15\u001b[0m         \u001b[1;32melse\u001b[0m\u001b[1;33m:\u001b[0m\u001b[1;33m\u001b[0m\u001b[1;33m\u001b[0m\u001b[0m\n\u001b[1;32m---> 16\u001b[1;33m             \u001b[1;32mraise\u001b[0m \u001b[0mStopIteration\u001b[0m\u001b[1;33m\u001b[0m\u001b[1;33m\u001b[0m\u001b[0m\n\u001b[0m\u001b[0;32m     17\u001b[0m \u001b[1;33m\u001b[0m\u001b[0m\n",
      "\u001b[1;31mStopIteration\u001b[0m: "
     ]
    }
   ],
   "source": [
    "my_iter.__next__()"
   ]
  },
  {
   "cell_type": "code",
   "execution_count": 42,
   "id": "5ecc2ccf",
   "metadata": {},
   "outputs": [
    {
     "data": {
      "text/plain": [
       "<__main__.Cubenumber at 0x236a1ddb940>"
      ]
     },
     "execution_count": 42,
     "metadata": {},
     "output_type": "execute_result"
    }
   ],
   "source": [
    "cn"
   ]
  },
  {
   "cell_type": "code",
   "execution_count": 43,
   "id": "2a186ec0",
   "metadata": {},
   "outputs": [
    {
     "name": "stdout",
     "output_type": "stream",
     "text": [
      "0\n",
      "1\n",
      "8\n",
      "27\n",
      "64\n",
      "125\n"
     ]
    }
   ],
   "source": [
    "for i in cn:\n",
    "    print(i)"
   ]
  },
  {
   "cell_type": "code",
   "execution_count": 44,
   "id": "70e20bf9",
   "metadata": {},
   "outputs": [],
   "source": [
    "def my_gen():\n",
    "    n = 1\n",
    "    \n",
    "    print(\"First Time\")\n",
    "    yield n\n",
    "    \n",
    "    n+=1\n",
    "    print(\"Second Time\")\n",
    "    yield n\n",
    "    \n",
    "    n+=1\n",
    "    print(\"Third time\")\n",
    "    yield n\n",
    "    \n",
    "    n+=1\n",
    "    print(\"Fourth time\")\n",
    "    yield n\n",
    "    \n",
    "    "
   ]
  },
  {
   "cell_type": "code",
   "execution_count": 46,
   "id": "fede7ee4",
   "metadata": {},
   "outputs": [],
   "source": [
    "my_generator = my_gen()"
   ]
  },
  {
   "cell_type": "code",
   "execution_count": 47,
   "id": "170ad0a4",
   "metadata": {},
   "outputs": [
    {
     "name": "stdout",
     "output_type": "stream",
     "text": [
      "First Time\n"
     ]
    },
    {
     "data": {
      "text/plain": [
       "1"
      ]
     },
     "execution_count": 47,
     "metadata": {},
     "output_type": "execute_result"
    }
   ],
   "source": [
    "next(my_generator)"
   ]
  },
  {
   "cell_type": "code",
   "execution_count": 48,
   "id": "d1da2a14",
   "metadata": {},
   "outputs": [
    {
     "name": "stdout",
     "output_type": "stream",
     "text": [
      "Second Time\n"
     ]
    },
    {
     "data": {
      "text/plain": [
       "2"
      ]
     },
     "execution_count": 48,
     "metadata": {},
     "output_type": "execute_result"
    }
   ],
   "source": [
    "next(my_generator)"
   ]
  },
  {
   "cell_type": "code",
   "execution_count": 49,
   "id": "66aa83d2",
   "metadata": {},
   "outputs": [
    {
     "name": "stdout",
     "output_type": "stream",
     "text": [
      "Third time\n"
     ]
    },
    {
     "data": {
      "text/plain": [
       "3"
      ]
     },
     "execution_count": 49,
     "metadata": {},
     "output_type": "execute_result"
    }
   ],
   "source": [
    "next(my_generator)"
   ]
  },
  {
   "cell_type": "code",
   "execution_count": 50,
   "id": "9a9a39a8",
   "metadata": {},
   "outputs": [
    {
     "name": "stdout",
     "output_type": "stream",
     "text": [
      "Fourth time\n"
     ]
    },
    {
     "data": {
      "text/plain": [
       "4"
      ]
     },
     "execution_count": 50,
     "metadata": {},
     "output_type": "execute_result"
    }
   ],
   "source": [
    "next(my_generator)"
   ]
  },
  {
   "cell_type": "code",
   "execution_count": 51,
   "id": "b9f2cea1",
   "metadata": {},
   "outputs": [
    {
     "ename": "StopIteration",
     "evalue": "",
     "output_type": "error",
     "traceback": [
      "\u001b[1;31m---------------------------------------------------------------------------\u001b[0m",
      "\u001b[1;31mStopIteration\u001b[0m                             Traceback (most recent call last)",
      "\u001b[1;32m<ipython-input-51-beb7403f481d>\u001b[0m in \u001b[0;36m<module>\u001b[1;34m\u001b[0m\n\u001b[1;32m----> 1\u001b[1;33m \u001b[0mnext\u001b[0m\u001b[1;33m(\u001b[0m\u001b[0mmy_generator\u001b[0m\u001b[1;33m)\u001b[0m\u001b[1;33m\u001b[0m\u001b[1;33m\u001b[0m\u001b[0m\n\u001b[0m",
      "\u001b[1;31mStopIteration\u001b[0m: "
     ]
    }
   ],
   "source": [
    "next(my_generator)"
   ]
  },
  {
   "cell_type": "code",
   "execution_count": 52,
   "id": "51e0102a",
   "metadata": {},
   "outputs": [],
   "source": [
    "def counter_fun(n):\n",
    "    i = 1\n",
    "    while (i<=n):\n",
    "        return i\n",
    "        i+=1"
   ]
  },
  {
   "cell_type": "code",
   "execution_count": 53,
   "id": "d69ae50f",
   "metadata": {},
   "outputs": [],
   "source": [
    "def counter_gen(n):\n",
    "    i = 1\n",
    "    while (i<=n):\n",
    "        yield i\n",
    "        i+=1\n",
    "    "
   ]
  },
  {
   "cell_type": "code",
   "execution_count": 56,
   "id": "774d1880",
   "metadata": {},
   "outputs": [
    {
     "data": {
      "text/plain": [
       "1"
      ]
     },
     "execution_count": 56,
     "metadata": {},
     "output_type": "execute_result"
    }
   ],
   "source": [
    "counter_fun(5)"
   ]
  },
  {
   "cell_type": "code",
   "execution_count": 58,
   "id": "7c3962f5",
   "metadata": {},
   "outputs": [],
   "source": [
    "gen = counter_gen(5)"
   ]
  },
  {
   "cell_type": "code",
   "execution_count": 59,
   "id": "f1debcf6",
   "metadata": {},
   "outputs": [
    {
     "data": {
      "text/plain": [
       "1"
      ]
     },
     "execution_count": 59,
     "metadata": {},
     "output_type": "execute_result"
    }
   ],
   "source": [
    "next(gen)"
   ]
  },
  {
   "cell_type": "code",
   "execution_count": 60,
   "id": "7cac1d3f",
   "metadata": {},
   "outputs": [
    {
     "data": {
      "text/plain": [
       "2"
      ]
     },
     "execution_count": 60,
     "metadata": {},
     "output_type": "execute_result"
    }
   ],
   "source": [
    "next(gen)"
   ]
  },
  {
   "cell_type": "code",
   "execution_count": 61,
   "id": "0c98aaf0",
   "metadata": {},
   "outputs": [
    {
     "data": {
      "text/plain": [
       "3"
      ]
     },
     "execution_count": 61,
     "metadata": {},
     "output_type": "execute_result"
    }
   ],
   "source": [
    "next(gen)"
   ]
  },
  {
   "cell_type": "code",
   "execution_count": 62,
   "id": "f156fe2d",
   "metadata": {},
   "outputs": [
    {
     "data": {
      "text/plain": [
       "4"
      ]
     },
     "execution_count": 62,
     "metadata": {},
     "output_type": "execute_result"
    }
   ],
   "source": [
    "next(gen)"
   ]
  },
  {
   "cell_type": "code",
   "execution_count": 63,
   "id": "dde3b4d1",
   "metadata": {},
   "outputs": [
    {
     "data": {
      "text/plain": [
       "5"
      ]
     },
     "execution_count": 63,
     "metadata": {},
     "output_type": "execute_result"
    }
   ],
   "source": [
    "next(gen)"
   ]
  },
  {
   "cell_type": "code",
   "execution_count": 64,
   "id": "aeb78797",
   "metadata": {},
   "outputs": [
    {
     "ename": "StopIteration",
     "evalue": "",
     "output_type": "error",
     "traceback": [
      "\u001b[1;31m---------------------------------------------------------------------------\u001b[0m",
      "\u001b[1;31mStopIteration\u001b[0m                             Traceback (most recent call last)",
      "\u001b[1;32m<ipython-input-64-6e72e47198db>\u001b[0m in \u001b[0;36m<module>\u001b[1;34m\u001b[0m\n\u001b[1;32m----> 1\u001b[1;33m \u001b[0mnext\u001b[0m\u001b[1;33m(\u001b[0m\u001b[0mgen\u001b[0m\u001b[1;33m)\u001b[0m\u001b[1;33m\u001b[0m\u001b[1;33m\u001b[0m\u001b[0m\n\u001b[0m",
      "\u001b[1;31mStopIteration\u001b[0m: "
     ]
    }
   ],
   "source": [
    "next(gen)"
   ]
  },
  {
   "cell_type": "code",
   "execution_count": 66,
   "id": "7ef636c8",
   "metadata": {},
   "outputs": [
    {
     "name": "stdout",
     "output_type": "stream",
     "text": [
      "1\n",
      "2\n",
      "3\n",
      "4\n",
      "5\n",
      "6\n",
      "7\n",
      "8\n"
     ]
    }
   ],
   "source": [
    "for i in counter_gen(8):\n",
    "    print(i)"
   ]
  },
  {
   "cell_type": "code",
   "execution_count": 67,
   "id": "c65e4b6d",
   "metadata": {},
   "outputs": [],
   "source": [
    "def reverse_string(string):\n",
    "    for i in range(len(string)-1,-1,-1):\n",
    "        yield string[i]"
   ]
  },
  {
   "cell_type": "code",
   "execution_count": 69,
   "id": "4ec6629f",
   "metadata": {},
   "outputs": [
    {
     "name": "stdout",
     "output_type": "stream",
     "text": [
      "g\n",
      "n\n",
      "i\n",
      "n\n",
      "r\n",
      "a\n",
      "e\n",
      "l\n",
      "e\n",
      "n\n",
      "i\n",
      "h\n",
      "c\n",
      "a\n",
      "M\n"
     ]
    }
   ],
   "source": [
    "for j in reverse_string('Machinelearning'):\n",
    "    print(j)"
   ]
  },
  {
   "cell_type": "code",
   "execution_count": 88,
   "id": "2f798043",
   "metadata": {},
   "outputs": [],
   "source": [
    "square_list = [i**2 for i in range(10000000) if i%2==0]"
   ]
  },
  {
   "cell_type": "code",
   "execution_count": 89,
   "id": "9d3e55bf",
   "metadata": {},
   "outputs": [],
   "source": [
    "square_gen = (i**2 for i in range(10000000) if i%2==0)"
   ]
  },
  {
   "cell_type": "code",
   "execution_count": 90,
   "id": "37577c51",
   "metadata": {},
   "outputs": [
    {
     "name": "stdout",
     "output_type": "stream",
     "text": [
      "0\n",
      "4\n",
      "16\n",
      "36\n",
      "64\n",
      "100\n",
      "144\n",
      "196\n",
      "256\n",
      "324\n"
     ]
    }
   ],
   "source": [
    "i = 0\n",
    "\n",
    "for j in square_gen:\n",
    "    if i==10:\n",
    "        break\n",
    "    print(j)\n",
    "    i+=1"
   ]
  },
  {
   "cell_type": "code",
   "execution_count": 91,
   "id": "c26378ff",
   "metadata": {},
   "outputs": [
    {
     "name": "stdout",
     "output_type": "stream",
     "text": [
      "0\n",
      "4\n",
      "16\n",
      "36\n",
      "64\n",
      "100\n",
      "144\n",
      "196\n",
      "256\n",
      "324\n"
     ]
    }
   ],
   "source": [
    "i = 0\n",
    "\n",
    "for j in square_list:\n",
    "    if i==10:\n",
    "        break\n",
    "    else:\n",
    "        print(j)\n",
    "    i+=1"
   ]
  },
  {
   "cell_type": "code",
   "execution_count": 92,
   "id": "b8b434dc",
   "metadata": {},
   "outputs": [],
   "source": [
    "def add(ele):\n",
    "    return ele+1"
   ]
  },
  {
   "cell_type": "code",
   "execution_count": 93,
   "id": "91c9eeac",
   "metadata": {},
   "outputs": [],
   "source": [
    "def sub(ele):\n",
    "    return ele-1"
   ]
  },
  {
   "cell_type": "code",
   "execution_count": 95,
   "id": "99e127e5",
   "metadata": {},
   "outputs": [],
   "source": [
    "def calculator(operator, number):\n",
    "    result = operator(number)\n",
    "    return result"
   ]
  },
  {
   "cell_type": "code",
   "execution_count": 96,
   "id": "8fe90dde",
   "metadata": {},
   "outputs": [],
   "source": [
    "add??"
   ]
  },
  {
   "cell_type": "code",
   "execution_count": 97,
   "id": "db9128a7",
   "metadata": {},
   "outputs": [],
   "source": [
    "sub??"
   ]
  },
  {
   "cell_type": "code",
   "execution_count": 99,
   "id": "f116a913",
   "metadata": {},
   "outputs": [
    {
     "data": {
      "text/plain": [
       "6"
      ]
     },
     "execution_count": 99,
     "metadata": {},
     "output_type": "execute_result"
    }
   ],
   "source": [
    "calculator(add, 5)"
   ]
  },
  {
   "cell_type": "code",
   "execution_count": 100,
   "id": "e2b033bd",
   "metadata": {},
   "outputs": [
    {
     "data": {
      "text/plain": [
       "8"
      ]
     },
     "execution_count": 100,
     "metadata": {},
     "output_type": "execute_result"
    }
   ],
   "source": [
    "calculator(sub, 9)"
   ]
  },
  {
   "cell_type": "code",
   "execution_count": 101,
   "id": "c061e369",
   "metadata": {},
   "outputs": [],
   "source": [
    "def basic():\n",
    "    print(\"I am a very basic function\")"
   ]
  },
  {
   "cell_type": "code",
   "execution_count": 102,
   "id": "aceb4007",
   "metadata": {},
   "outputs": [
    {
     "name": "stdout",
     "output_type": "stream",
     "text": [
      "I am a very basic function\n"
     ]
    }
   ],
   "source": [
    "basic()"
   ]
  },
  {
   "cell_type": "code",
   "execution_count": 104,
   "id": "6e002412",
   "metadata": {},
   "outputs": [],
   "source": [
    "def add_featutres(func):\n",
    "    def wrapper():\n",
    "        print(\"=\"*30)\n",
    "        print(\"New features are added\")\n",
    "        print(\"=\"*30)\n",
    "        func()\n",
    "    return wrapper\n",
    "        "
   ]
  },
  {
   "cell_type": "code",
   "execution_count": 105,
   "id": "bcf3af98",
   "metadata": {},
   "outputs": [],
   "source": [
    "basic??"
   ]
  },
  {
   "cell_type": "code",
   "execution_count": 107,
   "id": "082945ab",
   "metadata": {},
   "outputs": [],
   "source": [
    "new_func = add_featutres(basic)"
   ]
  },
  {
   "cell_type": "code",
   "execution_count": 108,
   "id": "f3ce3c67",
   "metadata": {},
   "outputs": [
    {
     "name": "stdout",
     "output_type": "stream",
     "text": [
      "==============================\n",
      "New features are added\n",
      "==============================\n",
      "I am a very basic function\n"
     ]
    }
   ],
   "source": [
    "new_func()"
   ]
  },
  {
   "cell_type": "code",
   "execution_count": 111,
   "id": "cd3f28e5",
   "metadata": {},
   "outputs": [],
   "source": [
    "@add_featutres\n",
    "def basic():\n",
    "    print(\"I am a very basic function\")"
   ]
  },
  {
   "cell_type": "code",
   "execution_count": 112,
   "id": "fbdb6fc5",
   "metadata": {},
   "outputs": [
    {
     "name": "stdout",
     "output_type": "stream",
     "text": [
      "==============================\n",
      "New features are added\n",
      "==============================\n",
      "I am a very basic function\n"
     ]
    }
   ],
   "source": [
    "basic()"
   ]
  },
  {
   "cell_type": "code",
   "execution_count": 113,
   "id": "ead88be6",
   "metadata": {},
   "outputs": [],
   "source": [
    "DB = {\n",
    "    \"Mohit\":\"Mohit@123\",\n",
    "    \"Prateek\":\"Prateek@123\",\n",
    "    \"Sanjay\":\"Sanjay@123\"\n",
    "}"
   ]
  },
  {
   "cell_type": "code",
   "execution_count": 114,
   "id": "f6dcb141",
   "metadata": {},
   "outputs": [],
   "source": [
    "def add(a,b):\n",
    "    print(a+b)"
   ]
  },
  {
   "cell_type": "code",
   "execution_count": 115,
   "id": "d7f98c3f",
   "metadata": {},
   "outputs": [
    {
     "name": "stdout",
     "output_type": "stream",
     "text": [
      "11\n"
     ]
    }
   ],
   "source": [
    "add(5,6)"
   ]
  },
  {
   "cell_type": "code",
   "execution_count": 121,
   "id": "b4ffbb6f",
   "metadata": {},
   "outputs": [],
   "source": [
    "def log_auth(func):\n",
    "    def wrapper(username, passwoerd, *args, **kwargs):\n",
    "        if username in DB and DB[username]==passwoerd:\n",
    "            func(*args, **kwargs)\n",
    "        else:\n",
    "            print(\"Authentication failed\")\n",
    "    return wrapper"
   ]
  },
  {
   "cell_type": "code",
   "execution_count": 122,
   "id": "d628ae16",
   "metadata": {},
   "outputs": [],
   "source": [
    "@log_auth\n",
    "def add(a,b):\n",
    "    print(a+b)"
   ]
  },
  {
   "cell_type": "code",
   "execution_count": 123,
   "id": "ce8402c4",
   "metadata": {},
   "outputs": [
    {
     "name": "stdout",
     "output_type": "stream",
     "text": [
      "14\n"
     ]
    }
   ],
   "source": [
    "add(\"Mohit\",\"Mohit@123\",5,9)"
   ]
  },
  {
   "cell_type": "code",
   "execution_count": 124,
   "id": "3fb5277a",
   "metadata": {},
   "outputs": [],
   "source": [
    "def add(a,b):\n",
    "    print(a+b)"
   ]
  },
  {
   "cell_type": "code",
   "execution_count": 125,
   "id": "2deefd36",
   "metadata": {},
   "outputs": [
    {
     "name": "stdout",
     "output_type": "stream",
     "text": [
      "14\n"
     ]
    }
   ],
   "source": [
    "add(5,9)"
   ]
  },
  {
   "cell_type": "code",
   "execution_count": 126,
   "id": "4d113c0a",
   "metadata": {},
   "outputs": [],
   "source": [
    "DB = {\n",
    "    \"Mohit\":\"Mohit@123\",\n",
    "    \"Prateek\":\"Prateek@123\",\n",
    "    \"Sanjay\":\"Sanjay@123\"\n",
    "}"
   ]
  },
  {
   "cell_type": "code",
   "execution_count": 127,
   "id": "c34a9987",
   "metadata": {},
   "outputs": [],
   "source": [
    "def log_auth(func):\n",
    "    def wrapper(username, password, *args, **kwargs):\n",
    "        if username in DB and DB[username] == password:\n",
    "            func(*args, **kwargs)\n",
    "        else:\n",
    "            print(\"Authentication failed\")\n",
    "    return wrapper"
   ]
  },
  {
   "cell_type": "code",
   "execution_count": 128,
   "id": "4333d909",
   "metadata": {},
   "outputs": [],
   "source": [
    "@log_auth\n",
    "def add(a,b):\n",
    "    print(a+b)"
   ]
  },
  {
   "cell_type": "code",
   "execution_count": 129,
   "id": "5f76b2ef",
   "metadata": {},
   "outputs": [
    {
     "name": "stdout",
     "output_type": "stream",
     "text": [
      "Authentication failed\n"
     ]
    }
   ],
   "source": [
    "add(5,9)"
   ]
  },
  {
   "cell_type": "code",
   "execution_count": 130,
   "id": "a54a9ab0",
   "metadata": {},
   "outputs": [
    {
     "name": "stdout",
     "output_type": "stream",
     "text": [
      "14\n"
     ]
    }
   ],
   "source": [
    "add(\"Sanjay\", \"Sanjay@123\", 5,9)"
   ]
  },
  {
   "cell_type": "code",
   "execution_count": 131,
   "id": "87e4aca6",
   "metadata": {},
   "outputs": [],
   "source": [
    "def main(message):\n",
    "    print(message)\n",
    "    "
   ]
  },
  {
   "cell_type": "code",
   "execution_count": 133,
   "id": "85d2b838",
   "metadata": {},
   "outputs": [
    {
     "name": "stdout",
     "output_type": "stream",
     "text": [
      "We are learning python\n"
     ]
    }
   ],
   "source": [
    "main(\"We are learning python\")"
   ]
  },
  {
   "cell_type": "code",
   "execution_count": 141,
   "id": "63e3216f",
   "metadata": {},
   "outputs": [],
   "source": [
    "def star(func):\n",
    "    def wrapper(*args, **kwargs):\n",
    "        print(\"*\"*30)\n",
    "        func(*args, **kwargs)\n",
    "        print(\"*\"*30)\n",
    "    return wrapper"
   ]
  },
  {
   "cell_type": "code",
   "execution_count": 144,
   "id": "0a78e3e3",
   "metadata": {},
   "outputs": [],
   "source": [
    "def doller(func):\n",
    "    def wrapper(*args, **kwrags):\n",
    "        print(\"$\"*30)\n",
    "        func(*args, **kwrags)\n",
    "        print(\"$\"*30)\n",
    "    return wrapper"
   ]
  },
  {
   "cell_type": "code",
   "execution_count": 147,
   "id": "be4f5507",
   "metadata": {},
   "outputs": [],
   "source": [
    "@doller\n",
    "@star\n",
    "def main(message):\n",
    "    print(message)"
   ]
  },
  {
   "cell_type": "code",
   "execution_count": 148,
   "id": "adce157d",
   "metadata": {},
   "outputs": [
    {
     "name": "stdout",
     "output_type": "stream",
     "text": [
      "$$$$$$$$$$$$$$$$$$$$$$$$$$$$$$\n",
      "******************************\n",
      "Next we will be learning machine learning\n",
      "******************************\n",
      "$$$$$$$$$$$$$$$$$$$$$$$$$$$$$$\n"
     ]
    }
   ],
   "source": [
    "main(\"Next we will be learning machine learning\")"
   ]
  },
  {
   "cell_type": "code",
   "execution_count": null,
   "id": "be2d1d4d",
   "metadata": {},
   "outputs": [],
   "source": []
  }
 ],
 "metadata": {
  "kernelspec": {
   "display_name": "Python 3",
   "language": "python",
   "name": "python3"
  },
  "language_info": {
   "codemirror_mode": {
    "name": "ipython",
    "version": 3
   },
   "file_extension": ".py",
   "mimetype": "text/x-python",
   "name": "python",
   "nbconvert_exporter": "python",
   "pygments_lexer": "ipython3",
   "version": "3.8.8"
  }
 },
 "nbformat": 4,
 "nbformat_minor": 5
}
