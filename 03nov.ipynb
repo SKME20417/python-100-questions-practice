{
 "cells": [
  {
   "cell_type": "code",
   "execution_count": 1,
   "id": "0301d52c",
   "metadata": {},
   "outputs": [
    {
     "ename": "NameError",
     "evalue": "name 'a' is not defined",
     "output_type": "error",
     "traceback": [
      "\u001b[1;31m---------------------------------------------------------------------------\u001b[0m",
      "\u001b[1;31mNameError\u001b[0m                                 Traceback (most recent call last)",
      "\u001b[1;32m<ipython-input-1-bca0e2660b9f>\u001b[0m in \u001b[0;36m<module>\u001b[1;34m\u001b[0m\n\u001b[1;32m----> 1\u001b[1;33m \u001b[0mprint\u001b[0m\u001b[1;33m(\u001b[0m\u001b[0ma\u001b[0m\u001b[1;33m)\u001b[0m\u001b[1;33m\u001b[0m\u001b[1;33m\u001b[0m\u001b[0m\n\u001b[0m",
      "\u001b[1;31mNameError\u001b[0m: name 'a' is not defined"
     ]
    }
   ],
   "source": [
    "print(a)"
   ]
  },
  {
   "cell_type": "code",
   "execution_count": 2,
   "id": "4df6eb2f",
   "metadata": {},
   "outputs": [
    {
     "ename": "SyntaxError",
     "evalue": "unexpected EOF while parsing (<ipython-input-2-2c3c3da165b0>, line 1)",
     "output_type": "error",
     "traceback": [
      "\u001b[1;36m  File \u001b[1;32m\"<ipython-input-2-2c3c3da165b0>\"\u001b[1;36m, line \u001b[1;32m1\u001b[0m\n\u001b[1;33m    if (5>3):\u001b[0m\n\u001b[1;37m             ^\u001b[0m\n\u001b[1;31mSyntaxError\u001b[0m\u001b[1;31m:\u001b[0m unexpected EOF while parsing\n"
     ]
    }
   ],
   "source": [
    "if (5>3):"
   ]
  },
  {
   "cell_type": "code",
   "execution_count": 3,
   "id": "05544fab",
   "metadata": {},
   "outputs": [
    {
     "ename": "ModuleNotFoundError",
     "evalue": "No module named 'dontknow'",
     "output_type": "error",
     "traceback": [
      "\u001b[1;31m---------------------------------------------------------------------------\u001b[0m",
      "\u001b[1;31mModuleNotFoundError\u001b[0m                       Traceback (most recent call last)",
      "\u001b[1;32m<ipython-input-3-bcd87af70373>\u001b[0m in \u001b[0;36m<module>\u001b[1;34m\u001b[0m\n\u001b[1;32m----> 1\u001b[1;33m \u001b[1;32mimport\u001b[0m \u001b[0mdontknow\u001b[0m\u001b[1;33m\u001b[0m\u001b[1;33m\u001b[0m\u001b[0m\n\u001b[0m",
      "\u001b[1;31mModuleNotFoundError\u001b[0m: No module named 'dontknow'"
     ]
    }
   ],
   "source": [
    "import dontknow"
   ]
  },
  {
   "cell_type": "code",
   "execution_count": 4,
   "id": "e53d7fbd",
   "metadata": {},
   "outputs": [
    {
     "ename": "AttributeError",
     "evalue": "'str' object has no attribute 'sort'",
     "output_type": "error",
     "traceback": [
      "\u001b[1;31m---------------------------------------------------------------------------\u001b[0m",
      "\u001b[1;31mAttributeError\u001b[0m                            Traceback (most recent call last)",
      "\u001b[1;32m<ipython-input-4-a91a47538ad9>\u001b[0m in \u001b[0;36m<module>\u001b[1;34m\u001b[0m\n\u001b[1;32m----> 1\u001b[1;33m \u001b[1;34m\"Coding_Minutes\"\u001b[0m\u001b[1;33m.\u001b[0m\u001b[0msort\u001b[0m\u001b[1;33m(\u001b[0m\u001b[1;33m)\u001b[0m\u001b[1;33m\u001b[0m\u001b[1;33m\u001b[0m\u001b[0m\n\u001b[0m",
      "\u001b[1;31mAttributeError\u001b[0m: 'str' object has no attribute 'sort'"
     ]
    }
   ],
   "source": [
    "\"Coding_Minutes\".sort()"
   ]
  },
  {
   "cell_type": "code",
   "execution_count": 6,
   "id": "3d4d18d5",
   "metadata": {},
   "outputs": [
    {
     "ename": "TypeError",
     "evalue": "can only concatenate str (not \"int\") to str",
     "output_type": "error",
     "traceback": [
      "\u001b[1;31m---------------------------------------------------------------------------\u001b[0m",
      "\u001b[1;31mTypeError\u001b[0m                                 Traceback (most recent call last)",
      "\u001b[1;32m<ipython-input-6-0a345aca7894>\u001b[0m in \u001b[0;36m<module>\u001b[1;34m\u001b[0m\n\u001b[1;32m----> 1\u001b[1;33m \u001b[1;34m\"Hello\"\u001b[0m \u001b[1;33m+\u001b[0m \u001b[1;36m50\u001b[0m\u001b[1;33m\u001b[0m\u001b[1;33m\u001b[0m\u001b[0m\n\u001b[0m",
      "\u001b[1;31mTypeError\u001b[0m: can only concatenate str (not \"int\") to str"
     ]
    }
   ],
   "source": [
    "\"Hello\" + 50"
   ]
  },
  {
   "cell_type": "code",
   "execution_count": 9,
   "id": "c7d83214",
   "metadata": {},
   "outputs": [
    {
     "name": "stdout",
     "output_type": "stream",
     "text": [
      "['ArithmeticError', 'AssertionError', 'AttributeError', 'BaseException', 'BlockingIOError', 'BrokenPipeError', 'BufferError', 'BytesWarning', 'ChildProcessError', 'ConnectionAbortedError', 'ConnectionError', 'ConnectionRefusedError', 'ConnectionResetError', 'DeprecationWarning', 'EOFError', 'Ellipsis', 'EnvironmentError', 'Exception', 'False', 'FileExistsError', 'FileNotFoundError', 'FloatingPointError', 'FutureWarning', 'GeneratorExit', 'IOError', 'ImportError', 'ImportWarning', 'IndentationError', 'IndexError', 'InterruptedError', 'IsADirectoryError', 'KeyError', 'KeyboardInterrupt', 'LookupError', 'MemoryError', 'ModuleNotFoundError', 'NameError', 'None', 'NotADirectoryError', 'NotImplemented', 'NotImplementedError', 'OSError', 'OverflowError', 'PendingDeprecationWarning', 'PermissionError', 'ProcessLookupError', 'RecursionError', 'ReferenceError', 'ResourceWarning', 'RuntimeError', 'RuntimeWarning', 'StopAsyncIteration', 'StopIteration', 'SyntaxError', 'SyntaxWarning', 'SystemError', 'SystemExit', 'TabError', 'TimeoutError', 'True', 'TypeError', 'UnboundLocalError', 'UnicodeDecodeError', 'UnicodeEncodeError', 'UnicodeError', 'UnicodeTranslateError', 'UnicodeWarning', 'UserWarning', 'ValueError', 'Warning', 'WindowsError', 'ZeroDivisionError', '__IPYTHON__', '__build_class__', '__debug__', '__doc__', '__import__', '__loader__', '__name__', '__package__', '__spec__', 'abs', 'all', 'any', 'ascii', 'bin', 'bool', 'breakpoint', 'bytearray', 'bytes', 'callable', 'chr', 'classmethod', 'compile', 'complex', 'copyright', 'credits', 'delattr', 'dict', 'dir', 'display', 'divmod', 'enumerate', 'eval', 'exec', 'filter', 'float', 'format', 'frozenset', 'get_ipython', 'getattr', 'globals', 'hasattr', 'hash', 'help', 'hex', 'id', 'input', 'int', 'isinstance', 'issubclass', 'iter', 'len', 'license', 'list', 'locals', 'map', 'max', 'memoryview', 'min', 'next', 'object', 'oct', 'open', 'ord', 'pow', 'print', 'property', 'range', 'repr', 'reversed', 'round', 'set', 'setattr', 'slice', 'sorted', 'staticmethod', 'str', 'sum', 'super', 'tuple', 'type', 'vars', 'zip']\n"
     ]
    }
   ],
   "source": [
    "print(dir(__builtins__))"
   ]
  },
  {
   "cell_type": "code",
   "execution_count": 1,
   "id": "30cb8ed3",
   "metadata": {},
   "outputs": [],
   "source": [
    "import sys"
   ]
  },
  {
   "cell_type": "code",
   "execution_count": 6,
   "id": "92489eaf",
   "metadata": {},
   "outputs": [],
   "source": [
    "lst = [2,0,\"Hello\", None]"
   ]
  },
  {
   "cell_type": "code",
   "execution_count": 26,
   "id": "0104ccb0",
   "metadata": {},
   "outputs": [
    {
     "name": "stdout",
     "output_type": "stream",
     "text": [
      "Current ele : 2\n",
      "Result : 2.5\n",
      "--------------------------------------------------\n",
      "Current ele : 0\n",
      "Do not divide by zero division by zero\n",
      "--------------------------------------------------\n",
      "Current ele : Hello\n",
      "Value error occured : invalid literal for int() with base 10: 'Hello'\n",
      "--------------------------------------------------\n",
      "Current ele : None\n",
      "Error Caused : int() argument must be a string, a bytes-like object or a number, not 'NoneType'\n",
      "<class 'TypeError'>\n",
      "--------------------------------------------------\n",
      "\n",
      " There are n number of lines\n"
     ]
    }
   ],
   "source": [
    "for i in lst:\n",
    "    try:\n",
    "        print(\"Current ele :\", i)\n",
    "        res = 5/int(i)\n",
    "        print(\"Result :\", res)\n",
    "        \n",
    "    except ZeroDivisionError as ze:\n",
    "        print(\"Do not divide by zero\", ze)\n",
    "        \n",
    "    except ValueError as ve:\n",
    "        print(\"Value error occured :\", ve)\n",
    "    except Exception as e:\n",
    "        print('Error Caused :', e)\n",
    "        print(sys.exc_info()[0])\n",
    "        \n",
    "    print(\"-\"*50)\n",
    "    \n",
    "print(\"\\n There are n number of lines\")"
   ]
  },
  {
   "cell_type": "code",
   "execution_count": 31,
   "id": "9aafe3c7",
   "metadata": {},
   "outputs": [
    {
     "name": "stdout",
     "output_type": "stream",
     "text": [
      "Error Occured : Dont divide by zero division by zero\n",
      "I will always execute \n"
     ]
    }
   ],
   "source": [
    "try:\n",
    "    ans = 5/0\n",
    "    print(ans)\n",
    "except ZeroDivisionError as ze:\n",
    "    print(\"Error Occured : Dont divide by zero\", ze)\n",
    "    \n",
    "finally:\n",
    "    #f.close()\n",
    "    #db.close()\n",
    "    print(\"I will always execute \")\n",
    "    "
   ]
  },
  {
   "cell_type": "code",
   "execution_count": 36,
   "id": "cae9b065",
   "metadata": {},
   "outputs": [
    {
     "ename": "Exception",
     "evalue": "Sanjay",
     "output_type": "error",
     "traceback": [
      "\u001b[1;31m---------------------------------------------------------------------------\u001b[0m",
      "\u001b[1;31mException\u001b[0m                                 Traceback (most recent call last)",
      "\u001b[1;32m<ipython-input-36-53f403e208f0>\u001b[0m in \u001b[0;36m<module>\u001b[1;34m\u001b[0m\n\u001b[1;32m----> 1\u001b[1;33m \u001b[1;32mraise\u001b[0m \u001b[0mException\u001b[0m\u001b[1;33m(\u001b[0m\u001b[1;34m\"Sanjay\"\u001b[0m\u001b[1;33m)\u001b[0m\u001b[1;33m\u001b[0m\u001b[1;33m\u001b[0m\u001b[0m\n\u001b[0m\u001b[0;32m      2\u001b[0m \u001b[1;33m\u001b[0m\u001b[0m\n\u001b[0;32m      3\u001b[0m \u001b[0mprint\u001b[0m\u001b[1;33m(\u001b[0m\u001b[1;34m\"2100 lines of code\"\u001b[0m\u001b[1;33m)\u001b[0m\u001b[1;33m\u001b[0m\u001b[1;33m\u001b[0m\u001b[0m\n",
      "\u001b[1;31mException\u001b[0m: Sanjay"
     ]
    }
   ],
   "source": [
    "raise Exception(\"Sanjay\")\n",
    "\n",
    "print(\"2100 lines of code\")"
   ]
  },
  {
   "cell_type": "code",
   "execution_count": 48,
   "id": "3b4e2477",
   "metadata": {},
   "outputs": [
    {
     "name": "stdout",
     "output_type": "stream",
     "text": [
      "Enter your name:abc\n",
      "Error Occured: Name can not be less than 4 charaters\n",
      "<class 'ValueError'>\n",
      "100 line of code\n"
     ]
    }
   ],
   "source": [
    "try:\n",
    "    name = input(\"Enter your name:\")\n",
    "    if len(name)<4:\n",
    "        raise ValueError(\"Name can not be less than 4 charaters\")\n",
    "    print(\"Hello\", name)\n",
    "except Exception as e:\n",
    "    print('Error Occured:', e)\n",
    "    print(sys.exc_info()[0])\n",
    "    \n",
    "finally:\n",
    "    print(\"100 line of code\")"
   ]
  },
  {
   "cell_type": "code",
   "execution_count": 50,
   "id": "429e10d3",
   "metadata": {},
   "outputs": [],
   "source": [
    "class Human:\n",
    "    pass"
   ]
  },
  {
   "cell_type": "code",
   "execution_count": 51,
   "id": "741783b0",
   "metadata": {},
   "outputs": [],
   "source": [
    "mohit = Human()"
   ]
  },
  {
   "cell_type": "code",
   "execution_count": 52,
   "id": "4979baf9",
   "metadata": {},
   "outputs": [
    {
     "data": {
      "text/plain": [
       "type"
      ]
     },
     "execution_count": 52,
     "metadata": {},
     "output_type": "execute_result"
    }
   ],
   "source": [
    "type(Human)"
   ]
  },
  {
   "cell_type": "code",
   "execution_count": 53,
   "id": "353823df",
   "metadata": {},
   "outputs": [
    {
     "data": {
      "text/plain": [
       "__main__.Human"
      ]
     },
     "execution_count": 53,
     "metadata": {},
     "output_type": "execute_result"
    }
   ],
   "source": [
    "type(mohit)"
   ]
  },
  {
   "cell_type": "code",
   "execution_count": 54,
   "id": "eb8030ce",
   "metadata": {},
   "outputs": [],
   "source": [
    "class Human:\n",
    "    def __init__(self, name, age):\n",
    "        print(\"creating a new object....\")\n",
    "        \n",
    "        self.name = name\n",
    "        self.age = age\n",
    "        \n",
    "        "
   ]
  },
  {
   "cell_type": "code",
   "execution_count": 57,
   "id": "a1b53ffe",
   "metadata": {},
   "outputs": [
    {
     "name": "stdout",
     "output_type": "stream",
     "text": [
      "creating a new object....\n"
     ]
    }
   ],
   "source": [
    "h1 = Human('Mohit', 23)"
   ]
  },
  {
   "cell_type": "code",
   "execution_count": 58,
   "id": "e697dda2",
   "metadata": {},
   "outputs": [
    {
     "name": "stdout",
     "output_type": "stream",
     "text": [
      "<__main__.Human object at 0x000001EF61A94EE0>\n"
     ]
    }
   ],
   "source": [
    "print(h1)"
   ]
  },
  {
   "cell_type": "code",
   "execution_count": 59,
   "id": "54738b97",
   "metadata": {},
   "outputs": [
    {
     "data": {
      "text/plain": [
       "23"
      ]
     },
     "execution_count": 59,
     "metadata": {},
     "output_type": "execute_result"
    }
   ],
   "source": [
    "h1.age"
   ]
  },
  {
   "cell_type": "code",
   "execution_count": 60,
   "id": "6d09a775",
   "metadata": {},
   "outputs": [
    {
     "data": {
      "text/plain": [
       "'Mohit'"
      ]
     },
     "execution_count": 60,
     "metadata": {},
     "output_type": "execute_result"
    }
   ],
   "source": [
    "h1.name"
   ]
  },
  {
   "cell_type": "code",
   "execution_count": 61,
   "id": "909f4896",
   "metadata": {},
   "outputs": [
    {
     "name": "stdout",
     "output_type": "stream",
     "text": [
      "creating a new object....\n"
     ]
    }
   ],
   "source": [
    "h2 = Human('prateek', 27)"
   ]
  },
  {
   "cell_type": "code",
   "execution_count": 62,
   "id": "fe5ff109",
   "metadata": {},
   "outputs": [
    {
     "data": {
      "text/plain": [
       "27"
      ]
     },
     "execution_count": 62,
     "metadata": {},
     "output_type": "execute_result"
    }
   ],
   "source": [
    "h2.age\n"
   ]
  },
  {
   "cell_type": "code",
   "execution_count": 63,
   "id": "c5eaddd7",
   "metadata": {},
   "outputs": [
    {
     "data": {
      "text/plain": [
       "'prateek'"
      ]
     },
     "execution_count": 63,
     "metadata": {},
     "output_type": "execute_result"
    }
   ],
   "source": [
    "h2.name"
   ]
  },
  {
   "cell_type": "code",
   "execution_count": 64,
   "id": "96b8be70",
   "metadata": {},
   "outputs": [
    {
     "name": "stdout",
     "output_type": "stream",
     "text": [
      "<__main__.Human object at 0x000001EF61CF2E20>\n"
     ]
    }
   ],
   "source": [
    "print(h2)"
   ]
  },
  {
   "cell_type": "code",
   "execution_count": 65,
   "id": "775eaafb",
   "metadata": {},
   "outputs": [
    {
     "data": {
      "text/plain": [
       "__main__.Human"
      ]
     },
     "execution_count": 65,
     "metadata": {},
     "output_type": "execute_result"
    }
   ],
   "source": [
    "type(h2)"
   ]
  },
  {
   "cell_type": "code",
   "execution_count": 82,
   "id": "67439245",
   "metadata": {},
   "outputs": [],
   "source": [
    "class Human:\n",
    "    def __init__(self, name, age):\n",
    "        print(\"creating a new object....\")\n",
    "        \n",
    "        self.name = name\n",
    "        self.age = age\n",
    "        \n",
    "    def introduce(self):\n",
    "        print(\"Hi, my name is {}. and I am {} years old\".format(self.name, self.age))"
   ]
  },
  {
   "cell_type": "code",
   "execution_count": 83,
   "id": "c33073e1",
   "metadata": {},
   "outputs": [
    {
     "name": "stdout",
     "output_type": "stream",
     "text": [
      "creating a new object....\n"
     ]
    }
   ],
   "source": [
    "h1 = Human('Mohit', 23)"
   ]
  },
  {
   "cell_type": "code",
   "execution_count": 84,
   "id": "8256878d",
   "metadata": {},
   "outputs": [
    {
     "name": "stdout",
     "output_type": "stream",
     "text": [
      "creating a new object....\n"
     ]
    }
   ],
   "source": [
    "h2 = Human('prateek', 27)"
   ]
  },
  {
   "cell_type": "code",
   "execution_count": 85,
   "id": "9d1e23b1",
   "metadata": {},
   "outputs": [
    {
     "name": "stdout",
     "output_type": "stream",
     "text": [
      "Hi, my name is Mohit. and I am 23 years old\n"
     ]
    }
   ],
   "source": [
    "h1.introduce()"
   ]
  },
  {
   "cell_type": "code",
   "execution_count": 86,
   "id": "b5e47e85",
   "metadata": {},
   "outputs": [
    {
     "data": {
      "text/plain": [
       "23"
      ]
     },
     "execution_count": 86,
     "metadata": {},
     "output_type": "execute_result"
    }
   ],
   "source": [
    "h1.age"
   ]
  },
  {
   "cell_type": "code",
   "execution_count": 88,
   "id": "87b6f13e",
   "metadata": {},
   "outputs": [
    {
     "name": "stdout",
     "output_type": "stream",
     "text": [
      "Hi, my name is prateek. and I am 27 years old\n"
     ]
    }
   ],
   "source": [
    "h2.introduce()"
   ]
  },
  {
   "cell_type": "code",
   "execution_count": 90,
   "id": "36830da7",
   "metadata": {},
   "outputs": [],
   "source": [
    "h2.name = \"Jatin\""
   ]
  },
  {
   "cell_type": "code",
   "execution_count": 91,
   "id": "a4ea5b49",
   "metadata": {},
   "outputs": [
    {
     "data": {
      "text/plain": [
       "'Jatin'"
      ]
     },
     "execution_count": 91,
     "metadata": {},
     "output_type": "execute_result"
    }
   ],
   "source": [
    "h2.name"
   ]
  },
  {
   "cell_type": "code",
   "execution_count": 93,
   "id": "14ab2e13",
   "metadata": {},
   "outputs": [
    {
     "name": "stdout",
     "output_type": "stream",
     "text": [
      "Hi, my name is Jatin. and I am 27 years old\n"
     ]
    }
   ],
   "source": [
    "h2.introduce()"
   ]
  },
  {
   "cell_type": "code",
   "execution_count": 134,
   "id": "192bb8b2",
   "metadata": {},
   "outputs": [],
   "source": [
    "class Human:\n",
    "    database = []\n",
    "    population = 0\n",
    "    id_seq = 101\n",
    "    \n",
    "    def __init__(self, name, age, is_alive = True):\n",
    "        self.name = name\n",
    "        self.age = age\n",
    "        self.is_alive = is_alive\n",
    "        self.id = Human.id_seq\n",
    "        Human.population+=1\n",
    "        Human.id_seq+=1\n",
    "        Human.database.append(self)\n",
    "        \n",
    "        \n",
    "    def introduce(self):\n",
    "        print(\"Hello my name is {}. and I am {} years old\".format(self.name, self.age))"
   ]
  },
  {
   "cell_type": "code",
   "execution_count": 135,
   "id": "aca067dc",
   "metadata": {},
   "outputs": [],
   "source": [
    "h1 = Human('Mohit', 23)"
   ]
  },
  {
   "cell_type": "code",
   "execution_count": 136,
   "id": "7360776c",
   "metadata": {},
   "outputs": [
    {
     "data": {
      "text/plain": [
       "23"
      ]
     },
     "execution_count": 136,
     "metadata": {},
     "output_type": "execute_result"
    }
   ],
   "source": [
    "h1.age"
   ]
  },
  {
   "cell_type": "code",
   "execution_count": 137,
   "id": "a071e88b",
   "metadata": {},
   "outputs": [
    {
     "data": {
      "text/plain": [
       "[<__main__.Human at 0x1ef623474f0>]"
      ]
     },
     "execution_count": 137,
     "metadata": {},
     "output_type": "execute_result"
    }
   ],
   "source": [
    "\n",
    "h1.database"
   ]
  },
  {
   "cell_type": "code",
   "execution_count": 138,
   "id": "b4fb7947",
   "metadata": {},
   "outputs": [
    {
     "data": {
      "text/plain": [
       "101"
      ]
     },
     "execution_count": 138,
     "metadata": {},
     "output_type": "execute_result"
    }
   ],
   "source": [
    "h1.id"
   ]
  },
  {
   "cell_type": "code",
   "execution_count": 139,
   "id": "8bffbe75",
   "metadata": {},
   "outputs": [
    {
     "data": {
      "text/plain": [
       "[<__main__.Human at 0x1ef623474f0>]"
      ]
     },
     "execution_count": 139,
     "metadata": {},
     "output_type": "execute_result"
    }
   ],
   "source": [
    "Human.database"
   ]
  },
  {
   "cell_type": "code",
   "execution_count": 140,
   "id": "22b14502",
   "metadata": {},
   "outputs": [
    {
     "data": {
      "text/plain": [
       "1"
      ]
     },
     "execution_count": 140,
     "metadata": {},
     "output_type": "execute_result"
    }
   ],
   "source": [
    "Human.population"
   ]
  },
  {
   "cell_type": "code",
   "execution_count": 141,
   "id": "1c29fceb",
   "metadata": {},
   "outputs": [],
   "source": [
    "h2 = Human('Prateeek', 27)"
   ]
  },
  {
   "cell_type": "code",
   "execution_count": 142,
   "id": "805e66fd",
   "metadata": {},
   "outputs": [
    {
     "data": {
      "text/plain": [
       "102"
      ]
     },
     "execution_count": 142,
     "metadata": {},
     "output_type": "execute_result"
    }
   ],
   "source": [
    "h2.id"
   ]
  },
  {
   "cell_type": "code",
   "execution_count": 143,
   "id": "b17750b7",
   "metadata": {},
   "outputs": [
    {
     "data": {
      "text/plain": [
       "103"
      ]
     },
     "execution_count": 143,
     "metadata": {},
     "output_type": "execute_result"
    }
   ],
   "source": [
    "Human.id_seq"
   ]
  },
  {
   "cell_type": "code",
   "execution_count": 144,
   "id": "3ec93dac",
   "metadata": {},
   "outputs": [
    {
     "data": {
      "text/plain": [
       "[<__main__.Human at 0x1ef623474f0>, <__main__.Human at 0x1ef62104790>]"
      ]
     },
     "execution_count": 144,
     "metadata": {},
     "output_type": "execute_result"
    }
   ],
   "source": [
    "Human.database"
   ]
  },
  {
   "cell_type": "code",
   "execution_count": 145,
   "id": "173d91d7",
   "metadata": {},
   "outputs": [
    {
     "data": {
      "text/plain": [
       "2"
      ]
     },
     "execution_count": 145,
     "metadata": {},
     "output_type": "execute_result"
    }
   ],
   "source": [
    "Human.population"
   ]
  },
  {
   "cell_type": "code",
   "execution_count": 146,
   "id": "24aad0ed",
   "metadata": {},
   "outputs": [
    {
     "data": {
      "text/plain": [
       "103"
      ]
     },
     "execution_count": 146,
     "metadata": {},
     "output_type": "execute_result"
    }
   ],
   "source": [
    "Human.id_seq"
   ]
  },
  {
   "cell_type": "code",
   "execution_count": 162,
   "id": "efdc01ca",
   "metadata": {},
   "outputs": [],
   "source": [
    "class Human():\n",
    "    population = 0\n",
    "    database = []\n",
    "    id_seq = 101\n",
    "    \n",
    "    def __init__(self, name, age, is_alive= True):\n",
    "        print(\"creating a new object\")\n",
    "        self.name = name\n",
    "        self.age = age\n",
    "        self.is_alive = is_alive\n",
    "        \n",
    "        self.id = Human.id_seq\n",
    "        Human.id_seq+=1\n",
    "        Human.population+=1\n",
    "        Human.database.append(self)\n",
    "        \n",
    "    def introduce(self):\n",
    "        print(\"Hi, my name is {} and I am {} years old\".format(self.name, self.age))\n",
    "        \n",
    "    def die(self):\n",
    "        if self.is_alive:\n",
    "            print(self.name, \"is dying....\")\n",
    "            self.is_alive = False\n",
    "            Human.population-=1\n",
    "            \n",
    "        else:\n",
    "            print(self.name,\"The person is already dead\")\n",
    "        \n",
    "        \n",
    "    "
   ]
  },
  {
   "cell_type": "code",
   "execution_count": 163,
   "id": "16c2e410",
   "metadata": {},
   "outputs": [
    {
     "name": "stdout",
     "output_type": "stream",
     "text": [
      "creating a new object\n",
      "creating a new object\n"
     ]
    }
   ],
   "source": [
    "h1 = Human('Mohit', 23)\n",
    "\n",
    "h2 = Human('Prateeek', 27)"
   ]
  },
  {
   "cell_type": "code",
   "execution_count": 164,
   "id": "88da5df8",
   "metadata": {},
   "outputs": [
    {
     "data": {
      "text/plain": [
       "2"
      ]
     },
     "execution_count": 164,
     "metadata": {},
     "output_type": "execute_result"
    }
   ],
   "source": [
    "Human.population"
   ]
  },
  {
   "cell_type": "code",
   "execution_count": 165,
   "id": "4238cc17",
   "metadata": {},
   "outputs": [
    {
     "data": {
      "text/plain": [
       "[<__main__.Human at 0x1ef61a81bb0>, <__main__.Human at 0x1ef61850b50>]"
      ]
     },
     "execution_count": 165,
     "metadata": {},
     "output_type": "execute_result"
    }
   ],
   "source": [
    "Human.database"
   ]
  },
  {
   "cell_type": "code",
   "execution_count": 166,
   "id": "abc12d89",
   "metadata": {},
   "outputs": [
    {
     "data": {
      "text/plain": [
       "True"
      ]
     },
     "execution_count": 166,
     "metadata": {},
     "output_type": "execute_result"
    }
   ],
   "source": [
    "h1.is_alive"
   ]
  },
  {
   "cell_type": "code",
   "execution_count": 167,
   "id": "d863b900",
   "metadata": {},
   "outputs": [
    {
     "name": "stdout",
     "output_type": "stream",
     "text": [
      "Mohit is dying....\n"
     ]
    }
   ],
   "source": [
    "h1.die()"
   ]
  },
  {
   "cell_type": "code",
   "execution_count": 168,
   "id": "df8e9dea",
   "metadata": {},
   "outputs": [
    {
     "data": {
      "text/plain": [
       "False"
      ]
     },
     "execution_count": 168,
     "metadata": {},
     "output_type": "execute_result"
    }
   ],
   "source": [
    "h1.is_alive"
   ]
  },
  {
   "cell_type": "code",
   "execution_count": 169,
   "id": "5a37bfdc",
   "metadata": {},
   "outputs": [
    {
     "data": {
      "text/plain": [
       "1"
      ]
     },
     "execution_count": 169,
     "metadata": {},
     "output_type": "execute_result"
    }
   ],
   "source": [
    "Human.population"
   ]
  },
  {
   "cell_type": "code",
   "execution_count": 170,
   "id": "ca2068ec",
   "metadata": {},
   "outputs": [
    {
     "data": {
      "text/plain": [
       "[<__main__.Human at 0x1ef61a81bb0>, <__main__.Human at 0x1ef61850b50>]"
      ]
     },
     "execution_count": 170,
     "metadata": {},
     "output_type": "execute_result"
    }
   ],
   "source": [
    "Human.database"
   ]
  },
  {
   "cell_type": "code",
   "execution_count": 175,
   "id": "5b66459b",
   "metadata": {},
   "outputs": [
    {
     "name": "stdout",
     "output_type": "stream",
     "text": [
      "Mohit The person is already dead\n"
     ]
    }
   ],
   "source": [
    "h1.die()"
   ]
  },
  {
   "cell_type": "code",
   "execution_count": 176,
   "id": "2736609d",
   "metadata": {},
   "outputs": [
    {
     "data": {
      "text/plain": [
       "1"
      ]
     },
     "execution_count": 176,
     "metadata": {},
     "output_type": "execute_result"
    }
   ],
   "source": [
    "Human.population"
   ]
  },
  {
   "cell_type": "code",
   "execution_count": 177,
   "id": "ef232ec3",
   "metadata": {},
   "outputs": [
    {
     "name": "stdout",
     "output_type": "stream",
     "text": [
      "<__main__.Human object at 0x000001EF61A81BB0>\n"
     ]
    }
   ],
   "source": [
    "print(h1)"
   ]
  },
  {
   "cell_type": "code",
   "execution_count": 178,
   "id": "e83c8c35",
   "metadata": {},
   "outputs": [
    {
     "name": "stdout",
     "output_type": "stream",
     "text": [
      "<__main__.Human object at 0x000001EF61850B50>\n"
     ]
    }
   ],
   "source": [
    "print(h2)"
   ]
  },
  {
   "cell_type": "code",
   "execution_count": 179,
   "id": "0ba8ab6a",
   "metadata": {},
   "outputs": [],
   "source": [
    "lst = [1,2,3,4,5]"
   ]
  },
  {
   "cell_type": "code",
   "execution_count": 180,
   "id": "ee73198b",
   "metadata": {},
   "outputs": [
    {
     "data": {
      "text/plain": [
       "[1, 2, 3, 4, 5]"
      ]
     },
     "execution_count": 180,
     "metadata": {},
     "output_type": "execute_result"
    }
   ],
   "source": [
    "lst"
   ]
  },
  {
   "cell_type": "code",
   "execution_count": 182,
   "id": "6a304fad",
   "metadata": {},
   "outputs": [],
   "source": [
    "class Human:\n",
    "    database = []\n",
    "    population = 0\n",
    "    id_seq = 101\n",
    "    \n",
    "    def __init__(self,name,age,is_alive = True):\n",
    "        self.name = name\n",
    "        self.age = age\n",
    "        self.is_alive = is_alive\n",
    "        \n",
    "        self.id= Human.id_seq\n",
    "        Human.population+=1\n",
    "        Human.id_seq+=1\n",
    "        Human.database.append(self)\n",
    "        \n",
    "    def inroduce(self):\n",
    "        print(f'Hi my name is {self.name} and I am {self.age} years old')\n",
    "                  \n",
    "    def die(self):\n",
    "        if self.is_alive:\n",
    "              print(self.name, \"is dying...\")\n",
    "              self.is_alive = False\n",
    "              Human.population-=1\n",
    "        else:\n",
    "              print(\"{} is alredeay dead\".format(self.name))\n",
    "              \n",
    "              \n",
    "    def __repr__(self):\n",
    "              return \"[{},{},{},{}]\".format(self.id, self.name, self.age, self.is_alive)\n",
    "                      \n",
    "                  \n",
    "                  \n",
    "    \n",
    "    "
   ]
  },
  {
   "cell_type": "code",
   "execution_count": 183,
   "id": "df51162e",
   "metadata": {},
   "outputs": [],
   "source": [
    "h1 = Human('Mohit', 23)\n",
    "h2 = Human('Prateek', 27)"
   ]
  },
  {
   "cell_type": "code",
   "execution_count": 184,
   "id": "59b8687a",
   "metadata": {},
   "outputs": [
    {
     "name": "stdout",
     "output_type": "stream",
     "text": [
      "[101,Mohit,23,True]\n"
     ]
    }
   ],
   "source": [
    "print(h1)"
   ]
  },
  {
   "cell_type": "code",
   "execution_count": 185,
   "id": "4ab9fdd1",
   "metadata": {},
   "outputs": [
    {
     "name": "stdout",
     "output_type": "stream",
     "text": [
      "[102,Prateek,27,True]\n"
     ]
    }
   ],
   "source": [
    "print(h2)"
   ]
  },
  {
   "cell_type": "code",
   "execution_count": 186,
   "id": "13bab592",
   "metadata": {},
   "outputs": [
    {
     "data": {
      "text/plain": [
       "[101,Mohit,23,True]"
      ]
     },
     "execution_count": 186,
     "metadata": {},
     "output_type": "execute_result"
    }
   ],
   "source": [
    "h1"
   ]
  },
  {
   "cell_type": "code",
   "execution_count": 187,
   "id": "84f5c5e4",
   "metadata": {},
   "outputs": [
    {
     "data": {
      "text/plain": [
       "[[101,Mohit,23,True], [102,Prateek,27,True]]"
      ]
     },
     "execution_count": 187,
     "metadata": {},
     "output_type": "execute_result"
    }
   ],
   "source": [
    "Human.database"
   ]
  },
  {
   "cell_type": "code",
   "execution_count": 342,
   "id": "b34bb30e",
   "metadata": {},
   "outputs": [],
   "source": [
    "class Human:\n",
    "    database = []\n",
    "    population = 0\n",
    "    id_seq = 101\n",
    "    \n",
    "    def __init__(self,name,age,is_alive = True):\n",
    "        self.name = name\n",
    "        self.age = age\n",
    "        self.is_alive = is_alive\n",
    "        \n",
    "        self.id= Human.id_seq\n",
    "        Human.population+=1\n",
    "        Human.id_seq+=1\n",
    "        Human.database.append(self)\n",
    "        \n",
    "    def inroduce(self):\n",
    "        print(f'Hi my name is {self.name} and I am {self.age} years old')\n",
    "                  \n",
    "    def die(self):\n",
    "        if self.is_alive:\n",
    "              print(self.name, \"is dying...\")\n",
    "              self.is_alive = False\n",
    "              Human.population-=1\n",
    "        else:\n",
    "              print(\"{} is alredeay dead\".format(self.name))\n",
    "              \n",
    "              \n",
    "    def __repr__(self):\n",
    "              return \"[{},{},{},{}]\".format(self.id, self.name, self.age, self.is_alive)\n",
    "                      \n",
    "                  \n",
    "                  \n",
    "    \n",
    "    "
   ]
  },
  {
   "cell_type": "code",
   "execution_count": 343,
   "id": "65299feb",
   "metadata": {},
   "outputs": [],
   "source": [
    "class Hitman(Human):\n",
    "    def __init__(self, name, age):\n",
    "        super().__init__(name,age)\n",
    "        self.kills = 0\n",
    "        self.kil_list = []\n",
    "        \n",
    "    def kill(self, person):\n",
    "        if person.is_alive:\n",
    "            print(self.name, \"is killing\", person.name)\n",
    "            person.die()\n",
    "            self.kills+=1\n",
    "            self.kil_list.append(person)\n",
    "        else:\n",
    "            print(\"{} is already dead\".format(person.name))\n",
    "\n",
    "    def inroduce(self):\n",
    "        print(\"Hi, my name is {} and I have killed {}\".format(self.name, self.kills))"
   ]
  },
  {
   "cell_type": "code",
   "execution_count": 344,
   "id": "2b6ecba4",
   "metadata": {},
   "outputs": [],
   "source": [
    "h1 = Human(\"Mohit\", 23)\n",
    "h2 = Human(\"Prateek\", 27)\n",
    "h3 = Human(\"Jatin\", 26)"
   ]
  },
  {
   "cell_type": "code",
   "execution_count": 345,
   "id": "8f509c43",
   "metadata": {},
   "outputs": [
    {
     "data": {
      "text/plain": [
       "3"
      ]
     },
     "execution_count": 345,
     "metadata": {},
     "output_type": "execute_result"
    }
   ],
   "source": [
    "Human.population"
   ]
  },
  {
   "cell_type": "code",
   "execution_count": 346,
   "id": "e1db8b64",
   "metadata": {},
   "outputs": [
    {
     "data": {
      "text/plain": [
       "[[101,Mohit,23,True], [102,Prateek,27,True], [103,Jatin,26,True]]"
      ]
     },
     "execution_count": 346,
     "metadata": {},
     "output_type": "execute_result"
    }
   ],
   "source": [
    "Human.database"
   ]
  },
  {
   "cell_type": "code",
   "execution_count": 347,
   "id": "40eed33d",
   "metadata": {},
   "outputs": [],
   "source": [
    "bond = Hitman('james', 30)"
   ]
  },
  {
   "cell_type": "code",
   "execution_count": 348,
   "id": "9fcf1432",
   "metadata": {},
   "outputs": [
    {
     "data": {
      "text/plain": [
       "4"
      ]
     },
     "execution_count": 348,
     "metadata": {},
     "output_type": "execute_result"
    }
   ],
   "source": [
    "Human.population"
   ]
  },
  {
   "cell_type": "code",
   "execution_count": 349,
   "id": "4d1c20d9",
   "metadata": {},
   "outputs": [
    {
     "data": {
      "text/plain": [
       "[[101,Mohit,23,True],\n",
       " [102,Prateek,27,True],\n",
       " [103,Jatin,26,True],\n",
       " [104,james,30,True]]"
      ]
     },
     "execution_count": 349,
     "metadata": {},
     "output_type": "execute_result"
    }
   ],
   "source": [
    "Human.database"
   ]
  },
  {
   "cell_type": "code",
   "execution_count": 350,
   "id": "fcb9165d",
   "metadata": {},
   "outputs": [
    {
     "data": {
      "text/plain": [
       "[104,james,30,True]"
      ]
     },
     "execution_count": 350,
     "metadata": {},
     "output_type": "execute_result"
    }
   ],
   "source": [
    "bond"
   ]
  },
  {
   "cell_type": "code",
   "execution_count": 351,
   "id": "1e2b1552",
   "metadata": {},
   "outputs": [
    {
     "name": "stdout",
     "output_type": "stream",
     "text": [
      "Hi, my name is james and I have killed 0\n"
     ]
    }
   ],
   "source": [
    "bond.inroduce()"
   ]
  },
  {
   "cell_type": "code",
   "execution_count": 362,
   "id": "dcf83bd0",
   "metadata": {},
   "outputs": [
    {
     "name": "stdout",
     "output_type": "stream",
     "text": [
      "Mohit is already dead\n"
     ]
    }
   ],
   "source": [
    "bond.kill(h1)"
   ]
  },
  {
   "cell_type": "code",
   "execution_count": 363,
   "id": "e038caa7",
   "metadata": {},
   "outputs": [
    {
     "data": {
      "text/plain": [
       "False"
      ]
     },
     "execution_count": 363,
     "metadata": {},
     "output_type": "execute_result"
    }
   ],
   "source": [
    "h1.is_alive"
   ]
  },
  {
   "cell_type": "code",
   "execution_count": 364,
   "id": "cb2e6870",
   "metadata": {},
   "outputs": [
    {
     "data": {
      "text/plain": [
       "1"
      ]
     },
     "execution_count": 364,
     "metadata": {},
     "output_type": "execute_result"
    }
   ],
   "source": [
    "bond.kills"
   ]
  },
  {
   "cell_type": "code",
   "execution_count": 365,
   "id": "2cb6d5d3",
   "metadata": {},
   "outputs": [
    {
     "data": {
      "text/plain": [
       "[[101,Mohit,23,False]]"
      ]
     },
     "execution_count": 365,
     "metadata": {},
     "output_type": "execute_result"
    }
   ],
   "source": [
    "bond.kil_list"
   ]
  },
  {
   "cell_type": "code",
   "execution_count": 366,
   "id": "7828c50b",
   "metadata": {},
   "outputs": [
    {
     "data": {
      "text/plain": [
       "3"
      ]
     },
     "execution_count": 366,
     "metadata": {},
     "output_type": "execute_result"
    }
   ],
   "source": [
    "Human.population"
   ]
  },
  {
   "cell_type": "code",
   "execution_count": 367,
   "id": "6361d1e2",
   "metadata": {},
   "outputs": [
    {
     "data": {
      "text/plain": [
       "[[101,Mohit,23,False],\n",
       " [102,Prateek,27,True],\n",
       " [103,Jatin,26,True],\n",
       " [104,james,30,True]]"
      ]
     },
     "execution_count": 367,
     "metadata": {},
     "output_type": "execute_result"
    }
   ],
   "source": [
    "Human.database"
   ]
  },
  {
   "cell_type": "code",
   "execution_count": 371,
   "id": "97a8fa26",
   "metadata": {},
   "outputs": [
    {
     "name": "stdout",
     "output_type": "stream",
     "text": [
      "Jatin is already dead\n"
     ]
    }
   ],
   "source": [
    "bond.kill(h3)"
   ]
  },
  {
   "cell_type": "code",
   "execution_count": 373,
   "id": "9ac14e7e",
   "metadata": {},
   "outputs": [
    {
     "name": "stdout",
     "output_type": "stream",
     "text": [
      "Hi, my name is james and I have killed 2\n"
     ]
    }
   ],
   "source": [
    "bond.inroduce()"
   ]
  },
  {
   "cell_type": "code",
   "execution_count": 381,
   "id": "5586fbe3",
   "metadata": {},
   "outputs": [],
   "source": [
    "class A:\n",
    "    def m(self):\n",
    "        print(\"I am inside class A\")"
   ]
  },
  {
   "cell_type": "code",
   "execution_count": 382,
   "id": "3b2548c9",
   "metadata": {},
   "outputs": [],
   "source": [
    "class B(A):\n",
    "    def m1(self):\n",
    "        print('I am inside class B')"
   ]
  },
  {
   "cell_type": "code",
   "execution_count": 383,
   "id": "c1fffd66",
   "metadata": {},
   "outputs": [],
   "source": [
    "class C(B):\n",
    "    def m1(self):\n",
    "        print('I am inside C')\n",
    "        \n",
    "    def m2(self):\n",
    "        print('I am c class')"
   ]
  },
  {
   "cell_type": "code",
   "execution_count": 384,
   "id": "74227fc6",
   "metadata": {},
   "outputs": [],
   "source": [
    "obj1 = A()\n",
    "obj2 = B()\n",
    "obj3 = C()"
   ]
  },
  {
   "cell_type": "code",
   "execution_count": 385,
   "id": "fd67b7fa",
   "metadata": {},
   "outputs": [
    {
     "name": "stdout",
     "output_type": "stream",
     "text": [
      "I am inside class A\n"
     ]
    }
   ],
   "source": [
    "obj1.m()"
   ]
  },
  {
   "cell_type": "code",
   "execution_count": 386,
   "id": "8caf7bb7",
   "metadata": {},
   "outputs": [
    {
     "name": "stdout",
     "output_type": "stream",
     "text": [
      "I am inside class A\n"
     ]
    }
   ],
   "source": [
    "obj2.m()"
   ]
  },
  {
   "cell_type": "code",
   "execution_count": 387,
   "id": "617dc12a",
   "metadata": {},
   "outputs": [
    {
     "name": "stdout",
     "output_type": "stream",
     "text": [
      "I am inside class B\n"
     ]
    }
   ],
   "source": [
    "obj2.m1()"
   ]
  },
  {
   "cell_type": "code",
   "execution_count": 388,
   "id": "983ebbd7",
   "metadata": {},
   "outputs": [
    {
     "name": "stdout",
     "output_type": "stream",
     "text": [
      "I am inside class A\n"
     ]
    }
   ],
   "source": [
    "obj3.m()"
   ]
  },
  {
   "cell_type": "code",
   "execution_count": 389,
   "id": "9361dd59",
   "metadata": {},
   "outputs": [
    {
     "name": "stdout",
     "output_type": "stream",
     "text": [
      "I am inside C\n"
     ]
    }
   ],
   "source": [
    "obj3.m1()"
   ]
  },
  {
   "cell_type": "code",
   "execution_count": 390,
   "id": "fef5f470",
   "metadata": {},
   "outputs": [
    {
     "name": "stdout",
     "output_type": "stream",
     "text": [
      "I am c class\n"
     ]
    }
   ],
   "source": [
    "obj3.m2()"
   ]
  },
  {
   "cell_type": "code",
   "execution_count": 391,
   "id": "6a945b29",
   "metadata": {},
   "outputs": [],
   "source": [
    "class A:\n",
    "    def find(self):\n",
    "        print(\"Excuted from class A\")\n",
    "        \n",
    "class B:\n",
    "    def explore(self):\n",
    "        print(\"Executed from class B\")\n",
    "        \n",
    "    def discover(self):\n",
    "        print('Executed from class B')\n",
    "        \n",
    "class C(A,B):\n",
    "    def explore(self):\n",
    "        print('Exceuted from class C')\n",
    "    "
   ]
  },
  {
   "cell_type": "code",
   "execution_count": 392,
   "id": "11a3855f",
   "metadata": {},
   "outputs": [],
   "source": [
    "obj = A()\n",
    "obj1 = B()\n",
    "Obj2 = C()"
   ]
  },
  {
   "cell_type": "code",
   "execution_count": 393,
   "id": "90a90333",
   "metadata": {},
   "outputs": [
    {
     "name": "stdout",
     "output_type": "stream",
     "text": [
      "Excuted from class A\n"
     ]
    }
   ],
   "source": [
    "obj.find()"
   ]
  },
  {
   "cell_type": "code",
   "execution_count": 394,
   "id": "cd51187c",
   "metadata": {},
   "outputs": [
    {
     "name": "stdout",
     "output_type": "stream",
     "text": [
      "Executed from class B\n"
     ]
    }
   ],
   "source": [
    "obj1.discover()"
   ]
  },
  {
   "cell_type": "code",
   "execution_count": 395,
   "id": "80ac59ef",
   "metadata": {},
   "outputs": [
    {
     "name": "stdout",
     "output_type": "stream",
     "text": [
      "Executed from class B\n"
     ]
    }
   ],
   "source": [
    "obj1.explore()"
   ]
  },
  {
   "cell_type": "code",
   "execution_count": 396,
   "id": "094e8746",
   "metadata": {},
   "outputs": [
    {
     "name": "stdout",
     "output_type": "stream",
     "text": [
      "Excuted from class A\n"
     ]
    }
   ],
   "source": [
    "Obj2.find()"
   ]
  },
  {
   "cell_type": "code",
   "execution_count": 397,
   "id": "0f807bce",
   "metadata": {},
   "outputs": [
    {
     "name": "stdout",
     "output_type": "stream",
     "text": [
      "Executed from class B\n"
     ]
    }
   ],
   "source": [
    "Obj2.discover()"
   ]
  },
  {
   "cell_type": "code",
   "execution_count": 398,
   "id": "0f1fa759",
   "metadata": {},
   "outputs": [
    {
     "name": "stdout",
     "output_type": "stream",
     "text": [
      "Exceuted from class C\n"
     ]
    }
   ],
   "source": [
    "Obj2.explore()"
   ]
  },
  {
   "cell_type": "code",
   "execution_count": 400,
   "id": "66bc1b88",
   "metadata": {},
   "outputs": [
    {
     "data": {
      "text/plain": [
       "[__main__.C, __main__.A, __main__.B, object]"
      ]
     },
     "execution_count": 400,
     "metadata": {},
     "output_type": "execute_result"
    }
   ],
   "source": [
    "C.mro()"
   ]
  },
  {
   "cell_type": "code",
   "execution_count": 403,
   "id": "da9ddeb9",
   "metadata": {},
   "outputs": [],
   "source": [
    "class Random1():\n",
    "    pass"
   ]
  },
  {
   "cell_type": "code",
   "execution_count": 402,
   "id": "32912c77",
   "metadata": {},
   "outputs": [],
   "source": [
    "#__init__\n",
    "#__repr__\n",
    "#__str__"
   ]
  },
  {
   "cell_type": "code",
   "execution_count": 405,
   "id": "d347f349",
   "metadata": {},
   "outputs": [
    {
     "data": {
      "text/plain": [
       "'Hello Sanjay Kumar'"
      ]
     },
     "execution_count": 405,
     "metadata": {},
     "output_type": "execute_result"
    }
   ],
   "source": [
    "\"Hello \" + \"Sanjay Kumar\""
   ]
  },
  {
   "cell_type": "code",
   "execution_count": 406,
   "id": "a523c25d",
   "metadata": {},
   "outputs": [
    {
     "data": {
      "text/plain": [
       "11"
      ]
     },
     "execution_count": 406,
     "metadata": {},
     "output_type": "execute_result"
    }
   ],
   "source": [
    "5 + 6 "
   ]
  },
  {
   "cell_type": "code",
   "execution_count": 411,
   "id": "4dcc41b6",
   "metadata": {},
   "outputs": [],
   "source": [
    "a1 = [1,2,3]\n",
    "b = [4,5,6]"
   ]
  },
  {
   "cell_type": "code",
   "execution_count": 408,
   "id": "95a4a33a",
   "metadata": {},
   "outputs": [
    {
     "data": {
      "text/plain": [
       "[1, 2, 3, 4, 5, 6]"
      ]
     },
     "execution_count": 408,
     "metadata": {},
     "output_type": "execute_result"
    }
   ],
   "source": [
    "a+b"
   ]
  },
  {
   "cell_type": "code",
   "execution_count": 409,
   "id": "5d27e9fb",
   "metadata": {},
   "outputs": [],
   "source": [
    "a = \"Hello \""
   ]
  },
  {
   "cell_type": "code",
   "execution_count": 410,
   "id": "e13e8d34",
   "metadata": {},
   "outputs": [
    {
     "data": {
      "text/plain": [
       "6"
      ]
     },
     "execution_count": 410,
     "metadata": {},
     "output_type": "execute_result"
    }
   ],
   "source": [
    "len(a)"
   ]
  },
  {
   "cell_type": "code",
   "execution_count": 412,
   "id": "de22e7c9",
   "metadata": {},
   "outputs": [
    {
     "data": {
      "text/plain": [
       "3"
      ]
     },
     "execution_count": 412,
     "metadata": {},
     "output_type": "execute_result"
    }
   ],
   "source": [
    "len(a1)"
   ]
  },
  {
   "cell_type": "code",
   "execution_count": 413,
   "id": "a0ae5aeb",
   "metadata": {},
   "outputs": [],
   "source": [
    "d = {1,1,1,1,1}"
   ]
  },
  {
   "cell_type": "code",
   "execution_count": 414,
   "id": "154657b5",
   "metadata": {},
   "outputs": [
    {
     "data": {
      "text/plain": [
       "1"
      ]
     },
     "execution_count": 414,
     "metadata": {},
     "output_type": "execute_result"
    }
   ],
   "source": [
    "len(d)"
   ]
  },
  {
   "cell_type": "code",
   "execution_count": 415,
   "id": "14b0493b",
   "metadata": {},
   "outputs": [],
   "source": [
    "def my_args(*args):\n",
    "    print(sum(args))"
   ]
  },
  {
   "cell_type": "code",
   "execution_count": 417,
   "id": "d9ef5967",
   "metadata": {},
   "outputs": [
    {
     "name": "stdout",
     "output_type": "stream",
     "text": [
      "26\n"
     ]
    }
   ],
   "source": [
    "my_args(5,6,7,8)"
   ]
  },
  {
   "cell_type": "code",
   "execution_count": 426,
   "id": "3c37a068",
   "metadata": {},
   "outputs": [],
   "source": [
    "class Animal:\n",
    "    def __init__(self):\n",
    "        self.color = \"white\"\n",
    "        \n",
    "    def speak(self):\n",
    "        print(\"I will speak....\")"
   ]
  },
  {
   "cell_type": "code",
   "execution_count": 427,
   "id": "2cf0c2ad",
   "metadata": {},
   "outputs": [],
   "source": [
    "class Dog(Animal):\n",
    "    def speak(self):\n",
    "        print(\"I will Barkkkkkk.....\")"
   ]
  },
  {
   "cell_type": "code",
   "execution_count": 428,
   "id": "0ec9213b",
   "metadata": {},
   "outputs": [],
   "source": [
    "class Cat(Animal):\n",
    "    def speak(self):\n",
    "        print(\"I will Meauwooo.....\")"
   ]
  },
  {
   "cell_type": "code",
   "execution_count": 429,
   "id": "d77eac7e",
   "metadata": {},
   "outputs": [],
   "source": [
    "class Duck(Animal):\n",
    "    def speak(self):\n",
    "        print(\"I will quack.......\")"
   ]
  },
  {
   "cell_type": "code",
   "execution_count": 430,
   "id": "bd56fcd3",
   "metadata": {},
   "outputs": [],
   "source": [
    "dog = Dog()"
   ]
  },
  {
   "cell_type": "code",
   "execution_count": 431,
   "id": "bdf5885b",
   "metadata": {},
   "outputs": [],
   "source": [
    "cat = Cat()"
   ]
  },
  {
   "cell_type": "code",
   "execution_count": 432,
   "id": "803491d5",
   "metadata": {},
   "outputs": [],
   "source": [
    "duck = Duck()"
   ]
  },
  {
   "cell_type": "code",
   "execution_count": 433,
   "id": "a274cd5a",
   "metadata": {},
   "outputs": [
    {
     "name": "stdout",
     "output_type": "stream",
     "text": [
      "I will Barkkkkkk.....\n"
     ]
    }
   ],
   "source": [
    "dog.speak()"
   ]
  },
  {
   "cell_type": "code",
   "execution_count": 434,
   "id": "7c9a6b87",
   "metadata": {},
   "outputs": [
    {
     "name": "stdout",
     "output_type": "stream",
     "text": [
      "I will Barkkkkkk.....\n",
      "I will Meauwooo.....\n",
      "I will quack.......\n"
     ]
    }
   ],
   "source": [
    "for i in [dog,cat,duck]:\n",
    "    i.speak()"
   ]
  },
  {
   "cell_type": "code",
   "execution_count": null,
   "id": "da2980e0",
   "metadata": {},
   "outputs": [],
   "source": []
  }
 ],
 "metadata": {
  "kernelspec": {
   "display_name": "Python 3",
   "language": "python",
   "name": "python3"
  },
  "language_info": {
   "codemirror_mode": {
    "name": "ipython",
    "version": 3
   },
   "file_extension": ".py",
   "mimetype": "text/x-python",
   "name": "python",
   "nbconvert_exporter": "python",
   "pygments_lexer": "ipython3",
   "version": "3.8.8"
  }
 },
 "nbformat": 4,
 "nbformat_minor": 5
}
