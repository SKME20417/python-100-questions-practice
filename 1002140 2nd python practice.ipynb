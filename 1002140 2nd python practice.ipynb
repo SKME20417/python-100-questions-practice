{
 "cells": [
  {
   "cell_type": "code",
   "execution_count": 1,
   "id": "303166ce",
   "metadata": {},
   "outputs": [],
   "source": [
    "#21-40"
   ]
  },
  {
   "cell_type": "code",
   "execution_count": 5,
   "id": "a2f86b18",
   "metadata": {},
   "outputs": [
    {
     "name": "stdout",
     "output_type": "stream",
     "text": [
      "UP 5 DOWN 3 LEFT 3 RIGHT 2\n",
      "5\n"
     ]
    }
   ],
   "source": [
    "import math\n",
    "x,y = 0,0\n",
    "\n",
    "while True:\n",
    "    s = input().split(' ')\n",
    "    if not s:\n",
    "        break\n",
    "        \n",
    "    if s[0]==\"UP\":\n",
    "        x-=int(s[1])\n",
    "        \n",
    "    if s[0]==\"DOWN\":\n",
    "        x+=int(s[1])\n",
    "        \n",
    "    if s[0]==\"LEFT\":\n",
    "        y-=int(s[1])\n",
    "        \n",
    "    if s[0]==\"RIGHT\":\n",
    "        y+=int(s[1])\n",
    "    break\n",
    "        \n",
    "dis = round(math.sqrt(x**2+y**2))\n",
    "print(dis)\n",
    "        \n",
    "        "
   ]
  },
  {
   "cell_type": "code",
   "execution_count": null,
   "id": "7c1daead",
   "metadata": {},
   "outputs": [],
   "source": [
    "New to Python or choosing between Python 2 and Python 3? Read Python 2 or Python 3."
   ]
  },
  {
   "cell_type": "code",
   "execution_count": null,
   "id": "c127d300",
   "metadata": {},
   "outputs": [],
   "source": [
    "for i in s:\n",
    "    "
   ]
  },
  {
   "cell_type": "code",
   "execution_count": 7,
   "id": "cdbfe7a7",
   "metadata": {},
   "outputs": [
    {
     "name": "stdout",
     "output_type": "stream",
     "text": [
      "New to Python or choosing between Python 2 and Python 3? Read Python 2 or Python 3.\n"
     ]
    }
   ],
   "source": [
    "s = input().split(' ')"
   ]
  },
  {
   "cell_type": "code",
   "execution_count": 8,
   "id": "2f4dbc7f",
   "metadata": {},
   "outputs": [
    {
     "data": {
      "text/plain": [
       "['New',\n",
       " 'to',\n",
       " 'Python',\n",
       " 'or',\n",
       " 'choosing',\n",
       " 'between',\n",
       " 'Python',\n",
       " '2',\n",
       " 'and',\n",
       " 'Python',\n",
       " '3?',\n",
       " 'Read',\n",
       " 'Python',\n",
       " '2',\n",
       " 'or',\n",
       " 'Python',\n",
       " '3.']"
      ]
     },
     "execution_count": 8,
     "metadata": {},
     "output_type": "execute_result"
    }
   ],
   "source": [
    "s"
   ]
  },
  {
   "cell_type": "code",
   "execution_count": 1,
   "id": "484998c9",
   "metadata": {},
   "outputs": [
    {
     "ename": "SyntaxError",
     "evalue": "invalid syntax (2184933647.py, line 1)",
     "output_type": "error",
     "traceback": [
      "\u001b[1;36m  Input \u001b[1;32mIn [1]\u001b[1;36m\u001b[0m\n\u001b[1;33m    New to Python or choosing between Python 2 and Python 3? Read Python 2 or Python 3.\u001b[0m\n\u001b[1;37m        ^\u001b[0m\n\u001b[1;31mSyntaxError\u001b[0m\u001b[1;31m:\u001b[0m invalid syntax\n"
     ]
    }
   ],
   "source": [
    "New to Python or choosing between Python 2 and Python 3? Read Python 2 or Python 3."
   ]
  },
  {
   "cell_type": "code",
   "execution_count": 5,
   "id": "b87b3fe7",
   "metadata": {},
   "outputs": [
    {
     "name": "stdout",
     "output_type": "stream",
     "text": [
      "New to Python or choosing between Python 2 and Python 3? Read Python 2 or Python 3.\n"
     ]
    }
   ],
   "source": [
    "s = input().split()"
   ]
  },
  {
   "cell_type": "code",
   "execution_count": 6,
   "id": "c9e3114b",
   "metadata": {},
   "outputs": [
    {
     "data": {
      "text/plain": [
       "['New',\n",
       " 'to',\n",
       " 'Python',\n",
       " 'or',\n",
       " 'choosing',\n",
       " 'between',\n",
       " 'Python',\n",
       " '2',\n",
       " 'and',\n",
       " 'Python',\n",
       " '3?',\n",
       " 'Read',\n",
       " 'Python',\n",
       " '2',\n",
       " 'or',\n",
       " 'Python',\n",
       " '3.']"
      ]
     },
     "execution_count": 6,
     "metadata": {},
     "output_type": "execute_result"
    }
   ],
   "source": [
    "s"
   ]
  },
  {
   "cell_type": "code",
   "execution_count": 9,
   "id": "c983099e",
   "metadata": {},
   "outputs": [
    {
     "data": {
      "text/plain": [
       "{'New': 1,\n",
       " 'to': 1,\n",
       " 'Python': 5,\n",
       " 'or': 2,\n",
       " 'choosing': 1,\n",
       " 'between': 1,\n",
       " '2': 2,\n",
       " 'and': 1,\n",
       " '3?': 1,\n",
       " 'Read': 1,\n",
       " '3.': 1}"
      ]
     },
     "execution_count": 9,
     "metadata": {},
     "output_type": "execute_result"
    }
   ],
   "source": [
    "({i:s.count(i) for i in s})"
   ]
  },
  {
   "cell_type": "code",
   "execution_count": 10,
   "id": "1b9ba0ec",
   "metadata": {},
   "outputs": [],
   "source": [
    "from pprint import pprint"
   ]
  },
  {
   "cell_type": "code",
   "execution_count": 11,
   "id": "2e385ecc",
   "metadata": {},
   "outputs": [
    {
     "name": "stdout",
     "output_type": "stream",
     "text": [
      "{'2': 2,\n",
      " '3.': 1,\n",
      " '3?': 1,\n",
      " 'New': 1,\n",
      " 'Python': 5,\n",
      " 'Read': 1,\n",
      " 'and': 1,\n",
      " 'between': 1,\n",
      " 'choosing': 1,\n",
      " 'or': 2,\n",
      " 'to': 1}\n"
     ]
    }
   ],
   "source": [
    "pprint({i:s.count(i) for i in s})"
   ]
  },
  {
   "cell_type": "code",
   "execution_count": 12,
   "id": "6323b0fa",
   "metadata": {},
   "outputs": [
    {
     "name": "stdout",
     "output_type": "stream",
     "text": [
      "New to Python or choosing between Python 2 and Python 3? Read Python 2 or Python 3.\n"
     ]
    }
   ],
   "source": [
    "ss = input().split()"
   ]
  },
  {
   "cell_type": "code",
   "execution_count": 16,
   "id": "5cb5b4c4",
   "metadata": {},
   "outputs": [],
   "source": [
    "word = sorted(set(ss))"
   ]
  },
  {
   "cell_type": "code",
   "execution_count": 17,
   "id": "4e70fea3",
   "metadata": {},
   "outputs": [
    {
     "name": "stdout",
     "output_type": "stream",
     "text": [
      "2:1\n",
      "3.:1\n",
      "3?:1\n",
      "New:1\n",
      "Python:1\n",
      "Read:1\n",
      "and:1\n",
      "between:1\n",
      "choosing:1\n",
      "or:1\n",
      "to:1\n"
     ]
    }
   ],
   "source": [
    "for i in word:\n",
    "    print(\"{0}:{1}\".format(i, word.count(i)))"
   ]
  },
  {
   "cell_type": "code",
   "execution_count": 19,
   "id": "655181e7",
   "metadata": {},
   "outputs": [],
   "source": [
    "def square(x):\n",
    "    return x**2"
   ]
  },
  {
   "cell_type": "code",
   "execution_count": 20,
   "id": "7713782d",
   "metadata": {},
   "outputs": [
    {
     "data": {
      "text/plain": [
       "36"
      ]
     },
     "execution_count": 20,
     "metadata": {},
     "output_type": "execute_result"
    }
   ],
   "source": [
    "square(6)"
   ]
  },
  {
   "cell_type": "code",
   "execution_count": 21,
   "id": "4aa126b9",
   "metadata": {},
   "outputs": [
    {
     "data": {
      "text/plain": [
       "64"
      ]
     },
     "execution_count": 21,
     "metadata": {},
     "output_type": "execute_result"
    }
   ],
   "source": [
    "square(8)"
   ]
  },
  {
   "cell_type": "code",
   "execution_count": 22,
   "id": "dbe674b5",
   "metadata": {},
   "outputs": [
    {
     "data": {
      "text/plain": [
       "'Automatically created module for IPython interactive environment'"
      ]
     },
     "execution_count": 22,
     "metadata": {},
     "output_type": "execute_result"
    }
   ],
   "source": [
    "__doc__"
   ]
  },
  {
   "cell_type": "code",
   "execution_count": 23,
   "id": "40a71f6b",
   "metadata": {},
   "outputs": [
    {
     "data": {
      "text/plain": [
       "\"print(value, ..., sep=' ', end='\\\\n', file=sys.stdout, flush=False)\\n\\nPrints the values to a stream, or to sys.stdout by default.\\nOptional keyword arguments:\\nfile:  a file-like object (stream); defaults to the current sys.stdout.\\nsep:   string inserted between values, default a space.\\nend:   string appended after the last value, default a newline.\\nflush: whether to forcibly flush the stream.\""
      ]
     },
     "execution_count": 23,
     "metadata": {},
     "output_type": "execute_result"
    }
   ],
   "source": [
    "print.__doc__"
   ]
  },
  {
   "cell_type": "code",
   "execution_count": 24,
   "id": "5191ce48",
   "metadata": {},
   "outputs": [
    {
     "data": {
      "text/plain": [
       "'Return the number of items in a container.'"
      ]
     },
     "execution_count": 24,
     "metadata": {},
     "output_type": "execute_result"
    }
   ],
   "source": [
    "len.__doc__"
   ]
  },
  {
   "cell_type": "code",
   "execution_count": 25,
   "id": "b6479636",
   "metadata": {},
   "outputs": [
    {
     "data": {
      "text/plain": [
       "\"dir([object]) -> list of strings\\n\\nIf called without an argument, return the names in the current scope.\\nElse, return an alphabetized list of names comprising (some of) the attributes\\nof the given object, and of attributes reachable from it.\\nIf the object supplies a method named __dir__, it will be used; otherwise\\nthe default dir() logic is used and returns:\\n  for a module object: the module's attributes.\\n  for a class object:  its attributes, and recursively the attributes\\n    of its bases.\\n  for any other object: its attributes, its class's attributes, and\\n    recursively the attributes of its class's base classes.\""
      ]
     },
     "execution_count": 25,
     "metadata": {},
     "output_type": "execute_result"
    }
   ],
   "source": [
    "dir.__doc__"
   ]
  },
  {
   "cell_type": "code",
   "execution_count": 26,
   "id": "31239eba",
   "metadata": {},
   "outputs": [
    {
     "data": {
      "text/plain": [
       "'Return the absolute value of the argument.'"
      ]
     },
     "execution_count": 26,
     "metadata": {},
     "output_type": "execute_result"
    }
   ],
   "source": [
    "abs.__doc__"
   ]
  },
  {
   "cell_type": "code",
   "execution_count": 27,
   "id": "fb88eedb",
   "metadata": {},
   "outputs": [
    {
     "data": {
      "text/plain": [
       "\"Forward raw_input to frontends\\n\\n        Raises\\n        ------\\n        StdinNotImplementedError if active frontend doesn't support stdin.\\n        \""
      ]
     },
     "execution_count": 27,
     "metadata": {},
     "output_type": "execute_result"
    }
   ],
   "source": [
    "input.__doc__"
   ]
  },
  {
   "cell_type": "code",
   "execution_count": 28,
   "id": "42e81e3a",
   "metadata": {},
   "outputs": [
    {
     "data": {
      "text/plain": [
       "\"int([x]) -> integer\\nint(x, base=10) -> integer\\n\\nConvert a number or string to an integer, or return 0 if no arguments\\nare given.  If x is a number, return x.__int__().  For floating point\\nnumbers, this truncates towards zero.\\n\\nIf x is not a number or if base is given, then x must be a string,\\nbytes, or bytearray instance representing an integer literal in the\\ngiven base.  The literal can be preceded by '+' or '-' and be surrounded\\nby whitespace.  The base defaults to 10.  Valid bases are 0 and 2-36.\\nBase 0 means to interpret the base from the string as an integer literal.\\n>>> int('0b100', base=0)\\n4\""
      ]
     },
     "execution_count": 28,
     "metadata": {},
     "output_type": "execute_result"
    }
   ],
   "source": [
    "int.__doc__"
   ]
  },
  {
   "cell_type": "code",
   "execution_count": 29,
   "id": "f7ed4eff",
   "metadata": {},
   "outputs": [
    {
     "data": {
      "text/plain": [
       "'max(iterable, *[, default=obj, key=func]) -> value\\nmax(arg1, arg2, *args, *[, key=func]) -> value\\n\\nWith a single iterable argument, return its biggest item. The\\ndefault keyword-only argument specifies an object to return if\\nthe provided iterable is empty.\\nWith two or more arguments, return the largest argument.'"
      ]
     },
     "execution_count": 29,
     "metadata": {},
     "output_type": "execute_result"
    }
   ],
   "source": [
    "max.__doc__"
   ]
  },
  {
   "cell_type": "code",
   "execution_count": 30,
   "id": "05c9bccf",
   "metadata": {},
   "outputs": [],
   "source": [
    "def square(x):\n",
    "    \"\"\"This will return square of a number\"\"\"\n",
    "    return x**2"
   ]
  },
  {
   "cell_type": "code",
   "execution_count": 32,
   "id": "239d1e5f",
   "metadata": {},
   "outputs": [
    {
     "data": {
      "text/plain": [
       "'This will return square of a number'"
      ]
     },
     "execution_count": 32,
     "metadata": {},
     "output_type": "execute_result"
    }
   ],
   "source": [
    "square(9)\n",
    "square.__doc__"
   ]
  },
  {
   "cell_type": "code",
   "execution_count": 33,
   "id": "25ce75b7",
   "metadata": {},
   "outputs": [
    {
     "data": {
      "text/plain": [
       "\"str(object='') -> str\\nstr(bytes_or_buffer[, encoding[, errors]]) -> str\\n\\nCreate a new string object from the given object. If encoding or\\nerrors is specified, then the object must expose a data buffer\\nthat will be decoded using the given encoding and error handler.\\nOtherwise, returns the result of object.__str__() (if defined)\\nor repr(object).\\nencoding defaults to sys.getdefaultencoding().\\nerrors defaults to 'strict'.\""
      ]
     },
     "execution_count": 33,
     "metadata": {},
     "output_type": "execute_result"
    }
   ],
   "source": [
    "str.__doc__"
   ]
  },
  {
   "cell_type": "code",
   "execution_count": 34,
   "id": "b5862f5e",
   "metadata": {},
   "outputs": [
    {
     "data": {
      "text/plain": [
       "'Return a new list containing all items from the iterable in ascending order.\\n\\nA custom key function can be supplied to customize the sort order, and the\\nreverse flag can be set to request the result in descending order.'"
      ]
     },
     "execution_count": 34,
     "metadata": {},
     "output_type": "execute_result"
    }
   ],
   "source": [
    "sorted.__doc__"
   ]
  },
  {
   "cell_type": "code",
   "execution_count": 35,
   "id": "4b726b3e",
   "metadata": {},
   "outputs": [],
   "source": [
    "def power(base,pow):\n",
    "    \"\"\"This funcvtion will return power of base \"\"\"\n",
    "    return base**pow"
   ]
  },
  {
   "cell_type": "code",
   "execution_count": 39,
   "id": "16ce6d39",
   "metadata": {},
   "outputs": [
    {
     "name": "stdout",
     "output_type": "stream",
     "text": [
      "625\n"
     ]
    }
   ],
   "source": [
    "print(power(5,4))"
   ]
  },
  {
   "cell_type": "code",
   "execution_count": 40,
   "id": "095dfbfd",
   "metadata": {},
   "outputs": [
    {
     "name": "stdout",
     "output_type": "stream",
     "text": [
      "This funcvtion will return power of base \n"
     ]
    }
   ],
   "source": [
    "print(power.__doc__)"
   ]
  },
  {
   "cell_type": "code",
   "execution_count": 49,
   "id": "02533056",
   "metadata": {},
   "outputs": [],
   "source": [
    "class Person:\n",
    "    name = \"alien\"\n",
    "    def __init__(self, name):\n",
    "        self.name = name"
   ]
  },
  {
   "cell_type": "code",
   "execution_count": 50,
   "id": "adf7bf31",
   "metadata": {},
   "outputs": [],
   "source": [
    "obj1  = Person('sanjay')"
   ]
  },
  {
   "cell_type": "code",
   "execution_count": 51,
   "id": "1d4ae4ee",
   "metadata": {},
   "outputs": [
    {
     "data": {
      "text/plain": [
       "'sanjay'"
      ]
     },
     "execution_count": 51,
     "metadata": {},
     "output_type": "execute_result"
    }
   ],
   "source": [
    "obj1.name"
   ]
  },
  {
   "cell_type": "code",
   "execution_count": 52,
   "id": "3820dbd7",
   "metadata": {},
   "outputs": [
    {
     "data": {
      "text/plain": [
       "<function Person.mro()>"
      ]
     },
     "execution_count": 52,
     "metadata": {},
     "output_type": "execute_result"
    }
   ],
   "source": [
    "Person.mro"
   ]
  },
  {
   "cell_type": "code",
   "execution_count": 53,
   "id": "5597f176",
   "metadata": {},
   "outputs": [
    {
     "data": {
      "text/plain": [
       "'alien'"
      ]
     },
     "execution_count": 53,
     "metadata": {},
     "output_type": "execute_result"
    }
   ],
   "source": [
    "Person.name\n"
   ]
  },
  {
   "cell_type": "code",
   "execution_count": 55,
   "id": "8b6aeb9c",
   "metadata": {},
   "outputs": [
    {
     "name": "stdout",
     "output_type": "stream",
     "text": [
      "alien name is sanjay\n"
     ]
    }
   ],
   "source": [
    "print(\"%s name is %s\" % (Person.name,  obj1.name))"
   ]
  },
  {
   "cell_type": "code",
   "execution_count": 61,
   "id": "23d5b2c9",
   "metadata": {},
   "outputs": [
    {
     "name": "stdout",
     "output_type": "stream",
     "text": [
      "alien name is Nico\n"
     ]
    }
   ],
   "source": [
    "nico = Person('Nico')\n",
    "print(\"%s name is %s\" % (Person.name, nico.name))"
   ]
  },
  {
   "cell_type": "code",
   "execution_count": null,
   "id": "ef5553d6",
   "metadata": {},
   "outputs": [],
   "source": [
    "Class Car:\n",
    "    name = 'car'\n",
    "    \n",
    "    def __in"
   ]
  },
  {
   "cell_type": "code",
   "execution_count": 64,
   "id": "425c07f2",
   "metadata": {},
   "outputs": [
    {
     "name": "stdout",
     "output_type": "stream",
     "text": [
      "car1 name is Honda\n"
     ]
    }
   ],
   "source": [
    "class Car:\n",
    "    name = 'car1'\n",
    "    \n",
    "    def __init__(self, name=None):\n",
    "        self.name = name\n",
    "        \n",
    "obj1 = Car('Honda')\n",
    "print(\"%s name is %s\" % (Car.name, obj1.name))\n",
    "\n"
   ]
  },
  {
   "cell_type": "code",
   "execution_count": 65,
   "id": "ea91c7f7",
   "metadata": {},
   "outputs": [],
   "source": [
    "toyota=Car()\n"
   ]
  },
  {
   "cell_type": "code",
   "execution_count": null,
   "id": "e5edeb98",
   "metadata": {},
   "outputs": [],
   "source": [
    "toyota.name=\"Toyota\"\n",
    "print(\"%s name is %s\"%(Car.name,toyota.name))"
   ]
  },
  {
   "cell_type": "code",
   "execution_count": 67,
   "id": "6e77ef92",
   "metadata": {},
   "outputs": [],
   "source": [
    "toyota.name = 'Toyota'"
   ]
  },
  {
   "cell_type": "code",
   "execution_count": 68,
   "id": "d91cb50b",
   "metadata": {},
   "outputs": [
    {
     "data": {
      "text/plain": [
       "'Toyota'"
      ]
     },
     "execution_count": 68,
     "metadata": {},
     "output_type": "execute_result"
    }
   ],
   "source": [
    "toyota.name"
   ]
  },
  {
   "cell_type": "code",
   "execution_count": 69,
   "id": "e26d74b8",
   "metadata": {},
   "outputs": [
    {
     "name": "stdout",
     "output_type": "stream",
     "text": [
      "car1 name is Toyota\n"
     ]
    }
   ],
   "source": [
    "print(\"%s name is %s\"%(Car.name,toyota.name))"
   ]
  },
  {
   "cell_type": "code",
   "execution_count": 70,
   "id": "c0fec95a",
   "metadata": {},
   "outputs": [],
   "source": [
    "#26"
   ]
  },
  {
   "cell_type": "code",
   "execution_count": 72,
   "id": "8a89c818",
   "metadata": {},
   "outputs": [],
   "source": [
    "def summation(a,b):\n",
    "    return a+b"
   ]
  },
  {
   "cell_type": "code",
   "execution_count": 73,
   "id": "511299b7",
   "metadata": {},
   "outputs": [
    {
     "data": {
      "text/plain": [
       "11"
      ]
     },
     "execution_count": 73,
     "metadata": {},
     "output_type": "execute_result"
    }
   ],
   "source": [
    "summation(5,6)"
   ]
  },
  {
   "cell_type": "code",
   "execution_count": 75,
   "id": "02b47f8f",
   "metadata": {},
   "outputs": [
    {
     "data": {
      "text/plain": [
       "11"
      ]
     },
     "execution_count": 75,
     "metadata": {},
     "output_type": "execute_result"
    }
   ],
   "source": [
    "(lambda a,b:a+b)(5,6)"
   ]
  },
  {
   "cell_type": "code",
   "execution_count": 76,
   "id": "37b21d7d",
   "metadata": {},
   "outputs": [],
   "source": [
    "s1 =(lambda a,b:a+b)"
   ]
  },
  {
   "cell_type": "code",
   "execution_count": 77,
   "id": "fea18ec4",
   "metadata": {},
   "outputs": [
    {
     "data": {
      "text/plain": [
       "11"
      ]
     },
     "execution_count": 77,
     "metadata": {},
     "output_type": "execute_result"
    }
   ],
   "source": [
    "s1(5,6)"
   ]
  },
  {
   "cell_type": "code",
   "execution_count": 84,
   "id": "b905c564",
   "metadata": {},
   "outputs": [],
   "source": [
    "def strconv(n):\n",
    "    return str(n)"
   ]
  },
  {
   "cell_type": "code",
   "execution_count": 85,
   "id": "896878bf",
   "metadata": {},
   "outputs": [],
   "source": [
    "d = strconv(56)"
   ]
  },
  {
   "cell_type": "code",
   "execution_count": 86,
   "id": "ec83ca49",
   "metadata": {},
   "outputs": [
    {
     "data": {
      "text/plain": [
       "'56'"
      ]
     },
     "execution_count": 86,
     "metadata": {},
     "output_type": "execute_result"
    }
   ],
   "source": [
    "d"
   ]
  },
  {
   "cell_type": "code",
   "execution_count": 88,
   "id": "13d1e8c3",
   "metadata": {},
   "outputs": [
    {
     "data": {
      "text/plain": [
       "str"
      ]
     },
     "execution_count": 88,
     "metadata": {},
     "output_type": "execute_result"
    }
   ],
   "source": [
    "type(d)"
   ]
  },
  {
   "cell_type": "code",
   "execution_count": 90,
   "id": "13c49099",
   "metadata": {},
   "outputs": [],
   "source": [
    "d = lambda x:str(x)"
   ]
  },
  {
   "cell_type": "code",
   "execution_count": 92,
   "id": "612fa462",
   "metadata": {},
   "outputs": [
    {
     "data": {
      "text/plain": [
       "str"
      ]
     },
     "execution_count": 92,
     "metadata": {},
     "output_type": "execute_result"
    }
   ],
   "source": [
    "type(d(6))"
   ]
  },
  {
   "cell_type": "code",
   "execution_count": 93,
   "id": "eae51e68",
   "metadata": {},
   "outputs": [],
   "source": [
    "def ints(s1,s2):\n",
    "    return int(s1) + int(s2)\n",
    "    "
   ]
  },
  {
   "cell_type": "code",
   "execution_count": 95,
   "id": "c19265d9",
   "metadata": {},
   "outputs": [
    {
     "data": {
      "text/plain": [
       "11"
      ]
     },
     "execution_count": 95,
     "metadata": {},
     "output_type": "execute_result"
    }
   ],
   "source": [
    "ints('5','6')"
   ]
  },
  {
   "cell_type": "code",
   "execution_count": 96,
   "id": "919e7554",
   "metadata": {},
   "outputs": [],
   "source": [
    "s = lambda s1, s2: int(s1) + int(s2)"
   ]
  },
  {
   "cell_type": "code",
   "execution_count": 98,
   "id": "893565a8",
   "metadata": {},
   "outputs": [
    {
     "data": {
      "text/plain": [
       "11"
      ]
     },
     "execution_count": 98,
     "metadata": {},
     "output_type": "execute_result"
    }
   ],
   "source": [
    "s('8', '3')"
   ]
  },
  {
   "cell_type": "code",
   "execution_count": 99,
   "id": "99aefa26",
   "metadata": {},
   "outputs": [],
   "source": [
    "def stringacc(s1,s2):\n",
    "    return s1+s2"
   ]
  },
  {
   "cell_type": "code",
   "execution_count": 101,
   "id": "40e46d2e",
   "metadata": {},
   "outputs": [
    {
     "data": {
      "text/plain": [
       "'sanjay sharma'"
      ]
     },
     "execution_count": 101,
     "metadata": {},
     "output_type": "execute_result"
    }
   ],
   "source": [
    "stringacc('sanjay ' , 'sharma')"
   ]
  },
  {
   "cell_type": "code",
   "execution_count": 103,
   "id": "300dde40",
   "metadata": {},
   "outputs": [
    {
     "data": {
      "text/plain": [
       "'45369'"
      ]
     },
     "execution_count": 103,
     "metadata": {},
     "output_type": "execute_result"
    }
   ],
   "source": [
    "(lambda s1,s2: s1+s2)('45', '369')"
   ]
  },
  {
   "cell_type": "code",
   "execution_count": 104,
   "id": "41ba7a38",
   "metadata": {},
   "outputs": [],
   "source": [
    "def lengthchek(s1, s2):\n",
    "    s1len =  len(s1)\n",
    "    s2len = len(s2)\n",
    "    if s1len>s2len:\n",
    "        print(s1)\n",
    "        \n",
    "    elif s1len<s2len:\n",
    "        print(s2)\n",
    "        \n",
    "    else:\n",
    "        print(s1)\n",
    "        print(s2)"
   ]
  },
  {
   "cell_type": "code",
   "execution_count": 105,
   "id": "da7bd0ff",
   "metadata": {},
   "outputs": [
    {
     "name": "stdout",
     "output_type": "stream",
     "text": [
      "Three\n"
     ]
    }
   ],
   "source": [
    "lengthchek('one', 'Three')"
   ]
  },
  {
   "cell_type": "code",
   "execution_count": 106,
   "id": "455823bb",
   "metadata": {},
   "outputs": [
    {
     "name": "stdout",
     "output_type": "stream",
     "text": [
      "two\n",
      "mat\n"
     ]
    }
   ],
   "source": [
    "lengthchek('two', 'mat')"
   ]
  },
  {
   "cell_type": "code",
   "execution_count": 107,
   "id": "1cae8d53",
   "metadata": {},
   "outputs": [
    {
     "name": "stdout",
     "output_type": "stream",
     "text": [
      "forty\n"
     ]
    }
   ],
   "source": [
    "lengthchek('forty', \"ten\")"
   ]
  },
  {
   "cell_type": "code",
   "execution_count": 122,
   "id": "f163f0be",
   "metadata": {},
   "outputs": [
    {
     "name": "stdout",
     "output_type": "stream",
     "text": [
      "ten ten\n"
     ]
    }
   ],
   "source": [
    "s1, s2  =input().split()"
   ]
  },
  {
   "cell_type": "code",
   "execution_count": 123,
   "id": "d3b7e732",
   "metadata": {},
   "outputs": [
    {
     "data": {
      "text/plain": [
       "'ten'"
      ]
     },
     "execution_count": 123,
     "metadata": {},
     "output_type": "execute_result"
    }
   ],
   "source": [
    "s1"
   ]
  },
  {
   "cell_type": "code",
   "execution_count": 124,
   "id": "6cd266a0",
   "metadata": {},
   "outputs": [
    {
     "data": {
      "text/plain": [
       "'ten'"
      ]
     },
     "execution_count": 124,
     "metadata": {},
     "output_type": "execute_result"
    }
   ],
   "source": [
    "s2"
   ]
  },
  {
   "cell_type": "code",
   "execution_count": 127,
   "id": "d9ab4e4a",
   "metadata": {},
   "outputs": [],
   "source": [
    "conv = lambda s1,s2: print(max(s1,s2, key=len)) if len(s1) != len(s2) else print(s1+ '/n' +s2)"
   ]
  },
  {
   "cell_type": "code",
   "execution_count": 128,
   "id": "6e900634",
   "metadata": {},
   "outputs": [
    {
     "name": "stdout",
     "output_type": "stream",
     "text": [
      "ten/nten\n"
     ]
    }
   ],
   "source": [
    "conv(s1,s2)"
   ]
  },
  {
   "cell_type": "code",
   "execution_count": 129,
   "id": "f24f0531",
   "metadata": {},
   "outputs": [],
   "source": [
    "#31"
   ]
  },
  {
   "cell_type": "code",
   "execution_count": 130,
   "id": "9d1be766",
   "metadata": {},
   "outputs": [],
   "source": [
    "def dictcreation(v):\n",
    "    return {i:i**2 for i in v}"
   ]
  },
  {
   "cell_type": "code",
   "execution_count": 131,
   "id": "66a52dc0",
   "metadata": {},
   "outputs": [
    {
     "data": {
      "text/plain": [
       "{1: 1,\n",
       " 2: 4,\n",
       " 3: 9,\n",
       " 4: 16,\n",
       " 5: 25,\n",
       " 6: 36,\n",
       " 7: 49,\n",
       " 8: 64,\n",
       " 9: 81,\n",
       " 10: 100,\n",
       " 11: 121,\n",
       " 12: 144,\n",
       " 13: 169,\n",
       " 14: 196,\n",
       " 15: 225,\n",
       " 16: 256,\n",
       " 17: 289,\n",
       " 18: 324,\n",
       " 19: 361,\n",
       " 20: 400}"
      ]
     },
     "execution_count": 131,
     "metadata": {},
     "output_type": "execute_result"
    }
   ],
   "source": [
    "dictcreation(list(range(1,21)))"
   ]
  },
  {
   "cell_type": "code",
   "execution_count": 132,
   "id": "1760b245",
   "metadata": {},
   "outputs": [],
   "source": [
    "def printvalues():\n",
    "    d = {}\n",
    "    for i in range(1,21):\n",
    "        d[i] =  i**2\n",
    "    return d"
   ]
  },
  {
   "cell_type": "code",
   "execution_count": 133,
   "id": "f4e6c4df",
   "metadata": {},
   "outputs": [
    {
     "data": {
      "text/plain": [
       "{1: 1,\n",
       " 2: 4,\n",
       " 3: 9,\n",
       " 4: 16,\n",
       " 5: 25,\n",
       " 6: 36,\n",
       " 7: 49,\n",
       " 8: 64,\n",
       " 9: 81,\n",
       " 10: 100,\n",
       " 11: 121,\n",
       " 12: 144,\n",
       " 13: 169,\n",
       " 14: 196,\n",
       " 15: 225,\n",
       " 16: 256,\n",
       " 17: 289,\n",
       " 18: 324,\n",
       " 19: 361,\n",
       " 20: 400}"
      ]
     },
     "execution_count": 133,
     "metadata": {},
     "output_type": "execute_result"
    }
   ],
   "source": [
    "printvalues()"
   ]
  },
  {
   "cell_type": "code",
   "execution_count": 137,
   "id": "6b575ce8",
   "metadata": {},
   "outputs": [],
   "source": [
    "def printvalues():\n",
    "    return {i:i**2 for i in range(1,21)}"
   ]
  },
  {
   "cell_type": "code",
   "execution_count": 138,
   "id": "24fdfc03",
   "metadata": {},
   "outputs": [
    {
     "data": {
      "text/plain": [
       "{1: 1,\n",
       " 2: 4,\n",
       " 3: 9,\n",
       " 4: 16,\n",
       " 5: 25,\n",
       " 6: 36,\n",
       " 7: 49,\n",
       " 8: 64,\n",
       " 9: 81,\n",
       " 10: 100,\n",
       " 11: 121,\n",
       " 12: 144,\n",
       " 13: 169,\n",
       " 14: 196,\n",
       " 15: 225,\n",
       " 16: 256,\n",
       " 17: 289,\n",
       " 18: 324,\n",
       " 19: 361,\n",
       " 20: 400}"
      ]
     },
     "execution_count": 138,
     "metadata": {},
     "output_type": "execute_result"
    }
   ],
   "source": [
    "printvalues()"
   ]
  },
  {
   "cell_type": "code",
   "execution_count": 141,
   "id": "db4e0a33",
   "metadata": {},
   "outputs": [],
   "source": [
    "def printvaluues():\n",
    "    d = {}\n",
    "    for i in range(1,21):\n",
    "        d[i] = i**2\n",
    "    return d.keys()"
   ]
  },
  {
   "cell_type": "code",
   "execution_count": 142,
   "id": "bad96b64",
   "metadata": {},
   "outputs": [
    {
     "data": {
      "text/plain": [
       "dict_keys([1, 2, 3, 4, 5, 6, 7, 8, 9, 10, 11, 12, 13, 14, 15, 16, 17, 18, 19, 20])"
      ]
     },
     "execution_count": 142,
     "metadata": {},
     "output_type": "execute_result"
    }
   ],
   "source": [
    "printvaluues()"
   ]
  },
  {
   "cell_type": "code",
   "execution_count": 144,
   "id": "91ffaf66",
   "metadata": {},
   "outputs": [
    {
     "name": "stdout",
     "output_type": "stream",
     "text": [
      "1\n",
      "2\n",
      "3\n",
      "4\n",
      "5\n",
      "6\n",
      "7\n",
      "8\n",
      "9\n",
      "10\n",
      "11\n",
      "12\n",
      "13\n",
      "14\n",
      "15\n",
      "16\n",
      "17\n",
      "18\n",
      "19\n",
      "20\n"
     ]
    }
   ],
   "source": [
    "def printDict():\n",
    "\td=dict()\n",
    "\tfor i in range(1,21):\n",
    "\t\td[i]=i**2\n",
    "\tfor k in d.keys():\n",
    "\t\tprint(k)\n",
    "printDict()"
   ]
  },
  {
   "cell_type": "code",
   "execution_count": 145,
   "id": "9fd21be1",
   "metadata": {},
   "outputs": [],
   "source": [
    "def printkeys():\n",
    "    dictt = {i:i**2 for i in range(1,21)}\n",
    "    print(dictt.keys())"
   ]
  },
  {
   "cell_type": "code",
   "execution_count": 146,
   "id": "b0431f2d",
   "metadata": {},
   "outputs": [
    {
     "name": "stdout",
     "output_type": "stream",
     "text": [
      "dict_keys([1, 2, 3, 4, 5, 6, 7, 8, 9, 10, 11, 12, 13, 14, 15, 16, 17, 18, 19, 20])\n"
     ]
    }
   ],
   "source": [
    "printkeys()"
   ]
  },
  {
   "cell_type": "code",
   "execution_count": 150,
   "id": "e1d4980d",
   "metadata": {},
   "outputs": [],
   "source": [
    "def listvalues():\n",
    "    newlst = []\n",
    "    for i in range(1,21):\n",
    "        newlst.append(i**2)\n",
    "    return newlst"
   ]
  },
  {
   "cell_type": "code",
   "execution_count": 151,
   "id": "8b0e2140",
   "metadata": {},
   "outputs": [
    {
     "data": {
      "text/plain": [
       "[1,\n",
       " 4,\n",
       " 9,\n",
       " 16,\n",
       " 25,\n",
       " 36,\n",
       " 49,\n",
       " 64,\n",
       " 81,\n",
       " 100,\n",
       " 121,\n",
       " 144,\n",
       " 169,\n",
       " 196,\n",
       " 225,\n",
       " 256,\n",
       " 289,\n",
       " 324,\n",
       " 361,\n",
       " 400]"
      ]
     },
     "execution_count": 151,
     "metadata": {},
     "output_type": "execute_result"
    }
   ],
   "source": [
    "listvalues()"
   ]
  },
  {
   "cell_type": "code",
   "execution_count": 152,
   "id": "229fae64",
   "metadata": {},
   "outputs": [],
   "source": [
    "def lisvalues():\n",
    "    lst  = [i**2 for i in range(1,21)]\n",
    "    return lst"
   ]
  },
  {
   "cell_type": "code",
   "execution_count": 154,
   "id": "8748e70b",
   "metadata": {},
   "outputs": [
    {
     "data": {
      "text/plain": [
       "[1,\n",
       " 4,\n",
       " 9,\n",
       " 16,\n",
       " 25,\n",
       " 36,\n",
       " 49,\n",
       " 64,\n",
       " 81,\n",
       " 100,\n",
       " 121,\n",
       " 144,\n",
       " 169,\n",
       " 196,\n",
       " 225,\n",
       " 256,\n",
       " 289,\n",
       " 324,\n",
       " 361,\n",
       " 400]"
      ]
     },
     "execution_count": 154,
     "metadata": {},
     "output_type": "execute_result"
    }
   ],
   "source": [
    "lisvalues()"
   ]
  },
  {
   "cell_type": "code",
   "execution_count": 160,
   "id": "a5d705d2",
   "metadata": {},
   "outputs": [],
   "source": [
    "def printvalues():\n",
    "    lst  = [i**2 for i in range(1,21)]\n",
    "    return lst[0:5]"
   ]
  },
  {
   "cell_type": "code",
   "execution_count": 161,
   "id": "9b818ae8",
   "metadata": {},
   "outputs": [
    {
     "data": {
      "text/plain": [
       "[1, 4, 9, 16, 25]"
      ]
     },
     "execution_count": 161,
     "metadata": {},
     "output_type": "execute_result"
    }
   ],
   "source": [
    "printvalues()"
   ]
  },
  {
   "cell_type": "code",
   "execution_count": 163,
   "id": "70ef58df",
   "metadata": {},
   "outputs": [],
   "source": [
    "def listsquare(n):\n",
    "    lst = [i**2 for i in range(1,n+1)]\n",
    "    return lst[:5]"
   ]
  },
  {
   "cell_type": "code",
   "execution_count": 166,
   "id": "f38f1187",
   "metadata": {},
   "outputs": [
    {
     "data": {
      "text/plain": [
       "[1, 4, 9, 16, 25]"
      ]
     },
     "execution_count": 166,
     "metadata": {},
     "output_type": "execute_result"
    }
   ],
   "source": [
    "listsquare(20)"
   ]
  },
  {
   "cell_type": "code",
   "execution_count": 169,
   "id": "b8df6bd8",
   "metadata": {},
   "outputs": [],
   "source": [
    "def listsquarevalues(n):\n",
    "    lst = [i**2 for i in range(1,n+1)]\n",
    "    return lst[-5:]"
   ]
  },
  {
   "cell_type": "code",
   "execution_count": 170,
   "id": "badf3c4c",
   "metadata": {},
   "outputs": [
    {
     "data": {
      "text/plain": [
       "[256, 289, 324, 361, 400]"
      ]
     },
     "execution_count": 170,
     "metadata": {},
     "output_type": "execute_result"
    }
   ],
   "source": [
    "listsquarevalues(20)"
   ]
  },
  {
   "cell_type": "code",
   "execution_count": 171,
   "id": "e889bf3e",
   "metadata": {},
   "outputs": [],
   "source": [
    "def listsquarevalues(n):\n",
    "    lst = [i**2 for i in range(1,n+1)]\n",
    "    return lst[5:]"
   ]
  },
  {
   "cell_type": "code",
   "execution_count": 172,
   "id": "5a7003d8",
   "metadata": {},
   "outputs": [
    {
     "data": {
      "text/plain": [
       "[36, 49, 64, 81, 100, 121, 144, 169, 196, 225, 256, 289, 324, 361, 400]"
      ]
     },
     "execution_count": 172,
     "metadata": {},
     "output_type": "execute_result"
    }
   ],
   "source": [
    "\n",
    "listsquarevalues(20)"
   ]
  },
  {
   "cell_type": "code",
   "execution_count": 175,
   "id": "d2b79604",
   "metadata": {},
   "outputs": [],
   "source": [
    "def tuplegen(n):\n",
    "    lst =  [i**2 for i in range(1,n+1)]\n",
    "    return tuple(lst)"
   ]
  },
  {
   "cell_type": "code",
   "execution_count": 176,
   "id": "f636b3fa",
   "metadata": {},
   "outputs": [
    {
     "data": {
      "text/plain": [
       "(1,\n",
       " 4,\n",
       " 9,\n",
       " 16,\n",
       " 25,\n",
       " 36,\n",
       " 49,\n",
       " 64,\n",
       " 81,\n",
       " 100,\n",
       " 121,\n",
       " 144,\n",
       " 169,\n",
       " 196,\n",
       " 225,\n",
       " 256,\n",
       " 289,\n",
       " 324,\n",
       " 361,\n",
       " 400)"
      ]
     },
     "execution_count": 176,
     "metadata": {},
     "output_type": "execute_result"
    }
   ],
   "source": [
    "\n",
    "tuplegen(20)"
   ]
  },
  {
   "cell_type": "code",
   "execution_count": 179,
   "id": "2defa6fb",
   "metadata": {},
   "outputs": [],
   "source": [
    "def directtuple(n):\n",
    "    return tuple(i**2 for i in range(1,n+1))"
   ]
  },
  {
   "cell_type": "code",
   "execution_count": 180,
   "id": "9af223f2",
   "metadata": {},
   "outputs": [
    {
     "data": {
      "text/plain": [
       "(1,\n",
       " 4,\n",
       " 9,\n",
       " 16,\n",
       " 25,\n",
       " 36,\n",
       " 49,\n",
       " 64,\n",
       " 81,\n",
       " 100,\n",
       " 121,\n",
       " 144,\n",
       " 169,\n",
       " 196,\n",
       " 225,\n",
       " 256,\n",
       " 289,\n",
       " 324,\n",
       " 361,\n",
       " 400)"
      ]
     },
     "execution_count": 180,
     "metadata": {},
     "output_type": "execute_result"
    }
   ],
   "source": [
    "directtuple(20)"
   ]
  },
  {
   "cell_type": "code",
   "execution_count": 189,
   "id": "6e5a7da9",
   "metadata": {},
   "outputs": [],
   "source": [
    "tuple1 = (1,2,3,4,5,6,7,8,9,10)"
   ]
  },
  {
   "cell_type": "code",
   "execution_count": 185,
   "id": "431bd649",
   "metadata": {},
   "outputs": [],
   "source": [
    "t1 = tuple1[:5]"
   ]
  },
  {
   "cell_type": "code",
   "execution_count": 187,
   "id": "f0a6e164",
   "metadata": {},
   "outputs": [],
   "source": [
    "t2 = tuple1[5:]"
   ]
  },
  {
   "cell_type": "code",
   "execution_count": 188,
   "id": "ce2992d0",
   "metadata": {},
   "outputs": [
    {
     "name": "stdout",
     "output_type": "stream",
     "text": [
      "(1, 2, 3, 4, 5)\n",
      "(6, 7, 8, 9, 10)\n"
     ]
    }
   ],
   "source": [
    "print(t1)\n",
    "print(t2)"
   ]
  },
  {
   "cell_type": "code",
   "execution_count": 194,
   "id": "335ce079",
   "metadata": {},
   "outputs": [
    {
     "name": "stdout",
     "output_type": "stream",
     "text": [
      "1 2 3 4 5 \n",
      "6 7 8 9 10 "
     ]
    }
   ],
   "source": [
    "for i in range(0,5):\n",
    "    print(tuple1[i], end=\" \")\n",
    "print()\n",
    "    \n",
    "for i in range(5,10):\n",
    "    print(tuple1[i], end=\" \")"
   ]
  },
  {
   "cell_type": "code",
   "execution_count": 200,
   "id": "b82846c3",
   "metadata": {},
   "outputs": [
    {
     "name": "stdout",
     "output_type": "stream",
     "text": [
      "[1, 2, 3, 4, 5]\n",
      "[6, 7, 8, 9, 10]\n"
     ]
    }
   ],
   "source": [
    "l1 = []\n",
    "l2 = []\n",
    "for i in range(0,5):\n",
    "    l1.append(tuple1[i])\n",
    "    \n",
    "for i in range(5,10):\n",
    "    l2.append(tuple1[i])\n",
    "    \n",
    "print(l1)\n",
    "print(l2)\n",
    "    "
   ]
  },
  {
   "cell_type": "code",
   "execution_count": 210,
   "id": "005c4e88",
   "metadata": {},
   "outputs": [],
   "source": [
    " tuple2 =  (1,2,3,4,5,6,7,8,9,10)"
   ]
  },
  {
   "cell_type": "code",
   "execution_count": 211,
   "id": "18d861c6",
   "metadata": {},
   "outputs": [
    {
     "data": {
      "text/plain": [
       "(1, 2, 3, 4, 5, 6, 7, 8, 9, 10)"
      ]
     },
     "execution_count": 211,
     "metadata": {},
     "output_type": "execute_result"
    }
   ],
   "source": [
    "tuple2"
   ]
  },
  {
   "cell_type": "code",
   "execution_count": 207,
   "id": "414a124b",
   "metadata": {},
   "outputs": [],
   "source": [
    "def enevntuple(t1):\n",
    "    lst = []\n",
    "    for i in range(1,len(t1),2):\n",
    "        lst.append(t1[i])\n",
    "    return lst\n",
    "        "
   ]
  },
  {
   "cell_type": "code",
   "execution_count": 208,
   "id": "a1965ac3",
   "metadata": {},
   "outputs": [
    {
     "data": {
      "text/plain": [
       "[2, 4, 6, 8, 10]"
      ]
     },
     "execution_count": 208,
     "metadata": {},
     "output_type": "execute_result"
    }
   ],
   "source": [
    "enevntuple(tuple2)"
   ]
  },
  {
   "cell_type": "code",
   "execution_count": 213,
   "id": "4eb0a731",
   "metadata": {},
   "outputs": [
    {
     "data": {
      "text/plain": [
       "(2, 4, 6, 8, 10)"
      ]
     },
     "execution_count": 213,
     "metadata": {},
     "output_type": "execute_result"
    }
   ],
   "source": [
    "tuple(i for i in tuple2 if i%2==0)"
   ]
  },
  {
   "cell_type": "code",
   "execution_count": 218,
   "id": "d203324e",
   "metadata": {},
   "outputs": [
    {
     "data": {
      "text/plain": [
       "(2, 4, 6, 8, 10)"
      ]
     },
     "execution_count": 218,
     "metadata": {},
     "output_type": "execute_result"
    }
   ],
   "source": [
    "tuple(filter(lambda x: x%2==0, tuple2))"
   ]
  },
  {
   "cell_type": "code",
   "execution_count": 219,
   "id": "95260b49",
   "metadata": {},
   "outputs": [],
   "source": [
    "def printvalue(s1):\n",
    "    if s1 in [\"YES\", 'Yes', 'yes']:\n",
    "        print('YES')\n",
    "    else:\n",
    "        print('NO')"
   ]
  },
  {
   "cell_type": "code",
   "execution_count": 224,
   "id": "338431bf",
   "metadata": {},
   "outputs": [
    {
     "name": "stdout",
     "output_type": "stream",
     "text": [
      "NO\n"
     ]
    }
   ],
   "source": [
    "printvalue('YeS')"
   ]
  },
  {
   "cell_type": "code",
   "execution_count": 233,
   "id": "27d2a415",
   "metadata": {},
   "outputs": [
    {
     "name": "stdout",
     "output_type": "stream",
     "text": [
      "enter any string:YeS\n"
     ]
    }
   ],
   "source": [
    "s1 = input('enter any string:', )"
   ]
  },
  {
   "cell_type": "code",
   "execution_count": 236,
   "id": "6b451a3d",
   "metadata": {},
   "outputs": [],
   "source": [
    "out = \" \".join(['YES' if s1=='YES' or s1=='Yes' or s1=='yes' else 'NO'])"
   ]
  },
  {
   "cell_type": "code",
   "execution_count": 237,
   "id": "11dbb04a",
   "metadata": {},
   "outputs": [
    {
     "name": "stdout",
     "output_type": "stream",
     "text": [
      "NO\n"
     ]
    }
   ],
   "source": [
    "print(out)"
   ]
  },
  {
   "cell_type": "code",
   "execution_count": 239,
   "id": "3e6ff99f",
   "metadata": {},
   "outputs": [],
   "source": [
    "l1 = [1,2,3,4,5,6,7,8,9,10]"
   ]
  },
  {
   "cell_type": "code",
   "execution_count": 242,
   "id": "2b48c857",
   "metadata": {},
   "outputs": [],
   "source": [
    "l2 = list(map(lambda x:x**2, l1))"
   ]
  },
  {
   "cell_type": "code",
   "execution_count": 243,
   "id": "b0f405dc",
   "metadata": {},
   "outputs": [
    {
     "data": {
      "text/plain": [
       "[1, 4, 9, 16, 25, 36, 49, 64, 81, 100]"
      ]
     },
     "execution_count": 243,
     "metadata": {},
     "output_type": "execute_result"
    }
   ],
   "source": [
    "l2"
   ]
  },
  {
   "cell_type": "code",
   "execution_count": 244,
   "id": "4b28d23d",
   "metadata": {},
   "outputs": [],
   "source": [
    "def mapping(n):\n",
    "    return list(map(lambda x:x**2, n))\n",
    "    "
   ]
  },
  {
   "cell_type": "code",
   "execution_count": 245,
   "id": "96ab795b",
   "metadata": {},
   "outputs": [
    {
     "data": {
      "text/plain": [
       "[1, 4, 9, 16, 25, 36, 49, 64, 81, 100]"
      ]
     },
     "execution_count": 245,
     "metadata": {},
     "output_type": "execute_result"
    }
   ],
   "source": [
    "mapping(l1)"
   ]
  },
  {
   "cell_type": "code",
   "execution_count": 247,
   "id": "cf69c3ac",
   "metadata": {},
   "outputs": [],
   "source": [
    "l1 = [1,2,3,4,5,6,7,8,9,10]"
   ]
  },
  {
   "cell_type": "code",
   "execution_count": 248,
   "id": "b7f95909",
   "metadata": {},
   "outputs": [],
   "source": [
    "def mapfiler(l):\n",
    "    l2 = list(filter(lambda x: x%2==0, l))\n",
    "    l3 = list(map(lambda x:x**2, l2))\n",
    "    return l3"
   ]
  },
  {
   "cell_type": "code",
   "execution_count": 249,
   "id": "f98b66e7",
   "metadata": {},
   "outputs": [
    {
     "data": {
      "text/plain": [
       "[4, 16, 36, 64, 100]"
      ]
     },
     "execution_count": 249,
     "metadata": {},
     "output_type": "execute_result"
    }
   ],
   "source": [
    "mapfiler(l1)"
   ]
  },
  {
   "cell_type": "code",
   "execution_count": 254,
   "id": "aa1eb2a5",
   "metadata": {},
   "outputs": [],
   "source": [
    "even_number = map(lambda x:x**2,filter(lambda x:x%2==0,l1))"
   ]
  },
  {
   "cell_type": "code",
   "execution_count": 256,
   "id": "09667881",
   "metadata": {},
   "outputs": [
    {
     "name": "stdout",
     "output_type": "stream",
     "text": [
      "[4, 16, 36, 64, 100]\n"
     ]
    }
   ],
   "source": [
    "print(list(even_number))"
   ]
  },
  {
   "cell_type": "code",
   "execution_count": 258,
   "id": "ed39e60d",
   "metadata": {},
   "outputs": [],
   "source": [
    "def filltering(n):\n",
    "    return list(filter(lambda x:x%2==0, [i for i in range(1,n+1)]))"
   ]
  },
  {
   "cell_type": "code",
   "execution_count": 259,
   "id": "8ddea3f4",
   "metadata": {},
   "outputs": [
    {
     "data": {
      "text/plain": [
       "[2, 4, 6, 8, 10, 12, 14, 16, 18, 20]"
      ]
     },
     "execution_count": 259,
     "metadata": {},
     "output_type": "execute_result"
    }
   ],
   "source": [
    "filltering(20)"
   ]
  },
  {
   "cell_type": "code",
   "execution_count": 260,
   "id": "137cbae3",
   "metadata": {},
   "outputs": [],
   "source": [
    "def filltering1(n):\n",
    "    return list(filter(lambda x:x%2==0, range(1,n+1)))"
   ]
  },
  {
   "cell_type": "code",
   "execution_count": 261,
   "id": "14da9a18",
   "metadata": {},
   "outputs": [
    {
     "data": {
      "text/plain": [
       "[2, 4, 6, 8, 10, 12, 14, 16, 18, 20]"
      ]
     },
     "execution_count": 261,
     "metadata": {},
     "output_type": "execute_result"
    }
   ],
   "source": [
    "filltering1(20)"
   ]
  },
  {
   "cell_type": "code",
   "execution_count": 262,
   "id": "3c2cf07c",
   "metadata": {},
   "outputs": [],
   "source": [
    "#44"
   ]
  },
  {
   "cell_type": "code",
   "execution_count": 264,
   "id": "4a368bd5",
   "metadata": {},
   "outputs": [
    {
     "data": {
      "text/plain": [
       "[1,\n",
       " 4,\n",
       " 9,\n",
       " 16,\n",
       " 25,\n",
       " 36,\n",
       " 49,\n",
       " 64,\n",
       " 81,\n",
       " 100,\n",
       " 121,\n",
       " 144,\n",
       " 169,\n",
       " 196,\n",
       " 225,\n",
       " 256,\n",
       " 289,\n",
       " 324,\n",
       " 361,\n",
       " 400]"
      ]
     },
     "execution_count": 264,
     "metadata": {},
     "output_type": "execute_result"
    }
   ],
   "source": [
    "list(map(lambda x:x**2, range(1,21)))"
   ]
  },
  {
   "cell_type": "code",
   "execution_count": 265,
   "id": "f96d9d68",
   "metadata": {},
   "outputs": [],
   "source": [
    "def square(x):\n",
    "    return x**2"
   ]
  },
  {
   "cell_type": "code",
   "execution_count": 267,
   "id": "9408cbbb",
   "metadata": {},
   "outputs": [
    {
     "data": {
      "text/plain": [
       "[1,\n",
       " 4,\n",
       " 9,\n",
       " 16,\n",
       " 25,\n",
       " 36,\n",
       " 49,\n",
       " 64,\n",
       " 81,\n",
       " 100,\n",
       " 121,\n",
       " 144,\n",
       " 169,\n",
       " 196,\n",
       " 225,\n",
       " 256,\n",
       " 289,\n",
       " 324,\n",
       " 361,\n",
       " 400]"
      ]
     },
     "execution_count": 267,
     "metadata": {},
     "output_type": "execute_result"
    }
   ],
   "source": [
    "list(map(square, range(1,21)))"
   ]
  },
  {
   "cell_type": "code",
   "execution_count": 287,
   "id": "a6acbd39",
   "metadata": {},
   "outputs": [],
   "source": [
    "class American():\n",
    "    @staticmethod\n",
    "    def natinality():\n",
    "        print('Natinality')"
   ]
  },
  {
   "cell_type": "code",
   "execution_count": 288,
   "id": "ab9d44bf",
   "metadata": {},
   "outputs": [],
   "source": [
    "obj1 = American()"
   ]
  },
  {
   "cell_type": "code",
   "execution_count": 289,
   "id": "20224d95",
   "metadata": {},
   "outputs": [
    {
     "name": "stdout",
     "output_type": "stream",
     "text": [
      "Natinality\n"
     ]
    }
   ],
   "source": [
    "obj1.natinality()"
   ]
  },
  {
   "cell_type": "code",
   "execution_count": 291,
   "id": "057d7179",
   "metadata": {},
   "outputs": [
    {
     "name": "stdout",
     "output_type": "stream",
     "text": [
      "Natinality\n"
     ]
    }
   ],
   "source": [
    "American.natinality()"
   ]
  },
  {
   "cell_type": "code",
   "execution_count": 292,
   "id": "6095fce1",
   "metadata": {},
   "outputs": [],
   "source": [
    "class American:\n",
    "    pass\n"
   ]
  },
  {
   "cell_type": "code",
   "execution_count": 293,
   "id": "9d18ac42",
   "metadata": {},
   "outputs": [],
   "source": [
    "class Newyorker(American):\n",
    "    pass"
   ]
  },
  {
   "cell_type": "code",
   "execution_count": 294,
   "id": "ad037c2c",
   "metadata": {},
   "outputs": [],
   "source": [
    "obj1 = American()"
   ]
  },
  {
   "cell_type": "code",
   "execution_count": 295,
   "id": "e4a4d43f",
   "metadata": {},
   "outputs": [],
   "source": [
    "obj2 = Newyorker()"
   ]
  },
  {
   "cell_type": "code",
   "execution_count": 296,
   "id": "c07d8c9f",
   "metadata": {},
   "outputs": [
    {
     "name": "stdout",
     "output_type": "stream",
     "text": [
      "<__main__.American object at 0x000001A73A4201C0>\n"
     ]
    }
   ],
   "source": [
    "print(obj1)"
   ]
  },
  {
   "cell_type": "code",
   "execution_count": 297,
   "id": "5f8fbaa9",
   "metadata": {},
   "outputs": [
    {
     "name": "stdout",
     "output_type": "stream",
     "text": [
      "<__main__.Newyorker object at 0x000001A7395350D0>\n"
     ]
    }
   ],
   "source": [
    "print(obj2)"
   ]
  },
  {
   "cell_type": "code",
   "execution_count": 299,
   "id": "4a86d3a4",
   "metadata": {},
   "outputs": [],
   "source": [
    "#47\n",
    "import numpy as np"
   ]
  },
  {
   "cell_type": "code",
   "execution_count": 305,
   "id": "90b71203",
   "metadata": {},
   "outputs": [],
   "source": [
    "class Circle:\n",
    "    def __init__(self, radius):\n",
    "        self.radius = radius\n",
    "    \n",
    "    def area(self):\n",
    "        return (np.pi)*(self.radius**2)"
   ]
  },
  {
   "cell_type": "code",
   "execution_count": 306,
   "id": "495cd205",
   "metadata": {},
   "outputs": [],
   "source": [
    "acircle = Circle(2)"
   ]
  },
  {
   "cell_type": "code",
   "execution_count": 307,
   "id": "6d75fb97",
   "metadata": {},
   "outputs": [
    {
     "data": {
      "text/plain": [
       "12.566370614359172"
      ]
     },
     "execution_count": 307,
     "metadata": {},
     "output_type": "execute_result"
    }
   ],
   "source": [
    "acircle.area()"
   ]
  },
  {
   "cell_type": "code",
   "execution_count": 308,
   "id": "6edb96f2",
   "metadata": {},
   "outputs": [
    {
     "data": {
      "text/plain": [
       "2"
      ]
     },
     "execution_count": 308,
     "metadata": {},
     "output_type": "execute_result"
    }
   ],
   "source": [
    "acircle.radius"
   ]
  },
  {
   "cell_type": "code",
   "execution_count": 309,
   "id": "9f7a5902",
   "metadata": {},
   "outputs": [],
   "source": [
    "class Rectagle:\n",
    "    def __init__(self, length , width):\n",
    "        self.length = length\n",
    "        self.width = width\n",
    "        \n",
    "    def area(self):\n",
    "        return (self.length)*(self.width)"
   ]
  },
  {
   "cell_type": "code",
   "execution_count": 311,
   "id": "354e92b7",
   "metadata": {},
   "outputs": [],
   "source": [
    "rect = Rectagle(2,10)"
   ]
  },
  {
   "cell_type": "code",
   "execution_count": 313,
   "id": "9682fbb4",
   "metadata": {},
   "outputs": [
    {
     "data": {
      "text/plain": [
       "20"
      ]
     },
     "execution_count": 313,
     "metadata": {},
     "output_type": "execute_result"
    }
   ],
   "source": [
    "rect.area()"
   ]
  },
  {
   "cell_type": "code",
   "execution_count": 336,
   "id": "ec04c18a",
   "metadata": {},
   "outputs": [],
   "source": [
    "class Shape:\n",
    "    def __init__(self):\n",
    "        pass\n",
    "    \n",
    "    def area1(self):\n",
    "        return 0"
   ]
  },
  {
   "cell_type": "code",
   "execution_count": 337,
   "id": "71b81427",
   "metadata": {},
   "outputs": [],
   "source": [
    "class Square(Shape):\n",
    "    def __init__(self,length):\n",
    "        Shape.__init__(self)\n",
    "        self.length = length\n",
    "    \n",
    "    def area(self):\n",
    "        return (self.length)*(self.length)\n",
    "    "
   ]
  },
  {
   "cell_type": "code",
   "execution_count": 338,
   "id": "43bf14e0",
   "metadata": {},
   "outputs": [],
   "source": [
    "sq1 = Square(3)"
   ]
  },
  {
   "cell_type": "code",
   "execution_count": 339,
   "id": "1fe19ca3",
   "metadata": {},
   "outputs": [
    {
     "data": {
      "text/plain": [
       "9"
      ]
     },
     "execution_count": 339,
     "metadata": {},
     "output_type": "execute_result"
    }
   ],
   "source": [
    "sq1.area()"
   ]
  },
  {
   "cell_type": "code",
   "execution_count": 340,
   "id": "ad41b396",
   "metadata": {},
   "outputs": [],
   "source": [
    "sh1 = Shape()"
   ]
  },
  {
   "cell_type": "code",
   "execution_count": 341,
   "id": "428f9e12",
   "metadata": {},
   "outputs": [
    {
     "data": {
      "text/plain": [
       "25"
      ]
     },
     "execution_count": 341,
     "metadata": {},
     "output_type": "execute_result"
    }
   ],
   "source": [
    "Square(5).area()"
   ]
  },
  {
   "cell_type": "code",
   "execution_count": 342,
   "id": "1864330a",
   "metadata": {},
   "outputs": [
    {
     "ename": "TypeError",
     "evalue": "__init__() missing 1 required positional argument: 'length'",
     "output_type": "error",
     "traceback": [
      "\u001b[1;31m---------------------------------------------------------------------------\u001b[0m",
      "\u001b[1;31mTypeError\u001b[0m                                 Traceback (most recent call last)",
      "Input \u001b[1;32mIn [342]\u001b[0m, in \u001b[0;36m<cell line: 1>\u001b[1;34m()\u001b[0m\n\u001b[1;32m----> 1\u001b[0m \u001b[38;5;28mprint\u001b[39m(\u001b[43mSquare\u001b[49m\u001b[43m(\u001b[49m\u001b[43m)\u001b[49m\u001b[38;5;241m.\u001b[39marea())\n",
      "\u001b[1;31mTypeError\u001b[0m: __init__() missing 1 required positional argument: 'length'"
     ]
    }
   ],
   "source": [
    "print(Square().area())"
   ]
  },
  {
   "cell_type": "code",
   "execution_count": 346,
   "id": "aaaf4118",
   "metadata": {},
   "outputs": [
    {
     "data": {
      "text/plain": [
       "9"
      ]
     },
     "execution_count": 346,
     "metadata": {},
     "output_type": "execute_result"
    }
   ],
   "source": [
    "sq1.area()"
   ]
  },
  {
   "cell_type": "code",
   "execution_count": 348,
   "id": "95bd281d",
   "metadata": {},
   "outputs": [
    {
     "ename": "RuntimeError",
     "evalue": "something wrong",
     "output_type": "error",
     "traceback": [
      "\u001b[1;31m---------------------------------------------------------------------------\u001b[0m",
      "\u001b[1;31mRuntimeError\u001b[0m                              Traceback (most recent call last)",
      "Input \u001b[1;32mIn [348]\u001b[0m, in \u001b[0;36m<cell line: 1>\u001b[1;34m()\u001b[0m\n\u001b[1;32m----> 1\u001b[0m \u001b[38;5;28;01mraise\u001b[39;00m \u001b[38;5;167;01mRuntimeError\u001b[39;00m(\u001b[38;5;124m'\u001b[39m\u001b[38;5;124msomething wrong\u001b[39m\u001b[38;5;124m'\u001b[39m)\n",
      "\u001b[1;31mRuntimeError\u001b[0m: something wrong"
     ]
    }
   ],
   "source": [
    "raise RuntimeError('something wrong')"
   ]
  },
  {
   "cell_type": "code",
   "execution_count": 349,
   "id": "3274105a",
   "metadata": {},
   "outputs": [],
   "source": [
    "#51"
   ]
  },
  {
   "cell_type": "code",
   "execution_count": 353,
   "id": "209d7315",
   "metadata": {},
   "outputs": [],
   "source": [
    "def zerodivison(n):\n",
    "    try:\n",
    "        n/0\n",
    "        \n",
    "    except Exception as e:\n",
    "        print(e)"
   ]
  },
  {
   "cell_type": "code",
   "execution_count": 354,
   "id": "f671a3cc",
   "metadata": {},
   "outputs": [
    {
     "name": "stdout",
     "output_type": "stream",
     "text": [
      "division by zero\n"
     ]
    }
   ],
   "source": [
    "zerodivison(5)"
   ]
  },
  {
   "cell_type": "code",
   "execution_count": 355,
   "id": "7bc4f36b",
   "metadata": {},
   "outputs": [],
   "source": [
    "def zerd():\n",
    "    return 5/0"
   ]
  },
  {
   "cell_type": "code",
   "execution_count": 356,
   "id": "3b396231",
   "metadata": {},
   "outputs": [
    {
     "name": "stdout",
     "output_type": "stream",
     "text": [
      "division by zero\n",
      "you can not stop me\n"
     ]
    }
   ],
   "source": [
    "try:\n",
    "    zerd()\n",
    "except ZeroDivisionError as e:\n",
    "    print(e)\n",
    "except Exception as err:\n",
    "    print('any other error')\n",
    "finally:\n",
    "    print('you can not stop me')"
   ]
  },
  {
   "cell_type": "code",
   "execution_count": 357,
   "id": "78879555",
   "metadata": {},
   "outputs": [],
   "source": [
    "class Myerror(Exception):\n",
    "    \"\"\"my own exception class\n",
    "    attributes:msg:explantion of error\n",
    "    \"\"\"\n",
    "    def __init__(self,msg):\n",
    "        self.msg = msg\n",
    "        \n",
    "    \n",
    "        "
   ]
  },
  {
   "cell_type": "code",
   "execution_count": 360,
   "id": "d60a7ea0",
   "metadata": {},
   "outputs": [],
   "source": [
    "obj = Myerror('something wrong')"
   ]
  },
  {
   "cell_type": "code",
   "execution_count": 361,
   "id": "54188a6e",
   "metadata": {},
   "outputs": [
    {
     "data": {
      "text/plain": [
       "'something wrong'"
      ]
     },
     "execution_count": 361,
     "metadata": {},
     "output_type": "execute_result"
    }
   ],
   "source": [
    "obj.msg"
   ]
  },
  {
   "cell_type": "code",
   "execution_count": 377,
   "id": "0a469516",
   "metadata": {},
   "outputs": [],
   "source": [
    "class CustomException(Exception):\n",
    "    \"\"\"custom exception\n",
    "    attribute:message:explanation of error\n",
    "    \"\"\"\n",
    "    def __init__(self, message):\n",
    "        self.message = message\n",
    "        \n",
    "        "
   ]
  },
  {
   "cell_type": "code",
   "execution_count": 378,
   "id": "84cee2f9",
   "metadata": {},
   "outputs": [],
   "source": [
    "o1 = CustomException('error occured')"
   ]
  },
  {
   "cell_type": "code",
   "execution_count": 379,
   "id": "e0b18755",
   "metadata": {},
   "outputs": [
    {
     "data": {
      "text/plain": [
       "'error occured'"
      ]
     },
     "execution_count": 379,
     "metadata": {},
     "output_type": "execute_result"
    }
   ],
   "source": [
    "o1.message"
   ]
  },
  {
   "cell_type": "code",
   "execution_count": 384,
   "id": "cde14e5b",
   "metadata": {},
   "outputs": [
    {
     "name": "stdout",
     "output_type": "stream",
     "text": [
      "0\n"
     ]
    }
   ],
   "source": [
    "num = int(input())"
   ]
  },
  {
   "cell_type": "code",
   "execution_count": 385,
   "id": "49d953f4",
   "metadata": {},
   "outputs": [
    {
     "name": "stdout",
     "output_type": "stream",
     "text": [
      "error occured: the value is less than 10\n"
     ]
    }
   ],
   "source": [
    "try:    \n",
    "    if num<10:\n",
    "        raise CustomException('the value is less than 10')\n",
    "    elif num>10:\n",
    "        raise CustomException('The value is greater than 10')\n",
    "except CustomException as err:\n",
    "    print('error occured:', err.message)\n"
   ]
  },
  {
   "cell_type": "code",
   "execution_count": 386,
   "id": "45a2de04",
   "metadata": {},
   "outputs": [],
   "source": [
    "email = \"john@google.com\""
   ]
  },
  {
   "cell_type": "code",
   "execution_count": 390,
   "id": "73d151b8",
   "metadata": {},
   "outputs": [],
   "source": [
    "username = email.split('@')[0]"
   ]
  },
  {
   "cell_type": "code",
   "execution_count": 391,
   "id": "3d797216",
   "metadata": {},
   "outputs": [
    {
     "name": "stdout",
     "output_type": "stream",
     "text": [
      "john\n"
     ]
    }
   ],
   "source": [
    "print(username\n",
    "     )"
   ]
  },
  {
   "cell_type": "code",
   "execution_count": 396,
   "id": "73a7b1dd",
   "metadata": {},
   "outputs": [],
   "source": [
    "company_name = email.split('@')[1].split('.')[0]"
   ]
  },
  {
   "cell_type": "code",
   "execution_count": 397,
   "id": "26f24344",
   "metadata": {},
   "outputs": [
    {
     "data": {
      "text/plain": [
       "'google'"
      ]
     },
     "execution_count": 397,
     "metadata": {},
     "output_type": "execute_result"
    }
   ],
   "source": [
    "company_name"
   ]
  },
  {
   "cell_type": "code",
   "execution_count": 398,
   "id": "52589f61",
   "metadata": {},
   "outputs": [],
   "source": [
    "#54"
   ]
  },
  {
   "cell_type": "code",
   "execution_count": 405,
   "id": "9793d216",
   "metadata": {},
   "outputs": [
    {
     "name": "stdout",
     "output_type": "stream",
     "text": [
      "2 cats and 3 dogs.\n"
     ]
    }
   ],
   "source": [
    "l1 = input().split(\" \")"
   ]
  },
  {
   "cell_type": "code",
   "execution_count": 404,
   "id": "6541f51c",
   "metadata": {},
   "outputs": [
    {
     "name": "stdout",
     "output_type": "stream",
     "text": [
      "['2', '3']\n"
     ]
    }
   ],
   "source": [
    "lst1 = []\n",
    "for i in l1:\n",
    "    if i.isnumeric():\n",
    "        lst1.append(i)\n",
    "print(lst1)"
   ]
  },
  {
   "cell_type": "code",
   "execution_count": 407,
   "id": "9ec2ad2b",
   "metadata": {},
   "outputs": [],
   "source": [
    "ans = [i for i in l1 if i.isdigit()]"
   ]
  },
  {
   "cell_type": "code",
   "execution_count": 408,
   "id": "f16824e0",
   "metadata": {},
   "outputs": [
    {
     "name": "stdout",
     "output_type": "stream",
     "text": [
      "['2', '3']\n"
     ]
    }
   ],
   "source": [
    "print(ans)"
   ]
  },
  {
   "cell_type": "code",
   "execution_count": 412,
   "id": "52c28c16",
   "metadata": {},
   "outputs": [],
   "source": [
    "unicodestring = u\"Hello world!\""
   ]
  },
  {
   "cell_type": "code",
   "execution_count": 413,
   "id": "cf7ffa68",
   "metadata": {},
   "outputs": [
    {
     "name": "stdout",
     "output_type": "stream",
     "text": [
      "Hello world!\n"
     ]
    }
   ],
   "source": [
    "print(unicodestring)"
   ]
  },
  {
   "cell_type": "code",
   "execution_count": 414,
   "id": "a4a9af16",
   "metadata": {},
   "outputs": [
    {
     "name": "stdout",
     "output_type": "stream",
     "text": [
      "machine learning\n"
     ]
    }
   ],
   "source": [
    "s =  input()"
   ]
  },
  {
   "cell_type": "code",
   "execution_count": 416,
   "id": "23cb3bae",
   "metadata": {},
   "outputs": [
    {
     "data": {
      "text/plain": [
       "b'machine learning'"
      ]
     },
     "execution_count": 416,
     "metadata": {},
     "output_type": "execute_result"
    }
   ],
   "source": [
    "s.encode(encoding='utf-8')"
   ]
  },
  {
   "cell_type": "code",
   "execution_count": 417,
   "id": "944d9ed0",
   "metadata": {},
   "outputs": [
    {
     "ename": "TypeError",
     "evalue": "'str' object is not callable",
     "output_type": "error",
     "traceback": [
      "\u001b[1;31m---------------------------------------------------------------------------\u001b[0m",
      "\u001b[1;31mTypeError\u001b[0m                                 Traceback (most recent call last)",
      "Input \u001b[1;32mIn [417]\u001b[0m, in \u001b[0;36m<cell line: 1>\u001b[1;34m()\u001b[0m\n\u001b[1;32m----> 1\u001b[0m \u001b[43municodestring\u001b[49m\u001b[43m(\u001b[49m\u001b[43ms\u001b[49m\u001b[43m)\u001b[49m\n",
      "\u001b[1;31mTypeError\u001b[0m: 'str' object is not callable"
     ]
    }
   ],
   "source": [
    "unicodestring(s)"
   ]
  },
  {
   "cell_type": "code",
   "execution_count": 418,
   "id": "f7e11d15",
   "metadata": {},
   "outputs": [],
   "source": [
    "# -*- coding: utf-8 -*-"
   ]
  },
  {
   "cell_type": "code",
   "execution_count": 419,
   "id": "b3c68c82",
   "metadata": {},
   "outputs": [],
   "source": [
    "# -*- coding: utf-8 -*-"
   ]
  },
  {
   "cell_type": "code",
   "execution_count": 421,
   "id": "1b5fd4ee",
   "metadata": {},
   "outputs": [
    {
     "name": "stdout",
     "output_type": "stream",
     "text": [
      "5\n"
     ]
    }
   ],
   "source": [
    "n = int(input())"
   ]
  },
  {
   "cell_type": "code",
   "execution_count": 424,
   "id": "ef934a01",
   "metadata": {},
   "outputs": [
    {
     "name": "stdout",
     "output_type": "stream",
     "text": [
      "3.55\n"
     ]
    }
   ],
   "source": [
    "sum = 0\n",
    "for i in range(1,n+1):\n",
    "    sum += i/(i+1)\n",
    "print(round(sum, 2))    "
   ]
  },
  {
   "cell_type": "code",
   "execution_count": 432,
   "id": "e925f899",
   "metadata": {},
   "outputs": [],
   "source": [
    "def question_59(n):\n",
    "    return round(sum(map(lambda x:x/(x+1), range(1,n+1))),2)"
   ]
  },
  {
   "cell_type": "code",
   "execution_count": 433,
   "id": "7b6aa622",
   "metadata": {},
   "outputs": [
    {
     "ename": "TypeError",
     "evalue": "'float' object is not callable",
     "output_type": "error",
     "traceback": [
      "\u001b[1;31m---------------------------------------------------------------------------\u001b[0m",
      "\u001b[1;31mTypeError\u001b[0m                                 Traceback (most recent call last)",
      "Input \u001b[1;32mIn [433]\u001b[0m, in \u001b[0;36m<cell line: 1>\u001b[1;34m()\u001b[0m\n\u001b[1;32m----> 1\u001b[0m \u001b[43mquestion_59\u001b[49m\u001b[43m(\u001b[49m\u001b[38;5;241;43m5\u001b[39;49m\u001b[43m)\u001b[49m\n",
      "Input \u001b[1;32mIn [432]\u001b[0m, in \u001b[0;36mquestion_59\u001b[1;34m(n)\u001b[0m\n\u001b[0;32m      1\u001b[0m \u001b[38;5;28;01mdef\u001b[39;00m \u001b[38;5;21mquestion_59\u001b[39m(n):\n\u001b[1;32m----> 2\u001b[0m     \u001b[38;5;28;01mreturn\u001b[39;00m \u001b[38;5;28mround\u001b[39m(\u001b[38;5;28;43msum\u001b[39;49m\u001b[43m(\u001b[49m\u001b[38;5;28;43mmap\u001b[39;49m\u001b[43m(\u001b[49m\u001b[38;5;28;43;01mlambda\u001b[39;49;00m\u001b[43m \u001b[49m\u001b[43mx\u001b[49m\u001b[43m:\u001b[49m\u001b[43mx\u001b[49m\u001b[38;5;241;43m/\u001b[39;49m\u001b[43m(\u001b[49m\u001b[43mx\u001b[49m\u001b[38;5;241;43m+\u001b[39;49m\u001b[38;5;241;43m1\u001b[39;49m\u001b[43m)\u001b[49m\u001b[43m,\u001b[49m\u001b[43m \u001b[49m\u001b[38;5;28;43mrange\u001b[39;49m\u001b[43m(\u001b[49m\u001b[38;5;241;43m1\u001b[39;49m\u001b[43m,\u001b[49m\u001b[43mn\u001b[49m\u001b[38;5;241;43m+\u001b[39;49m\u001b[38;5;241;43m1\u001b[39;49m\u001b[43m)\u001b[49m\u001b[43m)\u001b[49m\u001b[43m)\u001b[49m,\u001b[38;5;241m2\u001b[39m)\n",
      "\u001b[1;31mTypeError\u001b[0m: 'float' object is not callable"
     ]
    }
   ],
   "source": [
    "question_59(5)"
   ]
  },
  {
   "cell_type": "code",
   "execution_count": 445,
   "id": "255852d6",
   "metadata": {},
   "outputs": [
    {
     "name": "stdout",
     "output_type": "stream",
     "text": [
      "3.55\n"
     ]
    }
   ],
   "source": [
    "def question_59(n):\n",
    "    print(round(np.sum(list(map(lambda x: x/(x+1), range(1, n+1)))), 2))\n",
    "\n",
    "question_59(5)"
   ]
  },
  {
   "cell_type": "code",
   "execution_count": 446,
   "id": "c8b721b2",
   "metadata": {},
   "outputs": [],
   "source": [
    "#60"
   ]
  },
  {
   "cell_type": "code",
   "execution_count": 447,
   "id": "c597d369",
   "metadata": {},
   "outputs": [
    {
     "ename": "SyntaxError",
     "evalue": "invalid syntax (1036749780.py, line 1)",
     "output_type": "error",
     "traceback": [
      "\u001b[1;36m  Input \u001b[1;32mIn [447]\u001b[1;36m\u001b[0m\n\u001b[1;33m    f(n)=f(n-1)+100 when n>0\u001b[0m\n\u001b[1;37m                    ^\u001b[0m\n\u001b[1;31mSyntaxError\u001b[0m\u001b[1;31m:\u001b[0m invalid syntax\n"
     ]
    }
   ],
   "source": [
    "f(n)=f(n-1)+100 when n>0\n",
    "and f(0)=0"
   ]
  },
  {
   "cell_type": "code",
   "execution_count": 448,
   "id": "c94d9b43",
   "metadata": {},
   "outputs": [],
   "source": [
    "def func1(n):\n",
    "    if n>0:\n",
    "        return func1(n-1)+100\n",
    "    else:\n",
    "        return 0"
   ]
  },
  {
   "cell_type": "code",
   "execution_count": 449,
   "id": "34513e75",
   "metadata": {},
   "outputs": [
    {
     "data": {
      "text/plain": [
       "0"
      ]
     },
     "execution_count": 449,
     "metadata": {},
     "output_type": "execute_result"
    }
   ],
   "source": [
    "func1(0)"
   ]
  },
  {
   "cell_type": "code",
   "execution_count": 450,
   "id": "e001a548",
   "metadata": {},
   "outputs": [
    {
     "data": {
      "text/plain": [
       "500"
      ]
     },
     "execution_count": 450,
     "metadata": {},
     "output_type": "execute_result"
    }
   ],
   "source": [
    "func1(5)"
   ]
  },
  {
   "cell_type": "code",
   "execution_count": 451,
   "id": "877f1383",
   "metadata": {},
   "outputs": [],
   "source": [
    "def func2(n):\n",
    "    if n==0:\n",
    "        return 0\n",
    "    else:\n",
    "        return func2(n-1)+100"
   ]
  },
  {
   "cell_type": "code",
   "execution_count": 452,
   "id": "954044fc",
   "metadata": {},
   "outputs": [
    {
     "data": {
      "text/plain": [
       "500"
      ]
     },
     "execution_count": 452,
     "metadata": {},
     "output_type": "execute_result"
    }
   ],
   "source": [
    "func2(5)"
   ]
  },
  {
   "cell_type": "code",
   "execution_count": 453,
   "id": "fe56bb1c",
   "metadata": {},
   "outputs": [
    {
     "data": {
      "text/plain": [
       "0"
      ]
     },
     "execution_count": 453,
     "metadata": {},
     "output_type": "execute_result"
    }
   ],
   "source": [
    "func2(0)"
   ]
  },
  {
   "cell_type": "code",
   "execution_count": 454,
   "id": "f8102303",
   "metadata": {},
   "outputs": [
    {
     "name": "stdout",
     "output_type": "stream",
     "text": [
      "5\n"
     ]
    }
   ],
   "source": [
    "n = int(input())"
   ]
  },
  {
   "cell_type": "code",
   "execution_count": 455,
   "id": "4fd81a16",
   "metadata": {},
   "outputs": [],
   "source": [
    "f = lambda x:f(x-1)+100 if x>0 else 0"
   ]
  },
  {
   "cell_type": "code",
   "execution_count": 456,
   "id": "875b48f6",
   "metadata": {},
   "outputs": [
    {
     "data": {
      "text/plain": [
       "500"
      ]
     },
     "execution_count": 456,
     "metadata": {},
     "output_type": "execute_result"
    }
   ],
   "source": [
    "f(n)"
   ]
  },
  {
   "cell_type": "code",
   "execution_count": 457,
   "id": "9d43367e",
   "metadata": {},
   "outputs": [
    {
     "data": {
      "text/plain": [
       "0"
      ]
     },
     "execution_count": 457,
     "metadata": {},
     "output_type": "execute_result"
    }
   ],
   "source": [
    "f(0)"
   ]
  },
  {
   "cell_type": "code",
   "execution_count": null,
   "id": "3069cacc",
   "metadata": {},
   "outputs": [],
   "source": [
    "f(n)=0 if n=0\n",
    "f(n)=1 if n=1\n",
    "f(n)=f(n-1)+f(n-2) if n>1"
   ]
  },
  {
   "cell_type": "code",
   "execution_count": 463,
   "id": "78df7eda",
   "metadata": {},
   "outputs": [],
   "source": [
    "def fabbi(n):\n",
    "    if n==0:\n",
    "        return 0\n",
    "    elif n==1:\n",
    "        return 1\n",
    "    else:\n",
    "        return fabbi(n-1)+fabbi(n-2)"
   ]
  },
  {
   "cell_type": "code",
   "execution_count": 464,
   "id": "b31d01a6",
   "metadata": {},
   "outputs": [
    {
     "data": {
      "text/plain": [
       "13"
      ]
     },
     "execution_count": 464,
     "metadata": {},
     "output_type": "execute_result"
    }
   ],
   "source": [
    "fabbi(7)"
   ]
  },
  {
   "cell_type": "code",
   "execution_count": 465,
   "id": "227357e2",
   "metadata": {},
   "outputs": [
    {
     "name": "stdout",
     "output_type": "stream",
     "text": [
      "7\n"
     ]
    }
   ],
   "source": [
    "n = int(input())"
   ]
  },
  {
   "cell_type": "code",
   "execution_count": 471,
   "id": "8ac464c6",
   "metadata": {},
   "outputs": [],
   "source": [
    "f = lambda x: 0 if x==0  else 1 if x==1 else f(x-1)+f(x-2)"
   ]
  },
  {
   "cell_type": "code",
   "execution_count": 472,
   "id": "e0c13406",
   "metadata": {},
   "outputs": [
    {
     "data": {
      "text/plain": [
       "13"
      ]
     },
     "execution_count": 472,
     "metadata": {},
     "output_type": "execute_result"
    }
   ],
   "source": [
    "f(n)"
   ]
  },
  {
   "cell_type": "code",
   "execution_count": 473,
   "id": "bfcc161f",
   "metadata": {},
   "outputs": [
    {
     "ename": "SyntaxError",
     "evalue": "invalid syntax (399138506.py, line 1)",
     "output_type": "error",
     "traceback": [
      "\u001b[1;36m  Input \u001b[1;32mIn [473]\u001b[1;36m\u001b[0m\n\u001b[1;33m    f(n)=0 if n=0\u001b[0m\n\u001b[1;37m               ^\u001b[0m\n\u001b[1;31mSyntaxError\u001b[0m\u001b[1;31m:\u001b[0m invalid syntax\n"
     ]
    }
   ],
   "source": [
    "f(n)=0 if n=0\n",
    "f(n)=1 if n=1\n",
    "f(n)=f(n-1)+f(n-2) if n>1"
   ]
  },
  {
   "cell_type": "code",
   "execution_count": 474,
   "id": "12a36391",
   "metadata": {},
   "outputs": [],
   "source": [
    "def fabbiiii(n):\n",
    "    if n<=1:\n",
    "        return n\n",
    "    else:\n",
    "        return fabbiiii(n-1)+fabbiiii(n-2)"
   ]
  },
  {
   "cell_type": "code",
   "execution_count": 475,
   "id": "deeaab14",
   "metadata": {},
   "outputs": [
    {
     "data": {
      "text/plain": [
       "13"
      ]
     },
     "execution_count": 475,
     "metadata": {},
     "output_type": "execute_result"
    }
   ],
   "source": [
    "fabbiiii(7)"
   ]
  },
  {
   "cell_type": "code",
   "execution_count": 479,
   "id": "cce89336",
   "metadata": {},
   "outputs": [],
   "source": [
    "def fabbi_list(n):\n",
    "    return [fabbiiii(i) for i in range(0,n+1)]"
   ]
  },
  {
   "cell_type": "code",
   "execution_count": 480,
   "id": "a4995f43",
   "metadata": {},
   "outputs": [
    {
     "data": {
      "text/plain": [
       "[0, 1, 1, 2, 3, 5, 8, 13]"
      ]
     },
     "execution_count": 480,
     "metadata": {},
     "output_type": "execute_result"
    }
   ],
   "source": [
    "fabbi_list(7)"
   ]
  },
  {
   "cell_type": "code",
   "execution_count": 481,
   "id": "58237355",
   "metadata": {},
   "outputs": [],
   "source": [
    "def question_62(n):\n",
    "    if n==0:\n",
    "        return [0]\n",
    "    if n==1:\n",
    "        return [0,1]\n",
    "    \n",
    "    sequence = [0,1]\n",
    "    a,b = 0,1\n",
    "    for i in range(2,n+1):\n",
    "        c = a+b\n",
    "        sequence.append(c)\n",
    "        a = b\n",
    "        b = c\n",
    "    return sequence\n",
    "    \n",
    "    "
   ]
  },
  {
   "cell_type": "code",
   "execution_count": 482,
   "id": "9773dd90",
   "metadata": {},
   "outputs": [
    {
     "data": {
      "text/plain": [
       "[0, 1, 1, 2, 3, 5, 8, 13]"
      ]
     },
     "execution_count": 482,
     "metadata": {},
     "output_type": "execute_result"
    }
   ],
   "source": [
    "question_62(7)"
   ]
  },
  {
   "cell_type": "code",
   "execution_count": null,
   "id": "3ee120a8",
   "metadata": {},
   "outputs": [],
   "source": []
  }
 ],
 "metadata": {
  "kernelspec": {
   "display_name": "Python 3 (ipykernel)",
   "language": "python",
   "name": "python3"
  },
  "language_info": {
   "codemirror_mode": {
    "name": "ipython",
    "version": 3
   },
   "file_extension": ".py",
   "mimetype": "text/x-python",
   "name": "python",
   "nbconvert_exporter": "python",
   "pygments_lexer": "ipython3",
   "version": "3.8.8"
  }
 },
 "nbformat": 4,
 "nbformat_minor": 5
}
