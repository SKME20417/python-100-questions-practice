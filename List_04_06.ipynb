{
 "cells": [
  {
   "cell_type": "code",
   "execution_count": 1,
   "id": "b1962238",
   "metadata": {},
   "outputs": [],
   "source": [
    "h = []"
   ]
  },
  {
   "cell_type": "code",
   "execution_count": 2,
   "id": "1a9ef764",
   "metadata": {},
   "outputs": [
    {
     "data": {
      "text/plain": [
       "list"
      ]
     },
     "execution_count": 2,
     "metadata": {},
     "output_type": "execute_result"
    }
   ],
   "source": [
    "type(h)"
   ]
  },
  {
   "cell_type": "code",
   "execution_count": 3,
   "id": "d6021e58",
   "metadata": {},
   "outputs": [],
   "source": [
    "r = list()"
   ]
  },
  {
   "cell_type": "code",
   "execution_count": 4,
   "id": "600bdfd6",
   "metadata": {},
   "outputs": [
    {
     "data": {
      "text/plain": [
       "list"
      ]
     },
     "execution_count": 4,
     "metadata": {},
     "output_type": "execute_result"
    }
   ],
   "source": [
    "type(r)"
   ]
  },
  {
   "cell_type": "code",
   "execution_count": 11,
   "id": "c9a7ea36",
   "metadata": {},
   "outputs": [],
   "source": [
    "r = [4,5,6,7,8,9,10,12,15,17,19]"
   ]
  },
  {
   "cell_type": "code",
   "execution_count": 6,
   "id": "46e17088",
   "metadata": {},
   "outputs": [
    {
     "data": {
      "text/plain": [
       "list"
      ]
     },
     "execution_count": 6,
     "metadata": {},
     "output_type": "execute_result"
    }
   ],
   "source": [
    "type(r)"
   ]
  },
  {
   "cell_type": "code",
   "execution_count": 7,
   "id": "8d1a7974",
   "metadata": {},
   "outputs": [
    {
     "data": {
      "text/plain": [
       "4"
      ]
     },
     "execution_count": 7,
     "metadata": {},
     "output_type": "execute_result"
    }
   ],
   "source": [
    "r[0]"
   ]
  },
  {
   "cell_type": "code",
   "execution_count": 8,
   "id": "915f12fb",
   "metadata": {},
   "outputs": [
    {
     "data": {
      "text/plain": [
       "6"
      ]
     },
     "execution_count": 8,
     "metadata": {},
     "output_type": "execute_result"
    }
   ],
   "source": [
    "r[2]"
   ]
  },
  {
   "cell_type": "code",
   "execution_count": 9,
   "id": "a7437232",
   "metadata": {},
   "outputs": [
    {
     "data": {
      "text/plain": [
       "8"
      ]
     },
     "execution_count": 9,
     "metadata": {},
     "output_type": "execute_result"
    }
   ],
   "source": [
    "r[4]"
   ]
  },
  {
   "cell_type": "code",
   "execution_count": 10,
   "id": "24950e1b",
   "metadata": {},
   "outputs": [
    {
     "data": {
      "text/plain": [
       "[5, 6]"
      ]
     },
     "execution_count": 10,
     "metadata": {},
     "output_type": "execute_result"
    }
   ],
   "source": [
    "r[1:3]"
   ]
  },
  {
   "cell_type": "code",
   "execution_count": 12,
   "id": "1aeaf770",
   "metadata": {},
   "outputs": [
    {
     "data": {
      "text/plain": [
       "[6, 7, 8, 9, 10, 12]"
      ]
     },
     "execution_count": 12,
     "metadata": {},
     "output_type": "execute_result"
    }
   ],
   "source": [
    "r[2:8]"
   ]
  },
  {
   "cell_type": "code",
   "execution_count": 13,
   "id": "75190b82",
   "metadata": {},
   "outputs": [
    {
     "data": {
      "text/plain": [
       "[4, 5, 6, 7, 8, 9, 10, 12, 15, 17, 19]"
      ]
     },
     "execution_count": 13,
     "metadata": {},
     "output_type": "execute_result"
    }
   ],
   "source": [
    "r"
   ]
  },
  {
   "cell_type": "code",
   "execution_count": 14,
   "id": "fda2b3f1",
   "metadata": {},
   "outputs": [
    {
     "data": {
      "text/plain": [
       "19"
      ]
     },
     "execution_count": 14,
     "metadata": {},
     "output_type": "execute_result"
    }
   ],
   "source": [
    "r[-1]"
   ]
  },
  {
   "cell_type": "code",
   "execution_count": 15,
   "id": "92af9ec1",
   "metadata": {},
   "outputs": [
    {
     "data": {
      "text/plain": [
       "17"
      ]
     },
     "execution_count": 15,
     "metadata": {},
     "output_type": "execute_result"
    }
   ],
   "source": [
    "r[-2]"
   ]
  },
  {
   "cell_type": "code",
   "execution_count": 17,
   "id": "8e62d915",
   "metadata": {},
   "outputs": [
    {
     "data": {
      "text/plain": [
       "[19, 17, 15, 12, 10]"
      ]
     },
     "execution_count": 17,
     "metadata": {},
     "output_type": "execute_result"
    }
   ],
   "source": [
    "r[-1:-6:-1]"
   ]
  },
  {
   "cell_type": "code",
   "execution_count": 18,
   "id": "0b1e573d",
   "metadata": {},
   "outputs": [
    {
     "data": {
      "text/plain": [
       "[19, 17, 15, 12, 10, 9, 8, 7, 6, 5, 4]"
      ]
     },
     "execution_count": 18,
     "metadata": {},
     "output_type": "execute_result"
    }
   ],
   "source": [
    "r[::-1]"
   ]
  },
  {
   "cell_type": "code",
   "execution_count": 21,
   "id": "ff392762",
   "metadata": {},
   "outputs": [],
   "source": [
    "r[5] = 900"
   ]
  },
  {
   "cell_type": "code",
   "execution_count": 22,
   "id": "d988d5b6",
   "metadata": {},
   "outputs": [
    {
     "data": {
      "text/plain": [
       "[4, 5, 6, 7, 8, 900, 10, 12, 15, 17, 19]"
      ]
     },
     "execution_count": 22,
     "metadata": {},
     "output_type": "execute_result"
    }
   ],
   "source": [
    "r"
   ]
  },
  {
   "cell_type": "code",
   "execution_count": 23,
   "id": "51d9e3bc",
   "metadata": {},
   "outputs": [],
   "source": [
    "r.append(1500)"
   ]
  },
  {
   "cell_type": "code",
   "execution_count": 24,
   "id": "28ed1ee0",
   "metadata": {},
   "outputs": [
    {
     "data": {
      "text/plain": [
       "[4, 5, 6, 7, 8, 900, 10, 12, 15, 17, 19, 1500]"
      ]
     },
     "execution_count": 24,
     "metadata": {},
     "output_type": "execute_result"
    }
   ],
   "source": [
    "r"
   ]
  },
  {
   "cell_type": "code",
   "execution_count": 25,
   "id": "dd0f516b",
   "metadata": {},
   "outputs": [],
   "source": [
    "r.append(5000)"
   ]
  },
  {
   "cell_type": "code",
   "execution_count": 26,
   "id": "63d90bfc",
   "metadata": {},
   "outputs": [
    {
     "data": {
      "text/plain": [
       "[4, 5, 6, 7, 8, 900, 10, 12, 15, 17, 19, 1500, 5000]"
      ]
     },
     "execution_count": 26,
     "metadata": {},
     "output_type": "execute_result"
    }
   ],
   "source": [
    "r"
   ]
  },
  {
   "cell_type": "code",
   "execution_count": 27,
   "id": "c4e10f90",
   "metadata": {},
   "outputs": [],
   "source": [
    "r.insert(2,456)"
   ]
  },
  {
   "cell_type": "code",
   "execution_count": 28,
   "id": "ecdf4785",
   "metadata": {},
   "outputs": [
    {
     "data": {
      "text/plain": [
       "[4, 5, 456, 6, 7, 8, 900, 10, 12, 15, 17, 19, 1500, 5000]"
      ]
     },
     "execution_count": 28,
     "metadata": {},
     "output_type": "execute_result"
    }
   ],
   "source": [
    "r"
   ]
  },
  {
   "cell_type": "code",
   "execution_count": 29,
   "id": "7d1cf2a3",
   "metadata": {},
   "outputs": [
    {
     "data": {
      "text/plain": [
       "5000"
      ]
     },
     "execution_count": 29,
     "metadata": {},
     "output_type": "execute_result"
    }
   ],
   "source": [
    "r.pop()"
   ]
  },
  {
   "cell_type": "code",
   "execution_count": 30,
   "id": "d84458c6",
   "metadata": {},
   "outputs": [
    {
     "data": {
      "text/plain": [
       "[4, 5, 456, 6, 7, 8, 900, 10, 12, 15, 17, 19, 1500]"
      ]
     },
     "execution_count": 30,
     "metadata": {},
     "output_type": "execute_result"
    }
   ],
   "source": [
    "r"
   ]
  },
  {
   "cell_type": "code",
   "execution_count": 31,
   "id": "5f0d163d",
   "metadata": {},
   "outputs": [
    {
     "data": {
      "text/plain": [
       "1500"
      ]
     },
     "execution_count": 31,
     "metadata": {},
     "output_type": "execute_result"
    }
   ],
   "source": [
    "r.pop()"
   ]
  },
  {
   "cell_type": "code",
   "execution_count": 32,
   "id": "7f560faf",
   "metadata": {},
   "outputs": [
    {
     "data": {
      "text/plain": [
       "[4, 5, 456, 6, 7, 8, 900, 10, 12, 15, 17, 19]"
      ]
     },
     "execution_count": 32,
     "metadata": {},
     "output_type": "execute_result"
    }
   ],
   "source": [
    "r"
   ]
  },
  {
   "cell_type": "code",
   "execution_count": 33,
   "id": "d7c218b7",
   "metadata": {},
   "outputs": [
    {
     "data": {
      "text/plain": [
       "456"
      ]
     },
     "execution_count": 33,
     "metadata": {},
     "output_type": "execute_result"
    }
   ],
   "source": [
    "r.pop(2)"
   ]
  },
  {
   "cell_type": "code",
   "execution_count": 34,
   "id": "746a3805",
   "metadata": {},
   "outputs": [
    {
     "data": {
      "text/plain": [
       "[4, 5, 6, 7, 8, 900, 10, 12, 15, 17, 19]"
      ]
     },
     "execution_count": 34,
     "metadata": {},
     "output_type": "execute_result"
    }
   ],
   "source": [
    "r"
   ]
  },
  {
   "cell_type": "code",
   "execution_count": 35,
   "id": "288c8b82",
   "metadata": {},
   "outputs": [
    {
     "data": {
      "text/plain": [
       "8"
      ]
     },
     "execution_count": 35,
     "metadata": {},
     "output_type": "execute_result"
    }
   ],
   "source": [
    "r.pop(4)"
   ]
  },
  {
   "cell_type": "code",
   "execution_count": 37,
   "id": "43be3213",
   "metadata": {},
   "outputs": [],
   "source": [
    "r.append(900)"
   ]
  },
  {
   "cell_type": "code",
   "execution_count": 38,
   "id": "ce567563",
   "metadata": {},
   "outputs": [
    {
     "data": {
      "text/plain": [
       "[4, 5, 6, 7, 900, 10, 12, 15, 17, 19, 900]"
      ]
     },
     "execution_count": 38,
     "metadata": {},
     "output_type": "execute_result"
    }
   ],
   "source": [
    "r"
   ]
  },
  {
   "cell_type": "code",
   "execution_count": 39,
   "id": "73155cc5",
   "metadata": {},
   "outputs": [],
   "source": [
    "r.remove(900)"
   ]
  },
  {
   "cell_type": "code",
   "execution_count": 40,
   "id": "74c28d97",
   "metadata": {},
   "outputs": [
    {
     "data": {
      "text/plain": [
       "[4, 5, 6, 7, 10, 12, 15, 17, 19, 900]"
      ]
     },
     "execution_count": 40,
     "metadata": {},
     "output_type": "execute_result"
    }
   ],
   "source": [
    "r"
   ]
  },
  {
   "cell_type": "code",
   "execution_count": 43,
   "id": "0733746f",
   "metadata": {},
   "outputs": [],
   "source": [
    "r.sort(reverse=True)"
   ]
  },
  {
   "cell_type": "code",
   "execution_count": 44,
   "id": "5e9abc83",
   "metadata": {},
   "outputs": [
    {
     "data": {
      "text/plain": [
       "[900, 19, 17, 15, 12, 10, 7, 6, 5, 4]"
      ]
     },
     "execution_count": 44,
     "metadata": {},
     "output_type": "execute_result"
    }
   ],
   "source": [
    "r"
   ]
  },
  {
   "cell_type": "code",
   "execution_count": 46,
   "id": "bbc7a866",
   "metadata": {},
   "outputs": [],
   "source": [
    "r.append(2000)"
   ]
  },
  {
   "cell_type": "code",
   "execution_count": 47,
   "id": "1daa6556",
   "metadata": {},
   "outputs": [
    {
     "data": {
      "text/plain": [
       "[900, 19, 17, 15, 12, 10, 7, 6, 5, 4, 2000]"
      ]
     },
     "execution_count": 47,
     "metadata": {},
     "output_type": "execute_result"
    }
   ],
   "source": [
    "r"
   ]
  },
  {
   "cell_type": "code",
   "execution_count": 48,
   "id": "680de144",
   "metadata": {},
   "outputs": [],
   "source": [
    "r.append([1,2,3,4,5,6])"
   ]
  },
  {
   "cell_type": "code",
   "execution_count": 49,
   "id": "9b4ce17c",
   "metadata": {},
   "outputs": [
    {
     "data": {
      "text/plain": [
       "[900, 19, 17, 15, 12, 10, 7, 6, 5, 4, 2000, [1, 2, 3, 4, 5, 6]]"
      ]
     },
     "execution_count": 49,
     "metadata": {},
     "output_type": "execute_result"
    }
   ],
   "source": [
    "r"
   ]
  },
  {
   "cell_type": "code",
   "execution_count": 50,
   "id": "62bce81a",
   "metadata": {},
   "outputs": [],
   "source": [
    "r.extend([45,23,78,100])"
   ]
  },
  {
   "cell_type": "code",
   "execution_count": 51,
   "id": "c13c7504",
   "metadata": {},
   "outputs": [
    {
     "data": {
      "text/plain": [
       "[900,\n",
       " 19,\n",
       " 17,\n",
       " 15,\n",
       " 12,\n",
       " 10,\n",
       " 7,\n",
       " 6,\n",
       " 5,\n",
       " 4,\n",
       " 2000,\n",
       " [1, 2, 3, 4, 5, 6],\n",
       " 45,\n",
       " 23,\n",
       " 78,\n",
       " 100]"
      ]
     },
     "execution_count": 51,
     "metadata": {},
     "output_type": "execute_result"
    }
   ],
   "source": [
    "r"
   ]
  },
  {
   "cell_type": "code",
   "execution_count": 53,
   "id": "91fdb53e",
   "metadata": {},
   "outputs": [
    {
     "data": {
      "text/plain": [
       "[900,\n",
       " 19,\n",
       " 17,\n",
       " 15,\n",
       " 12,\n",
       " 10,\n",
       " 7,\n",
       " 6,\n",
       " 5,\n",
       " 4,\n",
       " 2000,\n",
       " [1, 2, 3, 4, 5, 6],\n",
       " 45,\n",
       " 23,\n",
       " 78,\n",
       " 100,\n",
       " 12,\n",
       " 25,\n",
       " 36]"
      ]
     },
     "execution_count": 53,
     "metadata": {},
     "output_type": "execute_result"
    }
   ],
   "source": [
    "r + [12,25,36]"
   ]
  },
  {
   "cell_type": "code",
   "execution_count": 54,
   "id": "26a42b22",
   "metadata": {},
   "outputs": [],
   "source": [
    "my_lst = [12,45,36,78,65]"
   ]
  },
  {
   "cell_type": "code",
   "execution_count": 55,
   "id": "2702e54f",
   "metadata": {},
   "outputs": [
    {
     "data": {
      "text/plain": [
       "[12, 45, 36, 78, 65]"
      ]
     },
     "execution_count": 55,
     "metadata": {},
     "output_type": "execute_result"
    }
   ],
   "source": [
    "my_lst"
   ]
  },
  {
   "cell_type": "code",
   "execution_count": 56,
   "id": "b1e66aad",
   "metadata": {},
   "outputs": [
    {
     "data": {
      "text/plain": [
       "list"
      ]
     },
     "execution_count": 56,
     "metadata": {},
     "output_type": "execute_result"
    }
   ],
   "source": [
    "type(my_lst)"
   ]
  },
  {
   "cell_type": "code",
   "execution_count": 57,
   "id": "9ffc206e",
   "metadata": {},
   "outputs": [],
   "source": [
    "k_lst = [12,23,True, False, [15,45,98], \"python\", (1,2,3),{45:12,78:36},23+5j]"
   ]
  },
  {
   "cell_type": "code",
   "execution_count": 58,
   "id": "c85c1e4b",
   "metadata": {},
   "outputs": [
    {
     "data": {
      "text/plain": [
       "list"
      ]
     },
     "execution_count": 58,
     "metadata": {},
     "output_type": "execute_result"
    }
   ],
   "source": [
    "type(k_lst)"
   ]
  },
  {
   "cell_type": "code",
   "execution_count": 59,
   "id": "641f00e6",
   "metadata": {},
   "outputs": [
    {
     "ename": "TypeError",
     "evalue": "'<' not supported between instances of 'list' and 'int'",
     "output_type": "error",
     "traceback": [
      "\u001b[1;31m---------------------------------------------------------------------------\u001b[0m",
      "\u001b[1;31mTypeError\u001b[0m                                 Traceback (most recent call last)",
      "\u001b[1;32m<ipython-input-59-093bfc53b5c2>\u001b[0m in \u001b[0;36m<module>\u001b[1;34m\u001b[0m\n\u001b[1;32m----> 1\u001b[1;33m \u001b[0mk_lst\u001b[0m\u001b[1;33m.\u001b[0m\u001b[0msort\u001b[0m\u001b[1;33m(\u001b[0m\u001b[1;33m)\u001b[0m\u001b[1;33m\u001b[0m\u001b[1;33m\u001b[0m\u001b[0m\n\u001b[0m",
      "\u001b[1;31mTypeError\u001b[0m: '<' not supported between instances of 'list' and 'int'"
     ]
    }
   ],
   "source": [
    "k_lst.sort()"
   ]
  },
  {
   "cell_type": "code",
   "execution_count": 60,
   "id": "3f9d626e",
   "metadata": {},
   "outputs": [],
   "source": [
    "my_lst.sort()"
   ]
  },
  {
   "cell_type": "code",
   "execution_count": 61,
   "id": "8d435cb1",
   "metadata": {},
   "outputs": [
    {
     "data": {
      "text/plain": [
       "[12, 36, 45, 65, 78]"
      ]
     },
     "execution_count": 61,
     "metadata": {},
     "output_type": "execute_result"
    }
   ],
   "source": [
    "my_lst"
   ]
  },
  {
   "cell_type": "code",
   "execution_count": 62,
   "id": "ebb675b7",
   "metadata": {},
   "outputs": [],
   "source": [
    "k_lst.reverse()"
   ]
  },
  {
   "cell_type": "code",
   "execution_count": 63,
   "id": "e5063442",
   "metadata": {},
   "outputs": [
    {
     "data": {
      "text/plain": [
       "[(23+5j),\n",
       " {45: 12, 78: 36},\n",
       " (1, 2, 3),\n",
       " 'python',\n",
       " [15, 45, 98],\n",
       " 23,\n",
       " 12,\n",
       " True,\n",
       " False]"
      ]
     },
     "execution_count": 63,
     "metadata": {},
     "output_type": "execute_result"
    }
   ],
   "source": [
    "k_lst"
   ]
  },
  {
   "cell_type": "code",
   "execution_count": 64,
   "id": "bdb3693f",
   "metadata": {},
   "outputs": [
    {
     "data": {
      "text/plain": [
       "[False,\n",
       " True,\n",
       " 12,\n",
       " 23,\n",
       " [15, 45, 98],\n",
       " 'python',\n",
       " (1, 2, 3),\n",
       " {45: 12, 78: 36},\n",
       " (23+5j)]"
      ]
     },
     "execution_count": 64,
     "metadata": {},
     "output_type": "execute_result"
    }
   ],
   "source": [
    "k_lst[::-1]"
   ]
  },
  {
   "cell_type": "code",
   "execution_count": 81,
   "id": "78fd903d",
   "metadata": {},
   "outputs": [],
   "source": [
    "s = \"This is list and we are learning and python is fun\""
   ]
  },
  {
   "cell_type": "code",
   "execution_count": 82,
   "id": "f0d8eac9",
   "metadata": {},
   "outputs": [],
   "source": [
    "l = s.split()"
   ]
  },
  {
   "cell_type": "code",
   "execution_count": 83,
   "id": "888905bb",
   "metadata": {},
   "outputs": [
    {
     "data": {
      "text/plain": [
       "['This',\n",
       " 'is',\n",
       " 'list',\n",
       " 'and',\n",
       " 'we',\n",
       " 'are',\n",
       " 'learning',\n",
       " 'and',\n",
       " 'python',\n",
       " 'is',\n",
       " 'fun']"
      ]
     },
     "execution_count": 83,
     "metadata": {},
     "output_type": "execute_result"
    }
   ],
   "source": [
    "l"
   ]
  },
  {
   "cell_type": "code",
   "execution_count": 79,
   "id": "af4f9f40",
   "metadata": {},
   "outputs": [
    {
     "data": {
      "text/plain": [
       "'This is list and we are learning and python is fun'"
      ]
     },
     "execution_count": 79,
     "metadata": {},
     "output_type": "execute_result"
    }
   ],
   "source": [
    "\" \".join(l)"
   ]
  },
  {
   "cell_type": "code",
   "execution_count": 86,
   "id": "8c2b6028",
   "metadata": {},
   "outputs": [],
   "source": [
    "s = s.upper()"
   ]
  },
  {
   "cell_type": "code",
   "execution_count": 87,
   "id": "b5de48ea",
   "metadata": {},
   "outputs": [
    {
     "data": {
      "text/plain": [
       "'THIS IS LIST AND WE ARE LEARNING AND PYTHON IS FUN'"
      ]
     },
     "execution_count": 87,
     "metadata": {},
     "output_type": "execute_result"
    }
   ],
   "source": [
    "s"
   ]
  },
  {
   "cell_type": "code",
   "execution_count": 88,
   "id": "8d1a7705",
   "metadata": {},
   "outputs": [
    {
     "data": {
      "text/plain": [
       "[(23+5j),\n",
       " {45: 12, 78: 36},\n",
       " (1, 2, 3),\n",
       " 'python',\n",
       " [15, 45, 98],\n",
       " 23,\n",
       " 12,\n",
       " True,\n",
       " False]"
      ]
     },
     "execution_count": 88,
     "metadata": {},
     "output_type": "execute_result"
    }
   ],
   "source": [
    "k_lst"
   ]
  },
  {
   "cell_type": "code",
   "execution_count": 89,
   "id": "f46f5e0b",
   "metadata": {},
   "outputs": [
    {
     "name": "stdout",
     "output_type": "stream",
     "text": [
      "(23+5j)\n",
      "{45: 12, 78: 36}\n",
      "(1, 2, 3)\n",
      "python\n",
      "[15, 45, 98]\n",
      "23\n",
      "12\n",
      "True\n",
      "False\n"
     ]
    }
   ],
   "source": [
    "\n",
    "for i in k_lst:\n",
    "    print(i)"
   ]
  },
  {
   "cell_type": "code",
   "execution_count": 90,
   "id": "534b99b4",
   "metadata": {},
   "outputs": [
    {
     "data": {
      "text/plain": [
       "[(23+5j),\n",
       " {45: 12, 78: 36},\n",
       " (1, 2, 3),\n",
       " 'python',\n",
       " [15, 45, 98],\n",
       " 23,\n",
       " 12,\n",
       " True,\n",
       " False]"
      ]
     },
     "execution_count": 90,
     "metadata": {},
     "output_type": "execute_result"
    }
   ],
   "source": [
    "k_lst"
   ]
  },
  {
   "cell_type": "code",
   "execution_count": 92,
   "id": "a63e5ce0",
   "metadata": {},
   "outputs": [
    {
     "data": {
      "text/plain": [
       "False"
      ]
     },
     "execution_count": 92,
     "metadata": {},
     "output_type": "execute_result"
    }
   ],
   "source": [
    "23 not in k_lst"
   ]
  },
  {
   "cell_type": "code",
   "execution_count": 94,
   "id": "9b119d61",
   "metadata": {},
   "outputs": [],
   "source": [
    "new_lst = []\n",
    "for i in range(21):\n",
    "    if i%2==0:\n",
    "        new_lst.append(i**2)\n",
    "    else:\n",
    "        new_lst.append(i**3)\n"
   ]
  },
  {
   "cell_type": "code",
   "execution_count": 95,
   "id": "d388bd7e",
   "metadata": {},
   "outputs": [
    {
     "data": {
      "text/plain": [
       "[0,\n",
       " 1,\n",
       " 4,\n",
       " 27,\n",
       " 16,\n",
       " 125,\n",
       " 36,\n",
       " 343,\n",
       " 64,\n",
       " 729,\n",
       " 100,\n",
       " 1331,\n",
       " 144,\n",
       " 2197,\n",
       " 196,\n",
       " 3375,\n",
       " 256,\n",
       " 4913,\n",
       " 324,\n",
       " 6859,\n",
       " 400]"
      ]
     },
     "execution_count": 95,
     "metadata": {},
     "output_type": "execute_result"
    }
   ],
   "source": [
    "new_lst"
   ]
  },
  {
   "cell_type": "code",
   "execution_count": 97,
   "id": "e4f28dcb",
   "metadata": {},
   "outputs": [
    {
     "data": {
      "text/plain": [
       "[1, 3, 5, 7, 9, 11, 13, 15, 17, 19]"
      ]
     },
     "execution_count": 97,
     "metadata": {},
     "output_type": "execute_result"
    }
   ],
   "source": [
    "[i for i in range(21) if i%2!=0 ]"
   ]
  },
  {
   "cell_type": "code",
   "execution_count": 98,
   "id": "de291478",
   "metadata": {},
   "outputs": [
    {
     "data": {
      "text/plain": [
       "[0,\n",
       " 1,\n",
       " 4,\n",
       " 27,\n",
       " 16,\n",
       " 125,\n",
       " 36,\n",
       " 343,\n",
       " 64,\n",
       " 729,\n",
       " 100,\n",
       " 1331,\n",
       " 144,\n",
       " 2197,\n",
       " 196,\n",
       " 3375,\n",
       " 256,\n",
       " 4913,\n",
       " 324,\n",
       " 6859,\n",
       " 400]"
      ]
     },
     "execution_count": 98,
     "metadata": {},
     "output_type": "execute_result"
    }
   ],
   "source": [
    "[i**2 if i%2==0 else i**3 for i in range(21)]"
   ]
  },
  {
   "cell_type": "code",
   "execution_count": 99,
   "id": "42ff1b65",
   "metadata": {},
   "outputs": [],
   "source": [
    "my_lst = [[1,2,3],[4,5,6]]"
   ]
  },
  {
   "cell_type": "code",
   "execution_count": 100,
   "id": "fc7300c0",
   "metadata": {},
   "outputs": [
    {
     "data": {
      "text/plain": [
       "[[1, 2, 3], [4, 5, 6]]"
      ]
     },
     "execution_count": 100,
     "metadata": {},
     "output_type": "execute_result"
    }
   ],
   "source": [
    "my_lst"
   ]
  },
  {
   "cell_type": "code",
   "execution_count": 108,
   "id": "cb846476",
   "metadata": {},
   "outputs": [
    {
     "data": {
      "text/plain": [
       "3"
      ]
     },
     "execution_count": 108,
     "metadata": {},
     "output_type": "execute_result"
    }
   ],
   "source": [
    "my_lst[0][-1]"
   ]
  },
  {
   "cell_type": "code",
   "execution_count": 104,
   "id": "53dcaf15",
   "metadata": {},
   "outputs": [
    {
     "data": {
      "text/plain": [
       "3"
      ]
     },
     "execution_count": 104,
     "metadata": {},
     "output_type": "execute_result"
    }
   ],
   "source": [
    "my_lst[0][2]"
   ]
  },
  {
   "cell_type": "code",
   "execution_count": 110,
   "id": "01f53d29",
   "metadata": {},
   "outputs": [],
   "source": [
    "A = [[1,2],\n",
    "    [3,4]]"
   ]
  },
  {
   "cell_type": "code",
   "execution_count": 111,
   "id": "bedc101c",
   "metadata": {},
   "outputs": [
    {
     "data": {
      "text/plain": [
       "[[1, 2], [3, 4]]"
      ]
     },
     "execution_count": 111,
     "metadata": {},
     "output_type": "execute_result"
    }
   ],
   "source": [
    "A"
   ]
  },
  {
   "cell_type": "code",
   "execution_count": 112,
   "id": "664aac41",
   "metadata": {},
   "outputs": [],
   "source": [
    "B = [[5,6],\n",
    "    [7,8]]"
   ]
  },
  {
   "cell_type": "code",
   "execution_count": 113,
   "id": "27eb8449",
   "metadata": {},
   "outputs": [
    {
     "data": {
      "text/plain": [
       "[[5, 6], [7, 8]]"
      ]
     },
     "execution_count": 113,
     "metadata": {},
     "output_type": "execute_result"
    }
   ],
   "source": [
    "B"
   ]
  },
  {
   "cell_type": "code",
   "execution_count": 114,
   "id": "30661639",
   "metadata": {},
   "outputs": [
    {
     "data": {
      "text/plain": [
       "[[1, 2], [3, 4]]"
      ]
     },
     "execution_count": 114,
     "metadata": {},
     "output_type": "execute_result"
    }
   ],
   "source": [
    "A"
   ]
  },
  {
   "cell_type": "code",
   "execution_count": 115,
   "id": "f09ff2fd",
   "metadata": {},
   "outputs": [
    {
     "data": {
      "text/plain": [
       "[[5, 6], [7, 8]]"
      ]
     },
     "execution_count": 115,
     "metadata": {},
     "output_type": "execute_result"
    }
   ],
   "source": [
    "B"
   ]
  },
  {
   "cell_type": "code",
   "execution_count": 116,
   "id": "d7441f72",
   "metadata": {},
   "outputs": [
    {
     "ename": "NameError",
     "evalue": "name 'C' is not defined",
     "output_type": "error",
     "traceback": [
      "\u001b[1;31m---------------------------------------------------------------------------\u001b[0m",
      "\u001b[1;31mNameError\u001b[0m                                 Traceback (most recent call last)",
      "\u001b[1;32m<ipython-input-116-6fa8c5733662>\u001b[0m in \u001b[0;36m<module>\u001b[1;34m\u001b[0m\n\u001b[1;32m----> 1\u001b[1;33m \u001b[0mC\u001b[0m\u001b[1;33m\u001b[0m\u001b[1;33m\u001b[0m\u001b[0m\n\u001b[0m",
      "\u001b[1;31mNameError\u001b[0m: name 'C' is not defined"
     ]
    }
   ],
   "source": [
    "C"
   ]
  },
  {
   "cell_type": "code",
   "execution_count": 117,
   "id": "98e457e9",
   "metadata": {},
   "outputs": [],
   "source": [
    "A=[[1,2],[3,4]]"
   ]
  },
  {
   "cell_type": "code",
   "execution_count": 118,
   "id": "2d69e1bc",
   "metadata": {},
   "outputs": [],
   "source": [
    "B=[[5,6],[7,8]]"
   ]
  },
  {
   "cell_type": "code",
   "execution_count": 119,
   "id": "18e4fee6",
   "metadata": {},
   "outputs": [
    {
     "name": "stdout",
     "output_type": "stream",
     "text": [
      "First list:  [[1, 2], [3, 4]]\n",
      "Second list:  [[5, 6], [7, 8]]\n",
      "new list : [[6, 8], [10, 12]]\n"
     ]
    }
   ],
   "source": [
    "\n",
    "c=[]\n",
    "\n",
    "for i in range(2):\n",
    "    j=0\n",
    "    c.append([A[i][j]+B[i][j],A[i][j+1]+B[i][j+1]])\n",
    "print(\"First list: \",A)  \n",
    "print(\"Second list: \",B)  \n",
    "print(\"new list :\",c)"
   ]
  },
  {
   "cell_type": "code",
   "execution_count": 120,
   "id": "6bac0aff",
   "metadata": {},
   "outputs": [],
   "source": [
    "A=[[1,2],[3,4]]"
   ]
  },
  {
   "cell_type": "code",
   "execution_count": 121,
   "id": "789fc1a0",
   "metadata": {},
   "outputs": [],
   "source": [
    "B=[[5,6],[7,8]]"
   ]
  },
  {
   "cell_type": "code",
   "execution_count": 122,
   "id": "fc42e61a",
   "metadata": {},
   "outputs": [
    {
     "data": {
      "text/plain": [
       "[[1, 2], [3, 4]]"
      ]
     },
     "execution_count": 122,
     "metadata": {},
     "output_type": "execute_result"
    }
   ],
   "source": [
    "A"
   ]
  },
  {
   "cell_type": "code",
   "execution_count": 123,
   "id": "2a691024",
   "metadata": {},
   "outputs": [
    {
     "data": {
      "text/plain": [
       "[[5, 6], [7, 8]]"
      ]
     },
     "execution_count": 123,
     "metadata": {},
     "output_type": "execute_result"
    }
   ],
   "source": [
    "\n",
    "B"
   ]
  },
  {
   "cell_type": "code",
   "execution_count": 126,
   "id": "b6461a24",
   "metadata": {},
   "outputs": [],
   "source": [
    "c = [[None, None],\n",
    "    [None, None]]"
   ]
  },
  {
   "cell_type": "code",
   "execution_count": 127,
   "id": "e0e5bfaa",
   "metadata": {},
   "outputs": [
    {
     "data": {
      "text/plain": [
       "[[None, None], [None, None]]"
      ]
     },
     "execution_count": 127,
     "metadata": {},
     "output_type": "execute_result"
    }
   ],
   "source": [
    "c"
   ]
  },
  {
   "cell_type": "code",
   "execution_count": 128,
   "id": "dfbdf558",
   "metadata": {},
   "outputs": [],
   "source": [
    "for i in range(2):\n",
    "    for j in range(2):\n",
    "        c[i][j] = A[i][j] + B[i][j]  "
   ]
  },
  {
   "cell_type": "code",
   "execution_count": 129,
   "id": "0ad4802b",
   "metadata": {},
   "outputs": [
    {
     "data": {
      "text/plain": [
       "[[6, 8], [10, 12]]"
      ]
     },
     "execution_count": 129,
     "metadata": {},
     "output_type": "execute_result"
    }
   ],
   "source": [
    "c"
   ]
  },
  {
   "cell_type": "code",
   "execution_count": 132,
   "id": "2312ff0b",
   "metadata": {},
   "outputs": [
    {
     "data": {
      "text/plain": [
       "[[None, None, None, None, None, None, None, None, None, None],\n",
       " [None, None, None, None, None, None, None, None, None, None],\n",
       " [None, None, None, None, None, None, None, None, None, None],\n",
       " [None, None, None, None, None, None, None, None, None, None],\n",
       " [None, None, None, None, None, None, None, None, None, None],\n",
       " [None, None, None, None, None, None, None, None, None, None],\n",
       " [None, None, None, None, None, None, None, None, None, None],\n",
       " [None, None, None, None, None, None, None, None, None, None],\n",
       " [None, None, None, None, None, None, None, None, None, None],\n",
       " [None, None, None, None, None, None, None, None, None, None]]"
      ]
     },
     "execution_count": 132,
     "metadata": {},
     "output_type": "execute_result"
    }
   ],
   "source": [
    "[[None]*10]*10"
   ]
  },
  {
   "cell_type": "code",
   "execution_count": 133,
   "id": "5f47d667",
   "metadata": {},
   "outputs": [
    {
     "data": {
      "text/plain": [
       "'pythonpythonpythonpythonpythonpythonpythonpythonpythonpythonpythonpythonpythonpythonpython'"
      ]
     },
     "execution_count": 133,
     "metadata": {},
     "output_type": "execute_result"
    }
   ],
   "source": [
    "\"python\"*15"
   ]
  },
  {
   "cell_type": "code",
   "execution_count": 135,
   "id": "344bc336",
   "metadata": {},
   "outputs": [
    {
     "data": {
      "text/plain": [
       "[2, 2, 2, 2, 2, 2, 2, 2, 2, 2, 2, 2, 2, 2, 2]"
      ]
     },
     "execution_count": 135,
     "metadata": {},
     "output_type": "execute_result"
    }
   ],
   "source": [
    "[2]*15"
   ]
  },
  {
   "cell_type": "code",
   "execution_count": 136,
   "id": "1cde2c34",
   "metadata": {},
   "outputs": [],
   "source": [
    "lst = [1,2,3,4,5]"
   ]
  },
  {
   "cell_type": "code",
   "execution_count": 137,
   "id": "213945c9",
   "metadata": {},
   "outputs": [],
   "source": [
    "abc = lst\n",
    "\n",
    "abc.append(159)"
   ]
  },
  {
   "cell_type": "code",
   "execution_count": 138,
   "id": "568a9bdd",
   "metadata": {},
   "outputs": [
    {
     "data": {
      "text/plain": [
       "[1, 2, 3, 4, 5, 159]"
      ]
     },
     "execution_count": 138,
     "metadata": {},
     "output_type": "execute_result"
    }
   ],
   "source": [
    "abc"
   ]
  },
  {
   "cell_type": "code",
   "execution_count": 139,
   "id": "baecdda1",
   "metadata": {},
   "outputs": [
    {
     "data": {
      "text/plain": [
       "[1, 2, 3, 4, 5, 159]"
      ]
     },
     "execution_count": 139,
     "metadata": {},
     "output_type": "execute_result"
    }
   ],
   "source": [
    "lst"
   ]
  },
  {
   "cell_type": "code",
   "execution_count": 140,
   "id": "d3713c0a",
   "metadata": {},
   "outputs": [],
   "source": [
    "pqr  = lst.copy()"
   ]
  },
  {
   "cell_type": "code",
   "execution_count": 141,
   "id": "22e31bbd",
   "metadata": {},
   "outputs": [],
   "source": [
    "pqr.append(147)"
   ]
  },
  {
   "cell_type": "code",
   "execution_count": 142,
   "id": "00c25580",
   "metadata": {},
   "outputs": [
    {
     "data": {
      "text/plain": [
       "[1, 2, 3, 4, 5, 159, 147]"
      ]
     },
     "execution_count": 142,
     "metadata": {},
     "output_type": "execute_result"
    }
   ],
   "source": [
    "pqr"
   ]
  },
  {
   "cell_type": "code",
   "execution_count": 143,
   "id": "01a21f2b",
   "metadata": {},
   "outputs": [
    {
     "data": {
      "text/plain": [
       "[1, 2, 3, 4, 5, 159]"
      ]
     },
     "execution_count": 143,
     "metadata": {},
     "output_type": "execute_result"
    }
   ],
   "source": [
    "lst"
   ]
  },
  {
   "cell_type": "code",
   "execution_count": 144,
   "id": "0a372843",
   "metadata": {},
   "outputs": [],
   "source": [
    "#Given a list (lst) and an int variable(steps). You need to perform right rotation of the given list"
   ]
  },
  {
   "cell_type": "code",
   "execution_count": 152,
   "id": "d60c7e2b",
   "metadata": {},
   "outputs": [],
   "source": [
    "lst = [3,5,2,7,8,9]\n",
    "steps = 2"
   ]
  },
  {
   "cell_type": "code",
   "execution_count": 153,
   "id": "12ec0833",
   "metadata": {},
   "outputs": [],
   "source": [
    "#Right Rotation is defined as :\n",
    "#[1,2,3,4,5,6] ---(1 right rotation)--> [6,1,2,3,4,5]\n",
    "#[1,2,3,4,5,6] ---(2 right rotations)--> [5,6,1,2,3,4]"
   ]
  },
  {
   "cell_type": "code",
   "execution_count": 170,
   "id": "aece3735",
   "metadata": {},
   "outputs": [],
   "source": [
    "lst = [3,5,2,7,8,9]\n",
    "steps = 4"
   ]
  },
  {
   "cell_type": "code",
   "execution_count": 171,
   "id": "7f8d1f13",
   "metadata": {},
   "outputs": [],
   "source": [
    "n = len(lst)-1"
   ]
  },
  {
   "cell_type": "code",
   "execution_count": 172,
   "id": "6b75165d",
   "metadata": {},
   "outputs": [],
   "source": [
    "for _ in range(steps):\n",
    "    key = lst[-1]\n",
    "    for i in range(n,0,-1):\n",
    "        lst[i] = lst[i-1]\n",
    "        \n",
    "    lst[0] = key      "
   ]
  },
  {
   "cell_type": "code",
   "execution_count": 173,
   "id": "d88e5176",
   "metadata": {},
   "outputs": [
    {
     "data": {
      "text/plain": [
       "[2, 7, 8, 9, 3, 5]"
      ]
     },
     "execution_count": 173,
     "metadata": {},
     "output_type": "execute_result"
    }
   ],
   "source": [
    "lst"
   ]
  },
  {
   "cell_type": "code",
   "execution_count": null,
   "id": "2ae09a2a",
   "metadata": {},
   "outputs": [],
   "source": [
    "#Write a program which will find all such numbers which are divisible by 7 but are \n",
    "#not a multiple of 5, between 2000 and 3200 (both included).\n",
    "#The numbers obtained should be printed in a comma-separated sequence on a single line"
   ]
  },
  {
   "cell_type": "code",
   "execution_count": 174,
   "id": "83f8bcff",
   "metadata": {},
   "outputs": [
    {
     "name": "stdout",
     "output_type": "stream",
     "text": [
      "2002,2009,2016,2023,2037,2044,2051,2058,2072,2079,2086,2093,2107,2114,2121,2128,2142,2149,2156,2163,2177,2184,2191,2198,2212,2219,2226,2233,2247,2254,2261,2268,2282,2289,2296,2303,2317,2324,2331,2338,2352,2359,2366,2373,2387,2394,2401,2408,2422,2429,2436,2443,2457,2464,2471,2478,2492,2499,2506,2513,2527,2534,2541,2548,2562,2569,2576,2583,2597,2604,2611,2618,2632,2639,2646,2653,2667,2674,2681,2688,2702,2709,2716,2723,2737,2744,2751,2758,2772,2779,2786,2793,2807,2814,2821,2828,2842,2849,2856,2863,2877,2884,2891,2898,2912,2919,2926,2933,2947,2954,2961,2968,2982,2989,2996,3003,3017,3024,3031,3038,3052,3059,3066,3073,3087,3094,3101,3108,3122,3129,3136,3143,3157,3164,3171,3178,3192,3199,"
     ]
    }
   ],
   "source": [
    "for i in range(2000,3201):\n",
    "    if i%7==0 and i%5!=0:\n",
    "        print(i,end=\",\")\n"
   ]
  },
  {
   "cell_type": "code",
   "execution_count": null,
   "id": "074e5144",
   "metadata": {},
   "outputs": [],
   "source": []
  }
 ],
 "metadata": {
  "kernelspec": {
   "display_name": "Python 3",
   "language": "python",
   "name": "python3"
  },
  "language_info": {
   "codemirror_mode": {
    "name": "ipython",
    "version": 3
   },
   "file_extension": ".py",
   "mimetype": "text/x-python",
   "name": "python",
   "nbconvert_exporter": "python",
   "pygments_lexer": "ipython3",
   "version": "3.8.8"
  }
 },
 "nbformat": 4,
 "nbformat_minor": 5
}
